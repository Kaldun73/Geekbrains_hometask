{
 "cells": [
  {
   "cell_type": "code",
   "execution_count": 1,
   "metadata": {},
   "outputs": [],
   "source": [
    "import numpy as np\n",
    "from numpy.linalg import norm\n",
    "import math"
   ]
  },
  {
   "cell_type": "markdown",
   "metadata": {},
   "source": [
    "__1.__ Найти скалярное произведение векторов $x, y \\in \\mathbb{R}$:<br>\n",
    "а) $x=(0,-3, 6),~y=(-4, 7, 9);$<br>\n",
    "б) $x=(7, -4, 0, 1),~y=(-3, 1, 11, 2).$"
   ]
  },
  {
   "cell_type": "code",
   "execution_count": 3,
   "metadata": {},
   "outputs": [
    {
     "name": "stdout",
     "output_type": "stream",
     "text": [
      "Скалярное произведение x1 и y1:\n",
      "33\n"
     ]
    }
   ],
   "source": [
    "x1 = np.array([0,-3,6])\n",
    "y1 = np.array([-4,7,9])\n",
    "print(f'Скалярное произведение x1 и y1:\\n{np.dot(x1, y1)}')"
   ]
  },
  {
   "cell_type": "code",
   "execution_count": 4,
   "metadata": {},
   "outputs": [
    {
     "name": "stdout",
     "output_type": "stream",
     "text": [
      "Скалярное произведение x2 и y2:\n",
      "-23\n"
     ]
    }
   ],
   "source": [
    "x2 = np.array([7,-4,0,1])\n",
    "y2 = np.array([-3,1,11,2])\n",
    "print(f'Скалярное произведение x2 и y2:\\n{np.dot(x2, y2)}')"
   ]
  },
  {
   "cell_type": "markdown",
   "metadata": {},
   "source": [
    "__2.__ Найти нормы векторов $(4, 2, 4)$ и $(12, 3, 4)$ и угол между ними."
   ]
  },
  {
   "cell_type": "code",
   "execution_count": 9,
   "metadata": {},
   "outputs": [
    {
     "name": "stdout",
     "output_type": "stream",
     "text": [
      "l2 норма вектора a:\n",
      "6.0\n",
      "l2 норма вектора b:\n",
      "13.0\n"
     ]
    }
   ],
   "source": [
    "a = np.array([4, 2, 4])\n",
    "b = np.array([12, 3, 4])\n",
    "print(f'l2 норма вектора a:\\n{norm(a, ord=2)}')\n",
    "print(f'l2 норма вектора b:\\n{norm(b, ord=2)}')"
   ]
  },
  {
   "cell_type": "code",
   "execution_count": 12,
   "metadata": {},
   "outputs": [
    {
     "name": "stdout",
     "output_type": "stream",
     "text": [
      "Косинус угла между a и b: 0.897\n",
      "Угол между a и b: 0.457\n"
     ]
    }
   ],
   "source": [
    "cos_phi = np.dot(a, b) / norm(a) / norm(b)\n",
    "print(f'Косинус угла между a и b: {cos_phi:.3f}')\n",
    "print(f'Угол между a и b: {np.arccos(cos_phi):.3f}')"
   ]
  },
  {
   "cell_type": "markdown",
   "metadata": {},
   "source": [
    "__3.__ Будет ли линейное пространство евклидовым, если за скалярное произведение принять:<br>\n",
    "а) произведение длин векторов;<br>\n",
    "б) утроенное обычное скалярное произведение векторов?\n",
    "   "
   ]
  },
  {
   "cell_type": "code",
   "execution_count": 13,
   "metadata": {},
   "outputs": [
    {
     "name": "stdout",
     "output_type": "stream",
     "text": [
      "Скалярное произведение x1 и y1:\n",
      "33\n",
      "Произведение длин векторов x1 и y1:\n",
      "81.05553651663779\n"
     ]
    }
   ],
   "source": [
    "x1 = np.array([0,-3,6])\n",
    "y1 = np.array([-4,7,9])\n",
    "print(f'Скалярное произведение x1 и y1:\\n{np.dot(x1, y1)}')\n",
    "print(f'Произведение длин векторов x1 и y1:\\n{norm(x1, ord=2)*norm(y1, ord=2)}')\n"
   ]
  },
  {
   "cell_type": "markdown",
   "metadata": {},
   "source": [
    "a) не будет"
   ]
  },
  {
   "cell_type": "code",
   "execution_count": 14,
   "metadata": {},
   "outputs": [
    {
     "name": "stdout",
     "output_type": "stream",
     "text": [
      "Скалярное произведение x1 и y1:\n",
      "99\n",
      "Скалярное произведение x1 и y1:\n",
      "99\n"
     ]
    }
   ],
   "source": [
    "print(f'Скалярное произведение x1 и y1:\\n{3*np.dot(x1, y1)}')\n",
    "print(f'Скалярное произведение x1 и y1:\\n{np.dot(3*x1, y1)}')"
   ]
  },
  {
   "cell_type": "markdown",
   "metadata": {},
   "source": [
    "б) да, будет"
   ]
  },
  {
   "cell_type": "markdown",
   "metadata": {},
   "source": [
    "__4.__ Какие из нижеперечисленных векторов образуют ортонормированный базис в линейном пространстве $\\mathbb{R}^{3}$:<br>\n",
    "а) $(1,0,0),(0,0,1);$ <br>\n"
   ]
  },
  {
   "cell_type": "code",
   "execution_count": 18,
   "metadata": {},
   "outputs": [
    {
     "name": "stdout",
     "output_type": "stream",
     "text": [
      "Скалярное произведение a и b:\n",
      "0\n",
      "Сумма произведений координат векторов a и b:\n",
      "0\n"
     ]
    }
   ],
   "source": [
    "a = np.array([1,0,0])\n",
    "b = np.array([0,0,1])\n",
    "print(f'Скалярное произведение a и b:\\n{np.dot(a, b)}')\n",
    "print(f'Сумма произведений координат векторов a и b:\\n0')"
   ]
  },
  {
   "cell_type": "markdown",
   "metadata": {},
   "source": [
    "Ответ: да"
   ]
  },
  {
   "cell_type": "markdown",
   "metadata": {},
   "source": [
    "б) $(1/\\sqrt{2},-1/\\sqrt{2},0),(1/\\sqrt{2},1/\\sqrt{2},0), (0,0,1);$<br>\n"
   ]
  },
  {
   "cell_type": "code",
   "execution_count": 26,
   "metadata": {},
   "outputs": [],
   "source": [
    "c = np.array([1/np.sqrt(2), -1/np.sqrt(2), 0])\n",
    "d = np.array([1/np.sqrt(2), 1/np.sqrt(2), 0])\n",
    "e = np.array([0, 0, 1])"
   ]
  },
  {
   "cell_type": "code",
   "execution_count": 27,
   "metadata": {},
   "outputs": [
    {
     "name": "stdout",
     "output_type": "stream",
     "text": [
      "Скалярное произведение c, d:\n",
      "0.0\n",
      "Сумма произведений координат векторов a и b:\n",
      "0\n"
     ]
    }
   ],
   "source": [
    "print(f'Скалярное произведение c, d:\\n{np.dot(c, d)}')\n",
    "print(f'Сумма произведений координат векторов c и d:\\n0')"
   ]
  },
  {
   "cell_type": "code",
   "execution_count": 28,
   "metadata": {},
   "outputs": [
    {
     "name": "stdout",
     "output_type": "stream",
     "text": [
      "Скалярное произведение d, e:\n",
      "0.0\n",
      "Сумма произведений координат векторов d и e:\n",
      "0\n"
     ]
    }
   ],
   "source": [
    "print(f'Скалярное произведение d, e:\\n{np.dot(d, e)}')\n",
    "print(f'Сумма произведений координат векторов d и e:\\n0')"
   ]
  },
  {
   "cell_type": "markdown",
   "metadata": {},
   "source": [
    "Ответ: да"
   ]
  },
  {
   "cell_type": "markdown",
   "metadata": {},
   "source": [
    "в) $(1/2, -1/2, 0), (0, 1/2, 1/2), (0,0,1);$<br>\n"
   ]
  },
  {
   "cell_type": "code",
   "execution_count": 29,
   "metadata": {},
   "outputs": [],
   "source": [
    "f = np.array([1/2, -1/2, 0])\n",
    "g = np.array([0, 1/2, 1/2])\n",
    "h = np.array([0, 0, 1])"
   ]
  },
  {
   "cell_type": "code",
   "execution_count": 30,
   "metadata": {},
   "outputs": [
    {
     "name": "stdout",
     "output_type": "stream",
     "text": [
      "Скалярное произведение f, g:\n",
      "-0.25\n",
      "Сумма произведений координат векторов f и g:\n",
      "-1/4\n"
     ]
    }
   ],
   "source": [
    "print(f'Скалярное произведение f, g:\\n{np.dot(f, g)}')\n",
    "print(f'Сумма произведений координат векторов f и g:\\n-1/4')"
   ]
  },
  {
   "cell_type": "code",
   "execution_count": 31,
   "metadata": {},
   "outputs": [
    {
     "name": "stdout",
     "output_type": "stream",
     "text": [
      "Скалярное произведение g, h:\n",
      "0.5\n",
      "Сумма произведений координат векторов g и h:\n",
      "1/2\n"
     ]
    }
   ],
   "source": [
    "print(f'Скалярное произведение g, h:\\n{np.dot(g, h)}')\n",
    "print(f'Сумма произведений координат векторов g и h:\\n1/2')"
   ]
  },
  {
   "cell_type": "markdown",
   "metadata": {},
   "source": [
    "Ответ: да"
   ]
  },
  {
   "cell_type": "markdown",
   "metadata": {},
   "source": [
    "г) $(1,0,0),(0,1,0),(0,0,1)?$ "
   ]
  },
  {
   "cell_type": "code",
   "execution_count": null,
   "metadata": {},
   "outputs": [],
   "source": [
    "i = np.array([1, 0, 0])\n",
    "j = np.array([0, 1, 0])\n",
    "k = np.array([0, 0, 1])"
   ]
  },
  {
   "cell_type": "markdown",
   "metadata": {},
   "source": [
    "Ответ: да, т.к. это декартов прямоугольный базис евклидова пространства $E^{3}$:\n"
   ]
  },
  {
   "cell_type": "code",
   "execution_count": null,
   "metadata": {},
   "outputs": [],
   "source": []
  }
 ],
 "metadata": {
  "kernelspec": {
   "display_name": "Python 3",
   "language": "python",
   "name": "python3"
  },
  "language_info": {
   "codemirror_mode": {
    "name": "ipython",
    "version": 3
   },
   "file_extension": ".py",
   "mimetype": "text/x-python",
   "name": "python",
   "nbconvert_exporter": "python",
   "pygments_lexer": "ipython3",
   "version": "3.7.6"
  }
 },
 "nbformat": 4,
 "nbformat_minor": 4
}
