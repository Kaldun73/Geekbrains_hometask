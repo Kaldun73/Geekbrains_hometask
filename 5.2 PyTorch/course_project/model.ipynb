{
  "nbformat": 4,
  "nbformat_minor": 0,
  "metadata": {
    "colab": {
      "name": "Untitled3.ipynb",
      "provenance": []
    },
    "kernelspec": {
      "display_name": "Python 3",
      "name": "python3"
    }
  },
  "cells": [
    {
      "cell_type": "markdown",
      "metadata": {
        "id": "DM7_97XQzqWL"
      },
      "source": [
        "Курсовая работа\n",
        "\n",
        "Нужно написать приложение, которое будет считывать и выводить кадры с веб-камеры. В процессе считывания определять что перед камерой находится человек, задетектировав его лицо на кадре. После этого, человек показывает жесты руками, а алгоритм должен считать их и определенным образом реагировать на эти жесты. \n",
        "На то, как система будет реагировать на определенные жесты - выбор за вами. Например, на определенный жест (жест пис), система будет здороваться с человеком. На другой, будет делать скриншот экрана. И т.д.\n",
        "Для распознавания жестов, вам надо будет скачать датасет  https://www.kaggle.com/gti-upm/leapgestrecog, разработать модель для обучения и обучить эту модель."
      ]
    },
    {
      "cell_type": "code",
      "metadata": {
        "colab": {
          "background_save": true
        },
        "id": "Oq52CFj9zVCx"
      },
      "source": [
        "import os\n",
        "import torch\n",
        "import torchvision\n",
        "import torch.nn as nn\n",
        "import numpy as np\n",
        "import torch.nn.functional as F\n",
        "from torchvision.datasets import ImageFolder\n",
        "from torch.utils.data import DataLoader\n",
        "import torchvision.transforms as tt\n",
        "from torchvision.utils import make_grid\n",
        "import matplotlib.pyplot as plt\n",
        "%matplotlib inline\n",
        "import time\n",
        "from torch.autograd import Variable\n",
        "import pandas as pd\n",
        "import seaborn\n",
        "from PIL import Image \n",
        "from torch.utils.data import Dataset\n",
        "from torch import optim\n"
      ],
      "execution_count": null,
      "outputs": []
    },
    {
      "cell_type": "code",
      "metadata": {
        "colab": {
          "base_uri": "https://localhost:8080/"
        },
        "id": "VmKNvKj4XRCr",
        "outputId": "eea608ed-730c-4019-dfff-3b4489338881"
      },
      "source": [
        "!nvcc --version"
      ],
      "execution_count": null,
      "outputs": [
        {
          "output_type": "stream",
          "text": [
            "nvcc: NVIDIA (R) Cuda compiler driver\n",
            "Copyright (c) 2005-2020 NVIDIA Corporation\n",
            "Built on Wed_Jul_22_19:09:09_PDT_2020\n",
            "Cuda compilation tools, release 11.0, V11.0.221\n",
            "Build cuda_11.0_bu.TC445_37.28845127_0\n"
          ],
          "name": "stdout"
        }
      ]
    },
    {
      "cell_type": "code",
      "metadata": {
        "colab": {
          "base_uri": "https://localhost:8080/"
        },
        "id": "G79jWN3EBvQ5",
        "outputId": "e15ac684-2f7c-4bf0-bab3-2a28bf88551d"
      },
      "source": [
        "device = torch.device(\"cuda:0\" if torch.cuda.is_available() else \"cpu\")\n",
        "print(device)"
      ],
      "execution_count": null,
      "outputs": [
        {
          "output_type": "stream",
          "text": [
            "cpu\n"
          ],
          "name": "stdout"
        }
      ]
    },
    {
      "cell_type": "code",
      "metadata": {
        "id": "fjmvgmMjXRwo"
      },
      "source": [
        ""
      ],
      "execution_count": null,
      "outputs": []
    },
    {
      "cell_type": "code",
      "metadata": {
        "colab": {
          "base_uri": "https://localhost:8080/"
        },
        "id": "RBUhOZ5yBvN6",
        "outputId": "1a8989f7-a5a9-4a7d-fcef-dba8d1055ec1"
      },
      "source": [
        "data_dir = '../content/drive/MyDrive/Colab_data/leapGestRecog'\n",
        "print(os.listdir(data_dir))"
      ],
      "execution_count": null,
      "outputs": [
        {
          "output_type": "stream",
          "text": [
            "['00', '01', '02', '03', '04', '05', '06', '07', '08', '09']\n"
          ],
          "name": "stdout"
        }
      ]
    },
    {
      "cell_type": "code",
      "metadata": {
        "colab": {
          "base_uri": "https://localhost:8080/"
        },
        "id": "pTAL_0CDBvKu",
        "outputId": "a5b36c83-ffd3-4967-c10a-9a648bd4c169"
      },
      "source": [
        "classes = os.listdir('../content/drive/MyDrive/Colab_data/leapGestRecog/00/')\n",
        "classes"
      ],
      "execution_count": null,
      "outputs": [
        {
          "output_type": "execute_result",
          "data": {
            "text/plain": [
              "['01_palm',\n",
              " '02_l',\n",
              " '03_fist',\n",
              " '04_fist_moved',\n",
              " '05_thumb',\n",
              " '06_index',\n",
              " '07_ok',\n",
              " '08_palm_moved',\n",
              " '09_c',\n",
              " '10_down']"
            ]
          },
          "metadata": {
            "tags": []
          },
          "execution_count": 5
        }
      ]
    },
    {
      "cell_type": "code",
      "metadata": {
        "id": "f2_g2n1-BvHu"
      },
      "source": [
        "class_to_index = {}\n",
        "index_to_class = {}\n",
        "for i, class_name in enumerate(classes):\n",
        "  class_to_index[class_name] = i\n",
        "  index_to_class[i] = class_name"
      ],
      "execution_count": null,
      "outputs": []
    },
    {
      "cell_type": "code",
      "metadata": {
        "colab": {
          "base_uri": "https://localhost:8080/"
        },
        "id": "D7vxq0v6BvBp",
        "outputId": "9951ce8f-a3e7-4def-9d76-9cf33e71cf6f"
      },
      "source": [
        "index_to_class"
      ],
      "execution_count": null,
      "outputs": [
        {
          "output_type": "execute_result",
          "data": {
            "text/plain": [
              "{0: '01_palm',\n",
              " 1: '02_l',\n",
              " 2: '03_fist',\n",
              " 3: '04_fist_moved',\n",
              " 4: '05_thumb',\n",
              " 5: '06_index',\n",
              " 6: '07_ok',\n",
              " 7: '08_palm_moved',\n",
              " 8: '09_c',\n",
              " 9: '10_down'}"
            ]
          },
          "metadata": {
            "tags": []
          },
          "execution_count": 7
        }
      ]
    },
    {
      "cell_type": "code",
      "metadata": {
        "id": "7SMaTL15Bu-u"
      },
      "source": [
        "# Собираем все адреса картинок для добавления в df\n",
        "images_addr = []\n",
        "for root, dirs, files in os.walk('../content/drive/MyDrive/Colab_data/leapGestRecog'):\n",
        "    for name in files:\n",
        "        f = os.path.join(root, name)\n",
        "        images_addr.append(f)"
      ],
      "execution_count": null,
      "outputs": []
    },
    {
      "cell_type": "code",
      "metadata": {
        "colab": {
          "base_uri": "https://localhost:8080/"
        },
        "id": "BaKW-MhSBu70",
        "outputId": "0e4c1960-4a6a-4de5-d2ee-46b03fe22eb1"
      },
      "source": [
        "len(images_addr)\n"
      ],
      "execution_count": null,
      "outputs": [
        {
          "output_type": "execute_result",
          "data": {
            "text/plain": [
              "20000"
            ]
          },
          "metadata": {
            "tags": []
          },
          "execution_count": 9
        }
      ]
    },
    {
      "cell_type": "code",
      "metadata": {
        "colab": {
          "base_uri": "https://localhost:8080/",
          "height": 195
        },
        "id": "zH5-LdubBu41",
        "outputId": "400cc29b-a0d7-418b-d243-041360d6fb03"
      },
      "source": [
        "dataframe = pd.DataFrame(images_addr, columns=['images_addr'])\n",
        "dataframe.head()"
      ],
      "execution_count": null,
      "outputs": [
        {
          "output_type": "execute_result",
          "data": {
            "text/html": [
              "<div>\n",
              "<style scoped>\n",
              "    .dataframe tbody tr th:only-of-type {\n",
              "        vertical-align: middle;\n",
              "    }\n",
              "\n",
              "    .dataframe tbody tr th {\n",
              "        vertical-align: top;\n",
              "    }\n",
              "\n",
              "    .dataframe thead th {\n",
              "        text-align: right;\n",
              "    }\n",
              "</style>\n",
              "<table border=\"1\" class=\"dataframe\">\n",
              "  <thead>\n",
              "    <tr style=\"text-align: right;\">\n",
              "      <th></th>\n",
              "      <th>images_addr</th>\n",
              "    </tr>\n",
              "  </thead>\n",
              "  <tbody>\n",
              "    <tr>\n",
              "      <th>0</th>\n",
              "      <td>../content/drive/MyDrive/Colab_data/leapGestRe...</td>\n",
              "    </tr>\n",
              "    <tr>\n",
              "      <th>1</th>\n",
              "      <td>../content/drive/MyDrive/Colab_data/leapGestRe...</td>\n",
              "    </tr>\n",
              "    <tr>\n",
              "      <th>2</th>\n",
              "      <td>../content/drive/MyDrive/Colab_data/leapGestRe...</td>\n",
              "    </tr>\n",
              "    <tr>\n",
              "      <th>3</th>\n",
              "      <td>../content/drive/MyDrive/Colab_data/leapGestRe...</td>\n",
              "    </tr>\n",
              "    <tr>\n",
              "      <th>4</th>\n",
              "      <td>../content/drive/MyDrive/Colab_data/leapGestRe...</td>\n",
              "    </tr>\n",
              "  </tbody>\n",
              "</table>\n",
              "</div>"
            ],
            "text/plain": [
              "                                         images_addr\n",
              "0  ../content/drive/MyDrive/Colab_data/leapGestRe...\n",
              "1  ../content/drive/MyDrive/Colab_data/leapGestRe...\n",
              "2  ../content/drive/MyDrive/Colab_data/leapGestRe...\n",
              "3  ../content/drive/MyDrive/Colab_data/leapGestRe...\n",
              "4  ../content/drive/MyDrive/Colab_data/leapGestRe..."
            ]
          },
          "metadata": {
            "tags": []
          },
          "execution_count": 10
        }
      ]
    },
    {
      "cell_type": "code",
      "metadata": {
        "colab": {
          "base_uri": "https://localhost:8080/",
          "height": 195
        },
        "id": "6FtXRealBu1x",
        "outputId": "04b380cc-5e7b-463b-f1b8-abc84bfb0c83"
      },
      "source": [
        "# Сформируем индекс напротив адреса каждой картинки в dataframe\n",
        "\n",
        "# Вырезаем из адресов имена классов\n",
        "dataframe['class_index'] = dataframe['images_addr'].apply(lambda x: x.split('/')[7])\n",
        "dataframe.head()"
      ],
      "execution_count": null,
      "outputs": [
        {
          "output_type": "execute_result",
          "data": {
            "text/html": [
              "<div>\n",
              "<style scoped>\n",
              "    .dataframe tbody tr th:only-of-type {\n",
              "        vertical-align: middle;\n",
              "    }\n",
              "\n",
              "    .dataframe tbody tr th {\n",
              "        vertical-align: top;\n",
              "    }\n",
              "\n",
              "    .dataframe thead th {\n",
              "        text-align: right;\n",
              "    }\n",
              "</style>\n",
              "<table border=\"1\" class=\"dataframe\">\n",
              "  <thead>\n",
              "    <tr style=\"text-align: right;\">\n",
              "      <th></th>\n",
              "      <th>images_addr</th>\n",
              "      <th>class_index</th>\n",
              "    </tr>\n",
              "  </thead>\n",
              "  <tbody>\n",
              "    <tr>\n",
              "      <th>0</th>\n",
              "      <td>../content/drive/MyDrive/Colab_data/leapGestRe...</td>\n",
              "      <td>01_palm</td>\n",
              "    </tr>\n",
              "    <tr>\n",
              "      <th>1</th>\n",
              "      <td>../content/drive/MyDrive/Colab_data/leapGestRe...</td>\n",
              "      <td>01_palm</td>\n",
              "    </tr>\n",
              "    <tr>\n",
              "      <th>2</th>\n",
              "      <td>../content/drive/MyDrive/Colab_data/leapGestRe...</td>\n",
              "      <td>01_palm</td>\n",
              "    </tr>\n",
              "    <tr>\n",
              "      <th>3</th>\n",
              "      <td>../content/drive/MyDrive/Colab_data/leapGestRe...</td>\n",
              "      <td>01_palm</td>\n",
              "    </tr>\n",
              "    <tr>\n",
              "      <th>4</th>\n",
              "      <td>../content/drive/MyDrive/Colab_data/leapGestRe...</td>\n",
              "      <td>01_palm</td>\n",
              "    </tr>\n",
              "  </tbody>\n",
              "</table>\n",
              "</div>"
            ],
            "text/plain": [
              "                                         images_addr class_index\n",
              "0  ../content/drive/MyDrive/Colab_data/leapGestRe...     01_palm\n",
              "1  ../content/drive/MyDrive/Colab_data/leapGestRe...     01_palm\n",
              "2  ../content/drive/MyDrive/Colab_data/leapGestRe...     01_palm\n",
              "3  ../content/drive/MyDrive/Colab_data/leapGestRe...     01_palm\n",
              "4  ../content/drive/MyDrive/Colab_data/leapGestRe...     01_palm"
            ]
          },
          "metadata": {
            "tags": []
          },
          "execution_count": 11
        }
      ]
    },
    {
      "cell_type": "code",
      "metadata": {
        "id": "TYVdBPydBuv0"
      },
      "source": [
        "# Произведем замену имени класса на индекс класса\n",
        "dataframe['class_index'] = dataframe['class_index'].apply(lambda x: class_to_index[x])"
      ],
      "execution_count": null,
      "outputs": []
    },
    {
      "cell_type": "code",
      "metadata": {
        "colab": {
          "base_uri": "https://localhost:8080/"
        },
        "id": "El2CXh0VBusz",
        "outputId": "81634683-f817-4252-a1cb-b8936b2752d1"
      },
      "source": [
        "dataframe['class_index'].unique()"
      ],
      "execution_count": null,
      "outputs": [
        {
          "output_type": "execute_result",
          "data": {
            "text/plain": [
              "array([0, 1, 2, 3, 4, 5, 6, 7, 8, 9])"
            ]
          },
          "metadata": {
            "tags": []
          },
          "execution_count": 14
        }
      ]
    },
    {
      "cell_type": "code",
      "metadata": {
        "id": "pIyZ6QSoL9Qn"
      },
      "source": [
        "class CustomDatasetFromImages(Dataset):\n",
        "    def __init__(self, dataframe):\n",
        "        # Подаем наш подготовленный датафрейм\n",
        "        self.dataframe = dataframe\n",
        "        \n",
        "        # Разделяем датафрейм на адреса картинок\n",
        "        self.images_addr_arr = self.dataframe.iloc[:,0]\n",
        "        # и номера классов\n",
        "        self.class_index_arr = self.dataframe.iloc[:,1]\n",
        "        \n",
        "        # Количество пар картинка-сегментация\n",
        "        self.data_len = len(self.dataframe.index)\n",
        "\n",
        "    def __getitem__(self, index):\n",
        "        # Читаем картинку и сразу же представляем ее в виде numpy-массива \n",
        "        image = np.asarray(Image.open(self.images_addr_arr[index])).astype('float')\n",
        "        # Нормализуем изображение в значениях [0,1]\n",
        "        image = torch.as_tensor(image)/255\n",
        "        # Добавляем батч измерение\n",
        "        image = image.unsqueeze(0)\n",
        "        # Без этого дополнительного измерения интерполяция не работает\n",
        "        image = image.unsqueeze(0)\n",
        "        # Мы используем функцию интерполяции для того,\n",
        "        # чтобы поменять рамерность картинки с HхW на 256х256\n",
        "        # clamp не позволяет выйти за границы\n",
        "        image = F.interpolate(input=image, size=256, align_corners=False, mode='bicubic').clamp(min=0, max=1)\n",
        "        # Возвращаемся к 4-м измерениям\n",
        "        image = image.squeeze(1)\n",
        "        \n",
        "        # Читаем индекс класса \n",
        "        class_index = self.class_index_arr[index].astype('int')\n",
        "        \n",
        "        return (image.float(), class_index)\n",
        "\n",
        "    def __len__(self):\n",
        "        return self.data_len"
      ],
      "execution_count": null,
      "outputs": []
    },
    {
      "cell_type": "code",
      "metadata": {
        "id": "R_lBIEG9Mpzt"
      },
      "source": [
        "from sklearn.model_selection import train_test_split\n",
        "\n",
        "# 70 % в тренировочную выборку, 30 - в тестовую\n",
        "X_train, X_test = train_test_split(dataframe, test_size=0.3)\n",
        "\n",
        "# Упорядочиваем индексацию\n",
        "X_train.reset_index(drop=True, inplace=True)\n",
        "X_test.reset_index(drop=True, inplace=True)\n",
        "\n",
        "# Оборачиваем каждую выборку в наш кастомный датасет\n",
        "train_data = CustomDatasetFromImages(X_train)\n",
        "test_data = CustomDatasetFromImages(X_test)"
      ],
      "execution_count": null,
      "outputs": []
    },
    {
      "cell_type": "code",
      "metadata": {
        "id": "t1Pk4narMpwq"
      },
      "source": [
        "train_data_loader = DataLoader(train_data, batch_size=16, shuffle=True)\n",
        "test_data_loader = DataLoader(test_data, batch_size=16, shuffle=False)"
      ],
      "execution_count": null,
      "outputs": []
    },
    {
      "cell_type": "markdown",
      "metadata": {
        "id": "FiLwxhpCNvXR"
      },
      "source": [
        "Создание класса модели"
      ]
    },
    {
      "cell_type": "code",
      "metadata": {
        "id": "aYbzRQwtMpWv"
      },
      "source": [
        "class Net(nn.Module):\n",
        "    def __init__(self):\n",
        "        super().__init__()\n",
        "\n",
        "        self.conv1 = nn.Conv2d(in_channels=1, out_channels=16, kernel_size=3, stride=2, padding=1)\n",
        "        self.conv2 = nn.Conv2d(in_channels=16, out_channels=32, kernel_size=3, stride=2, padding=1)\n",
        "        self.conv3 = nn.Conv2d(in_channels=32, out_channels=64, kernel_size=3, stride=2, padding=1)\n",
        "        self.relu = nn.ReLU()\n",
        "        self.pool = nn.MaxPool2d(2)\n",
        "        self.fc1 = nn.Linear(64*4*4, 128)\n",
        "        self.fc2 = nn.Linear(128, 10)\n",
        "\n",
        "    def forward(self, x):\n",
        "        x = self.conv1(x)\n",
        "        x = self.relu(x)\n",
        "        x = self.pool(x)\n",
        "\n",
        "        x = self.conv2(x)\n",
        "        x = self.relu(x)\n",
        "        x = self.pool(x)\n",
        "        \n",
        "\n",
        "        x = self.conv3(x)\n",
        "        x = self.relu(x)\n",
        "        x = self.pool(x)\n",
        "\n",
        "        x = x.view(-1, 64*4*4)\n",
        "\n",
        "        x = self.fc1(x)\n",
        "        x = self.relu(x)\n",
        "        x = self.fc2(x)\n",
        "\n",
        "        return x"
      ],
      "execution_count": null,
      "outputs": []
    },
    {
      "cell_type": "code",
      "metadata": {
        "colab": {
          "base_uri": "https://localhost:8080/"
        },
        "id": "qHmqT_2-MpTl",
        "outputId": "ba58160e-adea-4c5f-eaec-e207eb16cd6c"
      },
      "source": [
        "# Проверим правильность работы сети, прогнав через нее картинку\n",
        "net = Net().to(device)\n",
        "result = net(image.to(device))\n",
        "result.shape"
      ],
      "execution_count": null,
      "outputs": [
        {
          "output_type": "execute_result",
          "data": {
            "text/plain": [
              "torch.Size([16, 10])"
            ]
          },
          "metadata": {
            "tags": []
          },
          "execution_count": 31
        }
      ]
    },
    {
      "cell_type": "code",
      "metadata": {
        "colab": {
          "base_uri": "https://localhost:8080/"
        },
        "id": "j93eNrIBMpQr",
        "outputId": "69879160-96c4-4b27-ed00-bcc8a1b2bae7"
      },
      "source": [
        "result = torch.argmax(result, dim=1)\n",
        "result"
      ],
      "execution_count": null,
      "outputs": [
        {
          "output_type": "execute_result",
          "data": {
            "text/plain": [
              "tensor([4, 1, 4, 4, 1, 1, 4, 1, 4, 1, 4, 1, 1, 4, 4, 1])"
            ]
          },
          "metadata": {
            "tags": []
          },
          "execution_count": 32
        }
      ]
    },
    {
      "cell_type": "code",
      "metadata": {
        "colab": {
          "base_uri": "https://localhost:8080/"
        },
        "id": "H_CUc_XJNyzz",
        "outputId": "ff3ce21c-f10e-44ee-9e81-4a113ad33840"
      },
      "source": [
        "class_index\n"
      ],
      "execution_count": null,
      "outputs": [
        {
          "output_type": "execute_result",
          "data": {
            "text/plain": [
              "tensor([8, 4, 6, 0, 3, 1, 1, 9, 1, 8, 0, 7, 9, 5, 0, 1])"
            ]
          },
          "metadata": {
            "tags": []
          },
          "execution_count": 33
        }
      ]
    },
    {
      "cell_type": "code",
      "metadata": {
        "colab": {
          "base_uri": "https://localhost:8080/"
        },
        "id": "fAtmxn6-NywH",
        "outputId": "03267a0b-c98d-440e-f317-ee6459652bb6"
      },
      "source": [
        "float(torch.sum(result == class_index.to(device)).item())\n"
      ],
      "execution_count": null,
      "outputs": [
        {
          "output_type": "execute_result",
          "data": {
            "text/plain": [
              "2.0"
            ]
          },
          "metadata": {
            "tags": []
          },
          "execution_count": 34
        }
      ]
    },
    {
      "cell_type": "markdown",
      "metadata": {
        "id": "45gOaMjxPtEH"
      },
      "source": [
        "Обучение модели"
      ]
    },
    {
      "cell_type": "code",
      "metadata": {
        "id": "_a_pgxulNys9"
      },
      "source": [
        "criterion = nn.CrossEntropyLoss()\n",
        "optimizer = optim.Adam(net.parameters(), lr=0.001)"
      ],
      "execution_count": null,
      "outputs": []
    },
    {
      "cell_type": "code",
      "metadata": {
        "colab": {
          "background_save": true,
          "base_uri": "https://localhost:8080/"
        },
        "id": "5Mo7YTyeNyp9",
        "outputId": "808470e7-5543-4193-eb87-05d08b353659"
      },
      "source": [
        "epoch_losses = []\n",
        "batch_size = 16\n",
        "num_epochs = 3\n",
        "\n",
        "for epoch in range(num_epochs):  \n",
        "    train_loss = 0.0\n",
        "    train_acc  = 0.0\n",
        "\n",
        "    epoch_loss = []\n",
        "    epoch_accuracy = []\n",
        "    time1 = time.time()\n",
        "\n",
        "    for batch_idx, data in enumerate(train_data_loader):\n",
        "        inputs, labels = data[0].to(device), data[1].to(device)\n",
        "        optimizer.zero_grad()\n",
        "        outputs = net(inputs)\n",
        "        loss = criterion(outputs, labels)\n",
        "        accuracy = float(torch.sum(torch.argmax(outputs, dim=1) == labels).item())/batch_size\n",
        "        loss.backward()\n",
        "        optimizer.step()\n",
        "        train_loss += loss.item()\n",
        "        train_acc += accuracy\n",
        "        epoch_loss.append(loss.item())\n",
        "        epoch_accuracy.append(accuracy)\n",
        "        if (batch_idx+1) % 100 == 99:\n",
        "            print(f'Train Epoch: {epoch+1}, Train loss: {train_loss/100:.4f}, Train accuracy: {train_acc/100:.4f}')\n",
        "            time2 = time.time()\n",
        "            print(f'Spend time for 100 batches: {time2 - time1:.4f} sec')\n",
        "            time1 = time.time()\n",
        "            train_loss = 0.0\n",
        "            train_acc  = 0.0\n",
        "\n",
        "    total_steps = len(test_data_loader)\n",
        "    val_loss = 0.0\n",
        "    val_acc  = 0.0\n",
        "    with torch.no_grad():\n",
        "        for data in test_data_loader:\n",
        "            inputs, labels = data[0].to(device), data[1].to(device)\n",
        "            outputs = net(inputs)\n",
        "            val_acc += float(torch.sum(torch.argmax(outputs, dim=1) == labels).item())/batch_size\n",
        "            loss = criterion(outputs, labels)\n",
        "            val_loss += loss\n",
        "    print(f'Epoch {epoch+1}, Train loss: {np.mean(epoch_loss):.4f}, '\n",
        "                           f'Train acc: {np.mean(epoch_accuracy):.4f}, ' \n",
        "                           f'Validate loss: {val_loss/total_steps:.4f}, ' \n",
        "                           f'Validate acc: {val_acc/total_steps:.4f}')\n",
        "    epoch_losses.append(epoch_loss) \n",
        "\n",
        "print('Training is finished!')"
      ],
      "execution_count": null,
      "outputs": [
        {
          "output_type": "stream",
          "text": [
            "Train Epoch: 1, Train loss: 1.9024, Train accuracy: 0.2844\n",
            "Spend time for 100 batches: 628.4233 sec\n",
            "Train Epoch: 1, Train loss: 0.8638, Train accuracy: 0.7206\n",
            "Spend time for 100 batches: 568.3084 sec\n",
            "Train Epoch: 1, Train loss: 0.3636, Train accuracy: 0.8862\n",
            "Spend time for 100 batches: 540.8238 sec\n",
            "Train Epoch: 1, Train loss: 0.2036, Train accuracy: 0.9350\n",
            "Spend time for 100 batches: 532.0331 sec\n",
            "Train Epoch: 1, Train loss: 0.1480, Train accuracy: 0.9494\n",
            "Spend time for 100 batches: 537.3890 sec\n",
            "Train Epoch: 1, Train loss: 0.1092, Train accuracy: 0.9681\n",
            "Spend time for 100 batches: 529.5414 sec\n",
            "Train Epoch: 1, Train loss: 0.0709, Train accuracy: 0.9794\n",
            "Spend time for 100 batches: 533.4662 sec\n",
            "Train Epoch: 1, Train loss: 0.0851, Train accuracy: 0.9762\n",
            "Spend time for 100 batches: 528.2799 sec\n",
            "Epoch 1, Train loss: 0.4320, Train acc: 0.8514, Validate loss: 0.0305, Validate acc: 0.9935\n",
            "Train Epoch: 2, Train loss: 0.0455, Train accuracy: 0.9762\n",
            "Spend time for 100 batches: 11.9308 sec\n",
            "Train Epoch: 2, Train loss: 0.0323, Train accuracy: 0.9950\n",
            "Spend time for 100 batches: 11.9204 sec\n",
            "Train Epoch: 2, Train loss: 0.1219, Train accuracy: 0.9694\n",
            "Spend time for 100 batches: 12.0983 sec\n",
            "Train Epoch: 2, Train loss: 0.0314, Train accuracy: 0.9900\n",
            "Spend time for 100 batches: 12.1432 sec\n",
            "Train Epoch: 2, Train loss: 0.0350, Train accuracy: 0.9881\n",
            "Spend time for 100 batches: 12.0761 sec\n",
            "Train Epoch: 2, Train loss: 0.0134, Train accuracy: 0.9962\n",
            "Spend time for 100 batches: 12.1118 sec\n",
            "Train Epoch: 2, Train loss: 0.0349, Train accuracy: 0.9869\n",
            "Spend time for 100 batches: 11.9947 sec\n",
            "Train Epoch: 2, Train loss: 0.0243, Train accuracy: 0.9938\n",
            "Spend time for 100 batches: 11.9930 sec\n",
            "Epoch 2, Train loss: 0.0401, Train acc: 0.9889, Validate loss: 0.0120, Validate acc: 0.9967\n",
            "Train Epoch: 3, Train loss: 0.0101, Train accuracy: 0.9875\n",
            "Spend time for 100 batches: 11.8214 sec\n",
            "Train Epoch: 3, Train loss: 0.0182, Train accuracy: 0.9938\n",
            "Spend time for 100 batches: 11.9358 sec\n",
            "Train Epoch: 3, Train loss: 0.0136, Train accuracy: 0.9969\n",
            "Spend time for 100 batches: 12.1061 sec\n",
            "Train Epoch: 3, Train loss: 0.0034, Train accuracy: 0.9988\n",
            "Spend time for 100 batches: 11.9492 sec\n",
            "Train Epoch: 3, Train loss: 0.0371, Train accuracy: 0.9906\n",
            "Spend time for 100 batches: 12.0663 sec\n",
            "Train Epoch: 3, Train loss: 0.0382, Train accuracy: 0.9888\n",
            "Spend time for 100 batches: 12.1444 sec\n",
            "Train Epoch: 3, Train loss: 0.0344, Train accuracy: 0.9906\n",
            "Spend time for 100 batches: 11.9759 sec\n",
            "Train Epoch: 3, Train loss: 0.0097, Train accuracy: 0.9981\n",
            "Spend time for 100 batches: 12.2048 sec\n",
            "Epoch 3, Train loss: 0.0223, Train acc: 0.9937, Validate loss: 0.0235, Validate acc: 0.9918\n",
            "Training is finished!\n"
          ],
          "name": "stdout"
        }
      ]
    },
    {
      "cell_type": "code",
      "metadata": {
        "colab": {
          "background_save": true
        },
        "id": "MWmeEgOWNymz",
        "outputId": "5d8fbcca-9b46-4d9c-e51a-b91b511cfa5b"
      },
      "source": [
        "losses = [np.mean(loss) for loss in epoch_losses]\n",
        "plt.plot(losses, '-x')\n",
        "plt.xlabel('epoch')\n",
        "plt.ylabel('losses')\n",
        "plt.title('losses vs. No. of epochs')"
      ],
      "execution_count": null,
      "outputs": [
        {
          "output_type": "execute_result",
          "data": {
            "text/plain": [
              "Text(0.5, 1.0, 'losses vs. No. of epochs')"
            ]
          },
          "metadata": {
            "tags": []
          },
          "execution_count": 0
        },
        {
          "output_type": "display_data",
          "data": {
            "image/png": "[encoded data removed]",
            "text/plain": [
              "<Figure size 432x288 with 1 Axes>"
            ]
          },
          "metadata": {
            "tags": []
          }
        }
      ]
    },
    {
      "cell_type": "markdown",
      "metadata": {
        "id": "PwGO2WP5R1o6"
      },
      "source": [
        "Вывод полученных результатов"
      ]
    },
    {
      "cell_type": "code",
      "metadata": {
        "colab": {
          "background_save": true
        },
        "id": "NGHmVZ3xNyj4",
        "outputId": "f6ad8b45-7f57-420d-cf69-d31145d40b5e"
      },
      "source": [
        "\n",
        "N=6\n",
        "\n",
        "test_loader = DataLoader(test_data, batch_size = N, shuffle=True)\n",
        "\n",
        "data_iter = iter(test_loader)\n",
        "images, labels = data_iter.next()\n",
        "net = net.to(device)\n",
        "outputs = net(images.to(device))\n",
        "\n",
        "f, axarr = plt.subplots(1,N, figsize=(15,15))\n",
        "for i in range(N):\n",
        "  axarr[i].imshow(images[i].numpy()[0], cmap='gray')\n",
        "  axarr[i].imshow(images[i].numpy()[0], cmap='gray')\n",
        "  axarr[i].imshow(images[i].numpy()[0], cmap='gray')\n",
        "plt.show()\n",
        "\n",
        "print('GroundTruth: ', ' '.join('%15s' % index_to_class[labels[j].item()] for j in range(N)))\n",
        "_, predicted = torch.max(outputs, 1)\n",
        "print('Predicted:   ', ' '.join('%15s' % index_to_class[predicted[j].item()] for j in range(N)))"
      ],
      "execution_count": null,
      "outputs": [
        {
          "output_type": "display_data",
          "data": {
            "image/png": "[encoded data removed]",
            "text/plain": [
              "<Figure size 1080x1080 with 6 Axes>"
            ]
          },
          "metadata": {
            "tags": []
          }
        },
        {
          "output_type": "stream",
          "text": [
            "GroundTruth:             02_l        06_index         10_down        06_index           07_ok            02_l\n",
            "Predicted:               02_l        06_index         10_down        06_index           07_ok            02_l\n"
          ],
          "name": "stdout"
        }
      ]
    },
    {
      "cell_type": "code",
      "metadata": {
        "colab": {
          "background_save": true
        },
        "id": "GMs0Rh5qNyg9"
      },
      "source": [
        "torch.save(net, '../content/drive/MyDrive/Colab_data/model.pth')"
      ],
      "execution_count": null,
      "outputs": []
    },
    {
      "cell_type": "code",
      "metadata": {
        "colab": {
          "background_save": true
        },
        "id": "6sCpsQynNyd-"
      },
      "source": [
        ""
      ],
      "execution_count": null,
      "outputs": []
    }
  ]
}