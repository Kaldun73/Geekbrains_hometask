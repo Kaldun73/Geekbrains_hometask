{
 "cells": [
  {
   "cell_type": "code",
   "execution_count": 1,
   "metadata": {},
   "outputs": [],
   "source": [
    "# основные модули\n",
    "import numpy as np\n",
    "import pandas as pd\n",
    "import matplotlib.pyplot as plt\n",
    "%matplotlib inline\n",
    "\n",
    "# собственные модулей\n",
    "from src.utils import prefilter_items\n",
    "from src.metrics import precision_at_k, recall_at_k, recall, precision, evaluate_pred\n",
    "\n",
    "# модель для 1го уровня\n",
    "from src.recommenders import MainRecommender\n",
    "\n",
    "# модели для 2го уровня\n",
    "from lightgbm import LGBMClassifier\n",
    "\n",
    "# отключение предупреждений\n",
    "import warnings\n",
    "warnings.filterwarnings('ignore')"
   ]
  },
  {
   "cell_type": "code",
   "execution_count": 2,
   "metadata": {},
   "outputs": [],
   "source": [
    "# создание датафреймов\n",
    "train = pd.read_csv('retail_train.csv')\n",
    "test = pd.read_csv('retail_test1.csv')\n",
    "\n",
    "# зегрузка фичей\n",
    "item_features = pd.read_csv('product.csv')\n",
    "user_features = pd.read_csv('hh_demographic.csv')"
   ]
  },
  {
   "cell_type": "code",
   "execution_count": 3,
   "metadata": {},
   "outputs": [],
   "source": [
    "# Снижение регистров столбцов\n",
    "item_features.columns = [col.lower() for col in item_features.columns]\n",
    "user_features.columns = [col.lower() for col in user_features.columns]\n",
    "\n",
    "# Переименование столбцов\n",
    "item_features.rename(columns={'product_id': 'item_id'}, inplace=True)\n",
    "user_features.rename(columns={'household_key': 'user_id'}, inplace=True)"
   ]
  },
  {
   "cell_type": "code",
   "execution_count": 4,
   "metadata": {},
   "outputs": [],
   "source": [
    "# объединение датафреймов\n",
    "train_ = train.merge(item_features, on='item_id', how='left')\n",
    "train_ = train.merge(user_features, on='user_id', how='left')\n",
    "\n",
    "test_ = test.merge(item_features, on='item_id', how='left')\n",
    "test_ = test.merge(user_features, on='user_id', how='left')"
   ]
  },
  {
   "cell_type": "code",
   "execution_count": 5,
   "metadata": {},
   "outputs": [],
   "source": [
    "# префильтрация\n",
    "train_, test_ = map(prefilter_items, (train_, test_))"
   ]
  },
  {
   "cell_type": "code",
   "execution_count": 6,
   "metadata": {},
   "outputs": [
    {
     "name": "stderr",
     "output_type": "stream",
     "text": [
      "WARNING:root:OpenBLAS detected. Its highly recommend to set the environment variable 'export OPENBLAS_NUM_THREADS=1' to disable its internal multithreading\n"
     ]
    },
    {
     "data": {
      "application/vnd.jupyter.widget-view+json": {
       "model_id": "94bea237f9634d54bb8fe8f89d159305",
       "version_major": 2,
       "version_minor": 0
      },
      "text/plain": [
       "HBox(children=(HTML(value=''), FloatProgress(value=0.0, max=15.0), HTML(value='')))"
      ]
     },
     "metadata": {},
     "output_type": "display_data"
    },
    {
     "name": "stdout",
     "output_type": "stream",
     "text": [
      "\n"
     ]
    },
    {
     "data": {
      "application/vnd.jupyter.widget-view+json": {
       "model_id": "3a40028d926c42a085e0f02a7026d3c1",
       "version_major": 2,
       "version_minor": 0
      },
      "text/plain": [
       "HBox(children=(HTML(value=''), FloatProgress(value=0.0, max=5001.0), HTML(value='')))"
      ]
     },
     "metadata": {},
     "output_type": "display_data"
    },
    {
     "name": "stdout",
     "output_type": "stream",
     "text": [
      "\n"
     ]
    }
   ],
   "source": [
    "# обучение одноуровневой модели\n",
    "recommender_ = MainRecommender(train_)"
   ]
  },
  {
   "cell_type": "code",
   "execution_count": 7,
   "metadata": {},
   "outputs": [
    {
     "data": {
      "text/html": [
       "<div>\n",
       "<style scoped>\n",
       "    .dataframe tbody tr th:only-of-type {\n",
       "        vertical-align: middle;\n",
       "    }\n",
       "\n",
       "    .dataframe tbody tr th {\n",
       "        vertical-align: top;\n",
       "    }\n",
       "\n",
       "    .dataframe thead th {\n",
       "        text-align: right;\n",
       "    }\n",
       "</style>\n",
       "<table border=\"1\" class=\"dataframe\">\n",
       "  <thead>\n",
       "    <tr style=\"text-align: right;\">\n",
       "      <th></th>\n",
       "      <th>user_id</th>\n",
       "      <th>actual</th>\n",
       "    </tr>\n",
       "  </thead>\n",
       "  <tbody>\n",
       "    <tr>\n",
       "      <th>0</th>\n",
       "      <td>1</td>\n",
       "      <td>[999999, 883616, 940947, 959219, 991024, 10049...</td>\n",
       "    </tr>\n",
       "    <tr>\n",
       "      <th>1</th>\n",
       "      <td>2</td>\n",
       "      <td>[999999, 866211, 885023, 899624, 940947, 95141...</td>\n",
       "    </tr>\n",
       "    <tr>\n",
       "      <th>2</th>\n",
       "      <td>3</td>\n",
       "      <td>[989069, 1130858]</td>\n",
       "    </tr>\n",
       "    <tr>\n",
       "      <th>3</th>\n",
       "      <td>6</td>\n",
       "      <td>[847738, 999999, 948650, 1082398, 1100159, 127...</td>\n",
       "    </tr>\n",
       "    <tr>\n",
       "      <th>4</th>\n",
       "      <td>7</td>\n",
       "      <td>[859987, 863407, 895454, 999999, 930918, 95467...</td>\n",
       "    </tr>\n",
       "  </tbody>\n",
       "</table>\n",
       "</div>"
      ],
      "text/plain": [
       "   user_id                                             actual\n",
       "0        1  [999999, 883616, 940947, 959219, 991024, 10049...\n",
       "1        2  [999999, 866211, 885023, 899624, 940947, 95141...\n",
       "2        3                                  [989069, 1130858]\n",
       "3        6  [847738, 999999, 948650, 1082398, 1100159, 127...\n",
       "4        7  [859987, 863407, 895454, 999999, 930918, 95467..."
      ]
     },
     "execution_count": 7,
     "metadata": {},
     "output_type": "execute_result"
    }
   ],
   "source": [
    "# создание фрейма результатов одноуровневой модели\n",
    "result_ = test_.groupby('user_id')['item_id'].unique().reset_index()\n",
    "result_.columns = ['user_id', 'actual']\n",
    "\n",
    "# удаление тех пользователей, на которых модель не обучалась\n",
    "result_ = result_[result_['user_id'].isin(train_['user_id'])]\n",
    "result_.head()"
   ]
  },
  {
   "cell_type": "code",
   "execution_count": 8,
   "metadata": {},
   "outputs": [
    {
     "data": {
      "text/plain": [
       "array([   1,    2,    3, ..., 2498, 2499, 2500], dtype=int64)"
      ]
     },
     "execution_count": 8,
     "metadata": {},
     "output_type": "execute_result"
    }
   ],
   "source": [
    "result_['user_id'].unique()"
   ]
  },
  {
   "cell_type": "code",
   "execution_count": 9,
   "metadata": {},
   "outputs": [
    {
     "name": "stdout",
     "output_type": "stream",
     "text": [
      "Recall:\n",
      "N = 100 als: 0.17847952706423664 own: 0.2344595757013773\n",
      "Recall:\n",
      "N = 150 als: 0.2173434818792079 own: 0.2946341459670466\n",
      "Recall:\n",
      "N = 200 als: 0.2471506493324266 own: 0.3371108046069094\n",
      "Recall:\n",
      "N = 250 als: 0.2716618015886675 own: 0.36921270294981307\n",
      "Recall:\n",
      "N = 300 als: 0.294782523915888 own: 0.3927582881859291\n"
     ]
    }
   ],
   "source": [
    "# подбор числа кандидатов\n",
    "\n",
    "\n",
    "NN = [100, 150, 200, 250, 300]\n",
    "\n",
    "for N in NN:\n",
    "  \n",
    "    result_['als'] = result_['user_id'].apply(lambda x: recommender_.get_als_recommendations(user=x, N=N))# apply\n",
    "    result_['own'] = result_['user_id'].apply(lambda x: recommender_.get_own_recommendations(user=x, N=N))# apply\n",
    "    \n",
    "    als_rec = result_.apply(lambda row: recall(row['als'], row['actual']), axis=1).mean()\n",
    "    own_rec = result_.apply(lambda row: recall(row['own'], row['actual']), axis=1).mean()\n",
    "    \n",
    "    print('Recall:')\n",
    "    print('N = {}'.format(N), 'als: {}'.format(als_rec), 'own: {}'.format(own_rec))"
   ]
  },
  {
   "cell_type": "code",
   "execution_count": null,
   "metadata": {},
   "outputs": [],
   "source": []
  },
  {
   "cell_type": "markdown",
   "metadata": {},
   "source": [
    "### Обучение модели 1 уровня"
   ]
  },
  {
   "cell_type": "code",
   "execution_count": 10,
   "metadata": {},
   "outputs": [],
   "source": [
    "# разбиение на тестовые и трейновые фреймы 1го и 2го уровня\n",
    "weeks = 9\n",
    "\n",
    "# 1й уровень\n",
    "train_lvl1 = train_[train_['week_no'] < train_['week_no'].max() - weeks]\n",
    "test_lvl1 = train_[train_['week_no'] >= train_['week_no'].max() - weeks]\n",
    "\n",
    "# 2й уровень\n",
    "train_lvl2 = test_lvl1.copy()"
   ]
  },
  {
   "cell_type": "code",
   "execution_count": 11,
   "metadata": {},
   "outputs": [
    {
     "data": {
      "application/vnd.jupyter.widget-view+json": {
       "model_id": "ace1ffd6c2d9495ab290f47469906e74",
       "version_major": 2,
       "version_minor": 0
      },
      "text/plain": [
       "HBox(children=(HTML(value=''), FloatProgress(value=0.0, max=15.0), HTML(value='')))"
      ]
     },
     "metadata": {},
     "output_type": "display_data"
    },
    {
     "name": "stdout",
     "output_type": "stream",
     "text": [
      "\n"
     ]
    },
    {
     "data": {
      "application/vnd.jupyter.widget-view+json": {
       "model_id": "7571813dcfe54db2812b32f0f87ce7e0",
       "version_major": 2,
       "version_minor": 0
      },
      "text/plain": [
       "HBox(children=(HTML(value=''), FloatProgress(value=0.0, max=5000.0), HTML(value='')))"
      ]
     },
     "metadata": {},
     "output_type": "display_data"
    },
    {
     "name": "stdout",
     "output_type": "stream",
     "text": [
      "\n"
     ]
    }
   ],
   "source": [
    "# обучение 1го уровня модели\n",
    "recommender_lvl1 = MainRecommender(train_lvl1)"
   ]
  },
  {
   "cell_type": "code",
   "execution_count": 12,
   "metadata": {},
   "outputs": [
    {
     "data": {
      "text/html": [
       "<div>\n",
       "<style scoped>\n",
       "    .dataframe tbody tr th:only-of-type {\n",
       "        vertical-align: middle;\n",
       "    }\n",
       "\n",
       "    .dataframe tbody tr th {\n",
       "        vertical-align: top;\n",
       "    }\n",
       "\n",
       "    .dataframe thead th {\n",
       "        text-align: right;\n",
       "    }\n",
       "</style>\n",
       "<table border=\"1\" class=\"dataframe\">\n",
       "  <thead>\n",
       "    <tr style=\"text-align: right;\">\n",
       "      <th></th>\n",
       "      <th>user_id</th>\n",
       "      <th>actual</th>\n",
       "    </tr>\n",
       "  </thead>\n",
       "  <tbody>\n",
       "    <tr>\n",
       "      <th>0</th>\n",
       "      <td>1</td>\n",
       "      <td>[865456, 999999, 878285, 922281, 940947, 98389...</td>\n",
       "    </tr>\n",
       "    <tr>\n",
       "      <th>1</th>\n",
       "      <td>2</td>\n",
       "      <td>[999999, 839656, 866211, 893867, 1011457, 1103...</td>\n",
       "    </tr>\n",
       "    <tr>\n",
       "      <th>2</th>\n",
       "      <td>3</td>\n",
       "      <td>[999999]</td>\n",
       "    </tr>\n",
       "    <tr>\n",
       "      <th>3</th>\n",
       "      <td>4</td>\n",
       "      <td>[883932, 970760, 1035676, 999999, 831063, 8914...</td>\n",
       "    </tr>\n",
       "    <tr>\n",
       "      <th>4</th>\n",
       "      <td>6</td>\n",
       "      <td>[1024306, 6548453, 1098844, 999999, 8357613, 9...</td>\n",
       "    </tr>\n",
       "  </tbody>\n",
       "</table>\n",
       "</div>"
      ],
      "text/plain": [
       "   user_id                                             actual\n",
       "0        1  [865456, 999999, 878285, 922281, 940947, 98389...\n",
       "1        2  [999999, 839656, 866211, 893867, 1011457, 1103...\n",
       "2        3                                           [999999]\n",
       "3        4  [883932, 970760, 1035676, 999999, 831063, 8914...\n",
       "4        6  [1024306, 6548453, 1098844, 999999, 8357613, 9..."
      ]
     },
     "execution_count": 12,
     "metadata": {},
     "output_type": "execute_result"
    }
   ],
   "source": [
    "# создание фрейма результатов 1го уровня\n",
    "result_lvl1 = test_lvl1.groupby('user_id')['item_id'].unique().reset_index()\n",
    "result_lvl1.columns = ['user_id', 'actual']\n",
    "\n",
    "# удаление тех пользователей, на которых модель не обучалась\n",
    "result_lvl1 = result_lvl1[result_lvl1['user_id'].isin(train_lvl1['user_id'])]\n",
    "result_lvl1.head()"
   ]
  },
  {
   "cell_type": "code",
   "execution_count": 13,
   "metadata": {},
   "outputs": [],
   "source": [
    "result_lvl1['own'] = result_lvl1['user_id'].apply(\n",
    "    lambda x: recommender_lvl1.get_own_recommendations(user=x, N=200)\n",
    ")# apply"
   ]
  },
  {
   "cell_type": "code",
   "execution_count": 14,
   "metadata": {},
   "outputs": [
    {
     "data": {
      "text/html": [
       "<div>\n",
       "<style scoped>\n",
       "    .dataframe tbody tr th:only-of-type {\n",
       "        vertical-align: middle;\n",
       "    }\n",
       "\n",
       "    .dataframe tbody tr th {\n",
       "        vertical-align: top;\n",
       "    }\n",
       "\n",
       "    .dataframe thead th {\n",
       "        text-align: right;\n",
       "    }\n",
       "</style>\n",
       "<table border=\"1\" class=\"dataframe\">\n",
       "  <thead>\n",
       "    <tr style=\"text-align: right;\">\n",
       "      <th></th>\n",
       "      <th>user_id</th>\n",
       "      <th>actual</th>\n",
       "      <th>own</th>\n",
       "    </tr>\n",
       "  </thead>\n",
       "  <tbody>\n",
       "    <tr>\n",
       "      <th>0</th>\n",
       "      <td>1</td>\n",
       "      <td>[865456, 999999, 878285, 922281, 940947, 98389...</td>\n",
       "      <td>[856942, 9297615, 5577022, 9655212, 888104, 10...</td>\n",
       "    </tr>\n",
       "    <tr>\n",
       "      <th>1</th>\n",
       "      <td>2</td>\n",
       "      <td>[999999, 839656, 866211, 893867, 1011457, 1103...</td>\n",
       "      <td>[911974, 1076580, 5567582, 1103898, 1056620, 9...</td>\n",
       "    </tr>\n",
       "    <tr>\n",
       "      <th>2</th>\n",
       "      <td>3</td>\n",
       "      <td>[999999]</td>\n",
       "      <td>[1092937, 1008714, 12132312, 1075979, 998206, ...</td>\n",
       "    </tr>\n",
       "    <tr>\n",
       "      <th>3</th>\n",
       "      <td>4</td>\n",
       "      <td>[883932, 970760, 1035676, 999999, 831063, 8914...</td>\n",
       "      <td>[6391541, 1052294, 891423, 936470, 1137010, 83...</td>\n",
       "    </tr>\n",
       "    <tr>\n",
       "      <th>4</th>\n",
       "      <td>6</td>\n",
       "      <td>[1024306, 6548453, 1098844, 999999, 8357613, 9...</td>\n",
       "      <td>[13003092, 972416, 995598, 923600, 1138596, 10...</td>\n",
       "    </tr>\n",
       "    <tr>\n",
       "      <th>...</th>\n",
       "      <td>...</td>\n",
       "      <td>...</td>\n",
       "      <td>...</td>\n",
       "    </tr>\n",
       "    <tr>\n",
       "      <th>2253</th>\n",
       "      <td>2496</td>\n",
       "      <td>[831509, 999999, 820321, 839243, 865456, 98239...</td>\n",
       "      <td>[983665, 872826, 991546, 1134296, 12452939, 74...</td>\n",
       "    </tr>\n",
       "    <tr>\n",
       "      <th>2254</th>\n",
       "      <td>2497</td>\n",
       "      <td>[824759, 999999, 965430, 970202, 977867, 98128...</td>\n",
       "      <td>[870515, 1102207, 1117219, 1057168, 1135834, 1...</td>\n",
       "    </tr>\n",
       "    <tr>\n",
       "      <th>2255</th>\n",
       "      <td>2498</td>\n",
       "      <td>[865511, 962991, 999999, 5564901, 844991, 9407...</td>\n",
       "      <td>[1022066, 1076580, 1100379, 5565356, 931579, 8...</td>\n",
       "    </tr>\n",
       "    <tr>\n",
       "      <th>2256</th>\n",
       "      <td>2499</td>\n",
       "      <td>[999999, 882308, 865992, 869322, 899624, 90412...</td>\n",
       "      <td>[7168055, 1128395, 6904613, 5570048, 830202, 8...</td>\n",
       "    </tr>\n",
       "    <tr>\n",
       "      <th>2257</th>\n",
       "      <td>2500</td>\n",
       "      <td>[999999, 1013389, 1065538, 5566235, 8019186, 8...</td>\n",
       "      <td>[1063739, 12262832, 1086061, 879393, 1065538, ...</td>\n",
       "    </tr>\n",
       "  </tbody>\n",
       "</table>\n",
       "<p>2254 rows × 3 columns</p>\n",
       "</div>"
      ],
      "text/plain": [
       "      user_id                                             actual  \\\n",
       "0           1  [865456, 999999, 878285, 922281, 940947, 98389...   \n",
       "1           2  [999999, 839656, 866211, 893867, 1011457, 1103...   \n",
       "2           3                                           [999999]   \n",
       "3           4  [883932, 970760, 1035676, 999999, 831063, 8914...   \n",
       "4           6  [1024306, 6548453, 1098844, 999999, 8357613, 9...   \n",
       "...       ...                                                ...   \n",
       "2253     2496  [831509, 999999, 820321, 839243, 865456, 98239...   \n",
       "2254     2497  [824759, 999999, 965430, 970202, 977867, 98128...   \n",
       "2255     2498  [865511, 962991, 999999, 5564901, 844991, 9407...   \n",
       "2256     2499  [999999, 882308, 865992, 869322, 899624, 90412...   \n",
       "2257     2500  [999999, 1013389, 1065538, 5566235, 8019186, 8...   \n",
       "\n",
       "                                                    own  \n",
       "0     [856942, 9297615, 5577022, 9655212, 888104, 10...  \n",
       "1     [911974, 1076580, 5567582, 1103898, 1056620, 9...  \n",
       "2     [1092937, 1008714, 12132312, 1075979, 998206, ...  \n",
       "3     [6391541, 1052294, 891423, 936470, 1137010, 83...  \n",
       "4     [13003092, 972416, 995598, 923600, 1138596, 10...  \n",
       "...                                                 ...  \n",
       "2253  [983665, 872826, 991546, 1134296, 12452939, 74...  \n",
       "2254  [870515, 1102207, 1117219, 1057168, 1135834, 1...  \n",
       "2255  [1022066, 1076580, 1100379, 5565356, 931579, 8...  \n",
       "2256  [7168055, 1128395, 6904613, 5570048, 830202, 8...  \n",
       "2257  [1063739, 12262832, 1086061, 879393, 1065538, ...  \n",
       "\n",
       "[2254 rows x 3 columns]"
      ]
     },
     "execution_count": 14,
     "metadata": {},
     "output_type": "execute_result"
    }
   ],
   "source": [
    "result_lvl1\n"
   ]
  },
  {
   "cell_type": "code",
   "execution_count": 15,
   "metadata": {},
   "outputs": [
    {
     "data": {
      "text/plain": [
       "0.36659393538071816"
      ]
     },
     "execution_count": 15,
     "metadata": {},
     "output_type": "execute_result"
    }
   ],
   "source": [
    "result_lvl1.apply(lambda row: recall(row['own'], row['actual']), axis=1).mean()\n"
   ]
  },
  {
   "cell_type": "code",
   "execution_count": 16,
   "metadata": {},
   "outputs": [
    {
     "data": {
      "text/plain": [
       "0.20896184560780592"
      ]
     },
     "execution_count": 16,
     "metadata": {},
     "output_type": "execute_result"
    }
   ],
   "source": [
    "result_lvl1.apply(lambda row: precision_at_k(row['own'], row['actual']), axis=1).mean()\n"
   ]
  },
  {
   "cell_type": "markdown",
   "metadata": {},
   "source": [
    "### Обучение 2го уровня модели"
   ]
  },
  {
   "cell_type": "code",
   "execution_count": 17,
   "metadata": {},
   "outputs": [
    {
     "data": {
      "text/html": [
       "<div>\n",
       "<style scoped>\n",
       "    .dataframe tbody tr th:only-of-type {\n",
       "        vertical-align: middle;\n",
       "    }\n",
       "\n",
       "    .dataframe tbody tr th {\n",
       "        vertical-align: top;\n",
       "    }\n",
       "\n",
       "    .dataframe thead th {\n",
       "        text-align: right;\n",
       "    }\n",
       "</style>\n",
       "<table border=\"1\" class=\"dataframe\">\n",
       "  <thead>\n",
       "    <tr style=\"text-align: right;\">\n",
       "      <th></th>\n",
       "      <th>user_id</th>\n",
       "      <th>candidates</th>\n",
       "    </tr>\n",
       "  </thead>\n",
       "  <tbody>\n",
       "    <tr>\n",
       "      <th>0</th>\n",
       "      <td>2021</td>\n",
       "      <td>[950935, 1119454, 835578, 863762, 1019142, 102...</td>\n",
       "    </tr>\n",
       "    <tr>\n",
       "      <th>1</th>\n",
       "      <td>1753</td>\n",
       "      <td>[967041, 963686, 948640, 1057168, 942475, 9553...</td>\n",
       "    </tr>\n",
       "    <tr>\n",
       "      <th>2</th>\n",
       "      <td>2120</td>\n",
       "      <td>[5707857, 1029743, 1106523, 5569230, 916122, 8...</td>\n",
       "    </tr>\n",
       "    <tr>\n",
       "      <th>3</th>\n",
       "      <td>1346</td>\n",
       "      <td>[1135983, 5569309, 1129982, 5574377, 5569993, ...</td>\n",
       "    </tr>\n",
       "    <tr>\n",
       "      <th>4</th>\n",
       "      <td>2430</td>\n",
       "      <td>[9392700, 9803545, 1020770, 967041, 831161, 97...</td>\n",
       "    </tr>\n",
       "  </tbody>\n",
       "</table>\n",
       "</div>"
      ],
      "text/plain": [
       "   user_id                                         candidates\n",
       "0     2021  [950935, 1119454, 835578, 863762, 1019142, 102...\n",
       "1     1753  [967041, 963686, 948640, 1057168, 942475, 9553...\n",
       "2     2120  [5707857, 1029743, 1106523, 5569230, 916122, 8...\n",
       "3     1346  [1135983, 5569309, 1129982, 5574377, 5569993, ...\n",
       "4     2430  [9392700, 9803545, 1020770, 967041, 831161, 97..."
      ]
     },
     "execution_count": 17,
     "metadata": {},
     "output_type": "execute_result"
    }
   ],
   "source": [
    "# формирование фрейма с результатами прогнозирования 1го уровня для 2го уровня\n",
    "result_lvl2 = pd.DataFrame(train_lvl2['user_id'].unique())\n",
    "result_lvl2.columns = ['user_id']\n",
    "\n",
    "# отбор пользователей для горячего старта\n",
    "train_users = train_lvl1['user_id'].unique()\n",
    "result_lvl2 = result_lvl2[result_lvl2['user_id'].isin(train_users)]\n",
    "\n",
    "# Добавление по 100 items которые отбирает 1 уровень модели\n",
    "result_lvl2['candidates'] = result_lvl2['user_id'].apply(lambda x: recommender_lvl1.get_own_recommendations(x, N=200))\n",
    "\n",
    "result_lvl2.head()"
   ]
  },
  {
   "cell_type": "code",
   "execution_count": 18,
   "metadata": {},
   "outputs": [
    {
     "data": {
      "text/html": [
       "<div>\n",
       "<style scoped>\n",
       "    .dataframe tbody tr th:only-of-type {\n",
       "        vertical-align: middle;\n",
       "    }\n",
       "\n",
       "    .dataframe tbody tr th {\n",
       "        vertical-align: top;\n",
       "    }\n",
       "\n",
       "    .dataframe thead th {\n",
       "        text-align: right;\n",
       "    }\n",
       "</style>\n",
       "<table border=\"1\" class=\"dataframe\">\n",
       "  <thead>\n",
       "    <tr style=\"text-align: right;\">\n",
       "      <th></th>\n",
       "      <th>user_id</th>\n",
       "      <th>item_id</th>\n",
       "    </tr>\n",
       "  </thead>\n",
       "  <tbody>\n",
       "    <tr>\n",
       "      <th>0</th>\n",
       "      <td>2021</td>\n",
       "      <td>950935</td>\n",
       "    </tr>\n",
       "    <tr>\n",
       "      <th>1</th>\n",
       "      <td>2021</td>\n",
       "      <td>1119454</td>\n",
       "    </tr>\n",
       "    <tr>\n",
       "      <th>2</th>\n",
       "      <td>2021</td>\n",
       "      <td>835578</td>\n",
       "    </tr>\n",
       "    <tr>\n",
       "      <th>3</th>\n",
       "      <td>2021</td>\n",
       "      <td>863762</td>\n",
       "    </tr>\n",
       "    <tr>\n",
       "      <th>4</th>\n",
       "      <td>2021</td>\n",
       "      <td>1019142</td>\n",
       "    </tr>\n",
       "  </tbody>\n",
       "</table>\n",
       "</div>"
      ],
      "text/plain": [
       "   user_id  item_id\n",
       "0     2021   950935\n",
       "1     2021  1119454\n",
       "2     2021   835578\n",
       "3     2021   863762\n",
       "4     2021  1019142"
      ]
     },
     "execution_count": 18,
     "metadata": {},
     "output_type": "execute_result"
    }
   ],
   "source": [
    "# формирование фрейма для 2го уровня модели\n",
    "\n",
    "# вытаскиваем всех пользователей\n",
    "users_array = result_lvl2['user_id'].values\n",
    "\n",
    "# вытаскиваем все items\n",
    "candidates_lists = result_lvl2['candidates']\n",
    "len_candidates= len(candidates_lists[0])\n",
    "candidates_array = candidates_lists.values\n",
    "\n",
    "# формируем фрейм с спрогнозированными результатами\n",
    "df = pd.DataFrame({'user_id':users_array.repeat(len_candidates),\n",
    "                   'item_id':np.concatenate(candidates_array)})\n",
    "df.head()"
   ]
  },
  {
   "cell_type": "code",
   "execution_count": 19,
   "metadata": {},
   "outputs": [
    {
     "data": {
      "text/html": [
       "<div>\n",
       "<style scoped>\n",
       "    .dataframe tbody tr th:only-of-type {\n",
       "        vertical-align: middle;\n",
       "    }\n",
       "\n",
       "    .dataframe tbody tr th {\n",
       "        vertical-align: top;\n",
       "    }\n",
       "\n",
       "    .dataframe thead th {\n",
       "        text-align: right;\n",
       "    }\n",
       "</style>\n",
       "<table border=\"1\" class=\"dataframe\">\n",
       "  <thead>\n",
       "    <tr style=\"text-align: right;\">\n",
       "      <th></th>\n",
       "      <th>user_id</th>\n",
       "      <th>item_id</th>\n",
       "      <th>target</th>\n",
       "    </tr>\n",
       "  </thead>\n",
       "  <tbody>\n",
       "    <tr>\n",
       "      <th>0</th>\n",
       "      <td>2021</td>\n",
       "      <td>950935</td>\n",
       "      <td>0.0</td>\n",
       "    </tr>\n",
       "    <tr>\n",
       "      <th>1</th>\n",
       "      <td>2021</td>\n",
       "      <td>1119454</td>\n",
       "      <td>0.0</td>\n",
       "    </tr>\n",
       "    <tr>\n",
       "      <th>2</th>\n",
       "      <td>2021</td>\n",
       "      <td>835578</td>\n",
       "      <td>0.0</td>\n",
       "    </tr>\n",
       "    <tr>\n",
       "      <th>3</th>\n",
       "      <td>2021</td>\n",
       "      <td>863762</td>\n",
       "      <td>0.0</td>\n",
       "    </tr>\n",
       "    <tr>\n",
       "      <th>4</th>\n",
       "      <td>2021</td>\n",
       "      <td>1019142</td>\n",
       "      <td>1.0</td>\n",
       "    </tr>\n",
       "    <tr>\n",
       "      <th>...</th>\n",
       "      <td>...</td>\n",
       "      <td>...</td>\n",
       "      <td>...</td>\n",
       "    </tr>\n",
       "    <tr>\n",
       "      <th>464091</th>\n",
       "      <td>832</td>\n",
       "      <td>1000237</td>\n",
       "      <td>0.0</td>\n",
       "    </tr>\n",
       "    <tr>\n",
       "      <th>464092</th>\n",
       "      <td>832</td>\n",
       "      <td>904129</td>\n",
       "      <td>0.0</td>\n",
       "    </tr>\n",
       "    <tr>\n",
       "      <th>464093</th>\n",
       "      <td>832</td>\n",
       "      <td>909268</td>\n",
       "      <td>0.0</td>\n",
       "    </tr>\n",
       "    <tr>\n",
       "      <th>464094</th>\n",
       "      <td>832</td>\n",
       "      <td>823721</td>\n",
       "      <td>0.0</td>\n",
       "    </tr>\n",
       "    <tr>\n",
       "      <th>464095</th>\n",
       "      <td>832</td>\n",
       "      <td>9245106</td>\n",
       "      <td>0.0</td>\n",
       "    </tr>\n",
       "  </tbody>\n",
       "</table>\n",
       "<p>464096 rows × 3 columns</p>\n",
       "</div>"
      ],
      "text/plain": [
       "        user_id  item_id  target\n",
       "0          2021   950935     0.0\n",
       "1          2021  1119454     0.0\n",
       "2          2021   835578     0.0\n",
       "3          2021   863762     0.0\n",
       "4          2021  1019142     1.0\n",
       "...         ...      ...     ...\n",
       "464091      832  1000237     0.0\n",
       "464092      832   904129     0.0\n",
       "464093      832   909268     0.0\n",
       "464094      832   823721     0.0\n",
       "464095      832  9245106     0.0\n",
       "\n",
       "[464096 rows x 3 columns]"
      ]
     },
     "execution_count": 19,
     "metadata": {},
     "output_type": "execute_result"
    }
   ],
   "source": [
    "# Формируем фрейм рекоммендаций user_item\n",
    "\n",
    "# фиксируем фактическое взаимодействие\n",
    "targets_train_lvl2 = train_lvl2[['user_id', 'item_id']].copy()\n",
    "# отмечаем их как 1\n",
    "targets_train_lvl2['target'] = 1\n",
    "\n",
    "# объединяем фрейм фактического взаимодействия с предсказанным по совпадению пользователь-товар\n",
    "targets_train_lvl2 = df.merge(targets_train_lvl2, on=['user_id', 'item_id'], how='left')\n",
    "# если появятся не зафиксированные взаимодействия, отметим их как 0 \n",
    "targets_train_lvl2['target'].fillna(0, inplace=True)\n",
    "\n",
    "targets_train_lvl2"
   ]
  },
  {
   "cell_type": "code",
   "execution_count": 20,
   "metadata": {},
   "outputs": [
    {
     "data": {
      "text/html": [
       "<div>\n",
       "<style scoped>\n",
       "    .dataframe tbody tr th:only-of-type {\n",
       "        vertical-align: middle;\n",
       "    }\n",
       "\n",
       "    .dataframe tbody tr th {\n",
       "        vertical-align: top;\n",
       "    }\n",
       "\n",
       "    .dataframe thead th {\n",
       "        text-align: right;\n",
       "    }\n",
       "</style>\n",
       "<table border=\"1\" class=\"dataframe\">\n",
       "  <thead>\n",
       "    <tr style=\"text-align: right;\">\n",
       "      <th></th>\n",
       "      <th>user_id</th>\n",
       "      <th>item_id</th>\n",
       "      <th>target</th>\n",
       "      <th>manufacturer</th>\n",
       "      <th>department</th>\n",
       "      <th>brand</th>\n",
       "      <th>commodity_desc</th>\n",
       "      <th>sub_commodity_desc</th>\n",
       "      <th>curr_size_of_product</th>\n",
       "      <th>age_desc</th>\n",
       "      <th>marital_status_code</th>\n",
       "      <th>income_desc</th>\n",
       "      <th>homeowner_desc</th>\n",
       "      <th>hh_comp_desc</th>\n",
       "      <th>household_size_desc</th>\n",
       "      <th>kid_category_desc</th>\n",
       "    </tr>\n",
       "  </thead>\n",
       "  <tbody>\n",
       "    <tr>\n",
       "      <th>0</th>\n",
       "      <td>2021</td>\n",
       "      <td>950935</td>\n",
       "      <td>0.0</td>\n",
       "      <td>2193</td>\n",
       "      <td>GROCERY</td>\n",
       "      <td>National</td>\n",
       "      <td>FRZN NOVELTIES/WTR ICE</td>\n",
       "      <td>WATER ICE</td>\n",
       "      <td>24 CT</td>\n",
       "      <td>NaN</td>\n",
       "      <td>NaN</td>\n",
       "      <td>NaN</td>\n",
       "      <td>NaN</td>\n",
       "      <td>NaN</td>\n",
       "      <td>NaN</td>\n",
       "      <td>NaN</td>\n",
       "    </tr>\n",
       "    <tr>\n",
       "      <th>1</th>\n",
       "      <td>2021</td>\n",
       "      <td>1119454</td>\n",
       "      <td>0.0</td>\n",
       "      <td>910</td>\n",
       "      <td>GROCERY</td>\n",
       "      <td>National</td>\n",
       "      <td>BAKED BREAD/BUNS/ROLLS</td>\n",
       "      <td>HAMBURGER BUNS</td>\n",
       "      <td>8 OZ</td>\n",
       "      <td>NaN</td>\n",
       "      <td>NaN</td>\n",
       "      <td>NaN</td>\n",
       "      <td>NaN</td>\n",
       "      <td>NaN</td>\n",
       "      <td>NaN</td>\n",
       "      <td>NaN</td>\n",
       "    </tr>\n",
       "    <tr>\n",
       "      <th>2</th>\n",
       "      <td>2021</td>\n",
       "      <td>835578</td>\n",
       "      <td>0.0</td>\n",
       "      <td>539</td>\n",
       "      <td>DRUG GM</td>\n",
       "      <td>National</td>\n",
       "      <td>CIGARETTES</td>\n",
       "      <td>CIGARETTES</td>\n",
       "      <td>971267  PK</td>\n",
       "      <td>NaN</td>\n",
       "      <td>NaN</td>\n",
       "      <td>NaN</td>\n",
       "      <td>NaN</td>\n",
       "      <td>NaN</td>\n",
       "      <td>NaN</td>\n",
       "      <td>NaN</td>\n",
       "    </tr>\n",
       "    <tr>\n",
       "      <th>3</th>\n",
       "      <td>2021</td>\n",
       "      <td>863762</td>\n",
       "      <td>0.0</td>\n",
       "      <td>6046</td>\n",
       "      <td>DRUG GM</td>\n",
       "      <td>National</td>\n",
       "      <td>PREPAID WIRELESS&amp;ACCESSORIES</td>\n",
       "      <td>PREPAID WIRELESS CARDS</td>\n",
       "      <td></td>\n",
       "      <td>NaN</td>\n",
       "      <td>NaN</td>\n",
       "      <td>NaN</td>\n",
       "      <td>NaN</td>\n",
       "      <td>NaN</td>\n",
       "      <td>NaN</td>\n",
       "      <td>NaN</td>\n",
       "    </tr>\n",
       "    <tr>\n",
       "      <th>4</th>\n",
       "      <td>2021</td>\n",
       "      <td>1019142</td>\n",
       "      <td>1.0</td>\n",
       "      <td>1007</td>\n",
       "      <td>MEAT-PCKGD</td>\n",
       "      <td>National</td>\n",
       "      <td>BREAKFAST SAUSAGE/SANDWICHES</td>\n",
       "      <td>ROLLS - FLAVORED/OTHER</td>\n",
       "      <td>1 LB</td>\n",
       "      <td>NaN</td>\n",
       "      <td>NaN</td>\n",
       "      <td>NaN</td>\n",
       "      <td>NaN</td>\n",
       "      <td>NaN</td>\n",
       "      <td>NaN</td>\n",
       "      <td>NaN</td>\n",
       "    </tr>\n",
       "  </tbody>\n",
       "</table>\n",
       "</div>"
      ],
      "text/plain": [
       "   user_id  item_id  target  manufacturer  department     brand  \\\n",
       "0     2021   950935     0.0          2193     GROCERY  National   \n",
       "1     2021  1119454     0.0           910     GROCERY  National   \n",
       "2     2021   835578     0.0           539     DRUG GM  National   \n",
       "3     2021   863762     0.0          6046     DRUG GM  National   \n",
       "4     2021  1019142     1.0          1007  MEAT-PCKGD  National   \n",
       "\n",
       "                 commodity_desc      sub_commodity_desc curr_size_of_product  \\\n",
       "0        FRZN NOVELTIES/WTR ICE               WATER ICE                24 CT   \n",
       "1        BAKED BREAD/BUNS/ROLLS          HAMBURGER BUNS                 8 OZ   \n",
       "2                    CIGARETTES              CIGARETTES           971267  PK   \n",
       "3  PREPAID WIRELESS&ACCESSORIES  PREPAID WIRELESS CARDS                        \n",
       "4  BREAKFAST SAUSAGE/SANDWICHES  ROLLS - FLAVORED/OTHER                 1 LB   \n",
       "\n",
       "  age_desc marital_status_code income_desc homeowner_desc hh_comp_desc  \\\n",
       "0      NaN                 NaN         NaN            NaN          NaN   \n",
       "1      NaN                 NaN         NaN            NaN          NaN   \n",
       "2      NaN                 NaN         NaN            NaN          NaN   \n",
       "3      NaN                 NaN         NaN            NaN          NaN   \n",
       "4      NaN                 NaN         NaN            NaN          NaN   \n",
       "\n",
       "  household_size_desc kid_category_desc  \n",
       "0                 NaN               NaN  \n",
       "1                 NaN               NaN  \n",
       "2                 NaN               NaN  \n",
       "3                 NaN               NaN  \n",
       "4                 NaN               NaN  "
      ]
     },
     "execution_count": 20,
     "metadata": {},
     "output_type": "execute_result"
    }
   ],
   "source": [
    "# Добавляем фичи для user, items и user_items\n",
    "targets_train_lvl2 = targets_train_lvl2.merge(item_features, on='item_id', how='left')\n",
    "targets_train_lvl2 = targets_train_lvl2.merge(user_features, on='user_id', how='left')\n",
    "\n",
    "targets_train_lvl2.head()"
   ]
  },
  {
   "cell_type": "code",
   "execution_count": 21,
   "metadata": {},
   "outputs": [],
   "source": [
    "X_train = targets_train_lvl2.drop('target', axis=1)\n",
    "y_train = targets_train_lvl2[['target']]\n",
    "\n",
    "# Отмечаем категориальные признаки\n",
    "cat_feats = X_train.columns[2:].tolist()\n",
    "X_train[cat_feats] = X_train[cat_feats].astype('category')"
   ]
  },
  {
   "cell_type": "markdown",
   "metadata": {},
   "source": [
    "### Обучение LightGBM"
   ]
  },
  {
   "cell_type": "code",
   "execution_count": 22,
   "metadata": {},
   "outputs": [
    {
     "data": {
      "text/plain": [
       "array([0., 0., 0., ..., 0., 0., 0.])"
      ]
     },
     "execution_count": 22,
     "metadata": {},
     "output_type": "execute_result"
    }
   ],
   "source": [
    "lgb = LGBMClassifier(objective='binary', max_depth=7, categorical_column=cat_feats)\n",
    "lgb.fit(X_train, y_train)\n",
    "\n",
    "# прогнозирование train выборки\n",
    "train_preds = lgb.predict(X_train)\n",
    "train_preds"
   ]
  },
  {
   "cell_type": "code",
   "execution_count": 23,
   "metadata": {},
   "outputs": [],
   "source": [
    "def eval_lgbm(targets, preds, k=5):\n",
    "    targets['recommend'] = preds\n",
    "    targets = targets[['user_id', 'item_id', 'target', 'recommend']]\n",
    "    \n",
    "    target = targets[targets['target'] == 1]\n",
    "    target = target.groupby('user_id')['item_id'].unique().reset_index()\n",
    "    target.columns = ['user_id', 'target']\n",
    "    \n",
    "    recommend = targets[targets['recommend'] == 1]\n",
    "    recommend = recommend.groupby('user_id')['item_id'].unique().reset_index()\n",
    "    recommend.columns = ['user_id', 'recommend']\n",
    "    \n",
    "    target_recommend = target.merge(recommend, on='user_id')\n",
    "    \n",
    "    result = evaluate_pred(data=target_recommend, true='target', k=k)\n",
    "    \n",
    "    return result"
   ]
  },
  {
   "cell_type": "code",
   "execution_count": 24,
   "metadata": {},
   "outputs": [
    {
     "name": "stdout",
     "output_type": "stream",
     "text": [
      "recommend : 0.5254981884057971\n"
     ]
    },
    {
     "data": {
      "text/plain": [
       "{'recommend': 0.5254981884057971}"
      ]
     },
     "execution_count": 24,
     "metadata": {},
     "output_type": "execute_result"
    }
   ],
   "source": [
    "eval_lgbm(targets=targets_train_lvl2, preds=train_preds)\n"
   ]
  },
  {
   "cell_type": "code",
   "execution_count": 25,
   "metadata": {},
   "outputs": [
    {
     "data": {
      "text/html": [
       "<div>\n",
       "<style scoped>\n",
       "    .dataframe tbody tr th:only-of-type {\n",
       "        vertical-align: middle;\n",
       "    }\n",
       "\n",
       "    .dataframe tbody tr th {\n",
       "        vertical-align: top;\n",
       "    }\n",
       "\n",
       "    .dataframe thead th {\n",
       "        text-align: right;\n",
       "    }\n",
       "</style>\n",
       "<table border=\"1\" class=\"dataframe\">\n",
       "  <thead>\n",
       "    <tr style=\"text-align: right;\">\n",
       "      <th></th>\n",
       "      <th>user_id</th>\n",
       "      <th>item_id</th>\n",
       "      <th>target</th>\n",
       "    </tr>\n",
       "  </thead>\n",
       "  <tbody>\n",
       "    <tr>\n",
       "      <th>0</th>\n",
       "      <td>2021</td>\n",
       "      <td>950935</td>\n",
       "      <td>0.0</td>\n",
       "    </tr>\n",
       "    <tr>\n",
       "      <th>1</th>\n",
       "      <td>2021</td>\n",
       "      <td>1119454</td>\n",
       "      <td>0.0</td>\n",
       "    </tr>\n",
       "    <tr>\n",
       "      <th>2</th>\n",
       "      <td>2021</td>\n",
       "      <td>835578</td>\n",
       "      <td>0.0</td>\n",
       "    </tr>\n",
       "    <tr>\n",
       "      <th>3</th>\n",
       "      <td>2021</td>\n",
       "      <td>863762</td>\n",
       "      <td>0.0</td>\n",
       "    </tr>\n",
       "    <tr>\n",
       "      <th>4</th>\n",
       "      <td>2021</td>\n",
       "      <td>1019142</td>\n",
       "      <td>0.0</td>\n",
       "    </tr>\n",
       "    <tr>\n",
       "      <th>...</th>\n",
       "      <td>...</td>\n",
       "      <td>...</td>\n",
       "      <td>...</td>\n",
       "    </tr>\n",
       "    <tr>\n",
       "      <th>453093</th>\n",
       "      <td>832</td>\n",
       "      <td>1000237</td>\n",
       "      <td>0.0</td>\n",
       "    </tr>\n",
       "    <tr>\n",
       "      <th>453094</th>\n",
       "      <td>832</td>\n",
       "      <td>904129</td>\n",
       "      <td>0.0</td>\n",
       "    </tr>\n",
       "    <tr>\n",
       "      <th>453095</th>\n",
       "      <td>832</td>\n",
       "      <td>909268</td>\n",
       "      <td>0.0</td>\n",
       "    </tr>\n",
       "    <tr>\n",
       "      <th>453096</th>\n",
       "      <td>832</td>\n",
       "      <td>823721</td>\n",
       "      <td>0.0</td>\n",
       "    </tr>\n",
       "    <tr>\n",
       "      <th>453097</th>\n",
       "      <td>832</td>\n",
       "      <td>9245106</td>\n",
       "      <td>0.0</td>\n",
       "    </tr>\n",
       "  </tbody>\n",
       "</table>\n",
       "<p>453098 rows × 3 columns</p>\n",
       "</div>"
      ],
      "text/plain": [
       "        user_id  item_id  target\n",
       "0          2021   950935     0.0\n",
       "1          2021  1119454     0.0\n",
       "2          2021   835578     0.0\n",
       "3          2021   863762     0.0\n",
       "4          2021  1019142     0.0\n",
       "...         ...      ...     ...\n",
       "453093      832  1000237     0.0\n",
       "453094      832   904129     0.0\n",
       "453095      832   909268     0.0\n",
       "453096      832   823721     0.0\n",
       "453097      832  9245106     0.0\n",
       "\n",
       "[453098 rows x 3 columns]"
      ]
     },
     "execution_count": 25,
     "metadata": {},
     "output_type": "execute_result"
    }
   ],
   "source": [
    "targets_test_lvl2 = test[['user_id', 'item_id']].copy()\n",
    "targets_test_lvl2['target'] = 1\n",
    "\n",
    "targets_test_lvl2 = df.merge(targets_test_lvl2, on=['user_id', 'item_id'], how='left')\n",
    "\n",
    "targets_test_lvl2['target'].fillna(0, inplace= True)\n",
    "\n",
    "targets_test_lvl2"
   ]
  },
  {
   "cell_type": "code",
   "execution_count": 26,
   "metadata": {},
   "outputs": [
    {
     "data": {
      "text/html": [
       "<div>\n",
       "<style scoped>\n",
       "    .dataframe tbody tr th:only-of-type {\n",
       "        vertical-align: middle;\n",
       "    }\n",
       "\n",
       "    .dataframe tbody tr th {\n",
       "        vertical-align: top;\n",
       "    }\n",
       "\n",
       "    .dataframe thead th {\n",
       "        text-align: right;\n",
       "    }\n",
       "</style>\n",
       "<table border=\"1\" class=\"dataframe\">\n",
       "  <thead>\n",
       "    <tr style=\"text-align: right;\">\n",
       "      <th></th>\n",
       "      <th>user_id</th>\n",
       "      <th>item_id</th>\n",
       "      <th>target</th>\n",
       "      <th>manufacturer</th>\n",
       "      <th>department</th>\n",
       "      <th>brand</th>\n",
       "      <th>commodity_desc</th>\n",
       "      <th>sub_commodity_desc</th>\n",
       "      <th>curr_size_of_product</th>\n",
       "      <th>age_desc</th>\n",
       "      <th>marital_status_code</th>\n",
       "      <th>income_desc</th>\n",
       "      <th>homeowner_desc</th>\n",
       "      <th>hh_comp_desc</th>\n",
       "      <th>household_size_desc</th>\n",
       "      <th>kid_category_desc</th>\n",
       "    </tr>\n",
       "  </thead>\n",
       "  <tbody>\n",
       "    <tr>\n",
       "      <th>0</th>\n",
       "      <td>2021</td>\n",
       "      <td>950935</td>\n",
       "      <td>0.0</td>\n",
       "      <td>2193</td>\n",
       "      <td>GROCERY</td>\n",
       "      <td>National</td>\n",
       "      <td>FRZN NOVELTIES/WTR ICE</td>\n",
       "      <td>WATER ICE</td>\n",
       "      <td>24 CT</td>\n",
       "      <td>NaN</td>\n",
       "      <td>NaN</td>\n",
       "      <td>NaN</td>\n",
       "      <td>NaN</td>\n",
       "      <td>NaN</td>\n",
       "      <td>NaN</td>\n",
       "      <td>NaN</td>\n",
       "    </tr>\n",
       "    <tr>\n",
       "      <th>1</th>\n",
       "      <td>2021</td>\n",
       "      <td>1119454</td>\n",
       "      <td>0.0</td>\n",
       "      <td>910</td>\n",
       "      <td>GROCERY</td>\n",
       "      <td>National</td>\n",
       "      <td>BAKED BREAD/BUNS/ROLLS</td>\n",
       "      <td>HAMBURGER BUNS</td>\n",
       "      <td>8 OZ</td>\n",
       "      <td>NaN</td>\n",
       "      <td>NaN</td>\n",
       "      <td>NaN</td>\n",
       "      <td>NaN</td>\n",
       "      <td>NaN</td>\n",
       "      <td>NaN</td>\n",
       "      <td>NaN</td>\n",
       "    </tr>\n",
       "    <tr>\n",
       "      <th>2</th>\n",
       "      <td>2021</td>\n",
       "      <td>835578</td>\n",
       "      <td>0.0</td>\n",
       "      <td>539</td>\n",
       "      <td>DRUG GM</td>\n",
       "      <td>National</td>\n",
       "      <td>CIGARETTES</td>\n",
       "      <td>CIGARETTES</td>\n",
       "      <td>971267  PK</td>\n",
       "      <td>NaN</td>\n",
       "      <td>NaN</td>\n",
       "      <td>NaN</td>\n",
       "      <td>NaN</td>\n",
       "      <td>NaN</td>\n",
       "      <td>NaN</td>\n",
       "      <td>NaN</td>\n",
       "    </tr>\n",
       "    <tr>\n",
       "      <th>3</th>\n",
       "      <td>2021</td>\n",
       "      <td>863762</td>\n",
       "      <td>0.0</td>\n",
       "      <td>6046</td>\n",
       "      <td>DRUG GM</td>\n",
       "      <td>National</td>\n",
       "      <td>PREPAID WIRELESS&amp;ACCESSORIES</td>\n",
       "      <td>PREPAID WIRELESS CARDS</td>\n",
       "      <td></td>\n",
       "      <td>NaN</td>\n",
       "      <td>NaN</td>\n",
       "      <td>NaN</td>\n",
       "      <td>NaN</td>\n",
       "      <td>NaN</td>\n",
       "      <td>NaN</td>\n",
       "      <td>NaN</td>\n",
       "    </tr>\n",
       "    <tr>\n",
       "      <th>4</th>\n",
       "      <td>2021</td>\n",
       "      <td>1019142</td>\n",
       "      <td>0.0</td>\n",
       "      <td>1007</td>\n",
       "      <td>MEAT-PCKGD</td>\n",
       "      <td>National</td>\n",
       "      <td>BREAKFAST SAUSAGE/SANDWICHES</td>\n",
       "      <td>ROLLS - FLAVORED/OTHER</td>\n",
       "      <td>1 LB</td>\n",
       "      <td>NaN</td>\n",
       "      <td>NaN</td>\n",
       "      <td>NaN</td>\n",
       "      <td>NaN</td>\n",
       "      <td>NaN</td>\n",
       "      <td>NaN</td>\n",
       "      <td>NaN</td>\n",
       "    </tr>\n",
       "  </tbody>\n",
       "</table>\n",
       "</div>"
      ],
      "text/plain": [
       "   user_id  item_id  target  manufacturer  department     brand  \\\n",
       "0     2021   950935     0.0          2193     GROCERY  National   \n",
       "1     2021  1119454     0.0           910     GROCERY  National   \n",
       "2     2021   835578     0.0           539     DRUG GM  National   \n",
       "3     2021   863762     0.0          6046     DRUG GM  National   \n",
       "4     2021  1019142     0.0          1007  MEAT-PCKGD  National   \n",
       "\n",
       "                 commodity_desc      sub_commodity_desc curr_size_of_product  \\\n",
       "0        FRZN NOVELTIES/WTR ICE               WATER ICE                24 CT   \n",
       "1        BAKED BREAD/BUNS/ROLLS          HAMBURGER BUNS                 8 OZ   \n",
       "2                    CIGARETTES              CIGARETTES           971267  PK   \n",
       "3  PREPAID WIRELESS&ACCESSORIES  PREPAID WIRELESS CARDS                        \n",
       "4  BREAKFAST SAUSAGE/SANDWICHES  ROLLS - FLAVORED/OTHER                 1 LB   \n",
       "\n",
       "  age_desc marital_status_code income_desc homeowner_desc hh_comp_desc  \\\n",
       "0      NaN                 NaN         NaN            NaN          NaN   \n",
       "1      NaN                 NaN         NaN            NaN          NaN   \n",
       "2      NaN                 NaN         NaN            NaN          NaN   \n",
       "3      NaN                 NaN         NaN            NaN          NaN   \n",
       "4      NaN                 NaN         NaN            NaN          NaN   \n",
       "\n",
       "  household_size_desc kid_category_desc  \n",
       "0                 NaN               NaN  \n",
       "1                 NaN               NaN  \n",
       "2                 NaN               NaN  \n",
       "3                 NaN               NaN  \n",
       "4                 NaN               NaN  "
      ]
     },
     "execution_count": 26,
     "metadata": {},
     "output_type": "execute_result"
    }
   ],
   "source": [
    "\n",
    "targets_test_lvl2 = targets_test_lvl2.merge(item_features, on='item_id', how='left')\n",
    "targets_test_lvl2 = targets_test_lvl2.merge(user_features, on='user_id', how='left')\n",
    "\n",
    "targets_test_lvl2.head()"
   ]
  },
  {
   "cell_type": "code",
   "execution_count": 28,
   "metadata": {},
   "outputs": [],
   "source": [
    "X_test = targets_test_lvl2.drop('target', axis=1)\n",
    "y_test = targets_test_lvl2[['target']]\n",
    "\n",
    "X_test[cat_feats] = X_test[cat_feats].astype('category')"
   ]
  },
  {
   "cell_type": "code",
   "execution_count": 29,
   "metadata": {},
   "outputs": [
    {
     "data": {
      "text/plain": [
       "array([0., 0., 0., ..., 0., 0., 0.])"
      ]
     },
     "execution_count": 29,
     "metadata": {},
     "output_type": "execute_result"
    }
   ],
   "source": [
    "test_preds = lgb.predict(X_test)\n",
    "test_preds"
   ]
  },
  {
   "cell_type": "code",
   "execution_count": 30,
   "metadata": {},
   "outputs": [
    {
     "name": "stdout",
     "output_type": "stream",
     "text": [
      "recommend : 0.22539920159680646\n"
     ]
    },
    {
     "data": {
      "text/plain": [
       "{'recommend': 0.22539920159680646}"
      ]
     },
     "execution_count": 30,
     "metadata": {},
     "output_type": "execute_result"
    }
   ],
   "source": [
    "eval_lgbm(targets=targets_test_lvl2, preds=test_preds)\n"
   ]
  },
  {
   "cell_type": "code",
   "execution_count": null,
   "metadata": {},
   "outputs": [],
   "source": []
  },
  {
   "cell_type": "code",
   "execution_count": null,
   "metadata": {},
   "outputs": [],
   "source": []
  }
 ],
 "metadata": {
  "kernelspec": {
   "display_name": "Python 3",
   "language": "python",
   "name": "python3"
  },
  "language_info": {
   "codemirror_mode": {
    "name": "ipython",
    "version": 3
   },
   "file_extension": ".py",
   "mimetype": "text/x-python",
   "name": "python",
   "nbconvert_exporter": "python",
   "pygments_lexer": "ipython3",
   "version": "3.7.6"
  }
 },
 "nbformat": 4,
 "nbformat_minor": 4
}
