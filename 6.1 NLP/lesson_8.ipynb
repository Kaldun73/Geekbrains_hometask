{
  "nbformat": 4,
  "nbformat_minor": 0,
  "metadata": {
    "colab": {
      "name": "lesson_8.ipynb",
      "provenance": []
    },
    "kernelspec": {
      "name": "python3",
      "display_name": "Python 3"
    },
    "language_info": {
      "name": "python"
    },
    "accelerator": "GPU"
  },
  "cells": [
    {
      "cell_type": "code",
      "metadata": {
        "colab": {
          "base_uri": "https://localhost:8080/"
        },
        "id": "DU27vgHeY907",
        "outputId": "69b574b3-3788-4801-f946-606bea5b682e"
      },
      "source": [
        "!pip install pymorphy2\n",
        "!pip install stop-words\n"
      ],
      "execution_count": 1,
      "outputs": [
        {
          "output_type": "stream",
          "text": [
            "Collecting pymorphy2\n",
            "\u001b[?25l  Downloading https://files.pythonhosted.org/packages/07/57/b2ff2fae3376d4f3c697b9886b64a54b476e1a332c67eee9f88e7f1ae8c9/pymorphy2-0.9.1-py3-none-any.whl (55kB)\n",
            "\r\u001b[K     |██████                          | 10kB 21.8MB/s eta 0:00:01\r\u001b[K     |███████████▉                    | 20kB 29.6MB/s eta 0:00:01\r\u001b[K     |█████████████████▊              | 30kB 21.4MB/s eta 0:00:01\r\u001b[K     |███████████████████████▋        | 40kB 19.6MB/s eta 0:00:01\r\u001b[K     |█████████████████████████████▌  | 51kB 17.8MB/s eta 0:00:01\r\u001b[K     |████████████████████████████████| 61kB 6.8MB/s \n",
            "\u001b[?25hCollecting pymorphy2-dicts-ru<3.0,>=2.4\n",
            "\u001b[?25l  Downloading https://files.pythonhosted.org/packages/3a/79/bea0021eeb7eeefde22ef9e96badf174068a2dd20264b9a378f2be1cdd9e/pymorphy2_dicts_ru-2.4.417127.4579844-py2.py3-none-any.whl (8.2MB)\n",
            "\u001b[K     |████████████████████████████████| 8.2MB 17.0MB/s \n",
            "\u001b[?25hCollecting dawg-python>=0.7.1\n",
            "  Downloading https://files.pythonhosted.org/packages/6a/84/ff1ce2071d4c650ec85745766c0047ccc3b5036f1d03559fd46bb38b5eeb/DAWG_Python-0.7.2-py2.py3-none-any.whl\n",
            "Requirement already satisfied: docopt>=0.6 in /usr/local/lib/python3.7/dist-packages (from pymorphy2) (0.6.2)\n",
            "Installing collected packages: pymorphy2-dicts-ru, dawg-python, pymorphy2\n",
            "Successfully installed dawg-python-0.7.2 pymorphy2-0.9.1 pymorphy2-dicts-ru-2.4.417127.4579844\n",
            "Collecting stop-words\n",
            "  Downloading https://files.pythonhosted.org/packages/1c/cb/d58290804b7a4c5daa42abbbe2a93c477ae53e45541b1825e86f0dfaaf63/stop-words-2018.7.23.tar.gz\n",
            "Building wheels for collected packages: stop-words\n",
            "  Building wheel for stop-words (setup.py) ... \u001b[?25l\u001b[?25hdone\n",
            "  Created wheel for stop-words: filename=stop_words-2018.7.23-cp37-none-any.whl size=32917 sha256=dce28b1707275e741f1810baa15ec0de44b095a50a84b34c26618cf11fd3aa0f\n",
            "  Stored in directory: /root/.cache/pip/wheels/75/37/6a/2b295e03bd07290f0da95c3adb9a74ba95fbc333aa8b0c7c78\n",
            "Successfully built stop-words\n",
            "Installing collected packages: stop-words\n",
            "Successfully installed stop-words-2018.7.23\n"
          ],
          "name": "stdout"
        }
      ]
    },
    {
      "cell_type": "code",
      "metadata": {
        "id": "Gwinso0OYQ-L"
      },
      "source": [
        "import numpy as np\n",
        "import pandas as pd\n",
        "import matplotlib.pyplot as plt\n",
        "import re\n",
        "\n",
        "from nltk.tokenize import word_tokenize\n",
        "\n",
        "from gensim.models import Word2Vec, FastText\n",
        "\n",
        "from string import punctuation\n",
        "from stop_words import get_stop_words\n",
        "from pymorphy2 import MorphAnalyzer\n",
        "\n",
        "import tensorflow as tf\n",
        "from tensorflow.keras import layers\n",
        "from tensorflow.keras import models\n",
        "from tensorflow.keras import utils\n",
        "from tensorflow.keras import callbacks"
      ],
      "execution_count": 2,
      "outputs": []
    },
    {
      "cell_type": "code",
      "metadata": {
        "colab": {
          "base_uri": "https://localhost:8080/",
          "height": 195
        },
        "id": "BPjL7SkuYtWq",
        "outputId": "c41c65c8-c5fa-4b7b-8f17-5d5c4de37b98"
      },
      "source": [
        "df_train = pd.read_csv('../content/drive/MyDrive/Colab_data/data/train.csv')\n",
        "df_test = pd.read_csv('../content/drive/MyDrive/Colab_data/data/test.csv')\n",
        "df_val = pd.read_csv('../content/drive/MyDrive/Colab_data/data/val.csv')\n",
        "\n",
        "df_train.head()"
      ],
      "execution_count": 3,
      "outputs": [
        {
          "output_type": "execute_result",
          "data": {
            "text/html": [
              "<div>\n",
              "<style scoped>\n",
              "    .dataframe tbody tr th:only-of-type {\n",
              "        vertical-align: middle;\n",
              "    }\n",
              "\n",
              "    .dataframe tbody tr th {\n",
              "        vertical-align: top;\n",
              "    }\n",
              "\n",
              "    .dataframe thead th {\n",
              "        text-align: right;\n",
              "    }\n",
              "</style>\n",
              "<table border=\"1\" class=\"dataframe\">\n",
              "  <thead>\n",
              "    <tr style=\"text-align: right;\">\n",
              "      <th></th>\n",
              "      <th>id</th>\n",
              "      <th>text</th>\n",
              "      <th>class</th>\n",
              "    </tr>\n",
              "  </thead>\n",
              "  <tbody>\n",
              "    <tr>\n",
              "      <th>0</th>\n",
              "      <td>0</td>\n",
              "      <td>@alisachachka не уезжаааааааай. :(❤ я тоже не ...</td>\n",
              "      <td>0</td>\n",
              "    </tr>\n",
              "    <tr>\n",
              "      <th>1</th>\n",
              "      <td>1</td>\n",
              "      <td>RT @GalyginVadim: Ребята и девчата!\\nВсе в кин...</td>\n",
              "      <td>1</td>\n",
              "    </tr>\n",
              "    <tr>\n",
              "      <th>2</th>\n",
              "      <td>2</td>\n",
              "      <td>RT @ARTEM_KLYUSHIN: Кто ненавидит пробки ретви...</td>\n",
              "      <td>0</td>\n",
              "    </tr>\n",
              "    <tr>\n",
              "      <th>3</th>\n",
              "      <td>3</td>\n",
              "      <td>RT @epupybobv: Хочется котлету по-киевски. Зап...</td>\n",
              "      <td>1</td>\n",
              "    </tr>\n",
              "    <tr>\n",
              "      <th>4</th>\n",
              "      <td>4</td>\n",
              "      <td>@KarineKurganova @Yess__Boss босапопа есбоса н...</td>\n",
              "      <td>1</td>\n",
              "    </tr>\n",
              "  </tbody>\n",
              "</table>\n",
              "</div>"
            ],
            "text/plain": [
              "   id                                               text  class\n",
              "0   0  @alisachachka не уезжаааааааай. :(❤ я тоже не ...      0\n",
              "1   1  RT @GalyginVadim: Ребята и девчата!\\nВсе в кин...      1\n",
              "2   2  RT @ARTEM_KLYUSHIN: Кто ненавидит пробки ретви...      0\n",
              "3   3  RT @epupybobv: Хочется котлету по-киевски. Зап...      1\n",
              "4   4  @KarineKurganova @Yess__Boss босапопа есбоса н...      1"
            ]
          },
          "metadata": {
            "tags": []
          },
          "execution_count": 3
        }
      ]
    },
    {
      "cell_type": "code",
      "metadata": {
        "id": "XokYz9fOYtTZ"
      },
      "source": [
        "sw = set(get_stop_words('ru'))\n",
        "exclude = set(punctuation)\n",
        "morpher = MorphAnalyzer()\n",
        "\n",
        "root_train = '../content/drive/MyDrive/Colab_data/data/prep_data_train.pkl'\n",
        "root_val = '../content/drive/MyDrive/Colab_data/data/prep_data_val.pkl'\n",
        "root_test = '../content/drive/MyDrive/Colab_data/data/prep_data_test.pkl'"
      ],
      "execution_count": 4,
      "outputs": []
    },
    {
      "cell_type": "code",
      "metadata": {
        "id": "GBdf1hE1YtQL"
      },
      "source": [
        "def preprocess_text(txt):\n",
        "    txt = str(txt)\n",
        "    txt = ''.join(c for c in txt if c not in exclude)\n",
        "    txt = txt.lower()\n",
        "    txt = re.sub(\"\\sне\", \"не\", txt)\n",
        "    txt = [morpher.parse(word)[0].normal_form for word in txt.split() if word not in sw]\n",
        "    txt = [word for word in txt if word.isalnum()]\n",
        "    return txt"
      ],
      "execution_count": 5,
      "outputs": []
    },
    {
      "cell_type": "code",
      "metadata": {
        "id": "cWqZDCNiaDfr"
      },
      "source": [
        "#df_train['text'] = df_train['text'].apply(preprocess_text)\n",
        "#df_val['text'] = df_val['text'].apply(preprocess_text)\n",
        "#df_test['text'] = df_test['text'].apply(preprocess_text)\n",
        "\n",
        "df_train.to_pickle(root_train)\n",
        "df_val.to_pickle(root_val)\n",
        "df_test.to_pickle(root_test)"
      ],
      "execution_count": 6,
      "outputs": []
    },
    {
      "cell_type": "code",
      "metadata": {
        "colab": {
          "base_uri": "https://localhost:8080/",
          "height": 195
        },
        "id": "xZB6nWBfYtM1",
        "outputId": "8923d0f4-5be9-4932-fc14-b8701e4552a5"
      },
      "source": [
        "df_train = pd.read_pickle(root_train)\n",
        "df_val = pd.read_pickle(root_val)\n",
        "df_test = pd.read_pickle(root_test)\n",
        "\n",
        "df_train.head()"
      ],
      "execution_count": 7,
      "outputs": [
        {
          "output_type": "execute_result",
          "data": {
            "text/html": [
              "<div>\n",
              "<style scoped>\n",
              "    .dataframe tbody tr th:only-of-type {\n",
              "        vertical-align: middle;\n",
              "    }\n",
              "\n",
              "    .dataframe tbody tr th {\n",
              "        vertical-align: top;\n",
              "    }\n",
              "\n",
              "    .dataframe thead th {\n",
              "        text-align: right;\n",
              "    }\n",
              "</style>\n",
              "<table border=\"1\" class=\"dataframe\">\n",
              "  <thead>\n",
              "    <tr style=\"text-align: right;\">\n",
              "      <th></th>\n",
              "      <th>id</th>\n",
              "      <th>text</th>\n",
              "      <th>class</th>\n",
              "    </tr>\n",
              "  </thead>\n",
              "  <tbody>\n",
              "    <tr>\n",
              "      <th>0</th>\n",
              "      <td>0</td>\n",
              "      <td>@alisachachka не уезжаааааааай. :(❤ я тоже не ...</td>\n",
              "      <td>0</td>\n",
              "    </tr>\n",
              "    <tr>\n",
              "      <th>1</th>\n",
              "      <td>1</td>\n",
              "      <td>RT @GalyginVadim: Ребята и девчата!\\nВсе в кин...</td>\n",
              "      <td>1</td>\n",
              "    </tr>\n",
              "    <tr>\n",
              "      <th>2</th>\n",
              "      <td>2</td>\n",
              "      <td>RT @ARTEM_KLYUSHIN: Кто ненавидит пробки ретви...</td>\n",
              "      <td>0</td>\n",
              "    </tr>\n",
              "    <tr>\n",
              "      <th>3</th>\n",
              "      <td>3</td>\n",
              "      <td>RT @epupybobv: Хочется котлету по-киевски. Зап...</td>\n",
              "      <td>1</td>\n",
              "    </tr>\n",
              "    <tr>\n",
              "      <th>4</th>\n",
              "      <td>4</td>\n",
              "      <td>@KarineKurganova @Yess__Boss босапопа есбоса н...</td>\n",
              "      <td>1</td>\n",
              "    </tr>\n",
              "  </tbody>\n",
              "</table>\n",
              "</div>"
            ],
            "text/plain": [
              "   id                                               text  class\n",
              "0   0  @alisachachka не уезжаааааааай. :(❤ я тоже не ...      0\n",
              "1   1  RT @GalyginVadim: Ребята и девчата!\\nВсе в кин...      1\n",
              "2   2  RT @ARTEM_KLYUSHIN: Кто ненавидит пробки ретви...      0\n",
              "3   3  RT @epupybobv: Хочется котлету по-киевски. Зап...      1\n",
              "4   4  @KarineKurganova @Yess__Boss босапопа есбоса н...      1"
            ]
          },
          "metadata": {
            "tags": []
          },
          "execution_count": 7
        }
      ]
    },
    {
      "cell_type": "code",
      "metadata": {
        "colab": {
          "base_uri": "https://localhost:8080/"
        },
        "id": "qlE8Zg-1YtJ-",
        "outputId": "4417688d-5ceb-46ac-e111-2cba4b9ba8a3"
      },
      "source": [
        "y_train_cat = utils.to_categorical(df_train['class'], num_classes=2)\n",
        "y_val_cat = utils.to_categorical(df_val['class'], num_classes=2)\n",
        "\n",
        "print(y_train_cat[:5])\n",
        "print(y_train_cat.shape)\n",
        "\n",
        "print(y_val_cat[:5])\n",
        "print(y_val_cat.shape)"
      ],
      "execution_count": 8,
      "outputs": [
        {
          "output_type": "stream",
          "text": [
            "[[1. 0.]\n",
            " [0. 1.]\n",
            " [1. 0.]\n",
            " [0. 1.]\n",
            " [0. 1.]]\n",
            "(181467, 2)\n",
            "[[0. 1.]\n",
            " [1. 0.]\n",
            " [1. 0.]\n",
            " [1. 0.]\n",
            " [1. 0.]]\n",
            "(22683, 2)\n"
          ],
          "name": "stdout"
        }
      ]
    },
    {
      "cell_type": "code",
      "metadata": {
        "id": "FbuLS9pAYtGT"
      },
      "source": [
        "MAX_LEN = 30\n"
      ],
      "execution_count": 9,
      "outputs": []
    },
    {
      "cell_type": "code",
      "metadata": {
        "id": "o7E8SsvtYtC5"
      },
      "source": [
        "w2v = Word2Vec(sentences=df_train['text'], size=20, window=5, min_count=1, workers=4)\n",
        "w2v.save(\"word2vec.model\")\n",
        "w2v = Word2Vec.load(\"word2vec.model\")"
      ],
      "execution_count": 10,
      "outputs": []
    },
    {
      "cell_type": "code",
      "metadata": {
        "id": "wdSLPai_Ys_x"
      },
      "source": [
        "def text_to_wv(words, maxlen):\n",
        "    result = []\n",
        "    for word in words:\n",
        "        if word in w2v.wv:\n",
        "            result.append(list(w2v.wv[word]))\n",
        "    padding = [[0]*25]*(maxlen-len(result))\n",
        "    result = padding + result[-maxlen:]\n",
        "    return result"
      ],
      "execution_count": 11,
      "outputs": []
    },
    {
      "cell_type": "code",
      "metadata": {
        "id": "b6zQyFhiYs8f",
        "colab": {
          "base_uri": "https://localhost:8080/"
        },
        "outputId": "1b18a381-ac65-4e07-87bc-ead8846fb66d"
      },
      "source": [
        "X_train_wv = np.asarray([text_to_wv(text, MAX_LEN) for text in df_train['text']])\n",
        "X_val_wv = np.asarray([text_to_wv(text, MAX_LEN) for text in df_val['text']])\n",
        "X_test_wv = np.asarray([text_to_wv(text, MAX_LEN) for text in df_test['text']])\n",
        "\n",
        "print(X_train_wv.shape)\n",
        "print(X_val_wv.shape)\n",
        "print(X_test_wv.shape)"
      ],
      "execution_count": 12,
      "outputs": [
        {
          "output_type": "stream",
          "text": [
            "(181467, 30, 20)\n",
            "(22683, 30, 20)\n",
            "(22684, 30, 20)\n"
          ],
          "name": "stdout"
        }
      ]
    },
    {
      "cell_type": "markdown",
      "metadata": {
        "id": "FZ8WEB7rgWhA"
      },
      "source": [
        "1. построить свёрточные архитектуры"
      ]
    },
    {
      "cell_type": "code",
      "metadata": {
        "id": "0M_71Ih3Ys5V",
        "colab": {
          "base_uri": "https://localhost:8080/",
          "height": 651
        },
        "outputId": "59a24132-49a2-4b46-8796-d448db8c3c4e"
      },
      "source": [
        "BATCH_SIZE = 64\n",
        "\n",
        "df_score = pd.DataFrame(columns=['epochs']).set_index('epochs')\n",
        "\n",
        "for i in [8, 16, 32, 64]:\n",
        "    conv_model = models.Sequential([\n",
        "        layers.Conv1D(filters=i, kernel_size=3, activation='relu'),\n",
        "\n",
        "        layers.GlobalMaxPool1D(),\n",
        "\n",
        "        layers.Dense(10, activation='relu'),\n",
        "        layers.Dense(2, activation='softmax'),\n",
        "    ]) # init model\n",
        "\n",
        "    conv_model.compile(\n",
        "        loss='categorical_crossentropy',\n",
        "        optimizer='adam',\n",
        "        metrics=['accuracy']\n",
        "    ) # compile model\n",
        "\n",
        "    history = conv_model.fit(\n",
        "        X_train_wv, y_train_cat, \n",
        "        batch_size=BATCH_SIZE,\n",
        "        epochs=10,\n",
        "        validation_data=(X_val_wv, y_val_cat),\n",
        "        verbose=0\n",
        "    ) # fitting model\n",
        "    \n",
        "    df_score[f'filter N{i}'] = history.history['val_loss'] # add vak_loss in df_score\n",
        "\n",
        "# view plots\n",
        "df_score.plot(title='val_loss')\n",
        "df_score # view df"
      ],
      "execution_count": 13,
      "outputs": [
        {
          "output_type": "execute_result",
          "data": {
            "text/html": [
              "<div>\n",
              "<style scoped>\n",
              "    .dataframe tbody tr th:only-of-type {\n",
              "        vertical-align: middle;\n",
              "    }\n",
              "\n",
              "    .dataframe tbody tr th {\n",
              "        vertical-align: top;\n",
              "    }\n",
              "\n",
              "    .dataframe thead th {\n",
              "        text-align: right;\n",
              "    }\n",
              "</style>\n",
              "<table border=\"1\" class=\"dataframe\">\n",
              "  <thead>\n",
              "    <tr style=\"text-align: right;\">\n",
              "      <th></th>\n",
              "      <th>filter N8</th>\n",
              "      <th>filter N16</th>\n",
              "      <th>filter N32</th>\n",
              "      <th>filter N64</th>\n",
              "    </tr>\n",
              "    <tr>\n",
              "      <th>epochs</th>\n",
              "      <th></th>\n",
              "      <th></th>\n",
              "      <th></th>\n",
              "      <th></th>\n",
              "    </tr>\n",
              "  </thead>\n",
              "  <tbody>\n",
              "    <tr>\n",
              "      <th>0</th>\n",
              "      <td>0.114802</td>\n",
              "      <td>0.112426</td>\n",
              "      <td>0.121817</td>\n",
              "      <td>0.105620</td>\n",
              "    </tr>\n",
              "    <tr>\n",
              "      <th>1</th>\n",
              "      <td>0.108136</td>\n",
              "      <td>0.113841</td>\n",
              "      <td>0.104221</td>\n",
              "      <td>0.110560</td>\n",
              "    </tr>\n",
              "    <tr>\n",
              "      <th>2</th>\n",
              "      <td>0.105735</td>\n",
              "      <td>0.105670</td>\n",
              "      <td>0.107908</td>\n",
              "      <td>0.106916</td>\n",
              "    </tr>\n",
              "    <tr>\n",
              "      <th>3</th>\n",
              "      <td>0.104624</td>\n",
              "      <td>0.102453</td>\n",
              "      <td>0.101258</td>\n",
              "      <td>0.100467</td>\n",
              "    </tr>\n",
              "    <tr>\n",
              "      <th>4</th>\n",
              "      <td>0.107060</td>\n",
              "      <td>0.105091</td>\n",
              "      <td>0.100847</td>\n",
              "      <td>0.099393</td>\n",
              "    </tr>\n",
              "    <tr>\n",
              "      <th>5</th>\n",
              "      <td>0.105197</td>\n",
              "      <td>0.102963</td>\n",
              "      <td>0.101682</td>\n",
              "      <td>0.099688</td>\n",
              "    </tr>\n",
              "    <tr>\n",
              "      <th>6</th>\n",
              "      <td>0.103798</td>\n",
              "      <td>0.102912</td>\n",
              "      <td>0.100655</td>\n",
              "      <td>0.106451</td>\n",
              "    </tr>\n",
              "    <tr>\n",
              "      <th>7</th>\n",
              "      <td>0.104381</td>\n",
              "      <td>0.103164</td>\n",
              "      <td>0.101375</td>\n",
              "      <td>0.099486</td>\n",
              "    </tr>\n",
              "    <tr>\n",
              "      <th>8</th>\n",
              "      <td>0.107065</td>\n",
              "      <td>0.102135</td>\n",
              "      <td>0.098563</td>\n",
              "      <td>0.097724</td>\n",
              "    </tr>\n",
              "    <tr>\n",
              "      <th>9</th>\n",
              "      <td>0.103097</td>\n",
              "      <td>0.101250</td>\n",
              "      <td>0.099411</td>\n",
              "      <td>0.097984</td>\n",
              "    </tr>\n",
              "  </tbody>\n",
              "</table>\n",
              "</div>"
            ],
            "text/plain": [
              "        filter N8  filter N16  filter N32  filter N64\n",
              "epochs                                               \n",
              "0        0.114802    0.112426    0.121817    0.105620\n",
              "1        0.108136    0.113841    0.104221    0.110560\n",
              "2        0.105735    0.105670    0.107908    0.106916\n",
              "3        0.104624    0.102453    0.101258    0.100467\n",
              "4        0.107060    0.105091    0.100847    0.099393\n",
              "5        0.105197    0.102963    0.101682    0.099688\n",
              "6        0.103798    0.102912    0.100655    0.106451\n",
              "7        0.104381    0.103164    0.101375    0.099486\n",
              "8        0.107065    0.102135    0.098563    0.097724\n",
              "9        0.103097    0.101250    0.099411    0.097984"
            ]
          },
          "metadata": {
            "tags": []
          },
          "execution_count": 13
        },
        {
          "output_type": "display_data",
          "data": {
            "image/png": "[encoded data removed]",
            "text/plain": [
              "<Figure size 432x288 with 1 Axes>"
            ]
          },
          "metadata": {
            "tags": [],
            "needs_background": "light"
          }
        }
      ]
    },
    {
      "cell_type": "markdown",
      "metadata": {
        "id": "p6rmdo5VNL11"
      },
      "source": [
        "Модель с 32 фильтрами быстрее всего обучается и без скачков качества"
      ]
    },
    {
      "cell_type": "code",
      "metadata": {
        "id": "30YsFcJfYs2b",
        "colab": {
          "base_uri": "https://localhost:8080/",
          "height": 651
        },
        "outputId": "ac74391f-b6f5-4869-da50-d23835a07402"
      },
      "source": [
        "df_score = pd.DataFrame(columns=['epochs']).set_index('epochs')\n",
        "\n",
        "for i in [3, 5, 7]:\n",
        "    conv_model = models.Sequential([\n",
        "        layers.Conv1D(filters=8, kernel_size=i, activation='relu'),\n",
        "\n",
        "        layers.GlobalMaxPool1D(),\n",
        "\n",
        "        layers.Dense(10, activation='relu'),\n",
        "        layers.Dense(2, activation='softmax'),\n",
        "    ]) # init model\n",
        "\n",
        "    conv_model.compile(\n",
        "        loss='categorical_crossentropy',\n",
        "        optimizer='adam',\n",
        "        metrics=['accuracy']\n",
        "    ) # compile model\n",
        "\n",
        "    history = conv_model.fit(\n",
        "        X_train_wv, y_train_cat, \n",
        "        batch_size=BATCH_SIZE,\n",
        "        epochs=10,\n",
        "        validation_data=(X_val_wv, y_val_cat),\n",
        "        verbose=0\n",
        "    ) # fitting model\n",
        "    \n",
        "    df_score[f'kernel_size N{i}'] = history.history['val_loss'] # add vak_loss in df_score\n",
        "\n",
        "# view plots\n",
        "df_score.plot(title='val_loss')\n",
        "df_score # view df"
      ],
      "execution_count": 14,
      "outputs": [
        {
          "output_type": "execute_result",
          "data": {
            "text/html": [
              "<div>\n",
              "<style scoped>\n",
              "    .dataframe tbody tr th:only-of-type {\n",
              "        vertical-align: middle;\n",
              "    }\n",
              "\n",
              "    .dataframe tbody tr th {\n",
              "        vertical-align: top;\n",
              "    }\n",
              "\n",
              "    .dataframe thead th {\n",
              "        text-align: right;\n",
              "    }\n",
              "</style>\n",
              "<table border=\"1\" class=\"dataframe\">\n",
              "  <thead>\n",
              "    <tr style=\"text-align: right;\">\n",
              "      <th></th>\n",
              "      <th>kernel_size N3</th>\n",
              "      <th>kernel_size N5</th>\n",
              "      <th>kernel_size N7</th>\n",
              "    </tr>\n",
              "    <tr>\n",
              "      <th>epochs</th>\n",
              "      <th></th>\n",
              "      <th></th>\n",
              "      <th></th>\n",
              "    </tr>\n",
              "  </thead>\n",
              "  <tbody>\n",
              "    <tr>\n",
              "      <th>0</th>\n",
              "      <td>0.118457</td>\n",
              "      <td>0.115469</td>\n",
              "      <td>0.122209</td>\n",
              "    </tr>\n",
              "    <tr>\n",
              "      <th>1</th>\n",
              "      <td>0.109440</td>\n",
              "      <td>0.115868</td>\n",
              "      <td>0.110093</td>\n",
              "    </tr>\n",
              "    <tr>\n",
              "      <th>2</th>\n",
              "      <td>0.106261</td>\n",
              "      <td>0.106681</td>\n",
              "      <td>0.106542</td>\n",
              "    </tr>\n",
              "    <tr>\n",
              "      <th>3</th>\n",
              "      <td>0.107903</td>\n",
              "      <td>0.106313</td>\n",
              "      <td>0.106335</td>\n",
              "    </tr>\n",
              "    <tr>\n",
              "      <th>4</th>\n",
              "      <td>0.105028</td>\n",
              "      <td>0.106670</td>\n",
              "      <td>0.103241</td>\n",
              "    </tr>\n",
              "    <tr>\n",
              "      <th>5</th>\n",
              "      <td>0.104995</td>\n",
              "      <td>0.103425</td>\n",
              "      <td>0.102736</td>\n",
              "    </tr>\n",
              "    <tr>\n",
              "      <th>6</th>\n",
              "      <td>0.102841</td>\n",
              "      <td>0.103040</td>\n",
              "      <td>0.102533</td>\n",
              "    </tr>\n",
              "    <tr>\n",
              "      <th>7</th>\n",
              "      <td>0.103313</td>\n",
              "      <td>0.103990</td>\n",
              "      <td>0.102713</td>\n",
              "    </tr>\n",
              "    <tr>\n",
              "      <th>8</th>\n",
              "      <td>0.103315</td>\n",
              "      <td>0.103289</td>\n",
              "      <td>0.103550</td>\n",
              "    </tr>\n",
              "    <tr>\n",
              "      <th>9</th>\n",
              "      <td>0.101767</td>\n",
              "      <td>0.103511</td>\n",
              "      <td>0.106596</td>\n",
              "    </tr>\n",
              "  </tbody>\n",
              "</table>\n",
              "</div>"
            ],
            "text/plain": [
              "        kernel_size N3  kernel_size N5  kernel_size N7\n",
              "epochs                                                \n",
              "0             0.118457        0.115469        0.122209\n",
              "1             0.109440        0.115868        0.110093\n",
              "2             0.106261        0.106681        0.106542\n",
              "3             0.107903        0.106313        0.106335\n",
              "4             0.105028        0.106670        0.103241\n",
              "5             0.104995        0.103425        0.102736\n",
              "6             0.102841        0.103040        0.102533\n",
              "7             0.103313        0.103990        0.102713\n",
              "8             0.103315        0.103289        0.103550\n",
              "9             0.101767        0.103511        0.106596"
            ]
          },
          "metadata": {
            "tags": []
          },
          "execution_count": 14
        },
        {
          "output_type": "display_data",
          "data": {
            "image/png": "[encoded data removed]",
            "text/plain": [
              "<Figure size 432x288 with 1 Axes>"
            ]
          },
          "metadata": {
            "tags": [],
            "needs_background": "light"
          }
        }
      ]
    },
    {
      "cell_type": "markdown",
      "metadata": {
        "id": "8Te-Az3RZuRM"
      },
      "source": [
        "При 7 наступает переобучение, оптимальный вариант - 3. "
      ]
    },
    {
      "cell_type": "code",
      "metadata": {
        "id": "_Lxcw0kyYszR",
        "colab": {
          "base_uri": "https://localhost:8080/",
          "height": 651
        },
        "outputId": "d21f5c59-ffd2-465e-8139-f25ef0e7c9fa"
      },
      "source": [
        "df_score = pd.DataFrame(columns=['epochs']).set_index('epochs')\n",
        "\n",
        "conv_model = models.Sequential([\n",
        "    layers.Conv1D(filters=8, kernel_size=3, activation='relu'),\n",
        "    layers.Conv1D(filters=16, kernel_size=3, activation='relu'),\n",
        "\n",
        "    layers.GlobalMaxPool1D(),\n",
        "\n",
        "    layers.Dense(10, activation='relu'),\n",
        "    layers.Dense(2, activation='softmax'),\n",
        "]) # init model\n",
        "\n",
        "conv_model.compile(\n",
        "    loss='categorical_crossentropy',\n",
        "    optimizer='adam',\n",
        "    metrics=['accuracy']\n",
        ") # compile model\n",
        "\n",
        "history = conv_model.fit(\n",
        "    X_train_wv, y_train_cat, \n",
        "    batch_size=BATCH_SIZE,\n",
        "    epochs=10,\n",
        "    validation_data=(X_val_wv, y_val_cat),\n",
        "    verbose=0\n",
        ") # fitting model\n",
        "\n",
        "df_score[f'loss'] = history.history['val_loss'] # add vak_loss in df_score\n",
        "\n",
        "# view plots\n",
        "df_score.plot(title='val_loss')\n",
        "df_score # view df"
      ],
      "execution_count": 15,
      "outputs": [
        {
          "output_type": "execute_result",
          "data": {
            "text/html": [
              "<div>\n",
              "<style scoped>\n",
              "    .dataframe tbody tr th:only-of-type {\n",
              "        vertical-align: middle;\n",
              "    }\n",
              "\n",
              "    .dataframe tbody tr th {\n",
              "        vertical-align: top;\n",
              "    }\n",
              "\n",
              "    .dataframe thead th {\n",
              "        text-align: right;\n",
              "    }\n",
              "</style>\n",
              "<table border=\"1\" class=\"dataframe\">\n",
              "  <thead>\n",
              "    <tr style=\"text-align: right;\">\n",
              "      <th></th>\n",
              "      <th>loss</th>\n",
              "    </tr>\n",
              "    <tr>\n",
              "      <th>epochs</th>\n",
              "      <th></th>\n",
              "    </tr>\n",
              "  </thead>\n",
              "  <tbody>\n",
              "    <tr>\n",
              "      <th>0</th>\n",
              "      <td>0.112118</td>\n",
              "    </tr>\n",
              "    <tr>\n",
              "      <th>1</th>\n",
              "      <td>0.105882</td>\n",
              "    </tr>\n",
              "    <tr>\n",
              "      <th>2</th>\n",
              "      <td>0.101489</td>\n",
              "    </tr>\n",
              "    <tr>\n",
              "      <th>3</th>\n",
              "      <td>0.100469</td>\n",
              "    </tr>\n",
              "    <tr>\n",
              "      <th>4</th>\n",
              "      <td>0.099537</td>\n",
              "    </tr>\n",
              "    <tr>\n",
              "      <th>5</th>\n",
              "      <td>0.100247</td>\n",
              "    </tr>\n",
              "    <tr>\n",
              "      <th>6</th>\n",
              "      <td>0.099422</td>\n",
              "    </tr>\n",
              "    <tr>\n",
              "      <th>7</th>\n",
              "      <td>0.099023</td>\n",
              "    </tr>\n",
              "    <tr>\n",
              "      <th>8</th>\n",
              "      <td>0.099704</td>\n",
              "    </tr>\n",
              "    <tr>\n",
              "      <th>9</th>\n",
              "      <td>0.098621</td>\n",
              "    </tr>\n",
              "  </tbody>\n",
              "</table>\n",
              "</div>"
            ],
            "text/plain": [
              "            loss\n",
              "epochs          \n",
              "0       0.112118\n",
              "1       0.105882\n",
              "2       0.101489\n",
              "3       0.100469\n",
              "4       0.099537\n",
              "5       0.100247\n",
              "6       0.099422\n",
              "7       0.099023\n",
              "8       0.099704\n",
              "9       0.098621"
            ]
          },
          "metadata": {
            "tags": []
          },
          "execution_count": 15
        },
        {
          "output_type": "display_data",
          "data": {
            "image/png": "[encoded data removed]",
            "text/plain": [
              "<Figure size 432x288 with 1 Axes>"
            ]
          },
          "metadata": {
            "tags": [],
            "needs_background": "light"
          }
        }
      ]
    },
    {
      "cell_type": "markdown",
      "metadata": {
        "id": "xo5bDBJmaAQD"
      },
      "source": [
        "Добавление дополнительного слоя снижает ошибку"
      ]
    },
    {
      "cell_type": "markdown",
      "metadata": {
        "id": "79b6vhgGOgpZ"
      },
      "source": [
        "2. построить различные архитектуры с RNN"
      ]
    },
    {
      "cell_type": "code",
      "metadata": {
        "id": "fJlHP3wPYswf",
        "colab": {
          "base_uri": "https://localhost:8080/",
          "height": 651
        },
        "outputId": "ce040811-af3a-4e8b-84d3-ca5f6bc0f541"
      },
      "source": [
        "df_score = pd.DataFrame(columns=['epochs']).set_index('epochs')\n",
        "\n",
        "for i in [4, 8, 16, 32]:\n",
        "    conv_model = models.Sequential([\n",
        "        layers.SimpleRNN(units=i),\n",
        "\n",
        "        layers.Dense(10, activation='relu'),\n",
        "        layers.Dense(2, activation='softmax'),\n",
        "    ]) # init model\n",
        "\n",
        "    conv_model.compile(\n",
        "        loss='categorical_crossentropy',\n",
        "        optimizer='adam',\n",
        "        metrics=['accuracy']\n",
        "    ) # compile model\n",
        "\n",
        "    history = conv_model.fit(\n",
        "        X_train_wv, y_train_cat, \n",
        "        batch_size=BATCH_SIZE,\n",
        "        epochs=10,\n",
        "        validation_data=(X_val_wv, y_val_cat),\n",
        "        verbose=0\n",
        "    ) # fitting model\n",
        "    \n",
        "    df_score[f'units N{i}'] = history.history['val_loss'] # add vak_loss in df_score\n",
        "\n",
        "# view plots\n",
        "df_score.plot(title='val_loss')\n",
        "df_score # view df"
      ],
      "execution_count": 16,
      "outputs": [
        {
          "output_type": "execute_result",
          "data": {
            "text/html": [
              "<div>\n",
              "<style scoped>\n",
              "    .dataframe tbody tr th:only-of-type {\n",
              "        vertical-align: middle;\n",
              "    }\n",
              "\n",
              "    .dataframe tbody tr th {\n",
              "        vertical-align: top;\n",
              "    }\n",
              "\n",
              "    .dataframe thead th {\n",
              "        text-align: right;\n",
              "    }\n",
              "</style>\n",
              "<table border=\"1\" class=\"dataframe\">\n",
              "  <thead>\n",
              "    <tr style=\"text-align: right;\">\n",
              "      <th></th>\n",
              "      <th>units N4</th>\n",
              "      <th>units N8</th>\n",
              "      <th>units N16</th>\n",
              "      <th>units N32</th>\n",
              "    </tr>\n",
              "    <tr>\n",
              "      <th>epochs</th>\n",
              "      <th></th>\n",
              "      <th></th>\n",
              "      <th></th>\n",
              "      <th></th>\n",
              "    </tr>\n",
              "  </thead>\n",
              "  <tbody>\n",
              "    <tr>\n",
              "      <th>0</th>\n",
              "      <td>0.261301</td>\n",
              "      <td>0.243006</td>\n",
              "      <td>0.239194</td>\n",
              "      <td>0.236358</td>\n",
              "    </tr>\n",
              "    <tr>\n",
              "      <th>1</th>\n",
              "      <td>0.249487</td>\n",
              "      <td>0.239147</td>\n",
              "      <td>0.240018</td>\n",
              "      <td>0.208978</td>\n",
              "    </tr>\n",
              "    <tr>\n",
              "      <th>2</th>\n",
              "      <td>0.248246</td>\n",
              "      <td>0.236321</td>\n",
              "      <td>0.207259</td>\n",
              "      <td>0.202574</td>\n",
              "    </tr>\n",
              "    <tr>\n",
              "      <th>3</th>\n",
              "      <td>0.246859</td>\n",
              "      <td>0.231554</td>\n",
              "      <td>0.223423</td>\n",
              "      <td>0.208512</td>\n",
              "    </tr>\n",
              "    <tr>\n",
              "      <th>4</th>\n",
              "      <td>0.245410</td>\n",
              "      <td>0.235126</td>\n",
              "      <td>0.207012</td>\n",
              "      <td>0.224109</td>\n",
              "    </tr>\n",
              "    <tr>\n",
              "      <th>5</th>\n",
              "      <td>0.243652</td>\n",
              "      <td>0.238139</td>\n",
              "      <td>0.203899</td>\n",
              "      <td>0.233210</td>\n",
              "    </tr>\n",
              "    <tr>\n",
              "      <th>6</th>\n",
              "      <td>0.243880</td>\n",
              "      <td>0.233754</td>\n",
              "      <td>0.199780</td>\n",
              "      <td>0.208575</td>\n",
              "    </tr>\n",
              "    <tr>\n",
              "      <th>7</th>\n",
              "      <td>0.244417</td>\n",
              "      <td>0.231373</td>\n",
              "      <td>0.196237</td>\n",
              "      <td>0.203395</td>\n",
              "    </tr>\n",
              "    <tr>\n",
              "      <th>8</th>\n",
              "      <td>0.243850</td>\n",
              "      <td>0.210798</td>\n",
              "      <td>0.170197</td>\n",
              "      <td>0.197136</td>\n",
              "    </tr>\n",
              "    <tr>\n",
              "      <th>9</th>\n",
              "      <td>0.241910</td>\n",
              "      <td>0.214024</td>\n",
              "      <td>0.173452</td>\n",
              "      <td>0.195438</td>\n",
              "    </tr>\n",
              "  </tbody>\n",
              "</table>\n",
              "</div>"
            ],
            "text/plain": [
              "        units N4  units N8  units N16  units N32\n",
              "epochs                                          \n",
              "0       0.261301  0.243006   0.239194   0.236358\n",
              "1       0.249487  0.239147   0.240018   0.208978\n",
              "2       0.248246  0.236321   0.207259   0.202574\n",
              "3       0.246859  0.231554   0.223423   0.208512\n",
              "4       0.245410  0.235126   0.207012   0.224109\n",
              "5       0.243652  0.238139   0.203899   0.233210\n",
              "6       0.243880  0.233754   0.199780   0.208575\n",
              "7       0.244417  0.231373   0.196237   0.203395\n",
              "8       0.243850  0.210798   0.170197   0.197136\n",
              "9       0.241910  0.214024   0.173452   0.195438"
            ]
          },
          "metadata": {
            "tags": []
          },
          "execution_count": 16
        },
        {
          "output_type": "display_data",
          "data": {
            "image/png": "[encoded data removed]",
            "text/plain": [
              "<Figure size 432x288 with 1 Axes>"
            ]
          },
          "metadata": {
            "tags": [],
            "needs_background": "light"
          }
        }
      ]
    },
    {
      "cell_type": "markdown",
      "metadata": {
        "id": "jxhUvLgFajG9"
      },
      "source": [
        "16 юнитов в RNN дает оптимальный результат"
      ]
    },
    {
      "cell_type": "markdown",
      "metadata": {
        "id": "y9MDZLgxOlpS"
      },
      "source": [
        "3. попробовать использовать совместно CNN и RNN"
      ]
    },
    {
      "cell_type": "code",
      "metadata": {
        "id": "Lg2gFaUmYstV",
        "colab": {
          "base_uri": "https://localhost:8080/",
          "height": 651
        },
        "outputId": "1929686b-fff2-4c85-a770-42439ecb1809"
      },
      "source": [
        "df_score = pd.DataFrame(columns=['epochs']).set_index('epochs')\n",
        "\n",
        "for i in [4, 8, 16, 32]:\n",
        "    conv_model = models.Sequential([\n",
        "        layers.Conv1D(filters=8, kernel_size=3, activation='relu'),\n",
        "        layers.SimpleRNN(units=i),\n",
        "\n",
        "        layers.Dense(10, activation='relu'),\n",
        "        layers.Dense(2, activation='softmax'),\n",
        "    ]) # init model\n",
        "\n",
        "    conv_model.compile(\n",
        "        loss='categorical_crossentropy',\n",
        "        optimizer='adam',\n",
        "        metrics=['accuracy']\n",
        "    ) # compile model\n",
        "\n",
        "    history = conv_model.fit(\n",
        "        X_train_wv, y_train_cat, \n",
        "        batch_size=BATCH_SIZE,\n",
        "        epochs=10,\n",
        "        validation_data=(X_val_wv, y_val_cat),\n",
        "        verbose=0\n",
        "    ) # fitting model\n",
        "    \n",
        "    df_score[f'units N{i}'] = history.history['val_loss'] # add vak_loss in df_score\n",
        "\n",
        "# view plots\n",
        "df_score.plot(title='val_loss')\n",
        "df_score # view df"
      ],
      "execution_count": 18,
      "outputs": [
        {
          "output_type": "execute_result",
          "data": {
            "text/html": [
              "<div>\n",
              "<style scoped>\n",
              "    .dataframe tbody tr th:only-of-type {\n",
              "        vertical-align: middle;\n",
              "    }\n",
              "\n",
              "    .dataframe tbody tr th {\n",
              "        vertical-align: top;\n",
              "    }\n",
              "\n",
              "    .dataframe thead th {\n",
              "        text-align: right;\n",
              "    }\n",
              "</style>\n",
              "<table border=\"1\" class=\"dataframe\">\n",
              "  <thead>\n",
              "    <tr style=\"text-align: right;\">\n",
              "      <th></th>\n",
              "      <th>units N4</th>\n",
              "      <th>units N8</th>\n",
              "      <th>units N16</th>\n",
              "      <th>units N32</th>\n",
              "    </tr>\n",
              "    <tr>\n",
              "      <th>epochs</th>\n",
              "      <th></th>\n",
              "      <th></th>\n",
              "      <th></th>\n",
              "      <th></th>\n",
              "    </tr>\n",
              "  </thead>\n",
              "  <tbody>\n",
              "    <tr>\n",
              "      <th>0</th>\n",
              "      <td>0.240553</td>\n",
              "      <td>0.236268</td>\n",
              "      <td>0.235655</td>\n",
              "      <td>0.202266</td>\n",
              "    </tr>\n",
              "    <tr>\n",
              "      <th>1</th>\n",
              "      <td>0.235537</td>\n",
              "      <td>0.227555</td>\n",
              "      <td>0.207510</td>\n",
              "      <td>0.200035</td>\n",
              "    </tr>\n",
              "    <tr>\n",
              "      <th>2</th>\n",
              "      <td>0.237736</td>\n",
              "      <td>0.222768</td>\n",
              "      <td>0.196753</td>\n",
              "      <td>0.240168</td>\n",
              "    </tr>\n",
              "    <tr>\n",
              "      <th>3</th>\n",
              "      <td>0.232659</td>\n",
              "      <td>0.209343</td>\n",
              "      <td>0.198314</td>\n",
              "      <td>0.196675</td>\n",
              "    </tr>\n",
              "    <tr>\n",
              "      <th>4</th>\n",
              "      <td>0.219118</td>\n",
              "      <td>0.211018</td>\n",
              "      <td>0.233359</td>\n",
              "      <td>0.196332</td>\n",
              "    </tr>\n",
              "    <tr>\n",
              "      <th>5</th>\n",
              "      <td>0.155965</td>\n",
              "      <td>0.203659</td>\n",
              "      <td>0.194910</td>\n",
              "      <td>0.236704</td>\n",
              "    </tr>\n",
              "    <tr>\n",
              "      <th>6</th>\n",
              "      <td>0.260971</td>\n",
              "      <td>0.204346</td>\n",
              "      <td>0.162644</td>\n",
              "      <td>0.206135</td>\n",
              "    </tr>\n",
              "    <tr>\n",
              "      <th>7</th>\n",
              "      <td>0.234755</td>\n",
              "      <td>0.185143</td>\n",
              "      <td>0.202462</td>\n",
              "      <td>0.197215</td>\n",
              "    </tr>\n",
              "    <tr>\n",
              "      <th>8</th>\n",
              "      <td>0.212540</td>\n",
              "      <td>0.202218</td>\n",
              "      <td>0.196906</td>\n",
              "      <td>0.195667</td>\n",
              "    </tr>\n",
              "    <tr>\n",
              "      <th>9</th>\n",
              "      <td>0.205099</td>\n",
              "      <td>0.216869</td>\n",
              "      <td>0.195301</td>\n",
              "      <td>0.196016</td>\n",
              "    </tr>\n",
              "  </tbody>\n",
              "</table>\n",
              "</div>"
            ],
            "text/plain": [
              "        units N4  units N8  units N16  units N32\n",
              "epochs                                          \n",
              "0       0.240553  0.236268   0.235655   0.202266\n",
              "1       0.235537  0.227555   0.207510   0.200035\n",
              "2       0.237736  0.222768   0.196753   0.240168\n",
              "3       0.232659  0.209343   0.198314   0.196675\n",
              "4       0.219118  0.211018   0.233359   0.196332\n",
              "5       0.155965  0.203659   0.194910   0.236704\n",
              "6       0.260971  0.204346   0.162644   0.206135\n",
              "7       0.234755  0.185143   0.202462   0.197215\n",
              "8       0.212540  0.202218   0.196906   0.195667\n",
              "9       0.205099  0.216869   0.195301   0.196016"
            ]
          },
          "metadata": {
            "tags": []
          },
          "execution_count": 18
        },
        {
          "output_type": "display_data",
          "data": {
            "image/png": "[encoded data removed]",
            "text/plain": [
              "<Figure size 432x288 with 1 Axes>"
            ]
          },
          "metadata": {
            "tags": [],
            "needs_background": "light"
          }
        }
      ]
    },
    {
      "cell_type": "markdown",
      "metadata": {
        "id": "_Ep7xmb8OqMp"
      },
      "source": [
        "4. сделать выводы что получилось лучше"
      ]
    },
    {
      "cell_type": "code",
      "metadata": {
        "id": "OlZd-RcPYsqI"
      },
      "source": [
        "лучший результат получился при добавлении дополнительного слоя в CNN"
      ],
      "execution_count": 14,
      "outputs": []
    },
    {
      "cell_type": "code",
      "metadata": {
        "id": "YLrFP989Ysmv"
      },
      "source": [
        ""
      ],
      "execution_count": 14,
      "outputs": []
    },
    {
      "cell_type": "code",
      "metadata": {
        "id": "Nz6eiQkNYsjp"
      },
      "source": [
        ""
      ],
      "execution_count": 14,
      "outputs": []
    },
    {
      "cell_type": "code",
      "metadata": {
        "id": "Y_W1_bvdYsgn"
      },
      "source": [
        ""
      ],
      "execution_count": 14,
      "outputs": []
    },
    {
      "cell_type": "code",
      "metadata": {
        "id": "BM5CmGtYYsdn"
      },
      "source": [
        ""
      ],
      "execution_count": 14,
      "outputs": []
    },
    {
      "cell_type": "code",
      "metadata": {
        "id": "tadGab-wYsat"
      },
      "source": [
        ""
      ],
      "execution_count": 14,
      "outputs": []
    },
    {
      "cell_type": "code",
      "metadata": {
        "id": "rkcaRz6iYsXi"
      },
      "source": [
        ""
      ],
      "execution_count": 14,
      "outputs": []
    },
    {
      "cell_type": "code",
      "metadata": {
        "id": "nqloulp4YsUm"
      },
      "source": [
        ""
      ],
      "execution_count": 14,
      "outputs": []
    },
    {
      "cell_type": "code",
      "metadata": {
        "id": "Pk82yIRQYsRt"
      },
      "source": [
        ""
      ],
      "execution_count": 14,
      "outputs": []
    },
    {
      "cell_type": "code",
      "metadata": {
        "id": "eSA-yHnrYsOs"
      },
      "source": [
        ""
      ],
      "execution_count": 14,
      "outputs": []
    }
  ]
}