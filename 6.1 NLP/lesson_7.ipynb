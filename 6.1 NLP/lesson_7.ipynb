{
  "nbformat": 4,
  "nbformat_minor": 0,
  "metadata": {
    "colab": {
      "name": "lesson_7.ipynb",
      "provenance": []
    },
    "kernelspec": {
      "name": "python3",
      "display_name": "Python 3"
    },
    "language_info": {
      "name": "python"
    }
  },
  "cells": [
    {
      "cell_type": "markdown",
      "metadata": {
        "id": "7Zylc2RaE4NL"
      },
      "source": [
        "Задание из 2-х частей.\n",
        "Берем отызывы за лето (из архива с материалами или предыдущего занятия)\n",
        "1. Учим conv сеть для классификации\n",
        "2. Берём предобученный word2vec и его эмбедингами инициализируем сетку, как влияет на качество?\n",
        "3. Сравнить разные виды эмбедингов tf.Embeddings word2vec/Fasttext (в качестве агригации попробовать разные виды не только среднее для документа)\n",
        "4. По моделировать различные архитектуры сетей (несколько слоёв свёрток с пулингом без с полносвязанными и без них) по смотреть какая архитектура быстрее переобучается, какая более хорошо решает текущую задачу"
      ]
    },
    {
      "cell_type": "code",
      "metadata": {
        "colab": {
          "base_uri": "https://localhost:8080/"
        },
        "id": "azOJsekdGYgS",
        "outputId": "b4746185-ba4d-4cb7-af52-ccd0f8d9ab0f"
      },
      "source": [
        "!pip install pymorphy2"
      ],
      "execution_count": 3,
      "outputs": [
        {
          "output_type": "stream",
          "text": [
            "Collecting pymorphy2\n",
            "\u001b[?25l  Downloading https://files.pythonhosted.org/packages/07/57/b2ff2fae3376d4f3c697b9886b64a54b476e1a332c67eee9f88e7f1ae8c9/pymorphy2-0.9.1-py3-none-any.whl (55kB)\n",
            "\r\u001b[K     |██████                          | 10kB 14.5MB/s eta 0:00:01\r\u001b[K     |███████████▉                    | 20kB 13.8MB/s eta 0:00:01\r\u001b[K     |█████████████████▊              | 30kB 7.7MB/s eta 0:00:01\r\u001b[K     |███████████████████████▋        | 40kB 7.8MB/s eta 0:00:01\r\u001b[K     |█████████████████████████████▌  | 51kB 4.6MB/s eta 0:00:01\r\u001b[K     |████████████████████████████████| 61kB 2.9MB/s \n",
            "\u001b[?25hRequirement already satisfied: docopt>=0.6 in /usr/local/lib/python3.7/dist-packages (from pymorphy2) (0.6.2)\n",
            "Collecting dawg-python>=0.7.1\n",
            "  Downloading https://files.pythonhosted.org/packages/6a/84/ff1ce2071d4c650ec85745766c0047ccc3b5036f1d03559fd46bb38b5eeb/DAWG_Python-0.7.2-py2.py3-none-any.whl\n",
            "Collecting pymorphy2-dicts-ru<3.0,>=2.4\n",
            "\u001b[?25l  Downloading https://files.pythonhosted.org/packages/3a/79/bea0021eeb7eeefde22ef9e96badf174068a2dd20264b9a378f2be1cdd9e/pymorphy2_dicts_ru-2.4.417127.4579844-py2.py3-none-any.whl (8.2MB)\n",
            "\u001b[K     |████████████████████████████████| 8.2MB 7.4MB/s \n",
            "\u001b[?25hInstalling collected packages: dawg-python, pymorphy2-dicts-ru, pymorphy2\n",
            "Successfully installed dawg-python-0.7.2 pymorphy2-0.9.1 pymorphy2-dicts-ru-2.4.417127.4579844\n"
          ],
          "name": "stdout"
        }
      ]
    },
    {
      "cell_type": "code",
      "metadata": {
        "colab": {
          "base_uri": "https://localhost:8080/"
        },
        "id": "N0UGlq2jGsQT",
        "outputId": "2da20592-8ab2-4620-8582-b951be8a436d"
      },
      "source": [
        "!pip install stop-words"
      ],
      "execution_count": 5,
      "outputs": [
        {
          "output_type": "stream",
          "text": [
            "Collecting stop-words\n",
            "  Downloading https://files.pythonhosted.org/packages/1c/cb/d58290804b7a4c5daa42abbbe2a93c477ae53e45541b1825e86f0dfaaf63/stop-words-2018.7.23.tar.gz\n",
            "Building wheels for collected packages: stop-words\n",
            "  Building wheel for stop-words (setup.py) ... \u001b[?25l\u001b[?25hdone\n",
            "  Created wheel for stop-words: filename=stop_words-2018.7.23-cp37-none-any.whl size=32917 sha256=eeb44db314bcbba2224940c681d24a8c36f8ae9e5b1d5f47d2f5d6f746ef872b\n",
            "  Stored in directory: /root/.cache/pip/wheels/75/37/6a/2b295e03bd07290f0da95c3adb9a74ba95fbc333aa8b0c7c78\n",
            "Successfully built stop-words\n",
            "Installing collected packages: stop-words\n",
            "Successfully installed stop-words-2018.7.23\n"
          ],
          "name": "stdout"
        }
      ]
    },
    {
      "cell_type": "code",
      "metadata": {
        "id": "Yo35KoEtEasc"
      },
      "source": [
        "import pandas as pd\n",
        "import numpy as np\n",
        "import matplotlib.pyplot as plt\n",
        "\n",
        "import re\n",
        "from string import punctuation\n",
        "from stop_words import get_stop_words\n",
        "from pymorphy2 import MorphAnalyzer\n",
        "\n",
        "import nltk\n",
        "from nltk.tokenize import word_tokenize\n",
        "from nltk.probability import FreqDist\n",
        "\n",
        "from sklearn.model_selection import train_test_split\n",
        "\n",
        "import tensorflow as tf\n",
        "from tensorflow.keras import layers\n",
        "from tensorflow.keras import utils\n",
        "from tensorflow.keras import models\n",
        "from tensorflow.keras import callbacks\n",
        "\n",
        "from IPython import display"
      ],
      "execution_count": 6,
      "outputs": []
    },
    {
      "cell_type": "code",
      "metadata": {
        "colab": {
          "base_uri": "https://localhost:8080/",
          "height": 195
        },
        "id": "taCU6eRHGA-z",
        "outputId": "2e316c35-a905-478e-beeb-8bf341eb5fb3"
      },
      "source": [
        "df = pd.read_excel('../content/drive/MyDrive/Colab_data/отзывы за лето.xls')\n",
        "df.head()"
      ],
      "execution_count": 8,
      "outputs": [
        {
          "output_type": "execute_result",
          "data": {
            "text/html": [
              "<div>\n",
              "<style scoped>\n",
              "    .dataframe tbody tr th:only-of-type {\n",
              "        vertical-align: middle;\n",
              "    }\n",
              "\n",
              "    .dataframe tbody tr th {\n",
              "        vertical-align: top;\n",
              "    }\n",
              "\n",
              "    .dataframe thead th {\n",
              "        text-align: right;\n",
              "    }\n",
              "</style>\n",
              "<table border=\"1\" class=\"dataframe\">\n",
              "  <thead>\n",
              "    <tr style=\"text-align: right;\">\n",
              "      <th></th>\n",
              "      <th>Rating</th>\n",
              "      <th>Content</th>\n",
              "      <th>Date</th>\n",
              "    </tr>\n",
              "  </thead>\n",
              "  <tbody>\n",
              "    <tr>\n",
              "      <th>0</th>\n",
              "      <td>5</td>\n",
              "      <td>It just works!</td>\n",
              "      <td>2017-08-14</td>\n",
              "    </tr>\n",
              "    <tr>\n",
              "      <th>1</th>\n",
              "      <td>4</td>\n",
              "      <td>В целом удобноное приложение...из минусов хотя...</td>\n",
              "      <td>2017-08-14</td>\n",
              "    </tr>\n",
              "    <tr>\n",
              "      <th>2</th>\n",
              "      <td>5</td>\n",
              "      <td>Отлично все</td>\n",
              "      <td>2017-08-14</td>\n",
              "    </tr>\n",
              "    <tr>\n",
              "      <th>3</th>\n",
              "      <td>5</td>\n",
              "      <td>Стал зависать на 1% работы антивируса. Дальше ...</td>\n",
              "      <td>2017-08-14</td>\n",
              "    </tr>\n",
              "    <tr>\n",
              "      <th>4</th>\n",
              "      <td>5</td>\n",
              "      <td>Очень удобно, работает быстро.</td>\n",
              "      <td>2017-08-14</td>\n",
              "    </tr>\n",
              "  </tbody>\n",
              "</table>\n",
              "</div>"
            ],
            "text/plain": [
              "   Rating                                            Content        Date\n",
              "0       5                                     It just works!  2017-08-14\n",
              "1       4  В целом удобноное приложение...из минусов хотя...  2017-08-14\n",
              "2       5                                        Отлично все  2017-08-14\n",
              "3       5  Стал зависать на 1% работы антивируса. Дальше ...  2017-08-14\n",
              "4       5                     Очень удобно, работает быстро.  2017-08-14"
            ]
          },
          "metadata": {
            "tags": []
          },
          "execution_count": 8
        }
      ]
    },
    {
      "cell_type": "code",
      "metadata": {
        "colab": {
          "base_uri": "https://localhost:8080/"
        },
        "id": "r6z2oFkgGA7d",
        "outputId": "655d7401-b3eb-4a54-ce79-7af5db3a0e96"
      },
      "source": [
        "df.info()"
      ],
      "execution_count": 9,
      "outputs": [
        {
          "output_type": "stream",
          "text": [
            "<class 'pandas.core.frame.DataFrame'>\n",
            "RangeIndex: 20659 entries, 0 to 20658\n",
            "Data columns (total 3 columns):\n",
            " #   Column   Non-Null Count  Dtype \n",
            "---  ------   --------------  ----- \n",
            " 0   Rating   20659 non-null  int64 \n",
            " 1   Content  20656 non-null  object\n",
            " 2   Date     20659 non-null  object\n",
            "dtypes: int64(1), object(2)\n",
            "memory usage: 484.3+ KB\n"
          ],
          "name": "stdout"
        }
      ]
    },
    {
      "cell_type": "code",
      "metadata": {
        "id": "4oSoiqTKGA4E"
      },
      "source": [
        "MAX_WORDS = 200\n",
        "MAX_LEN = 0\n",
        "NUM_CLASSES = 5\n",
        "\n",
        "# Train vars\n",
        "EPOCHS = 10\n",
        "BATCH_SIZE = 64\n",
        "PRINT_BATCH_N = 100"
      ],
      "execution_count": 10,
      "outputs": []
    },
    {
      "cell_type": "code",
      "metadata": {
        "id": "QO-gSxkVGA1C"
      },
      "source": [
        "sw = set(get_stop_words('ru'))\n",
        "exclude = set(punctuation)\n",
        "morpher = MorphAnalyzer()"
      ],
      "execution_count": 11,
      "outputs": []
    },
    {
      "cell_type": "code",
      "metadata": {
        "id": "GoLWl6ESGAyA"
      },
      "source": [
        "def preprocess_text(txt):\n",
        "    txt = str(txt)\n",
        "    txt = ''.join(c for c in txt if c not in exclude)\n",
        "    txt = txt.lower()\n",
        "    txt = [morpher.parse(word)[0].normal_form for word in txt.split() if word not in sw]\n",
        "    txt = \" \".join(txt)\n",
        "    return txt"
      ],
      "execution_count": 12,
      "outputs": []
    },
    {
      "cell_type": "code",
      "metadata": {
        "colab": {
          "base_uri": "https://localhost:8080/",
          "height": 195
        },
        "id": "HI7EscRBGAvA",
        "outputId": "c3b1d9a2-92a0-4840-fd54-9e1ab077a9b6"
      },
      "source": [
        "df['Content'] = df['Content'].apply(preprocess_text)\n",
        "df.head()"
      ],
      "execution_count": 13,
      "outputs": [
        {
          "output_type": "execute_result",
          "data": {
            "text/html": [
              "<div>\n",
              "<style scoped>\n",
              "    .dataframe tbody tr th:only-of-type {\n",
              "        vertical-align: middle;\n",
              "    }\n",
              "\n",
              "    .dataframe tbody tr th {\n",
              "        vertical-align: top;\n",
              "    }\n",
              "\n",
              "    .dataframe thead th {\n",
              "        text-align: right;\n",
              "    }\n",
              "</style>\n",
              "<table border=\"1\" class=\"dataframe\">\n",
              "  <thead>\n",
              "    <tr style=\"text-align: right;\">\n",
              "      <th></th>\n",
              "      <th>Rating</th>\n",
              "      <th>Content</th>\n",
              "      <th>Date</th>\n",
              "    </tr>\n",
              "  </thead>\n",
              "  <tbody>\n",
              "    <tr>\n",
              "      <th>0</th>\n",
              "      <td>5</td>\n",
              "      <td>it just works</td>\n",
              "      <td>2017-08-14</td>\n",
              "    </tr>\n",
              "    <tr>\n",
              "      <th>1</th>\n",
              "      <td>4</td>\n",
              "      <td>целое удобноной приложениеиз минус хотеть боль...</td>\n",
              "      <td>2017-08-14</td>\n",
              "    </tr>\n",
              "    <tr>\n",
              "      <th>2</th>\n",
              "      <td>5</td>\n",
              "      <td>отлично</td>\n",
              "      <td>2017-08-14</td>\n",
              "    </tr>\n",
              "    <tr>\n",
              "      <th>3</th>\n",
              "      <td>5</td>\n",
              "      <td>зависать 1 работа антивирус ранее пользоваться...</td>\n",
              "      <td>2017-08-14</td>\n",
              "    </tr>\n",
              "    <tr>\n",
              "      <th>4</th>\n",
              "      <td>5</td>\n",
              "      <td>удобно работать быстро</td>\n",
              "      <td>2017-08-14</td>\n",
              "    </tr>\n",
              "  </tbody>\n",
              "</table>\n",
              "</div>"
            ],
            "text/plain": [
              "   Rating                                            Content        Date\n",
              "0       5                                      it just works  2017-08-14\n",
              "1       4  целое удобноной приложениеиз минус хотеть боль...  2017-08-14\n",
              "2       5                                            отлично  2017-08-14\n",
              "3       5  зависать 1 работа антивирус ранее пользоваться...  2017-08-14\n",
              "4       5                             удобно работать быстро  2017-08-14"
            ]
          },
          "metadata": {
            "tags": []
          },
          "execution_count": 13
        }
      ]
    },
    {
      "cell_type": "code",
      "metadata": {
        "colab": {
          "base_uri": "https://localhost:8080/"
        },
        "id": "u2LSVaVISoZn",
        "outputId": "37767bf7-a796-4ed7-f2a4-523df0e80deb"
      },
      "source": [
        "nltk.download('punkt')"
      ],
      "execution_count": 16,
      "outputs": [
        {
          "output_type": "stream",
          "text": [
            "[nltk_data] Downloading package punkt to /root/nltk_data...\n",
            "[nltk_data]   Unzipping tokenizers/punkt.zip.\n"
          ],
          "name": "stdout"
        },
        {
          "output_type": "execute_result",
          "data": {
            "text/plain": [
              "True"
            ]
          },
          "metadata": {
            "tags": []
          },
          "execution_count": 16
        }
      ]
    },
    {
      "cell_type": "code",
      "metadata": {
        "colab": {
          "base_uri": "https://localhost:8080/"
        },
        "id": "TEfExGsHGArl",
        "outputId": "090791a8-f30c-4570-a769-5a0709ecd471"
      },
      "source": [
        "unique_words_count = np.unique(np.array([len(word_tokenize(text)) for text in df['Content']]))\n",
        "\n",
        "MAX_LEN = unique_words_count.max()\n",
        "Q25_LEN = round(np.quantile(unique_words_count, 0.25))\n",
        "MEAN_LEN = round(unique_words_count.mean())\n",
        "MEDIAN_LEN = round(np.median(unique_words_count))\n",
        "Q75_LEN = round(np.quantile(unique_words_count, 0.75))\n",
        "MIN_LEN = unique_words_count.min()\n",
        "\n",
        "print(f'MAX: {MAX_LEN}' \\\n",
        "      f'\\nQUANTILE_75: {Q75_LEN}' \\\n",
        "      f'\\nMEAN: {MEAN_LEN}' \\\n",
        "      f'\\nMEDIAN: {MEDIAN_LEN}' \\\n",
        "      f'\\nQUANTILE_25: {Q25_LEN}' \\\n",
        "      f'\\nMIN: {MIN_LEN}')"
      ],
      "execution_count": 17,
      "outputs": [
        {
          "output_type": "stream",
          "text": [
            "MAX: 132\n",
            "QUANTILE_75: 55\n",
            "MEAN: 40\n",
            "MEDIAN: 36\n",
            "QUANTILE_25: 18\n",
            "MIN: 0\n"
          ],
          "name": "stdout"
        }
      ]
    },
    {
      "cell_type": "code",
      "metadata": {
        "id": "dH133E0XGAoj"
      },
      "source": [
        "X_train, X_test, y_train, y_test = train_test_split(df['Content'], df['Rating'], test_size=0.3, shuffle=True)\n"
      ],
      "execution_count": 18,
      "outputs": []
    },
    {
      "cell_type": "code",
      "metadata": {
        "colab": {
          "base_uri": "https://localhost:8080/",
          "height": 35
        },
        "id": "TiVaeEviHLbA",
        "outputId": "28323d27-66c2-43e1-d683-0599653df191"
      },
      "source": [
        "train_corpus = \" \".join(X_train)\n",
        "train_corpus = train_corpus.lower()\n",
        "train_corpus[:100]"
      ],
      "execution_count": 19,
      "outputs": [
        {
          "output_type": "execute_result",
          "data": {
            "application/vnd.google.colaboratory.intrinsic+json": {
              "type": "string"
            },
            "text/plain": [
              "'удобный приложение учиться тинькова господин пользуюсьот безисходка обновление последний возможно сд'"
            ]
          },
          "metadata": {
            "tags": []
          },
          "execution_count": 19
        }
      ]
    },
    {
      "cell_type": "code",
      "metadata": {
        "colab": {
          "base_uri": "https://localhost:8080/"
        },
        "id": "15h3QkeoHLXP",
        "outputId": "644111d4-85b8-4c97-9a01-dc3ce22dc9cb"
      },
      "source": [
        "tokens = word_tokenize(train_corpus)\n",
        "\n",
        "print(len(tokens))\n",
        "print(tokens[:5])"
      ],
      "execution_count": 20,
      "outputs": [
        {
          "output_type": "stream",
          "text": [
            "70689\n",
            "['удобный', 'приложение', 'учиться', 'тинькова', 'господин']\n"
          ],
          "name": "stdout"
        }
      ]
    },
    {
      "cell_type": "code",
      "metadata": {
        "colab": {
          "base_uri": "https://localhost:8080/"
        },
        "id": "c2FnqyooHLTV",
        "outputId": "915e80c2-a2a2-41ee-a1f4-63af87fcb8f3"
      },
      "source": [
        "tokens_filtered = [word for word in tokens if word.isalnum()]\n",
        "\n",
        "print(len(tokens_filtered))\n",
        "print(tokens_filtered[:5])"
      ],
      "execution_count": 22,
      "outputs": [
        {
          "output_type": "stream",
          "text": [
            "70240\n",
            "['удобный', 'приложение', 'учиться', 'тинькова', 'господин']\n"
          ],
          "name": "stdout"
        }
      ]
    },
    {
      "cell_type": "code",
      "metadata": {
        "colab": {
          "base_uri": "https://localhost:8080/"
        },
        "id": "GcTrDo56HLO2",
        "outputId": "960da0e7-1ac8-417e-972d-e350672ed4bd"
      },
      "source": [
        "dist = FreqDist(tokens_filtered)\n",
        "token_filtered_top = [pair[0] for pair in dist.most_common(MAX_WORDS-1)]\n",
        "token_filtered_top[:5]"
      ],
      "execution_count": 23,
      "outputs": [
        {
          "output_type": "execute_result",
          "data": {
            "text/plain": [
              "['приложение', 'удобно', 'работать', 'удобный', 'отлично']"
            ]
          },
          "metadata": {
            "tags": []
          },
          "execution_count": 23
        }
      ]
    },
    {
      "cell_type": "code",
      "metadata": {
        "id": "Gui_1rr_HK9x"
      },
      "source": [
        "vocabulary = {v: k for k, v in dict(enumerate(token_filtered_top, 1)).items()}\n"
      ],
      "execution_count": 24,
      "outputs": []
    },
    {
      "cell_type": "code",
      "metadata": {
        "id": "sq0ANjfJUKPU"
      },
      "source": [
        "def text_to_sequence(text, maxlen):\n",
        "    result = []\n",
        "    tokens = word_tokenize(text.lower())\n",
        "    tokens_filtered = [word for word in tokens if word.isalnum()]\n",
        "    for word in tokens_filtered:\n",
        "        if word in vocabulary:\n",
        "            result.append(vocabulary[word])\n",
        "    padding = [0]*(maxlen-len(result))\n",
        "    padding = padding + result[-maxlen:]\n",
        "    return padding"
      ],
      "execution_count": 25,
      "outputs": []
    },
    {
      "cell_type": "code",
      "metadata": {
        "colab": {
          "base_uri": "https://localhost:8080/"
        },
        "id": "lY1DRq0gUKMD",
        "outputId": "6ea17f1c-4616-4916-86b6-442926bb2d80"
      },
      "source": [
        "X_train_bow = np.asarray([text_to_sequence(text, MAX_LEN) for text in X_train], dtype=np.int32)\n",
        "X_test_bow = np.asarray([text_to_sequence(text, MAX_LEN) for text in X_test], dtype=np.int32)\n",
        "\n",
        "print(X_train_bow)\n",
        "print(X_train_bow.shape)\n",
        "\n",
        "print(X_test_bow)\n",
        "print(X_test_bow.shape)"
      ],
      "execution_count": 26,
      "outputs": [
        {
          "output_type": "stream",
          "text": [
            "[[ 0  0  0 ...  0  4  1]\n",
            " [ 0  0  0 ...  0  0  0]\n",
            " [ 0  0  0 ... 54 27  1]\n",
            " ...\n",
            " [ 0  0  0 ...  0  0  6]\n",
            " [ 0  0  0 ...  0  9  1]\n",
            " [ 0  0  0 ...  0  0  2]]\n",
            "(14461, 132)\n",
            "[[  0   0   0 ...  20 102  43]\n",
            " [  0   0   0 ...  20  72 119]\n",
            " [  0   0   0 ...   0   0  10]\n",
            " ...\n",
            " [  0   0   0 ...   0  12   2]\n",
            " [  0   0   0 ...   0   0   0]\n",
            " [  0   0   0 ...   0   0   0]]\n",
            "(6198, 132)\n"
          ],
          "name": "stdout"
        }
      ]
    },
    {
      "cell_type": "code",
      "metadata": {
        "colab": {
          "base_uri": "https://localhost:8080/"
        },
        "id": "ooEZ4hWQUKIe",
        "outputId": "e4060e74-60f0-4f5a-edc3-749bd822a817"
      },
      "source": [
        "y_train_cat = utils.to_categorical(y_train, num_classes=NUM_CLASSES+1)\n",
        "y_test_cat = utils.to_categorical(y_test, num_classes=NUM_CLASSES+1)\n",
        "\n",
        "print(y_train_cat[:5])\n",
        "print(y_train_cat.shape)\n",
        "\n",
        "print(y_test_cat[:5])\n",
        "print(y_test_cat.shape)"
      ],
      "execution_count": 27,
      "outputs": [
        {
          "output_type": "stream",
          "text": [
            "[[0. 0. 0. 0. 0. 1.]\n",
            " [0. 0. 0. 0. 0. 1.]\n",
            " [0. 1. 0. 0. 0. 0.]\n",
            " [0. 0. 0. 0. 0. 1.]\n",
            " [0. 0. 0. 0. 0. 1.]]\n",
            "(14461, 6)\n",
            "[[0. 0. 0. 1. 0. 0.]\n",
            " [0. 1. 0. 0. 0. 0.]\n",
            " [0. 0. 0. 0. 0. 1.]\n",
            " [0. 0. 0. 0. 1. 0.]\n",
            " [0. 1. 0. 0. 0. 0.]]\n",
            "(6198, 6)\n"
          ],
          "name": "stdout"
        }
      ]
    },
    {
      "cell_type": "markdown",
      "metadata": {
        "id": "zYK0nqA5Vviu"
      },
      "source": [
        "\n",
        "1. Учим conv сеть для классификации"
      ]
    },
    {
      "cell_type": "code",
      "metadata": {
        "id": "I02Ysi3pUKFm"
      },
      "source": [
        "model = models.Sequential([\n",
        "    layers.Embedding(input_dim=MAX_WORDS, output_dim=128, input_length=MAX_LEN),\n",
        "    layers.Conv1D(filters=128, kernel_size=3),\n",
        "    layers.Activation('relu'),\n",
        "    \n",
        "    layers.GlobalMaxPool1D(),\n",
        "    layers.Dense(10),\n",
        "    layers.Activation('relu'),\n",
        "    \n",
        "    layers.Dense(NUM_CLASSES+1),\n",
        "    layers.Activation('softmax')\n",
        "])\n",
        "\n",
        "model.compile(\n",
        "    loss='categorical_crossentropy',\n",
        "    optimizer='adam',\n",
        "    metrics=['accuracy']\n",
        ")"
      ],
      "execution_count": 28,
      "outputs": []
    },
    {
      "cell_type": "code",
      "metadata": {
        "colab": {
          "base_uri": "https://localhost:8080/"
        },
        "id": "wz1pw8GUUKCF",
        "outputId": "76fb2311-2bca-452a-d851-451d55810c0a"
      },
      "source": [
        "tensorboard = callbacks.TensorBoard(log_dir='./logs', write_graph=True, write_images=True)\n",
        "early_stopping = callbacks.EarlyStopping(monitor='val_loss')\n",
        "\n",
        "history = model.fit(\n",
        "    X_train_bow, y_train_cat, \n",
        "    batch_size=BATCH_SIZE,\n",
        "    epochs=EPOCHS,\n",
        "    verbose=1,\n",
        "    validation_split=0.1,\n",
        "    callbacks=[tensorboard, early_stopping]\n",
        ")\n",
        "\n",
        "score = model.evaluate(X_test_bow, y_test_cat, batch_size=BATCH_SIZE, verbose=1)\n",
        "\n",
        "print('Test score:', score[0])\n",
        "print('Test accuracy:', score[1])"
      ],
      "execution_count": 29,
      "outputs": [
        {
          "output_type": "stream",
          "text": [
            "Epoch 1/10\n",
            "204/204 [==============================] - 16s 73ms/step - loss: 1.3922 - accuracy: 0.4107 - val_loss: 0.7022 - val_accuracy: 0.7671\n",
            "Epoch 2/10\n",
            "204/204 [==============================] - 14s 71ms/step - loss: 0.7169 - accuracy: 0.7557 - val_loss: 0.6786 - val_accuracy: 0.7671\n",
            "Epoch 3/10\n",
            "204/204 [==============================] - 15s 72ms/step - loss: 0.6693 - accuracy: 0.7732 - val_loss: 0.6917 - val_accuracy: 0.7623\n",
            "97/97 [==============================] - 2s 19ms/step - loss: 0.6923 - accuracy: 0.7630\n",
            "Test score: 0.6922624111175537\n",
            "Test accuracy: 0.7629880309104919\n"
          ],
          "name": "stdout"
        }
      ]
    },
    {
      "cell_type": "code",
      "metadata": {
        "colab": {
          "base_uri": "https://localhost:8080/",
          "height": 282
        },
        "id": "HMzAAzXnUJ_C",
        "outputId": "3ca80192-31cd-4083-d632-1f33d87d3757"
      },
      "source": [
        "pd.DataFrame(history.history).plot()\n"
      ],
      "execution_count": 30,
      "outputs": [
        {
          "output_type": "execute_result",
          "data": {
            "text/plain": [
              "<matplotlib.axes._subplots.AxesSubplot at 0x7f49952ba290>"
            ]
          },
          "metadata": {
            "tags": []
          },
          "execution_count": 30
        },
        {
          "output_type": "display_data",
          "data": {
            "image/png": "[encoded data removed]",
            "text/plain": [
              "<Figure size 432x288 with 1 Axes>"
            ]
          },
          "metadata": {
            "tags": [],
            "needs_background": "light"
          }
        }
      ]
    },
    {
      "cell_type": "code",
      "metadata": {
        "colab": {
          "base_uri": "https://localhost:8080/",
          "height": 537
        },
        "id": "Xi_w_6hsUJ77",
        "outputId": "c3d8a302-a797-49d6-89ee-c45438b28c8b"
      },
      "source": [
        "y_pred = model.predict(X_test_bow, batch_size=BATCH_SIZE, verbose=1)\n",
        "y_pred = pd.Series(y_pred.argmax(axis=1))\n",
        "\n",
        "result = pd.DataFrame({'idx': y_test.index, 'y_test': y_test.values, 'y_pred': y_pred.values}).set_index('idx')\n",
        "print(result)\n",
        "\n",
        "plt.bar(result['y_pred'].value_counts().index, result['y_pred'].value_counts().values, color='black', label='pred')\n",
        "plt.bar(result['y_test'].value_counts().index, result['y_test'].value_counts().values, alpha=0.5, color='orange', label='true')\n",
        "plt.legend()\n",
        "plt.show()"
      ],
      "execution_count": 31,
      "outputs": [
        {
          "output_type": "stream",
          "text": [
            "97/97 [==============================] - 2s 19ms/step\n",
            "       y_test  y_pred\n",
            "idx                  \n",
            "14637       3       1\n",
            "18538       1       1\n",
            "17663       5       5\n",
            "12329       4       5\n",
            "472         1       1\n",
            "...       ...     ...\n",
            "2806        5       5\n",
            "10492       5       5\n",
            "11225       5       5\n",
            "12907       5       5\n",
            "421         5       5\n",
            "\n",
            "[6198 rows x 2 columns]\n"
          ],
          "name": "stdout"
        },
        {
          "output_type": "display_data",
          "data": {
            "image/png": "[encoded data removed]",
            "text/plain": [
              "<Figure size 432x288 with 1 Axes>"
            ]
          },
          "metadata": {
            "tags": [],
            "needs_background": "light"
          }
        }
      ]
    },
    {
      "cell_type": "markdown",
      "metadata": {
        "id": "r8-hWBidY7IA"
      },
      "source": [
        "2. Берём предобученный word2vec и его эмбедингами инициализируем сетку, как влияет на качество?"
      ]
    },
    {
      "cell_type": "code",
      "metadata": {
        "colab": {
          "base_uri": "https://localhost:8080/"
        },
        "id": "rQVCbf-mUJ4x",
        "outputId": "f52a3394-de14-4f57-c947-990a0ef51038"
      },
      "source": [
        "import gensim.downloader as api\n",
        "api.info()['models'].keys()"
      ],
      "execution_count": 32,
      "outputs": [
        {
          "output_type": "execute_result",
          "data": {
            "text/plain": [
              "dict_keys(['fasttext-wiki-news-subwords-300', 'conceptnet-numberbatch-17-06-300', 'word2vec-ruscorpora-300', 'word2vec-google-news-300', 'glove-wiki-gigaword-50', 'glove-wiki-gigaword-100', 'glove-wiki-gigaword-200', 'glove-wiki-gigaword-300', 'glove-twitter-25', 'glove-twitter-50', 'glove-twitter-100', 'glove-twitter-200', '__testing_word2vec-matrix-synopsis'])"
            ]
          },
          "metadata": {
            "tags": []
          },
          "execution_count": 32
        }
      ]
    },
    {
      "cell_type": "code",
      "metadata": {
        "colab": {
          "base_uri": "https://localhost:8080/"
        },
        "id": "oh2BhByDUJ1s",
        "outputId": "a2f80aff-93de-4f37-f268-64a26e7de44c"
      },
      "source": [
        "wv = api.load('glove-twitter-25')\n"
      ],
      "execution_count": 33,
      "outputs": [
        {
          "output_type": "stream",
          "text": [
            "[==================================================] 100.0% 104.8/104.8MB downloaded\n"
          ],
          "name": "stdout"
        }
      ]
    },
    {
      "cell_type": "code",
      "metadata": {
        "id": "K5TaSvrLUJya"
      },
      "source": [
        "def text_to_wv(text, maxlen):\n",
        "    result = []\n",
        "    words = word_tokenize(text.lower())\n",
        "    words = [word for word in words if word.isalnum()]\n",
        "    for w in words:\n",
        "        if w in wv:\n",
        "            result.append(list(wv[w]))\n",
        "    padding = [[0]*25]*(maxlen-len(result))\n",
        "    result = padding + result[-maxlen:]\n",
        "    return result"
      ],
      "execution_count": 34,
      "outputs": []
    },
    {
      "cell_type": "code",
      "metadata": {
        "colab": {
          "base_uri": "https://localhost:8080/"
        },
        "id": "Cuwz87LtUJvV",
        "outputId": "2502e0fc-bf0a-4faa-fdfc-37c30f59c4f9"
      },
      "source": [
        "X_train_wv = np.array([text_to_wv(text, MAX_LEN) for text in X_train])\n",
        "X_test_wv = np.array([text_to_wv(text, MAX_LEN) for text in X_test])\n",
        "\n",
        "print(X_train_wv.shape)\n",
        "print(X_test_wv.shape)"
      ],
      "execution_count": 35,
      "outputs": [
        {
          "output_type": "stream",
          "text": [
            "(14461, 132, 25)\n",
            "(6198, 132, 25)\n"
          ],
          "name": "stdout"
        }
      ]
    },
    {
      "cell_type": "code",
      "metadata": {
        "id": "W8S_0q44UJsI"
      },
      "source": [
        "model = models.Sequential([\n",
        "    layers.Conv1D(filters=128, kernel_size=3),\n",
        "    layers.Activation('relu'),\n",
        "    \n",
        "    layers.GlobalMaxPool1D(),\n",
        "    layers.Dense(10),\n",
        "    layers.Activation('relu'),\n",
        "    \n",
        "    layers.Dense(NUM_CLASSES+1),\n",
        "    layers.Activation('softmax')\n",
        "])\n",
        "\n",
        "model.compile(\n",
        "    loss='categorical_crossentropy',\n",
        "    optimizer='adam',\n",
        "    metrics=['accuracy']\n",
        ")"
      ],
      "execution_count": 36,
      "outputs": []
    },
    {
      "cell_type": "code",
      "metadata": {
        "colab": {
          "base_uri": "https://localhost:8080/"
        },
        "id": "uiDrJL1cUJo-",
        "outputId": "5165b7e4-1371-4186-f999-e21910edbde3"
      },
      "source": [
        "tensorboard = callbacks.TensorBoard(log_dir='./logs', write_graph=True, write_images=True)\n",
        "early_stopping = callbacks.EarlyStopping(monitor='val_loss')\n",
        "\n",
        "history = model.fit(\n",
        "    X_train_wv, y_train_cat, \n",
        "    batch_size=BATCH_SIZE,\n",
        "    epochs=EPOCHS,\n",
        "    verbose=1,\n",
        "    validation_split=0.1,\n",
        "    callbacks=[tensorboard, early_stopping]\n",
        ")\n",
        "\n",
        "score = model.evaluate(X_test_wv, y_test_cat, batch_size=BATCH_SIZE, verbose=1)\n",
        "\n",
        "print('Test score:', score[0])\n",
        "print('Test accuracy:', score[1])"
      ],
      "execution_count": 37,
      "outputs": [
        {
          "output_type": "stream",
          "text": [
            "Epoch 1/10\n",
            "204/204 [==============================] - 5s 23ms/step - loss: 1.1934 - accuracy: 0.6063 - val_loss: 0.8125 - val_accuracy: 0.7125\n",
            "Epoch 2/10\n",
            "204/204 [==============================] - 4s 21ms/step - loss: 0.8146 - accuracy: 0.7143 - val_loss: 0.7477 - val_accuracy: 0.7346\n",
            "Epoch 3/10\n",
            "204/204 [==============================] - 4s 21ms/step - loss: 0.7634 - accuracy: 0.7298 - val_loss: 0.7276 - val_accuracy: 0.7554\n",
            "Epoch 4/10\n",
            "204/204 [==============================] - 4s 21ms/step - loss: 0.7407 - accuracy: 0.7420 - val_loss: 0.7223 - val_accuracy: 0.7630\n",
            "Epoch 5/10\n",
            "204/204 [==============================] - 4s 21ms/step - loss: 0.7078 - accuracy: 0.7538 - val_loss: 0.7002 - val_accuracy: 0.7408\n",
            "Epoch 6/10\n",
            "204/204 [==============================] - 4s 21ms/step - loss: 0.6765 - accuracy: 0.7666 - val_loss: 0.6868 - val_accuracy: 0.7630\n",
            "Epoch 7/10\n",
            "204/204 [==============================] - 4s 21ms/step - loss: 0.6677 - accuracy: 0.7694 - val_loss: 0.6827 - val_accuracy: 0.7664\n",
            "Epoch 8/10\n",
            "204/204 [==============================] - 4s 21ms/step - loss: 0.6505 - accuracy: 0.7751 - val_loss: 0.6823 - val_accuracy: 0.7643\n",
            "Epoch 9/10\n",
            "204/204 [==============================] - 4s 21ms/step - loss: 0.6599 - accuracy: 0.7749 - val_loss: 0.6684 - val_accuracy: 0.7650\n",
            "Epoch 10/10\n",
            "204/204 [==============================] - 4s 21ms/step - loss: 0.6220 - accuracy: 0.7866 - val_loss: 0.6657 - val_accuracy: 0.7699\n",
            "97/97 [==============================] - 1s 7ms/step - loss: 0.6923 - accuracy: 0.7602\n",
            "Test score: 0.6923131942749023\n",
            "Test accuracy: 0.7602452635765076\n"
          ],
          "name": "stdout"
        }
      ]
    },
    {
      "cell_type": "code",
      "metadata": {
        "colab": {
          "base_uri": "https://localhost:8080/",
          "height": 284
        },
        "id": "uzS0ZSjBUJkZ",
        "outputId": "6d3d21f8-89aa-4d68-a054-8786d881cc45"
      },
      "source": [
        "pd.DataFrame(history.history).plot()\n"
      ],
      "execution_count": 38,
      "outputs": [
        {
          "output_type": "execute_result",
          "data": {
            "text/plain": [
              "<matplotlib.axes._subplots.AxesSubplot at 0x7f4975f82810>"
            ]
          },
          "metadata": {
            "tags": []
          },
          "execution_count": 38
        },
        {
          "output_type": "display_data",
          "data": {
            "image/png": "[encoded data removed]",
            "text/plain": [
              "<Figure size 432x288 with 1 Axes>"
            ]
          },
          "metadata": {
            "tags": [],
            "needs_background": "light"
          }
        }
      ]
    },
    {
      "cell_type": "code",
      "metadata": {
        "colab": {
          "base_uri": "https://localhost:8080/",
          "height": 534
        },
        "id": "_pISfC9yUJhe",
        "outputId": "598009e3-ed8b-4ee2-cf96-c5c52c4d8ffe"
      },
      "source": [
        "y_pred = model.predict(X_test_wv, batch_size=BATCH_SIZE, verbose=1)\n",
        "y_pred = pd.Series(y_pred.argmax(axis=1))\n",
        "\n",
        "result = pd.DataFrame({'idx': y_test.index, 'y_test': y_test.values, 'y_pred': y_pred.values}).set_index('idx')\n",
        "print(result)\n",
        "\n",
        "plt.bar(result['y_pred'].value_counts().index, result['y_pred'].value_counts().values, color='black', label='pred')\n",
        "plt.bar(result['y_test'].value_counts().index, result['y_test'].value_counts().values, alpha=0.5, color='orange', label='true')\n",
        "plt.legend()\n",
        "plt.show()"
      ],
      "execution_count": 39,
      "outputs": [
        {
          "output_type": "stream",
          "text": [
            "97/97 [==============================] - 1s 6ms/step\n",
            "       y_test  y_pred\n",
            "idx                  \n",
            "14637       3       4\n",
            "18538       1       1\n",
            "17663       5       5\n",
            "12329       4       5\n",
            "472         1       1\n",
            "...       ...     ...\n",
            "2806        5       5\n",
            "10492       5       5\n",
            "11225       5       5\n",
            "12907       5       5\n",
            "421         5       5\n",
            "\n",
            "[6198 rows x 2 columns]\n"
          ],
          "name": "stdout"
        },
        {
          "output_type": "display_data",
          "data": {
            "image/png": "[encoded data removed]",
            "text/plain": [
              "<Figure size 432x288 with 1 Axes>"
            ]
          },
          "metadata": {
            "tags": [],
            "needs_background": "light"
          }
        }
      ]
    },
    {
      "cell_type": "markdown",
      "metadata": {
        "id": "1N1aY7zNbOd4"
      },
      "source": [
        "3. Сравнить разные виды эмбедингов tf.Embeddings word2vec/Fasttext (в качестве агригации попробовать разные виды не только среднее для документа)"
      ]
    },
    {
      "cell_type": "code",
      "metadata": {
        "id": "Cj8nzuBMUJeF"
      },
      "source": [
        "df_score = pd.DataFrame(columns=['aggr']).set_index('aggr')\n"
      ],
      "execution_count": 40,
      "outputs": []
    },
    {
      "cell_type": "code",
      "metadata": {
        "colab": {
          "base_uri": "https://localhost:8080/"
        },
        "id": "7k1j3Gy0aoDY",
        "outputId": "4be819a6-0137-4405-8e43-0644ad488920"
      },
      "source": [
        "for key, val in {'q25': Q25_LEN, 'mean': MEAN_LEN, 'median': MEDIAN_LEN, 'q75': Q75_LEN, 'max': MAX_LEN}.items():\n",
        "    \n",
        "    display.clear_output(wait=False)\n",
        "    \n",
        "    model = models.Sequential([\n",
        "        layers.Embedding(input_dim=MAX_WORDS, output_dim=128, input_length=val),\n",
        "        layers.Conv1D(filters=128, kernel_size=3),\n",
        "        layers.Activation('relu'),\n",
        "\n",
        "        layers.GlobalMaxPool1D(),\n",
        "        layers.Dense(10),\n",
        "        layers.Activation('relu'),\n",
        "\n",
        "        layers.Dense(NUM_CLASSES+1),\n",
        "        layers.Activation('softmax')\n",
        "    ])\n",
        "\n",
        "    model.compile(\n",
        "        loss='categorical_crossentropy',\n",
        "        optimizer='adam',\n",
        "        metrics=['accuracy']\n",
        "    )\n",
        "    \n",
        "    tensorboard = callbacks.TensorBoard(log_dir='./logs', write_graph=True, write_images=True)\n",
        "    early_stopping = callbacks.EarlyStopping(monitor='val_loss')\n",
        "\n",
        "    history = model.fit(\n",
        "        X_train_bow, y_train_cat, \n",
        "        batch_size=BATCH_SIZE,\n",
        "        epochs=EPOCHS,\n",
        "        verbose=1,\n",
        "        validation_split=0.1,\n",
        "        callbacks=[tensorboard, early_stopping]\n",
        "    )\n",
        "\n",
        "    score = model.evaluate(X_test_bow, y_test_cat, batch_size=BATCH_SIZE, verbose=1)\n",
        "\n",
        "    df_score.loc['aggr', key] = score[1]"
      ],
      "execution_count": 41,
      "outputs": [
        {
          "output_type": "stream",
          "text": [
            "Epoch 1/10\n",
            "204/204 [==============================] - 15s 72ms/step - loss: 1.1088 - accuracy: 0.6945 - val_loss: 0.6877 - val_accuracy: 0.7678\n",
            "Epoch 2/10\n",
            "204/204 [==============================] - 14s 69ms/step - loss: 0.6830 - accuracy: 0.7638 - val_loss: 0.6895 - val_accuracy: 0.7671\n",
            "97/97 [==============================] - 2s 19ms/step - loss: 0.6927 - accuracy: 0.7649\n"
          ],
          "name": "stdout"
        }
      ]
    },
    {
      "cell_type": "code",
      "metadata": {
        "colab": {
          "base_uri": "https://localhost:8080/",
          "height": 106
        },
        "id": "p9XnsJcTan_t",
        "outputId": "4ae650de-091b-45af-cd62-0b4122c7bc2a"
      },
      "source": [
        "df_score\n"
      ],
      "execution_count": 42,
      "outputs": [
        {
          "output_type": "execute_result",
          "data": {
            "text/html": [
              "<div>\n",
              "<style scoped>\n",
              "    .dataframe tbody tr th:only-of-type {\n",
              "        vertical-align: middle;\n",
              "    }\n",
              "\n",
              "    .dataframe tbody tr th {\n",
              "        vertical-align: top;\n",
              "    }\n",
              "\n",
              "    .dataframe thead th {\n",
              "        text-align: right;\n",
              "    }\n",
              "</style>\n",
              "<table border=\"1\" class=\"dataframe\">\n",
              "  <thead>\n",
              "    <tr style=\"text-align: right;\">\n",
              "      <th></th>\n",
              "      <th>q25</th>\n",
              "      <th>mean</th>\n",
              "      <th>median</th>\n",
              "      <th>q75</th>\n",
              "      <th>max</th>\n",
              "    </tr>\n",
              "    <tr>\n",
              "      <th>aggr</th>\n",
              "      <th></th>\n",
              "      <th></th>\n",
              "      <th></th>\n",
              "      <th></th>\n",
              "      <th></th>\n",
              "    </tr>\n",
              "  </thead>\n",
              "  <tbody>\n",
              "    <tr>\n",
              "      <th>aggr</th>\n",
              "      <td>0.769119</td>\n",
              "      <td>0.769603</td>\n",
              "      <td>0.770087</td>\n",
              "      <td>0.770087</td>\n",
              "      <td>0.764924</td>\n",
              "    </tr>\n",
              "  </tbody>\n",
              "</table>\n",
              "</div>"
            ],
            "text/plain": [
              "           q25      mean    median       q75       max\n",
              "aggr                                                  \n",
              "aggr  0.769119  0.769603  0.770087  0.770087  0.764924"
            ]
          },
          "metadata": {
            "tags": []
          },
          "execution_count": 42
        }
      ]
    },
    {
      "cell_type": "markdown",
      "metadata": {
        "id": "9bC8XwzYbYZ_"
      },
      "source": [
        "4. По моделировать различные архитектуры сетей (несколько слоёв свёрток с пулингом без с полносвязанными и без них) посмотреть какая архитектура быстрее переобучается, какая более хорошо решает текущую задачу"
      ]
    },
    {
      "cell_type": "markdown",
      "metadata": {
        "id": "nZczoZaLbduj"
      },
      "source": [
        "+1 Conv"
      ]
    },
    {
      "cell_type": "code",
      "metadata": {
        "colab": {
          "base_uri": "https://localhost:8080/",
          "height": 366
        },
        "id": "-NumBzpzan8q",
        "outputId": "6aec2672-12e7-4fc5-e7a1-6d3f070ab7d5"
      },
      "source": [
        "model = models.Sequential([\n",
        "    layers.Embedding(input_dim=MAX_WORDS, output_dim=128, input_length=MAX_LEN),\n",
        "    \n",
        "    layers.Conv1D(filters=128, kernel_size=5),\n",
        "    layers.Activation('relu'),\n",
        "    \n",
        "    layers.Conv1D(filters=128, kernel_size=3),\n",
        "    layers.Activation('relu'),\n",
        "    \n",
        "    layers.GlobalMaxPool1D(),\n",
        "    \n",
        "    layers.Dense(10),\n",
        "    layers.Activation('relu'),\n",
        "\n",
        "    layers.Dense(NUM_CLASSES+1),\n",
        "    layers.Activation('softmax')\n",
        "])\n",
        "\n",
        "model.compile(\n",
        "    loss='categorical_crossentropy',\n",
        "    optimizer='adam',\n",
        "    metrics=['accuracy']\n",
        ")\n",
        "\n",
        "tensorboard = callbacks.TensorBoard(log_dir='./logs', write_graph=True, write_images=True)\n",
        "early_stopping = callbacks.EarlyStopping(monitor='val_loss')\n",
        "\n",
        "history = model.fit(\n",
        "    X_train_bow, y_train_cat, \n",
        "    batch_size=BATCH_SIZE,\n",
        "    epochs=EPOCHS,\n",
        "    verbose=1,\n",
        "    validation_split=0.1,\n",
        "    callbacks=[tensorboard, early_stopping]\n",
        ")\n",
        "\n",
        "score = model.evaluate(X_test_bow, y_test_cat, batch_size=BATCH_SIZE, verbose=1)\n",
        "\n",
        "pd.DataFrame(history.history).plot()"
      ],
      "execution_count": 43,
      "outputs": [
        {
          "output_type": "stream",
          "text": [
            "Epoch 1/10\n",
            "204/204 [==============================] - 37s 176ms/step - loss: 0.9591 - accuracy: 0.7097 - val_loss: 0.6827 - val_accuracy: 0.7664\n",
            "Epoch 2/10\n",
            "204/204 [==============================] - 35s 173ms/step - loss: 0.6807 - accuracy: 0.7648 - val_loss: 0.6898 - val_accuracy: 0.7671\n",
            "97/97 [==============================] - 4s 43ms/step - loss: 0.6886 - accuracy: 0.7615\n"
          ],
          "name": "stdout"
        },
        {
          "output_type": "execute_result",
          "data": {
            "text/plain": [
              "<matplotlib.axes._subplots.AxesSubplot at 0x7f497242e790>"
            ]
          },
          "metadata": {
            "tags": []
          },
          "execution_count": 43
        },
        {
          "output_type": "display_data",
          "data": {
            "image/png": "[encoded data removed]",
            "text/plain": [
              "<Figure size 432x288 with 1 Axes>"
            ]
          },
          "metadata": {
            "tags": [],
            "needs_background": "light"
          }
        }
      ]
    },
    {
      "cell_type": "markdown",
      "metadata": {
        "id": "It6iDChJbh6a"
      },
      "source": [
        "-- Dense"
      ]
    },
    {
      "cell_type": "code",
      "metadata": {
        "colab": {
          "base_uri": "https://localhost:8080/",
          "height": 366
        },
        "id": "5XzGIEgKan5c",
        "outputId": "50ab3c68-3820-4f65-bb64-c0b6d308664e"
      },
      "source": [
        "model = models.Sequential([\n",
        "    layers.Embedding(input_dim=MAX_WORDS, output_dim=128, input_length=MAX_LEN),\n",
        "    \n",
        "    layers.Conv1D(filters=128, kernel_size=5),\n",
        "    layers.Activation('relu'),\n",
        "    \n",
        "    layers.Conv1D(filters=128, kernel_size=3),\n",
        "    layers.Activation('relu'),\n",
        "    \n",
        "    layers.GlobalMaxPool1D(),\n",
        "    \n",
        "    layers.Activation('relu'),\n",
        "\n",
        "    layers.Dense(NUM_CLASSES+1),\n",
        "    layers.Activation('softmax')\n",
        "])\n",
        "\n",
        "model.compile(\n",
        "    loss='categorical_crossentropy',\n",
        "    optimizer='adam',\n",
        "    metrics=['accuracy']\n",
        ")\n",
        "\n",
        "tensorboard = callbacks.TensorBoard(log_dir='./logs', write_graph=True, write_images=True)\n",
        "early_stopping = callbacks.EarlyStopping(monitor='val_loss')\n",
        "\n",
        "history = model.fit(\n",
        "    X_train_bow, y_train_cat, \n",
        "    batch_size=BATCH_SIZE,\n",
        "    epochs=EPOCHS,\n",
        "    verbose=1,\n",
        "    validation_split=0.1,\n",
        "    callbacks=[tensorboard, early_stopping]\n",
        ")\n",
        "\n",
        "score = model.evaluate(X_test_bow, y_test_cat, batch_size=BATCH_SIZE, verbose=1)\n",
        "\n",
        "pd.DataFrame(history.history).plot()"
      ],
      "execution_count": 44,
      "outputs": [
        {
          "output_type": "stream",
          "text": [
            "Epoch 1/10\n",
            "204/204 [==============================] - 37s 177ms/step - loss: 0.9750 - accuracy: 0.7134 - val_loss: 0.6874 - val_accuracy: 0.7623\n",
            "Epoch 2/10\n",
            "204/204 [==============================] - 36s 178ms/step - loss: 0.6829 - accuracy: 0.7641 - val_loss: 0.7111 - val_accuracy: 0.7630\n",
            "97/97 [==============================] - 4s 44ms/step - loss: 0.7035 - accuracy: 0.7619\n"
          ],
          "name": "stdout"
        },
        {
          "output_type": "execute_result",
          "data": {
            "text/plain": [
              "<matplotlib.axes._subplots.AxesSubplot at 0x7f4971192110>"
            ]
          },
          "metadata": {
            "tags": []
          },
          "execution_count": 44
        },
        {
          "output_type": "display_data",
          "data": {
            "image/png": "[encoded data removed]",
            "text/plain": [
              "<Figure size 432x288 with 1 Axes>"
            ]
          },
          "metadata": {
            "tags": [],
            "needs_background": "light"
          }
        }
      ]
    },
    {
      "cell_type": "code",
      "metadata": {
        "id": "50I8A2ooan2H"
      },
      "source": [
        ""
      ],
      "execution_count": null,
      "outputs": []
    },
    {
      "cell_type": "code",
      "metadata": {
        "id": "F8XX24jMany6"
      },
      "source": [
        ""
      ],
      "execution_count": null,
      "outputs": []
    },
    {
      "cell_type": "code",
      "metadata": {
        "id": "A63BZIVjanv_"
      },
      "source": [
        ""
      ],
      "execution_count": null,
      "outputs": []
    }
  ]
}