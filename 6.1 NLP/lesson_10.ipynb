{
  "nbformat": 4,
  "nbformat_minor": 0,
  "metadata": {
    "colab": {
      "name": "lesson_10.ipynb",
      "provenance": []
    },
    "kernelspec": {
      "name": "python3",
      "display_name": "Python 3"
    },
    "language_info": {
      "name": "python"
    }
  },
  "cells": [
    {
      "cell_type": "markdown",
      "metadata": {
        "id": "drcg4GK4bCht"
      },
      "source": [
        "Разобраться с задачей перевода с вниманием и без внимания (материалы в архиве с пометкой actual)"
      ]
    },
    {
      "cell_type": "code",
      "metadata": {
        "id": "BQ7lBbSiatv6"
      },
      "source": [
        "import os\n",
        "import time\n",
        "\n",
        "import re\n",
        "\n",
        "from sklearn.model_selection import train_test_split\n",
        "\n",
        "import tensorflow as tf\n",
        "from tensorflow.keras import layers"
      ],
      "execution_count": 1,
      "outputs": []
    },
    {
      "cell_type": "code",
      "metadata": {
        "colab": {
          "base_uri": "https://localhost:8080/"
        },
        "id": "gVhCmHpqbk-l",
        "outputId": "3ecf3816-f310-47d5-89f5-c3e1eb69f79a"
      },
      "source": [
        "!wget http://www.manythings.org/anki/rus-eng.zip\n",
        "!mkdir rus-eng\n",
        "!unzip rus-eng.zip -d rus-eng/\n",
        "!ls /content/rus-eng/ -lah"
      ],
      "execution_count": 5,
      "outputs": [
        {
          "output_type": "stream",
          "text": [
            "--2021-05-12 16:35:09--  http://www.manythings.org/anki/rus-eng.zip\n",
            "Resolving www.manythings.org (www.manythings.org)... 172.67.173.198, 104.21.55.222, 2606:4700:3031::6815:37de, ...\n",
            "Connecting to www.manythings.org (www.manythings.org)|172.67.173.198|:80... connected.\n",
            "HTTP request sent, awaiting response... 200 OK\n",
            "Length: 14042100 (13M) [application/zip]\n",
            "Saving to: ‘rus-eng.zip’\n",
            "\n",
            "rus-eng.zip         100%[===================>]  13.39M  23.6MB/s    in 0.6s    \n",
            "\n",
            "2021-05-12 16:35:09 (23.6 MB/s) - ‘rus-eng.zip’ saved [14042100/14042100]\n",
            "\n",
            "Archive:  rus-eng.zip\n",
            "  inflating: rus-eng/rus.txt         \n",
            "  inflating: rus-eng/_about.txt      \n",
            "total 67M\n",
            "drwxr-xr-x 2 root root 4.0K May 12 16:35 .\n",
            "drwxr-xr-x 1 root root 4.0K May 12 16:35 ..\n",
            "-rw-r--r-- 1 root root 1.5K Jan 24 02:56 _about.txt\n",
            "-rw-r--r-- 1 root root  67M Jan 24 02:56 rus.txt\n"
          ],
          "name": "stdout"
        }
      ]
    },
    {
      "cell_type": "code",
      "metadata": {
        "id": "zi5ge7vXbHeG"
      },
      "source": [
        "PATH_TO_FILE = \"/content/rus-eng/rus.txt\"\n",
        "NUM_EXAMPLES = 100_000"
      ],
      "execution_count": 9,
      "outputs": []
    },
    {
      "cell_type": "code",
      "metadata": {
        "id": "N7pvCs_zbHaf"
      },
      "source": [
        "def preprocess_sentence(w):\n",
        "    w = w.lower().strip()\n",
        "    w = re.sub(r\"([?.!,])\", r\" \\1 \", w)\n",
        "    w = re.sub(r'[\" \"]+', \" \", w)\n",
        "    w = re.sub(r\"[^a-zA-Zа-яА-Я?.!,']+\", \" \", w)\n",
        "    w = w.strip()\n",
        "    w = '<start> ' + w + ' <end>'\n",
        "    return w\n",
        "\n",
        "def create_dataset(path, num_examples=None):\n",
        "    with open(path, 'r', encoding='utf') as lines:\n",
        "        lines = lines.read().strip().split('\\n')\n",
        "\n",
        "    word_pairs = [[preprocess_sentence(w) for w in l.split('\\t')[:2]] for l in lines[:num_examples]]\n",
        "    word_pairs = zip(*word_pairs)\n",
        "    return word_pairs\n",
        "\n",
        "def tokenize(lang):\n",
        "    lang_tokenizer = tf.keras.preprocessing.text.Tokenizer(filters='')\n",
        "    lang_tokenizer.fit_on_texts(lang)\n",
        "\n",
        "    tensor = lang_tokenizer.texts_to_sequences(lang)\n",
        "    tensor = tf.keras.preprocessing.sequence.pad_sequences(tensor, padding='post')\n",
        "\n",
        "    return tensor, lang_tokenizer\n",
        "\n",
        "def load_dataset(path, num_examples=None):\n",
        "    targ_lang, inp_lang = create_dataset(path, num_examples)\n",
        "\n",
        "    input_tensor, inp_lang_tokenizer = tokenize(inp_lang)\n",
        "    target_tensor, targ_lang_tokenizer = tokenize(targ_lang)\n",
        "\n",
        "    return input_tensor, target_tensor, inp_lang_tokenizer, targ_lang_tokenizer"
      ],
      "execution_count": 7,
      "outputs": []
    },
    {
      "cell_type": "code",
      "metadata": {
        "id": "Qn3R4qNLbHXL"
      },
      "source": [
        "input_tensor, target_tensor, inp_lang, targ_lang = load_dataset(PATH_TO_FILE, NUM_EXAMPLES)\n",
        "\n",
        "X_train, X_val, y_train, y_val = train_test_split(input_tensor, target_tensor, test_size=0.2)"
      ],
      "execution_count": 10,
      "outputs": []
    },
    {
      "cell_type": "code",
      "metadata": {
        "id": "A_evvNnRbHTx"
      },
      "source": [
        "BUFFER_SIZE = len(X_train)\n",
        "BATCH_SIZE = 64\n",
        "\n",
        "steps_per_epoch = BUFFER_SIZE // BATCH_SIZE\n",
        "\n",
        "embedding_dim = 256\n",
        "units = 1024\n",
        "\n",
        "vocab_inp_size = len(inp_lang.word_index) + 1\n",
        "vocab_tar_size = len(targ_lang.word_index) + 1"
      ],
      "execution_count": 11,
      "outputs": []
    },
    {
      "cell_type": "code",
      "metadata": {
        "id": "F636ms17bHQp"
      },
      "source": [
        "dataset = tf.data.Dataset.from_tensor_slices((X_train, y_train)).shuffle(BUFFER_SIZE)\n",
        "dataset = dataset.batch(BATCH_SIZE, drop_remainder=True)"
      ],
      "execution_count": 12,
      "outputs": []
    },
    {
      "cell_type": "markdown",
      "metadata": {
        "id": "hYgrEGk1b_Js"
      },
      "source": [
        "2. попробовать поэкспериментировать с архитектурой энкодера и декодера"
      ]
    },
    {
      "cell_type": "code",
      "metadata": {
        "id": "LnBWyvYFbHNn"
      },
      "source": [
        "class Encoder(tf.keras.Model):\n",
        "    def __init__(self, vocab_size, embedding_dim, units, batch_size):\n",
        "        super(Encoder, self).__init__()\n",
        "        \n",
        "        self.batch_size = batch_size\n",
        "        self.units = units\n",
        "        \n",
        "        self.embedding = layers.Embedding(vocab_size, embedding_dim)\n",
        "        self.gru = layers.GRU(units, return_sequences=False, return_state=True, recurrent_initializer='glorot_uniform')\n",
        "        \n",
        "    def call(self, x, hidden):\n",
        "        x = self.embedding(x)\n",
        "        output, state = self.gru(x, initial_state=hidden)\n",
        "        return state\n",
        "    \n",
        "    def initialize_hidden_state(self):\n",
        "        return tf.zeros((self.batch_size, self.units))"
      ],
      "execution_count": 13,
      "outputs": []
    },
    {
      "cell_type": "code",
      "metadata": {
        "id": "uQFiZDjVbHKd"
      },
      "source": [
        "class Decoder(tf.keras.Model):\n",
        "    def __init__(self, vocab_size, embedding_dim, units, batch_size):\n",
        "        super(Decoder, self).__init__()\n",
        "        self.batch_size = batch_size\n",
        "        self.units = units\n",
        "        \n",
        "        self.embedding = layers.Embedding(vocab_size, embedding_dim)\n",
        "        self.gru = layers.GRU(units, return_sequences=True, return_state=True, recurrent_initializer='glorot_uniform')\n",
        "        self.dence = layers.Dense(vocab_size)\n",
        "\n",
        "    def call(self, x, hidden):\n",
        "        x = self.embedding(x)\n",
        "        output, state = self.gru(x, initial_state=hidden)\n",
        "        output = tf.reshape(output, (-1, output.shape[2]))\n",
        "        x = self.dence(output)\n",
        "        return x, state"
      ],
      "execution_count": 14,
      "outputs": []
    },
    {
      "cell_type": "code",
      "metadata": {
        "id": "9dbHq2KlbHHc"
      },
      "source": [
        "encoder = Encoder(vocab_inp_size, embedding_dim, units, BATCH_SIZE)\n",
        "decoder = Decoder(vocab_tar_size, embedding_dim, units, BATCH_SIZE)"
      ],
      "execution_count": 15,
      "outputs": []
    },
    {
      "cell_type": "code",
      "metadata": {
        "id": "KTF5vCttbHEZ"
      },
      "source": [
        "optimizer = tf.keras.optimizers.Adam()\n",
        "loss_object = tf.keras.losses.SparseCategoricalCrossentropy(from_logits=True, reduction='none')\n",
        "\n",
        "def loss_function(real, pred):\n",
        "    mask = tf.math.logical_not(tf.math.equal(real, 0))\n",
        "    loss = loss_object(real, pred)\n",
        "\n",
        "    mask = tf.cast(mask, dtype=loss.dtype)\n",
        "    loss *= mask\n",
        "\n",
        "    return tf.reduce_mean(loss)"
      ],
      "execution_count": 16,
      "outputs": []
    },
    {
      "cell_type": "code",
      "metadata": {
        "id": "ITn1uuoybHBg"
      },
      "source": [
        "checkpoint_dir = './training_nmt_checkpoints'\n",
        "checkpoint_prefix = os.path.join(checkpoint_dir, \"ckpt\")\n",
        "\n",
        "checkpoint = tf.train.Checkpoint(\n",
        "    optimizer=optimizer,\n",
        "    encoder=encoder,\n",
        "    decoder=decoder\n",
        ")"
      ],
      "execution_count": 17,
      "outputs": []
    },
    {
      "cell_type": "code",
      "metadata": {
        "id": "BD_4hPzgbG-e"
      },
      "source": [
        "def train_step(inp, targ, enc_hidden):\n",
        "    loss = 0\n",
        "\n",
        "    with tf.GradientTape() as tape:\n",
        "        enc_hidden = encoder(inp, enc_hidden)\n",
        "        dec_hidden = enc_hidden\n",
        "        dec_input = tf.expand_dims([targ_lang.word_index['<start>']] * BATCH_SIZE, 1)\n",
        "\n",
        "        for t in range(1, targ.shape[1]):\n",
        "            predictions, dec_hidden = decoder(dec_input, dec_hidden)\n",
        "\n",
        "            loss += loss_function(targ[:, t], predictions)\n",
        "\n",
        "            dec_input = tf.expand_dims(targ[:, t], 1)\n",
        "\n",
        "    batch_loss = loss / int(targ.shape[1])\n",
        "    variables = encoder.trainable_variables + decoder.trainable_variables\n",
        "    gradients = tape.gradient(loss, variables)\n",
        "\n",
        "    optimizer.apply_gradients(zip(gradients, variables))\n",
        "\n",
        "    return batch_loss"
      ],
      "execution_count": 18,
      "outputs": []
    },
    {
      "cell_type": "code",
      "metadata": {
        "colab": {
          "base_uri": "https://localhost:8080/"
        },
        "id": "heKen7VcbG7T",
        "outputId": "2a41ff8c-3bfc-456f-dfab-4e45047cfe70"
      },
      "source": [
        "EPOCHS = 1\n",
        "training = True\n",
        "\n",
        "checkpoint.restore(tf.train.latest_checkpoint(checkpoint_dir))\n",
        "    \n",
        "if training:\n",
        "    for epoch in range(EPOCHS):\n",
        "        start = time.time()\n",
        "        \n",
        "        enc_hidden = encoder.initialize_hidden_state()\n",
        "        total_loss = 0\n",
        "\n",
        "        for batch, (inp, targ) in enumerate(dataset.take(steps_per_epoch)):\n",
        "            batch_loss = train_step(inp, targ, enc_hidden)\n",
        "            total_loss += batch_loss\n",
        "\n",
        "            if batch % 200 == 0:\n",
        "                print(f'Epoch {epoch + 1} Batch {batch} Loss {batch_loss.numpy():.4f}')\n",
        "                checkpoint.save(file_prefix=checkpoint_prefix)\n",
        "                print('checkpoint saved')\n",
        "\n",
        "        print(f'Epoch {epoch + 1} Loss {total_loss / steps_per_epoch:.4f}')\n",
        "        print(f'{round(time.time() - start)} sec./batch\\n')"
      ],
      "execution_count": 19,
      "outputs": [
        {
          "output_type": "stream",
          "text": [
            "Epoch 1 Batch 0 Loss 4.5888\n",
            "checkpoint saved\n",
            "Epoch 1 Batch 200 Loss 1.8872\n",
            "checkpoint saved\n",
            "Epoch 1 Batch 400 Loss 1.5194\n",
            "checkpoint saved\n",
            "Epoch 1 Batch 600 Loss 1.2949\n",
            "checkpoint saved\n",
            "Epoch 1 Batch 800 Loss 1.1850\n",
            "checkpoint saved\n",
            "Epoch 1 Batch 1000 Loss 1.0523\n",
            "checkpoint saved\n",
            "Epoch 1 Batch 1200 Loss 0.9832\n",
            "checkpoint saved\n",
            "Epoch 1 Loss 1.4365\n",
            "3402 sec./batch\n",
            "\n"
          ],
          "name": "stdout"
        }
      ]
    },
    {
      "cell_type": "code",
      "metadata": {
        "id": "-Gh_bdBCbG3x"
      },
      "source": [
        "def evaluate(sentence):\n",
        "    sentence = preprocess_sentence(sentence)\n",
        "\n",
        "    inputs = [inp_lang.word_index[i] for i in sentence.split(' ')]\n",
        "    inputs = tf.keras.preprocessing.sequence.pad_sequences(\n",
        "        [inputs],\n",
        "        maxlen=input_tensor.shape[1],\n",
        "        padding='post'\n",
        "    )\n",
        "    inputs = tf.convert_to_tensor(inputs)\n",
        "\n",
        "    result = ''\n",
        "\n",
        "    enc_hidden = [tf.zeros((1, units))]\n",
        "    enc_hidden = encoder(inputs, enc_hidden)\n",
        "\n",
        "    dec_hidden = enc_hidden\n",
        "    dec_input = tf.expand_dims([targ_lang.word_index['<start>']], 0)\n",
        "\n",
        "    for t in range(target_tensor.shape[1]):\n",
        "        pred, dec_hidden = decoder(dec_input, dec_hidden)\n",
        "        pred = tf.argmax(pred[0]).numpy()\n",
        "        \n",
        "        result += targ_lang.index_word[pred] + ' '\n",
        "\n",
        "        if targ_lang.index_word[pred] == '<end>':\n",
        "            return result, sentence\n",
        "\n",
        "        dec_input = tf.expand_dims([pred], 0)\n",
        "\n",
        "    return result, sentence"
      ],
      "execution_count": 20,
      "outputs": []
    },
    {
      "cell_type": "code",
      "metadata": {
        "id": "QDKEcc-IcSsA"
      },
      "source": [
        "def translate(sentence):\n",
        "    result, sentence = evaluate(sentence)\n",
        "    \n",
        "    print(f'Input: {sentence}')\n",
        "    print(f'Predicted translation: {result}')"
      ],
      "execution_count": 21,
      "outputs": []
    },
    {
      "cell_type": "code",
      "metadata": {
        "colab": {
          "base_uri": "https://localhost:8080/"
        },
        "id": "mMNnUWFocSoT",
        "outputId": "b412915b-6c86-4e89-865b-05c38e711b3f"
      },
      "source": [
        "translate('Здесь хорошо.')"
      ],
      "execution_count": 22,
      "outputs": [
        {
          "output_type": "stream",
          "text": [
            "Input: <start> здесь хорошо . <end>\n",
            "Predicted translation: it's a nice day . <end> \n"
          ],
          "name": "stdout"
        }
      ]
    },
    {
      "cell_type": "code",
      "metadata": {
        "colab": {
          "base_uri": "https://localhost:8080/"
        },
        "id": "i3Tnp8vWcSk6",
        "outputId": "780cc3a8-3951-4956-ea75-abc3d6c9b5be"
      },
      "source": [
        "translate('Я не смогу поехать.')"
      ],
      "execution_count": 23,
      "outputs": [
        {
          "output_type": "stream",
          "text": [
            "Input: <start> я не смогу поехать . <end>\n",
            "Predicted translation: i can't go . <end> \n"
          ],
          "name": "stdout"
        }
      ]
    },
    {
      "cell_type": "code",
      "metadata": {
        "colab": {
          "base_uri": "https://localhost:8080/"
        },
        "id": "SqC6DAHscShq",
        "outputId": "71b5eb6e-1ce4-40b9-b3b2-1b04130f36e7"
      },
      "source": [
        "translate(u'Вы еще дома?')"
      ],
      "execution_count": 24,
      "outputs": [
        {
          "output_type": "stream",
          "text": [
            "Input: <start> вы еще дома ? <end>\n",
            "Predicted translation: did you see it ? <end> \n"
          ],
          "name": "stdout"
        }
      ]
    },
    {
      "cell_type": "code",
      "metadata": {
        "colab": {
          "base_uri": "https://localhost:8080/"
        },
        "id": "f4sh8OC5cSeo",
        "outputId": "161070d2-d61e-45da-8f27-9d5421326c67"
      },
      "source": [
        "translate(u'Вы все еще дома?')"
      ],
      "execution_count": 25,
      "outputs": [
        {
          "output_type": "stream",
          "text": [
            "Input: <start> вы все еще дома ? <end>\n",
            "Predicted translation: did you tell tom why ? <end> \n"
          ],
          "name": "stdout"
        }
      ]
    },
    {
      "cell_type": "code",
      "metadata": {
        "colab": {
          "base_uri": "https://localhost:8080/"
        },
        "id": "VBJ0M0E3cSbG",
        "outputId": "b9eb18b5-01fa-4172-bd52-e08fa3589f50"
      },
      "source": [
        "translate(u'Попробуй сделать это.')"
      ],
      "execution_count": 26,
      "outputs": [
        {
          "output_type": "stream",
          "text": [
            "Input: <start> попробуй сделать это . <end>\n",
            "Predicted translation: try it to be here . <end> \n"
          ],
          "name": "stdout"
        }
      ]
    },
    {
      "cell_type": "code",
      "metadata": {
        "colab": {
          "base_uri": "https://localhost:8080/"
        },
        "id": "lgaVznqgcSX9",
        "outputId": "7d716ee2-cd23-450b-bdf9-0f281201b606"
      },
      "source": [
        "translate(u'Я люблю, когда идет снег.')"
      ],
      "execution_count": 27,
      "outputs": [
        {
          "output_type": "stream",
          "text": [
            "Input: <start> я люблю , когда идет снег . <end>\n",
            "Predicted translation: i like to be alone . <end> \n"
          ],
          "name": "stdout"
        }
      ]
    },
    {
      "cell_type": "code",
      "metadata": {
        "colab": {
          "base_uri": "https://localhost:8080/"
        },
        "id": "wWxqtApKcSUr",
        "outputId": "9f94ee50-3d98-4acf-e237-b4c0d4ab9c5d"
      },
      "source": [
        "translate(u'Я никогда такого не делаю.')"
      ],
      "execution_count": 28,
      "outputs": [
        {
          "output_type": "stream",
          "text": [
            "Input: <start> я никогда такого не делаю . <end>\n",
            "Predicted translation: i never saw that . <end> \n"
          ],
          "name": "stdout"
        }
      ]
    },
    {
      "cell_type": "code",
      "metadata": {
        "id": "1RyA2F2kcSRZ"
      },
      "source": [
        "Перевод дальше первого слова не уходит, дальше не имеет отношения к инпуту.. "
      ],
      "execution_count": null,
      "outputs": []
    },
    {
      "cell_type": "code",
      "metadata": {
        "id": "pt49axpObG0x"
      },
      "source": [
        ""
      ],
      "execution_count": null,
      "outputs": []
    },
    {
      "cell_type": "markdown",
      "metadata": {
        "id": "zh3aprPJkc4l"
      },
      "source": [
        "Part 2"
      ]
    },
    {
      "cell_type": "markdown",
      "metadata": {
        "id": "Ch-t6gXbkfUz"
      },
      "source": [
        "Разобраться с задачей перевода с вниманием и без внимания (материалы в архиве с пометкой actual)"
      ]
    },
    {
      "cell_type": "code",
      "metadata": {
        "id": "eCEaKIinpm61"
      },
      "source": [
        "input_tensor, target_tensor, inp_lang, targ_lang = load_dataset(PATH_TO_FILE, NUM_EXAMPLES)\n",
        "\n",
        "X_train, X_val, y_train, y_val = train_test_split(input_tensor, target_tensor, test_size=0.2)"
      ],
      "execution_count": 36,
      "outputs": []
    },
    {
      "cell_type": "code",
      "metadata": {
        "id": "9QOfXYAYpm3s"
      },
      "source": [
        "BUFFER_SIZE = len(X_train)\n",
        "BATCH_SIZE = 64\n",
        "\n",
        "steps_per_epoch = BUFFER_SIZE // BATCH_SIZE\n",
        "\n",
        "embedding_dim = 256\n",
        "units = 1024\n",
        "\n",
        "vocab_inp_size = len(inp_lang.word_index) + 1\n",
        "vocab_tar_size = len(targ_lang.word_index) + 1"
      ],
      "execution_count": 37,
      "outputs": []
    },
    {
      "cell_type": "code",
      "metadata": {
        "id": "rl1HRlnVpm0p"
      },
      "source": [
        "dataset = tf.data.Dataset.from_tensor_slices((X_train, y_train)).shuffle(BUFFER_SIZE)\n",
        "dataset = dataset.batch(BATCH_SIZE, drop_remainder=True)"
      ],
      "execution_count": 38,
      "outputs": []
    },
    {
      "cell_type": "code",
      "metadata": {
        "id": "-ZrAZf40pmxp"
      },
      "source": [
        "class Encoder(tf.keras.Model):\n",
        "    def __init__(self, vocab_size, embedding_dim, units, batch_size):\n",
        "        super(Encoder, self).__init__()\n",
        "        \n",
        "        self.batch_size = batch_size\n",
        "        self.units = units\n",
        "        \n",
        "        self.embedding = layers.Embedding(vocab_size, embedding_dim)\n",
        "        self.gru = layers.GRU(units, return_sequences=False, return_state=True, recurrent_initializer='glorot_uniform')\n",
        "        \n",
        "    def call(self, x, hidden):\n",
        "        x = self.embedding(x)\n",
        "        output, state = self.gru(x, initial_state=hidden)\n",
        "        return output, state\n",
        "    \n",
        "    def initialize_hidden_state(self):\n",
        "        return tf.zeros((self.batch_size, self.units))"
      ],
      "execution_count": 39,
      "outputs": []
    },
    {
      "cell_type": "code",
      "metadata": {
        "id": "H40ouYvvkix0"
      },
      "source": [
        "class BahdanauAttention(layers.Layer):\n",
        "    def __init__(self, units):\n",
        "        super(BahdanauAttention, self).__init__()\n",
        "        \n",
        "        self.w1 = layers.Dense(units)\n",
        "        self.w2 = layers.Dense(units)\n",
        "        self.v = layers.Dense(1)\n",
        "        \n",
        "    def call(self, query, values):\n",
        "        query_with_time_axis = tf.expand_dims(query, 1)\n",
        "        score = self.v(tf.nn.tanh(\n",
        "            self.w1(query_with_time_axis) + self.w2(values)\n",
        "        ))\n",
        "        attention_weights = tf.nn.softmax(score, axis=1)\n",
        "        \n",
        "        context_vector = attention_weights * values\n",
        "        context_vector = tf.reduce_sum(context_vector, axis=1)\n",
        "        \n",
        "        return context_vector, attention_weights"
      ],
      "execution_count": 40,
      "outputs": []
    },
    {
      "cell_type": "code",
      "metadata": {
        "id": "3oLQ0sxKkjYo"
      },
      "source": [
        "class Decoder(tf.keras.Model):\n",
        "    def __init__(self, vocab_size, embedding_dim, units, batch_size):\n",
        "        super(Decoder, self).__init__()\n",
        "        self.batch_size = batch_size\n",
        "        self.units = units\n",
        "        \n",
        "        self.embedding = layers.Embedding(vocab_size, embedding_dim)\n",
        "        self.gru = layers.GRU(units, return_sequences=True, return_state=True, recurrent_initializer='glorot_uniform')\n",
        "        self.dence = layers.Dense(vocab_size)\n",
        "        \n",
        "        self.attention = BahdanauAttention(units)\n",
        "\n",
        "    def call(self, x, hidden, enc_output):\n",
        "        context_vector, attention_weights = self.attention(hidden, enc_output)\n",
        "        \n",
        "        x = self.embedding(x)\n",
        "        x = tf.concat([tf.expand_dims(context_vector, 1), x], axis=-1)\n",
        "        \n",
        "        output, state = self.gru(x)\n",
        "        output = tf.reshape(output, (-1, output.shape[2]))\n",
        "        \n",
        "        x = self.dence(output)\n",
        "        return x, state, attention_weights"
      ],
      "execution_count": 41,
      "outputs": []
    },
    {
      "cell_type": "code",
      "metadata": {
        "id": "AtqmsJi8kjVu"
      },
      "source": [
        "encoder = Encoder(vocab_inp_size, embedding_dim, units, BATCH_SIZE)\n",
        "decoder = Decoder(vocab_tar_size, embedding_dim, units, BATCH_SIZE)"
      ],
      "execution_count": 42,
      "outputs": []
    },
    {
      "cell_type": "code",
      "metadata": {
        "id": "eoiw6s_FkjSs"
      },
      "source": [
        "optimizer = tf.keras.optimizers.Adam()\n",
        "loss_object = tf.keras.losses.SparseCategoricalCrossentropy(from_logits=True, reduction='none')\n",
        "\n",
        "def loss_function(real, pred):\n",
        "    mask = tf.math.logical_not(tf.math.equal(real, 0))\n",
        "    loss = loss_object(real, pred)\n",
        "\n",
        "    mask = tf.cast(mask, dtype=loss.dtype)\n",
        "    loss *= mask\n",
        "\n",
        "    return tf.reduce_mean(loss)"
      ],
      "execution_count": 43,
      "outputs": []
    },
    {
      "cell_type": "code",
      "metadata": {
        "id": "A5LuQHK9kjPu"
      },
      "source": [
        "checkpoint_dir = './training_attention_checkpoints'\n",
        "checkpoint_prefix = os.path.join(checkpoint_dir, \"ckpt\")\n",
        "\n",
        "checkpoint = tf.train.Checkpoint(\n",
        "    optimizer=optimizer,\n",
        "    encoder=encoder,\n",
        "    decoder=decoder\n",
        ")"
      ],
      "execution_count": 44,
      "outputs": []
    },
    {
      "cell_type": "code",
      "metadata": {
        "id": "C7GnAYaSkjMo"
      },
      "source": [
        "def train_step(inp, targ, enc_hidden):\n",
        "    loss = 0\n",
        "\n",
        "    with tf.GradientTape() as tape:\n",
        "        enc_output, enc_hidden = encoder(inp, enc_hidden)\n",
        "        dec_hidden = enc_hidden\n",
        "        dec_input = tf.expand_dims([targ_lang.word_index['<start>']] * BATCH_SIZE, 1)\n",
        "\n",
        "        for t in range(1, targ.shape[1]):\n",
        "            pred, dec_hidden, _ = decoder(dec_input, dec_hidden, enc_output)\n",
        "\n",
        "            loss += loss_function(targ[:, t], pred)\n",
        "\n",
        "            dec_input = tf.expand_dims(targ[:, t], 1)\n",
        "\n",
        "    batch_loss = loss / int(targ.shape[1])\n",
        "    variables = encoder.trainable_variables + decoder.trainable_variables\n",
        "    gradients = tape.gradient(loss, variables)\n",
        "\n",
        "    optimizer.apply_gradients(zip(gradients, variables))\n",
        "\n",
        "    return batch_loss"
      ],
      "execution_count": 45,
      "outputs": []
    },
    {
      "cell_type": "code",
      "metadata": {
        "colab": {
          "base_uri": "https://localhost:8080/"
        },
        "id": "XuQqjZj9kjJu",
        "outputId": "a5ec2a49-b489-4f06-e3f4-f67b006d8afa"
      },
      "source": [
        "EPOCHS = 1\n",
        "training = True\n",
        "\n",
        "checkpoint.restore(tf.train.latest_checkpoint(checkpoint_dir))\n",
        "    \n",
        "if training:\n",
        "    for epoch in range(EPOCHS):\n",
        "        start = time.time()\n",
        "        \n",
        "        enc_hidden = encoder.initialize_hidden_state()\n",
        "        total_loss = 0\n",
        "\n",
        "        for batch, (inp, targ) in enumerate(dataset.take(steps_per_epoch)):\n",
        "            batch_loss = train_step(inp, targ, enc_hidden)\n",
        "            total_loss += batch_loss\n",
        "\n",
        "            if batch % 200 == 0:\n",
        "                print(f'Epoch {epoch + 1} Batch {batch} Loss {batch_loss.numpy():.4f}')\n",
        "                checkpoint.save(file_prefix=checkpoint_prefix)\n",
        "                print('checkpoint saved')\n",
        "\n",
        "        print(f'Epoch {epoch + 1} Loss {total_loss / steps_per_epoch:.4f}')\n",
        "        print(f'{round(time.time() - start)} sec./batch\\n')"
      ],
      "execution_count": 46,
      "outputs": [
        {
          "output_type": "stream",
          "text": [
            "Epoch 1 Batch 0 Loss 4.8031\n",
            "checkpoint saved\n",
            "Epoch 1 Batch 200 Loss 2.0797\n",
            "checkpoint saved\n",
            "Epoch 1 Batch 400 Loss 2.0387\n",
            "checkpoint saved\n",
            "Epoch 1 Batch 600 Loss 2.0424\n",
            "checkpoint saved\n",
            "Epoch 1 Batch 800 Loss 1.6692\n",
            "checkpoint saved\n",
            "Epoch 1 Batch 1000 Loss 1.6062\n",
            "checkpoint saved\n",
            "Epoch 1 Batch 1200 Loss 1.7264\n",
            "checkpoint saved\n",
            "Epoch 1 Loss 1.9411\n",
            "5428 sec./batch\n",
            "\n"
          ],
          "name": "stdout"
        }
      ]
    },
    {
      "cell_type": "code",
      "metadata": {
        "id": "gKXnN9ax1oA7"
      },
      "source": [
        "def evaluate(sentence):\n",
        "    attention_plot = np.zeros((target_tensor.shape[1], input_tensor.shape[1]))\n",
        "    \n",
        "    sentence = preprocess_sentence(sentence)\n",
        "\n",
        "    inputs = [inp_lang.word_index[i] for i in sentence.split(' ')]\n",
        "    inputs = tf.keras.preprocessing.sequence.pad_sequences(\n",
        "        [inputs],\n",
        "        maxlen=input_tensor.shape[1],\n",
        "        padding='post'\n",
        "    )\n",
        "    inputs = tf.convert_to_tensor(inputs)\n",
        "\n",
        "    result = ''\n",
        "\n",
        "    enc_hidden = [tf.zeros((1, units))]\n",
        "    enc_out, enc_hidden = encoder(inputs, enc_hidden)\n",
        "\n",
        "    dec_hidden = enc_hidden\n",
        "    dec_input = tf.expand_dims([targ_lang.word_index['<start>']], 0)\n",
        "\n",
        "    for t in range(target_tensor.shape[1]):\n",
        "        pred, dec_hidden, attention_weights = decoder(dec_input, dec_hidden, enc_out)\n",
        "        \n",
        "        attention_weights = tf.reshape(attention_weights, (-1, ))\n",
        "        attention_plot[t] = attention_weights.numpy()\n",
        "        \n",
        "        pred = tf.argmax(pred[0]).numpy()\n",
        "        \n",
        "        result += targ_lang.index_word[pred] + ' '\n",
        "\n",
        "        if targ_lang.index_word[pred] == '<end>':\n",
        "            return result, sentence, attention_plot\n",
        "\n",
        "        dec_input = tf.expand_dims([pred], 0)\n",
        "\n",
        "    return result, sentence, attention_plot"
      ],
      "execution_count": 47,
      "outputs": []
    },
    {
      "cell_type": "code",
      "metadata": {
        "id": "k9cmEJLr1pYH"
      },
      "source": [
        "def translate(sentence):\n",
        "    result, sentence, attention_plot = evaluate(sentence)\n",
        "    \n",
        "    print(f'Input: {sentence}')\n",
        "    print(f'Predicted translation: {result}')"
      ],
      "execution_count": 48,
      "outputs": []
    },
    {
      "cell_type": "code",
      "metadata": {
        "id": "nPuSSqsRAzTU"
      },
      "source": [
        "import numpy as np\n"
      ],
      "execution_count": 53,
      "outputs": []
    },
    {
      "cell_type": "code",
      "metadata": {
        "colab": {
          "base_uri": "https://localhost:8080/"
        },
        "id": "pWf8NWKd1pVW",
        "outputId": "8dfd0a30-2634-4812-d789-3ddffe39a063"
      },
      "source": [
        "translate('Здесь хорошо.')"
      ],
      "execution_count": 54,
      "outputs": [
        {
          "output_type": "stream",
          "text": [
            "Input: <start> здесь хорошо . <end>\n",
            "Predicted translation: i was a dog is a dog is a dog is \n"
          ],
          "name": "stdout"
        }
      ]
    },
    {
      "cell_type": "code",
      "metadata": {
        "colab": {
          "base_uri": "https://localhost:8080/"
        },
        "id": "UHGM8_O31pSZ",
        "outputId": "7dc46b87-f51e-45be-8e94-b51fb0f59a0d"
      },
      "source": [
        "translate('Я не смогу поехать.')"
      ],
      "execution_count": 55,
      "outputs": [
        {
          "output_type": "stream",
          "text": [
            "Input: <start> я не смогу поехать . <end>\n",
            "Predicted translation: we we we we we we we we we we we \n"
          ],
          "name": "stdout"
        }
      ]
    },
    {
      "cell_type": "code",
      "metadata": {
        "colab": {
          "base_uri": "https://localhost:8080/"
        },
        "id": "adyh6PTG1pPZ",
        "outputId": "6b7e0484-7b70-40fb-e4bd-3cac803659a1"
      },
      "source": [
        "translate(u'Вы еще дома?')"
      ],
      "execution_count": 56,
      "outputs": [
        {
          "output_type": "stream",
          "text": [
            "Input: <start> вы еще дома ? <end>\n",
            "Predicted translation: you're a good is a good is a good is a \n"
          ],
          "name": "stdout"
        }
      ]
    },
    {
      "cell_type": "code",
      "metadata": {
        "colab": {
          "base_uri": "https://localhost:8080/"
        },
        "id": "biweK8VE1pMX",
        "outputId": "537078d0-6707-48ee-ac28-9703dbbc6a42"
      },
      "source": [
        "translate(u'Вы все еще дома?')"
      ],
      "execution_count": 58,
      "outputs": [
        {
          "output_type": "stream",
          "text": [
            "Input: <start> вы все еще дома ? <end>\n",
            "Predicted translation: you're a good is a good is a good is a \n"
          ],
          "name": "stdout"
        }
      ]
    },
    {
      "cell_type": "code",
      "metadata": {
        "colab": {
          "base_uri": "https://localhost:8080/"
        },
        "id": "gMFEYbto1pJd",
        "outputId": "09a68dab-867d-478e-e0b5-fda70f1c4a49"
      },
      "source": [
        "translate(u'Попробуй сделать это.')"
      ],
      "execution_count": 59,
      "outputs": [
        {
          "output_type": "stream",
          "text": [
            "Input: <start> попробуй сделать это . <end>\n",
            "Predicted translation: i was a dog is tom is tom is tom is \n"
          ],
          "name": "stdout"
        }
      ]
    },
    {
      "cell_type": "code",
      "metadata": {
        "colab": {
          "base_uri": "https://localhost:8080/"
        },
        "id": "l-TA2sLg13be",
        "outputId": "7b01cbae-564b-44f4-c41b-fa9aa3f551da"
      },
      "source": [
        "translate(u'Я люблю, когда идет снег.')"
      ],
      "execution_count": 60,
      "outputs": [
        {
          "output_type": "stream",
          "text": [
            "Input: <start> я люблю , когда идет снег . <end>\n",
            "Predicted translation: he . you . you . you . you . you \n"
          ],
          "name": "stdout"
        }
      ]
    },
    {
      "cell_type": "code",
      "metadata": {
        "colab": {
          "base_uri": "https://localhost:8080/"
        },
        "id": "uMGfEDQ115U6",
        "outputId": "bfb6d1d7-9652-4c0c-a366-a58677c6b0d0"
      },
      "source": [
        "translate(u'Я никогда такого не делаю.')"
      ],
      "execution_count": 61,
      "outputs": [
        {
          "output_type": "stream",
          "text": [
            "Input: <start> я никогда такого не делаю . <end>\n",
            "Predicted translation: we we we we we we we we we we we \n"
          ],
          "name": "stdout"
        }
      ]
    },
    {
      "cell_type": "markdown",
      "metadata": {
        "id": "W1dJ_FtYBCA9"
      },
      "source": [
        "Почему-то текст зацикливается. Перевод плохой"
      ]
    }
  ]
}