{
 "cells": [
  {
   "cell_type": "markdown",
   "metadata": {},
   "source": [
    "### Задание 1: отобрать только числовые признаки и обучить модель XGBoost с параметром booster = gbtree. Обучать алгоритм до тех пор, пока метрика качества не перестанет улучшаться на валидационной выборке в течение определенного числа итераций (выбрать значение самостоятельно).\n",
    "\n"
   ]
  },
  {
   "cell_type": "code",
   "execution_count": 1,
   "metadata": {},
   "outputs": [],
   "source": [
    "import warnings\n",
    "import numpy as np\n",
    "import pandas as pd\n",
    "import catboost as cb\n",
    "import matplotlib.pyplot as plt\n",
    "import xgboost as xgb\n",
    "import seaborn as sns\n",
    "import lightgbm as lgb\n",
    "\n",
    "from sklearn.model_selection import train_test_split\n",
    "from sklearn.metrics import roc_auc_score, roc_curve, auc\n",
    "\n",
    "warnings.simplefilter(\"ignore\")"
   ]
  },
  {
   "cell_type": "code",
   "execution_count": 59,
   "metadata": {
    "scrolled": true
   },
   "outputs": [
    {
     "name": "stdout",
     "output_type": "stream",
     "text": [
      "data.shape = 180000 rows, 394 cols\n"
     ]
    },
    {
     "data": {
      "text/html": [
       "<div>\n",
       "<style scoped>\n",
       "    .dataframe tbody tr th:only-of-type {\n",
       "        vertical-align: middle;\n",
       "    }\n",
       "\n",
       "    .dataframe tbody tr th {\n",
       "        vertical-align: top;\n",
       "    }\n",
       "\n",
       "    .dataframe thead th {\n",
       "        text-align: right;\n",
       "    }\n",
       "</style>\n",
       "<table border=\"1\" class=\"dataframe\">\n",
       "  <thead>\n",
       "    <tr style=\"text-align: right;\">\n",
       "      <th></th>\n",
       "      <th>TransactionID</th>\n",
       "      <th>isFraud</th>\n",
       "      <th>TransactionDT</th>\n",
       "      <th>TransactionAmt</th>\n",
       "      <th>ProductCD</th>\n",
       "      <th>card1</th>\n",
       "      <th>card2</th>\n",
       "      <th>card3</th>\n",
       "      <th>card4</th>\n",
       "      <th>card5</th>\n",
       "      <th>...</th>\n",
       "      <th>V330</th>\n",
       "      <th>V331</th>\n",
       "      <th>V332</th>\n",
       "      <th>V333</th>\n",
       "      <th>V334</th>\n",
       "      <th>V335</th>\n",
       "      <th>V336</th>\n",
       "      <th>V337</th>\n",
       "      <th>V338</th>\n",
       "      <th>V339</th>\n",
       "    </tr>\n",
       "  </thead>\n",
       "  <tbody>\n",
       "    <tr>\n",
       "      <th>0</th>\n",
       "      <td>2987000</td>\n",
       "      <td>0</td>\n",
       "      <td>86400</td>\n",
       "      <td>68.5</td>\n",
       "      <td>W</td>\n",
       "      <td>13926</td>\n",
       "      <td>NaN</td>\n",
       "      <td>150.0</td>\n",
       "      <td>discover</td>\n",
       "      <td>142.0</td>\n",
       "      <td>...</td>\n",
       "      <td>NaN</td>\n",
       "      <td>NaN</td>\n",
       "      <td>NaN</td>\n",
       "      <td>NaN</td>\n",
       "      <td>NaN</td>\n",
       "      <td>NaN</td>\n",
       "      <td>NaN</td>\n",
       "      <td>NaN</td>\n",
       "      <td>NaN</td>\n",
       "      <td>NaN</td>\n",
       "    </tr>\n",
       "    <tr>\n",
       "      <th>1</th>\n",
       "      <td>2987001</td>\n",
       "      <td>0</td>\n",
       "      <td>86401</td>\n",
       "      <td>29.0</td>\n",
       "      <td>W</td>\n",
       "      <td>2755</td>\n",
       "      <td>404.0</td>\n",
       "      <td>150.0</td>\n",
       "      <td>mastercard</td>\n",
       "      <td>102.0</td>\n",
       "      <td>...</td>\n",
       "      <td>NaN</td>\n",
       "      <td>NaN</td>\n",
       "      <td>NaN</td>\n",
       "      <td>NaN</td>\n",
       "      <td>NaN</td>\n",
       "      <td>NaN</td>\n",
       "      <td>NaN</td>\n",
       "      <td>NaN</td>\n",
       "      <td>NaN</td>\n",
       "      <td>NaN</td>\n",
       "    </tr>\n",
       "    <tr>\n",
       "      <th>2</th>\n",
       "      <td>2987002</td>\n",
       "      <td>0</td>\n",
       "      <td>86469</td>\n",
       "      <td>59.0</td>\n",
       "      <td>W</td>\n",
       "      <td>4663</td>\n",
       "      <td>490.0</td>\n",
       "      <td>150.0</td>\n",
       "      <td>visa</td>\n",
       "      <td>166.0</td>\n",
       "      <td>...</td>\n",
       "      <td>NaN</td>\n",
       "      <td>NaN</td>\n",
       "      <td>NaN</td>\n",
       "      <td>NaN</td>\n",
       "      <td>NaN</td>\n",
       "      <td>NaN</td>\n",
       "      <td>NaN</td>\n",
       "      <td>NaN</td>\n",
       "      <td>NaN</td>\n",
       "      <td>NaN</td>\n",
       "    </tr>\n",
       "    <tr>\n",
       "      <th>3</th>\n",
       "      <td>2987003</td>\n",
       "      <td>0</td>\n",
       "      <td>86499</td>\n",
       "      <td>50.0</td>\n",
       "      <td>W</td>\n",
       "      <td>18132</td>\n",
       "      <td>567.0</td>\n",
       "      <td>150.0</td>\n",
       "      <td>mastercard</td>\n",
       "      <td>117.0</td>\n",
       "      <td>...</td>\n",
       "      <td>NaN</td>\n",
       "      <td>NaN</td>\n",
       "      <td>NaN</td>\n",
       "      <td>NaN</td>\n",
       "      <td>NaN</td>\n",
       "      <td>NaN</td>\n",
       "      <td>NaN</td>\n",
       "      <td>NaN</td>\n",
       "      <td>NaN</td>\n",
       "      <td>NaN</td>\n",
       "    </tr>\n",
       "    <tr>\n",
       "      <th>4</th>\n",
       "      <td>2987004</td>\n",
       "      <td>0</td>\n",
       "      <td>86506</td>\n",
       "      <td>50.0</td>\n",
       "      <td>H</td>\n",
       "      <td>4497</td>\n",
       "      <td>514.0</td>\n",
       "      <td>150.0</td>\n",
       "      <td>mastercard</td>\n",
       "      <td>102.0</td>\n",
       "      <td>...</td>\n",
       "      <td>0.0</td>\n",
       "      <td>0.0</td>\n",
       "      <td>0.0</td>\n",
       "      <td>0.0</td>\n",
       "      <td>0.0</td>\n",
       "      <td>0.0</td>\n",
       "      <td>0.0</td>\n",
       "      <td>0.0</td>\n",
       "      <td>0.0</td>\n",
       "      <td>0.0</td>\n",
       "    </tr>\n",
       "  </tbody>\n",
       "</table>\n",
       "<p>5 rows × 394 columns</p>\n",
       "</div>"
      ],
      "text/plain": [
       "   TransactionID  isFraud  TransactionDT  TransactionAmt ProductCD  card1  \\\n",
       "0        2987000        0          86400            68.5         W  13926   \n",
       "1        2987001        0          86401            29.0         W   2755   \n",
       "2        2987002        0          86469            59.0         W   4663   \n",
       "3        2987003        0          86499            50.0         W  18132   \n",
       "4        2987004        0          86506            50.0         H   4497   \n",
       "\n",
       "   card2  card3       card4  card5  ... V330  V331  V332  V333  V334 V335  \\\n",
       "0    NaN  150.0    discover  142.0  ...  NaN   NaN   NaN   NaN   NaN  NaN   \n",
       "1  404.0  150.0  mastercard  102.0  ...  NaN   NaN   NaN   NaN   NaN  NaN   \n",
       "2  490.0  150.0        visa  166.0  ...  NaN   NaN   NaN   NaN   NaN  NaN   \n",
       "3  567.0  150.0  mastercard  117.0  ...  NaN   NaN   NaN   NaN   NaN  NaN   \n",
       "4  514.0  150.0  mastercard  102.0  ...  0.0   0.0   0.0   0.0   0.0  0.0   \n",
       "\n",
       "  V336  V337  V338  V339  \n",
       "0  NaN   NaN   NaN   NaN  \n",
       "1  NaN   NaN   NaN   NaN  \n",
       "2  NaN   NaN   NaN   NaN  \n",
       "3  NaN   NaN   NaN   NaN  \n",
       "4  0.0   0.0   0.0   0.0  \n",
       "\n",
       "[5 rows x 394 columns]"
      ]
     },
     "execution_count": 59,
     "metadata": {},
     "output_type": "execute_result"
    }
   ],
   "source": [
    "data = pd.read_csv(\"assignment_2_train.csv\")\n",
    "test = pd.read_csv(\"assignment_2_test.csv\")\n",
    "\n",
    "print(\"data.shape = {} rows, {} cols\".format(*data.shape))\n",
    "data.head(n=5)"
   ]
  },
  {
   "cell_type": "code",
   "execution_count": 3,
   "metadata": {},
   "outputs": [
    {
     "name": "stdout",
     "output_type": "stream",
     "text": [
      "data.shape = 180000 rows, 393 cols\n"
     ]
    }
   ],
   "source": [
    "target = data[\"isFraud\"]\n",
    "data = data.drop([\"isFraud\"], axis=1)\n",
    "print(\"data.shape = {} rows, {} cols\".format(*data.shape))"
   ]
  },
  {
   "cell_type": "code",
   "execution_count": 4,
   "metadata": {},
   "outputs": [
    {
     "data": {
      "text/html": [
       "<div>\n",
       "<style scoped>\n",
       "    .dataframe tbody tr th:only-of-type {\n",
       "        vertical-align: middle;\n",
       "    }\n",
       "\n",
       "    .dataframe tbody tr th {\n",
       "        vertical-align: top;\n",
       "    }\n",
       "\n",
       "    .dataframe thead th {\n",
       "        text-align: right;\n",
       "    }\n",
       "</style>\n",
       "<table border=\"1\" class=\"dataframe\">\n",
       "  <thead>\n",
       "    <tr style=\"text-align: right;\">\n",
       "      <th></th>\n",
       "      <th>TransactionID</th>\n",
       "      <th>TransactionDT</th>\n",
       "      <th>TransactionAmt</th>\n",
       "      <th>card1</th>\n",
       "      <th>card2</th>\n",
       "      <th>card3</th>\n",
       "      <th>card5</th>\n",
       "      <th>addr1</th>\n",
       "      <th>addr2</th>\n",
       "      <th>dist1</th>\n",
       "      <th>...</th>\n",
       "      <th>V330</th>\n",
       "      <th>V331</th>\n",
       "      <th>V332</th>\n",
       "      <th>V333</th>\n",
       "      <th>V334</th>\n",
       "      <th>V335</th>\n",
       "      <th>V336</th>\n",
       "      <th>V337</th>\n",
       "      <th>V338</th>\n",
       "      <th>V339</th>\n",
       "    </tr>\n",
       "  </thead>\n",
       "  <tbody>\n",
       "    <tr>\n",
       "      <th>count</th>\n",
       "      <td>1.800000e+05</td>\n",
       "      <td>1.800000e+05</td>\n",
       "      <td>180000.000000</td>\n",
       "      <td>180000.000000</td>\n",
       "      <td>177389.000000</td>\n",
       "      <td>179997.000000</td>\n",
       "      <td>179047.000000</td>\n",
       "      <td>160567.000000</td>\n",
       "      <td>160567.000000</td>\n",
       "      <td>60605.000000</td>\n",
       "      <td>...</td>\n",
       "      <td>47996.000000</td>\n",
       "      <td>47996.000000</td>\n",
       "      <td>47996.000000</td>\n",
       "      <td>47996.000000</td>\n",
       "      <td>47996.000000</td>\n",
       "      <td>47996.000000</td>\n",
       "      <td>47996.000000</td>\n",
       "      <td>47996.000000</td>\n",
       "      <td>47996.000000</td>\n",
       "      <td>47996.000000</td>\n",
       "    </tr>\n",
       "    <tr>\n",
       "      <th>mean</th>\n",
       "      <td>3.077000e+06</td>\n",
       "      <td>1.909818e+06</td>\n",
       "      <td>129.514237</td>\n",
       "      <td>9860.225806</td>\n",
       "      <td>368.326897</td>\n",
       "      <td>153.410374</td>\n",
       "      <td>200.363089</td>\n",
       "      <td>291.160444</td>\n",
       "      <td>86.559903</td>\n",
       "      <td>126.243231</td>\n",
       "      <td>...</td>\n",
       "      <td>0.137074</td>\n",
       "      <td>74.962242</td>\n",
       "      <td>99.220468</td>\n",
       "      <td>85.778161</td>\n",
       "      <td>8.326725</td>\n",
       "      <td>18.404676</td>\n",
       "      <td>12.437524</td>\n",
       "      <td>26.798593</td>\n",
       "      <td>32.005349</td>\n",
       "      <td>28.492421</td>\n",
       "    </tr>\n",
       "    <tr>\n",
       "      <th>std</th>\n",
       "      <td>5.196167e+04</td>\n",
       "      <td>1.039029e+06</td>\n",
       "      <td>206.515032</td>\n",
       "      <td>4910.778205</td>\n",
       "      <td>158.952840</td>\n",
       "      <td>11.529483</td>\n",
       "      <td>40.585532</td>\n",
       "      <td>102.250385</td>\n",
       "      <td>3.958070</td>\n",
       "      <td>386.295086</td>\n",
       "      <td>...</td>\n",
       "      <td>0.642444</td>\n",
       "      <td>545.161980</td>\n",
       "      <td>668.223140</td>\n",
       "      <td>577.072150</td>\n",
       "      <td>84.616132</td>\n",
       "      <td>120.896921</td>\n",
       "      <td>99.305885</td>\n",
       "      <td>252.695682</td>\n",
       "      <td>284.870583</td>\n",
       "      <td>258.372941</td>\n",
       "    </tr>\n",
       "    <tr>\n",
       "      <th>min</th>\n",
       "      <td>2.987000e+06</td>\n",
       "      <td>8.640000e+04</td>\n",
       "      <td>0.292000</td>\n",
       "      <td>1001.000000</td>\n",
       "      <td>100.000000</td>\n",
       "      <td>100.000000</td>\n",
       "      <td>100.000000</td>\n",
       "      <td>100.000000</td>\n",
       "      <td>10.000000</td>\n",
       "      <td>0.000000</td>\n",
       "      <td>...</td>\n",
       "      <td>0.000000</td>\n",
       "      <td>0.000000</td>\n",
       "      <td>0.000000</td>\n",
       "      <td>0.000000</td>\n",
       "      <td>0.000000</td>\n",
       "      <td>0.000000</td>\n",
       "      <td>0.000000</td>\n",
       "      <td>0.000000</td>\n",
       "      <td>0.000000</td>\n",
       "      <td>0.000000</td>\n",
       "    </tr>\n",
       "    <tr>\n",
       "      <th>25%</th>\n",
       "      <td>3.032000e+06</td>\n",
       "      <td>1.091681e+06</td>\n",
       "      <td>44.000000</td>\n",
       "      <td>6019.000000</td>\n",
       "      <td>215.000000</td>\n",
       "      <td>150.000000</td>\n",
       "      <td>166.000000</td>\n",
       "      <td>204.000000</td>\n",
       "      <td>87.000000</td>\n",
       "      <td>3.000000</td>\n",
       "      <td>...</td>\n",
       "      <td>0.000000</td>\n",
       "      <td>0.000000</td>\n",
       "      <td>0.000000</td>\n",
       "      <td>0.000000</td>\n",
       "      <td>0.000000</td>\n",
       "      <td>0.000000</td>\n",
       "      <td>0.000000</td>\n",
       "      <td>0.000000</td>\n",
       "      <td>0.000000</td>\n",
       "      <td>0.000000</td>\n",
       "    </tr>\n",
       "    <tr>\n",
       "      <th>50%</th>\n",
       "      <td>3.077000e+06</td>\n",
       "      <td>1.884075e+06</td>\n",
       "      <td>75.000000</td>\n",
       "      <td>9633.000000</td>\n",
       "      <td>375.000000</td>\n",
       "      <td>150.000000</td>\n",
       "      <td>226.000000</td>\n",
       "      <td>299.000000</td>\n",
       "      <td>87.000000</td>\n",
       "      <td>9.000000</td>\n",
       "      <td>...</td>\n",
       "      <td>0.000000</td>\n",
       "      <td>0.000000</td>\n",
       "      <td>0.000000</td>\n",
       "      <td>0.000000</td>\n",
       "      <td>0.000000</td>\n",
       "      <td>0.000000</td>\n",
       "      <td>0.000000</td>\n",
       "      <td>0.000000</td>\n",
       "      <td>0.000000</td>\n",
       "      <td>0.000000</td>\n",
       "    </tr>\n",
       "    <tr>\n",
       "      <th>75%</th>\n",
       "      <td>3.121999e+06</td>\n",
       "      <td>2.693196e+06</td>\n",
       "      <td>125.000000</td>\n",
       "      <td>14182.000000</td>\n",
       "      <td>514.000000</td>\n",
       "      <td>150.000000</td>\n",
       "      <td>226.000000</td>\n",
       "      <td>330.000000</td>\n",
       "      <td>87.000000</td>\n",
       "      <td>26.000000</td>\n",
       "      <td>...</td>\n",
       "      <td>0.000000</td>\n",
       "      <td>0.000000</td>\n",
       "      <td>0.000000</td>\n",
       "      <td>0.000000</td>\n",
       "      <td>0.000000</td>\n",
       "      <td>0.000000</td>\n",
       "      <td>0.000000</td>\n",
       "      <td>0.000000</td>\n",
       "      <td>0.000000</td>\n",
       "      <td>0.000000</td>\n",
       "    </tr>\n",
       "    <tr>\n",
       "      <th>max</th>\n",
       "      <td>3.166999e+06</td>\n",
       "      <td>3.958317e+06</td>\n",
       "      <td>5278.950000</td>\n",
       "      <td>18396.000000</td>\n",
       "      <td>600.000000</td>\n",
       "      <td>231.000000</td>\n",
       "      <td>237.000000</td>\n",
       "      <td>540.000000</td>\n",
       "      <td>102.000000</td>\n",
       "      <td>7068.000000</td>\n",
       "      <td>...</td>\n",
       "      <td>15.000000</td>\n",
       "      <td>20750.000000</td>\n",
       "      <td>32250.000000</td>\n",
       "      <td>21250.000000</td>\n",
       "      <td>3100.000000</td>\n",
       "      <td>3350.000000</td>\n",
       "      <td>3250.000000</td>\n",
       "      <td>8250.000000</td>\n",
       "      <td>8250.000000</td>\n",
       "      <td>8250.000000</td>\n",
       "    </tr>\n",
       "  </tbody>\n",
       "</table>\n",
       "<p>8 rows × 379 columns</p>\n",
       "</div>"
      ],
      "text/plain": [
       "       TransactionID  TransactionDT  TransactionAmt          card1  \\\n",
       "count   1.800000e+05   1.800000e+05   180000.000000  180000.000000   \n",
       "mean    3.077000e+06   1.909818e+06      129.514237    9860.225806   \n",
       "std     5.196167e+04   1.039029e+06      206.515032    4910.778205   \n",
       "min     2.987000e+06   8.640000e+04        0.292000    1001.000000   \n",
       "25%     3.032000e+06   1.091681e+06       44.000000    6019.000000   \n",
       "50%     3.077000e+06   1.884075e+06       75.000000    9633.000000   \n",
       "75%     3.121999e+06   2.693196e+06      125.000000   14182.000000   \n",
       "max     3.166999e+06   3.958317e+06     5278.950000   18396.000000   \n",
       "\n",
       "               card2          card3          card5          addr1  \\\n",
       "count  177389.000000  179997.000000  179047.000000  160567.000000   \n",
       "mean      368.326897     153.410374     200.363089     291.160444   \n",
       "std       158.952840      11.529483      40.585532     102.250385   \n",
       "min       100.000000     100.000000     100.000000     100.000000   \n",
       "25%       215.000000     150.000000     166.000000     204.000000   \n",
       "50%       375.000000     150.000000     226.000000     299.000000   \n",
       "75%       514.000000     150.000000     226.000000     330.000000   \n",
       "max       600.000000     231.000000     237.000000     540.000000   \n",
       "\n",
       "               addr2         dist1  ...          V330          V331  \\\n",
       "count  160567.000000  60605.000000  ...  47996.000000  47996.000000   \n",
       "mean       86.559903    126.243231  ...      0.137074     74.962242   \n",
       "std         3.958070    386.295086  ...      0.642444    545.161980   \n",
       "min        10.000000      0.000000  ...      0.000000      0.000000   \n",
       "25%        87.000000      3.000000  ...      0.000000      0.000000   \n",
       "50%        87.000000      9.000000  ...      0.000000      0.000000   \n",
       "75%        87.000000     26.000000  ...      0.000000      0.000000   \n",
       "max       102.000000   7068.000000  ...     15.000000  20750.000000   \n",
       "\n",
       "               V332          V333          V334          V335          V336  \\\n",
       "count  47996.000000  47996.000000  47996.000000  47996.000000  47996.000000   \n",
       "mean      99.220468     85.778161      8.326725     18.404676     12.437524   \n",
       "std      668.223140    577.072150     84.616132    120.896921     99.305885   \n",
       "min        0.000000      0.000000      0.000000      0.000000      0.000000   \n",
       "25%        0.000000      0.000000      0.000000      0.000000      0.000000   \n",
       "50%        0.000000      0.000000      0.000000      0.000000      0.000000   \n",
       "75%        0.000000      0.000000      0.000000      0.000000      0.000000   \n",
       "max    32250.000000  21250.000000   3100.000000   3350.000000   3250.000000   \n",
       "\n",
       "               V337          V338          V339  \n",
       "count  47996.000000  47996.000000  47996.000000  \n",
       "mean      26.798593     32.005349     28.492421  \n",
       "std      252.695682    284.870583    258.372941  \n",
       "min        0.000000      0.000000      0.000000  \n",
       "25%        0.000000      0.000000      0.000000  \n",
       "50%        0.000000      0.000000      0.000000  \n",
       "75%        0.000000      0.000000      0.000000  \n",
       "max     8250.000000   8250.000000   8250.000000  \n",
       "\n",
       "[8 rows x 379 columns]"
      ]
     },
     "execution_count": 4,
     "metadata": {},
     "output_type": "execute_result"
    }
   ],
   "source": [
    "data.describe()"
   ]
  },
  {
   "cell_type": "code",
   "execution_count": 5,
   "metadata": {},
   "outputs": [
    {
     "name": "stdout",
     "output_type": "stream",
     "text": [
      "count of numeric_features 379\n"
     ]
    },
    {
     "data": {
      "text/plain": [
       "Index(['TransactionID', 'TransactionDT', 'TransactionAmt', 'card1', 'card2',\n",
       "       'card3', 'card5', 'addr1', 'addr2', 'dist1',\n",
       "       ...\n",
       "       'V330', 'V331', 'V332', 'V333', 'V334', 'V335', 'V336', 'V337', 'V338',\n",
       "       'V339'],\n",
       "      dtype='object', length=379)"
      ]
     },
     "execution_count": 5,
     "metadata": {},
     "output_type": "execute_result"
    }
   ],
   "source": [
    "numerical_features = data.select_dtypes(include=[np.number])\n",
    "print(f\"count of numeric_features {numerical_features.shape[1]}\")\n",
    "numerical_features.columns"
   ]
  },
  {
   "cell_type": "code",
   "execution_count": 6,
   "metadata": {},
   "outputs": [
    {
     "name": "stdout",
     "output_type": "stream",
     "text": [
      "x_train.shape = 144000 rows, 379 cols\n",
      "x_valid.shape = 36000 rows, 379 cols\n"
     ]
    }
   ],
   "source": [
    "x_train, x_valid = train_test_split(\n",
    "    numerical_features, train_size=0.8, random_state=1\n",
    ")\n",
    "y_train, y_valid = train_test_split(\n",
    "    target, train_size=0.8, random_state=1\n",
    ")\n",
    "print(\"x_train.shape = {} rows, {} cols\".format(*x_train.shape))\n",
    "print(\"x_valid.shape = {} rows, {} cols\".format(*x_valid.shape))"
   ]
  },
  {
   "cell_type": "code",
   "execution_count": 7,
   "metadata": {},
   "outputs": [],
   "source": [
    "params = {\n",
    "    \"booster\": \"gbtree\",\n",
    "    \"objective\": \"binary:logistic\",\n",
    "    \"eval_metric\": \"auc\",\n",
    "    \"learning_rate\": 0.1,\n",
    "    \"n_estimators\": 1000,\n",
    "    \"reg_lambda\": 100,\n",
    "    \"max_depth\": 4,\n",
    "    \"gamma\": 10,\n",
    "    \"nthread\": 6,\n",
    "    \"seed\": 27\n",
    "}"
   ]
  },
  {
   "cell_type": "code",
   "execution_count": 8,
   "metadata": {},
   "outputs": [],
   "source": [
    "dtrain = xgb.DMatrix(\n",
    "    data=x_train, label=y_train\n",
    ")\n",
    "dvalid = xgb.DMatrix(\n",
    "    data=x_valid, label=y_valid\n",
    ")"
   ]
  },
  {
   "cell_type": "code",
   "execution_count": 9,
   "metadata": {},
   "outputs": [
    {
     "name": "stdout",
     "output_type": "stream",
     "text": [
      "[19:37:30] WARNING: C:\\Users\\Administrator\\workspace\\xgboost-win64_release_1.2.0\\src\\learner.cc:516: \n",
      "Parameters: { n_estimators } might not be used.\n",
      "\n",
      "  This may not be accurate due to some parameters are only used in language bindings but\n",
      "  passed down to XGBoost core.  Or some parameters are not used but slip through this\n",
      "  verification. Please open an issue if you find above cases.\n",
      "\n",
      "\n",
      "[0]\ttrain-auc:0.64988\tvalid-auc:0.65040\n",
      "Multiple eval metrics have been passed: 'valid-auc' will be used for early stopping.\n",
      "\n",
      "Will train until valid-auc hasn't improved in 30 rounds.\n",
      "[10]\ttrain-auc:0.78992\tvalid-auc:0.79060\n",
      "[20]\ttrain-auc:0.83706\tvalid-auc:0.83095\n",
      "[30]\ttrain-auc:0.85855\tvalid-auc:0.85474\n",
      "[40]\ttrain-auc:0.87409\tvalid-auc:0.86766\n",
      "[50]\ttrain-auc:0.88183\tvalid-auc:0.87420\n",
      "[60]\ttrain-auc:0.88911\tvalid-auc:0.88097\n",
      "[70]\ttrain-auc:0.89350\tvalid-auc:0.88428\n",
      "[80]\ttrain-auc:0.89578\tvalid-auc:0.88621\n",
      "[90]\ttrain-auc:0.89802\tvalid-auc:0.88810\n",
      "[100]\ttrain-auc:0.90013\tvalid-auc:0.88967\n",
      "[110]\ttrain-auc:0.90258\tvalid-auc:0.89196\n",
      "[120]\ttrain-auc:0.90431\tvalid-auc:0.89360\n",
      "[130]\ttrain-auc:0.90565\tvalid-auc:0.89511\n",
      "[140]\ttrain-auc:0.90705\tvalid-auc:0.89655\n",
      "[150]\ttrain-auc:0.90824\tvalid-auc:0.89758\n",
      "[160]\ttrain-auc:0.90953\tvalid-auc:0.89858\n",
      "[170]\ttrain-auc:0.91004\tvalid-auc:0.89893\n",
      "[180]\ttrain-auc:0.91004\tvalid-auc:0.89893\n",
      "[190]\ttrain-auc:0.91004\tvalid-auc:0.89893\n",
      "Stopping. Best iteration:\n",
      "[167]\ttrain-auc:0.91004\tvalid-auc:0.89893\n",
      "\n"
     ]
    }
   ],
   "source": [
    "model = xgb.train(\n",
    "    params=params,\n",
    "    dtrain=dtrain,\n",
    "    num_boost_round=200,\n",
    "    early_stopping_rounds=30,\n",
    "    evals=[(dtrain, \"train\"), (dvalid, \"valid\")],\n",
    "    verbose_eval=10,\n",
    "    maximize=True,\n",
    ")"
   ]
  },
  {
   "cell_type": "markdown",
   "metadata": {},
   "source": [
    "### Задание 2: обработать категориальные признаки любым способом (который вы знаете) и добавить их к данным. Выполнить задание 1.\n",
    "\n"
   ]
  },
  {
   "cell_type": "code",
   "execution_count": 10,
   "metadata": {},
   "outputs": [
    {
     "name": "stdout",
     "output_type": "stream",
     "text": [
      "count of cat_features 14\n"
     ]
    },
    {
     "data": {
      "text/plain": [
       "Index(['ProductCD', 'card4', 'card6', 'P_emaildomain', 'R_emaildomain', 'M1',\n",
       "       'M2', 'M3', 'M4', 'M5', 'M6', 'M7', 'M8', 'M9'],\n",
       "      dtype='object')"
      ]
     },
     "execution_count": 10,
     "metadata": {},
     "output_type": "execute_result"
    }
   ],
   "source": [
    "cat_features = data.select_dtypes(include=[np.object])\n",
    "print(f\"count of cat_features {cat_features.shape[1]}\")\n",
    "cat_features.columns"
   ]
  },
  {
   "cell_type": "code",
   "execution_count": 11,
   "metadata": {},
   "outputs": [
    {
     "data": {
      "text/html": [
       "<div>\n",
       "<style scoped>\n",
       "    .dataframe tbody tr th:only-of-type {\n",
       "        vertical-align: middle;\n",
       "    }\n",
       "\n",
       "    .dataframe tbody tr th {\n",
       "        vertical-align: top;\n",
       "    }\n",
       "\n",
       "    .dataframe thead th {\n",
       "        text-align: right;\n",
       "    }\n",
       "</style>\n",
       "<table border=\"1\" class=\"dataframe\">\n",
       "  <thead>\n",
       "    <tr style=\"text-align: right;\">\n",
       "      <th></th>\n",
       "      <th>ProductCD</th>\n",
       "      <th>card4</th>\n",
       "      <th>card6</th>\n",
       "      <th>P_emaildomain</th>\n",
       "      <th>R_emaildomain</th>\n",
       "      <th>M1</th>\n",
       "      <th>M2</th>\n",
       "      <th>M3</th>\n",
       "      <th>M4</th>\n",
       "      <th>M5</th>\n",
       "      <th>M6</th>\n",
       "      <th>M7</th>\n",
       "      <th>M8</th>\n",
       "      <th>M9</th>\n",
       "    </tr>\n",
       "  </thead>\n",
       "  <tbody>\n",
       "    <tr>\n",
       "      <th>0</th>\n",
       "      <td>W</td>\n",
       "      <td>discover</td>\n",
       "      <td>credit</td>\n",
       "      <td>NaN</td>\n",
       "      <td>NaN</td>\n",
       "      <td>T</td>\n",
       "      <td>T</td>\n",
       "      <td>T</td>\n",
       "      <td>M2</td>\n",
       "      <td>F</td>\n",
       "      <td>T</td>\n",
       "      <td>NaN</td>\n",
       "      <td>NaN</td>\n",
       "      <td>NaN</td>\n",
       "    </tr>\n",
       "    <tr>\n",
       "      <th>1</th>\n",
       "      <td>W</td>\n",
       "      <td>mastercard</td>\n",
       "      <td>credit</td>\n",
       "      <td>gmail.com</td>\n",
       "      <td>NaN</td>\n",
       "      <td>NaN</td>\n",
       "      <td>NaN</td>\n",
       "      <td>NaN</td>\n",
       "      <td>M0</td>\n",
       "      <td>T</td>\n",
       "      <td>T</td>\n",
       "      <td>NaN</td>\n",
       "      <td>NaN</td>\n",
       "      <td>NaN</td>\n",
       "    </tr>\n",
       "    <tr>\n",
       "      <th>2</th>\n",
       "      <td>W</td>\n",
       "      <td>visa</td>\n",
       "      <td>debit</td>\n",
       "      <td>outlook.com</td>\n",
       "      <td>NaN</td>\n",
       "      <td>T</td>\n",
       "      <td>T</td>\n",
       "      <td>T</td>\n",
       "      <td>M0</td>\n",
       "      <td>F</td>\n",
       "      <td>F</td>\n",
       "      <td>F</td>\n",
       "      <td>F</td>\n",
       "      <td>F</td>\n",
       "    </tr>\n",
       "    <tr>\n",
       "      <th>3</th>\n",
       "      <td>W</td>\n",
       "      <td>mastercard</td>\n",
       "      <td>debit</td>\n",
       "      <td>yahoo.com</td>\n",
       "      <td>NaN</td>\n",
       "      <td>NaN</td>\n",
       "      <td>NaN</td>\n",
       "      <td>NaN</td>\n",
       "      <td>M0</td>\n",
       "      <td>T</td>\n",
       "      <td>F</td>\n",
       "      <td>NaN</td>\n",
       "      <td>NaN</td>\n",
       "      <td>NaN</td>\n",
       "    </tr>\n",
       "    <tr>\n",
       "      <th>4</th>\n",
       "      <td>H</td>\n",
       "      <td>mastercard</td>\n",
       "      <td>credit</td>\n",
       "      <td>gmail.com</td>\n",
       "      <td>NaN</td>\n",
       "      <td>NaN</td>\n",
       "      <td>NaN</td>\n",
       "      <td>NaN</td>\n",
       "      <td>NaN</td>\n",
       "      <td>NaN</td>\n",
       "      <td>NaN</td>\n",
       "      <td>NaN</td>\n",
       "      <td>NaN</td>\n",
       "      <td>NaN</td>\n",
       "    </tr>\n",
       "  </tbody>\n",
       "</table>\n",
       "</div>"
      ],
      "text/plain": [
       "  ProductCD       card4   card6 P_emaildomain R_emaildomain   M1   M2   M3  \\\n",
       "0         W    discover  credit           NaN           NaN    T    T    T   \n",
       "1         W  mastercard  credit     gmail.com           NaN  NaN  NaN  NaN   \n",
       "2         W        visa   debit   outlook.com           NaN    T    T    T   \n",
       "3         W  mastercard   debit     yahoo.com           NaN  NaN  NaN  NaN   \n",
       "4         H  mastercard  credit     gmail.com           NaN  NaN  NaN  NaN   \n",
       "\n",
       "    M4   M5   M6   M7   M8   M9  \n",
       "0   M2    F    T  NaN  NaN  NaN  \n",
       "1   M0    T    T  NaN  NaN  NaN  \n",
       "2   M0    F    F    F    F    F  \n",
       "3   M0    T    F  NaN  NaN  NaN  \n",
       "4  NaN  NaN  NaN  NaN  NaN  NaN  "
      ]
     },
     "execution_count": 11,
     "metadata": {},
     "output_type": "execute_result"
    }
   ],
   "source": [
    "cat_features.head()"
   ]
  },
  {
   "cell_type": "code",
   "execution_count": 12,
   "metadata": {},
   "outputs": [
    {
     "name": "stdout",
     "output_type": "stream",
     "text": [
      "<class 'pandas.core.frame.DataFrame'>\n",
      "RangeIndex: 180000 entries, 0 to 179999\n",
      "Data columns (total 14 columns):\n",
      " #   Column         Non-Null Count   Dtype \n",
      "---  ------         --------------   ----- \n",
      " 0   ProductCD      180000 non-null  object\n",
      " 1   card4          179992 non-null  object\n",
      " 2   card6          179993 non-null  object\n",
      " 3   P_emaildomain  151560 non-null  object\n",
      " 4   R_emaildomain  60300 non-null   object\n",
      " 5   M1             61749 non-null   object\n",
      " 6   M2             61749 non-null   object\n",
      " 7   M3             61749 non-null   object\n",
      " 8   M4             83276 non-null   object\n",
      " 9   M5             61703 non-null   object\n",
      " 10  M6             105652 non-null  object\n",
      " 11  M7             31652 non-null   object\n",
      " 12  M8             31652 non-null   object\n",
      " 13  M9             31652 non-null   object\n",
      "dtypes: object(14)\n",
      "memory usage: 19.2+ MB\n"
     ]
    }
   ],
   "source": [
    "cat_features.info()"
   ]
  },
  {
   "cell_type": "markdown",
   "metadata": {},
   "source": [
    "R_emaildomain - повторяет P_emaildomain, содержит слишком много пропусков, поэтому удалим. Также слишком много пропусков для того, чтобы быть информативными у признаков М1-М9, кроме М6. "
   ]
  },
  {
   "cell_type": "code",
   "execution_count": 13,
   "metadata": {},
   "outputs": [],
   "source": [
    "def plot_outliers_cat(df_train,df_test, col_name,  TARGET_NAME = target):\n",
    "    fig, ax = plt.subplots(1,2,figsize=(16,5))\n",
    "   \n",
    "    ax[0].set_title('Train Dataset')\n",
    "    ax[1].set_title('Test Dataset')   \n",
    "\n",
    "    sns.countplot(x=col_name, data=df_train, ax=ax[0]);\n",
    "    sns.countplot(x=col_name, data=df_test, ax=ax[1]);\n",
    "    plt.show()"
   ]
  },
  {
   "cell_type": "code",
   "execution_count": 14,
   "metadata": {
    "scrolled": true
   },
   "outputs": [
    {
     "data": {
      "image/png": "[encoded data removed]",
      "text/plain": [
       "<Figure size 1152x360 with 2 Axes>"
      ]
     },
     "metadata": {
      "needs_background": "light"
     },
     "output_type": "display_data"
    },
    {
     "data": {
      "image/png": "[encoded data removed]",
      "text/plain": [
       "<Figure size 1152x360 with 2 Axes>"
      ]
     },
     "metadata": {
      "needs_background": "light"
     },
     "output_type": "display_data"
    },
    {
     "data": {
      "image/png": "[encoded data removed]",
      "text/plain": [
       "<Figure size 1152x360 with 2 Axes>"
      ]
     },
     "metadata": {
      "needs_background": "light"
     },
     "output_type": "display_data"
    },
    {
     "data": {
      "image/png": "[encoded data removed]",
      "text/plain": [
       "<Figure size 1152x360 with 2 Axes>"
      ]
     },
     "metadata": {
      "needs_background": "light"
     },
     "output_type": "display_data"
    },
    {
     "data": {
      "image/png": "[encoded data removed]",
      "text/plain": [
       "<Figure size 1152x360 with 2 Axes>"
      ]
     },
     "metadata": {
      "needs_background": "light"
     },
     "output_type": "display_data"
    },
    {
     "data": {
      "image/png": "[encoded data removed]",
      "text/plain": [
       "<Figure size 1152x360 with 2 Axes>"
      ]
     },
     "metadata": {
      "needs_background": "light"
     },
     "output_type": "display_data"
    },
    {
     "data": {
      "image/png": "[encoded data removed]",
      "text/plain": [
       "<Figure size 1152x360 with 2 Axes>"
      ]
     },
     "metadata": {
      "needs_background": "light"
     },
     "output_type": "display_data"
    },
    {
     "data": {
      "image/png": "[encoded data removed]",
      "text/plain": [
       "<Figure size 1152x360 with 2 Axes>"
      ]
     },
     "metadata": {
      "needs_background": "light"
     },
     "output_type": "display_data"
    },
    {
     "data": {
      "image/png": "[encoded data removed]",
      "text/plain": [
       "<Figure size 1152x360 with 2 Axes>"
      ]
     },
     "metadata": {
      "needs_background": "light"
     },
     "output_type": "display_data"
    },
    {
     "data": {
      "image/png": "[encoded data removed]",
      "text/plain": [
       "<Figure size 1152x360 with 2 Axes>"
      ]
     },
     "metadata": {
      "needs_background": "light"
     },
     "output_type": "display_data"
    },
    {
     "data": {
      "image/png": "[encoded data removed]",
      "text/plain": [
       "<Figure size 1152x360 with 2 Axes>"
      ]
     },
     "metadata": {
      "needs_background": "light"
     },
     "output_type": "display_data"
    },
    {
     "data": {
      "image/png": "[encoded data removed]",
      "text/plain": [
       "<Figure size 1152x360 with 2 Axes>"
      ]
     },
     "metadata": {
      "needs_background": "light"
     },
     "output_type": "display_data"
    },
    {
     "data": {
      "image/png": "[encoded data removed]",
      "text/plain": [
       "<Figure size 1152x360 with 2 Axes>"
      ]
     },
     "metadata": {
      "needs_background": "light"
     },
     "output_type": "display_data"
    },
    {
     "data": {
      "image/png": "[encoded data removed]",
      "text/plain": [
       "<Figure size 1152x360 with 2 Axes>"
      ]
     },
     "metadata": {
      "needs_background": "light"
     },
     "output_type": "display_data"
    }
   ],
   "source": [
    "for col in cat_features:\n",
    "    plot_outliers_cat(data,test, col, TARGET_NAME = target)"
   ]
  },
  {
   "cell_type": "code",
   "execution_count": 15,
   "metadata": {},
   "outputs": [],
   "source": [
    "cat_features['card4'].fillna(cat_features['card4'].mode(), inplace=True)"
   ]
  },
  {
   "cell_type": "code",
   "execution_count": 16,
   "metadata": {},
   "outputs": [],
   "source": [
    "cat_features['card6'].fillna(cat_features['card6'].mode(), inplace=True)"
   ]
  },
  {
   "cell_type": "code",
   "execution_count": 17,
   "metadata": {},
   "outputs": [],
   "source": [
    "cat_features['P_emaildomain'].fillna(cat_features['R_emaildomain'], inplace=True)"
   ]
  },
  {
   "cell_type": "code",
   "execution_count": 18,
   "metadata": {},
   "outputs": [],
   "source": [
    "cat_features['P_emaildomain'].fillna(cat_features['P_emaildomain'].mode(), inplace=True)"
   ]
  },
  {
   "cell_type": "code",
   "execution_count": 19,
   "metadata": {},
   "outputs": [],
   "source": [
    "cat_features = cat_features.drop(['R_emaildomain'], axis=1)"
   ]
  },
  {
   "cell_type": "code",
   "execution_count": 20,
   "metadata": {},
   "outputs": [],
   "source": [
    "for cat in cat_features:\n",
    "     cat_features.loc[(cat_features[cat].isnull(), [cat])] = cat_features[cat].mode()[0]"
   ]
  },
  {
   "cell_type": "code",
   "execution_count": 21,
   "metadata": {},
   "outputs": [
    {
     "name": "stdout",
     "output_type": "stream",
     "text": [
      "<class 'pandas.core.frame.DataFrame'>\n",
      "RangeIndex: 180000 entries, 0 to 179999\n",
      "Data columns (total 13 columns):\n",
      " #   Column         Non-Null Count   Dtype \n",
      "---  ------         --------------   ----- \n",
      " 0   ProductCD      180000 non-null  object\n",
      " 1   card4          180000 non-null  object\n",
      " 2   card6          180000 non-null  object\n",
      " 3   P_emaildomain  180000 non-null  object\n",
      " 4   M1             180000 non-null  object\n",
      " 5   M2             180000 non-null  object\n",
      " 6   M3             180000 non-null  object\n",
      " 7   M4             180000 non-null  object\n",
      " 8   M5             180000 non-null  object\n",
      " 9   M6             180000 non-null  object\n",
      " 10  M7             180000 non-null  object\n",
      " 11  M8             180000 non-null  object\n",
      " 12  M9             180000 non-null  object\n",
      "dtypes: object(13)\n",
      "memory usage: 17.9+ MB\n"
     ]
    }
   ],
   "source": [
    "cat_features.info()"
   ]
  },
  {
   "cell_type": "code",
   "execution_count": 22,
   "metadata": {},
   "outputs": [],
   "source": [
    "cat_features_lgbm = cat_features.copy()"
   ]
  },
  {
   "cell_type": "code",
   "execution_count": 23,
   "metadata": {},
   "outputs": [
    {
     "data": {
      "text/plain": [
       "gmail.com           93786\n",
       "yahoo.com           29508\n",
       "hotmail.com         15252\n",
       "anonymous.com       13783\n",
       "aol.com              8741\n",
       "comcast.net          3065\n",
       "icloud.com           1764\n",
       "outlook.com          1510\n",
       "msn.com              1457\n",
       "att.net              1233\n",
       "sbcglobal.net        1095\n",
       "verizon.net          1028\n",
       "live.com              926\n",
       "bellsouth.net         719\n",
       "ymail.com             663\n",
       "me.com                637\n",
       "cox.net               575\n",
       "yahoo.com.mx          522\n",
       "optonline.net         376\n",
       "charter.net           375\n",
       "live.com.mx           254\n",
       "mac.com               219\n",
       "rocketmail.com        204\n",
       "earthlink.net         173\n",
       "mail.com              151\n",
       "outlook.es            142\n",
       "roadrunner.com        126\n",
       "juno.com              119\n",
       "embarqmail.com        117\n",
       "gmail                 115\n",
       "windstream.net        109\n",
       "twc.com                87\n",
       "hotmail.es             85\n",
       "frontier.com           84\n",
       "hotmail.fr             68\n",
       "q.com                  68\n",
       "aim.com                67\n",
       "netzero.com            66\n",
       "web.de                 64\n",
       "prodigy.net.mx         62\n",
       "frontiernet.net        60\n",
       "cfl.rr.com             59\n",
       "netzero.net            53\n",
       "suddenlink.net         51\n",
       "centurylink.net        49\n",
       "sc.rr.com              44\n",
       "cableone.net           37\n",
       "yahoo.fr               36\n",
       "yahoo.es               35\n",
       "gmx.de                 33\n",
       "ptd.net                27\n",
       "yahoo.de               25\n",
       "protonmail.com         20\n",
       "yahoo.co.uk            19\n",
       "live.fr                15\n",
       "hotmail.co.uk          14\n",
       "servicios-ta.com       12\n",
       "scranton.edu            6\n",
       "yahoo.co.jp             6\n",
       "hotmail.de              4\n",
       "dtype: int64"
      ]
     },
     "execution_count": 23,
     "metadata": {},
     "output_type": "execute_result"
    }
   ],
   "source": [
    "cat_features.value_counts(cat_features[[\"P_emaildomain\"]].values.ravel()) \n"
   ]
  },
  {
   "cell_type": "code",
   "execution_count": 24,
   "metadata": {},
   "outputs": [],
   "source": [
    "for cat_colname in cat_features.columns:\n",
    "            cat_features = pd.concat([cat_features, pd.get_dummies(cat_features[cat_colname], prefix=cat_colname)], axis=1)"
   ]
  },
  {
   "cell_type": "code",
   "execution_count": 25,
   "metadata": {},
   "outputs": [
    {
     "name": "stdout",
     "output_type": "stream",
     "text": [
      "<class 'pandas.core.frame.DataFrame'>\n",
      "RangeIndex: 180000 entries, 0 to 179999\n",
      "Columns: 105 entries, ProductCD to M9_T\n",
      "dtypes: object(13), uint8(92)\n",
      "memory usage: 33.6+ MB\n"
     ]
    }
   ],
   "source": [
    "cat_features.info()"
   ]
  },
  {
   "cell_type": "code",
   "execution_count": 26,
   "metadata": {},
   "outputs": [],
   "source": [
    "cat_features = cat_features.drop(['ProductCD', 'card4', 'card6', 'P_emaildomain', 'M1', 'M2', 'M3', 'M4', 'M5', 'M6', 'M7', 'M8', 'M9'], axis=1)"
   ]
  },
  {
   "cell_type": "code",
   "execution_count": 27,
   "metadata": {},
   "outputs": [],
   "source": [
    "train = pd.concat([numerical_features, cat_features], axis=1)\n"
   ]
  },
  {
   "cell_type": "code",
   "execution_count": 28,
   "metadata": {},
   "outputs": [
    {
     "name": "stdout",
     "output_type": "stream",
     "text": [
      "x_train.shape = 144000 rows, 471 cols\n",
      "x_valid.shape = 36000 rows, 471 cols\n"
     ]
    }
   ],
   "source": [
    "x_train, x_valid = train_test_split(\n",
    "    train, train_size=0.8, random_state=1\n",
    ")\n",
    "y_train, y_valid = train_test_split(\n",
    "    target, train_size=0.8, random_state=1\n",
    ")\n",
    "print(\"x_train.shape = {} rows, {} cols\".format(*x_train.shape))\n",
    "print(\"x_valid.shape = {} rows, {} cols\".format(*x_valid.shape))"
   ]
  },
  {
   "cell_type": "code",
   "execution_count": 29,
   "metadata": {},
   "outputs": [],
   "source": [
    "dtrain = xgb.DMatrix(\n",
    "    data=x_train, label=y_train\n",
    ")\n",
    "dvalid = xgb.DMatrix(\n",
    "    data=x_valid, label=y_valid\n",
    ")"
   ]
  },
  {
   "cell_type": "code",
   "execution_count": 30,
   "metadata": {},
   "outputs": [
    {
     "name": "stdout",
     "output_type": "stream",
     "text": [
      "[19:38:38] WARNING: C:\\Users\\Administrator\\workspace\\xgboost-win64_release_1.2.0\\src\\learner.cc:516: \n",
      "Parameters: { n_estimators } might not be used.\n",
      "\n",
      "  This may not be accurate due to some parameters are only used in language bindings but\n",
      "  passed down to XGBoost core.  Or some parameters are not used but slip through this\n",
      "  verification. Please open an issue if you find above cases.\n",
      "\n",
      "\n",
      "[0]\ttrain-auc:0.64988\tvalid-auc:0.65040\n",
      "Multiple eval metrics have been passed: 'valid-auc' will be used for early stopping.\n",
      "\n",
      "Will train until valid-auc hasn't improved in 50 rounds.\n",
      "[50]\ttrain-auc:0.88615\tvalid-auc:0.87829\n",
      "[100]\ttrain-auc:0.90738\tvalid-auc:0.89581\n",
      "[150]\ttrain-auc:0.91556\tvalid-auc:0.90210\n",
      "[199]\ttrain-auc:0.91705\tvalid-auc:0.90364\n"
     ]
    }
   ],
   "source": [
    "model = xgb.train(\n",
    "    params=params,\n",
    "    dtrain=dtrain,\n",
    "    num_boost_round=200,\n",
    "    early_stopping_rounds=50,\n",
    "    evals=[(dtrain, \"train\"), (dvalid, \"valid\")],\n",
    "    verbose_eval=50,\n",
    "    maximize=True,\n",
    ")"
   ]
  },
  {
   "cell_type": "markdown",
   "metadata": {},
   "source": [
    "### Задание 4: для числовых признаков обучить модель LightGBM. Обучать алгоритм до тех пор, пока метрика качества не перестанет улучшаться на валидационной выборке в течение определенного числа итераций (выбрать значение самостоятельно).\n"
   ]
  },
  {
   "cell_type": "code",
   "execution_count": 33,
   "metadata": {},
   "outputs": [
    {
     "name": "stdout",
     "output_type": "stream",
     "text": [
      "x_train.shape = 144000 rows, 379 cols\n",
      "x_valid.shape = 36000 rows, 379 cols\n"
     ]
    }
   ],
   "source": [
    "x_train, x_valid = train_test_split(\n",
    "    numerical_features, train_size=0.8, random_state=1\n",
    ")\n",
    "y_train, y_valid = train_test_split(\n",
    "    target, train_size=0.8, random_state=1\n",
    ")\n",
    "print(\"x_train.shape = {} rows, {} cols\".format(*x_train.shape))\n",
    "print(\"x_valid.shape = {} rows, {} cols\".format(*x_valid.shape))"
   ]
  },
  {
   "cell_type": "code",
   "execution_count": 34,
   "metadata": {},
   "outputs": [],
   "source": [
    "params = {\n",
    "    \"boosting_type\": \"gbdt\",\n",
    "    \"objective\": \"binary\",\n",
    "    \"metric\": \"auc\",\n",
    "    \"learning_rate\": 0.01,\n",
    "    \"n_estimators\": 3000,\n",
    "    \"n_jobs\": 6,\n",
    "    \"seed\": 27\n",
    "}"
   ]
  },
  {
   "cell_type": "code",
   "execution_count": 35,
   "metadata": {},
   "outputs": [
    {
     "name": "stdout",
     "output_type": "stream",
     "text": [
      "Training until validation scores don't improve for 50 rounds\n",
      "[500]\ttraining's auc: 0.946731\tvalid_1's auc: 0.921017\n",
      "[1000]\ttraining's auc: 0.967947\tvalid_1's auc: 0.935747\n",
      "[1500]\ttraining's auc: 0.978718\tvalid_1's auc: 0.941526\n",
      "[2000]\ttraining's auc: 0.985288\tvalid_1's auc: 0.945665\n",
      "[2500]\ttraining's auc: 0.989582\tvalid_1's auc: 0.948314\n",
      "[3000]\ttraining's auc: 0.992294\tvalid_1's auc: 0.950218\n",
      "Did not meet early stopping. Best iteration is:\n",
      "[3000]\ttraining's auc: 0.992294\tvalid_1's auc: 0.950218\n"
     ]
    }
   ],
   "source": [
    "dtrain = lgb.Dataset(\n",
    "    data=x_train, label=y_train\n",
    ")\n",
    "dvalid = lgb.Dataset(\n",
    "    data=x_valid, label=y_valid\n",
    ")\n",
    "\n",
    "model = lgb.train(\n",
    "    params=params,\n",
    "    train_set=dtrain,\n",
    "    num_boost_round=200,\n",
    "    valid_sets=[dtrain, dvalid],\n",
    "    categorical_feature=\"auto\",\n",
    "    early_stopping_rounds=50,\n",
    "    verbose_eval=500\n",
    ")"
   ]
  },
  {
   "cell_type": "code",
   "execution_count": null,
   "metadata": {},
   "outputs": [],
   "source": []
  },
  {
   "cell_type": "markdown",
   "metadata": {},
   "source": [
    "\n",
    "### Задание 5: обработать категориальные признаки любым способом (который вы знаете) и добавить их к данным. Выполнить задание 4."
   ]
  },
  {
   "cell_type": "code",
   "execution_count": 36,
   "metadata": {},
   "outputs": [
    {
     "name": "stdout",
     "output_type": "stream",
     "text": [
      "x_train.shape = 144000 rows, 471 cols\n",
      "x_valid.shape = 36000 rows, 471 cols\n"
     ]
    }
   ],
   "source": [
    "x_train, x_valid = train_test_split(\n",
    "    train, train_size=0.8, random_state=1\n",
    ")\n",
    "y_train, y_valid = train_test_split(\n",
    "    target, train_size=0.8, random_state=1\n",
    ")\n",
    "print(\"x_train.shape = {} rows, {} cols\".format(*x_train.shape))\n",
    "print(\"x_valid.shape = {} rows, {} cols\".format(*x_valid.shape))"
   ]
  },
  {
   "cell_type": "code",
   "execution_count": 37,
   "metadata": {},
   "outputs": [
    {
     "name": "stdout",
     "output_type": "stream",
     "text": [
      "Training until validation scores don't improve for 50 rounds\n",
      "[500]\ttraining's auc: 0.954431\tvalid_1's auc: 0.927903\n",
      "[1000]\ttraining's auc: 0.97468\tvalid_1's auc: 0.94204\n",
      "[1500]\ttraining's auc: 0.98419\tvalid_1's auc: 0.947487\n",
      "[2000]\ttraining's auc: 0.990095\tvalid_1's auc: 0.95047\n",
      "[2500]\ttraining's auc: 0.993254\tvalid_1's auc: 0.95271\n",
      "[3000]\ttraining's auc: 0.995306\tvalid_1's auc: 0.954316\n",
      "Did not meet early stopping. Best iteration is:\n",
      "[3000]\ttraining's auc: 0.995306\tvalid_1's auc: 0.954316\n"
     ]
    }
   ],
   "source": [
    "dtrain = lgb.Dataset(\n",
    "    data=x_train, label=y_train\n",
    ")\n",
    "dvalid = lgb.Dataset(\n",
    "    data=x_valid, label=y_valid\n",
    ")\n",
    "\n",
    "model = lgb.train(\n",
    "    params=params,\n",
    "    train_set=dtrain,\n",
    "    num_boost_round=200,\n",
    "    valid_sets=[dtrain, dvalid],\n",
    "    categorical_feature=\"auto\",\n",
    "    early_stopping_rounds=50,\n",
    "    verbose_eval=500\n",
    ")"
   ]
  },
  {
   "cell_type": "markdown",
   "metadata": {},
   "source": [
    "### Задание 6: обработать категориальные признаки встроенным методом в LightGBM. Выполнить задание 4. Сделать выводы о качестве работы алгоритма, по сравнению с пунктом 5."
   ]
  },
  {
   "cell_type": "code",
   "execution_count": 38,
   "metadata": {},
   "outputs": [
    {
     "name": "stdout",
     "output_type": "stream",
     "text": [
      "count of cat_features_lgbm 13\n"
     ]
    }
   ],
   "source": [
    "print(f\"count of cat_features_lgbm {cat_features_lgbm.shape[1]}\")\n",
    "cat_features_lgbm.columns\n",
    "cat_features_lgbm_res = cat_features_lgbm.copy() #резерв"
   ]
  },
  {
   "cell_type": "code",
   "execution_count": 39,
   "metadata": {},
   "outputs": [],
   "source": [
    "cat_features_lgbm = cat_features_lgbm_res.copy()"
   ]
  },
  {
   "cell_type": "code",
   "execution_count": 40,
   "metadata": {},
   "outputs": [],
   "source": [
    "from sklearn.preprocessing import LabelEncoder\n",
    "\n",
    "for cat in cat_features_lgbm:\n",
    "    enc = LabelEncoder()\n",
    "    cat_features_lgbm[cat] = enc.fit_transform(cat_features_lgbm[cat])"
   ]
  },
  {
   "cell_type": "code",
   "execution_count": 41,
   "metadata": {},
   "outputs": [
    {
     "data": {
      "text/html": [
       "<div>\n",
       "<style scoped>\n",
       "    .dataframe tbody tr th:only-of-type {\n",
       "        vertical-align: middle;\n",
       "    }\n",
       "\n",
       "    .dataframe tbody tr th {\n",
       "        vertical-align: top;\n",
       "    }\n",
       "\n",
       "    .dataframe thead th {\n",
       "        text-align: right;\n",
       "    }\n",
       "</style>\n",
       "<table border=\"1\" class=\"dataframe\">\n",
       "  <thead>\n",
       "    <tr style=\"text-align: right;\">\n",
       "      <th></th>\n",
       "      <th>ProductCD</th>\n",
       "      <th>card4</th>\n",
       "      <th>card6</th>\n",
       "      <th>P_emaildomain</th>\n",
       "      <th>M1</th>\n",
       "      <th>M2</th>\n",
       "      <th>M3</th>\n",
       "      <th>M4</th>\n",
       "      <th>M5</th>\n",
       "      <th>M6</th>\n",
       "      <th>M7</th>\n",
       "      <th>M8</th>\n",
       "      <th>M9</th>\n",
       "    </tr>\n",
       "  </thead>\n",
       "  <tbody>\n",
       "    <tr>\n",
       "      <th>0</th>\n",
       "      <td>4</td>\n",
       "      <td>1</td>\n",
       "      <td>1</td>\n",
       "      <td>16</td>\n",
       "      <td>1</td>\n",
       "      <td>1</td>\n",
       "      <td>1</td>\n",
       "      <td>2</td>\n",
       "      <td>0</td>\n",
       "      <td>1</td>\n",
       "      <td>0</td>\n",
       "      <td>0</td>\n",
       "      <td>1</td>\n",
       "    </tr>\n",
       "    <tr>\n",
       "      <th>1</th>\n",
       "      <td>4</td>\n",
       "      <td>2</td>\n",
       "      <td>1</td>\n",
       "      <td>16</td>\n",
       "      <td>1</td>\n",
       "      <td>1</td>\n",
       "      <td>1</td>\n",
       "      <td>0</td>\n",
       "      <td>1</td>\n",
       "      <td>1</td>\n",
       "      <td>0</td>\n",
       "      <td>0</td>\n",
       "      <td>1</td>\n",
       "    </tr>\n",
       "    <tr>\n",
       "      <th>2</th>\n",
       "      <td>4</td>\n",
       "      <td>3</td>\n",
       "      <td>2</td>\n",
       "      <td>35</td>\n",
       "      <td>1</td>\n",
       "      <td>1</td>\n",
       "      <td>1</td>\n",
       "      <td>0</td>\n",
       "      <td>0</td>\n",
       "      <td>0</td>\n",
       "      <td>0</td>\n",
       "      <td>0</td>\n",
       "      <td>0</td>\n",
       "    </tr>\n",
       "    <tr>\n",
       "      <th>3</th>\n",
       "      <td>4</td>\n",
       "      <td>2</td>\n",
       "      <td>2</td>\n",
       "      <td>54</td>\n",
       "      <td>1</td>\n",
       "      <td>1</td>\n",
       "      <td>1</td>\n",
       "      <td>0</td>\n",
       "      <td>1</td>\n",
       "      <td>0</td>\n",
       "      <td>0</td>\n",
       "      <td>0</td>\n",
       "      <td>1</td>\n",
       "    </tr>\n",
       "    <tr>\n",
       "      <th>4</th>\n",
       "      <td>1</td>\n",
       "      <td>2</td>\n",
       "      <td>1</td>\n",
       "      <td>16</td>\n",
       "      <td>1</td>\n",
       "      <td>1</td>\n",
       "      <td>1</td>\n",
       "      <td>0</td>\n",
       "      <td>0</td>\n",
       "      <td>0</td>\n",
       "      <td>0</td>\n",
       "      <td>0</td>\n",
       "      <td>1</td>\n",
       "    </tr>\n",
       "  </tbody>\n",
       "</table>\n",
       "</div>"
      ],
      "text/plain": [
       "   ProductCD  card4  card6  P_emaildomain  M1  M2  M3  M4  M5  M6  M7  M8  M9\n",
       "0          4      1      1             16   1   1   1   2   0   1   0   0   1\n",
       "1          4      2      1             16   1   1   1   0   1   1   0   0   1\n",
       "2          4      3      2             35   1   1   1   0   0   0   0   0   0\n",
       "3          4      2      2             54   1   1   1   0   1   0   0   0   1\n",
       "4          1      2      1             16   1   1   1   0   0   0   0   0   1"
      ]
     },
     "execution_count": 41,
     "metadata": {},
     "output_type": "execute_result"
    }
   ],
   "source": [
    "cat_features_lgbm.head()"
   ]
  },
  {
   "cell_type": "code",
   "execution_count": 42,
   "metadata": {},
   "outputs": [],
   "source": [
    "train = pd.concat([numerical_features, cat_features_lgbm], axis=1)"
   ]
  },
  {
   "cell_type": "code",
   "execution_count": 43,
   "metadata": {},
   "outputs": [
    {
     "name": "stdout",
     "output_type": "stream",
     "text": [
      "x_train.shape = 144000 rows, 392 cols\n",
      "x_valid.shape = 36000 rows, 392 cols\n"
     ]
    }
   ],
   "source": [
    "x_train, x_valid = train_test_split(\n",
    "    train, train_size=0.8, random_state=1\n",
    ")\n",
    "y_train, y_valid = train_test_split(\n",
    "    target, train_size=0.8, random_state=1\n",
    ")\n",
    "print(\"x_train.shape = {} rows, {} cols\".format(*x_train.shape))\n",
    "print(\"x_valid.shape = {} rows, {} cols\".format(*x_valid.shape))"
   ]
  },
  {
   "cell_type": "code",
   "execution_count": 44,
   "metadata": {},
   "outputs": [
    {
     "name": "stdout",
     "output_type": "stream",
     "text": [
      "Training until validation scores don't improve for 50 rounds\n",
      "[500]\ttraining's auc: 0.954019\tvalid_1's auc: 0.92819\n",
      "[1000]\ttraining's auc: 0.973952\tvalid_1's auc: 0.941406\n",
      "[1500]\ttraining's auc: 0.983435\tvalid_1's auc: 0.947323\n",
      "[2000]\ttraining's auc: 0.989161\tvalid_1's auc: 0.950381\n",
      "[2500]\ttraining's auc: 0.992838\tvalid_1's auc: 0.95233\n",
      "[3000]\ttraining's auc: 0.994877\tvalid_1's auc: 0.954043\n",
      "Did not meet early stopping. Best iteration is:\n",
      "[3000]\ttraining's auc: 0.994877\tvalid_1's auc: 0.954043\n"
     ]
    }
   ],
   "source": [
    "dtrain = lgb.Dataset(\n",
    "    data=x_train, label=y_train\n",
    ")\n",
    "dvalid = lgb.Dataset(\n",
    "    data=x_valid, label=y_valid\n",
    ")\n",
    "\n",
    "model = lgb.train(\n",
    "    params=params,\n",
    "    train_set=dtrain,\n",
    "    num_boost_round=200,\n",
    "    valid_sets=[dtrain, dvalid],\n",
    "    categorical_feature=\"auto\",\n",
    "    early_stopping_rounds=50,\n",
    "    verbose_eval=500\n",
    ")"
   ]
  },
  {
   "cell_type": "markdown",
   "metadata": {},
   "source": [
    "Обе модели не достигли остановки, но у первой качество чуть-чуть лучше. но разница невелика"
   ]
  },
  {
   "cell_type": "markdown",
   "metadata": {},
   "source": [
    "### Задание 7: для числовых признаков обучить модель CatBoost. Обучать алгоритм до тех пор, пока метрика качества не перестанет улучшаться на валидационной выборке в течение определенного числа итераций (выбрать значение самостоятельно)."
   ]
  },
  {
   "cell_type": "code",
   "execution_count": 45,
   "metadata": {},
   "outputs": [],
   "source": [
    "cb_params = {\n",
    "    \"n_estimators\": 3000,\n",
    "    \"loss_function\": \"Logloss\",\n",
    "    \"eval_metric\": \"AUC\",\n",
    "    \"task_type\": \"CPU\",\n",
    "    \"max_bin\": 20,\n",
    "    \"verbose\": 500,\n",
    "    \"max_depth\": 6,\n",
    "    \"l2_leaf_reg\": 100,\n",
    "    \"early_stopping_rounds\": 50,\n",
    "    \"thread_count\": 6,\n",
    "    \"random_seed\": 42\n",
    "}"
   ]
  },
  {
   "cell_type": "code",
   "execution_count": 46,
   "metadata": {},
   "outputs": [
    {
     "name": "stdout",
     "output_type": "stream",
     "text": [
      "x_train.shape = 144000 rows, 379 cols\n",
      "x_valid.shape = 36000 rows, 379 cols\n"
     ]
    }
   ],
   "source": [
    "x_train, x_valid = train_test_split(\n",
    "    numerical_features, train_size=0.8, random_state=1\n",
    ")\n",
    "y_train, y_valid = train_test_split(\n",
    "    target, train_size=0.8, random_state=1\n",
    ")\n",
    "print(\"x_train.shape = {} rows, {} cols\".format(*x_train.shape))\n",
    "print(\"x_valid.shape = {} rows, {} cols\".format(*x_valid.shape))"
   ]
  },
  {
   "cell_type": "code",
   "execution_count": 47,
   "metadata": {},
   "outputs": [
    {
     "name": "stdout",
     "output_type": "stream",
     "text": [
      "0:\ttest: 0.6536408\ttest1: 0.6473652\tbest: 0.6473652 (0)\ttotal: 273ms\tremaining: 13m 38s\n",
      "500:\ttest: 0.8934726\ttest1: 0.8849060\tbest: 0.8849062 (498)\ttotal: 29.7s\tremaining: 2m 28s\n",
      "1000:\ttest: 0.8968824\ttest1: 0.8874785\tbest: 0.8874785 (1000)\ttotal: 57.9s\tremaining: 1m 55s\n",
      "1500:\ttest: 0.9033478\ttest1: 0.8928319\tbest: 0.8928319 (1500)\ttotal: 1m 26s\tremaining: 1m 26s\n",
      "2000:\ttest: 0.9081092\ttest1: 0.8970151\tbest: 0.8970151 (2000)\ttotal: 1m 54s\tremaining: 57.3s\n",
      "2500:\ttest: 0.9145137\ttest1: 0.9023827\tbest: 0.9023827 (2500)\ttotal: 2m 23s\tremaining: 28.7s\n",
      "2999:\ttest: 0.9191222\ttest1: 0.9061584\tbest: 0.9061586 (2997)\ttotal: 2m 52s\tremaining: 0us\n",
      "\n",
      "bestTest = 0.9061585527\n",
      "bestIteration = 2997\n",
      "\n",
      "Shrink model to first 2998 iterations.\n"
     ]
    },
    {
     "data": {
      "text/plain": [
       "<catboost.core.CatBoostClassifier at 0x2422cc3e588>"
      ]
     },
     "execution_count": 47,
     "metadata": {},
     "output_type": "execute_result"
    }
   ],
   "source": [
    "model = cb.CatBoostClassifier(**cb_params)\n",
    "model.fit(x_train, y_train, eval_set=[(x_train, y_train), (x_valid, y_valid)])"
   ]
  },
  {
   "cell_type": "markdown",
   "metadata": {},
   "source": [
    "### Задание 8: обработать категориальные признаки любым способом (который вы знаете) и добавить их к данным. Выполнить задание 7."
   ]
  },
  {
   "cell_type": "code",
   "execution_count": 48,
   "metadata": {},
   "outputs": [],
   "source": [
    "train = pd.concat([numerical_features, cat_features_lgbm], axis=1)"
   ]
  },
  {
   "cell_type": "code",
   "execution_count": 49,
   "metadata": {},
   "outputs": [
    {
     "name": "stdout",
     "output_type": "stream",
     "text": [
      "x_train.shape = 144000 rows, 392 cols\n",
      "x_valid.shape = 36000 rows, 392 cols\n"
     ]
    }
   ],
   "source": [
    "x_train, x_valid = train_test_split(\n",
    "    train, train_size=0.8, random_state=1\n",
    ")\n",
    "y_train, y_valid = train_test_split(\n",
    "    target, train_size=0.8, random_state=1\n",
    ")\n",
    "print(\"x_train.shape = {} rows, {} cols\".format(*x_train.shape))\n",
    "print(\"x_valid.shape = {} rows, {} cols\".format(*x_valid.shape))"
   ]
  },
  {
   "cell_type": "code",
   "execution_count": 50,
   "metadata": {},
   "outputs": [
    {
     "name": "stdout",
     "output_type": "stream",
     "text": [
      "0:\ttest: 0.6256856\ttest1: 0.6289568\tbest: 0.6289568 (0)\ttotal: 51.3ms\tremaining: 2m 33s\n",
      "500:\ttest: 0.9028117\ttest1: 0.8908282\tbest: 0.8908282 (500)\ttotal: 30.4s\tremaining: 2m 31s\n",
      "Stopped by overfitting detector  (50 iterations wait)\n",
      "\n",
      "bestTest = 0.890851804\n",
      "bestIteration = 504\n",
      "\n",
      "Shrink model to first 505 iterations.\n"
     ]
    },
    {
     "data": {
      "text/plain": [
       "<catboost.core.CatBoostClassifier at 0x242eec7ba48>"
      ]
     },
     "execution_count": 50,
     "metadata": {},
     "output_type": "execute_result"
    }
   ],
   "source": [
    "model = cb.CatBoostClassifier(**cb_params)\n",
    "model.fit(x_train, y_train, eval_set=[(x_train, y_train), (x_valid, y_valid)])"
   ]
  },
  {
   "cell_type": "markdown",
   "metadata": {},
   "source": [
    "### Задание 9: обработать категориальные признаки встроенным методом в CatBoost. Выполнить задание 7. Сделать выводы о качестве работы алгоритма, по сравнению с пунктом 8."
   ]
  },
  {
   "cell_type": "code",
   "execution_count": 51,
   "metadata": {},
   "outputs": [],
   "source": [
    "cat_features_cb = cat_features_lgbm_res.copy()"
   ]
  },
  {
   "cell_type": "code",
   "execution_count": 52,
   "metadata": {},
   "outputs": [],
   "source": [
    "train = pd.concat([numerical_features, cat_features_cb], axis=1)"
   ]
  },
  {
   "cell_type": "code",
   "execution_count": 53,
   "metadata": {},
   "outputs": [
    {
     "name": "stdout",
     "output_type": "stream",
     "text": [
      "x_train.shape = 144000 rows, 392 cols\n",
      "x_valid.shape = 36000 rows, 392 cols\n"
     ]
    }
   ],
   "source": [
    "x_train, x_valid = train_test_split(\n",
    "    train, train_size=0.8, random_state=1\n",
    ")\n",
    "y_train, y_valid = train_test_split(\n",
    "    target, train_size=0.8, random_state=1\n",
    ")\n",
    "print(\"x_train.shape = {} rows, {} cols\".format(*x_train.shape))\n",
    "print(\"x_valid.shape = {} rows, {} cols\".format(*x_valid.shape))"
   ]
  },
  {
   "cell_type": "code",
   "execution_count": 54,
   "metadata": {},
   "outputs": [],
   "source": [
    "train_pool = cb.Pool(x_train, y_train, cat_features_cb)\n",
    "valid_pool = cb.Pool(x_valid, y_valid, cat_features_cb)"
   ]
  },
  {
   "cell_type": "code",
   "execution_count": 55,
   "metadata": {},
   "outputs": [
    {
     "name": "stdout",
     "output_type": "stream",
     "text": [
      "0:\ttest: 0.6057119\tbest: 0.6057119 (0)\ttotal: 132ms\tremaining: 6m 36s\n",
      "500:\ttest: 0.8910707\tbest: 0.8910707 (500)\ttotal: 1m 3s\tremaining: 5m 18s\n",
      "Stopped by overfitting detector  (50 iterations wait)\n",
      "\n",
      "bestTest = 0.8920846518\n",
      "bestIteration = 552\n",
      "\n",
      "Shrink model to first 553 iterations.\n"
     ]
    },
    {
     "data": {
      "text/plain": [
       "<catboost.core.CatBoostClassifier at 0x2422cd7d608>"
      ]
     },
     "execution_count": 55,
     "metadata": {},
     "output_type": "execute_result"
    }
   ],
   "source": [
    "model = cb.CatBoostClassifier(**cb_params)\n",
    "model.fit(train_pool, eval_set=valid_pool)"
   ]
  },
  {
   "cell_type": "markdown",
   "metadata": {},
   "source": [
    "### Задание 10: построить ROC-кривую для всех построенных алгоритмов на обучающей и тестовой выборке. Сделать выводы о работе алгоритмов с точки зрения качества на тестовой выборке и с точки зрения переобучения."
   ]
  },
  {
   "cell_type": "code",
   "execution_count": null,
   "metadata": {},
   "outputs": [],
   "source": []
  },
  {
   "cell_type": "code",
   "execution_count": null,
   "metadata": {},
   "outputs": [],
   "source": []
  },
  {
   "cell_type": "code",
   "execution_count": null,
   "metadata": {},
   "outputs": [],
   "source": []
  },
  {
   "cell_type": "code",
   "execution_count": null,
   "metadata": {},
   "outputs": [],
   "source": []
  },
  {
   "cell_type": "code",
   "execution_count": null,
   "metadata": {},
   "outputs": [],
   "source": []
  },
  {
   "cell_type": "code",
   "execution_count": null,
   "metadata": {},
   "outputs": [],
   "source": []
  },
  {
   "cell_type": "code",
   "execution_count": null,
   "metadata": {},
   "outputs": [],
   "source": []
  },
  {
   "cell_type": "code",
   "execution_count": null,
   "metadata": {},
   "outputs": [],
   "source": []
  }
 ],
 "metadata": {
  "kernelspec": {
   "display_name": "Python 3",
   "language": "python",
   "name": "python3"
  },
  "language_info": {
   "codemirror_mode": {
    "name": "ipython",
    "version": 3
   },
   "file_extension": ".py",
   "mimetype": "text/x-python",
   "name": "python",
   "nbconvert_exporter": "python",
   "pygments_lexer": "ipython3",
   "version": "3.7.6"
  }
 },
 "nbformat": 4,
 "nbformat_minor": 4
}
