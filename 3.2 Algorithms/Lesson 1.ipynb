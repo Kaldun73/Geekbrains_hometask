{
 "cells": [
  {
   "cell_type": "code",
   "execution_count": 1,
   "metadata": {},
   "outputs": [],
   "source": [
    "import numpy as np\n"
   ]
  },
  {
   "cell_type": "code",
   "execution_count": 2,
   "metadata": {},
   "outputs": [],
   "source": [
    "X = np.array([[1, 1, 1, 1, 1, 1, 1, 1, 1, 1],\n",
    "              [1, 1, 2, 1, 3, 0, 5, 10, 1, 2]])"
   ]
  },
  {
   "cell_type": "code",
   "execution_count": 3,
   "metadata": {},
   "outputs": [],
   "source": [
    "y = [45, 55, 50, 59, 65, 35, 75, 80, 50, 60]\n"
   ]
  },
  {
   "cell_type": "code",
   "execution_count": 4,
   "metadata": {},
   "outputs": [],
   "source": [
    "def calc_mse(y, y_pred):\n",
    "    err = np.mean((y - y_pred)**2)\n",
    "    return err"
   ]
  },
  {
   "cell_type": "markdown",
   "metadata": {},
   "source": [
    "1. Подберите скорость обучения (alpha) и количество итераций:"
   ]
  },
  {
   "cell_type": "code",
   "execution_count": 5,
   "metadata": {},
   "outputs": [
    {
     "data": {
      "text/plain": [
       "(array([1. , 0.5]), 0.0001)"
      ]
     },
     "execution_count": 5,
     "metadata": {},
     "output_type": "execute_result"
    }
   ],
   "source": [
    "n = X.shape[1]\n",
    "alpha = 1e-4\n",
    "W = np.array([1, 0.5])\n",
    "W, alpha"
   ]
  },
  {
   "cell_type": "code",
   "execution_count": 6,
   "metadata": {},
   "outputs": [
    {
     "name": "stdout",
     "output_type": "stream",
     "text": [
      "0 [1.01102 0.534  ] 3173.15\n",
      "100 [2.02168794 3.452835  ] 2207.6942101483005\n"
     ]
    }
   ],
   "source": [
    "for i in range(200): \n",
    "    y_pred = np.dot(W, X)\n",
    "    err = calc_mse(y, y_pred)    \n",
    "    for ii in range(W.shape[0]):\n",
    "        W[ii] -= alpha * (1/n * 2 * np.sum(X[ii] * (y_pred - y)))\n",
    "    if i % 100 == 0:\n",
    "        print(i, W, err)"
   ]
  },
  {
   "cell_type": "code",
   "execution_count": 7,
   "metadata": {},
   "outputs": [
    {
     "data": {
      "text/plain": [
       "(array([1. , 0.5]), 0.05)"
      ]
     },
     "execution_count": 7,
     "metadata": {},
     "output_type": "execute_result"
    }
   ],
   "source": [
    "n = X.shape[1]\n",
    "alpha = 0.05\n",
    "W = np.array([1, 0.5])\n",
    "W, alpha"
   ]
  },
  {
   "cell_type": "code",
   "execution_count": 8,
   "metadata": {},
   "outputs": [
    {
     "name": "stdout",
     "output_type": "stream",
     "text": [
      "0 [ 6.51 17.5 ] 3173.15\n",
      "100 [47.03142979  3.94777749] 45.96159894380851\n"
     ]
    }
   ],
   "source": [
    "for i in range(200): \n",
    "    y_pred = np.dot(W, X)\n",
    "    err = calc_mse(y, y_pred)    \n",
    "    for ii in range(W.shape[0]):\n",
    "        W[ii] -= alpha * (1/n * 2 * np.sum(X[ii] * (y_pred - y)))\n",
    "    if i % 100 == 0:\n",
    "        print(i, W, err)"
   ]
  },
  {
   "cell_type": "code",
   "execution_count": 9,
   "metadata": {},
   "outputs": [
    {
     "data": {
      "text/plain": [
       "(array([1. , 0.5]), 0.06)"
      ]
     },
     "execution_count": 9,
     "metadata": {},
     "output_type": "execute_result"
    }
   ],
   "source": [
    "n = X.shape[1]\n",
    "alpha = 0.06\n",
    "W = np.array([1, 0.5])\n",
    "W, alpha"
   ]
  },
  {
   "cell_type": "code",
   "execution_count": 10,
   "metadata": {},
   "outputs": [
    {
     "name": "stdout",
     "output_type": "stream",
     "text": [
      "0 [ 7.612 20.9  ] 3173.15\n",
      "100 [47.16625286  3.92288138] 45.94015500316733\n"
     ]
    }
   ],
   "source": [
    "for i in range(200): \n",
    "    y_pred = np.dot(W, X)\n",
    "    err = calc_mse(y, y_pred)    \n",
    "    for ii in range(W.shape[0]):\n",
    "        W[ii] -= alpha * (1/n * 2 * np.sum(X[ii] * (y_pred - y)))\n",
    "    if i % 100 == 0:\n",
    "        print(i, W, err)"
   ]
  },
  {
   "cell_type": "code",
   "execution_count": 11,
   "metadata": {},
   "outputs": [
    {
     "data": {
      "text/plain": [
       "(array([1. , 0.5]), 0.06)"
      ]
     },
     "execution_count": 11,
     "metadata": {},
     "output_type": "execute_result"
    }
   ],
   "source": [
    "n = X.shape[1]\n",
    "alpha = 0.06\n",
    "W = np.array([1, 0.5])\n",
    "W, alpha"
   ]
  },
  {
   "cell_type": "code",
   "execution_count": 12,
   "metadata": {},
   "outputs": [
    {
     "name": "stdout",
     "output_type": "stream",
     "text": [
      "0 [ 7.612 20.9  ] 3173.15\n",
      "20 [35.85695572  6.15284752] 125.86627725452965\n",
      "40 [44.0891315   4.49316871] 51.980145468359524\n",
      "60 [46.3654434   4.07078732] 46.39687623882493\n",
      "80 [46.99317184  3.95484256] 45.972423420722386\n",
      "100 [47.16625286  3.92288138] 45.94015500316733\n",
      "120 [47.21397542  3.91406904] 45.93770184282277\n",
      "140 [47.22713366  3.91163927] 45.93751534481224\n",
      "160 [47.2307617   3.91096933] 45.93750116656743\n",
      "180 [47.23176204  3.91078461] 45.937500088686626\n"
     ]
    }
   ],
   "source": [
    "for i in range(200): \n",
    "    y_pred = np.dot(W, X)\n",
    "    err = calc_mse(y, y_pred)    \n",
    "    for ii in range(W.shape[0]):\n",
    "        W[ii] -= alpha * (1/n * 2 * np.sum(X[ii] * (y_pred - y)))\n",
    "    if i % 20 == 0:\n",
    "        print(i, W, err)"
   ]
  },
  {
   "cell_type": "code",
   "execution_count": 13,
   "metadata": {},
   "outputs": [
    {
     "data": {
      "text/plain": [
       "(array([1. , 0.5]), 0.0575)"
      ]
     },
     "execution_count": 13,
     "metadata": {},
     "output_type": "execute_result"
    }
   ],
   "source": [
    "n = X.shape[1]\n",
    "alpha = 0.0575\n",
    "W = np.array([1, 0.5])\n",
    "W, alpha"
   ]
  },
  {
   "cell_type": "code",
   "execution_count": 14,
   "metadata": {},
   "outputs": [
    {
     "name": "stdout",
     "output_type": "stream",
     "text": [
      "0 [ 7.3365 20.05  ] 3173.15\n",
      "10 [24.92077178  8.43000744] 354.9322919819926\n",
      "20 [35.1524411   6.15950171] 134.73705587463752\n",
      "30 [40.70949545  5.11599852] 71.81301886714115\n",
      "40 [43.71091805  4.56097305] 53.478178800870616\n",
      "50 [45.33126     4.26172856] 48.13501639376065\n",
      "60 [46.20598007  4.10020317] 46.57790366293325\n",
      "70 [46.67818451  4.01300694] 46.12412743662682\n",
      "80 [46.93309689  3.96593541] 45.991887259345724\n",
      "90 [47.07070745  3.94052457] 45.953349620144856\n",
      "100 [47.14499441  3.92680691] 45.942118921081104\n",
      "110 [47.1850971   3.91940164] 45.938846053202454\n",
      "120 [47.20674592  3.91540402] 45.93789226892861\n",
      "130 [47.21843271  3.91324597] 45.93761431562444\n",
      "140 [47.22474164  3.91208098] 45.93753331403797\n",
      "150 [47.22814742  3.91145207] 45.93750970842905\n",
      "160 [47.22998598  3.91111257] 45.93750282924559\n",
      "170 [47.2309785   3.91092929] 45.93750082450317\n",
      "180 [47.2315143   3.91083035] 45.93750024027801\n",
      "190 [47.23180354  3.91077694] 45.93750007002218\n"
     ]
    }
   ],
   "source": [
    "for i in range(200): \n",
    "    y_pred = np.dot(W, X)\n",
    "    err = calc_mse(y, y_pred)    \n",
    "    for ii in range(W.shape[0]):\n",
    "        W[ii] -= alpha * (1/n * 2 * np.sum(X[ii] * (y_pred - y)))\n",
    "    if i % 10 == 0:\n",
    "        print(i, W, err)"
   ]
  },
  {
   "cell_type": "markdown",
   "metadata": {},
   "source": [
    "Ответ: скорость обучения - 0.058. Точность до 4 знака после запятой потребует 140 итераций. \n"
   ]
  },
  {
   "cell_type": "markdown",
   "metadata": {},
   "source": [
    "*2. В этом коде мы избавляемся от итераций по весам, но тут есть ошибка, исправьте ее:"
   ]
  },
  {
   "cell_type": "code",
   "execution_count": 15,
   "metadata": {},
   "outputs": [
    {
     "data": {
      "text/plain": [
       "(array([1. , 0.5]), 0.0575)"
      ]
     },
     "execution_count": 15,
     "metadata": {},
     "output_type": "execute_result"
    }
   ],
   "source": [
    "n = X.shape[1]\n",
    "alpha = 0.0575\n",
    "W = np.array([1, 0.5])\n",
    "W, alpha"
   ]
  },
  {
   "cell_type": "code",
   "execution_count": 16,
   "metadata": {},
   "outputs": [
    {
     "name": "stdout",
     "output_type": "stream",
     "text": [
      "0 [26.8865 26.3865] 3173.15\n",
      "10 [423.29739408 422.79739408] 1818228.4750305056\n",
      "20 [11251.04026474 11250.54026474] 1355992545.7139463\n",
      "30 [307004.80844745 307004.30844745] 1011676755874.8766\n",
      "40 [8385354.32590033 8385353.82590033] 754790589721282.8\n",
      "50 [2.29040974e+08 2.29040973e+08] 5.631332650843566e+17\n",
      "60 [6.25612637e+09 6.25612637e+09] 4.201417963649742e+20\n",
      "70 [1.70882608e+11 1.70882608e+11] 3.134588915224986e+23\n",
      "80 [4.66756331e+12 4.66756331e+12] 2.338650368152338e+26\n",
      "90 [1.27491893e+14 1.27491893e+14] 1.7448174840069977e+29\n",
      "100 [3.48237008e+15 3.48237008e+15] 1.3017713523812197e+32\n",
      "110 [9.51189999e+16 9.51189999e+16] 9.712240216602712e+34\n",
      "120 [2.59812253e+18 2.59812253e+18] 7.246096624606886e+37\n",
      "130 [7.09662703e+19 7.09662703e+19] 5.406159147853687e+40\n",
      "140 [1.93840416e+21 1.93840416e+21] 4.0334207844637745e+43\n",
      "150 [5.29464305e+22 5.29464305e+22] 3.009249779670867e+46\n",
      "160 [1.44620227e+24 1.44620227e+24] 2.2451374950340191e+49\n",
      "170 [3.95022099e+25 3.95022099e+25] 1.6750495108980143e+52\n",
      "180 [1.07898087e+27 1.07898087e+27] 1.2497189460181185e+55\n",
      "190 [2.94717617e+28 2.94717617e+28] 9.32388824255911e+57\n"
     ]
    }
   ],
   "source": [
    "for i in range(200):\n",
    "    y_pred = np.dot(W, X)\n",
    "    err = calc_mse(y, y_pred)\n",
    "    '''for ii in range(W.shape[0]):\n",
    "    W[ii] -= alpha * (1/n * 2 * np.sum(X[ii] * (y_pred - y)))'''\n",
    "    W -= (alpha * (1/n * 2 * np.sum(X * (y_pred - y))))\n",
    "    if i % 10 == 0:\n",
    "        print(i, W, err)\n",
    "        \n",
    "        \n",
    "alpha = alpha_new\n",
    "n_iter = n_iter_new\n",
    "W = np.array([1, 0.5])\n",
    "for i in range(n_iter+1):\n",
    "    y_pred = np.dot(W, X)\n",
    "    err = calc_mse(y, y_pred)\n",
    "    '''for ii in range(W.shape[0]):\n",
    "    W[ii] -= alpha * (1/n * 2 * np.sum(X[ii] * (y_pred - y)))'''\n",
    "    W -= (alpha * (1/n * 2 * np.dot(X,(y_pred - y))))\n",
    "    if i % 10 == 0:\n",
    "        print(i, W, err)"
   ]
  },
  {
   "cell_type": "code",
   "execution_count": null,
   "metadata": {},
   "outputs": [],
   "source": []
  }
 ],
 "metadata": {
  "kernelspec": {
   "display_name": "Python 3",
   "language": "python",
   "name": "python3"
  },
  "language_info": {
   "codemirror_mode": {
    "name": "ipython",
    "version": 3
   },
   "file_extension": ".py",
   "mimetype": "text/x-python",
   "name": "python",
   "nbconvert_exporter": "python",
   "pygments_lexer": "ipython3",
   "version": "3.7.4"
  }
 },
 "nbformat": 4,
 "nbformat_minor": 2
}
