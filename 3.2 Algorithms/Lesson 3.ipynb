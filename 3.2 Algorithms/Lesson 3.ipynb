{
 "cells": [
  {
   "cell_type": "code",
   "execution_count": 1,
   "metadata": {},
   "outputs": [],
   "source": [
    "import numpy as np\n",
    "import matplotlib.pyplot as plt"
   ]
  },
  {
   "cell_type": "code",
   "execution_count": 2,
   "metadata": {},
   "outputs": [],
   "source": [
    "X = np.array([[1, 1, 1, 1, 1, 1, 1, 1, 1, 1],\n",
    "              [1, 1, 2, 1, 3, 0, 5, 10, 1, 2],\n",
    "              [500, 700, 750, 600, 1450, 800, 1500, 2000, 450, 1000],\n",
    "              [1, 1, 2, 1, 2, 1, 3, 3, 1, 2]], dtype = np.float64)\n",
    "\n",
    "y = np.array([0, 0, 1, 0, 1, 0, 1, 0, 1, 1], dtype = np.float64)"
   ]
  },
  {
   "cell_type": "markdown",
   "metadata": {},
   "source": [
    "### 1. Измените функцию calc_logloss так, чтобы нули по возможности не попадали в np.log."
   ]
  },
  {
   "cell_type": "code",
   "execution_count": 4,
   "metadata": {},
   "outputs": [],
   "source": [
    "def calc_logloss(y, y_pred, delta = 1e-15):    \n",
    "    y_pred[y_pred==0] += delta\n",
    "    y_pred[y_pred==1] -= delta\n",
    "    err = - np.mean(y * np.log(y_pred) + (1.0 - y) * np.log(1.0 - y_pred))\n",
    "    return err"
   ]
  },
  {
   "cell_type": "markdown",
   "metadata": {},
   "source": [
    "### 2. Подберите аргументы функции eval_model для логистической регрессии таким образом, чтобы log loss был минимальным."
   ]
  },
  {
   "cell_type": "code",
   "execution_count": 8,
   "metadata": {},
   "outputs": [],
   "source": [
    "def sigmoid(z):\n",
    "    res = 1 / (1 + np.exp(-z))\n",
    "    return res"
   ]
  },
  {
   "cell_type": "code",
   "execution_count": 76,
   "metadata": {},
   "outputs": [],
   "source": [
    "def eval_model(X, y, iterations, alpha=1e-4):\n",
    "    np.random.seed(42)\n",
    "    W = np.random.randn(X.shape[0])\n",
    "    n = X.shape[1]\n",
    "    \n",
    "    err_history = []\n",
    "    min_err = 100\n",
    "    n_iter = None\n",
    "    for i in range(1, iterations+1):\n",
    "        z = np.dot(W, X)\n",
    "        y_pred = sigmoid(z)\n",
    "        err = calc_logloss(y, y_pred)\n",
    "        W -= alpha * (1/n * np.dot((y_pred - y), X.T))\n",
    "        \n",
    "        if err < min_err:\n",
    "            n_iter, min_err = i, err\n",
    "        err_history.append(err)\n",
    "    print(f'Min(log_loss) at learning_rate={alpha} is {round(min_err, 4)}, at {n_iter} iterations')\n",
    "    return W, err_history"
   ]
  },
  {
   "cell_type": "code",
   "execution_count": 77,
   "metadata": {},
   "outputs": [],
   "source": [
    "def plot (t, alpha_list, model=eval_model):\n",
    "    dots = np.linspace(0, t, t)\n",
    "    plt.xlabel('Number of inerations')\n",
    "    plt.ylabel('Error')\n",
    "\n",
    "\n",
    "    for alpha in alpha_list:\n",
    "        _, err_history = model(X, y, t, alpha)\n",
    "        plt.plot(dots, err_history)\n",
    "\n",
    "    plt.legend(['alpha=' + str(i) for i in alpha_list])\n",
    "    plt.show()"
   ]
  },
  {
   "cell_type": "code",
   "execution_count": 79,
   "metadata": {},
   "outputs": [
    {
     "name": "stdout",
     "output_type": "stream",
     "text": [
      "Min(log_loss) at learning_rate=0.1 is 13.8158, at 6542 iterations\n",
      "Min(log_loss) at learning_rate=0.01 is 0.6038, at 105 iterations\n",
      "Min(log_loss) at learning_rate=0.001 is 0.6049, at 426 iterations\n",
      "Min(log_loss) at learning_rate=0.0001 is 1.1267, at 46 iterations\n"
     ]
    },
    {
     "data": {
      "image/png": "[encoded data removed]",
      "text/plain": [
       "<Figure size 432x288 with 1 Axes>"
      ]
     },
     "metadata": {
      "needs_background": "light"
     },
     "output_type": "display_data"
    }
   ],
   "source": [
    "t = 10000\n",
    "alpha_list = [0.1, 1e-2, 1e-3, 1e-4]\n",
    "plot (t, alpha_list)"
   ]
  },
  {
   "cell_type": "markdown",
   "metadata": {},
   "source": [
    "### 3. Создайте функцию calc_pred_proba, возвращающую предсказанную вероятность класса 1 (на вход подаются W, который уже посчитан функцией eval_model и X, на выходе - массив y_pred_proba)."
   ]
  },
  {
   "cell_type": "code",
   "execution_count": 12,
   "metadata": {},
   "outputs": [],
   "source": [
    "def calc_pred_proba(W, X):\n",
    "    y_pred = 1 / (1 + np.exp(-np.dot(W, X)))\n",
    "    return y_pred"
   ]
  },
  {
   "cell_type": "markdown",
   "metadata": {},
   "source": [
    "### 4. Создайте функцию calc_pred, возвращающую предсказанный класс (на вход подаются W, который уже посчитан функцией eval_model и X, на выходе - массив y_pred)."
   ]
  },
  {
   "cell_type": "code",
   "execution_count": 24,
   "metadata": {},
   "outputs": [],
   "source": [
    "def calc_pred(W, X, level=0.5):\n",
    "    y_pred = calc_pred_proba(W, X)  \n",
    "    y_pred[y_pred >= level] = 1\n",
    "    y_pred[y_pred < level] = 0\n",
    "    return y_pred"
   ]
  },
  {
   "cell_type": "markdown",
   "metadata": {},
   "source": [
    "### 5. Посчитайте Accuracy, матрицу ошибок, точность и полноту, а также F1 score.\n"
   ]
  },
  {
   "cell_type": "code",
   "execution_count": 48,
   "metadata": {},
   "outputs": [],
   "source": [
    "def accuracy(y, y_pred):\n",
    "    acc = (y_pred == y).sum()/len(y)\n",
    "    return acc\n",
    "\n",
    "def metrics(y, y_pred):\n",
    "    TP = y[(y - y_pred) == 0].sum()\n",
    "    FP = ((y - y_pred) == -1).sum()\n",
    "    TN = (y[(y - y_pred) == 0]==0).sum()\n",
    "    FN = ((y - y_pred) == 1).sum()\n",
    "    \n",
    "    precision = TP / (TP + FP)\n",
    "    recall = TP / (TP + FN)\n",
    "    F1_score = 2 * precision * recall / (precision + recall)\n",
    "    \n",
    "    print(f'precision = {precision}')\n",
    "    print(f'recall = {recall}')\n",
    "    print(f'F1_score = {F1_score}')\n",
    "    \n",
    "    return np.array([[TP.sum(), FP.sum()], \n",
    "                     [FN.sum(), TN.sum()]])\n",
    " \n",
    "    \n",
    "\n",
    "    "
   ]
  },
  {
   "cell_type": "code",
   "execution_count": 49,
   "metadata": {},
   "outputs": [
    {
     "name": "stdout",
     "output_type": "stream",
     "text": [
      "1000 [ 0.49177594 -0.14548261  0.03499467  1.53137498] 1.2756825174748638\n",
      "precision = 0.5\n",
      "recall = 1.0\n",
      "F1_score = 0.6666666666666666\n"
     ]
    },
    {
     "data": {
      "text/plain": [
       "array([[5., 5.],\n",
       "       [0., 0.]])"
      ]
     },
     "execution_count": 49,
     "metadata": {},
     "output_type": "execute_result"
    }
   ],
   "source": [
    "W = eval_model(X, y, iterations=1000)\n",
    "y_pred = calc_pred(W, X)\n",
    "\n",
    "accuracy(y, y_pred)\n",
    "metrics(y, y_pred)"
   ]
  },
  {
   "cell_type": "markdown",
   "metadata": {},
   "source": [
    "### 6. Могла ли модель переобучиться? Почему?"
   ]
  },
  {
   "cell_type": "markdown",
   "metadata": {},
   "source": [
    "Модель могла переобучиться из-за малой выборки. Она слишком хорошо ее изучила и на новых данных могут быть большие ошибки. Также проблема из-за того, что не используется регуляризация. "
   ]
  },
  {
   "cell_type": "code",
   "execution_count": null,
   "metadata": {},
   "outputs": [],
   "source": []
  }
 ],
 "metadata": {
  "kernelspec": {
   "display_name": "Python 3",
   "language": "python",
   "name": "python3"
  },
  "language_info": {
   "codemirror_mode": {
    "name": "ipython",
    "version": 3
   },
   "file_extension": ".py",
   "mimetype": "text/x-python",
   "name": "python",
   "nbconvert_exporter": "python",
   "pygments_lexer": "ipython3",
   "version": "3.7.4"
  }
 },
 "nbformat": 4,
 "nbformat_minor": 2
}
