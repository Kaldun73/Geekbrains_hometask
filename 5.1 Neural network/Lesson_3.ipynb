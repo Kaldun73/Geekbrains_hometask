{
  "nbformat": 4,
  "nbformat_minor": 0,
  "metadata": {
    "colab": {
      "name": "Lesson 3.ipynb",
      "provenance": [],
      "collapsed_sections": []
    },
    "kernelspec": {
      "name": "python3",
      "display_name": "Python 3"
    }
  },
  "cells": [
    {
      "cell_type": "code",
      "metadata": {
        "id": "WEt_tU072wnu"
      },
      "source": [
        "import numpy as np\r\n",
        "import pandas as pd\r\n",
        "import matplotlib.pyplot as plt\r\n",
        "import keras\r\n",
        "import tensorflow as tf\r\n",
        "\r\n",
        "#from keras.utils import plot_model\r\n",
        "import pydot\r\n",
        "import pydotplus\r\n",
        "from pydotplus import graphviz\r\n",
        "from keras.utils.vis_utils import plot_model\r\n",
        "from keras.utils.vis_utils import model_to_dot\r\n",
        "keras.utils.vis_utils.pydot = pydot\r\n",
        "from sklearn.metrics import mean_absolute_error as mae, mean_squared_error as mse, r2_score as r2\r\n",
        "import tensorflow_datasets as tfds\r\n",
        "from sklearn.datasets import load_boston\r\n",
        "\r\n",
        "#from keras.models import Sequential\r\n",
        "#from keras.layers import Dense\r\n",
        "#from keras.utils import to_categorical\r\n",
        "#from keras.datasets import mnist\r\n",
        "\r\n",
        "from tensorflow.keras.datasets import mnist\r\n",
        "from tensorflow.keras.models import Sequential, Model\r\n",
        "from tensorflow.keras.layers import Dense, Input, Flatten\r\n",
        "from tensorflow.keras.utils import to_categorical\r\n",
        "\r\n",
        "from sklearn.model_selection import train_test_split"
      ],
      "execution_count": 31,
      "outputs": []
    },
    {
      "cell_type": "markdown",
      "metadata": {
        "id": "uVvLRykR5x4M"
      },
      "source": [
        "### 1. Постройте нейронную сеть(берем простую линейную сеть, которую разбирали на уроке: меняем число слоев, число нейронов , типы активации, тип оптимизатора) на датасет from sklearn.datasets import load_boston."
      ]
    },
    {
      "cell_type": "code",
      "metadata": {
        "colab": {
          "base_uri": "https://localhost:8080/",
          "height": 402
        },
        "id": "IY3Fmmvz5vIn",
        "outputId": "54b6ea53-0962-4fc7-c8a4-bb295fd6e5b3"
      },
      "source": [
        "boston = load_boston()\r\n",
        "\r\n",
        "boston_df = pd.DataFrame(boston.data, columns=boston.feature_names)\r\n",
        "boston_df"
      ],
      "execution_count": 3,
      "outputs": [
        {
          "output_type": "execute_result",
          "data": {
            "text/html": [
              "<div>\n",
              "<style scoped>\n",
              "    .dataframe tbody tr th:only-of-type {\n",
              "        vertical-align: middle;\n",
              "    }\n",
              "\n",
              "    .dataframe tbody tr th {\n",
              "        vertical-align: top;\n",
              "    }\n",
              "\n",
              "    .dataframe thead th {\n",
              "        text-align: right;\n",
              "    }\n",
              "</style>\n",
              "<table border=\"1\" class=\"dataframe\">\n",
              "  <thead>\n",
              "    <tr style=\"text-align: right;\">\n",
              "      <th></th>\n",
              "      <th>CRIM</th>\n",
              "      <th>ZN</th>\n",
              "      <th>INDUS</th>\n",
              "      <th>CHAS</th>\n",
              "      <th>NOX</th>\n",
              "      <th>RM</th>\n",
              "      <th>AGE</th>\n",
              "      <th>DIS</th>\n",
              "      <th>RAD</th>\n",
              "      <th>TAX</th>\n",
              "      <th>PTRATIO</th>\n",
              "      <th>B</th>\n",
              "      <th>LSTAT</th>\n",
              "    </tr>\n",
              "  </thead>\n",
              "  <tbody>\n",
              "    <tr>\n",
              "      <th>0</th>\n",
              "      <td>0.00632</td>\n",
              "      <td>18.0</td>\n",
              "      <td>2.31</td>\n",
              "      <td>0.0</td>\n",
              "      <td>0.538</td>\n",
              "      <td>6.575</td>\n",
              "      <td>65.2</td>\n",
              "      <td>4.0900</td>\n",
              "      <td>1.0</td>\n",
              "      <td>296.0</td>\n",
              "      <td>15.3</td>\n",
              "      <td>396.90</td>\n",
              "      <td>4.98</td>\n",
              "    </tr>\n",
              "    <tr>\n",
              "      <th>1</th>\n",
              "      <td>0.02731</td>\n",
              "      <td>0.0</td>\n",
              "      <td>7.07</td>\n",
              "      <td>0.0</td>\n",
              "      <td>0.469</td>\n",
              "      <td>6.421</td>\n",
              "      <td>78.9</td>\n",
              "      <td>4.9671</td>\n",
              "      <td>2.0</td>\n",
              "      <td>242.0</td>\n",
              "      <td>17.8</td>\n",
              "      <td>396.90</td>\n",
              "      <td>9.14</td>\n",
              "    </tr>\n",
              "    <tr>\n",
              "      <th>2</th>\n",
              "      <td>0.02729</td>\n",
              "      <td>0.0</td>\n",
              "      <td>7.07</td>\n",
              "      <td>0.0</td>\n",
              "      <td>0.469</td>\n",
              "      <td>7.185</td>\n",
              "      <td>61.1</td>\n",
              "      <td>4.9671</td>\n",
              "      <td>2.0</td>\n",
              "      <td>242.0</td>\n",
              "      <td>17.8</td>\n",
              "      <td>392.83</td>\n",
              "      <td>4.03</td>\n",
              "    </tr>\n",
              "    <tr>\n",
              "      <th>3</th>\n",
              "      <td>0.03237</td>\n",
              "      <td>0.0</td>\n",
              "      <td>2.18</td>\n",
              "      <td>0.0</td>\n",
              "      <td>0.458</td>\n",
              "      <td>6.998</td>\n",
              "      <td>45.8</td>\n",
              "      <td>6.0622</td>\n",
              "      <td>3.0</td>\n",
              "      <td>222.0</td>\n",
              "      <td>18.7</td>\n",
              "      <td>394.63</td>\n",
              "      <td>2.94</td>\n",
              "    </tr>\n",
              "    <tr>\n",
              "      <th>4</th>\n",
              "      <td>0.06905</td>\n",
              "      <td>0.0</td>\n",
              "      <td>2.18</td>\n",
              "      <td>0.0</td>\n",
              "      <td>0.458</td>\n",
              "      <td>7.147</td>\n",
              "      <td>54.2</td>\n",
              "      <td>6.0622</td>\n",
              "      <td>3.0</td>\n",
              "      <td>222.0</td>\n",
              "      <td>18.7</td>\n",
              "      <td>396.90</td>\n",
              "      <td>5.33</td>\n",
              "    </tr>\n",
              "    <tr>\n",
              "      <th>...</th>\n",
              "      <td>...</td>\n",
              "      <td>...</td>\n",
              "      <td>...</td>\n",
              "      <td>...</td>\n",
              "      <td>...</td>\n",
              "      <td>...</td>\n",
              "      <td>...</td>\n",
              "      <td>...</td>\n",
              "      <td>...</td>\n",
              "      <td>...</td>\n",
              "      <td>...</td>\n",
              "      <td>...</td>\n",
              "      <td>...</td>\n",
              "    </tr>\n",
              "    <tr>\n",
              "      <th>501</th>\n",
              "      <td>0.06263</td>\n",
              "      <td>0.0</td>\n",
              "      <td>11.93</td>\n",
              "      <td>0.0</td>\n",
              "      <td>0.573</td>\n",
              "      <td>6.593</td>\n",
              "      <td>69.1</td>\n",
              "      <td>2.4786</td>\n",
              "      <td>1.0</td>\n",
              "      <td>273.0</td>\n",
              "      <td>21.0</td>\n",
              "      <td>391.99</td>\n",
              "      <td>9.67</td>\n",
              "    </tr>\n",
              "    <tr>\n",
              "      <th>502</th>\n",
              "      <td>0.04527</td>\n",
              "      <td>0.0</td>\n",
              "      <td>11.93</td>\n",
              "      <td>0.0</td>\n",
              "      <td>0.573</td>\n",
              "      <td>6.120</td>\n",
              "      <td>76.7</td>\n",
              "      <td>2.2875</td>\n",
              "      <td>1.0</td>\n",
              "      <td>273.0</td>\n",
              "      <td>21.0</td>\n",
              "      <td>396.90</td>\n",
              "      <td>9.08</td>\n",
              "    </tr>\n",
              "    <tr>\n",
              "      <th>503</th>\n",
              "      <td>0.06076</td>\n",
              "      <td>0.0</td>\n",
              "      <td>11.93</td>\n",
              "      <td>0.0</td>\n",
              "      <td>0.573</td>\n",
              "      <td>6.976</td>\n",
              "      <td>91.0</td>\n",
              "      <td>2.1675</td>\n",
              "      <td>1.0</td>\n",
              "      <td>273.0</td>\n",
              "      <td>21.0</td>\n",
              "      <td>396.90</td>\n",
              "      <td>5.64</td>\n",
              "    </tr>\n",
              "    <tr>\n",
              "      <th>504</th>\n",
              "      <td>0.10959</td>\n",
              "      <td>0.0</td>\n",
              "      <td>11.93</td>\n",
              "      <td>0.0</td>\n",
              "      <td>0.573</td>\n",
              "      <td>6.794</td>\n",
              "      <td>89.3</td>\n",
              "      <td>2.3889</td>\n",
              "      <td>1.0</td>\n",
              "      <td>273.0</td>\n",
              "      <td>21.0</td>\n",
              "      <td>393.45</td>\n",
              "      <td>6.48</td>\n",
              "    </tr>\n",
              "    <tr>\n",
              "      <th>505</th>\n",
              "      <td>0.04741</td>\n",
              "      <td>0.0</td>\n",
              "      <td>11.93</td>\n",
              "      <td>0.0</td>\n",
              "      <td>0.573</td>\n",
              "      <td>6.030</td>\n",
              "      <td>80.8</td>\n",
              "      <td>2.5050</td>\n",
              "      <td>1.0</td>\n",
              "      <td>273.0</td>\n",
              "      <td>21.0</td>\n",
              "      <td>396.90</td>\n",
              "      <td>7.88</td>\n",
              "    </tr>\n",
              "  </tbody>\n",
              "</table>\n",
              "<p>506 rows × 13 columns</p>\n",
              "</div>"
            ],
            "text/plain": [
              "        CRIM    ZN  INDUS  CHAS    NOX  ...  RAD    TAX  PTRATIO       B  LSTAT\n",
              "0    0.00632  18.0   2.31   0.0  0.538  ...  1.0  296.0     15.3  396.90   4.98\n",
              "1    0.02731   0.0   7.07   0.0  0.469  ...  2.0  242.0     17.8  396.90   9.14\n",
              "2    0.02729   0.0   7.07   0.0  0.469  ...  2.0  242.0     17.8  392.83   4.03\n",
              "3    0.03237   0.0   2.18   0.0  0.458  ...  3.0  222.0     18.7  394.63   2.94\n",
              "4    0.06905   0.0   2.18   0.0  0.458  ...  3.0  222.0     18.7  396.90   5.33\n",
              "..       ...   ...    ...   ...    ...  ...  ...    ...      ...     ...    ...\n",
              "501  0.06263   0.0  11.93   0.0  0.573  ...  1.0  273.0     21.0  391.99   9.67\n",
              "502  0.04527   0.0  11.93   0.0  0.573  ...  1.0  273.0     21.0  396.90   9.08\n",
              "503  0.06076   0.0  11.93   0.0  0.573  ...  1.0  273.0     21.0  396.90   5.64\n",
              "504  0.10959   0.0  11.93   0.0  0.573  ...  1.0  273.0     21.0  393.45   6.48\n",
              "505  0.04741   0.0  11.93   0.0  0.573  ...  1.0  273.0     21.0  396.90   7.88\n",
              "\n",
              "[506 rows x 13 columns]"
            ]
          },
          "metadata": {
            "tags": []
          },
          "execution_count": 3
        }
      ]
    },
    {
      "cell_type": "code",
      "metadata": {
        "id": "mFhF-QH88Fl9"
      },
      "source": [
        "train_data = boston.data\r\n",
        "train_target = boston.target\r\n"
      ],
      "execution_count": 4,
      "outputs": []
    },
    {
      "cell_type": "code",
      "metadata": {
        "id": "7uz1nApFzfTZ"
      },
      "source": [
        "train_data, test_data, train_target, test_target = train_test_split(train_data, train_target, test_size=0.20)\r\n"
      ],
      "execution_count": 5,
      "outputs": []
    },
    {
      "cell_type": "code",
      "metadata": {
        "colab": {
          "base_uri": "https://localhost:8080/"
        },
        "id": "LpJyj1Lh3m4B",
        "outputId": "6dce23b9-9cda-4da6-b1c2-a32ef9c38cf1"
      },
      "source": [
        "model_boston = Sequential([\r\n",
        "    Dense(64, activation='relu', input_shape=(13,)),\r\n",
        "    Dense(32, activation='relu'),\r\n",
        "    Dense(1, activation='linear')\r\n",
        "])\r\n",
        "\r\n",
        "model_boston.compile(optimizer=keras.optimizers.Adam(learning_rate=0.001),\r\n",
        "                     loss='mse',\r\n",
        "                     metrics=['mae'])   #mae\r\n",
        "\r\n",
        "model_boston.summary()"
      ],
      "execution_count": 43,
      "outputs": [
        {
          "output_type": "stream",
          "text": [
            "Model: \"sequential_2488\"\n",
            "_________________________________________________________________\n",
            "Layer (type)                 Output Shape              Param #   \n",
            "=================================================================\n",
            "dense_7464 (Dense)           (None, 64)                896       \n",
            "_________________________________________________________________\n",
            "dense_7465 (Dense)           (None, 32)                2080      \n",
            "_________________________________________________________________\n",
            "dense_7466 (Dense)           (None, 1)                 33        \n",
            "=================================================================\n",
            "Total params: 3,009\n",
            "Trainable params: 3,009\n",
            "Non-trainable params: 0\n",
            "_________________________________________________________________\n"
          ],
          "name": "stdout"
        }
      ]
    },
    {
      "cell_type": "code",
      "metadata": {
        "colab": {
          "base_uri": "https://localhost:8080/"
        },
        "id": "17HY3Rzd5WRO",
        "outputId": "580233f8-4e4a-4c17-d48d-8a68ad3c4bbf"
      },
      "source": [
        "model_boston.fit(\r\n",
        "    train_data,\r\n",
        "    train_target,\r\n",
        "    epochs=5,\r\n",
        "    verbose = 0\r\n",
        ")"
      ],
      "execution_count": 49,
      "outputs": [
        {
          "output_type": "execute_result",
          "data": {
            "text/plain": [
              "<tensorflow.python.keras.callbacks.History at 0x7f5e64503908>"
            ]
          },
          "metadata": {
            "tags": []
          },
          "execution_count": 49
        }
      ]
    },
    {
      "cell_type": "code",
      "metadata": {
        "colab": {
          "base_uri": "https://localhost:8080/"
        },
        "id": "xqjPnhso8E_g",
        "outputId": "55bcc33e-a8a2-4705-eefb-3d9f4e445137"
      },
      "source": [
        "model_boston.evaluate(train_data, train_target)\r\n"
      ],
      "execution_count": 50,
      "outputs": [
        {
          "output_type": "stream",
          "text": [
            "13/13 [==============================] - 0s 1ms/step - loss: 82.5021 - mae: 6.8124\n"
          ],
          "name": "stdout"
        },
        {
          "output_type": "execute_result",
          "data": {
            "text/plain": [
              "[82.50210571289062, 6.812440872192383]"
            ]
          },
          "metadata": {
            "tags": []
          },
          "execution_count": 50
        }
      ]
    },
    {
      "cell_type": "code",
      "metadata": {
        "colab": {
          "base_uri": "https://localhost:8080/"
        },
        "id": "kAhbIuaK5pKf",
        "outputId": "f57bf8ea-0b3f-4f88-f549-dccfb65454ea"
      },
      "source": [
        "model_boston.evaluate(test_data, test_target)\r\n"
      ],
      "execution_count": 51,
      "outputs": [
        {
          "output_type": "stream",
          "text": [
            "4/4 [==============================] - 0s 3ms/step - loss: 75.4781 - mae: 6.7454\n"
          ],
          "name": "stdout"
        },
        {
          "output_type": "execute_result",
          "data": {
            "text/plain": [
              "[75.47811126708984, 6.745428562164307]"
            ]
          },
          "metadata": {
            "tags": []
          },
          "execution_count": 51
        }
      ]
    },
    {
      "cell_type": "code",
      "metadata": {
        "id": "hNNBhLpi5sLa"
      },
      "source": [
        "predictions = model_boston.predict(test_data)\r\n"
      ],
      "execution_count": 52,
      "outputs": []
    },
    {
      "cell_type": "code",
      "metadata": {
        "colab": {
          "base_uri": "https://localhost:8080/"
        },
        "id": "-NgEw32C5uJu",
        "outputId": "ba3f91a9-1901-4a61-c051-88babf7485db"
      },
      "source": [
        "r2(test_target, predictions)\r\n"
      ],
      "execution_count": 53,
      "outputs": [
        {
          "output_type": "execute_result",
          "data": {
            "text/plain": [
              "0.08894578269639652"
            ]
          },
          "metadata": {
            "tags": []
          },
          "execution_count": 53
        }
      ]
    },
    {
      "cell_type": "code",
      "metadata": {
        "id": "rW62cmeca_Yg"
      },
      "source": [
        ""
      ],
      "execution_count": null,
      "outputs": []
    },
    {
      "cell_type": "markdown",
      "metadata": {
        "id": "c6jixwRj6s_v"
      },
      "source": [
        "### 2. Измените функцию потерь и метрику для этой задачи. Постройте 10-15 вариантов и сведите результаты их работы в таблицу Опишите, какого результата вы добились от нейросети? Что помогло вам улучшить ее точность?"
      ]
    },
    {
      "cell_type": "code",
      "metadata": {
        "colab": {
          "base_uri": "https://localhost:8080/",
          "height": 402
        },
        "id": "uyyO3QhX6zkl",
        "outputId": "9a139b36-1f0c-44bd-a1c7-e27a64f87175"
      },
      "source": [
        "results = []\r\n",
        "for opt in ['adam', 'RMSprop', 'Adamax']:\r\n",
        "  for n in [2, 8, 32, 64]:\r\n",
        "    for metrics in ['mean_absolute_error', 'mean_squared_error']:\r\n",
        "      for loss in ['mse', 'mae']:\r\n",
        "        for epoch in [1, 3, 5, 7]:\r\n",
        "          model_boston = Sequential([\r\n",
        "          Dense(n, activation='relu', input_shape=(13,)),\r\n",
        "          Dense(n/2, activation='relu'),\r\n",
        "          Dense(1, activation='linear')\r\n",
        "          ])\r\n",
        "\r\n",
        "          i = 0\r\n",
        "\r\n",
        "          result = {}\r\n",
        "\r\n",
        "          model_boston.compile(optimizer=opt,\r\n",
        "                        loss=loss,\r\n",
        "                        metrics=metrics)\r\n",
        "            \r\n",
        "          model_boston.fit(train_data, train_target, epoch,\r\n",
        "                        verbose = False)\r\n",
        "          predictions = model_boston.predict(test_data)\r\n",
        "\r\n",
        "          result['n'] = n\r\n",
        "          result['opt'] = opt\r\n",
        "          result['metrics'] = metrics\r\n",
        "          result['loss'] = loss\r\n",
        "          result['epoch'] = epoch\r\n",
        "          i += 1\r\n",
        "          result['r2'] = round(r2(test_target, predictions.copy().flatten()),5)\r\n",
        "          result['rmse'] = round(np.sqrt(mse(test_target, predictions.copy().flatten())),5)\r\n",
        "          result['mse'] = round(mse(test_target, predictions.copy().flatten()),5)\r\n",
        "          result['mae'] = round(mae(test_target, predictions.copy().flatten()),5)\r\n",
        "\r\n",
        "\r\n",
        "          results.append(result)\r\n",
        "\r\n",
        "result = pd.DataFrame(results)\r\n",
        "result"
      ],
      "execution_count": 56,
      "outputs": [
        {
          "output_type": "execute_result",
          "data": {
            "text/html": [
              "<div>\n",
              "<style scoped>\n",
              "    .dataframe tbody tr th:only-of-type {\n",
              "        vertical-align: middle;\n",
              "    }\n",
              "\n",
              "    .dataframe tbody tr th {\n",
              "        vertical-align: top;\n",
              "    }\n",
              "\n",
              "    .dataframe thead th {\n",
              "        text-align: right;\n",
              "    }\n",
              "</style>\n",
              "<table border=\"1\" class=\"dataframe\">\n",
              "  <thead>\n",
              "    <tr style=\"text-align: right;\">\n",
              "      <th></th>\n",
              "      <th>n</th>\n",
              "      <th>opt</th>\n",
              "      <th>metrics</th>\n",
              "      <th>loss</th>\n",
              "      <th>epoch</th>\n",
              "      <th>r2</th>\n",
              "      <th>rmse</th>\n",
              "      <th>mse</th>\n",
              "      <th>mae</th>\n",
              "    </tr>\n",
              "  </thead>\n",
              "  <tbody>\n",
              "    <tr>\n",
              "      <th>0</th>\n",
              "      <td>2</td>\n",
              "      <td>adam</td>\n",
              "      <td>mean_absolute_error</td>\n",
              "      <td>mse</td>\n",
              "      <td>1</td>\n",
              "      <td>-23.75023</td>\n",
              "      <td>45.28225</td>\n",
              "      <td>2050.48187</td>\n",
              "      <td>44.17309</td>\n",
              "    </tr>\n",
              "    <tr>\n",
              "      <th>1</th>\n",
              "      <td>2</td>\n",
              "      <td>adam</td>\n",
              "      <td>mean_absolute_error</td>\n",
              "      <td>mse</td>\n",
              "      <td>3</td>\n",
              "      <td>-495.96891</td>\n",
              "      <td>202.90979</td>\n",
              "      <td>41172.38089</td>\n",
              "      <td>127.19989</td>\n",
              "    </tr>\n",
              "    <tr>\n",
              "      <th>2</th>\n",
              "      <td>2</td>\n",
              "      <td>adam</td>\n",
              "      <td>mean_absolute_error</td>\n",
              "      <td>mse</td>\n",
              "      <td>5</td>\n",
              "      <td>-5.64822</td>\n",
              "      <td>23.46882</td>\n",
              "      <td>550.78540</td>\n",
              "      <td>21.63188</td>\n",
              "    </tr>\n",
              "    <tr>\n",
              "      <th>3</th>\n",
              "      <td>2</td>\n",
              "      <td>adam</td>\n",
              "      <td>mean_absolute_error</td>\n",
              "      <td>mse</td>\n",
              "      <td>7</td>\n",
              "      <td>-7.25018</td>\n",
              "      <td>26.14388</td>\n",
              "      <td>683.50256</td>\n",
              "      <td>24.91698</td>\n",
              "    </tr>\n",
              "    <tr>\n",
              "      <th>4</th>\n",
              "      <td>2</td>\n",
              "      <td>adam</td>\n",
              "      <td>mean_absolute_error</td>\n",
              "      <td>mae</td>\n",
              "      <td>1</td>\n",
              "      <td>-5.48074</td>\n",
              "      <td>23.17131</td>\n",
              "      <td>536.90969</td>\n",
              "      <td>21.30875</td>\n",
              "    </tr>\n",
              "    <tr>\n",
              "      <th>...</th>\n",
              "      <td>...</td>\n",
              "      <td>...</td>\n",
              "      <td>...</td>\n",
              "      <td>...</td>\n",
              "      <td>...</td>\n",
              "      <td>...</td>\n",
              "      <td>...</td>\n",
              "      <td>...</td>\n",
              "      <td>...</td>\n",
              "    </tr>\n",
              "    <tr>\n",
              "      <th>187</th>\n",
              "      <td>64</td>\n",
              "      <td>Adamax</td>\n",
              "      <td>mean_squared_error</td>\n",
              "      <td>mse</td>\n",
              "      <td>7</td>\n",
              "      <td>-0.39056</td>\n",
              "      <td>10.73330</td>\n",
              "      <td>115.20364</td>\n",
              "      <td>7.73615</td>\n",
              "    </tr>\n",
              "    <tr>\n",
              "      <th>188</th>\n",
              "      <td>64</td>\n",
              "      <td>Adamax</td>\n",
              "      <td>mean_squared_error</td>\n",
              "      <td>mae</td>\n",
              "      <td>1</td>\n",
              "      <td>-0.00059</td>\n",
              "      <td>9.10471</td>\n",
              "      <td>82.89578</td>\n",
              "      <td>7.18945</td>\n",
              "    </tr>\n",
              "    <tr>\n",
              "      <th>189</th>\n",
              "      <td>64</td>\n",
              "      <td>Adamax</td>\n",
              "      <td>mean_squared_error</td>\n",
              "      <td>mae</td>\n",
              "      <td>3</td>\n",
              "      <td>0.28858</td>\n",
              "      <td>7.67717</td>\n",
              "      <td>58.93888</td>\n",
              "      <td>6.29492</td>\n",
              "    </tr>\n",
              "    <tr>\n",
              "      <th>190</th>\n",
              "      <td>64</td>\n",
              "      <td>Adamax</td>\n",
              "      <td>mean_squared_error</td>\n",
              "      <td>mae</td>\n",
              "      <td>5</td>\n",
              "      <td>0.20443</td>\n",
              "      <td>8.11856</td>\n",
              "      <td>65.91099</td>\n",
              "      <td>6.17303</td>\n",
              "    </tr>\n",
              "    <tr>\n",
              "      <th>191</th>\n",
              "      <td>64</td>\n",
              "      <td>Adamax</td>\n",
              "      <td>mean_squared_error</td>\n",
              "      <td>mae</td>\n",
              "      <td>7</td>\n",
              "      <td>0.06706</td>\n",
              "      <td>8.79155</td>\n",
              "      <td>77.29139</td>\n",
              "      <td>6.97252</td>\n",
              "    </tr>\n",
              "  </tbody>\n",
              "</table>\n",
              "<p>192 rows × 9 columns</p>\n",
              "</div>"
            ],
            "text/plain": [
              "      n     opt              metrics  ...       rmse          mse        mae\n",
              "0     2    adam  mean_absolute_error  ...   45.28225   2050.48187   44.17309\n",
              "1     2    adam  mean_absolute_error  ...  202.90979  41172.38089  127.19989\n",
              "2     2    adam  mean_absolute_error  ...   23.46882    550.78540   21.63188\n",
              "3     2    adam  mean_absolute_error  ...   26.14388    683.50256   24.91698\n",
              "4     2    adam  mean_absolute_error  ...   23.17131    536.90969   21.30875\n",
              "..   ..     ...                  ...  ...        ...          ...        ...\n",
              "187  64  Adamax   mean_squared_error  ...   10.73330    115.20364    7.73615\n",
              "188  64  Adamax   mean_squared_error  ...    9.10471     82.89578    7.18945\n",
              "189  64  Adamax   mean_squared_error  ...    7.67717     58.93888    6.29492\n",
              "190  64  Adamax   mean_squared_error  ...    8.11856     65.91099    6.17303\n",
              "191  64  Adamax   mean_squared_error  ...    8.79155     77.29139    6.97252\n",
              "\n",
              "[192 rows x 9 columns]"
            ]
          },
          "metadata": {
            "tags": []
          },
          "execution_count": 56
        }
      ]
    },
    {
      "cell_type": "code",
      "metadata": {
        "colab": {
          "base_uri": "https://localhost:8080/",
          "height": 343
        },
        "id": "wrjLzBw7UXjq",
        "outputId": "8e2644fb-4b82-4232-f89d-9284e90ce40d"
      },
      "source": [
        "result.sort_values(by='r2', ascending=False).head(10)\r\n"
      ],
      "execution_count": 57,
      "outputs": [
        {
          "output_type": "execute_result",
          "data": {
            "text/html": [
              "<div>\n",
              "<style scoped>\n",
              "    .dataframe tbody tr th:only-of-type {\n",
              "        vertical-align: middle;\n",
              "    }\n",
              "\n",
              "    .dataframe tbody tr th {\n",
              "        vertical-align: top;\n",
              "    }\n",
              "\n",
              "    .dataframe thead th {\n",
              "        text-align: right;\n",
              "    }\n",
              "</style>\n",
              "<table border=\"1\" class=\"dataframe\">\n",
              "  <thead>\n",
              "    <tr style=\"text-align: right;\">\n",
              "      <th></th>\n",
              "      <th>n</th>\n",
              "      <th>opt</th>\n",
              "      <th>metrics</th>\n",
              "      <th>loss</th>\n",
              "      <th>epoch</th>\n",
              "      <th>r2</th>\n",
              "      <th>rmse</th>\n",
              "      <th>mse</th>\n",
              "      <th>mae</th>\n",
              "    </tr>\n",
              "  </thead>\n",
              "  <tbody>\n",
              "    <tr>\n",
              "      <th>169</th>\n",
              "      <td>32</td>\n",
              "      <td>Adamax</td>\n",
              "      <td>mean_squared_error</td>\n",
              "      <td>mse</td>\n",
              "      <td>3</td>\n",
              "      <td>0.46127</td>\n",
              "      <td>6.68070</td>\n",
              "      <td>44.63178</td>\n",
              "      <td>5.41003</td>\n",
              "    </tr>\n",
              "    <tr>\n",
              "      <th>48</th>\n",
              "      <td>64</td>\n",
              "      <td>adam</td>\n",
              "      <td>mean_absolute_error</td>\n",
              "      <td>mse</td>\n",
              "      <td>1</td>\n",
              "      <td>0.43456</td>\n",
              "      <td>6.84432</td>\n",
              "      <td>46.84475</td>\n",
              "      <td>5.21849</td>\n",
              "    </tr>\n",
              "    <tr>\n",
              "      <th>181</th>\n",
              "      <td>64</td>\n",
              "      <td>Adamax</td>\n",
              "      <td>mean_absolute_error</td>\n",
              "      <td>mae</td>\n",
              "      <td>3</td>\n",
              "      <td>0.42979</td>\n",
              "      <td>6.87316</td>\n",
              "      <td>47.24028</td>\n",
              "      <td>4.83865</td>\n",
              "    </tr>\n",
              "    <tr>\n",
              "      <th>164</th>\n",
              "      <td>32</td>\n",
              "      <td>Adamax</td>\n",
              "      <td>mean_absolute_error</td>\n",
              "      <td>mae</td>\n",
              "      <td>1</td>\n",
              "      <td>0.40743</td>\n",
              "      <td>7.00663</td>\n",
              "      <td>49.09289</td>\n",
              "      <td>5.29675</td>\n",
              "    </tr>\n",
              "    <tr>\n",
              "      <th>109</th>\n",
              "      <td>32</td>\n",
              "      <td>RMSprop</td>\n",
              "      <td>mean_squared_error</td>\n",
              "      <td>mae</td>\n",
              "      <td>3</td>\n",
              "      <td>0.39774</td>\n",
              "      <td>7.06364</td>\n",
              "      <td>49.89504</td>\n",
              "      <td>5.12122</td>\n",
              "    </tr>\n",
              "    <tr>\n",
              "      <th>34</th>\n",
              "      <td>32</td>\n",
              "      <td>adam</td>\n",
              "      <td>mean_absolute_error</td>\n",
              "      <td>mse</td>\n",
              "      <td>5</td>\n",
              "      <td>0.39593</td>\n",
              "      <td>7.07428</td>\n",
              "      <td>50.04538</td>\n",
              "      <td>5.39301</td>\n",
              "    </tr>\n",
              "    <tr>\n",
              "      <th>121</th>\n",
              "      <td>64</td>\n",
              "      <td>RMSprop</td>\n",
              "      <td>mean_squared_error</td>\n",
              "      <td>mse</td>\n",
              "      <td>3</td>\n",
              "      <td>0.37255</td>\n",
              "      <td>7.20987</td>\n",
              "      <td>51.98225</td>\n",
              "      <td>5.34835</td>\n",
              "    </tr>\n",
              "    <tr>\n",
              "      <th>32</th>\n",
              "      <td>32</td>\n",
              "      <td>adam</td>\n",
              "      <td>mean_absolute_error</td>\n",
              "      <td>mse</td>\n",
              "      <td>1</td>\n",
              "      <td>0.36083</td>\n",
              "      <td>7.27690</td>\n",
              "      <td>52.95325</td>\n",
              "      <td>5.54915</td>\n",
              "    </tr>\n",
              "    <tr>\n",
              "      <th>108</th>\n",
              "      <td>32</td>\n",
              "      <td>RMSprop</td>\n",
              "      <td>mean_squared_error</td>\n",
              "      <td>mae</td>\n",
              "      <td>1</td>\n",
              "      <td>0.35967</td>\n",
              "      <td>7.28348</td>\n",
              "      <td>53.04903</td>\n",
              "      <td>5.42718</td>\n",
              "    </tr>\n",
              "    <tr>\n",
              "      <th>101</th>\n",
              "      <td>32</td>\n",
              "      <td>RMSprop</td>\n",
              "      <td>mean_absolute_error</td>\n",
              "      <td>mae</td>\n",
              "      <td>3</td>\n",
              "      <td>0.35853</td>\n",
              "      <td>7.29000</td>\n",
              "      <td>53.14407</td>\n",
              "      <td>5.48522</td>\n",
              "    </tr>\n",
              "  </tbody>\n",
              "</table>\n",
              "</div>"
            ],
            "text/plain": [
              "      n      opt              metrics loss  ...       r2     rmse       mse      mae\n",
              "169  32   Adamax   mean_squared_error  mse  ...  0.46127  6.68070  44.63178  5.41003\n",
              "48   64     adam  mean_absolute_error  mse  ...  0.43456  6.84432  46.84475  5.21849\n",
              "181  64   Adamax  mean_absolute_error  mae  ...  0.42979  6.87316  47.24028  4.83865\n",
              "164  32   Adamax  mean_absolute_error  mae  ...  0.40743  7.00663  49.09289  5.29675\n",
              "109  32  RMSprop   mean_squared_error  mae  ...  0.39774  7.06364  49.89504  5.12122\n",
              "34   32     adam  mean_absolute_error  mse  ...  0.39593  7.07428  50.04538  5.39301\n",
              "121  64  RMSprop   mean_squared_error  mse  ...  0.37255  7.20987  51.98225  5.34835\n",
              "32   32     adam  mean_absolute_error  mse  ...  0.36083  7.27690  52.95325  5.54915\n",
              "108  32  RMSprop   mean_squared_error  mae  ...  0.35967  7.28348  53.04903  5.42718\n",
              "101  32  RMSprop  mean_absolute_error  mae  ...  0.35853  7.29000  53.14407  5.48522\n",
              "\n",
              "[10 rows x 9 columns]"
            ]
          },
          "metadata": {
            "tags": []
          },
          "execution_count": 57
        }
      ]
    },
    {
      "cell_type": "markdown",
      "metadata": {
        "id": "vGVG8WBoZzVE"
      },
      "source": [
        "Вывод: результат значительно вырос, но у изначальной модели он был ужасен... Лучшие результаты показали модели с 32 и 64 нейронами при 3 и 1 эпохе. Из оптимизаторов лучше всех показал себя Adamax"
      ]
    },
    {
      "cell_type": "code",
      "metadata": {
        "id": "FKaM8hz9bLLS"
      },
      "source": [
        ""
      ],
      "execution_count": null,
      "outputs": []
    }
  ]
}