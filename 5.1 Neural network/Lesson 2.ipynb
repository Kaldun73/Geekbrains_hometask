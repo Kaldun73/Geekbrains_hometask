{
 "cells": [
  {
   "cell_type": "code",
   "execution_count": 60,
   "metadata": {
    "id": "E4UUSC7RECkz"
   },
   "outputs": [],
   "source": [
    "import numpy as np\n",
    "import pandas as pd\n",
    "#import mnist\n",
    "from keras.models import Sequential\n",
    "from keras.layers import Dense\n",
    "from keras.utils import to_categorical\n",
    "from keras.datasets import fashion_mnist\n",
    "from keras.metrics import Recall, Precision\n",
    "\n",
    "import matplotlib.pyplot as plt"
   ]
  },
  {
   "cell_type": "code",
   "execution_count": 22,
   "metadata": {
    "id": "aHpIB_neD4jN"
   },
   "outputs": [],
   "source": [
    "(train_images,train_labels),(test_images,test_labels)=fashion_mnist.load_data()"
   ]
  },
  {
   "cell_type": "code",
   "execution_count": 23,
   "metadata": {
    "colab": {
     "base_uri": "https://localhost:8080/",
     "height": 265
    },
    "id": "-uHA2T5pD7Pw",
    "outputId": "44213e6c-d6aa-4f54-a236-005d0f32a8fd"
   },
   "outputs": [
    {
     "data": {
      "image/png": "[encoded data removed]",
      "text/plain": [
       "<Figure size 432x288 with 1 Axes>"
      ]
     },
     "metadata": {
      "needs_background": "light",
      "tags": []
     },
     "output_type": "display_data"
    }
   ],
   "source": [
    "plt.imshow(train_images[0,:,:])\n",
    "plt.show()"
   ]
  },
  {
   "cell_type": "code",
   "execution_count": 24,
   "metadata": {
    "id": "m7LUMbXyGqGl"
   },
   "outputs": [],
   "source": [
    "# Normalize the images.\n",
    "train_images = (train_images / 127) - 1\n",
    "test_images = (test_images / 127) - 1"
   ]
  },
  {
   "cell_type": "code",
   "execution_count": 25,
   "metadata": {
    "id": "co8dOlPlGrk2"
   },
   "outputs": [],
   "source": [
    "# Flatten the images.\n",
    "train_images = train_images.reshape((-1, 784))\n",
    "test_images = test_images.reshape((-1, 784))"
   ]
  },
  {
   "cell_type": "code",
   "execution_count": 26,
   "metadata": {
    "colab": {
     "base_uri": "https://localhost:8080/"
    },
    "id": "Wm1XrEJkEqiB",
    "outputId": "aa256ebc-e4cb-48dc-95df-5151aeb422e4"
   },
   "outputs": [
    {
     "data": {
      "text/plain": [
       "(60000, 784)"
      ]
     },
     "execution_count": 26,
     "metadata": {
      "tags": []
     },
     "output_type": "execute_result"
    }
   ],
   "source": [
    "train_images.shape"
   ]
  },
  {
   "cell_type": "code",
   "execution_count": 27,
   "metadata": {
    "id": "Le2tK1CJErr-"
   },
   "outputs": [],
   "source": [
    "model1 = Sequential(name='my_model')\n",
    "model1.add(Dense(128, activation='relu', input_shape=(784,)))\n",
    "\n",
    "model1.add(Dense(10, activation='softmax'))"
   ]
  },
  {
   "cell_type": "code",
   "execution_count": 28,
   "metadata": {
    "id": "0gY970SIEtgj"
   },
   "outputs": [],
   "source": [
    "model1.compile(\n",
    "  optimizer='adam',\n",
    "  loss='categorical_crossentropy',\n",
    "  metrics=['accuracy'],\n",
    ")"
   ]
  },
  {
   "cell_type": "code",
   "execution_count": 29,
   "metadata": {
    "colab": {
     "base_uri": "https://localhost:8080/"
    },
    "id": "fp9j9OimEw-K",
    "outputId": "76339481-2f50-440a-fb95-bd5d47d1010b"
   },
   "outputs": [
    {
     "name": "stdout",
     "output_type": "stream",
     "text": [
      "Model: \"my_model\"\n",
      "_________________________________________________________________\n",
      "Layer (type)                 Output Shape              Param #   \n",
      "=================================================================\n",
      "dense_8 (Dense)              (None, 128)               100480    \n",
      "_________________________________________________________________\n",
      "dense_9 (Dense)              (None, 10)                1290      \n",
      "=================================================================\n",
      "Total params: 101,770\n",
      "Trainable params: 101,770\n",
      "Non-trainable params: 0\n",
      "_________________________________________________________________\n"
     ]
    }
   ],
   "source": [
    "model1.summary()"
   ]
  },
  {
   "cell_type": "code",
   "execution_count": 30,
   "metadata": {
    "id": "kI1kr19HE02S"
   },
   "outputs": [],
   "source": [
    "\n",
    "# Build the model.\n",
    "model = Sequential([\n",
    "  Dense(64, activation='tanh', input_shape=(784,)),\n",
    "  Dense(64, activation='tanh'),\n",
    "  Dense(10, activation='softmax'),\n",
    "])\n",
    "\n",
    "# Compile the model.\n",
    "model.compile(\n",
    "  optimizer='adam',\n",
    "  loss='categorical_crossentropy',\n",
    "  metrics=['accuracy'],\n",
    ")"
   ]
  },
  {
   "cell_type": "code",
   "execution_count": 31,
   "metadata": {
    "colab": {
     "base_uri": "https://localhost:8080/"
    },
    "id": "0IeRJV9XE45J",
    "outputId": "c0244cdc-4876-4870-afac-d9730d683d29"
   },
   "outputs": [
    {
     "name": "stdout",
     "output_type": "stream",
     "text": [
      "Model: \"sequential_2\"\n",
      "_________________________________________________________________\n",
      "Layer (type)                 Output Shape              Param #   \n",
      "=================================================================\n",
      "dense_10 (Dense)             (None, 64)                50240     \n",
      "_________________________________________________________________\n",
      "dense_11 (Dense)             (None, 64)                4160      \n",
      "_________________________________________________________________\n",
      "dense_12 (Dense)             (None, 10)                650       \n",
      "=================================================================\n",
      "Total params: 55,050\n",
      "Trainable params: 55,050\n",
      "Non-trainable params: 0\n",
      "_________________________________________________________________\n"
     ]
    }
   ],
   "source": [
    "model.summary()"
   ]
  },
  {
   "cell_type": "code",
   "execution_count": 32,
   "metadata": {
    "id": "6q5Oz4mzE_n3"
   },
   "outputs": [],
   "source": [
    "y_t = to_categorical(train_labels)\n",
    "y_tt = to_categorical(test_labels)"
   ]
  },
  {
   "cell_type": "code",
   "execution_count": 33,
   "metadata": {
    "colab": {
     "base_uri": "https://localhost:8080/"
    },
    "id": "r_2_cv1tFCIB",
    "outputId": "592adb96-4aef-4831-bffe-c8f7b14e6c6b"
   },
   "outputs": [
    {
     "data": {
      "text/plain": [
       "array([[0., 0., 0., 0., 0., 0., 0., 0., 0., 1.],\n",
       "       [1., 0., 0., 0., 0., 0., 0., 0., 0., 0.],\n",
       "       [1., 0., 0., 0., 0., 0., 0., 0., 0., 0.]], dtype=float32)"
      ]
     },
     "execution_count": 33,
     "metadata": {
      "tags": []
     },
     "output_type": "execute_result"
    }
   ],
   "source": [
    "y_t[:3,:]"
   ]
  },
  {
   "cell_type": "code",
   "execution_count": 34,
   "metadata": {
    "colab": {
     "base_uri": "https://localhost:8080/"
    },
    "id": "g0qgoY3pFGHd",
    "outputId": "3eba7480-73d1-4fdb-85fe-a3d6c3f7f530"
   },
   "outputs": [
    {
     "name": "stdout",
     "output_type": "stream",
     "text": [
      "Epoch 1/5\n",
      "1500/1500 [==============================] - 5s 2ms/step - loss: 0.6485 - accuracy: 0.7735 - val_loss: 0.4526 - val_accuracy: 0.8322\n",
      "Epoch 2/5\n",
      "1500/1500 [==============================] - 3s 2ms/step - loss: 0.3949 - accuracy: 0.8574 - val_loss: 0.3910 - val_accuracy: 0.8613\n",
      "Epoch 3/5\n",
      "1500/1500 [==============================] - 3s 2ms/step - loss: 0.3748 - accuracy: 0.8649 - val_loss: 0.4019 - val_accuracy: 0.8536\n",
      "Epoch 4/5\n",
      "1500/1500 [==============================] - 3s 2ms/step - loss: 0.3455 - accuracy: 0.8729 - val_loss: 0.4226 - val_accuracy: 0.8454\n",
      "Epoch 5/5\n",
      "1500/1500 [==============================] - 3s 2ms/step - loss: 0.3236 - accuracy: 0.8808 - val_loss: 0.3955 - val_accuracy: 0.8560\n",
      "313/313 [==============================] - 1s 2ms/step - loss: 0.4151 - accuracy: 0.8490\n",
      "[9 2 1 1 6]\n",
      "[9 2 1 1 6]\n"
     ]
    }
   ],
   "source": [
    "# Train the model.\n",
    "model.fit(\n",
    "  train_images,\n",
    "  y_t,\n",
    "  epochs=5,\n",
    "  batch_size=32, validation_split=0.2\n",
    ")\n",
    "\n",
    "\n",
    "\n",
    "# Evaluate the model.\n",
    "model.evaluate(\n",
    "  test_images,\n",
    "  y_tt\n",
    ")\n",
    "\n",
    "# Predict on the first 5 test images.\n",
    "predictions = model.predict(test_images[:5])\n",
    "\n",
    "# Print our model's predictions.\n",
    "print(np.argmax(predictions, axis=1)) # [9 2 1 1 6]\n",
    "\n",
    "# Check our predictions against the ground truths.\n",
    "print(test_labels[:5]) # [9 2 1 1 6]"
   ]
  },
  {
   "cell_type": "code",
   "execution_count": null,
   "metadata": {
    "id": "Ss9q9XMGLTEm"
   },
   "outputs": [],
   "source": []
  },
  {
   "cell_type": "markdown",
   "metadata": {
    "id": "XeI1kaT-OZww"
   },
   "source": [
    "## 1. Опишите - какой результата получен в нейросети в зависимости от:\n",
    "\n",
    "### 1.1. числа нейронов в слое(для 2-хслойной сети),"
   ]
  },
  {
   "cell_type": "code",
   "execution_count": 39,
   "metadata": {
    "colab": {
     "base_uri": "https://localhost:8080/"
    },
    "id": "r-fqR3LDLS2T",
    "outputId": "670e0a03-2619-421d-9bf1-d6f027d737c0"
   },
   "outputs": [
    {
     "name": "stdout",
     "output_type": "stream",
     "text": [
      "Epoch 1/5\n",
      "1500/1500 [==============================] - 4s 2ms/step - loss: 1.9859 - accuracy: 0.1984 - val_loss: 1.6935 - val_accuracy: 0.2877\n",
      "Epoch 2/5\n",
      "1500/1500 [==============================] - 3s 2ms/step - loss: 1.6599 - accuracy: 0.2994 - val_loss: 1.5933 - val_accuracy: 0.3298\n",
      "Epoch 3/5\n",
      "1500/1500 [==============================] - 3s 2ms/step - loss: 1.5795 - accuracy: 0.3446 - val_loss: 1.5445 - val_accuracy: 0.3621\n",
      "Epoch 4/5\n",
      "1500/1500 [==============================] - 3s 2ms/step - loss: 1.5328 - accuracy: 0.3581 - val_loss: 1.5152 - val_accuracy: 0.3543\n",
      "Epoch 5/5\n",
      "1500/1500 [==============================] - 3s 2ms/step - loss: 1.5043 - accuracy: 0.3581 - val_loss: 1.4942 - val_accuracy: 0.3694\n",
      "1875/1875 [==============================] - 3s 2ms/step - loss: 1.4880 - accuracy: 0.3740\n",
      "313/313 [==============================] - 1s 2ms/step - loss: 1.4940 - accuracy: 0.3707\n",
      "1 neurons accuracy:\n",
      "\tTrain: 0.37404999136924744\n",
      "\tTest: 0.37070000171661377\n",
      "Epoch 1/5\n",
      "1500/1500 [==============================] - 4s 2ms/step - loss: 1.9611 - accuracy: 0.2541 - val_loss: 1.3778 - val_accuracy: 0.4762\n",
      "Epoch 2/5\n",
      "1500/1500 [==============================] - 3s 2ms/step - loss: 1.2814 - accuracy: 0.5249 - val_loss: 1.0574 - val_accuracy: 0.6133\n",
      "Epoch 3/5\n",
      "1500/1500 [==============================] - 3s 2ms/step - loss: 1.0086 - accuracy: 0.6313 - val_loss: 0.9216 - val_accuracy: 0.6572\n",
      "Epoch 4/5\n",
      "1500/1500 [==============================] - 3s 2ms/step - loss: 0.9027 - accuracy: 0.6765 - val_loss: 0.8839 - val_accuracy: 0.6846\n",
      "Epoch 5/5\n",
      "1500/1500 [==============================] - 3s 2ms/step - loss: 0.8541 - accuracy: 0.6928 - val_loss: 0.8590 - val_accuracy: 0.6908\n",
      "1875/1875 [==============================] - 3s 2ms/step - loss: 0.8439 - accuracy: 0.6974\n",
      "313/313 [==============================] - 1s 2ms/step - loss: 0.8640 - accuracy: 0.6925\n",
      "2 neurons accuracy:\n",
      "\tTrain: 0.697433352470398\n",
      "\tTest: 0.6924999952316284\n",
      "Epoch 1/5\n",
      "1500/1500 [==============================] - 4s 2ms/step - loss: 1.3706 - accuracy: 0.4959 - val_loss: 0.6528 - val_accuracy: 0.7588\n",
      "Epoch 2/5\n",
      "1500/1500 [==============================] - 3s 2ms/step - loss: 0.6229 - accuracy: 0.7719 - val_loss: 0.5827 - val_accuracy: 0.7887\n",
      "Epoch 3/5\n",
      "1500/1500 [==============================] - 3s 2ms/step - loss: 0.5700 - accuracy: 0.7958 - val_loss: 0.5745 - val_accuracy: 0.7974\n",
      "Epoch 4/5\n",
      "1500/1500 [==============================] - 3s 2ms/step - loss: 0.5516 - accuracy: 0.8054 - val_loss: 0.5448 - val_accuracy: 0.8061\n",
      "Epoch 5/5\n",
      "1500/1500 [==============================] - 3s 2ms/step - loss: 0.5297 - accuracy: 0.8138 - val_loss: 0.5425 - val_accuracy: 0.8032\n",
      "1875/1875 [==============================] - 3s 2ms/step - loss: 0.5211 - accuracy: 0.8144\n",
      "313/313 [==============================] - 1s 2ms/step - loss: 0.5561 - accuracy: 0.8044\n",
      "4 neurons accuracy:\n",
      "\tTrain: 0.8144166469573975\n",
      "\tTest: 0.8044000267982483\n",
      "Epoch 1/5\n",
      "1500/1500 [==============================] - 4s 2ms/step - loss: 0.9860 - accuracy: 0.6444 - val_loss: 0.5560 - val_accuracy: 0.8017\n",
      "Epoch 2/5\n",
      "1500/1500 [==============================] - 3s 2ms/step - loss: 0.5143 - accuracy: 0.8187 - val_loss: 0.4940 - val_accuracy: 0.8236\n",
      "Epoch 3/5\n",
      "1500/1500 [==============================] - 3s 2ms/step - loss: 0.4733 - accuracy: 0.8328 - val_loss: 0.4675 - val_accuracy: 0.8355\n",
      "Epoch 4/5\n",
      "1500/1500 [==============================] - 3s 2ms/step - loss: 0.4626 - accuracy: 0.8368 - val_loss: 0.4861 - val_accuracy: 0.8280\n",
      "Epoch 5/5\n",
      "1500/1500 [==============================] - 3s 2ms/step - loss: 0.4470 - accuracy: 0.8427 - val_loss: 0.4623 - val_accuracy: 0.8348\n",
      "1875/1875 [==============================] - 3s 2ms/step - loss: 0.4424 - accuracy: 0.8429\n",
      "313/313 [==============================] - 1s 2ms/step - loss: 0.4873 - accuracy: 0.8261\n",
      "8 neurons accuracy:\n",
      "\tTrain: 0.8428666591644287\n",
      "\tTest: 0.8260999917984009\n",
      "Epoch 1/5\n",
      "1500/1500 [==============================] - 4s 2ms/step - loss: 0.7767 - accuracy: 0.7259 - val_loss: 0.4662 - val_accuracy: 0.8325\n",
      "Epoch 2/5\n",
      "1500/1500 [==============================] - 3s 2ms/step - loss: 0.4452 - accuracy: 0.8420 - val_loss: 0.4303 - val_accuracy: 0.8481\n",
      "Epoch 3/5\n",
      "1500/1500 [==============================] - 3s 2ms/step - loss: 0.4198 - accuracy: 0.8521 - val_loss: 0.4183 - val_accuracy: 0.8471\n",
      "Epoch 4/5\n",
      "1500/1500 [==============================] - 3s 2ms/step - loss: 0.3921 - accuracy: 0.8583 - val_loss: 0.4187 - val_accuracy: 0.8508\n",
      "Epoch 5/5\n",
      "1500/1500 [==============================] - 3s 2ms/step - loss: 0.3768 - accuracy: 0.8633 - val_loss: 0.4119 - val_accuracy: 0.8459\n",
      "1875/1875 [==============================] - 3s 2ms/step - loss: 0.3801 - accuracy: 0.8598\n",
      "313/313 [==============================] - 1s 2ms/step - loss: 0.4357 - accuracy: 0.8405\n",
      "16 neurons accuracy:\n",
      "\tTrain: 0.8598166704177856\n",
      "\tTest: 0.840499997138977\n",
      "Epoch 1/5\n",
      "1500/1500 [==============================] - 4s 2ms/step - loss: 0.6866 - accuracy: 0.7569 - val_loss: 0.4523 - val_accuracy: 0.8402\n",
      "Epoch 2/5\n",
      "1500/1500 [==============================] - 3s 2ms/step - loss: 0.4271 - accuracy: 0.8467 - val_loss: 0.4144 - val_accuracy: 0.8531\n",
      "Epoch 3/5\n",
      "1500/1500 [==============================] - 3s 2ms/step - loss: 0.3863 - accuracy: 0.8618 - val_loss: 0.4421 - val_accuracy: 0.8332\n",
      "Epoch 4/5\n",
      "1500/1500 [==============================] - 3s 2ms/step - loss: 0.3619 - accuracy: 0.8663 - val_loss: 0.3974 - val_accuracy: 0.8568\n",
      "Epoch 5/5\n",
      "1500/1500 [==============================] - 3s 2ms/step - loss: 0.3505 - accuracy: 0.8715 - val_loss: 0.3756 - val_accuracy: 0.8645\n",
      "1875/1875 [==============================] - 3s 2ms/step - loss: 0.3353 - accuracy: 0.8773\n",
      "313/313 [==============================] - 1s 2ms/step - loss: 0.4077 - accuracy: 0.8560\n",
      "32 neurons accuracy:\n",
      "\tTrain: 0.8773333430290222\n",
      "\tTest: 0.8560000061988831\n",
      "Epoch 1/5\n",
      "1500/1500 [==============================] - 4s 2ms/step - loss: 0.6434 - accuracy: 0.7706 - val_loss: 0.4227 - val_accuracy: 0.8487\n",
      "Epoch 2/5\n",
      "1500/1500 [==============================] - 3s 2ms/step - loss: 0.4066 - accuracy: 0.8552 - val_loss: 0.3834 - val_accuracy: 0.8603\n",
      "Epoch 3/5\n",
      "1500/1500 [==============================] - 3s 2ms/step - loss: 0.3604 - accuracy: 0.8662 - val_loss: 0.4024 - val_accuracy: 0.8538\n",
      "Epoch 4/5\n",
      "1500/1500 [==============================] - 3s 2ms/step - loss: 0.3409 - accuracy: 0.8738 - val_loss: 0.3867 - val_accuracy: 0.8593\n",
      "Epoch 5/5\n",
      "1500/1500 [==============================] - 3s 2ms/step - loss: 0.3189 - accuracy: 0.8826 - val_loss: 0.3420 - val_accuracy: 0.8758\n",
      "1875/1875 [==============================] - 3s 2ms/step - loss: 0.2952 - accuracy: 0.8923\n",
      "313/313 [==============================] - 1s 2ms/step - loss: 0.3692 - accuracy: 0.8672\n",
      "64 neurons accuracy:\n",
      "\tTrain: 0.8922833204269409\n",
      "\tTest: 0.8672000169754028\n",
      "Epoch 1/5\n",
      "1500/1500 [==============================] - 4s 2ms/step - loss: 0.6134 - accuracy: 0.7784 - val_loss: 0.4140 - val_accuracy: 0.8475\n",
      "Epoch 2/5\n",
      "1500/1500 [==============================] - 3s 2ms/step - loss: 0.3848 - accuracy: 0.8584 - val_loss: 0.3975 - val_accuracy: 0.8582\n",
      "Epoch 3/5\n",
      "1500/1500 [==============================] - 3s 2ms/step - loss: 0.3522 - accuracy: 0.8695 - val_loss: 0.3608 - val_accuracy: 0.8668\n",
      "Epoch 4/5\n",
      "1500/1500 [==============================] - 3s 2ms/step - loss: 0.3169 - accuracy: 0.8850 - val_loss: 0.3403 - val_accuracy: 0.8773\n",
      "Epoch 5/5\n",
      "1500/1500 [==============================] - 3s 2ms/step - loss: 0.2970 - accuracy: 0.8894 - val_loss: 0.3619 - val_accuracy: 0.8679\n",
      "1875/1875 [==============================] - 3s 2ms/step - loss: 0.3068 - accuracy: 0.8861\n",
      "313/313 [==============================] - 1s 2ms/step - loss: 0.3933 - accuracy: 0.8603\n",
      "128 neurons accuracy:\n",
      "\tTrain: 0.8860833048820496\n",
      "\tTest: 0.8603000044822693\n",
      "Epoch 1/5\n",
      "1500/1500 [==============================] - 4s 2ms/step - loss: 0.5914 - accuracy: 0.7865 - val_loss: 0.4150 - val_accuracy: 0.8456\n",
      "Epoch 2/5\n",
      "1500/1500 [==============================] - 3s 2ms/step - loss: 0.3852 - accuracy: 0.8578 - val_loss: 0.3775 - val_accuracy: 0.8603\n",
      "Epoch 3/5\n",
      "1500/1500 [==============================] - 3s 2ms/step - loss: 0.3425 - accuracy: 0.8713 - val_loss: 0.3655 - val_accuracy: 0.8705\n",
      "Epoch 4/5\n",
      "1500/1500 [==============================] - 3s 2ms/step - loss: 0.3071 - accuracy: 0.8851 - val_loss: 0.3701 - val_accuracy: 0.8656\n",
      "Epoch 5/5\n",
      "1500/1500 [==============================] - 3s 2ms/step - loss: 0.2947 - accuracy: 0.8910 - val_loss: 0.3433 - val_accuracy: 0.8789\n",
      "1875/1875 [==============================] - 3s 2ms/step - loss: 0.2820 - accuracy: 0.8968\n",
      "313/313 [==============================] - 1s 2ms/step - loss: 0.3621 - accuracy: 0.8728\n",
      "256 neurons accuracy:\n",
      "\tTrain: 0.8968166708946228\n",
      "\tTest: 0.8727999925613403\n"
     ]
    }
   ],
   "source": [
    "for i in (1, 2, 4, 8, 16, 32, 64, 128, 256):\n",
    "\n",
    "  # build\n",
    "  model_2l = Sequential([\n",
    "      Dense(i, activation='relu', input_shape=(784,)),\n",
    "      Dense(10, activation='softmax')\n",
    "  ])\n",
    "\n",
    "  # compile\n",
    "  model_2l.compile(\n",
    "      optimizer='adam',\n",
    "      loss='categorical_crossentropy',\n",
    "      metrics=['accuracy']\n",
    "  )\n",
    "\n",
    "\n",
    "\n",
    "  # fitting\n",
    "  model_2l.fit(\n",
    "      train_images,\n",
    "      to_categorical(train_labels),\n",
    "      epochs=5,\n",
    "      batch_size=32, \n",
    "      validation_split=0.2\n",
    "  )\n",
    "\n",
    "  result_train = model_2l.evaluate(train_images, to_categorical(train_labels))\n",
    "  result_test = model_2l.evaluate(test_images, to_categorical(test_labels))\n",
    "\n",
    "  print(f\"{i} neurons accuracy:\")\n",
    "  print(f\"\\tTrain: {result_train[1]}\")\n",
    "  print(f\"\\tTest: {result_test[1]}\")"
   ]
  },
  {
   "cell_type": "markdown",
   "metadata": {
    "id": "idQkyXp6OPNp"
   },
   "source": [
    "Вывод:\n",
    " - При увеличении числа нейронов качество повышается. При этом, растет разница между результатом на тесте и трейне, что означает, что понемногу модель переобучается. \n",
    " - Максимальный результат получился при 256 нейронах. При этом, 128 заметно хуже, чем 64. \n",
    " \n",
    "\n"
   ]
  },
  {
   "cell_type": "markdown",
   "metadata": {
    "id": "zhcMaeATQT6N"
   },
   "source": [
    "### 1.2. числа слоев (2, 3, 5, 10) при близких размерах сети (близкое число тренируемых парметров).\n"
   ]
  },
  {
   "cell_type": "markdown",
   "metadata": {
    "id": "KFXI80wuQZRE"
   },
   "source": [
    "Возьмем лучшую модель 256 нейронов. "
   ]
  },
  {
   "cell_type": "code",
   "execution_count": 40,
   "metadata": {
    "id": "ib8yksldP20q"
   },
   "outputs": [],
   "source": [
    "model_2l = Sequential([\n",
    "      Dense(256, activation='relu', input_shape=(784,)), \n",
    "      Dense(units=10, activation='softmax')\n",
    "  ])\n",
    "\n",
    "model_3l = Sequential([\n",
    "      Dense(256, activation='relu', input_shape=(784,)),\n",
    "      Dense(256, activation='relu', input_shape=(784,)),\n",
    "      Dense(units=10, activation='softmax')\n",
    "  ]) \n",
    "\n",
    "model_5l = Sequential([\n",
    "      Dense(256, activation='relu', input_shape=(784,)),\n",
    "      Dense(256, activation='relu', input_shape=(784,)),\n",
    "      Dense(256, activation='relu', input_shape=(784,)),\n",
    "      Dense(256, activation='relu', input_shape=(784,)),\n",
    "      Dense(units=10, activation='softmax')\n",
    "  ]) \n",
    "\n",
    "model_10l = Sequential([\n",
    "      Dense(256, activation='relu', input_shape=(784,)),\n",
    "      Dense(256, activation='relu', input_shape=(784,)),\n",
    "      Dense(256, activation='relu', input_shape=(784,)),\n",
    "      Dense(256, activation='relu', input_shape=(784,)),\n",
    "      Dense(256, activation='relu', input_shape=(784,)),\n",
    "      Dense(256, activation='relu', input_shape=(784,)),\n",
    "      Dense(256, activation='relu', input_shape=(784,)),\n",
    "      Dense(256, activation='relu', input_shape=(784,)),\n",
    "      Dense(256, activation='relu', input_shape=(784,)),\n",
    "      Dense(units=10, activation='softmax')\n",
    "\n",
    "  ]) "
   ]
  },
  {
   "cell_type": "code",
   "execution_count": 42,
   "metadata": {
    "colab": {
     "base_uri": "https://localhost:8080/"
    },
    "id": "ch-tZPAERIKi",
    "outputId": "7687341d-addc-4d39-8960-9589ff569287"
   },
   "outputs": [
    {
     "name": "stdout",
     "output_type": "stream",
     "text": [
      "Epoch 1/5\n",
      "1500/1500 [==============================] - 4s 2ms/step - loss: 0.2868 - accuracy: 0.8936 - val_loss: 0.3344 - val_accuracy: 0.8800\n",
      "Epoch 2/5\n",
      "1500/1500 [==============================] - 3s 2ms/step - loss: 0.2684 - accuracy: 0.8993 - val_loss: 0.3526 - val_accuracy: 0.8789\n",
      "Epoch 3/5\n",
      "1500/1500 [==============================] - 3s 2ms/step - loss: 0.2540 - accuracy: 0.9041 - val_loss: 0.3282 - val_accuracy: 0.8852\n",
      "Epoch 4/5\n",
      "1500/1500 [==============================] - 3s 2ms/step - loss: 0.2412 - accuracy: 0.9109 - val_loss: 0.3360 - val_accuracy: 0.8873\n",
      "Epoch 5/5\n",
      "1500/1500 [==============================] - 3s 2ms/step - loss: 0.2314 - accuracy: 0.9140 - val_loss: 0.3328 - val_accuracy: 0.8848\n",
      "1875/1875 [==============================] - 3s 2ms/step - loss: 0.2275 - accuracy: 0.9172\n",
      "313/313 [==============================] - 1s 2ms/step - loss: 0.3611 - accuracy: 0.8798\n",
      "<tensorflow.python.keras.engine.sequential.Sequential object at 0x7f9c38427f60>, accuracy:\n",
      "\tTrain: 0.9172499775886536\n",
      "\tTest: 0.879800021648407\n",
      "Epoch 1/5\n",
      "1500/1500 [==============================] - 4s 2ms/step - loss: 0.6125 - accuracy: 0.7769 - val_loss: 0.4712 - val_accuracy: 0.8332\n",
      "Epoch 2/5\n",
      "1500/1500 [==============================] - 3s 2ms/step - loss: 0.3883 - accuracy: 0.8561 - val_loss: 0.3762 - val_accuracy: 0.8604\n",
      "Epoch 3/5\n",
      "1500/1500 [==============================] - 3s 2ms/step - loss: 0.3431 - accuracy: 0.8725 - val_loss: 0.3582 - val_accuracy: 0.8694\n",
      "Epoch 4/5\n",
      "1500/1500 [==============================] - 3s 2ms/step - loss: 0.3054 - accuracy: 0.8860 - val_loss: 0.3544 - val_accuracy: 0.8708\n",
      "Epoch 5/5\n",
      "1500/1500 [==============================] - 3s 2ms/step - loss: 0.2907 - accuracy: 0.8904 - val_loss: 0.3446 - val_accuracy: 0.8783\n",
      "1875/1875 [==============================] - 3s 2ms/step - loss: 0.2775 - accuracy: 0.8986\n",
      "313/313 [==============================] - 1s 2ms/step - loss: 0.3720 - accuracy: 0.8724\n",
      "<tensorflow.python.keras.engine.sequential.Sequential object at 0x7f9c38427eb8>, accuracy:\n",
      "\tTrain: 0.8985666632652283\n",
      "\tTest: 0.8723999857902527\n",
      "Epoch 1/5\n",
      "1500/1500 [==============================] - 4s 3ms/step - loss: 0.6197 - accuracy: 0.7721 - val_loss: 0.4204 - val_accuracy: 0.8497\n",
      "Epoch 2/5\n",
      "1500/1500 [==============================] - 4s 2ms/step - loss: 0.3960 - accuracy: 0.8571 - val_loss: 0.3995 - val_accuracy: 0.8558\n",
      "Epoch 3/5\n",
      "1500/1500 [==============================] - 4s 3ms/step - loss: 0.3528 - accuracy: 0.8726 - val_loss: 0.3658 - val_accuracy: 0.8676\n",
      "Epoch 4/5\n",
      "1500/1500 [==============================] - 4s 2ms/step - loss: 0.3191 - accuracy: 0.8815 - val_loss: 0.3727 - val_accuracy: 0.8683\n",
      "Epoch 5/5\n",
      "1500/1500 [==============================] - 4s 3ms/step - loss: 0.3045 - accuracy: 0.8872 - val_loss: 0.3409 - val_accuracy: 0.8783\n",
      "1875/1875 [==============================] - 3s 2ms/step - loss: 0.2875 - accuracy: 0.8919\n",
      "313/313 [==============================] - 1s 2ms/step - loss: 0.3704 - accuracy: 0.8662\n",
      "<tensorflow.python.keras.engine.sequential.Sequential object at 0x7f9c3842f748>, accuracy:\n",
      "\tTrain: 0.8918833136558533\n",
      "\tTest: 0.8661999702453613\n",
      "Epoch 1/5\n",
      "1500/1500 [==============================] - 5s 3ms/step - loss: 0.7832 - accuracy: 0.7134 - val_loss: 0.5074 - val_accuracy: 0.8348\n",
      "Epoch 2/5\n",
      "1500/1500 [==============================] - 4s 3ms/step - loss: 0.4747 - accuracy: 0.8362 - val_loss: 0.4654 - val_accuracy: 0.8399\n",
      "Epoch 3/5\n",
      "1500/1500 [==============================] - 4s 3ms/step - loss: 0.4221 - accuracy: 0.8530 - val_loss: 0.4178 - val_accuracy: 0.8533\n",
      "Epoch 4/5\n",
      "1500/1500 [==============================] - 4s 3ms/step - loss: 0.3943 - accuracy: 0.8611 - val_loss: 0.3943 - val_accuracy: 0.8648\n",
      "Epoch 5/5\n",
      "1500/1500 [==============================] - 4s 3ms/step - loss: 0.3613 - accuracy: 0.8744 - val_loss: 0.4843 - val_accuracy: 0.8377\n",
      "1875/1875 [==============================] - 3s 2ms/step - loss: 0.4369 - accuracy: 0.8493\n",
      "313/313 [==============================] - 1s 2ms/step - loss: 0.4951 - accuracy: 0.8335\n",
      "<tensorflow.python.keras.engine.sequential.Sequential object at 0x7f9c3842f7f0>, accuracy:\n",
      "\tTrain: 0.8492500185966492\n",
      "\tTest: 0.8335000276565552\n"
     ]
    }
   ],
   "source": [
    "# Models\n",
    "for model in (model_2l, model_3l, model_5l, model_10l):\n",
    "\n",
    "  # compile\n",
    "  model.compile(\n",
    "      optimizer='adam',\n",
    "      loss='categorical_crossentropy',\n",
    "      metrics=['accuracy']\n",
    "  )\n",
    "\n",
    "\n",
    "  # fitting\n",
    "  model.fit(\n",
    "      train_images,\n",
    "      to_categorical(train_labels),\n",
    "      epochs=5,\n",
    "      batch_size=32, \n",
    "      validation_split=0.2\n",
    "  )\n",
    "\n",
    "  result_train = model.evaluate(train_images, to_categorical(train_labels))\n",
    "  result_test = model.evaluate(test_images, to_categorical(test_labels))\n",
    "\n",
    "  print(f\"{model}, accuracy:\")\n",
    "  print(f\"\\tTrain: {result_train[1]}\")\n",
    "  print(f\"\\tTest: {result_test[1]}\")"
   ]
  },
  {
   "cell_type": "markdown",
   "metadata": {
    "id": "ltOzJ3K8TG9q"
   },
   "source": [
    "Вывод:\n",
    "- при заданных условиях 256 нейронов лучший резльтат показала сеть с 2 слоями (причем, лучше, чем в прошлый раз). Дальнейшее увеличение количества слоев (важно - с одинаковым количеством нейронов) ухудшает результат. "
   ]
  },
  {
   "cell_type": "markdown",
   "metadata": {
    "id": "XGlcCZyWUD68"
   },
   "source": [
    "### 2. Проверьте работу разных оптимизаторов (SGD, Adam, RMSProp) для одной из моделей п.1.Фиксируйте для тренировочного и тестового набора метрики accuracy."
   ]
  },
  {
   "cell_type": "code",
   "execution_count": 45,
   "metadata": {
    "colab": {
     "base_uri": "https://localhost:8080/"
    },
    "id": "z9DnOJ71TIaR",
    "outputId": "d8010558-f256-4419-b986-e48982623d2c"
   },
   "outputs": [
    {
     "name": "stdout",
     "output_type": "stream",
     "text": [
      "1875/1875 [==============================] - 3s 2ms/step - loss: 0.3516 - accuracy: 0.8759\n",
      "313/313 [==============================] - 1s 2ms/step - loss: 0.4053 - accuracy: 0.8581\n",
      "SGD accuracy:\n",
      "\tTrain: 0.8759166598320007\n",
      "\tTest: 0.8580999970436096\n",
      "1875/1875 [==============================] - 3s 2ms/step - loss: 0.2916 - accuracy: 0.8921\n",
      "313/313 [==============================] - 1s 2ms/step - loss: 0.3791 - accuracy: 0.8640\n",
      "Adam accuracy:\n",
      "\tTrain: 0.892133355140686\n",
      "\tTest: 0.8640000224113464\n",
      "1875/1875 [==============================] - 3s 2ms/step - loss: 0.2838 - accuracy: 0.9025\n",
      "313/313 [==============================] - 1s 2ms/step - loss: 0.3973 - accuracy: 0.8734\n",
      "RMSProp accuracy:\n",
      "\tTrain: 0.9025499820709229\n",
      "\tTest: 0.8733999729156494\n"
     ]
    }
   ],
   "source": [
    " optimizers = ['SGD', 'Adam', 'RMSProp']\n",
    " \n",
    "for optim in optimizers: \n",
    "  model_2l = Sequential([\n",
    "      Dense(256, activation='relu', input_shape=(784,)),\n",
    "      Dense(10, activation='softmax')\n",
    "  ])\n",
    "\n",
    "  # compile\n",
    "  model_2l.compile(\n",
    "      optimizer=optim,\n",
    "      loss='categorical_crossentropy',\n",
    "      metrics=['accuracy']\n",
    "  )\n",
    "\n",
    "\n",
    "\n",
    "  # fitting\n",
    "  model_2l.fit(\n",
    "      train_images,\n",
    "      to_categorical(train_labels),\n",
    "      epochs=5,\n",
    "      batch_size=32, \n",
    "      validation_split=0.2,\n",
    "      verbose=0\n",
    "  )\n",
    "\n",
    "  result_train = model_2l.evaluate(train_images, to_categorical(train_labels))\n",
    "  result_test = model_2l.evaluate(test_images, to_categorical(test_labels))\n",
    "\n",
    "  print(f\"{optim} accuracy:\")\n",
    "  print(f\"\\tTrain: {result_train[1]}\")\n",
    "  print(f\"\\tTest: {result_test[1]}\")"
   ]
  },
  {
   "cell_type": "markdown",
   "metadata": {
    "id": "qBXzw_K5Vm67"
   },
   "source": [
    "Вывод:\n",
    "- лучший результат у RMSProp\n",
    "- качество у Adam хуже, чем в предыдущих тестах"
   ]
  },
  {
   "cell_type": "markdown",
   "metadata": {
    "id": "iMWxzfdBV3NM"
   },
   "source": [
    "### 3. Сделайте вывод - что помогло вам улучшить качество классификации в нейросети на тестовом наборе?"
   ]
  },
  {
   "cell_type": "markdown",
   "metadata": {
    "id": "3uWbJrhHV9J6"
   },
   "source": [
    "На качество влияет подбор оптимального количества слоев и нейронов, а также подбор оптимизатора. При этом, улучшение результата в одном эксперименте не означает такой же результат при этих условиях в другом эксперименте"
   ]
  },
  {
   "cell_type": "markdown",
   "metadata": {
    "id": "KKRutM0KWz4W"
   },
   "source": [
    "### 4. Для одного варианта сетей сформируйте матрицу ошибок по классам. Оцените качество модели по каждому классу отдельно (полнота , точность)"
   ]
  },
  {
   "cell_type": "code",
   "execution_count": 53,
   "metadata": {
    "colab": {
     "base_uri": "https://localhost:8080/"
    },
    "id": "dls-zMEuV8TW",
    "outputId": "cbf6404a-f492-4937-f233-1f2ceb40449e"
   },
   "outputs": [
    {
     "name": "stdout",
     "output_type": "stream",
     "text": [
      "1875/1875 [==============================] - 3s 2ms/step - loss: 0.2827 - accuracy: 0.8961\n",
      "313/313 [==============================] - 1s 2ms/step - loss: 0.3663 - accuracy: 0.8738\n",
      "accuracy:\n",
      "\tTrain: 0.8960833549499512\n",
      "\tTest: 0.8737999796867371\n"
     ]
    }
   ],
   "source": [
    "model_2l = Sequential([\n",
    "      Dense(256, activation='relu', input_shape=(784,)), \n",
    "      Dense(10, activation='softmax')\n",
    "  ])\n",
    "\n",
    "# compile\n",
    "model_2l.compile(\n",
    "      optimizer='adam',\n",
    "      loss='categorical_crossentropy',\n",
    "      metrics=['accuracy']\n",
    "  )\n",
    "\n",
    "\n",
    "  # fitting\n",
    "model_2l.fit(\n",
    "      train_images,\n",
    "      to_categorical(train_labels),\n",
    "      epochs=5,\n",
    "      batch_size=32, \n",
    "      validation_split=0.2,\n",
    "      verbose=0\n",
    "  )\n",
    "\n",
    "result_train = model_2l.evaluate(train_images, to_categorical(train_labels))\n",
    "result_test = model_2l.evaluate(test_images, to_categorical(test_labels))\n",
    "\n",
    "print(f\"accuracy:\")\n",
    "print(f\"\\tTrain: {result_train[1]}\")\n",
    "print(f\"\\tTest: {result_test[1]}\")"
   ]
  },
  {
   "cell_type": "code",
   "execution_count": 56,
   "metadata": {
    "colab": {
     "base_uri": "https://localhost:8080/"
    },
    "id": "N2_GLdWCaaHr",
    "outputId": "2463923c-9d54-4e49-8d6f-bf20416d8d68"
   },
   "outputs": [
    {
     "name": "stdout",
     "output_type": "stream",
     "text": [
      "[9 2 1 1 6]\n",
      "[9 2 1 1 6]\n"
     ]
    }
   ],
   "source": [
    "predictions = model_2l.predict(test_images)\n",
    "\n",
    "# Print our model's predictions.\n",
    "test_labels_predict = np.argmax(predictions, axis=1)\n",
    "\n",
    "# Check our predictions against the ground truths.\n",
    "print(test_labels_predict[:5])\n",
    "print(test_labels[:5])"
   ]
  },
  {
   "cell_type": "code",
   "execution_count": 65,
   "metadata": {
    "colab": {
     "base_uri": "https://localhost:8080/",
     "height": 343
    },
    "id": "4kJm1MIla5lC",
    "outputId": "d16e8c77-d10a-4079-a2a4-0025a6743e96"
   },
   "outputs": [
    {
     "data": {
      "text/html": [
       "<div>\n",
       "<style scoped>\n",
       "    .dataframe tbody tr th:only-of-type {\n",
       "        vertical-align: middle;\n",
       "    }\n",
       "\n",
       "    .dataframe tbody tr th {\n",
       "        vertical-align: top;\n",
       "    }\n",
       "\n",
       "    .dataframe thead th {\n",
       "        text-align: right;\n",
       "    }\n",
       "</style>\n",
       "<table border=\"1\" class=\"dataframe\">\n",
       "  <thead>\n",
       "    <tr style=\"text-align: right;\">\n",
       "      <th></th>\n",
       "      <th>recall</th>\n",
       "      <th>precision</th>\n",
       "    </tr>\n",
       "  </thead>\n",
       "  <tbody>\n",
       "    <tr>\n",
       "      <th>T-shirt/top</th>\n",
       "      <td>0.87</td>\n",
       "      <td>0.790909</td>\n",
       "    </tr>\n",
       "    <tr>\n",
       "      <th>Trouser</th>\n",
       "      <td>0.963</td>\n",
       "      <td>0.992783</td>\n",
       "    </tr>\n",
       "    <tr>\n",
       "      <th>Pullover</th>\n",
       "      <td>0.815</td>\n",
       "      <td>0.7814</td>\n",
       "    </tr>\n",
       "    <tr>\n",
       "      <th>Dress</th>\n",
       "      <td>0.867</td>\n",
       "      <td>0.883792</td>\n",
       "    </tr>\n",
       "    <tr>\n",
       "      <th>Coat</th>\n",
       "      <td>0.819</td>\n",
       "      <td>0.774834</td>\n",
       "    </tr>\n",
       "    <tr>\n",
       "      <th>Sandal</th>\n",
       "      <td>0.975</td>\n",
       "      <td>0.916353</td>\n",
       "    </tr>\n",
       "    <tr>\n",
       "      <th>Shirt</th>\n",
       "      <td>0.604</td>\n",
       "      <td>0.751244</td>\n",
       "    </tr>\n",
       "    <tr>\n",
       "      <th>Sneaker</th>\n",
       "      <td>0.899</td>\n",
       "      <td>0.951323</td>\n",
       "    </tr>\n",
       "    <tr>\n",
       "      <th>Bag</th>\n",
       "      <td>0.975</td>\n",
       "      <td>0.947522</td>\n",
       "    </tr>\n",
       "    <tr>\n",
       "      <th>Ankle boot</th>\n",
       "      <td>0.951</td>\n",
       "      <td>0.944389</td>\n",
       "    </tr>\n",
       "  </tbody>\n",
       "</table>\n",
       "</div>"
      ],
      "text/plain": [
       "            recall precision\n",
       "T-shirt/top   0.87  0.790909\n",
       "Trouser      0.963  0.992783\n",
       "Pullover     0.815    0.7814\n",
       "Dress        0.867  0.883792\n",
       "Coat         0.819  0.774834\n",
       "Sandal       0.975  0.916353\n",
       "Shirt        0.604  0.751244\n",
       "Sneaker      0.899  0.951323\n",
       "Bag          0.975  0.947522\n",
       "Ankle boot   0.951  0.944389"
      ]
     },
     "execution_count": 65,
     "metadata": {
      "tags": []
     },
     "output_type": "execute_result"
    }
   ],
   "source": [
    "labels = np.unique(train_labels)\n",
    "df = pd.DataFrame(columns=['recall', 'precision'], index=range(10))\n",
    "\n",
    "for i in labels:\n",
    "  recall = Recall()\n",
    "  recall.update_state(y_true=(test_labels == i), \n",
    "                      y_pred=(test_labels_predict == i))\n",
    "  df.loc[i, 'recall'] = recall.result().numpy()\n",
    "\n",
    "  precision = Precision()\n",
    "  precision.update_state(y_true=(test_labels == i), \n",
    "                         y_pred=(test_labels_predict == i))\n",
    "  df.loc[i, 'precision'] = precision.result().numpy()\n",
    "\n",
    "df.index = ['T-shirt/top', 'Trouser', 'Pullover', 'Dress', 'Coat', 'Sandal', 'Shirt', 'Sneaker', 'Bag', 'Ankle boot']\n",
    "\n",
    "df"
   ]
  },
  {
   "cell_type": "markdown",
   "metadata": {
    "id": "QBxtb1CkcuR0"
   },
   "source": [
    "Вывод:\n",
    "- класс Trouser очень хорошо был распознан. Также неплохо 'Sneaker', 'Bag', 'Ankle boot'. \n",
    "- Классы 'T-shirt/top', 'Pullover', 'Coat', 'Shirt' требуют дополнительной обработки"
   ]
  },
  {
   "cell_type": "code",
   "execution_count": null,
   "metadata": {
    "id": "kTXdc_KPcwJ-"
   },
   "outputs": [],
   "source": []
  }
 ],
 "metadata": {
  "accelerator": "GPU",
  "colab": {
   "collapsed_sections": [],
   "name": "Lesson2.ipynb",
   "provenance": []
  },
  "kernelspec": {
   "display_name": "Python 3",
   "language": "python",
   "name": "python3"
  },
  "language_info": {
   "codemirror_mode": {
    "name": "ipython",
    "version": 3
   },
   "file_extension": ".py",
   "mimetype": "text/x-python",
   "name": "python",
   "nbconvert_exporter": "python",
   "pygments_lexer": "ipython3",
   "version": "3.7.6"
  }
 },
 "nbformat": 4,
 "nbformat_minor": 1
}
