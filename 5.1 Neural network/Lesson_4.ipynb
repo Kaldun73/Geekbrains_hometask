{
  "nbformat": 4,
  "nbformat_minor": 0,
  "metadata": {
    "colab": {
      "name": "Lesson 4.ipynb",
      "provenance": []
    },
    "kernelspec": {
      "name": "python3",
      "display_name": "Python 3"
    }
  },
  "cells": [
    {
      "cell_type": "markdown",
      "metadata": {
        "id": "Xx6FEI2Mwzeg"
      },
      "source": [
        "### 1. обучить сверточную нейронную сеть в стиле AlexNet (с падением размера ядра свертки и последовательностью блоков свертка-пулинг (conv-pool)-(conv-pool)-...) на датасете fashion-mnist\r\n",
        "### 3. оценить рост точности при увеличении глубины сети (больше слоев)\r\n",
        "### 4. сравнить с точностью полносвязной сети для этой выборки"
      ]
    },
    {
      "cell_type": "code",
      "metadata": {
        "id": "lwog81vDm2yT"
      },
      "source": [
        "import numpy as np\r\n",
        "import pandas as pd\r\n",
        "import matplotlib.pyplot as plt\r\n",
        "import keras\r\n",
        "import tensorflow as tf\r\n",
        "from keras.models import Sequential\r\n",
        "from keras.layers import Dense\r\n",
        "from keras.utils import to_categorical\r\n",
        "from keras.datasets import mnist\r\n",
        "#from keras.utils import plot_model\r\n",
        "import pydot\r\n",
        "import pydotplus\r\n",
        "from pydotplus import graphviz\r\n",
        "from keras.utils.vis_utils import plot_model\r\n",
        "from keras.utils.vis_utils import model_to_dot\r\n",
        "keras.utils.vis_utils.pydot = pydot\r\n",
        "from sklearn.metrics import confusion_matrix\r\n",
        "\r\n",
        "import numpy as np\r\n",
        "import tensorflow as tf\r\n",
        "import tensorflow.keras as keras\r\n",
        "from tensorflow.keras.datasets import fashion_mnist\r\n",
        "from tensorflow.keras import models, layers\r\n",
        "from tensorflow.keras.models import Sequential, Model\r\n",
        "from tensorflow.keras.layers import Conv2D, Input\r\n",
        "from tensorflow.keras.layers import GlobalMaxPooling2D, MaxPooling2D, AveragePooling2D, GlobalAveragePooling2D \r\n",
        "\r\n",
        "from tensorflow.keras.datasets import cifar10\r\n",
        "from tensorflow.keras.preprocessing.image import ImageDataGenerator\r\n",
        "\r\n",
        "from tensorflow.keras.layers import Dense, Flatten, Concatenate\r\n",
        "from tensorflow.keras.utils import plot_model"
      ],
      "execution_count": null,
      "outputs": []
    },
    {
      "cell_type": "code",
      "metadata": {
        "colab": {
          "base_uri": "https://localhost:8080/"
        },
        "id": "F4fHDTOUAzQ0",
        "outputId": "018f90a5-0b01-45ec-8533-ec828fe96ab7"
      },
      "source": [
        "# загружаем данные\r\n",
        "fashion_mnist = tf.keras.datasets.fashion_mnist\r\n",
        "(train_images, train_labels), (test_images, test_labels) = fashion_mnist.load_data()"
      ],
      "execution_count": null,
      "outputs": [
        {
          "output_type": "stream",
          "text": [
            "Downloading data from https://storage.googleapis.com/tensorflow/tf-keras-datasets/train-labels-idx1-ubyte.gz\n",
            "32768/29515 [=================================] - 0s 0us/step\n",
            "Downloading data from https://storage.googleapis.com/tensorflow/tf-keras-datasets/train-images-idx3-ubyte.gz\n",
            "26427392/26421880 [==============================] - 0s 0us/step\n",
            "Downloading data from https://storage.googleapis.com/tensorflow/tf-keras-datasets/t10k-labels-idx1-ubyte.gz\n",
            "8192/5148 [===============================================] - 0s 0us/step\n",
            "Downloading data from https://storage.googleapis.com/tensorflow/tf-keras-datasets/t10k-images-idx3-ubyte.gz\n",
            "4423680/4422102 [==============================] - 0s 0us/step\n"
          ],
          "name": "stdout"
        }
      ]
    },
    {
      "cell_type": "code",
      "metadata": {
        "colab": {
          "base_uri": "https://localhost:8080/"
        },
        "id": "vVAJH-_xBYtJ",
        "outputId": "dd99f963-c1e0-4eea-bc94-7133b26079a3"
      },
      "source": [
        "print(train_images.shape)  \r\n",
        "print(train_labels.shape) \r\n",
        "print(test_images.shape)   \r\n",
        "print(test_labels.shape) "
      ],
      "execution_count": null,
      "outputs": [
        {
          "output_type": "stream",
          "text": [
            "(60000, 28, 28)\n",
            "(60000,)\n",
            "(10000, 28, 28)\n",
            "(10000,)\n"
          ],
          "name": "stdout"
        }
      ]
    },
    {
      "cell_type": "code",
      "metadata": {
        "id": "9O7yJH3TDU_e"
      },
      "source": [
        "# конвертация чисел из uint8 в float32\r\n",
        "train_images = train_images.astype('float32')\r\n",
        "test_images = test_images.astype('float32')\r\n",
        "\r\n",
        "# нормализация данных [0, 1]\r\n",
        "train_images /= 255 \r\n",
        "test_images /= 255 \r\n",
        "\r\n",
        "# трансформация лейблов в one-hot encoding\r\n",
        "train_labels = to_categorical(train_labels, 10) \r\n",
        "test_labels = to_categorical(test_labels, 10) \r\n",
        "\r\n",
        "# изменение размерности массива в 4D массив\r\n",
        "train_images = train_images.reshape(train_images.shape[0], 28,28,1)\r\n",
        "test_images = test_images.reshape(test_images.shape[0], 28,28,1)"
      ],
      "execution_count": null,
      "outputs": []
    },
    {
      "cell_type": "code",
      "metadata": {
        "colab": {
          "base_uri": "https://localhost:8080/"
        },
        "id": "P1Thj5luBdlE",
        "outputId": "8fe239a3-177c-457a-d8cb-66353c2f8766"
      },
      "source": [
        "# инициализация пустой модели\r\n",
        "model = Sequential()\r\n",
        "\r\n",
        "# первый сверточный слой\r\n",
        "model.add(layers.Conv2D(6, kernel_size=(5, 5), strides=(1, 1), activation='tanh', input_shape=(28,28,1), padding=\"same\"))\r\n",
        "\r\n",
        "# второй пуллинговый слой\r\n",
        "model.add(layers.AveragePooling2D(pool_size=(2, 2), strides=(1, 1), padding='valid'))\r\n",
        "\r\n",
        "# третий сверточный слой\r\n",
        "model.add(layers.Conv2D(16, kernel_size=(5, 5), strides=(1, 1), activation='tanh', padding='valid'))\r\n",
        "\r\n",
        "# четвертый пуллинговый слой\r\n",
        "model.add(layers.AveragePooling2D(pool_size=(2, 2), strides=(2, 2), padding='valid'))\r\n",
        "\r\n",
        "# пятый полносвязный слой\r\n",
        "model.add(layers.Conv2D(120, kernel_size=(5, 5), strides=(1, 1), activation='tanh', padding='valid'))\r\n",
        "\r\n",
        "# сглаживание CNN выхода чтобы можно было его присоединить к полносвязному слою\r\n",
        "model.add(layers.Flatten())\r\n",
        "\r\n",
        "# шестой полносвязный слой\r\n",
        "model.add(layers.Dense(84, activation='tanh'))\r\n",
        "\r\n",
        "# выходной слой с функцией активации softmax\r\n",
        "model.add(layers.Dense(10, activation='softmax'))\r\n",
        "\r\n",
        "\r\n",
        "# компилияция модели\r\n",
        "model.compile(loss=keras.losses.categorical_crossentropy, optimizer='SGD', metrics=[\"accuracy\"])\r\n",
        "\r\n",
        "\r\n",
        "hist = model.fit(x=train_images,y=train_labels, epochs=5, batch_size=254, validation_data=(test_images, test_labels), verbose=1)\r\n",
        "\r\n",
        "test_score = model.evaluate(test_images, test_labels)\r\n",
        "print(\"Test loss {:.4f}, accuracy {:.2f}%\".format(test_score[0], test_score[1] * 100))"
      ],
      "execution_count": null,
      "outputs": [
        {
          "output_type": "stream",
          "text": [
            "Epoch 1/5\n",
            "237/237 [==============================] - 81s 338ms/step - loss: 1.5714 - accuracy: 0.4886 - val_loss: 0.8214 - val_accuracy: 0.7069\n",
            "Epoch 2/5\n",
            "237/237 [==============================] - 80s 336ms/step - loss: 0.7566 - accuracy: 0.7226 - val_loss: 0.6924 - val_accuracy: 0.7456\n",
            "Epoch 3/5\n",
            "237/237 [==============================] - 80s 338ms/step - loss: 0.6520 - accuracy: 0.7580 - val_loss: 0.6427 - val_accuracy: 0.7650\n",
            "Epoch 4/5\n",
            "237/237 [==============================] - 80s 338ms/step - loss: 0.5987 - accuracy: 0.7804 - val_loss: 0.6075 - val_accuracy: 0.7773\n",
            "Epoch 5/5\n",
            "237/237 [==============================] - 80s 339ms/step - loss: 0.5651 - accuracy: 0.7931 - val_loss: 0.5794 - val_accuracy: 0.7866\n",
            "313/313 [==============================] - 6s 19ms/step - loss: 0.5794 - accuracy: 0.7866\n",
            "Test loss 0.5794, accuracy 78.66%\n"
          ],
          "name": "stdout"
        }
      ]
    },
    {
      "cell_type": "code",
      "metadata": {
        "colab": {
          "base_uri": "https://localhost:8080/"
        },
        "id": "h9Bz4k4vCtU1",
        "outputId": "3408f2b8-fd42-47cc-88aa-f37c26bf845d"
      },
      "source": [
        "model.summary()\r\n"
      ],
      "execution_count": null,
      "outputs": [
        {
          "output_type": "stream",
          "text": [
            "Model: \"sequential\"\n",
            "_________________________________________________________________\n",
            "Layer (type)                 Output Shape              Param #   \n",
            "=================================================================\n",
            "conv2d (Conv2D)              (None, 28, 28, 6)         156       \n",
            "_________________________________________________________________\n",
            "average_pooling2d (AveragePo (None, 27, 27, 6)         0         \n",
            "_________________________________________________________________\n",
            "conv2d_1 (Conv2D)            (None, 23, 23, 16)        2416      \n",
            "_________________________________________________________________\n",
            "average_pooling2d_1 (Average (None, 11, 11, 16)        0         \n",
            "_________________________________________________________________\n",
            "conv2d_2 (Conv2D)            (None, 7, 7, 120)         48120     \n",
            "_________________________________________________________________\n",
            "flatten (Flatten)            (None, 5880)              0         \n",
            "_________________________________________________________________\n",
            "dense (Dense)                (None, 84)                494004    \n",
            "_________________________________________________________________\n",
            "dense_1 (Dense)              (None, 10)                850       \n",
            "=================================================================\n",
            "Total params: 545,546\n",
            "Trainable params: 545,546\n",
            "Non-trainable params: 0\n",
            "_________________________________________________________________\n"
          ],
          "name": "stdout"
        }
      ]
    },
    {
      "cell_type": "code",
      "metadata": {
        "id": "6Mg3DGgECvbZ"
      },
      "source": [
        "y_pred=model.predict(test_images)\r\n"
      ],
      "execution_count": null,
      "outputs": []
    },
    {
      "cell_type": "code",
      "metadata": {
        "colab": {
          "base_uri": "https://localhost:8080/",
          "height": 546
        },
        "id": "tYJ2XktRCwPf",
        "outputId": "62959b5c-714a-4d17-fc86-0ba2eb10f0d3"
      },
      "source": [
        "plt.plot(y_pred[0][:])\r\n",
        "plt.show()\r\n",
        "print(y_pred[0][:])\r\n",
        "plt.imshow(test_images[0][:,:,0])\r\n",
        "plt.show()"
      ],
      "execution_count": null,
      "outputs": [
        {
          "output_type": "display_data",
          "data": {
            "image/png": "[encoded data removed]",
            "text/plain": [
              "<Figure size 432x288 with 1 Axes>"
            ]
          },
          "metadata": {
            "tags": [],
            "needs_background": "light"
          }
        },
        {
          "output_type": "stream",
          "text": [
            "[8.6257263e-05 8.4168445e-05 6.8213843e-04 8.0809690e-04 2.3329321e-03\n",
            " 6.8478167e-02 3.4665343e-04 2.8505459e-01 1.4940133e-02 6.2718683e-01]\n"
          ],
          "name": "stdout"
        },
        {
          "output_type": "display_data",
          "data": {
            "image/png": "[encoded data removed]",
            "text/plain": [
              "<Figure size 432x288 with 1 Axes>"
            ]
          },
          "metadata": {
            "tags": [],
            "needs_background": "light"
          }
        }
      ]
    },
    {
      "cell_type": "markdown",
      "metadata": {
        "id": "y4N1gjEuC3zq"
      },
      "source": [
        "### 2. оценить рост точности при увеличении ширины сети (больше ядер)\r\n"
      ]
    },
    {
      "cell_type": "code",
      "metadata": {
        "colab": {
          "base_uri": "https://localhost:8080/",
          "height": 229
        },
        "id": "DouH1ya5C47J",
        "outputId": "1b4c7dd4-e151-4093-dae5-601d787ae0ac"
      },
      "source": [
        "epochs = 5\r\n",
        "epoch = np.arange(epochs+1)\r\n",
        "\r\n",
        "plt.figure(figsize=(16,7))\r\n",
        "\r\n",
        "for kernels in (1, 2, 4, 8, 16, 32, 64):\r\n",
        "\r\n",
        "  # build\r\n",
        "  model = Sequential([\r\n",
        "      Conv2D(kernels, kernel_size=(5, 5), strides=(1, 1), activation='tanh', input_shape=(28, 28, 1), padding='same'),\r\n",
        "      AveragePooling2D(pool_size=(2, 2), strides=(1, 1), padding='valid'),\r\n",
        "      Conv2D(kernels, kernel_size=(5, 5), strides=(1, 1), activation='tanh', padding='valid'),\r\n",
        "      AveragePooling2D(pool_size=(2, 2), strides=(2, 2), padding='valid'),\r\n",
        "      Conv2D(kernels, kernel_size=(5, 5), strides=(1, 1), activation='tanh', padding='valid'),\r\n",
        "      Flatten(),\r\n",
        "      Dense(84, activation='tanh'),\r\n",
        "      Dense(10, activation='softmax')\r\n",
        "  ])\r\n",
        "\r\n",
        "  # compile\r\n",
        "  model.compile(loss=keras.losses.categorical_crossentropy, \r\n",
        "                optimizer='SGD', \r\n",
        "                metrics=[\"accuracy\"])\r\n",
        "\r\n",
        "  # calc errors\r\n",
        "  test_score = model.evaluate(test_images, test_labels)\r\n",
        "  print(\"Test loss {:.4f}, accuracy {:.2f}%\".format(test_score[0], test_score[1] * 100))\r\n",
        "\r\n",
        "  # fitting\r\n",
        "  hist = model.fit(x=train_images,y=train_labels, epochs=5, batch_size=254, validation_data=(test_images, test_labels), verbose=0)\r\n",
        "  \r\n",
        "  hist2 = model.evaluate(train_images, y_train, verbose=0)\r\n",
        "  h_test = model.evaluate(test_images, y_test, verbose=0)\r\n",
        "\r\n",
        "  print(f\"{kernels} accuracy:\")\r\n",
        "  print(f\"\\tTrain: {hist2[1]}\")\r\n",
        "  print(f\"\\tTest: {h_test[1]}\")\r\n",
        "\r\n",
        "  plt.plot(epoch, [test_score[0]] + hist.history['loss'], label=f'{kernels} kernels')\r\n",
        "\r\n",
        "plt.legend()\r\n",
        "plt.title('нейросети от оптимизатора log(loss)')\r\n",
        "plt.xlabel('epoch')\r\n",
        "plt.xlabel('log(loss)')\r\n",
        "plt.show()"
      ],
      "execution_count": 1,
      "outputs": [
        {
          "output_type": "error",
          "ename": "NameError",
          "evalue": "ignored",
          "traceback": [
            "\u001b[0;31m---------------------------------------------------------------------------\u001b[0m",
            "\u001b[0;31mNameError\u001b[0m                                 Traceback (most recent call last)",
            "\u001b[0;32m<ipython-input-1-d9314d69bb50>\u001b[0m in \u001b[0;36m<module>\u001b[0;34m()\u001b[0m\n\u001b[1;32m      1\u001b[0m \u001b[0mepochs\u001b[0m \u001b[0;34m=\u001b[0m \u001b[0;36m5\u001b[0m\u001b[0;34m\u001b[0m\u001b[0;34m\u001b[0m\u001b[0m\n\u001b[0;32m----> 2\u001b[0;31m \u001b[0mepoch\u001b[0m \u001b[0;34m=\u001b[0m \u001b[0mnp\u001b[0m\u001b[0;34m.\u001b[0m\u001b[0marange\u001b[0m\u001b[0;34m(\u001b[0m\u001b[0mepochs\u001b[0m\u001b[0;34m+\u001b[0m\u001b[0;36m1\u001b[0m\u001b[0;34m)\u001b[0m\u001b[0;34m\u001b[0m\u001b[0;34m\u001b[0m\u001b[0m\n\u001b[0m\u001b[1;32m      3\u001b[0m \u001b[0;34m\u001b[0m\u001b[0m\n\u001b[1;32m      4\u001b[0m \u001b[0mplt\u001b[0m\u001b[0;34m.\u001b[0m\u001b[0mfigure\u001b[0m\u001b[0;34m(\u001b[0m\u001b[0mfigsize\u001b[0m\u001b[0;34m=\u001b[0m\u001b[0;34m(\u001b[0m\u001b[0;36m16\u001b[0m\u001b[0;34m,\u001b[0m\u001b[0;36m7\u001b[0m\u001b[0;34m)\u001b[0m\u001b[0;34m)\u001b[0m\u001b[0;34m\u001b[0m\u001b[0;34m\u001b[0m\u001b[0m\n\u001b[1;32m      5\u001b[0m \u001b[0;34m\u001b[0m\u001b[0m\n",
            "\u001b[0;31mNameError\u001b[0m: name 'np' is not defined"
          ]
        }
      ]
    }
  ]
}