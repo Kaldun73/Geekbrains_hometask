{
  "nbformat": 4,
  "nbformat_minor": 0,
  "metadata": {
    "colab": {
      "name": "Lesson 4.ipynb",
      "provenance": []
    },
    "kernelspec": {
      "name": "python3",
      "display_name": "Python 3"
    },
    "accelerator": "GPU"
  },
  "cells": [
    {
      "cell_type": "markdown",
      "metadata": {
        "id": "Xx6FEI2Mwzeg"
      },
      "source": [
        "### 1. обучить сверточную нейронную сеть в стиле AlexNet (с падением размера ядра свертки и последовательностью блоков свертка-пулинг (conv-pool)-(conv-pool)-...) на датасете fashion-mnist"
      ]
    },
    {
      "cell_type": "code",
      "metadata": {
        "id": "lwog81vDm2yT"
      },
      "source": [
        "import numpy as np\r\n",
        "import pandas as pd\r\n",
        "import matplotlib.pyplot as plt\r\n",
        "import keras\r\n",
        "import tensorflow as tf\r\n",
        "from keras.models import Sequential\r\n",
        "from keras.layers import Dense\r\n",
        "from keras.utils import to_categorical\r\n",
        "from keras.datasets import mnist\r\n",
        "#from keras.utils import plot_model\r\n",
        "import pydot\r\n",
        "import pydotplus\r\n",
        "from pydotplus import graphviz\r\n",
        "from keras.utils.vis_utils import plot_model\r\n",
        "from keras.utils.vis_utils import model_to_dot\r\n",
        "keras.utils.vis_utils.pydot = pydot\r\n",
        "from sklearn.metrics import confusion_matrix\r\n",
        "\r\n",
        "import numpy as np\r\n",
        "import tensorflow as tf\r\n",
        "import tensorflow.keras as keras\r\n",
        "from tensorflow.keras.datasets import fashion_mnist\r\n",
        "from tensorflow.keras import models, layers\r\n",
        "from tensorflow.keras.models import Sequential, Model\r\n",
        "from tensorflow.keras.layers import Conv2D, Input\r\n",
        "from tensorflow.keras.layers import GlobalMaxPooling2D, MaxPooling2D, AveragePooling2D, GlobalAveragePooling2D \r\n",
        "\r\n",
        "from tensorflow.keras.datasets import cifar10\r\n",
        "from tensorflow.keras.preprocessing.image import ImageDataGenerator\r\n",
        "\r\n",
        "from tensorflow.keras.layers import Dense, Flatten, Concatenate\r\n",
        "from tensorflow.keras.utils import plot_model"
      ],
      "execution_count": 2,
      "outputs": []
    },
    {
      "cell_type": "code",
      "metadata": {
        "id": "F4fHDTOUAzQ0"
      },
      "source": [
        "# загружаем данные\r\n",
        "fashion_mnist = tf.keras.datasets.fashion_mnist\r\n",
        "(train_images, train_labels), (test_images, test_labels) = fashion_mnist.load_data()"
      ],
      "execution_count": 3,
      "outputs": []
    },
    {
      "cell_type": "code",
      "metadata": {
        "colab": {
          "base_uri": "https://localhost:8080/"
        },
        "id": "vVAJH-_xBYtJ",
        "outputId": "b7bedb78-a0cd-480b-fb3f-661db94c365e"
      },
      "source": [
        "print(train_images.shape)  \r\n",
        "print(train_labels.shape) \r\n",
        "print(test_images.shape)   \r\n",
        "print(test_labels.shape) "
      ],
      "execution_count": 4,
      "outputs": [
        {
          "output_type": "stream",
          "text": [
            "(60000, 28, 28)\n",
            "(60000,)\n",
            "(10000, 28, 28)\n",
            "(10000,)\n"
          ],
          "name": "stdout"
        }
      ]
    },
    {
      "cell_type": "code",
      "metadata": {
        "id": "9O7yJH3TDU_e"
      },
      "source": [
        "# конвертация чисел из uint8 в float32\r\n",
        "train_images = train_images.astype('float32')\r\n",
        "test_images = test_images.astype('float32')\r\n",
        "\r\n",
        "# нормализация данных [0, 1]\r\n",
        "train_images /= 255 \r\n",
        "test_images /= 255 \r\n",
        "\r\n",
        "# трансформация лейблов в one-hot encoding\r\n",
        "train_labels = to_categorical(train_labels, 10) \r\n",
        "test_labels = to_categorical(test_labels, 10) \r\n",
        "\r\n",
        "# изменение размерности массива в 4D массив\r\n",
        "train_images = train_images.reshape(train_images.shape[0], 28,28,1)\r\n",
        "test_images = test_images.reshape(test_images.shape[0], 28,28,1)"
      ],
      "execution_count": 5,
      "outputs": []
    },
    {
      "cell_type": "code",
      "metadata": {
        "colab": {
          "base_uri": "https://localhost:8080/"
        },
        "id": "P1Thj5luBdlE",
        "outputId": "bfba1a52-f30a-4a92-ebe4-55549310843f"
      },
      "source": [
        "# инициализация пустой модели\r\n",
        "model = Sequential()\r\n",
        "\r\n",
        "# первый сверточный слой\r\n",
        "model.add(layers.Conv2D(6, kernel_size=(5, 5), strides=(1, 1), activation='tanh', input_shape=(28,28,1), padding=\"same\"))\r\n",
        "\r\n",
        "# второй пуллинговый слой\r\n",
        "model.add(layers.AveragePooling2D(pool_size=(2, 2), strides=(1, 1), padding='valid'))\r\n",
        "\r\n",
        "# третий сверточный слой\r\n",
        "model.add(layers.Conv2D(16, kernel_size=(5, 5), strides=(1, 1), activation='tanh', padding='valid'))\r\n",
        "\r\n",
        "# четвертый пуллинговый слой\r\n",
        "model.add(layers.AveragePooling2D(pool_size=(2, 2), strides=(2, 2), padding='valid'))\r\n",
        "\r\n",
        "# пятый полносвязный слой\r\n",
        "model.add(layers.Conv2D(120, kernel_size=(5, 5), strides=(1, 1), activation='tanh', padding='valid'))\r\n",
        "\r\n",
        "# сглаживание CNN выхода чтобы можно было его присоединить к полносвязному слою\r\n",
        "model.add(layers.Flatten())\r\n",
        "\r\n",
        "# шестой полносвязный слой\r\n",
        "model.add(layers.Dense(84, activation='tanh'))\r\n",
        "\r\n",
        "# выходной слой с функцией активации softmax\r\n",
        "model.add(layers.Dense(10, activation='softmax'))\r\n",
        "\r\n",
        "\r\n",
        "# компилияция модели\r\n",
        "model.compile(loss=keras.losses.categorical_crossentropy, optimizer='SGD', metrics=[\"accuracy\"])\r\n",
        "\r\n",
        "\r\n",
        "hist = model.fit(x=train_images,y=train_labels, epochs=10, batch_size=254, validation_data=(test_images, test_labels), verbose=1)\r\n",
        "\r\n",
        "test_score = model.evaluate(test_images, test_labels)\r\n",
        "print(\"Test loss {:.4f}, accuracy {:.2f}%\".format(test_score[0], test_score[1] * 100))"
      ],
      "execution_count": 6,
      "outputs": [
        {
          "output_type": "stream",
          "text": [
            "Epoch 1/10\n",
            "237/237 [==============================] - 5s 9ms/step - loss: 1.6058 - accuracy: 0.5197 - val_loss: 0.8138 - val_accuracy: 0.7068\n",
            "Epoch 2/10\n",
            "237/237 [==============================] - 2s 7ms/step - loss: 0.7428 - accuracy: 0.7308 - val_loss: 0.6829 - val_accuracy: 0.7492\n",
            "Epoch 3/10\n",
            "237/237 [==============================] - 2s 7ms/step - loss: 0.6408 - accuracy: 0.7632 - val_loss: 0.6264 - val_accuracy: 0.7712\n",
            "Epoch 4/10\n",
            "237/237 [==============================] - 2s 7ms/step - loss: 0.5895 - accuracy: 0.7819 - val_loss: 0.5925 - val_accuracy: 0.7836\n",
            "Epoch 5/10\n",
            "237/237 [==============================] - 2s 7ms/step - loss: 0.5603 - accuracy: 0.7935 - val_loss: 0.5747 - val_accuracy: 0.7891\n",
            "Epoch 6/10\n",
            "237/237 [==============================] - 2s 7ms/step - loss: 0.5250 - accuracy: 0.8105 - val_loss: 0.5482 - val_accuracy: 0.8036\n",
            "Epoch 7/10\n",
            "237/237 [==============================] - 2s 7ms/step - loss: 0.5098 - accuracy: 0.8162 - val_loss: 0.5259 - val_accuracy: 0.8124\n",
            "Epoch 8/10\n",
            "237/237 [==============================] - 2s 7ms/step - loss: 0.4953 - accuracy: 0.8240 - val_loss: 0.5108 - val_accuracy: 0.8169\n",
            "Epoch 9/10\n",
            "237/237 [==============================] - 2s 7ms/step - loss: 0.4790 - accuracy: 0.8304 - val_loss: 0.5118 - val_accuracy: 0.8130\n",
            "Epoch 10/10\n",
            "237/237 [==============================] - 2s 7ms/step - loss: 0.4570 - accuracy: 0.8391 - val_loss: 0.5109 - val_accuracy: 0.8132\n",
            "313/313 [==============================] - 1s 2ms/step - loss: 0.5109 - accuracy: 0.8132\n",
            "Test loss 0.5109, accuracy 81.32%\n"
          ],
          "name": "stdout"
        }
      ]
    },
    {
      "cell_type": "code",
      "metadata": {
        "colab": {
          "base_uri": "https://localhost:8080/"
        },
        "id": "h9Bz4k4vCtU1",
        "outputId": "b47e5c1f-6868-421a-f078-09f368fcadbf"
      },
      "source": [
        "model.summary()\r\n"
      ],
      "execution_count": 7,
      "outputs": [
        {
          "output_type": "stream",
          "text": [
            "Model: \"sequential\"\n",
            "_________________________________________________________________\n",
            "Layer (type)                 Output Shape              Param #   \n",
            "=================================================================\n",
            "conv2d (Conv2D)              (None, 28, 28, 6)         156       \n",
            "_________________________________________________________________\n",
            "average_pooling2d (AveragePo (None, 27, 27, 6)         0         \n",
            "_________________________________________________________________\n",
            "conv2d_1 (Conv2D)            (None, 23, 23, 16)        2416      \n",
            "_________________________________________________________________\n",
            "average_pooling2d_1 (Average (None, 11, 11, 16)        0         \n",
            "_________________________________________________________________\n",
            "conv2d_2 (Conv2D)            (None, 7, 7, 120)         48120     \n",
            "_________________________________________________________________\n",
            "flatten (Flatten)            (None, 5880)              0         \n",
            "_________________________________________________________________\n",
            "dense (Dense)                (None, 84)                494004    \n",
            "_________________________________________________________________\n",
            "dense_1 (Dense)              (None, 10)                850       \n",
            "=================================================================\n",
            "Total params: 545,546\n",
            "Trainable params: 545,546\n",
            "Non-trainable params: 0\n",
            "_________________________________________________________________\n"
          ],
          "name": "stdout"
        }
      ]
    },
    {
      "cell_type": "code",
      "metadata": {
        "id": "6Mg3DGgECvbZ"
      },
      "source": [
        "y_pred=model.predict(test_images)\r\n"
      ],
      "execution_count": 8,
      "outputs": []
    },
    {
      "cell_type": "code",
      "metadata": {
        "colab": {
          "base_uri": "https://localhost:8080/",
          "height": 546
        },
        "id": "tYJ2XktRCwPf",
        "outputId": "7ad9dcb3-77e6-4c9f-ad2e-672e6e4ca939"
      },
      "source": [
        "plt.plot(y_pred[0][:])\r\n",
        "plt.show()\r\n",
        "print(y_pred[0][:])\r\n",
        "plt.imshow(test_images[0][:,:,0])\r\n",
        "plt.show()"
      ],
      "execution_count": 9,
      "outputs": [
        {
          "output_type": "display_data",
          "data": {
            "image/png": "[encoded data removed]",
            "text/plain": [
              "<Figure size 432x288 with 1 Axes>"
            ]
          },
          "metadata": {
            "tags": [],
            "needs_background": "light"
          }
        },
        {
          "output_type": "stream",
          "text": [
            "[2.1302346e-04 7.0548995e-05 6.3021493e-04 3.4304737e-04 8.8828796e-04\n",
            " 4.0184185e-02 5.9870561e-04 2.3062068e-01 8.7735569e-03 7.1767777e-01]\n"
          ],
          "name": "stdout"
        },
        {
          "output_type": "display_data",
          "data": {
            "image/png": "[encoded data removed]",
            "text/plain": [
              "<Figure size 432x288 with 1 Axes>"
            ]
          },
          "metadata": {
            "tags": [],
            "needs_background": "light"
          }
        }
      ]
    },
    {
      "cell_type": "markdown",
      "metadata": {
        "id": "y4N1gjEuC3zq"
      },
      "source": [
        "### 2. оценить рост точности при увеличении ширины сети (больше ядер)\r\n"
      ]
    },
    {
      "cell_type": "code",
      "metadata": {
        "colab": {
          "base_uri": "https://localhost:8080/"
        },
        "id": "DouH1ya5C47J",
        "outputId": "5a76fef6-fd03-49f4-ad5d-5aa8392e924f"
      },
      "source": [
        "for kernels in (1, 2, 4, 8, 16, 32, 64):\r\n",
        "\r\n",
        "  # build\r\n",
        "  model = Sequential([\r\n",
        "      Conv2D(kernels, kernel_size=(5, 5), strides=(1, 1), activation='tanh', input_shape=(28, 28, 1), padding='same'),\r\n",
        "      AveragePooling2D(pool_size=(2, 2), strides=(1, 1), padding='valid'),\r\n",
        "      Conv2D(kernels, kernel_size=(5, 5), strides=(1, 1), activation='tanh', padding='valid'),\r\n",
        "      AveragePooling2D(pool_size=(2, 2), strides=(2, 2), padding='valid'),\r\n",
        "      Conv2D(kernels, kernel_size=(5, 5), strides=(1, 1), activation='tanh', padding='valid'),\r\n",
        "      Flatten(),\r\n",
        "      Dense(84, activation='tanh'),\r\n",
        "      Dense(10, activation='softmax')\r\n",
        "  ])\r\n",
        "\r\n",
        "  # compile\r\n",
        "  model.compile(loss=keras.losses.categorical_crossentropy, \r\n",
        "                optimizer='SGD', \r\n",
        "                metrics=[\"accuracy\"])\r\n",
        "\r\n",
        "  # calc errors\r\n",
        "  test_score = model.evaluate(test_images, test_labels, verbose=0)\r\n",
        "  #print(\"Test loss {:.4f}, accuracy {:.2f}%\".format(test_score[0], test_score[1] * 100))\r\n",
        "\r\n",
        "  # fitting\r\n",
        "  hist = model.fit(x=train_images,y=train_labels, epochs=10, batch_size=254, validation_data=(test_images, test_labels), verbose=0)\r\n",
        "  \r\n",
        "  hist2 = model.evaluate(train_images, train_labels, verbose=0)\r\n",
        "  h_test = model.evaluate(test_images, test_labels, verbose=0)\r\n",
        "\r\n",
        "  print(f\"{kernels} kernels accuracy:\")\r\n",
        "  print(f\"\\tTrain: {hist2[1]}\")\r\n",
        "  print(f\"\\tTest: {h_test[1]}\")"
      ],
      "execution_count": 11,
      "outputs": [
        {
          "output_type": "stream",
          "text": [
            "1 kernels accuracy:\n",
            "\tTrain: 0.6934999823570251\n",
            "\tTest: 0.6802999973297119\n",
            "2 kernels accuracy:\n",
            "\tTrain: 0.7748833298683167\n",
            "\tTest: 0.7628999948501587\n",
            "4 kernels accuracy:\n",
            "\tTrain: 0.7975833415985107\n",
            "\tTest: 0.7850000262260437\n",
            "8 kernels accuracy:\n",
            "\tTrain: 0.814383327960968\n",
            "\tTest: 0.7979000210762024\n",
            "16 kernels accuracy:\n",
            "\tTrain: 0.8287833333015442\n",
            "\tTest: 0.8163999915122986\n",
            "32 kernels accuracy:\n",
            "\tTrain: 0.837066650390625\n",
            "\tTest: 0.8226000070571899\n",
            "64 kernels accuracy:\n",
            "\tTrain: 0.8440666794776917\n",
            "\tTest: 0.8309999704360962\n"
          ],
          "name": "stdout"
        }
      ]
    },
    {
      "cell_type": "markdown",
      "metadata": {
        "id": "mWbbLgHgBv7V"
      },
      "source": [
        "Вывод: при увеличении ширины сети точность стабильно растет. "
      ]
    },
    {
      "cell_type": "markdown",
      "metadata": {
        "id": "QGHb60yRJVdl"
      },
      "source": [
        "### 3. оценить рост точности при увеличении глубины сети (больше слоев)\r\n",
        "\r\n"
      ]
    },
    {
      "cell_type": "code",
      "metadata": {
        "id": "4Jei-UD0JUva"
      },
      "source": [
        "# Повторим первую модель в 3 версиях - 1,2,3 слоя\r\n",
        "\r\n",
        "one_model = Sequential([\r\n",
        "    Conv2D(6, kernel_size=(5, 5), strides=(1, 1), activation='tanh', input_shape=(28,28,1), padding=\"same\"),\r\n",
        "    Flatten(),\r\n",
        "    Dense(64, activation='tanh'),\r\n",
        "    Dense(10, activation='softmax')\r\n",
        "])\r\n",
        "\r\n",
        "two_model = Sequential([\r\n",
        "    Conv2D(6, kernel_size=(5, 5), strides=(1, 1), activation='tanh', input_shape=(28,28,1), padding=\"same\"),\r\n",
        "    AveragePooling2D(pool_size=(2, 2), strides=(1, 1), padding='valid'),\r\n",
        "    Conv2D(16, kernel_size=(5, 5), strides=(1, 1), activation='tanh', padding='valid'),\r\n",
        "\r\n",
        "    Flatten(),\r\n",
        "    Dense(64, activation='tanh'),\r\n",
        "    Dense(10, activation='softmax')\r\n",
        "])\r\n",
        "\r\n",
        "three_model = Sequential([\r\n",
        "    Conv2D(6, kernel_size=(5, 5), strides=(1, 1), activation='tanh', input_shape=(28,28,1), padding=\"same\"),\r\n",
        "    AveragePooling2D(pool_size=(2, 2), strides=(1, 1), padding='valid'),\r\n",
        "    Conv2D(16, kernel_size=(5, 5), strides=(1, 1), activation='tanh', padding='valid'),\r\n",
        "    AveragePooling2D(pool_size=(2, 2), strides=(2, 2), padding='valid'),\r\n",
        "    Conv2D(120, kernel_size=(5, 5), strides=(1, 1), activation='tanh', padding='valid'),\r\n",
        "\r\n",
        "    Flatten(),\r\n",
        "    Dense(64, activation='tanh'),\r\n",
        "    Dense(10, activation='softmax')\r\n",
        "])\r\n"
      ],
      "execution_count": 17,
      "outputs": []
    },
    {
      "cell_type": "code",
      "metadata": {
        "colab": {
          "base_uri": "https://localhost:8080/"
        },
        "id": "AURVG_loOBCX",
        "outputId": "677c0be4-409f-4902-d1c2-bbc6456fc0dc"
      },
      "source": [
        "for model_name in (one_model, two_model, three_model):\r\n",
        "\r\n",
        "  # compile\r\n",
        "  model_name.compile(loss=keras.losses.categorical_crossentropy,\r\n",
        "                optimizer='SGD', \r\n",
        "                metrics=[\"accuracy\"])\r\n",
        "  \r\n",
        "  # calc errors\r\n",
        "  test_score = model_name.evaluate(test_images, test_labels, verbose=0)\r\n",
        " \r\n",
        "  # fitting\r\n",
        "  hist = model_name.fit(x=train_images,y=train_labels, epochs=10, batch_size=254, validation_data=(test_images, test_labels), verbose=0)\r\n",
        "  \r\n",
        "  hist2 = model_name.evaluate(train_images, train_labels, verbose=0)\r\n",
        "  h_test = model_name.evaluate(test_images, test_labels, verbose=0)\r\n",
        "\r\n",
        "  print(f\"{model_name} accuracy:\")\r\n",
        "  print(f\"\\tTrain: {hist2[1]}\")\r\n",
        "  print(f\"\\tTest: {h_test[1]}\")\r\n",
        "\r\n"
      ],
      "execution_count": 22,
      "outputs": [
        {
          "output_type": "stream",
          "text": [
            "<tensorflow.python.keras.engine.sequential.Sequential object at 0x7f6c9a4495c0> accuracy:\n",
            "\tTrain: 0.8829333186149597\n",
            "\tTest: 0.8640000224113464\n",
            "<tensorflow.python.keras.engine.sequential.Sequential object at 0x7f6ca2314390> accuracy:\n",
            "\tTrain: 0.8742166757583618\n",
            "\tTest: 0.859000027179718\n",
            "<tensorflow.python.keras.engine.sequential.Sequential object at 0x7f6c9a4023c8> accuracy:\n",
            "\tTrain: 0.860450029373169\n",
            "\tTest: 0.8447999954223633\n"
          ],
          "name": "stdout"
        }
      ]
    },
    {
      "cell_type": "markdown",
      "metadata": {
        "id": "5NnyHkW6QCY-"
      },
      "source": [
        "Вывод: при увеличении количества слоев точность данной модели падает"
      ]
    },
    {
      "cell_type": "code",
      "metadata": {
        "id": "mFQ5aeifQB5I"
      },
      "source": [
        ""
      ],
      "execution_count": null,
      "outputs": []
    }
  ]
}