{
  "nbformat": 4,
  "nbformat_minor": 0,
  "metadata": {
    "colab": {
      "name": "Копия блокнота \"Untitled6.ipynb\"",
      "provenance": [],
      "collapsed_sections": []
    },
    "kernelspec": {
      "display_name": "Python 3",
      "name": "python3"
    },
    "language_info": {
      "name": "python"
    },
    "accelerator": "GPU"
  },
  "cells": [
    {
      "cell_type": "markdown",
      "metadata": {
        "id": "-FjyYoTjHoWd"
      },
      "source": [
        "ДЗ 4\n",
        "Обучить модель семантической сегментации (человек-vs-фон) на подмножестве датасета MS COCO Библиотеки: [Python, Tensorflow]"
      ]
    },
    {
      "cell_type": "code",
      "metadata": {
        "id": "yrWnIkEPFqVZ"
      },
      "source": [
        "%tensorflow_version 2.x"
      ],
      "execution_count": null,
      "outputs": []
    },
    {
      "cell_type": "code",
      "metadata": {
        "id": "c2I5SLj3Hsx3"
      },
      "source": [
        "import os\n",
        "import skimage.io as io\n",
        "import numpy as np\n",
        "\n",
        "import tensorflow as tf"
      ],
      "execution_count": null,
      "outputs": []
    },
    {
      "cell_type": "code",
      "metadata": {
        "id": "YAbU6Hh6HsvH"
      },
      "source": [
        "!mkdir -p data"
      ],
      "execution_count": null,
      "outputs": []
    },
    {
      "cell_type": "code",
      "metadata": {
        "colab": {
          "base_uri": "https://localhost:8080/"
        },
        "id": "N_x8fGCaH0Sd",
        "outputId": "bfd38dfa-45ae-462d-efb0-78451f82f4f0"
      },
      "source": [
        "!cd data && wget http://images.cocodataset.org/zips/train2017.zip "
      ],
      "execution_count": null,
      "outputs": [
        {
          "output_type": "stream",
          "text": [
            "--2021-06-25 06:42:32--  http://images.cocodataset.org/zips/train2017.zip\n",
            "Resolving images.cocodataset.org (images.cocodataset.org)... 52.217.73.28\n",
            "Connecting to images.cocodataset.org (images.cocodataset.org)|52.217.73.28|:80... connected.\n",
            "HTTP request sent, awaiting response... 200 OK\n",
            "Length: 19336861798 (18G) [application/zip]\n",
            "Saving to: ‘train2017.zip’\n",
            "\n",
            "train2017.zip       100%[===================>]  18.01G  16.7MB/s    in 7m 36s  \n",
            "\n",
            "2021-06-25 06:50:08 (40.5 MB/s) - ‘train2017.zip’ saved [19336861798/19336861798]\n",
            "\n"
          ],
          "name": "stdout"
        }
      ]
    },
    {
      "cell_type": "code",
      "metadata": {
        "colab": {
          "background_save": true,
          "base_uri": "https://localhost:8080/"
        },
        "id": "M5ARwxkaHsr9",
        "outputId": "1f06860e-9ad1-464e-8ef2-0b650c29cca3"
      },
      "source": [
        "!cd data && unzip -q train2017.zip"
      ],
      "execution_count": null,
      "outputs": [
        {
          "output_type": "stream",
          "text": [
            "train2017/000000307438.jpg:  write error (disk full?).  Continue? (y/n/^C) "
          ],
          "name": "stdout"
        }
      ]
    },
    {
      "cell_type": "code",
      "metadata": {
        "colab": {
          "background_save": true
        },
        "id": "hiwsyblR5AkI"
      },
      "source": [
        "!cd data && rm train2017.zip"
      ],
      "execution_count": null,
      "outputs": []
    },
    {
      "cell_type": "code",
      "metadata": {
        "id": "HRumJV3KHspB",
        "colab": {
          "base_uri": "https://localhost:8080/"
        },
        "outputId": "6a1429b7-5879-4cf2-aaaa-2da44ed114c6"
      },
      "source": [
        "!cd data && wget http://images.cocodataset.org/zips/val2017.zip \n",
        "!cd data && wget http://images.cocodataset.org/annotations/annotations_trainval2017.zip \n",
        "\n",
        "!cd data && unzip -q val2017.zip\n",
        "!cd data && rm val2017.zip\n",
        "\n",
        "!cd data && unzip -q annotations_trainval2017.zip\n",
        "!cd data && rm annotations_trainval2017.zip\n"
      ],
      "execution_count": null,
      "outputs": [
        {
          "output_type": "stream",
          "text": [
            "--2021-06-25 06:58:03--  http://images.cocodataset.org/zips/val2017.zip\n",
            "Resolving images.cocodataset.org (images.cocodataset.org)... 52.216.241.68\n",
            "Connecting to images.cocodataset.org (images.cocodataset.org)|52.216.241.68|:80... connected.\n",
            "HTTP request sent, awaiting response... 200 OK\n",
            "Length: 815585330 (778M) [application/zip]\n",
            "Saving to: ‘val2017.zip’\n",
            "\n",
            "val2017.zip          48%[========>           ] 374.12M  83.1MB/s    eta 6s     ^C\n",
            "--2021-06-25 06:58:08--  http://images.cocodataset.org/annotations/annotations_trainval2017.zip\n",
            "Resolving images.cocodataset.org (images.cocodataset.org)... 52.217.138.241\n",
            "Connecting to images.cocodataset.org (images.cocodataset.org)|52.217.138.241|:80... connected.\n",
            "HTTP request sent, awaiting response... 200 OK\n",
            "Length: 252907541 (241M) [application/zip]\n",
            "Saving to: ‘annotations_trainval2017.zip’\n",
            "\n",
            "annotations_trainva 100%[===================>] 241.19M  68.2MB/s    in 3.7s    \n",
            "\n",
            "2021-06-25 06:58:12 (64.6 MB/s) - ‘annotations_trainval2017.zip’ saved [252907541/252907541]\n",
            "\n",
            "[val2017.zip]\n",
            "  End-of-central-directory signature not found.  Either this file is not\n",
            "  a zipfile, or it constitutes one disk of a multi-part archive.  In the\n",
            "  latter case the central directory and zipfile comment will be found on\n",
            "  the last disk(s) of this archive.\n",
            "unzip:  cannot find zipfile directory in one of val2017.zip or\n",
            "        val2017.zip.zip, and cannot find val2017.zip.ZIP, period.\n"
          ],
          "name": "stdout"
        }
      ]
    },
    {
      "cell_type": "code",
      "metadata": {
        "id": "sJgGIgIzHsmH",
        "colab": {
          "base_uri": "https://localhost:8080/"
        },
        "outputId": "8bea3193-f237-4837-8f6a-85ad26b11aaa"
      },
      "source": [
        "!cd data && git clone https://github.com/cocodataset/cocoapi\n",
        "!cd data/cocoapi/PythonAPI && make"
      ],
      "execution_count": null,
      "outputs": [
        {
          "output_type": "stream",
          "text": [
            "Cloning into 'cocoapi'...\n",
            "remote: Enumerating objects: 975, done.\u001b[K\n",
            "remote: Total 975 (delta 0), reused 0 (delta 0), pack-reused 975\u001b[K\n",
            "Receiving objects: 100% (975/975), 11.72 MiB | 25.82 MiB/s, done.\n",
            "Resolving deltas: 100% (576/576), done.\n",
            "python setup.py build_ext --inplace\n",
            "running build_ext\n",
            "cythoning pycocotools/_mask.pyx to pycocotools/_mask.c\n",
            "/usr/local/lib/python3.7/dist-packages/Cython/Compiler/Main.py:369: FutureWarning: Cython directive 'language_level' not set, using 2 for now (Py2). This will change in a later release! File: /content/data/cocoapi/PythonAPI/pycocotools/_mask.pyx\n",
            "  tree = Parsing.p_module(s, pxd, full_module_name)\n",
            "building 'pycocotools._mask' extension\n",
            "creating build\n",
            "creating build/common\n",
            "creating build/temp.linux-x86_64-3.7\n",
            "creating build/temp.linux-x86_64-3.7/pycocotools\n",
            "x86_64-linux-gnu-gcc -pthread -Wno-unused-result -Wsign-compare -DNDEBUG -g -fwrapv -O2 -Wall -g -fdebug-prefix-map=/build/python3.7-OGiuun/python3.7-3.7.10=. -fstack-protector-strong -Wformat -Werror=format-security -g -fdebug-prefix-map=/build/python3.7-OGiuun/python3.7-3.7.10=. -fstack-protector-strong -Wformat -Werror=format-security -Wdate-time -D_FORTIFY_SOURCE=2 -fPIC -I/usr/local/lib/python3.7/dist-packages/numpy/core/include -I../common -I/usr/include/python3.7m -c ../common/maskApi.c -o build/temp.linux-x86_64-3.7/../common/maskApi.o -Wno-cpp -Wno-unused-function -std=c99\n",
            "\u001b[01m\u001b[K../common/maskApi.c:\u001b[m\u001b[K In function ‘\u001b[01m\u001b[KrleDecode\u001b[m\u001b[K’:\n",
            "\u001b[01m\u001b[K../common/maskApi.c:46:7:\u001b[m\u001b[K \u001b[01;35m\u001b[Kwarning: \u001b[m\u001b[Kthis ‘\u001b[01m\u001b[Kfor\u001b[m\u001b[K’ clause does not guard... [\u001b[01;35m\u001b[K-Wmisleading-indentation\u001b[m\u001b[K]\n",
            "       \u001b[01;35m\u001b[Kfor\u001b[m\u001b[K( k=0; k<R[i].cnts[j]; k++ ) *(M++)=v; v=!v; }}\n",
            "       \u001b[01;35m\u001b[K^~~\u001b[m\u001b[K\n",
            "\u001b[01m\u001b[K../common/maskApi.c:46:49:\u001b[m\u001b[K \u001b[01;36m\u001b[Knote: \u001b[m\u001b[K...this statement, but the latter is misleadingly indented as if it were guarded by the ‘\u001b[01m\u001b[Kfor\u001b[m\u001b[K’\n",
            "       for( k=0; k<R[i].cnts[j]; k++ ) *(M++)=v; \u001b[01;36m\u001b[Kv\u001b[m\u001b[K=!v; }}\n",
            "                                                 \u001b[01;36m\u001b[K^\u001b[m\u001b[K\n",
            "\u001b[01m\u001b[K../common/maskApi.c:\u001b[m\u001b[K In function ‘\u001b[01m\u001b[KrleFrPoly\u001b[m\u001b[K’:\n",
            "\u001b[01m\u001b[K../common/maskApi.c:166:3:\u001b[m\u001b[K \u001b[01;35m\u001b[Kwarning: \u001b[m\u001b[Kthis ‘\u001b[01m\u001b[Kfor\u001b[m\u001b[K’ clause does not guard... [\u001b[01;35m\u001b[K-Wmisleading-indentation\u001b[m\u001b[K]\n",
            "   \u001b[01;35m\u001b[Kfor\u001b[m\u001b[K(j=0; j<k; j++) x[j]=(int)(scale*xy[j*2+0]+.5); x[k]=x[0];\n",
            "   \u001b[01;35m\u001b[K^~~\u001b[m\u001b[K\n",
            "\u001b[01m\u001b[K../common/maskApi.c:166:54:\u001b[m\u001b[K \u001b[01;36m\u001b[Knote: \u001b[m\u001b[K...this statement, but the latter is misleadingly indented as if it were guarded by the ‘\u001b[01m\u001b[Kfor\u001b[m\u001b[K’\n",
            "   for(j=0; j<k; j++) x[j]=(int)(scale*xy[j*2+0]+.5); \u001b[01;36m\u001b[Kx\u001b[m\u001b[K[k]=x[0];\n",
            "                                                      \u001b[01;36m\u001b[K^\u001b[m\u001b[K\n",
            "\u001b[01m\u001b[K../common/maskApi.c:167:3:\u001b[m\u001b[K \u001b[01;35m\u001b[Kwarning: \u001b[m\u001b[Kthis ‘\u001b[01m\u001b[Kfor\u001b[m\u001b[K’ clause does not guard... [\u001b[01;35m\u001b[K-Wmisleading-indentation\u001b[m\u001b[K]\n",
            "   \u001b[01;35m\u001b[Kfor\u001b[m\u001b[K(j=0; j<k; j++) y[j]=(int)(scale*xy[j*2+1]+.5); y[k]=y[0];\n",
            "   \u001b[01;35m\u001b[K^~~\u001b[m\u001b[K\n",
            "\u001b[01m\u001b[K../common/maskApi.c:167:54:\u001b[m\u001b[K \u001b[01;36m\u001b[Knote: \u001b[m\u001b[K...this statement, but the latter is misleadingly indented as if it were guarded by the ‘\u001b[01m\u001b[Kfor\u001b[m\u001b[K’\n",
            "   for(j=0; j<k; j++) y[j]=(int)(scale*xy[j*2+1]+.5); \u001b[01;36m\u001b[Ky\u001b[m\u001b[K[k]=y[0];\n",
            "                                                      \u001b[01;36m\u001b[K^\u001b[m\u001b[K\n",
            "\u001b[01m\u001b[K../common/maskApi.c:\u001b[m\u001b[K In function ‘\u001b[01m\u001b[KrleToString\u001b[m\u001b[K’:\n",
            "\u001b[01m\u001b[K../common/maskApi.c:212:7:\u001b[m\u001b[K \u001b[01;35m\u001b[Kwarning: \u001b[m\u001b[Kthis ‘\u001b[01m\u001b[Kif\u001b[m\u001b[K’ clause does not guard... [\u001b[01;35m\u001b[K-Wmisleading-indentation\u001b[m\u001b[K]\n",
            "       \u001b[01;35m\u001b[Kif\u001b[m\u001b[K(more) c |= 0x20; c+=48; s[p++]=c;\n",
            "       \u001b[01;35m\u001b[K^~\u001b[m\u001b[K\n",
            "\u001b[01m\u001b[K../common/maskApi.c:212:27:\u001b[m\u001b[K \u001b[01;36m\u001b[Knote: \u001b[m\u001b[K...this statement, but the latter is misleadingly indented as if it were guarded by the ‘\u001b[01m\u001b[Kif\u001b[m\u001b[K’\n",
            "       if(more) c |= 0x20; \u001b[01;36m\u001b[Kc\u001b[m\u001b[K+=48; s[p++]=c;\n",
            "                           \u001b[01;36m\u001b[K^\u001b[m\u001b[K\n",
            "\u001b[01m\u001b[K../common/maskApi.c:\u001b[m\u001b[K In function ‘\u001b[01m\u001b[KrleFrString\u001b[m\u001b[K’:\n",
            "\u001b[01m\u001b[K../common/maskApi.c:220:3:\u001b[m\u001b[K \u001b[01;35m\u001b[Kwarning: \u001b[m\u001b[Kthis ‘\u001b[01m\u001b[Kwhile\u001b[m\u001b[K’ clause does not guard... [\u001b[01;35m\u001b[K-Wmisleading-indentation\u001b[m\u001b[K]\n",
            "   \u001b[01;35m\u001b[Kwhile\u001b[m\u001b[K( s[m] ) m++; cnts=malloc(sizeof(uint)*m); m=0;\n",
            "   \u001b[01;35m\u001b[K^~~~~\u001b[m\u001b[K\n",
            "\u001b[01m\u001b[K../common/maskApi.c:220:22:\u001b[m\u001b[K \u001b[01;36m\u001b[Knote: \u001b[m\u001b[K...this statement, but the latter is misleadingly indented as if it were guarded by the ‘\u001b[01m\u001b[Kwhile\u001b[m\u001b[K’\n",
            "   while( s[m] ) m++; \u001b[01;36m\u001b[Kcnts\u001b[m\u001b[K=malloc(sizeof(uint)*m); m=0;\n",
            "                      \u001b[01;36m\u001b[K^~~~\u001b[m\u001b[K\n",
            "\u001b[01m\u001b[K../common/maskApi.c:228:5:\u001b[m\u001b[K \u001b[01;35m\u001b[Kwarning: \u001b[m\u001b[Kthis ‘\u001b[01m\u001b[Kif\u001b[m\u001b[K’ clause does not guard... [\u001b[01;35m\u001b[K-Wmisleading-indentation\u001b[m\u001b[K]\n",
            "     \u001b[01;35m\u001b[Kif\u001b[m\u001b[K(m>2) x+=(long) cnts[m-2]; cnts[m++]=(uint) x;\n",
            "     \u001b[01;35m\u001b[K^~\u001b[m\u001b[K\n",
            "\u001b[01m\u001b[K../common/maskApi.c:228:34:\u001b[m\u001b[K \u001b[01;36m\u001b[Knote: \u001b[m\u001b[K...this statement, but the latter is misleadingly indented as if it were guarded by the ‘\u001b[01m\u001b[Kif\u001b[m\u001b[K’\n",
            "     if(m>2) x+=(long) cnts[m-2]; \u001b[01;36m\u001b[Kcnts\u001b[m\u001b[K[m++]=(uint) x;\n",
            "                                  \u001b[01;36m\u001b[K^~~~\u001b[m\u001b[K\n",
            "\u001b[01m\u001b[K../common/maskApi.c:\u001b[m\u001b[K In function ‘\u001b[01m\u001b[KrleToBbox\u001b[m\u001b[K’:\n",
            "\u001b[01m\u001b[K../common/maskApi.c:141:31:\u001b[m\u001b[K \u001b[01;35m\u001b[Kwarning: \u001b[m\u001b[K‘\u001b[01m\u001b[Kxp\u001b[m\u001b[K’ may be used uninitialized in this function [\u001b[01;35m\u001b[K-Wmaybe-uninitialized\u001b[m\u001b[K]\n",
            "       if(j%2==0) xp=x; else if\u001b[01;35m\u001b[K(\u001b[m\u001b[Kxp<x) { ys=0; ye=h-1; }\n",
            "                               \u001b[01;35m\u001b[K^\u001b[m\u001b[K\n",
            "x86_64-linux-gnu-gcc -pthread -Wno-unused-result -Wsign-compare -DNDEBUG -g -fwrapv -O2 -Wall -g -fdebug-prefix-map=/build/python3.7-OGiuun/python3.7-3.7.10=. -fstack-protector-strong -Wformat -Werror=format-security -g -fdebug-prefix-map=/build/python3.7-OGiuun/python3.7-3.7.10=. -fstack-protector-strong -Wformat -Werror=format-security -Wdate-time -D_FORTIFY_SOURCE=2 -fPIC -I/usr/local/lib/python3.7/dist-packages/numpy/core/include -I../common -I/usr/include/python3.7m -c pycocotools/_mask.c -o build/temp.linux-x86_64-3.7/pycocotools/_mask.o -Wno-cpp -Wno-unused-function -std=c99\n",
            "creating build/lib.linux-x86_64-3.7\n",
            "creating build/lib.linux-x86_64-3.7/pycocotools\n",
            "x86_64-linux-gnu-gcc -pthread -shared -Wl,-O1 -Wl,-Bsymbolic-functions -Wl,-Bsymbolic-functions -Wl,-z,relro -Wl,-Bsymbolic-functions -Wl,-z,relro -g -fdebug-prefix-map=/build/python3.7-OGiuun/python3.7-3.7.10=. -fstack-protector-strong -Wformat -Werror=format-security -Wdate-time -D_FORTIFY_SOURCE=2 build/temp.linux-x86_64-3.7/../common/maskApi.o build/temp.linux-x86_64-3.7/pycocotools/_mask.o -o build/lib.linux-x86_64-3.7/pycocotools/_mask.cpython-37m-x86_64-linux-gnu.so\n",
            "copying build/lib.linux-x86_64-3.7/pycocotools/_mask.cpython-37m-x86_64-linux-gnu.so -> pycocotools\n",
            "rm -rf build\n"
          ],
          "name": "stdout"
        }
      ]
    },
    {
      "cell_type": "code",
      "metadata": {
        "id": "0z-RPkNlHsjG"
      },
      "source": [
        "COCO_ROOT = './data/'\n",
        "import sys\n",
        "sys.path.insert(0, os.path.join(COCO_ROOT, 'cocoapi/PythonAPI'))\n",
        "from pycocotools.coco import COCO"
      ],
      "execution_count": null,
      "outputs": []
    },
    {
      "cell_type": "code",
      "metadata": {
        "id": "Nr9DHA2bHsgL"
      },
      "source": [
        "class Dataset():\n",
        "\n",
        "    def crop_images(self, img, inp_size, random_crop=False):\n",
        "        shape = tf.shape(img)\n",
        "        pad = (\n",
        "            [0, tf.maximum(inp_size - shape[0], 0)],\n",
        "            [0, tf.maximum(inp_size - shape[1], 0)],\n",
        "            [0, 0],\n",
        "        )\n",
        "        img = tf.pad(img, pad)\n",
        "\n",
        "        if random_crop:\n",
        "            img = tf.image.random_crop(img, (inp_size, inp_size, shape[2]))\n",
        "        else: # central crop\n",
        "            shape = tf.shape(img)\n",
        "            ho = (shape[0] - inp_size) // 2\n",
        "            wo = (shape[1] - inp_size) // 2\n",
        "            img = img[ho:ho+inp_size, wo:wo+inp_size, :]\n",
        "\n",
        "        return img\n",
        "\n",
        "    def train_dataset(self, batch_size, epochs, inp_size):\n",
        "\n",
        "        def item_to_images(item):\n",
        "            random_crop = True\n",
        "            img_combined = tf.py_function(self.read_images, [item], tf.uint8)\n",
        "            img_combined = self.crop_images(img_combined, inp_size, random_crop)\n",
        "\n",
        "            img = tf.cast(img_combined[...,:3], tf.float32) / np.float32(255.)\n",
        "            mask_class = tf.cast(img_combined[...,3:4], tf.float32)\n",
        "            return img, mask_class\n",
        "\n",
        "        dataset = tf.data.Dataset.from_tensor_slices(self.img_list)\n",
        "        dataset = dataset.shuffle(buffer_size=len(self.img_list))\n",
        "        dataset = dataset.map(item_to_images)\n",
        "        dataset = dataset.repeat(epochs)\n",
        "        dataset = dataset.batch(batch_size, drop_remainder=True)\n",
        "\n",
        "        return dataset\n",
        "\n",
        "    def val_dataset(self, batch_size, inp_size):\n",
        "\n",
        "        def item_to_images(item):\n",
        "            random_crop = False\n",
        "            img_combined = tf.py_function(self.read_images, [item], tf.uint8)\n",
        "            img_combined = self.crop_images(img_combined, inp_size, random_crop)\n",
        "\n",
        "            img = tf.cast(img_combined[...,:3], tf.float32) / np.float32(255.)\n",
        "            mask_class = tf.cast(img_combined[...,3:4], tf.float32)\n",
        "            return img, mask_class\n",
        "\n",
        "        dataset = tf.data.Dataset.from_tensor_slices(self.img_list)\n",
        "        dataset = dataset.map(item_to_images)\n",
        "        dataset = dataset.batch(batch_size, drop_remainder=True)\n",
        "\n",
        "        return dataset"
      ],
      "execution_count": null,
      "outputs": []
    },
    {
      "cell_type": "code",
      "metadata": {
        "id": "aueVIu2HHsdJ"
      },
      "source": [
        "import os.path"
      ],
      "execution_count": null,
      "outputs": []
    },
    {
      "cell_type": "code",
      "metadata": {
        "id": "u69VNClWHsaH"
      },
      "source": [
        "class COCO_Dataset(Dataset):\n",
        "\n",
        "    def __init__(self, sublist):\n",
        "        ann_file_fpath = os.path.join(COCO_ROOT, 'annotations', 'instances_'+sublist+'2017.json')\n",
        "        self.coco = COCO(ann_file_fpath)\n",
        "        self.cat_ids = self.coco.getCatIds(catNms=['person'])\n",
        "        img_cand_list = self.coco.getImgIds(catIds=self.cat_ids)\n",
        "        self.img_list = []\n",
        "        for im in img_cand_list:\n",
        "            if len(self.img_list) < 3200:\n",
        "                # img_id = int(im.numpy())\n",
        "                img_data = self.coco.loadImgs(im)[0]\n",
        "                img_fname = '/'.join(img_data['coco_url'].split('/')[-2:])\n",
        "\n",
        "                if os.path.isfile(os.path.join(COCO_ROOT, img_fname)):\n",
        "                    self.img_list.append(im)\n",
        "            else:\n",
        "                break\n",
        "\n",
        "    def read_images(self, img_id):\n",
        "        img_id = int(img_id.numpy())\n",
        "        img_data = self.coco.loadImgs(img_id)[0]\n",
        "        img_fname = '/'.join(img_data['coco_url'].split('/')[-2:])\n",
        "\n",
        "        img = io.imread(os.path.join(COCO_ROOT, img_fname))\n",
        "        if len(img.shape) == 2:\n",
        "            img = np.tile(img[..., None], (1, 1, 3))\n",
        "\n",
        "        ann_ids = self.coco.getAnnIds(imgIds=img_data['id'], catIds=self.cat_ids, iscrowd=None)\n",
        "        anns = self.coco.loadAnns(ann_ids)\n",
        "        mask_class = np.zeros((img.shape[0], img.shape[1]), dtype=np.uint8)\n",
        "        for i in range(len(anns)):\n",
        "            mask_class += self.coco.annToMask(anns[i])\n",
        "        mask_class = (mask_class > 0).astype(np.uint8)\n",
        "\n",
        "        img_combined = np.concatenate([img, mask_class[..., None]], axis=2)\n",
        "\n",
        "        return img_combined"
      ],
      "execution_count": null,
      "outputs": []
    },
    {
      "cell_type": "code",
      "metadata": {
        "id": "KYt_O_6IPcdN",
        "colab": {
          "base_uri": "https://localhost:8080/"
        },
        "outputId": "6b471f39-2734-406d-d6a7-16eabf566cc6"
      },
      "source": [
        "COCO_dataset_train = COCO_Dataset('train')\n",
        "COCO_dataset_val = COCO_Dataset('val')"
      ],
      "execution_count": null,
      "outputs": [
        {
          "output_type": "stream",
          "text": [
            "loading annotations into memory...\n",
            "Done (t=16.10s)\n",
            "creating index...\n",
            "index created!\n",
            "loading annotations into memory...\n",
            "Done (t=2.53s)\n",
            "creating index...\n",
            "index created!\n"
          ],
          "name": "stdout"
        }
      ]
    },
    {
      "cell_type": "code",
      "metadata": {
        "id": "_aPOdCchPcaS"
      },
      "source": [
        "len(COCO_dataset_train.img_list), len(COCO_dataset_train.cat_ids)"
      ],
      "execution_count": null,
      "outputs": []
    },
    {
      "cell_type": "code",
      "metadata": {
        "id": "mAI7vfC5PcXR"
      },
      "source": [
        "NUM_EPOCHS = 2\n",
        "BATCH_SIZE = 16"
      ],
      "execution_count": null,
      "outputs": []
    },
    {
      "cell_type": "code",
      "metadata": {
        "id": "QGA5MtUOPcUW"
      },
      "source": [
        "train_ds = COCO_dataset_train.train_dataset(BATCH_SIZE, NUM_EPOCHS, 256)\n",
        "val_ds = COCO_dataset_val.val_dataset(BATCH_SIZE, 256)"
      ],
      "execution_count": null,
      "outputs": []
    },
    {
      "cell_type": "code",
      "metadata": {
        "id": "R2M4LgkUPcRc"
      },
      "source": [
        "# U-Net\n",
        "def build_model():\n",
        "    x = tf.keras.layers.Input((256, 256, 3))\n",
        "    \n",
        "    out = tf.keras.layers.Conv2D(64, (3, 3), padding='same', activation='relu')(x)\n",
        "    out1 = tf.keras.layers.Conv2D(64, (3, 3), padding='same', activation='relu')(out)\n",
        "    out = tf.keras.layers.MaxPool2D((2, 2))(out1)\n",
        "\n",
        "    out = tf.keras.layers.Conv2D(64, (3, 3), padding='same', activation='relu')(out)\n",
        "    out2 = tf.keras.layers.Conv2D(128, (3, 3), padding='same', activation='relu')(out)\n",
        "    out = tf.keras.layers.MaxPool2D((2, 2))(out2)\n",
        "\n",
        "    out = tf.keras.layers.Conv2D(256, (3, 3), padding='same', activation='relu')(out)\n",
        "    out3 = tf.keras.layers.Conv2D(256, (3, 3), padding='same', activation='relu')(out)\n",
        "    out = tf.keras.layers.MaxPool2D((2, 2))(out3)\n",
        "\n",
        "    out = tf.keras.layers.Conv2D(512, (3, 3), padding='same', activation='relu')(out)\n",
        "    out4 = tf.keras.layers.Conv2D(512, (3, 3), padding='same', activation='relu')(out)\n",
        "    out = tf.keras.layers.MaxPool2D((2, 2))(out4)\n",
        "\n",
        "    out = tf.keras.layers.Conv2D(1024, (3, 3), padding='same', activation='relu')(out)\n",
        "    out = tf.keras.layers.Conv2D(1024, (3, 3), padding='same', activation='relu')(out)\n",
        "\n",
        "    out = tf.keras.layers.Conv2DTranspose(512, (3, 3), strides=(2, 2), padding='same', activation='relu')(out)\n",
        "    out = tf.concat([out4, out], axis=3)\n",
        "\n",
        "    out = tf.keras.layers.Conv2D(512, (3, 3), padding='same', activation='relu')(out)\n",
        "    out = tf.keras.layers.Conv2D(512, (3, 3), padding='same', activation='relu')(out)\n",
        "\n",
        "    out = tf.keras.layers.Conv2DTranspose(256, (3, 3), strides=(2, 2), padding='same', activation='relu')(out)\n",
        "    out = tf.concat([out3, out], axis=3)\n",
        "\n",
        "    out = tf.keras.layers.Conv2D(256, (3, 3), padding='same', activation='relu')(out)\n",
        "    out = tf.keras.layers.Conv2D(256, (3, 3), padding='same', activation='relu')(out)\n",
        "\n",
        "    out = tf.keras.layers.Conv2DTranspose(128, (3, 3), strides=(2, 2), padding='same', activation='relu')(out)\n",
        "    out = tf.concat([out2, out], axis=3)\n",
        "\n",
        "    out = tf.keras.layers.Conv2D(128, (3, 3), padding='same', activation='relu')(out)\n",
        "    out = tf.keras.layers.Conv2D(128, (3, 3), padding='same', activation='relu')(out)\n",
        "\n",
        "    out = tf.keras.layers.Conv2DTranspose(64, (3, 3), strides=(2, 2), padding='same', activation='relu')(out)\n",
        "    out = tf.concat([out1, out], axis=3)\n",
        "\n",
        "    out = tf.keras.layers.Conv2D(64, (3, 3), padding='same', activation='relu')(out)\n",
        "    out = tf.keras.layers.Conv2D(64, (3, 3), padding='same', activation='relu')(out)\n",
        "    out = tf.keras.layers.Conv2D(1, (3, 3), padding='same', activation='sigmoid')(out)\n",
        "\n",
        "    return tf.keras.Model(inputs=x, outputs=out)\n",
        "\n",
        "model = build_model()"
      ],
      "execution_count": null,
      "outputs": []
    },
    {
      "cell_type": "code",
      "metadata": {
        "id": "lRF6xv3rPcOb"
      },
      "source": [
        "loss = tf.keras.losses.BinaryCrossentropy()\n",
        "model.compile(optimizer='adam', loss=loss, metrics=['accuracy'])\n",
        "\n",
        "EXP_NAME = 'transfer'\n",
        "\n",
        "tensorboard_callback = tf.keras.callbacks.TensorBoard(\n",
        "    log_dir='logs/'+EXP_NAME, \n",
        "    write_graph=False, update_freq=100, profile_batch=0)"
      ],
      "execution_count": null,
      "outputs": []
    },
    {
      "cell_type": "code",
      "metadata": {
        "id": "0vWhHTT3PmF_",
        "colab": {
          "base_uri": "https://localhost:8080/"
        },
        "outputId": "5f72cca7-f725-460a-e76d-95688599f504"
      },
      "source": [
        "hist = model.fit(train_ds, \n",
        "                 batch_size=BATCH_SIZE, \n",
        "                 validation_data=val_ds, \n",
        "                 epochs=NUM_EPOCHS, \n",
        "                 callbacks=[tensorboard_callback])"
      ],
      "execution_count": null,
      "outputs": [
        {
          "output_type": "stream",
          "text": [
            "Epoch 1/2\n",
            "116/400 [=======>......................] - ETA: 5:27 - loss: 0.5140 - accuracy: 0.7762"
          ],
          "name": "stdout"
        }
      ]
    },
    {
      "cell_type": "code",
      "metadata": {
        "id": "MFdU3n8DPmCi"
      },
      "source": [
        "model.evaluate(val_ds)"
      ],
      "execution_count": null,
      "outputs": []
    },
    {
      "cell_type": "code",
      "metadata": {
        "id": "VTZU1HcmPl_X"
      },
      "source": [
        ""
      ],
      "execution_count": null,
      "outputs": []
    },
    {
      "cell_type": "code",
      "metadata": {
        "id": "Zo74fYf3Pl8e"
      },
      "source": [
        ""
      ],
      "execution_count": null,
      "outputs": []
    },
    {
      "cell_type": "code",
      "metadata": {
        "id": "QVeeQ4JoPl5l"
      },
      "source": [
        ""
      ],
      "execution_count": null,
      "outputs": []
    },
    {
      "cell_type": "code",
      "metadata": {
        "id": "esvVl9DuPl2h"
      },
      "source": [
        ""
      ],
      "execution_count": null,
      "outputs": []
    },
    {
      "cell_type": "code",
      "metadata": {
        "id": "-GwPwRRfPlzo"
      },
      "source": [
        ""
      ],
      "execution_count": null,
      "outputs": []
    },
    {
      "cell_type": "code",
      "metadata": {
        "id": "I1EvfskrPlwm"
      },
      "source": [
        ""
      ],
      "execution_count": null,
      "outputs": []
    },
    {
      "cell_type": "code",
      "metadata": {
        "id": "jY6CBK9TPltm"
      },
      "source": [
        ""
      ],
      "execution_count": null,
      "outputs": []
    },
    {
      "cell_type": "code",
      "metadata": {
        "id": "HgnGCbcGPlqC"
      },
      "source": [
        ""
      ],
      "execution_count": null,
      "outputs": []
    }
  ]
}