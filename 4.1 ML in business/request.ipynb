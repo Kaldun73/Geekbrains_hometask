{
 "cells": [
  {
   "cell_type": "code",
   "execution_count": 1,
   "metadata": {},
   "outputs": [],
   "source": [
    "import requests\n"
   ]
  },
  {
   "cell_type": "code",
   "execution_count": 6,
   "metadata": {},
   "outputs": [
    {
     "name": "stdout",
     "output_type": "stream",
     "text": [
      "{'ID': 1, 'p0': 0.8845987495539189, 'p1': 0.11540125044608107, 'predict': 1.0}\n"
     ]
    }
   ],
   "source": [
    "# Пример данных\n",
    "data = {\n",
    "    \"ID\": 1,\n",
    "    \"LicAge\": 450,\n",
    "    \"RecordBeg\": \"2004-01-01\",\n",
    "    \"RecordEnd\": \"\",\n",
    "    \"VehAge\": \"\",\n",
    "    \"Gender\": \"Male\",\n",
    "    \"MariStat\": \"Other\",\n",
    "    \"SocioCateg\": \"CSP20\",\n",
    "    \"VehUsage\": \"Private\",\n",
    "    \"DrivAge\": 21,\n",
    "    \"HasKmLimit\": 0,\n",
    "    \"BonusMalus\": 97,\n",
    "    \"OutUseNb\": 0,\n",
    "    \"RiskArea\": 0\n",
    "}\n",
    "\n",
    "# формируем запрос\n",
    "def send_json(data):\n",
    "    url = 'http://f5d451f27293.ngrok.io/predict'\n",
    "    headers = {'content-type': 'application/json'}\n",
    "    response = requests.post(url, json=data, headers=headers)\n",
    "    return response\n",
    "\n",
    "# обращение к серверу\n",
    "if __name__ == '__main__':\n",
    "    response = send_json(data)\n",
    "    print(response.json())"
   ]
  },
  {
   "cell_type": "code",
   "execution_count": null,
   "metadata": {},
   "outputs": [],
   "source": []
  }
 ],
 "metadata": {
  "kernelspec": {
   "display_name": "Python 3",
   "language": "python",
   "name": "python3"
  },
  "language_info": {
   "codemirror_mode": {
    "name": "ipython",
    "version": 3
   },
   "file_extension": ".py",
   "mimetype": "text/x-python",
   "name": "python",
   "nbconvert_exporter": "python",
   "pygments_lexer": "ipython3",
   "version": "3.7.6"
  }
 },
 "nbformat": 4,
 "nbformat_minor": 4
}
