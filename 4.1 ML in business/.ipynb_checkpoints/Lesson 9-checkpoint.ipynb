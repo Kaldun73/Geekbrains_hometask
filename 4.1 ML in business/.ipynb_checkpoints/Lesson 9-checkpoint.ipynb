{
 "cells": [
  {
   "cell_type": "code",
   "execution_count": 1,
   "metadata": {},
   "outputs": [],
   "source": [
    "from flask_ngrok import run_with_ngrok\n",
    "from flask import Flask, request, jsonify\n",
    "import pandas as pd"
   ]
  },
  {
   "cell_type": "code",
   "execution_count": 2,
   "metadata": {},
   "outputs": [
    {
     "name": "stdout",
     "output_type": "stream",
     "text": [
      "Checking whether there is an H2O instance running at http://localhost:54321 . connected.\n"
     ]
    },
    {
     "data": {
      "text/html": [
       "<div style=\"overflow:auto\"><table style=\"width:50%\"><tr><td>H2O_cluster_uptime:</td>\n",
       "<td>4 mins 28 secs</td></tr>\n",
       "<tr><td>H2O_cluster_timezone:</td>\n",
       "<td>Europe/Moscow</td></tr>\n",
       "<tr><td>H2O_data_parsing_timezone:</td>\n",
       "<td>UTC</td></tr>\n",
       "<tr><td>H2O_cluster_version:</td>\n",
       "<td>3.30.1.3</td></tr>\n",
       "<tr><td>H2O_cluster_version_age:</td>\n",
       "<td>1 month and 30 days </td></tr>\n",
       "<tr><td>H2O_cluster_name:</td>\n",
       "<td>H2O_from_python_vladi_pliudb</td></tr>\n",
       "<tr><td>H2O_cluster_total_nodes:</td>\n",
       "<td>1</td></tr>\n",
       "<tr><td>H2O_cluster_free_memory:</td>\n",
       "<td>1.728 Gb</td></tr>\n",
       "<tr><td>H2O_cluster_total_cores:</td>\n",
       "<td>12</td></tr>\n",
       "<tr><td>H2O_cluster_allowed_cores:</td>\n",
       "<td>12</td></tr>\n",
       "<tr><td>H2O_cluster_status:</td>\n",
       "<td>locked, healthy</td></tr>\n",
       "<tr><td>H2O_connection_url:</td>\n",
       "<td>http://localhost:54321</td></tr>\n",
       "<tr><td>H2O_connection_proxy:</td>\n",
       "<td>{\"http\": null, \"https\": null}</td></tr>\n",
       "<tr><td>H2O_internal_security:</td>\n",
       "<td>False</td></tr>\n",
       "<tr><td>H2O_API_Extensions:</td>\n",
       "<td>Amazon S3, Algos, AutoML, Core V3, TargetEncoder, Core V4</td></tr>\n",
       "<tr><td>Python_version:</td>\n",
       "<td>3.7.6 final</td></tr></table></div>"
      ],
      "text/plain": [
       "--------------------------  ---------------------------------------------------------\n",
       "H2O_cluster_uptime:         4 mins 28 secs\n",
       "H2O_cluster_timezone:       Europe/Moscow\n",
       "H2O_data_parsing_timezone:  UTC\n",
       "H2O_cluster_version:        3.30.1.3\n",
       "H2O_cluster_version_age:    1 month and 30 days\n",
       "H2O_cluster_name:           H2O_from_python_vladi_pliudb\n",
       "H2O_cluster_total_nodes:    1\n",
       "H2O_cluster_free_memory:    1.728 Gb\n",
       "H2O_cluster_total_cores:    12\n",
       "H2O_cluster_allowed_cores:  12\n",
       "H2O_cluster_status:         locked, healthy\n",
       "H2O_connection_url:         http://localhost:54321\n",
       "H2O_connection_proxy:       {\"http\": null, \"https\": null}\n",
       "H2O_internal_security:      False\n",
       "H2O_API_Extensions:         Amazon S3, Algos, AutoML, Core V3, TargetEncoder, Core V4\n",
       "Python_version:             3.7.6 final\n",
       "--------------------------  ---------------------------------------------------------"
      ]
     },
     "metadata": {},
     "output_type": "display_data"
    }
   ],
   "source": [
    "import h2o\n",
    "h2o.init()"
   ]
  },
  {
   "cell_type": "code",
   "execution_count": 3,
   "metadata": {},
   "outputs": [],
   "source": [
    "PATH_TO_MODEL = 'GLM_model_python_1605962095409_3'\n",
    "model_glm_binomial = h2o.load_model(PATH_TO_MODEL)"
   ]
  },
  {
   "cell_type": "code",
   "execution_count": 4,
   "metadata": {},
   "outputs": [],
   "source": [
    "#def return_NewH2o_Frame():\n",
    "#  columns = ['Exposure', 'LicAge', 'DrivAge', 'HasKmLimit', 'BonusMalus', 'Dataset']\n",
    "#  return h2o.H2OFrame([[0,0,0,0,0,0]], column_names = columns)"
   ]
  },
  {
   "cell_type": "code",
   "execution_count": 5,
   "metadata": {},
   "outputs": [
    {
     "name": "stdout",
     "output_type": "stream",
     "text": [
      " * Serving Flask app \"__main__\" (lazy loading)\n",
      " * Environment: production\n",
      "   WARNING: This is a development server. Do not use it in a production deployment.\n",
      "   Use a production WSGI server instead.\n",
      " * Debug mode: off\n"
     ]
    },
    {
     "name": "stderr",
     "output_type": "stream",
     "text": [
      "INFO:werkzeug: * Running on http://127.0.0.1:5000/ (Press CTRL+C to quit)\n"
     ]
    },
    {
     "name": "stdout",
     "output_type": "stream",
     "text": [
      " * Running on http://f5d451f27293.ngrok.io\n",
      " * Traffic stats available on http://127.0.0.1:4040\n",
      "{'ID': 1, 'LicAge': 450, 'RecordBeg': '2004-01-01', 'RecordEnd': '', 'VehAge': '', 'Gender': 'Male', 'MariStat': 'Other', 'SocioCateg': 'CSP20', 'VehUsage': 'Private', 'DrivAge': 21, 'HasKmLimit': 0, 'BonusMalus': 97, 'OutUseNb': 0, 'RiskArea': 0}\n",
      "Parse progress: |█████████████████████████████████████████████████████████| 100%\n",
      "glm prediction progress: |████████████████████████████████████████████████| 100%\n"
     ]
    },
    {
     "name": "stderr",
     "output_type": "stream",
     "text": [
      "C:\\Users\\vladi\\anaconda3\\lib\\site-packages\\h2o\\job.py:70: UserWarning: Test/Validation dataset is missing column 'driver_minage_m': substituting in a column of NaN\n",
      "  warnings.warn(w)\n",
      "C:\\Users\\vladi\\anaconda3\\lib\\site-packages\\h2o\\job.py:70: UserWarning: Test/Validation dataset is missing column 'driver_minage_f': substituting in a column of NaN\n",
      "  warnings.warn(w)\n",
      "C:\\Users\\vladi\\anaconda3\\lib\\site-packages\\h2o\\job.py:70: UserWarning: Test/Validation dataset is missing column 'driver_minage_m_2': substituting in a column of NaN\n",
      "  warnings.warn(w)\n",
      "C:\\Users\\vladi\\anaconda3\\lib\\site-packages\\h2o\\job.py:70: UserWarning: Test/Validation dataset is missing column 'driver_minage_f_2': substituting in a column of NaN\n",
      "  warnings.warn(w)\n",
      "C:\\Users\\vladi\\anaconda3\\lib\\site-packages\\h2o\\job.py:70: UserWarning: Test/Validation dataset is missing column 'VehUsage_Private': substituting in a column of NaN\n",
      "  warnings.warn(w)\n",
      "C:\\Users\\vladi\\anaconda3\\lib\\site-packages\\h2o\\job.py:70: UserWarning: Test/Validation dataset is missing column 'VehUsage_Private+trip to office': substituting in a column of NaN\n",
      "  warnings.warn(w)\n",
      "C:\\Users\\vladi\\anaconda3\\lib\\site-packages\\h2o\\job.py:70: UserWarning: Test/Validation dataset is missing column 'VehUsage_Professional': substituting in a column of NaN\n",
      "  warnings.warn(w)\n",
      "C:\\Users\\vladi\\anaconda3\\lib\\site-packages\\h2o\\job.py:70: UserWarning: Test/Validation dataset is missing column 'VehUsage_Professional run': substituting in a column of NaN\n",
      "  warnings.warn(w)\n",
      "C:\\Users\\vladi\\anaconda3\\lib\\site-packages\\h2o\\job.py:70: UserWarning: Test/Validation dataset is missing column 'SocioCateg_CSP1': substituting in a column of NaN\n",
      "  warnings.warn(w)\n",
      "C:\\Users\\vladi\\anaconda3\\lib\\site-packages\\h2o\\job.py:70: UserWarning: Test/Validation dataset is missing column 'SocioCateg_CSP2': substituting in a column of NaN\n",
      "  warnings.warn(w)\n",
      "C:\\Users\\vladi\\anaconda3\\lib\\site-packages\\h2o\\job.py:70: UserWarning: Test/Validation dataset is missing column 'SocioCateg_CSP3': substituting in a column of NaN\n",
      "  warnings.warn(w)\n",
      "C:\\Users\\vladi\\anaconda3\\lib\\site-packages\\h2o\\job.py:70: UserWarning: Test/Validation dataset is missing column 'SocioCateg_CSP4': substituting in a column of NaN\n",
      "  warnings.warn(w)\n",
      "C:\\Users\\vladi\\anaconda3\\lib\\site-packages\\h2o\\job.py:70: UserWarning: Test/Validation dataset is missing column 'SocioCateg_CSP5': substituting in a column of NaN\n",
      "  warnings.warn(w)\n",
      "C:\\Users\\vladi\\anaconda3\\lib\\site-packages\\h2o\\job.py:70: UserWarning: Test/Validation dataset is missing column 'SocioCateg_CSP6': substituting in a column of NaN\n",
      "  warnings.warn(w)\n",
      "INFO:werkzeug:127.0.0.1 - - [28/Nov/2020 13:01:00] \"POST /predict HTTP/1.1\" 200 -\n",
      "INFO:werkzeug:127.0.0.1 - - [28/Nov/2020 13:01:01] \"GET / HTTP/1.1\" 404 -\n"
     ]
    },
    {
     "name": "stdout",
     "output_type": "stream",
     "text": [
      "None\n"
     ]
    },
    {
     "name": "stderr",
     "output_type": "stream",
     "text": [
      "INFO:werkzeug:127.0.0.1 - - [28/Nov/2020 13:02:02] \"GET /predict HTTP/1.1\" 200 -\n"
     ]
    },
    {
     "name": "stdout",
     "output_type": "stream",
     "text": [
      "{'ID': 1, 'LicAge': 450, 'RecordBeg': '2004-01-01', 'RecordEnd': '', 'VehAge': '', 'Gender': 'Male', 'MariStat': 'Other', 'SocioCateg': 'CSP20', 'VehUsage': 'Private', 'DrivAge': 21, 'HasKmLimit': 0, 'BonusMalus': 97, 'OutUseNb': 0, 'RiskArea': 0}\n",
      "Parse progress: |█████████████████████████████████████████████████████████| 100%\n",
      "glm prediction progress: |████████████████████████████████████████████████| 100%\n",
      "None\n"
     ]
    },
    {
     "name": "stderr",
     "output_type": "stream",
     "text": [
      "INFO:werkzeug:127.0.0.1 - - [28/Nov/2020 13:02:29] \"GET /predict HTTP/1.1\" 200 -\n"
     ]
    },
    {
     "name": "stdout",
     "output_type": "stream",
     "text": [
      "None\n"
     ]
    },
    {
     "name": "stderr",
     "output_type": "stream",
     "text": [
      "INFO:werkzeug:127.0.0.1 - - [28/Nov/2020 13:02:31] \"GET /predict HTTP/1.1\" 200 -\n",
      "INFO:werkzeug:127.0.0.1 - - [28/Nov/2020 13:02:36] \"POST /predict HTTP/1.1\" 200 -\n"
     ]
    },
    {
     "name": "stdout",
     "output_type": "stream",
     "text": [
      "None\n"
     ]
    },
    {
     "name": "stderr",
     "output_type": "stream",
     "text": [
      "INFO:werkzeug:127.0.0.1 - - [28/Nov/2020 13:02:41] \"GET /predict HTTP/1.1\" 200 -\n"
     ]
    },
    {
     "name": "stdout",
     "output_type": "stream",
     "text": [
      "None\n"
     ]
    },
    {
     "name": "stderr",
     "output_type": "stream",
     "text": [
      "INFO:werkzeug:127.0.0.1 - - [28/Nov/2020 13:02:43] \"GET /predict HTTP/1.1\" 200 -\n",
      "INFO:werkzeug:127.0.0.1 - - [28/Nov/2020 13:02:47] \"GET / HTTP/1.1\" 404 -\n"
     ]
    },
    {
     "name": "stdout",
     "output_type": "stream",
     "text": [
      "None\n"
     ]
    },
    {
     "name": "stderr",
     "output_type": "stream",
     "text": [
      "INFO:werkzeug:127.0.0.1 - - [28/Nov/2020 13:02:56] \"GET /predict HTTP/1.1\" 200 -\n"
     ]
    },
    {
     "name": "stdout",
     "output_type": "stream",
     "text": [
      "{'ID': 1, 'LicAge': 450, 'RecordBeg': '2004-01-01', 'RecordEnd': '', 'VehAge': '', 'Gender': 'Male', 'MariStat': 'Other', 'SocioCateg': 'CSP20', 'VehUsage': 'Private', 'DrivAge': 21, 'HasKmLimit': 0, 'BonusMalus': 97, 'OutUseNb': 0, 'RiskArea': 0}\n",
      "Parse progress: |█████████████████████████████████████████████████████████| 100%\n",
      "glm prediction progress: |████████████████████████████████████████████████| 100%\n"
     ]
    },
    {
     "name": "stderr",
     "output_type": "stream",
     "text": [
      "INFO:werkzeug:127.0.0.1 - - [28/Nov/2020 13:03:52] \"POST /predict HTTP/1.1\" 200 -\n"
     ]
    },
    {
     "name": "stdout",
     "output_type": "stream",
     "text": [
      "None\n"
     ]
    },
    {
     "name": "stderr",
     "output_type": "stream",
     "text": [
      "INFO:werkzeug:127.0.0.1 - - [28/Nov/2020 13:06:54] \"GET /predict HTTP/1.1\" 200 -\n",
      "INFO:werkzeug:127.0.0.1 - - [28/Nov/2020 13:07:28] \"POST / HTTP/1.1\" 404 -\n",
      "INFO:werkzeug:127.0.0.1 - - [28/Nov/2020 13:07:38] \"POST /a HTTP/1.1\" 404 -\n"
     ]
    },
    {
     "name": "stdout",
     "output_type": "stream",
     "text": [
      "{'ID': 1, 'LicAge': 450, 'RecordBeg': '2004-01-01', 'RecordEnd': '', 'VehAge': '', 'Gender': 'Male', 'MariStat': 'Other', 'SocioCateg': 'CSP20', 'VehUsage': 'Private', 'DrivAge': 21, 'HasKmLimit': 0, 'BonusMalus': 97, 'OutUseNb': 0, 'RiskArea': 0}\n",
      "Parse progress: |█████████████████████████████████████████████████████████| 100%\n",
      "glm prediction progress: |████████████████████████████████████████████████| 100%\n"
     ]
    },
    {
     "name": "stderr",
     "output_type": "stream",
     "text": [
      "INFO:werkzeug:127.0.0.1 - - [28/Nov/2020 13:08:15] \"POST /predict HTTP/1.1\" 200 -\n"
     ]
    },
    {
     "name": "stdout",
     "output_type": "stream",
     "text": [
      "None\n"
     ]
    },
    {
     "name": "stderr",
     "output_type": "stream",
     "text": [
      "INFO:werkzeug:127.0.0.1 - - [28/Nov/2020 13:09:31] \"GET /predict HTTP/1.1\" 200 -\n",
      "INFO:werkzeug:127.0.0.1 - - [28/Nov/2020 13:09:35] \"GET / HTTP/1.1\" 404 -\n",
      "INFO:werkzeug:127.0.0.1 - - [28/Nov/2020 13:09:39] \"GET /a HTTP/1.1\" 404 -\n",
      "INFO:werkzeug:127.0.0.1 - - [28/Nov/2020 13:09:40] \"GET /a HTTP/1.1\" 404 -\n"
     ]
    },
    {
     "name": "stdout",
     "output_type": "stream",
     "text": [
      "None\n"
     ]
    },
    {
     "name": "stderr",
     "output_type": "stream",
     "text": [
      "INFO:werkzeug:127.0.0.1 - - [28/Nov/2020 13:09:44] \"GET /predict HTTP/1.1\" 200 -\n"
     ]
    },
    {
     "name": "stdout",
     "output_type": "stream",
     "text": [
      "None\n"
     ]
    },
    {
     "name": "stderr",
     "output_type": "stream",
     "text": [
      "INFO:werkzeug:127.0.0.1 - - [28/Nov/2020 13:09:46] \"GET /predict HTTP/1.1\" 200 -\n",
      "INFO:werkzeug:127.0.0.1 - - [28/Nov/2020 13:09:47] \"GET /favicon.ico HTTP/1.1\" 404 -\n"
     ]
    }
   ],
   "source": [
    "# Обработчики и запуск Flask\n",
    "app = Flask(__name__)\n",
    "run_with_ngrok(app)  # Start ngrok when app is run\n",
    "\n",
    "def map_for_dict_Gender(Gender):\n",
    "  dict_Gender = {'Male':0, 'Female':1}\n",
    "  res = dict_Gender.get(Gender)\n",
    "  return res\n",
    "\n",
    "def map_for_dict_MariStat(MariStat):\n",
    "  dict_MariStat = {'Other':0, 'Alone':1}\n",
    "  res = dict_MariStat.get(MariStat)\n",
    "  return res\n",
    "\n",
    "def f_VehUsage_Professional(VehUsage):\n",
    "  if VehUsage == 'Professional':\n",
    "    VehUsage_Professional = 1\n",
    "  else:\n",
    "    VehUsage_Professional = 0\n",
    "  return(VehUsage_Professional)\n",
    "\n",
    "def f_VehUsage_Private_trip_to_office(VehUsage):\n",
    "  if VehUsage == 'Private+trip to office':\n",
    "    VehUsage_Private_trip_to_office = 1\n",
    "  else:\n",
    "    VehUsage_Private_trip_to_office = 0\n",
    "  return(VehUsage_Private_trip_to_office)\n",
    "\n",
    "def f_VehUsage_Private(VehUsage):\n",
    "  if VehUsage == 'Private':\n",
    "    VehUsage_Private = 1\n",
    "  else:\n",
    "    VehUsage_Privatel = 0\n",
    "  return(VehUsage_Private)\n",
    "\n",
    "def f_VehUsage_Professional_run(VehUsage):\n",
    "  if VehUsage == 'Professional run':\n",
    "    VehUsage_Professional_run = 1\n",
    "  else:\n",
    "    VehUsage_Professional_run = 0\n",
    "  return(VehUsage_Professional_run)\n",
    "\n",
    "def return_NewH2o_Frame():\n",
    "  columns = [\n",
    "      'LicAge',\n",
    "      'Gender',\n",
    "      'MariStat',\n",
    "      'DrivAge',\n",
    "      'HasKmLimit',\n",
    "      'BonusMalus',\n",
    "      'OutUseNb',\n",
    "      'RiskArea',\n",
    "      'VehUsg_Private',\n",
    "      'VehUsg_Private+trip to office',\n",
    "      'VehUsg_Professional',\n",
    "      'VehUsg_Professional run',\n",
    "      'CSP1',\n",
    "      'CSP2',\n",
    "      'CSP3',\n",
    "      'CSP6',\n",
    "      'CSP7',\n",
    "      'CSP20',\n",
    "      'CSP21',\n",
    "      'CSP22',\n",
    "      'CSP26',\n",
    "      'CSP37',\n",
    "      'CSP40',\n",
    "      'CSP42',\n",
    "      'CSP46',\n",
    "      'CSP47',\n",
    "      'CSP48',\n",
    "      'CSP49',\n",
    "      'CSP50',\n",
    "      'CSP55',\n",
    "      'CSP56',\n",
    "      'CSP57',\n",
    "      'CSP60',\n",
    "      'CSP65',\n",
    "      'CSP66'\n",
    "      ]\n",
    "  return h2o.H2OFrame([[0,0,0,0,0,0,0,0,0,0,0,0,0,0,0,0,0,0,0,0,0,0,0,0,0,0,0,0,0,0,0,0,0,0,0]], column_names = columns)\n",
    "\n",
    "\n",
    "@app.route('/predict', methods=['GET', 'POST'])\n",
    "def predict3():\n",
    "\n",
    "    try:\n",
    "\n",
    "      json_input = request.json\n",
    "      \n",
    "      print(json_input)\n",
    "      ID = json_input[\"ID\"]\n",
    "      LicAge = json_input[\"LicAge\"]\n",
    "      Gender = map_for_dict_Gender(json_input[\"Gender\"])\n",
    "      MariStat = map_for_dict_MariStat(json_input[\"MariStat\"])\n",
    "      DrivAge = json_input[\"DrivAge\"]\n",
    "      HasKmLimit = json_input[\"HasKmLimit\"]\n",
    "      BonusMalus = json_input[\"BonusMalus\"]\n",
    "      OutUseNb = json_input[\"OutUseNb\"]\n",
    "      RiskArea = json_input[\"RiskArea\"]\n",
    "      VehUsg_Private = f_VehUsage_Private(json_input[\"VehUsage\"])\n",
    "      VehUsg_Private_trip_to_office = f_VehUsage_Private_trip_to_office(json_input[\"VehUsage\"])\n",
    "      VehUsg_Professional = f_VehUsage_Professional(json_input[\"VehUsage\"])\n",
    "      VehUsg_Professional_run = f_VehUsage_Professional_run(json_input[\"VehUsage\"])\n",
    "      CSP1 = 0\n",
    "      CSP2 = 0\n",
    "      CSP3 = 0\n",
    "      CSP6 = 0\n",
    "      CSP7 = 0\n",
    "      CSP20 = 0\n",
    "      CSP21 = 0\n",
    "      CSP22 = 0\n",
    "      CSP26 = 0\n",
    "      CSP37 = 0\n",
    "      CSP40 = 0\n",
    "      CSP42 = 0\n",
    "      CSP46 = 0\n",
    "      CSP47 = 0\n",
    "      CSP48 = 0\n",
    "      CSP49 = 0\n",
    "      CSP50 = 0\n",
    "      CSP55 = 0\n",
    "      CSP56 = 0\n",
    "      CSP57 = 0\n",
    "      CSP60 = 0\n",
    "      CSP65 = 0\n",
    "      CSP66 = 0\n",
    "\n",
    "      hf = return_NewH2o_Frame()\n",
    "\n",
    "      hf[0, 'LicAge'] = LicAge\n",
    "      hf[0, 'Gender'] = Gender\n",
    "      hf[0, 'MariStat'] = MariStat\n",
    "      hf[0, 'DrivAge'] = DrivAge\n",
    "      hf[0, 'HasKmLimit'] = HasKmLimit\n",
    "      hf[0, 'BonusMalus'] = BonusMalus\n",
    "      hf[0, 'OutUseNb'] = OutUseNb\n",
    "      hf[0, 'RiskArea'] = RiskArea\n",
    "      hf[0, 'VehUsg_Private'] = VehUsg_Private\n",
    "      hf[0, 'VehUsg_Private+trip to office'] = VehUsg_Private_trip_to_office\n",
    "      hf[0, 'VehUsg_Professional'] = VehUsg_Professional\n",
    "      hf[0, 'VehUsg_Professional run'] = VehUsg_Professional_run\n",
    "      hf[0, 'CSP1'] = CSP1\n",
    "      hf[0, 'CSP2'] = CSP2\n",
    "      hf[0, 'CSP3'] = CSP3\n",
    "      hf[0, 'CSP6'] = CSP6\n",
    "      hf[0, 'CSP7'] = CSP7\n",
    "      hf[0, 'CSP20'] = CSP20\n",
    "      hf[0, 'CSP21'] = CSP21\n",
    "      hf[0, 'CSP22'] = CSP22\n",
    "      hf[0, 'CSP26'] = CSP26\n",
    "      hf[0, 'CSP37'] = CSP37\n",
    "      hf[0, 'CSP40'] = CSP40\n",
    "      hf[0, 'CSP42'] = CSP42\n",
    "      hf[0, 'CSP46'] = CSP46\n",
    "      hf[0, 'CSP47'] = CSP47\n",
    "      hf[0, 'CSP48'] = CSP48\n",
    "      hf[0, 'CSP49'] = CSP49\n",
    "      hf[0, 'CSP50'] = CSP50\n",
    "      hf[0, 'CSP55'] = CSP55\n",
    "      hf[0, 'CSP56'] = CSP56\n",
    "      hf[0, 'CSP57'] = CSP57\n",
    "      hf[0, 'CSP60'] = CSP60\n",
    "      hf[0, 'CSP65'] = CSP65\n",
    "      hf[0, 'CSP66'] = CSP66\n",
    "\n",
    "      prediction_binominal = model_glm_binomial.predict(hf)\n",
    "      predict  = prediction_binominal.as_data_frame()['predict'][0]/1\n",
    "      p0 = prediction_binominal.as_data_frame()['p0'][0]\n",
    "      p1 = prediction_binominal.as_data_frame()['p1'][0]\n",
    "\n",
    "      return jsonify({'ID': json_input['ID'], 'predict': predict, 'p0': p0, 'p1': p1})\n",
    "    \n",
    "    except:\n",
    "      \n",
    "      return \"Error\"\n",
    "\n",
    "if __name__ == '__main__':\n",
    "    app.run()"
   ]
  },
  {
   "cell_type": "code",
   "execution_count": 7,
   "metadata": {},
   "outputs": [],
   "source": [
    "h2o.cluster().shutdown()"
   ]
  },
  {
   "cell_type": "code",
   "execution_count": null,
   "metadata": {},
   "outputs": [],
   "source": []
  }
 ],
 "metadata": {
  "kernelspec": {
   "display_name": "Python 3",
   "language": "python",
   "name": "python3"
  },
  "language_info": {
   "codemirror_mode": {
    "name": "ipython",
    "version": 3
   },
   "file_extension": ".py",
   "mimetype": "text/x-python",
   "name": "python",
   "nbconvert_exporter": "python",
   "pygments_lexer": "ipython3",
   "version": "3.7.6"
  }
 },
 "nbformat": 4,
 "nbformat_minor": 4
}
