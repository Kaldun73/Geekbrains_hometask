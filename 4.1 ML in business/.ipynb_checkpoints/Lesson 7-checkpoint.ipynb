{
 "cells": [
  {
   "cell_type": "markdown",
   "metadata": {
    "id": "HrxZEq_-FHNq"
   },
   "source": [
    "# Предобработка данных"
   ]
  },
  {
   "cell_type": "code",
   "execution_count": 1,
   "metadata": {
    "id": "Fj2E6mVkFR10"
   },
   "outputs": [],
   "source": [
    "import numpy as np\n",
    "import pandas as pd\n",
    "pd.options.display.max_columns = 100\n",
    "import matplotlib.pyplot as plt\n",
    "%matplotlib inline\n",
    "import seaborn as sns\n",
    "import plotly.express as px\n",
    "import plotly.graph_objects as go\n",
    "\n",
    "import warnings\n",
    "warnings.simplefilter(\"ignore\")\n",
    "from sklearn.model_selection import train_test_split\n",
    "from sklearn.metrics import accuracy_score, f1_score, confusion_matrix"
   ]
  },
  {
   "cell_type": "markdown",
   "metadata": {
    "id": "7dox3dTJN5JP"
   },
   "source": [
    "## Специфические преобразования"
   ]
  },
  {
   "cell_type": "code",
   "execution_count": 2,
   "metadata": {
    "id": "_Vs8YR9eFgvy"
   },
   "outputs": [],
   "source": [
    "# Загрузим набор данных\n",
    "\n",
    "df = pd.read_csv('freMPL-R.csv', low_memory=False)\n",
    "df = df.loc[df.Dataset.isin([5, 6, 7, 8, 9])]\n",
    "df.drop('Dataset', axis=1, inplace=True)\n",
    "df.dropna(axis=1, how='all', inplace=True)\n",
    "df.drop_duplicates(inplace=True)\n",
    "df.reset_index(drop=True, inplace=True)"
   ]
  },
  {
   "cell_type": "markdown",
   "metadata": {
    "id": "AtfDb_BWWXqQ"
   },
   "source": [
    "В предыдущем уроке мы заметили отрицательную величину убытка для некоторых наблюдений. Заметим, что для всех таких полисов переменная \"ClaimInd\" принимает только значение 0. Поэтому заменим все соответствующие значения \"ClaimAmount\" нулями."
   ]
  },
  {
   "cell_type": "code",
   "execution_count": 3,
   "metadata": {
    "colab": {
     "base_uri": "https://localhost:8080/",
     "height": 221
    },
    "id": "AklwJWsoWnAV",
    "outputId": "5a57e9ec-f0ab-4857-d66b-58227c1fda2b"
   },
   "outputs": [
    {
     "name": "stdout",
     "output_type": "stream",
     "text": [
      "Unique values of ClaimInd: [0]\n"
     ]
    },
    {
     "data": {
      "text/html": [
       "<div>\n",
       "<style scoped>\n",
       "    .dataframe tbody tr th:only-of-type {\n",
       "        vertical-align: middle;\n",
       "    }\n",
       "\n",
       "    .dataframe tbody tr th {\n",
       "        vertical-align: top;\n",
       "    }\n",
       "\n",
       "    .dataframe thead th {\n",
       "        text-align: right;\n",
       "    }\n",
       "</style>\n",
       "<table border=\"1\" class=\"dataframe\">\n",
       "  <thead>\n",
       "    <tr style=\"text-align: right;\">\n",
       "      <th></th>\n",
       "      <th>ClaimAmount</th>\n",
       "      <th>ClaimInd</th>\n",
       "    </tr>\n",
       "  </thead>\n",
       "  <tbody>\n",
       "    <tr>\n",
       "      <th>82</th>\n",
       "      <td>-74.206042</td>\n",
       "      <td>0</td>\n",
       "    </tr>\n",
       "    <tr>\n",
       "      <th>175</th>\n",
       "      <td>-1222.585196</td>\n",
       "      <td>0</td>\n",
       "    </tr>\n",
       "    <tr>\n",
       "      <th>177</th>\n",
       "      <td>-316.288822</td>\n",
       "      <td>0</td>\n",
       "    </tr>\n",
       "    <tr>\n",
       "      <th>363</th>\n",
       "      <td>-666.758610</td>\n",
       "      <td>0</td>\n",
       "    </tr>\n",
       "    <tr>\n",
       "      <th>375</th>\n",
       "      <td>-1201.600604</td>\n",
       "      <td>0</td>\n",
       "    </tr>\n",
       "  </tbody>\n",
       "</table>\n",
       "</div>"
      ],
      "text/plain": [
       "     ClaimAmount  ClaimInd\n",
       "82    -74.206042         0\n",
       "175 -1222.585196         0\n",
       "177  -316.288822         0\n",
       "363  -666.758610         0\n",
       "375 -1201.600604         0"
      ]
     },
     "execution_count": 3,
     "metadata": {},
     "output_type": "execute_result"
    }
   ],
   "source": [
    "NegClaimAmount = df.loc[df.ClaimAmount < 0, ['ClaimAmount','ClaimInd']]\n",
    "print('Unique values of ClaimInd:', NegClaimAmount.ClaimInd.unique())\n",
    "NegClaimAmount.head()"
   ]
  },
  {
   "cell_type": "code",
   "execution_count": 4,
   "metadata": {
    "id": "R7laRWoCYF4V"
   },
   "outputs": [],
   "source": [
    "df.loc[df.ClaimAmount < 0, 'ClaimAmount'] = 0"
   ]
  },
  {
   "cell_type": "markdown",
   "metadata": {
    "id": "XE_3dSsW3J3X"
   },
   "source": [
    "Для моделирования частоты убытков сгенерируем показатель как сумму индикатора того, что убыток произошел (\"ClaimInd\") и количества заявленных убытков по различным видам ущерба за 4 предшествующих года (\"ClaimNbResp\", \"ClaimNbNonResp\", \"ClaimNbParking\", \"ClaimNbFireTheft\", \"ClaimNbWindscreen\").\n",
    "\n",
    "В случаях, если соответствующая величина убытка равняется нулю, сгенерированную частоту также обнулим."
   ]
  },
  {
   "cell_type": "code",
   "execution_count": 9,
   "metadata": {
    "id": "R6rz5Oko3rbr"
   },
   "outputs": [],
   "source": [
    "df['ClaimsCount'] = df.ClaimInd + df.ClaimNbResp + df.ClaimNbNonResp + df.ClaimNbParking + df.ClaimNbFireTheft + df.ClaimNbWindscreen\n",
    "df.loc[df.ClaimAmount == 0, 'ClaimsCount'] = 0\n",
    "df.drop([\"ClaimNbResp\", \"ClaimNbNonResp\", \"ClaimNbParking\", \"ClaimNbFireTheft\", \"ClaimNbWindscreen\"], axis=1, inplace=True)"
   ]
  },
  {
   "cell_type": "code",
   "execution_count": 10,
   "metadata": {
    "colab": {
     "base_uri": "https://localhost:8080/",
     "height": 390
    },
    "id": "cJ5_aqnx4FcZ",
    "outputId": "734f2234-3112-40d2-e980-f50fd64816cd"
   },
   "outputs": [
    {
     "data": {
      "text/html": [
       "<div>\n",
       "<style scoped>\n",
       "    .dataframe tbody tr th:only-of-type {\n",
       "        vertical-align: middle;\n",
       "    }\n",
       "\n",
       "    .dataframe tbody tr th {\n",
       "        vertical-align: top;\n",
       "    }\n",
       "\n",
       "    .dataframe thead th {\n",
       "        text-align: right;\n",
       "    }\n",
       "</style>\n",
       "<table border=\"1\" class=\"dataframe\">\n",
       "  <thead>\n",
       "    <tr style=\"text-align: right;\">\n",
       "      <th></th>\n",
       "      <th>Policies</th>\n",
       "    </tr>\n",
       "  </thead>\n",
       "  <tbody>\n",
       "    <tr>\n",
       "      <th>0.0</th>\n",
       "      <td>104286</td>\n",
       "    </tr>\n",
       "    <tr>\n",
       "      <th>2.0</th>\n",
       "      <td>3529</td>\n",
       "    </tr>\n",
       "    <tr>\n",
       "      <th>1.0</th>\n",
       "      <td>3339</td>\n",
       "    </tr>\n",
       "    <tr>\n",
       "      <th>3.0</th>\n",
       "      <td>2310</td>\n",
       "    </tr>\n",
       "    <tr>\n",
       "      <th>4.0</th>\n",
       "      <td>1101</td>\n",
       "    </tr>\n",
       "    <tr>\n",
       "      <th>5.0</th>\n",
       "      <td>428</td>\n",
       "    </tr>\n",
       "    <tr>\n",
       "      <th>6.0</th>\n",
       "      <td>127</td>\n",
       "    </tr>\n",
       "    <tr>\n",
       "      <th>7.0</th>\n",
       "      <td>26</td>\n",
       "    </tr>\n",
       "    <tr>\n",
       "      <th>8.0</th>\n",
       "      <td>6</td>\n",
       "    </tr>\n",
       "    <tr>\n",
       "      <th>9.0</th>\n",
       "      <td>2</td>\n",
       "    </tr>\n",
       "    <tr>\n",
       "      <th>11.0</th>\n",
       "      <td>1</td>\n",
       "    </tr>\n",
       "  </tbody>\n",
       "</table>\n",
       "</div>"
      ],
      "text/plain": [
       "      Policies\n",
       "0.0     104286\n",
       "2.0       3529\n",
       "1.0       3339\n",
       "3.0       2310\n",
       "4.0       1101\n",
       "5.0        428\n",
       "6.0        127\n",
       "7.0         26\n",
       "8.0          6\n",
       "9.0          2\n",
       "11.0         1"
      ]
     },
     "execution_count": 10,
     "metadata": {
      "tags": []
     },
     "output_type": "execute_result"
    }
   ],
   "source": [
    "pd.DataFrame(df.ClaimsCount.value_counts()).rename({'ClaimsCount': 'Policies'}, axis=1)"
   ]
  },
  {
   "cell_type": "code",
   "execution_count": 11,
   "metadata": {
    "colab": {
     "base_uri": "https://localhost:8080/",
     "height": 281
    },
    "id": "A0zvYuoZ4gcH",
    "outputId": "d7e7d71d-e700-4bfa-d6a4-9c4160ae20b7"
   },
   "outputs": [
    {
     "data": {
      "image/png": "[encoded data removed]",
      "text/plain": [
       "<Figure size 432x288 with 1 Axes>"
      ]
     },
     "metadata": {
      "needs_background": "light",
      "tags": []
     },
     "output_type": "display_data"
    }
   ],
   "source": [
    "\n",
    "import seaborn as sns\n",
    "plt.plot(df['ClaimsCount'],df['ClaimAmount'], '.r')\n",
    "plt.title('Зависимость между частотой и величиной убытков')\n",
    "plt.show()"
   ]
  },
  {
   "cell_type": "markdown",
   "metadata": {
    "id": "iCZAeoll6xac"
   },
   "source": [
    "Для моделирования среднего убытка можем рассчитать его как отношение величины убытков к их частоте."
   ]
  },
  {
   "cell_type": "code",
   "execution_count": 12,
   "metadata": {
    "id": "y9AKwYtU6x1i"
   },
   "outputs": [],
   "source": [
    "df.loc[df.ClaimsCount > 0, 'AvgClaim'] = df['ClaimAmount']/df['ClaimsCount']"
   ]
  },
  {
   "cell_type": "markdown",
   "metadata": {
    "id": "oR02DxanOGDk"
   },
   "source": [
    "## Общие преобразования"
   ]
  },
  {
   "cell_type": "markdown",
   "metadata": {
    "id": "JbIX5hsRR2qA"
   },
   "source": [
    "Класс для общих случаев"
   ]
  },
  {
   "cell_type": "code",
   "execution_count": 13,
   "metadata": {
    "id": "Yam47yC5KkWF"
   },
   "outputs": [],
   "source": [
    "class InsDataFrame:\n",
    "\n",
    "\n",
    "    ''' Load data method '''\n",
    "\n",
    "    def load_pd(self, pd_dataframe):\n",
    "        self._df = pd_dataframe\n",
    "\n",
    "\n",
    "    ''' Columns match method '''\n",
    "\n",
    "    def columns_match(self, match_from_to):\n",
    "        self._df.rename(columns=match_from_to, inplace=True)\n",
    "\n",
    "\n",
    "    ''' Person data methods '''\n",
    "\n",
    "    # Gender\n",
    "    _gender_dict = {'Male':0, 'Female':1}\n",
    "\n",
    "    def transform_gender(self):\n",
    "        self._df['Gender'] = self._df['Gender'].map(self._gender_dict)\n",
    "\n",
    "        \n",
    "\n",
    "    # Age\n",
    "    @staticmethod\n",
    "    def _age(age, age_max):\n",
    "        if pd.isnull(age):\n",
    "            age = None\n",
    "        elif age < 18:\n",
    "            age = None\n",
    "        elif age > age_max:\n",
    "            age = age_max\n",
    "        return age\n",
    "      \n",
    "    def transform_age(self, age_max=70):\n",
    "        self._df['driver_minage'] = self._df['driver_minage'].apply(self._age, args=(age_max,))\n",
    "\n",
    "    # Age M/F\n",
    "    @staticmethod\n",
    "    def _age_gender(age_gender):\n",
    "        _age = age_gender[0]\n",
    "        _gender = age_gender[1]\n",
    "        if _gender == 0: #Male\n",
    "            _driver_minage_m = _age\n",
    "            _driver_minage_f = 18\n",
    "        elif _gender == 1: #Female\n",
    "            _driver_minage_m = 18\n",
    "            _driver_minage_f = _age\n",
    "        else:\n",
    "            _driver_minage_m = 18\n",
    "            _driver_minage_f = 18\n",
    "        return [_driver_minage_m, _driver_minage_f]\n",
    "    \n",
    "    def transform_age_gender(self):\n",
    "        self._df['driver_minage_m'],self._df['driver_minage_f'] = zip(*self._df[['driver_minage','Gender']].apply(self._age_gender, axis=1).to_frame()[0])\n",
    "\n",
    "    # Experience\n",
    "    @staticmethod\n",
    "    def _exp(exp, exp_max):\n",
    "        if pd.isnull(exp):\n",
    "            exp = None\n",
    "        elif exp < 0:\n",
    "            exp = None\n",
    "        elif exp > exp_max:\n",
    "            exp = exp_max\n",
    "        return exp\n",
    "\n",
    "    def transform_exp(self, exp_max=52):\n",
    "        self._df['driver_minexp'] = self._df['driver_minexp'].apply(self._exp, args=(exp_max,))\n",
    "\n",
    "\n",
    "    ''' Other data methods '''\n",
    "\n",
    "    def polynomizer(self, column, n=2):\n",
    "        if column in list(self._df.columns):\n",
    "            for i in range(2,n+1):\n",
    "                self._df[column+'_'+str(i)] = self._df[column]**i\n",
    "\n",
    "    def get_dummies(self, columns):\n",
    "        self._df = pd.get_dummies(self._df, columns=columns)\n",
    "\n",
    "\n",
    "    ''' General methods '''\n",
    "\n",
    "    def info(self):\n",
    "        return self._df.info()\n",
    "\n",
    "    def head(self, columns, n=5):\n",
    "        return self._df.head(n)\n",
    "\n",
    "    def len(self):\n",
    "        return len(self._df)\n",
    "\n",
    "    def get_pd(self, columns):\n",
    "        return self._df[columns]"
   ]
  },
  {
   "cell_type": "markdown",
   "metadata": {
    "id": "4kCFRjwRR7fR"
   },
   "source": [
    "Создаем класс-наследник, в котором переопределяем некоторые методы, специфические для конкретной ситуации, и создаем новые"
   ]
  },
  {
   "cell_type": "markdown",
   "metadata": {
    "id": "vSlx8FxWH9P2"
   },
   "source": [
    "- В данных стаж \"LicAge\" измеряется в неделях.\n",
    "- Фактор \"SocioCateg\" содержит информацию о социальной категории в виде кодов классификации CSP. Агрегируем имеющиеся коды до 1 знака, а затем закодируем их с помощью one-hot encoding.\n",
    "\n",
    "[Wiki](https://fr.wikipedia.org/wiki/Professions_et_cat%C3%A9gories_socioprofessionnelles_en_France#Cr%C3%A9ation_de_la_nomenclature_des_PCS)\n",
    "\n",
    "[Более подробный классификатор](https://www.ast74.fr/upload/administratif/liste-des-codes-csp-copie.pdf)"
   ]
  },
  {
   "cell_type": "code",
   "execution_count": 14,
   "metadata": {
    "id": "iIaUlNP9Kkaa"
   },
   "outputs": [],
   "source": [
    "class InsDataFrame_Fr(InsDataFrame):\n",
    "\n",
    "    # Experience (weeks to years)\n",
    "    @staticmethod\n",
    "    def _exp(exp, exp_max):\n",
    "        if pd.isnull(exp):\n",
    "            exp = None\n",
    "        elif exp < 0:\n",
    "            exp = None\n",
    "        else:\n",
    "            exp * 7 // 365\n",
    "        if exp > exp_max:\n",
    "            exp = exp_max\n",
    "        return exp\n",
    "\n",
    "    # Marital status\n",
    "    _MariStat_dict = {'Other':0, 'Alone':1}\n",
    "\n",
    "    def transform_MariStat(self):\n",
    "        self._df['MariStat'] = self._df['MariStat'].map(self._MariStat_dict)\n",
    "    \n",
    "    # Social category\n",
    "    def transform_SocioCateg(self):\n",
    "        self._df['SocioCateg'] = self._df['SocioCateg'].str.slice(0,4)"
   ]
  },
  {
   "cell_type": "markdown",
   "metadata": {
    "id": "vitxWSSBTafg"
   },
   "source": [
    "Подгружаем данные"
   ]
  },
  {
   "cell_type": "code",
   "execution_count": 15,
   "metadata": {
    "id": "EChIUi3CKkdP"
   },
   "outputs": [],
   "source": [
    "data = InsDataFrame_Fr()"
   ]
  },
  {
   "cell_type": "code",
   "execution_count": 16,
   "metadata": {
    "id": "rrDsfQK8KkhM"
   },
   "outputs": [],
   "source": [
    "data.load_pd(df)"
   ]
  },
  {
   "cell_type": "code",
   "execution_count": 17,
   "metadata": {
    "colab": {
     "base_uri": "https://localhost:8080/"
    },
    "id": "T9A3J4AZUc79",
    "outputId": "a032847a-0723-419b-c2fa-6d28ddd3fa2c"
   },
   "outputs": [
    {
     "name": "stdout",
     "output_type": "stream",
     "text": [
      "<class 'pandas.core.frame.DataFrame'>\n",
      "RangeIndex: 115155 entries, 0 to 115154\n",
      "Data columns (total 17 columns):\n",
      " #   Column       Non-Null Count   Dtype  \n",
      "---  ------       --------------   -----  \n",
      " 0   Exposure     115155 non-null  float64\n",
      " 1   LicAge       115155 non-null  int64  \n",
      " 2   RecordBeg    115155 non-null  object \n",
      " 3   RecordEnd    59455 non-null   object \n",
      " 4   Gender       115155 non-null  object \n",
      " 5   MariStat     115155 non-null  object \n",
      " 6   SocioCateg   115155 non-null  object \n",
      " 7   VehUsage     115155 non-null  object \n",
      " 8   DrivAge      115155 non-null  int64  \n",
      " 9   HasKmLimit   115155 non-null  int64  \n",
      " 10  BonusMalus   115155 non-null  int64  \n",
      " 11  ClaimAmount  115155 non-null  float64\n",
      " 12  ClaimInd     115155 non-null  int64  \n",
      " 13  OutUseNb     115155 non-null  float64\n",
      " 14  RiskArea     115155 non-null  float64\n",
      " 15  ClaimsCount  115155 non-null  float64\n",
      " 16  AvgClaim     10869 non-null   float64\n",
      "dtypes: float64(6), int64(5), object(6)\n",
      "memory usage: 14.9+ MB\n"
     ]
    }
   ],
   "source": [
    "data.info()"
   ]
  },
  {
   "cell_type": "markdown",
   "metadata": {
    "id": "QoRagZL0V2gJ"
   },
   "source": [
    "Преобразовываем параметры"
   ]
  },
  {
   "cell_type": "code",
   "execution_count": 18,
   "metadata": {
    "id": "95FE5f2rWG7e"
   },
   "outputs": [],
   "source": [
    "# Переименовываем\n",
    "data.columns_match({'DrivAge':'driver_minage','LicAge':'driver_minexp'})"
   ]
  },
  {
   "cell_type": "code",
   "execution_count": 19,
   "metadata": {
    "id": "EJLDDNW_Uc99"
   },
   "outputs": [],
   "source": [
    "# Преобразовываем\n",
    "data.transform_age()\n",
    "data.transform_exp()\n",
    "data.transform_gender()\n",
    "data.transform_MariStat()\n",
    "data.transform_SocioCateg()"
   ]
  },
  {
   "cell_type": "code",
   "execution_count": 20,
   "metadata": {
    "id": "7ZoN-JXZUdCZ"
   },
   "outputs": [],
   "source": [
    "# Пересечение пола и возраста, их квадраты\n",
    "data.transform_age_gender()\n",
    "data.polynomizer('driver_minage_m')\n",
    "data.polynomizer('driver_minage_f')"
   ]
  },
  {
   "cell_type": "markdown",
   "metadata": {
    "id": "ZdTe9JpiGvt9"
   },
   "source": [
    "Для переменных, содержащих более 2 значений:\n",
    "- либо упорядочиваем значения,\n",
    "- либо используем фиктивные переменные (one-hot encoding).\n",
    "\n",
    "**NB**: В H2O не рекомендуется использовать one-hot encoding. Тем не менее, используем здесь фиктивные переменные, чтобы в дальнейшем сохранить возможность сравнения результатов построенных моделей."
   ]
  },
  {
   "cell_type": "code",
   "execution_count": 21,
   "metadata": {
    "id": "eKCHRXxwUc6j"
   },
   "outputs": [],
   "source": [
    "# Onehot encoding\n",
    "data.get_dummies(['VehUsage','SocioCateg'])"
   ]
  },
  {
   "cell_type": "code",
   "execution_count": 22,
   "metadata": {
    "colab": {
     "base_uri": "https://localhost:8080/"
    },
    "id": "s675sGQtKkYq",
    "outputId": "fa91a96c-7be3-49b1-a415-1ef3d1766c45"
   },
   "outputs": [
    {
     "name": "stdout",
     "output_type": "stream",
     "text": [
      "<class 'pandas.core.frame.DataFrame'>\n",
      "RangeIndex: 115155 entries, 0 to 115154\n",
      "Data columns (total 30 columns):\n",
      " #   Column                           Non-Null Count   Dtype  \n",
      "---  ------                           --------------   -----  \n",
      " 0   Exposure                         115155 non-null  float64\n",
      " 1   driver_minexp                    115155 non-null  int64  \n",
      " 2   RecordBeg                        115155 non-null  object \n",
      " 3   RecordEnd                        59455 non-null   object \n",
      " 4   Gender                           115155 non-null  int64  \n",
      " 5   MariStat                         115155 non-null  int64  \n",
      " 6   driver_minage                    115155 non-null  int64  \n",
      " 7   HasKmLimit                       115155 non-null  int64  \n",
      " 8   BonusMalus                       115155 non-null  int64  \n",
      " 9   ClaimAmount                      115155 non-null  float64\n",
      " 10  ClaimInd                         115155 non-null  int64  \n",
      " 11  OutUseNb                         115155 non-null  float64\n",
      " 12  RiskArea                         115155 non-null  float64\n",
      " 13  ClaimsCount                      115155 non-null  float64\n",
      " 14  AvgClaim                         10869 non-null   float64\n",
      " 15  driver_minage_m                  115155 non-null  int64  \n",
      " 16  driver_minage_f                  115155 non-null  int64  \n",
      " 17  driver_minage_m_2                115155 non-null  int64  \n",
      " 18  driver_minage_f_2                115155 non-null  int64  \n",
      " 19  VehUsage_Private                 115155 non-null  uint8  \n",
      " 20  VehUsage_Private+trip to office  115155 non-null  uint8  \n",
      " 21  VehUsage_Professional            115155 non-null  uint8  \n",
      " 22  VehUsage_Professional run        115155 non-null  uint8  \n",
      " 23  SocioCateg_CSP1                  115155 non-null  uint8  \n",
      " 24  SocioCateg_CSP2                  115155 non-null  uint8  \n",
      " 25  SocioCateg_CSP3                  115155 non-null  uint8  \n",
      " 26  SocioCateg_CSP4                  115155 non-null  uint8  \n",
      " 27  SocioCateg_CSP5                  115155 non-null  uint8  \n",
      " 28  SocioCateg_CSP6                  115155 non-null  uint8  \n",
      " 29  SocioCateg_CSP7                  115155 non-null  uint8  \n",
      "dtypes: float64(6), int64(11), object(2), uint8(11)\n",
      "memory usage: 17.9+ MB\n"
     ]
    }
   ],
   "source": [
    "data.info()"
   ]
  },
  {
   "cell_type": "code",
   "execution_count": 23,
   "metadata": {
    "id": "2GplOpk-ZwKo"
   },
   "outputs": [],
   "source": [
    "col_features = [\n",
    "                'driver_minexp',\n",
    "                'Gender',\n",
    "                'MariStat',\n",
    "                'HasKmLimit',\n",
    "                'BonusMalus',\n",
    "                'OutUseNb',\n",
    "                'RiskArea',\n",
    "                'driver_minage_m',\n",
    "                'driver_minage_f',\n",
    "                'driver_minage_m_2',\n",
    "                'driver_minage_f_2',\n",
    "                'VehUsage_Private',\n",
    "                'VehUsage_Private+trip to office',\n",
    "                'VehUsage_Professional',\n",
    "                'VehUsage_Professional run',\n",
    "                'SocioCateg_CSP1',\n",
    "                'SocioCateg_CSP2',\n",
    "                'SocioCateg_CSP3',\n",
    "                'SocioCateg_CSP4',\n",
    "                'SocioCateg_CSP5',\n",
    "                'SocioCateg_CSP6',\n",
    "                'SocioCateg_CSP7'  \n",
    "]"
   ]
  },
  {
   "cell_type": "code",
   "execution_count": 24,
   "metadata": {
    "id": "T6bKm8RBcC1v"
   },
   "outputs": [],
   "source": [
    "col_target = ['ClaimAmount', 'ClaimsCount', 'AvgClaim']"
   ]
  },
  {
   "cell_type": "code",
   "execution_count": 25,
   "metadata": {
    "id": "60BxEUC6dqtO"
   },
   "outputs": [],
   "source": [
    "df_freq = data.get_pd(col_features+col_target)"
   ]
  },
  {
   "cell_type": "code",
   "execution_count": 26,
   "metadata": {
    "id": "G9u4U7-Bd-ob"
   },
   "outputs": [],
   "source": [
    "df_ac = df_freq[df_freq['ClaimsCount'] > 0].reset_index().copy()"
   ]
  },
  {
   "cell_type": "markdown",
   "metadata": {
    "id": "VpYxkXdrLD01"
   },
   "source": [
    "## Разделение набора данных на обучающую, валидационную и тестовую выборки"
   ]
  },
  {
   "cell_type": "code",
   "execution_count": 27,
   "metadata": {
    "id": "piO1n8o2LFAJ"
   },
   "outputs": [],
   "source": [
    "from sklearn.model_selection import train_test_split"
   ]
  },
  {
   "cell_type": "code",
   "execution_count": 28,
   "metadata": {
    "id": "dGvhYDXdLFoR"
   },
   "outputs": [],
   "source": [
    "# Разбиение датасета для частоты на train/val/test\n",
    "\n",
    "x_train_c, x_test_c, y_train_c, y_test_c = train_test_split(df_freq[col_features], df_freq.ClaimsCount, test_size=0.3, random_state=1)\n",
    "x_valid_c, x_test_c, y_valid_c, y_test_c = train_test_split(x_test_c, y_test_c, test_size=0.5, random_state=1)"
   ]
  },
  {
   "cell_type": "code",
   "execution_count": 29,
   "metadata": {
    "id": "XBBJ06RA96Xk"
   },
   "outputs": [],
   "source": [
    "# Разбиение датасета для среднего убытка на train/val/test \n",
    "\n",
    "x_train_ac, x_test_ac, y_train_ac, y_test_ac = train_test_split(df_ac[col_features], df_ac.AvgClaim, test_size=0.3, random_state=1)\n",
    "x_valid_ac, x_test_ac, y_valid_ac, y_test_ac = train_test_split(x_test_ac, y_test_ac, test_size=0.5, random_state=1)"
   ]
  },
  {
   "cell_type": "markdown",
   "metadata": {
    "id": "HvHOPcoEfira"
   },
   "source": [
    "Ссылки на H2O\n",
    "\n",
    "https://deeplearningrussia.wordpress.com/2019/10/12/intro-to-h2o-ai/\n",
    "\n",
    "\n",
    "https://docs.h2o.ai/h2o/latest-stable/h2o-docs/data-science/glm.html"
   ]
  },
  {
   "cell_type": "markdown",
   "metadata": {
    "id": "fKCG1lssMNA7"
   },
   "source": [
    "## Установка H2O на Google Colaboratory и инициализация"
   ]
  },
  {
   "cell_type": "code",
   "execution_count": 30,
   "metadata": {
    "colab": {
     "base_uri": "https://localhost:8080/"
    },
    "id": "XgOdDSP-gXCd",
    "outputId": "08e13732-7c74-4ddc-bea1-61b81a36427c"
   },
   "outputs": [
    {
     "name": "stdout",
     "output_type": "stream",
     "text": [
      "Reading package lists... Done\n",
      "Building dependency tree       \n",
      "Reading state information... Done\n",
      "default-jre is already the newest version (2:1.11-68ubuntu1~18.04.1).\n",
      "default-jre set to manually installed.\n",
      "0 upgraded, 0 newly installed, 0 to remove and 12 not upgraded.\n"
     ]
    }
   ],
   "source": [
    "!apt-get install default-jre"
   ]
  },
  {
   "cell_type": "code",
   "execution_count": 31,
   "metadata": {
    "colab": {
     "base_uri": "https://localhost:8080/"
    },
    "id": "pvu-Rs1GMl0a",
    "outputId": "2c24b3a8-7e59-4405-97a9-e3ff853a0481"
   },
   "outputs": [
    {
     "name": "stdout",
     "output_type": "stream",
     "text": [
      "openjdk version \"11.0.9\" 2020-10-20\n",
      "OpenJDK Runtime Environment (build 11.0.9+11-Ubuntu-0ubuntu1.18.04.1)\n",
      "OpenJDK 64-Bit Server VM (build 11.0.9+11-Ubuntu-0ubuntu1.18.04.1, mixed mode, sharing)\n"
     ]
    }
   ],
   "source": [
    "!java -version"
   ]
  },
  {
   "cell_type": "code",
   "execution_count": 32,
   "metadata": {
    "colab": {
     "base_uri": "https://localhost:8080/"
    },
    "id": "oTpLqa_sgJH4",
    "outputId": "134dc167-962a-469d-f033-ecb67effdaa5"
   },
   "outputs": [
    {
     "name": "stdout",
     "output_type": "stream",
     "text": [
      "Collecting h2o\n",
      "\u001b[?25l  Downloading https://files.pythonhosted.org/packages/bb/55/494a42e7509d0874aa444ae4cad0bc7439c936b40e563550fbfabb540275/h2o-3.30.1.3.tar.gz (129.4MB)\n",
      "\u001b[K     |████████████████████████████████| 129.4MB 87kB/s \n",
      "\u001b[?25hRequirement already satisfied: requests in /usr/local/lib/python3.6/dist-packages (from h2o) (2.23.0)\n",
      "Requirement already satisfied: tabulate in /usr/local/lib/python3.6/dist-packages (from h2o) (0.8.7)\n",
      "Requirement already satisfied: future in /usr/local/lib/python3.6/dist-packages (from h2o) (0.16.0)\n",
      "Collecting colorama>=0.3.8\n",
      "  Downloading https://files.pythonhosted.org/packages/44/98/5b86278fbbf250d239ae0ecb724f8572af1c91f4a11edf4d36a206189440/colorama-0.4.4-py2.py3-none-any.whl\n",
      "Requirement already satisfied: urllib3!=1.25.0,!=1.25.1,<1.26,>=1.21.1 in /usr/local/lib/python3.6/dist-packages (from requests->h2o) (1.24.3)\n",
      "Requirement already satisfied: certifi>=2017.4.17 in /usr/local/lib/python3.6/dist-packages (from requests->h2o) (2020.6.20)\n",
      "Requirement already satisfied: chardet<4,>=3.0.2 in /usr/local/lib/python3.6/dist-packages (from requests->h2o) (3.0.4)\n",
      "Requirement already satisfied: idna<3,>=2.5 in /usr/local/lib/python3.6/dist-packages (from requests->h2o) (2.10)\n",
      "Building wheels for collected packages: h2o\n",
      "  Building wheel for h2o (setup.py) ... \u001b[?25l\u001b[?25hdone\n",
      "  Created wheel for h2o: filename=h2o-3.30.1.3-py2.py3-none-any.whl size=129446676 sha256=2863bdb66210b181776a987ec17c40a1e3dad4273203ff24f3666ddfd0a93d6f\n",
      "  Stored in directory: /root/.cache/pip/wheels/3d/e6/07/53ce9be9cb61b33a79cb3ed1fc39f2dae84f6ee6fe1e373e5e\n",
      "Successfully built h2o\n",
      "Installing collected packages: colorama, h2o\n",
      "Successfully installed colorama-0.4.4 h2o-3.30.1.3\n"
     ]
    }
   ],
   "source": [
    "!pip install h2o"
   ]
  },
  {
   "cell_type": "code",
   "execution_count": 33,
   "metadata": {
    "colab": {
     "base_uri": "https://localhost:8080/",
     "height": 545
    },
    "id": "KSdsMa-agl-6",
    "outputId": "fb471c36-8de5-4b87-b407-3ec789923e1a"
   },
   "outputs": [
    {
     "name": "stdout",
     "output_type": "stream",
     "text": [
      "Checking whether there is an H2O instance running at http://localhost:54321 ..... not found.\n",
      "Attempting to start a local H2O server...\n",
      "  Java Version: openjdk version \"11.0.9\" 2020-10-20; OpenJDK Runtime Environment (build 11.0.9+11-Ubuntu-0ubuntu1.18.04.1); OpenJDK 64-Bit Server VM (build 11.0.9+11-Ubuntu-0ubuntu1.18.04.1, mixed mode, sharing)\n",
      "  Starting server from /usr/local/lib/python3.6/dist-packages/h2o/backend/bin/h2o.jar\n",
      "  Ice root: /tmp/tmp9iqm1205\n",
      "  JVM stdout: /tmp/tmp9iqm1205/h2o_unknownUser_started_from_python.out\n",
      "  JVM stderr: /tmp/tmp9iqm1205/h2o_unknownUser_started_from_python.err\n",
      "  Server is running at http://127.0.0.1:54321\n",
      "Connecting to H2O server at http://127.0.0.1:54321 ... successful.\n"
     ]
    },
    {
     "data": {
      "text/html": [
       "<div style=\"overflow:auto\"><table style=\"width:50%\"><tr><td>H2O_cluster_uptime:</td>\n",
       "<td>03 secs</td></tr>\n",
       "<tr><td>H2O_cluster_timezone:</td>\n",
       "<td>Etc/UTC</td></tr>\n",
       "<tr><td>H2O_data_parsing_timezone:</td>\n",
       "<td>UTC</td></tr>\n",
       "<tr><td>H2O_cluster_version:</td>\n",
       "<td>3.30.1.3</td></tr>\n",
       "<tr><td>H2O_cluster_version_age:</td>\n",
       "<td>1 month and 18 days </td></tr>\n",
       "<tr><td>H2O_cluster_name:</td>\n",
       "<td>H2O_from_python_unknownUser_42twpe</td></tr>\n",
       "<tr><td>H2O_cluster_total_nodes:</td>\n",
       "<td>1</td></tr>\n",
       "<tr><td>H2O_cluster_free_memory:</td>\n",
       "<td>3.180 Gb</td></tr>\n",
       "<tr><td>H2O_cluster_total_cores:</td>\n",
       "<td>2</td></tr>\n",
       "<tr><td>H2O_cluster_allowed_cores:</td>\n",
       "<td>2</td></tr>\n",
       "<tr><td>H2O_cluster_status:</td>\n",
       "<td>accepting new members, healthy</td></tr>\n",
       "<tr><td>H2O_connection_url:</td>\n",
       "<td>http://127.0.0.1:54321</td></tr>\n",
       "<tr><td>H2O_connection_proxy:</td>\n",
       "<td>{\"http\": null, \"https\": null}</td></tr>\n",
       "<tr><td>H2O_internal_security:</td>\n",
       "<td>False</td></tr>\n",
       "<tr><td>H2O_API_Extensions:</td>\n",
       "<td>Amazon S3, XGBoost, Algos, AutoML, Core V3, TargetEncoder, Core V4</td></tr>\n",
       "<tr><td>Python_version:</td>\n",
       "<td>3.6.9 final</td></tr></table></div>"
      ],
      "text/plain": [
       "--------------------------  ------------------------------------------------------------------\n",
       "H2O_cluster_uptime:         03 secs\n",
       "H2O_cluster_timezone:       Etc/UTC\n",
       "H2O_data_parsing_timezone:  UTC\n",
       "H2O_cluster_version:        3.30.1.3\n",
       "H2O_cluster_version_age:    1 month and 18 days\n",
       "H2O_cluster_name:           H2O_from_python_unknownUser_42twpe\n",
       "H2O_cluster_total_nodes:    1\n",
       "H2O_cluster_free_memory:    3.180 Gb\n",
       "H2O_cluster_total_cores:    2\n",
       "H2O_cluster_allowed_cores:  2\n",
       "H2O_cluster_status:         accepting new members, healthy\n",
       "H2O_connection_url:         http://127.0.0.1:54321\n",
       "H2O_connection_proxy:       {\"http\": null, \"https\": null}\n",
       "H2O_internal_security:      False\n",
       "H2O_API_Extensions:         Amazon S3, XGBoost, Algos, AutoML, Core V3, TargetEncoder, Core V4\n",
       "Python_version:             3.6.9 final\n",
       "--------------------------  ------------------------------------------------------------------"
      ]
     },
     "metadata": {
      "tags": []
     },
     "output_type": "display_data"
    }
   ],
   "source": [
    "import h2o\n",
    "from h2o.estimators.glm import H2OGeneralizedLinearEstimator\n",
    "h2o.init()"
   ]
  },
  {
   "cell_type": "markdown",
   "metadata": {
    "id": "YttnrY4wMqu3"
   },
   "source": [
    "## Построение GLM для частоты страховых случаев"
   ]
  },
  {
   "cell_type": "code",
   "execution_count": 34,
   "metadata": {
    "colab": {
     "base_uri": "https://localhost:8080/"
    },
    "id": "r-BqsBNx_zIH",
    "outputId": "841035f1-3312-4872-ae45-6c882df82b87"
   },
   "outputs": [
    {
     "name": "stdout",
     "output_type": "stream",
     "text": [
      "Parse progress: |█████████████████████████████████████████████████████████| 100%\n",
      "Parse progress: |█████████████████████████████████████████████████████████| 100%\n",
      "Parse progress: |█████████████████████████████████████████████████████████| 100%\n"
     ]
    }
   ],
   "source": [
    "# Преобразование в H2O-Frame\n",
    "\n",
    "h2o_train_c = h2o.H2OFrame(pd.concat([x_train_c, y_train_c], axis=1))\n",
    "h2o_valid_c = h2o.H2OFrame(pd.concat([x_valid_c, y_valid_c], axis=1))\n",
    "h2o_test_c = h2o.H2OFrame(pd.concat([x_test_c, y_test_c], axis=1))"
   ]
  },
  {
   "cell_type": "code",
   "execution_count": 35,
   "metadata": {
    "colab": {
     "base_uri": "https://localhost:8080/"
    },
    "id": "GarP9wfMgmiP",
    "outputId": "9293432e-1a88-463a-aba1-222a02945eb4"
   },
   "outputs": [
    {
     "name": "stdout",
     "output_type": "stream",
     "text": [
      "glm Model Build progress: |███████████████████████████████████████████████| 100%\n"
     ]
    }
   ],
   "source": [
    "# Инициализируем и обучим GLM модель c кросс-валидацией\n",
    "\n",
    "glm_poisson = H2OGeneralizedLinearEstimator(family = \"poisson\", link = \"Log\", nfolds=5)\n",
    "glm_poisson.train(y=\"ClaimsCount\", x = h2o_train_c.names[1:-1], training_frame = h2o_train_c, validation_frame = h2o_valid_c)"
   ]
  },
  {
   "cell_type": "code",
   "execution_count": 36,
   "metadata": {
    "colab": {
     "base_uri": "https://localhost:8080/",
     "height": 185
    },
    "id": "10JsIABsBwxq",
    "outputId": "b90b097b-17e7-4e45-f688-830013e9af60"
   },
   "outputs": [
    {
     "name": "stdout",
     "output_type": "stream",
     "text": [
      "\n",
      "GLM Model: summary\n"
     ]
    },
    {
     "data": {
      "text/html": [
       "<div>\n",
       "<style scoped>\n",
       "    .dataframe tbody tr th:only-of-type {\n",
       "        vertical-align: middle;\n",
       "    }\n",
       "\n",
       "    .dataframe tbody tr th {\n",
       "        vertical-align: top;\n",
       "    }\n",
       "\n",
       "    .dataframe thead th {\n",
       "        text-align: right;\n",
       "    }\n",
       "</style>\n",
       "<table border=\"1\" class=\"dataframe\">\n",
       "  <thead>\n",
       "    <tr style=\"text-align: right;\">\n",
       "      <th></th>\n",
       "      <th></th>\n",
       "      <th>family</th>\n",
       "      <th>link</th>\n",
       "      <th>regularization</th>\n",
       "      <th>number_of_predictors_total</th>\n",
       "      <th>number_of_active_predictors</th>\n",
       "      <th>number_of_iterations</th>\n",
       "      <th>training_frame</th>\n",
       "    </tr>\n",
       "  </thead>\n",
       "  <tbody>\n",
       "    <tr>\n",
       "      <th>0</th>\n",
       "      <td></td>\n",
       "      <td>poisson</td>\n",
       "      <td>log</td>\n",
       "      <td>Elastic Net (alpha = 0.5, lambda = 9.667E-5 )</td>\n",
       "      <td>21</td>\n",
       "      <td>19</td>\n",
       "      <td>3</td>\n",
       "      <td>Key_Frame__upload_b389ea8f3c61ba2f6adfe44885524f51.hex</td>\n",
       "    </tr>\n",
       "  </tbody>\n",
       "</table>\n",
       "</div>"
      ],
      "text/plain": [
       "     ...                                          training_frame\n",
       "0    ...  Key_Frame__upload_b389ea8f3c61ba2f6adfe44885524f51.hex\n",
       "\n",
       "[1 rows x 8 columns]"
      ]
     },
     "metadata": {
      "tags": []
     },
     "output_type": "display_data"
    },
    {
     "data": {
      "text/plain": []
     },
     "execution_count": 36,
     "metadata": {
      "tags": []
     },
     "output_type": "execute_result"
    }
   ],
   "source": [
    "# Параметры модели: распределение, функция связи, гиперпараметры регуляризации, количество использованных объясняющих переменных\n",
    "\n",
    "glm_poisson.summary()"
   ]
  },
  {
   "cell_type": "code",
   "execution_count": 37,
   "metadata": {
    "colab": {
     "base_uri": "https://localhost:8080/",
     "height": 297
    },
    "id": "tKL0w-LECQ2G",
    "outputId": "ac16866e-2717-4ae1-bfa1-c9939093078d"
   },
   "outputs": [
    {
     "data": {
      "text/html": [
       "<div>\n",
       "<style scoped>\n",
       "    .dataframe tbody tr th:only-of-type {\n",
       "        vertical-align: middle;\n",
       "    }\n",
       "\n",
       "    .dataframe tbody tr th {\n",
       "        vertical-align: top;\n",
       "    }\n",
       "\n",
       "    .dataframe thead th {\n",
       "        text-align: right;\n",
       "    }\n",
       "</style>\n",
       "<table border=\"1\" class=\"dataframe\">\n",
       "  <thead>\n",
       "    <tr style=\"text-align: right;\">\n",
       "      <th></th>\n",
       "      <th></th>\n",
       "      <th>mean</th>\n",
       "      <th>sd</th>\n",
       "      <th>cv_1_valid</th>\n",
       "      <th>cv_2_valid</th>\n",
       "      <th>cv_3_valid</th>\n",
       "      <th>cv_4_valid</th>\n",
       "      <th>cv_5_valid</th>\n",
       "    </tr>\n",
       "  </thead>\n",
       "  <tbody>\n",
       "    <tr>\n",
       "      <th>0</th>\n",
       "      <td>mae</td>\n",
       "      <td>0.391004</td>\n",
       "      <td>0.0025942284</td>\n",
       "      <td>0.38747603</td>\n",
       "      <td>0.39135882</td>\n",
       "      <td>0.3900094</td>\n",
       "      <td>0.39155924</td>\n",
       "      <td>0.39461648</td>\n",
       "    </tr>\n",
       "    <tr>\n",
       "      <th>1</th>\n",
       "      <td>mean_residual_deviance</td>\n",
       "      <td>1.0618793</td>\n",
       "      <td>0.015625052</td>\n",
       "      <td>1.0401747</td>\n",
       "      <td>1.0667408</td>\n",
       "      <td>1.0615085</td>\n",
       "      <td>1.0575721</td>\n",
       "      <td>1.0834004</td>\n",
       "    </tr>\n",
       "    <tr>\n",
       "      <th>2</th>\n",
       "      <td>mse</td>\n",
       "      <td>0.5887374</td>\n",
       "      <td>0.018394902</td>\n",
       "      <td>0.56593615</td>\n",
       "      <td>0.59112704</td>\n",
       "      <td>0.59155434</td>\n",
       "      <td>0.579298</td>\n",
       "      <td>0.61577153</td>\n",
       "    </tr>\n",
       "    <tr>\n",
       "      <th>3</th>\n",
       "      <td>null_deviance</td>\n",
       "      <td>17457.994</td>\n",
       "      <td>292.9854</td>\n",
       "      <td>16948.86</td>\n",
       "      <td>17558.883</td>\n",
       "      <td>17595.068</td>\n",
       "      <td>17497.64</td>\n",
       "      <td>17689.52</td>\n",
       "    </tr>\n",
       "    <tr>\n",
       "      <th>4</th>\n",
       "      <td>r2</td>\n",
       "      <td>0.007856502</td>\n",
       "      <td>0.0019414106</td>\n",
       "      <td>0.0053052893</td>\n",
       "      <td>0.006852008</td>\n",
       "      <td>0.009464062</td>\n",
       "      <td>0.010070882</td>\n",
       "      <td>0.0075902687</td>\n",
       "    </tr>\n",
       "    <tr>\n",
       "      <th>5</th>\n",
       "      <td>residual_deviance</td>\n",
       "      <td>17119.24</td>\n",
       "      <td>277.55136</td>\n",
       "      <td>16645.916</td>\n",
       "      <td>17264.133</td>\n",
       "      <td>17221.914</td>\n",
       "      <td>17115.748</td>\n",
       "      <td>17348.49</td>\n",
       "    </tr>\n",
       "    <tr>\n",
       "      <th>6</th>\n",
       "      <td>rmse</td>\n",
       "      <td>0.76721764</td>\n",
       "      <td>0.011963094</td>\n",
       "      <td>0.75228727</td>\n",
       "      <td>0.7688479</td>\n",
       "      <td>0.7691257</td>\n",
       "      <td>0.76111627</td>\n",
       "      <td>0.7847111</td>\n",
       "    </tr>\n",
       "    <tr>\n",
       "      <th>7</th>\n",
       "      <td>rmsle</td>\n",
       "      <td>0.35907614</td>\n",
       "      <td>0.002209397</td>\n",
       "      <td>0.35596842</td>\n",
       "      <td>0.35973337</td>\n",
       "      <td>0.35853818</td>\n",
       "      <td>0.35904056</td>\n",
       "      <td>0.36210024</td>\n",
       "    </tr>\n",
       "  </tbody>\n",
       "</table>\n",
       "</div>"
      ],
      "text/plain": [
       "                                  mean  ...   cv_4_valid    cv_5_valid\n",
       "0                     mae     0.391004  ...   0.39155924    0.39461648\n",
       "1  mean_residual_deviance    1.0618793  ...    1.0575721     1.0834004\n",
       "2                     mse    0.5887374  ...     0.579298    0.61577153\n",
       "3           null_deviance    17457.994  ...     17497.64      17689.52\n",
       "4                      r2  0.007856502  ...  0.010070882  0.0075902687\n",
       "5       residual_deviance     17119.24  ...    17115.748      17348.49\n",
       "6                    rmse   0.76721764  ...   0.76111627     0.7847111\n",
       "7                   rmsle   0.35907614  ...   0.35904056    0.36210024\n",
       "\n",
       "[8 rows x 8 columns]"
      ]
     },
     "execution_count": 37,
     "metadata": {
      "tags": []
     },
     "output_type": "execute_result"
    }
   ],
   "source": [
    "# Метрики качества модели - по всем данным и на кросс-валидации\n",
    "\n",
    "glm_poisson.cross_validation_metrics_summary().as_data_frame()"
   ]
  },
  {
   "cell_type": "code",
   "execution_count": 38,
   "metadata": {
    "colab": {
     "base_uri": "https://localhost:8080/",
     "height": 731
    },
    "id": "vImto5eTCmzi",
    "outputId": "a307a924-e361-4468-afd5-fef7f31984f2"
   },
   "outputs": [
    {
     "data": {
      "text/html": [
       "<div>\n",
       "<style scoped>\n",
       "    .dataframe tbody tr th:only-of-type {\n",
       "        vertical-align: middle;\n",
       "    }\n",
       "\n",
       "    .dataframe tbody tr th {\n",
       "        vertical-align: top;\n",
       "    }\n",
       "\n",
       "    .dataframe thead th {\n",
       "        text-align: right;\n",
       "    }\n",
       "</style>\n",
       "<table border=\"1\" class=\"dataframe\">\n",
       "  <thead>\n",
       "    <tr style=\"text-align: right;\">\n",
       "      <th></th>\n",
       "      <th>names</th>\n",
       "      <th>coefficients</th>\n",
       "      <th>standardized_coefficients</th>\n",
       "    </tr>\n",
       "  </thead>\n",
       "  <tbody>\n",
       "    <tr>\n",
       "      <th>0</th>\n",
       "      <td>Intercept</td>\n",
       "      <td>-2.565659</td>\n",
       "      <td>-1.575867</td>\n",
       "    </tr>\n",
       "    <tr>\n",
       "      <th>1</th>\n",
       "      <td>Gender</td>\n",
       "      <td>-0.163708</td>\n",
       "      <td>-0.079349</td>\n",
       "    </tr>\n",
       "    <tr>\n",
       "      <th>2</th>\n",
       "      <td>MariStat</td>\n",
       "      <td>-0.114494</td>\n",
       "      <td>-0.041245</td>\n",
       "    </tr>\n",
       "    <tr>\n",
       "      <th>3</th>\n",
       "      <td>HasKmLimit</td>\n",
       "      <td>-0.439625</td>\n",
       "      <td>-0.137290</td>\n",
       "    </tr>\n",
       "    <tr>\n",
       "      <th>4</th>\n",
       "      <td>BonusMalus</td>\n",
       "      <td>0.012823</td>\n",
       "      <td>0.196838</td>\n",
       "    </tr>\n",
       "    <tr>\n",
       "      <th>5</th>\n",
       "      <td>OutUseNb</td>\n",
       "      <td>0.081984</td>\n",
       "      <td>0.057037</td>\n",
       "    </tr>\n",
       "    <tr>\n",
       "      <th>6</th>\n",
       "      <td>RiskArea</td>\n",
       "      <td>0.010119</td>\n",
       "      <td>0.022421</td>\n",
       "    </tr>\n",
       "    <tr>\n",
       "      <th>7</th>\n",
       "      <td>driver_minage_m</td>\n",
       "      <td>0.000209</td>\n",
       "      <td>0.003928</td>\n",
       "    </tr>\n",
       "    <tr>\n",
       "      <th>8</th>\n",
       "      <td>driver_minage_f</td>\n",
       "      <td>0.012369</td>\n",
       "      <td>0.198390</td>\n",
       "    </tr>\n",
       "    <tr>\n",
       "      <th>9</th>\n",
       "      <td>driver_minage_m_2</td>\n",
       "      <td>0.000000</td>\n",
       "      <td>0.000000</td>\n",
       "    </tr>\n",
       "    <tr>\n",
       "      <th>10</th>\n",
       "      <td>driver_minage_f_2</td>\n",
       "      <td>-0.000091</td>\n",
       "      <td>-0.113901</td>\n",
       "    </tr>\n",
       "    <tr>\n",
       "      <th>11</th>\n",
       "      <td>VehUsage_Private</td>\n",
       "      <td>-0.190581</td>\n",
       "      <td>-0.090123</td>\n",
       "    </tr>\n",
       "    <tr>\n",
       "      <th>12</th>\n",
       "      <td>VehUsage_Private+trip to office</td>\n",
       "      <td>0.000000</td>\n",
       "      <td>0.000000</td>\n",
       "    </tr>\n",
       "    <tr>\n",
       "      <th>13</th>\n",
       "      <td>VehUsage_Professional</td>\n",
       "      <td>0.320065</td>\n",
       "      <td>0.105780</td>\n",
       "    </tr>\n",
       "    <tr>\n",
       "      <th>14</th>\n",
       "      <td>VehUsage_Professional run</td>\n",
       "      <td>0.491840</td>\n",
       "      <td>0.065987</td>\n",
       "    </tr>\n",
       "    <tr>\n",
       "      <th>15</th>\n",
       "      <td>SocioCateg_CSP1</td>\n",
       "      <td>-0.079219</td>\n",
       "      <td>-0.012003</td>\n",
       "    </tr>\n",
       "    <tr>\n",
       "      <th>16</th>\n",
       "      <td>SocioCateg_CSP2</td>\n",
       "      <td>-0.205329</td>\n",
       "      <td>-0.034207</td>\n",
       "    </tr>\n",
       "    <tr>\n",
       "      <th>17</th>\n",
       "      <td>SocioCateg_CSP3</td>\n",
       "      <td>0.242698</td>\n",
       "      <td>0.025177</td>\n",
       "    </tr>\n",
       "    <tr>\n",
       "      <th>18</th>\n",
       "      <td>SocioCateg_CSP4</td>\n",
       "      <td>0.050770</td>\n",
       "      <td>0.012696</td>\n",
       "    </tr>\n",
       "    <tr>\n",
       "      <th>19</th>\n",
       "      <td>SocioCateg_CSP5</td>\n",
       "      <td>-0.003721</td>\n",
       "      <td>-0.001769</td>\n",
       "    </tr>\n",
       "    <tr>\n",
       "      <th>20</th>\n",
       "      <td>SocioCateg_CSP6</td>\n",
       "      <td>0.060435</td>\n",
       "      <td>0.024822</td>\n",
       "    </tr>\n",
       "    <tr>\n",
       "      <th>21</th>\n",
       "      <td>SocioCateg_CSP7</td>\n",
       "      <td>-0.495631</td>\n",
       "      <td>-0.005237</td>\n",
       "    </tr>\n",
       "  </tbody>\n",
       "</table>\n",
       "</div>"
      ],
      "text/plain": [
       "                              names  coefficients  standardized_coefficients\n",
       "0                         Intercept     -2.565659                  -1.575867\n",
       "1                            Gender     -0.163708                  -0.079349\n",
       "2                          MariStat     -0.114494                  -0.041245\n",
       "3                        HasKmLimit     -0.439625                  -0.137290\n",
       "4                        BonusMalus      0.012823                   0.196838\n",
       "5                          OutUseNb      0.081984                   0.057037\n",
       "6                          RiskArea      0.010119                   0.022421\n",
       "7                   driver_minage_m      0.000209                   0.003928\n",
       "8                   driver_minage_f      0.012369                   0.198390\n",
       "9                 driver_minage_m_2      0.000000                   0.000000\n",
       "10                driver_minage_f_2     -0.000091                  -0.113901\n",
       "11                 VehUsage_Private     -0.190581                  -0.090123\n",
       "12  VehUsage_Private+trip to office      0.000000                   0.000000\n",
       "13            VehUsage_Professional      0.320065                   0.105780\n",
       "14        VehUsage_Professional run      0.491840                   0.065987\n",
       "15                  SocioCateg_CSP1     -0.079219                  -0.012003\n",
       "16                  SocioCateg_CSP2     -0.205329                  -0.034207\n",
       "17                  SocioCateg_CSP3      0.242698                   0.025177\n",
       "18                  SocioCateg_CSP4      0.050770                   0.012696\n",
       "19                  SocioCateg_CSP5     -0.003721                  -0.001769\n",
       "20                  SocioCateg_CSP6      0.060435                   0.024822\n",
       "21                  SocioCateg_CSP7     -0.495631                  -0.005237"
      ]
     },
     "execution_count": 38,
     "metadata": {
      "tags": []
     },
     "output_type": "execute_result"
    }
   ],
   "source": [
    "# Таблица коэффициентов модели (в зависимости от модели могут выводиться также стандартная ошибка, z-score и p-value)\n",
    "\n",
    "glm_poisson._model_json['output']['coefficients_table'].as_data_frame()"
   ]
  },
  {
   "cell_type": "code",
   "execution_count": 39,
   "metadata": {
    "colab": {
     "base_uri": "https://localhost:8080/",
     "height": 731
    },
    "id": "Z6CZpc6WAx-d",
    "outputId": "95b3d6d2-4759-4eae-b832-3c3d66cc21cf"
   },
   "outputs": [
    {
     "data": {
      "text/html": [
       "<div>\n",
       "<style scoped>\n",
       "    .dataframe tbody tr th:only-of-type {\n",
       "        vertical-align: middle;\n",
       "    }\n",
       "\n",
       "    .dataframe tbody tr th {\n",
       "        vertical-align: top;\n",
       "    }\n",
       "\n",
       "    .dataframe thead th {\n",
       "        text-align: right;\n",
       "    }\n",
       "</style>\n",
       "<table border=\"1\" class=\"dataframe\">\n",
       "  <thead>\n",
       "    <tr style=\"text-align: right;\">\n",
       "      <th></th>\n",
       "      <th>overall</th>\n",
       "      <th>0</th>\n",
       "      <th>1</th>\n",
       "      <th>2</th>\n",
       "      <th>3</th>\n",
       "      <th>4</th>\n",
       "    </tr>\n",
       "  </thead>\n",
       "  <tbody>\n",
       "    <tr>\n",
       "      <th>Intercept</th>\n",
       "      <td>1.57587</td>\n",
       "      <td>-1.56734</td>\n",
       "      <td>-1.57914</td>\n",
       "      <td>-1.57630</td>\n",
       "      <td>-1.57722</td>\n",
       "      <td>-1.58118</td>\n",
       "    </tr>\n",
       "    <tr>\n",
       "      <th>driver_minage_f</th>\n",
       "      <td>0.19839</td>\n",
       "      <td>0.13710</td>\n",
       "      <td>0.20307</td>\n",
       "      <td>0.11055</td>\n",
       "      <td>0.13313</td>\n",
       "      <td>0.07679</td>\n",
       "    </tr>\n",
       "    <tr>\n",
       "      <th>BonusMalus</th>\n",
       "      <td>0.19684</td>\n",
       "      <td>0.20135</td>\n",
       "      <td>0.20403</td>\n",
       "      <td>0.19304</td>\n",
       "      <td>0.19152</td>\n",
       "      <td>0.19133</td>\n",
       "    </tr>\n",
       "    <tr>\n",
       "      <th>HasKmLimit</th>\n",
       "      <td>0.13729</td>\n",
       "      <td>-0.14421</td>\n",
       "      <td>-0.13503</td>\n",
       "      <td>-0.15084</td>\n",
       "      <td>-0.12881</td>\n",
       "      <td>-0.12836</td>\n",
       "    </tr>\n",
       "    <tr>\n",
       "      <th>driver_minage_f_2</th>\n",
       "      <td>0.11390</td>\n",
       "      <td>-0.06284</td>\n",
       "      <td>-0.10797</td>\n",
       "      <td>-0.04020</td>\n",
       "      <td>-0.06348</td>\n",
       "      <td>-0.01602</td>\n",
       "    </tr>\n",
       "    <tr>\n",
       "      <th>VehUsage_Professional</th>\n",
       "      <td>0.10578</td>\n",
       "      <td>0.10703</td>\n",
       "      <td>0.11821</td>\n",
       "      <td>0.09435</td>\n",
       "      <td>0.10760</td>\n",
       "      <td>0.08377</td>\n",
       "    </tr>\n",
       "    <tr>\n",
       "      <th>VehUsage_Private</th>\n",
       "      <td>0.09012</td>\n",
       "      <td>-0.08870</td>\n",
       "      <td>-0.09217</td>\n",
       "      <td>-0.08726</td>\n",
       "      <td>-0.09252</td>\n",
       "      <td>-0.11583</td>\n",
       "    </tr>\n",
       "    <tr>\n",
       "      <th>Gender</th>\n",
       "      <td>0.07935</td>\n",
       "      <td>-0.05047</td>\n",
       "      <td>-0.06775</td>\n",
       "      <td>-0.07983</td>\n",
       "      <td>-0.08577</td>\n",
       "      <td>-0.02506</td>\n",
       "    </tr>\n",
       "    <tr>\n",
       "      <th>VehUsage_Professional run</th>\n",
       "      <td>0.06599</td>\n",
       "      <td>0.06390</td>\n",
       "      <td>0.06400</td>\n",
       "      <td>0.06019</td>\n",
       "      <td>0.06591</td>\n",
       "      <td>0.06841</td>\n",
       "    </tr>\n",
       "    <tr>\n",
       "      <th>OutUseNb</th>\n",
       "      <td>0.05704</td>\n",
       "      <td>0.06775</td>\n",
       "      <td>0.03859</td>\n",
       "      <td>0.05462</td>\n",
       "      <td>0.05874</td>\n",
       "      <td>0.06496</td>\n",
       "    </tr>\n",
       "    <tr>\n",
       "      <th>MariStat</th>\n",
       "      <td>0.04125</td>\n",
       "      <td>-0.05163</td>\n",
       "      <td>-0.02856</td>\n",
       "      <td>-0.04648</td>\n",
       "      <td>-0.04213</td>\n",
       "      <td>-0.03892</td>\n",
       "    </tr>\n",
       "    <tr>\n",
       "      <th>SocioCateg_CSP2</th>\n",
       "      <td>0.03421</td>\n",
       "      <td>-0.04609</td>\n",
       "      <td>-0.02862</td>\n",
       "      <td>-0.02999</td>\n",
       "      <td>-0.02980</td>\n",
       "      <td>-0.04146</td>\n",
       "    </tr>\n",
       "    <tr>\n",
       "      <th>SocioCateg_CSP3</th>\n",
       "      <td>0.02518</td>\n",
       "      <td>0.03325</td>\n",
       "      <td>0.03083</td>\n",
       "      <td>0.01862</td>\n",
       "      <td>0.00978</td>\n",
       "      <td>0.03070</td>\n",
       "    </tr>\n",
       "    <tr>\n",
       "      <th>SocioCateg_CSP6</th>\n",
       "      <td>0.02482</td>\n",
       "      <td>0.03810</td>\n",
       "      <td>0.01951</td>\n",
       "      <td>0.02365</td>\n",
       "      <td>0.02168</td>\n",
       "      <td>0.01012</td>\n",
       "    </tr>\n",
       "    <tr>\n",
       "      <th>RiskArea</th>\n",
       "      <td>0.02242</td>\n",
       "      <td>0.01072</td>\n",
       "      <td>0.01725</td>\n",
       "      <td>0.02738</td>\n",
       "      <td>0.02751</td>\n",
       "      <td>0.02911</td>\n",
       "    </tr>\n",
       "    <tr>\n",
       "      <th>SocioCateg_CSP4</th>\n",
       "      <td>0.01270</td>\n",
       "      <td>0.00959</td>\n",
       "      <td>0.02044</td>\n",
       "      <td>0.01300</td>\n",
       "      <td>0.00974</td>\n",
       "      <td>0.00698</td>\n",
       "    </tr>\n",
       "    <tr>\n",
       "      <th>SocioCateg_CSP1</th>\n",
       "      <td>0.01200</td>\n",
       "      <td>-0.01483</td>\n",
       "      <td>-0.02040</td>\n",
       "      <td>-0.01868</td>\n",
       "      <td>-0.00881</td>\n",
       "      <td>0.00040</td>\n",
       "    </tr>\n",
       "    <tr>\n",
       "      <th>SocioCateg_CSP7</th>\n",
       "      <td>0.00524</td>\n",
       "      <td>-0.00402</td>\n",
       "      <td>-0.00378</td>\n",
       "      <td>-0.03449</td>\n",
       "      <td>-0.00153</td>\n",
       "      <td>-0.00589</td>\n",
       "    </tr>\n",
       "    <tr>\n",
       "      <th>driver_minage_m</th>\n",
       "      <td>0.00393</td>\n",
       "      <td>0.10517</td>\n",
       "      <td>0.01763</td>\n",
       "      <td>-0.01622</td>\n",
       "      <td>-0.07899</td>\n",
       "      <td>0.07954</td>\n",
       "    </tr>\n",
       "    <tr>\n",
       "      <th>SocioCateg_CSP5</th>\n",
       "      <td>0.00177</td>\n",
       "      <td>-0.00062</td>\n",
       "      <td>-0.00168</td>\n",
       "      <td>0.00000</td>\n",
       "      <td>0.00000</td>\n",
       "      <td>-0.01041</td>\n",
       "    </tr>\n",
       "    <tr>\n",
       "      <th>driver_minage_m_2</th>\n",
       "      <td>0.00000</td>\n",
       "      <td>-0.07947</td>\n",
       "      <td>0.00000</td>\n",
       "      <td>0.00000</td>\n",
       "      <td>0.06684</td>\n",
       "      <td>-0.05775</td>\n",
       "    </tr>\n",
       "    <tr>\n",
       "      <th>VehUsage_Private+trip to office</th>\n",
       "      <td>0.00000</td>\n",
       "      <td>0.00000</td>\n",
       "      <td>0.00000</td>\n",
       "      <td>0.00000</td>\n",
       "      <td>0.00000</td>\n",
       "      <td>-0.02711</td>\n",
       "    </tr>\n",
       "  </tbody>\n",
       "</table>\n",
       "</div>"
      ],
      "text/plain": [
       "                                 overall        0  ...        3        4\n",
       "Intercept                        1.57587 -1.56734  ... -1.57722 -1.58118\n",
       "driver_minage_f                  0.19839  0.13710  ...  0.13313  0.07679\n",
       "BonusMalus                       0.19684  0.20135  ...  0.19152  0.19133\n",
       "HasKmLimit                       0.13729 -0.14421  ... -0.12881 -0.12836\n",
       "driver_minage_f_2                0.11390 -0.06284  ... -0.06348 -0.01602\n",
       "VehUsage_Professional            0.10578  0.10703  ...  0.10760  0.08377\n",
       "VehUsage_Private                 0.09012 -0.08870  ... -0.09252 -0.11583\n",
       "Gender                           0.07935 -0.05047  ... -0.08577 -0.02506\n",
       "VehUsage_Professional run        0.06599  0.06390  ...  0.06591  0.06841\n",
       "OutUseNb                         0.05704  0.06775  ...  0.05874  0.06496\n",
       "MariStat                         0.04125 -0.05163  ... -0.04213 -0.03892\n",
       "SocioCateg_CSP2                  0.03421 -0.04609  ... -0.02980 -0.04146\n",
       "SocioCateg_CSP3                  0.02518  0.03325  ...  0.00978  0.03070\n",
       "SocioCateg_CSP6                  0.02482  0.03810  ...  0.02168  0.01012\n",
       "RiskArea                         0.02242  0.01072  ...  0.02751  0.02911\n",
       "SocioCateg_CSP4                  0.01270  0.00959  ...  0.00974  0.00698\n",
       "SocioCateg_CSP1                  0.01200 -0.01483  ... -0.00881  0.00040\n",
       "SocioCateg_CSP7                  0.00524 -0.00402  ... -0.00153 -0.00589\n",
       "driver_minage_m                  0.00393  0.10517  ... -0.07899  0.07954\n",
       "SocioCateg_CSP5                  0.00177 -0.00062  ...  0.00000 -0.01041\n",
       "driver_minage_m_2                0.00000 -0.07947  ...  0.06684 -0.05775\n",
       "VehUsage_Private+trip to office  0.00000  0.00000  ...  0.00000 -0.02711\n",
       "\n",
       "[22 rows x 6 columns]"
      ]
     },
     "execution_count": 39,
     "metadata": {
      "tags": []
     },
     "output_type": "execute_result"
    }
   ],
   "source": [
    "# Таблица нормированных коэффициентов по всем данным и на кросс-валидации\n",
    "\n",
    "pmodels = {}\n",
    "pmodels['overall'] = glm_poisson.coef_norm()\n",
    "for x in range(len(glm_poisson.cross_validation_models())):\n",
    "    pmodels[x] = glm_poisson.cross_validation_models()[x].coef_norm()\n",
    "coef = pd.DataFrame.from_dict(pmodels).round(5)\n",
    "coef['overall'] = abs(coef['overall'])\n",
    "coef.sort_values('overall',ascending=False)"
   ]
  },
  {
   "cell_type": "code",
   "execution_count": 40,
   "metadata": {
    "colab": {
     "base_uri": "https://localhost:8080/"
    },
    "id": "RiHV0aTKHjdK",
    "outputId": "5b7e444e-0f3f-47cc-e3ff-6420a544b671"
   },
   "outputs": [
    {
     "name": "stdout",
     "output_type": "stream",
     "text": [
      "glm prediction progress: |████████████████████████████████████████████████| 100%\n",
      "glm prediction progress: |████████████████████████████████████████████████| 100%\n",
      "glm prediction progress: |████████████████████████████████████████████████| 100%\n"
     ]
    }
   ],
   "source": [
    "# Построение прогнозных значений для обучающей, валидационной и тестовой выборок\n",
    "\n",
    "c_train_pred = glm_poisson.predict(h2o_train_c).as_data_frame()\n",
    "c_valid_pred = glm_poisson.predict(h2o_valid_c).as_data_frame()\n",
    "c_test_pred = glm_poisson.predict(h2o_test_c).as_data_frame()"
   ]
  },
  {
   "cell_type": "code",
   "execution_count": 43,
   "metadata": {
    "id": "BL8JJbnVTrY5"
   },
   "outputs": [],
   "source": [
    "# Сохранение обученной модели\n",
    "\n",
    "model_glm_poisson = h2o.save_model(model=glm_poisson, path=PATH, force=True)"
   ]
  },
  {
   "cell_type": "code",
   "execution_count": 44,
   "metadata": {
    "colab": {
     "base_uri": "https://localhost:8080/",
     "height": 35
    },
    "id": "bsXU4eF4T5cX",
    "outputId": "953d9085-33cc-4542-8855-972335c2b308"
   },
   "outputs": [
    {
     "data": {
      "application/vnd.google.colaboratory.intrinsic+json": {
       "type": "string"
      },
      "text/plain": [
       "'/content/drive/My Drive/мои временные ряды/GLM_model_python_1605533644962_1'"
      ]
     },
     "execution_count": 44,
     "metadata": {
      "tags": []
     },
     "output_type": "execute_result"
    }
   ],
   "source": [
    "model_glm_poisson"
   ]
  },
  {
   "cell_type": "markdown",
   "metadata": {
    "id": "8nmnj56EM9gK"
   },
   "source": [
    "## Построение GLM для среднего убытка"
   ]
  },
  {
   "cell_type": "code",
   "execution_count": 45,
   "metadata": {
    "colab": {
     "base_uri": "https://localhost:8080/"
    },
    "id": "9u4TIE54NAeo",
    "outputId": "7b552995-a8a6-4cef-cce0-8ca41ff23895"
   },
   "outputs": [
    {
     "name": "stdout",
     "output_type": "stream",
     "text": [
      "Parse progress: |█████████████████████████████████████████████████████████| 100%\n",
      "Parse progress: |█████████████████████████████████████████████████████████| 100%\n",
      "Parse progress: |█████████████████████████████████████████████████████████| 100%\n"
     ]
    }
   ],
   "source": [
    "# Преобразование в H2O-Frame\n",
    "\n",
    "h2o_train_ac = h2o.H2OFrame(pd.concat([x_train_ac, y_train_ac], axis=1))\n",
    "h2o_valid_ac = h2o.H2OFrame(pd.concat([x_valid_ac, y_valid_ac], axis=1))\n",
    "h2o_test_ac = h2o.H2OFrame(pd.concat([x_test_ac, y_test_ac], axis=1))"
   ]
  },
  {
   "cell_type": "code",
   "execution_count": 46,
   "metadata": {
    "colab": {
     "base_uri": "https://localhost:8080/"
    },
    "id": "O4ZJ3o25EKnP",
    "outputId": "e722c63c-63b3-407c-d77a-1f15cc29e88f"
   },
   "outputs": [
    {
     "name": "stdout",
     "output_type": "stream",
     "text": [
      "glm Model Build progress: |███████████████████████████████████████████████| 100%\n"
     ]
    }
   ],
   "source": [
    "# Инициализируем и обучим GLM модель c кросс-валидацией\n",
    "\n",
    "glm_gamma = H2OGeneralizedLinearEstimator(family = \"gamma\", link = \"Log\", nfolds=5)\n",
    "glm_gamma.train(y=\"AvgClaim\", x = h2o_train_ac.names[1:-1], training_frame = h2o_train_ac, validation_frame = h2o_valid_ac)"
   ]
  },
  {
   "cell_type": "code",
   "execution_count": 47,
   "metadata": {
    "colab": {
     "base_uri": "https://localhost:8080/",
     "height": 185
    },
    "id": "tAC4dIdJEKXl",
    "outputId": "8e32669f-e7ff-4c44-937e-2ded757848ee"
   },
   "outputs": [
    {
     "name": "stdout",
     "output_type": "stream",
     "text": [
      "\n",
      "GLM Model: summary\n"
     ]
    },
    {
     "data": {
      "text/html": [
       "<div>\n",
       "<style scoped>\n",
       "    .dataframe tbody tr th:only-of-type {\n",
       "        vertical-align: middle;\n",
       "    }\n",
       "\n",
       "    .dataframe tbody tr th {\n",
       "        vertical-align: top;\n",
       "    }\n",
       "\n",
       "    .dataframe thead th {\n",
       "        text-align: right;\n",
       "    }\n",
       "</style>\n",
       "<table border=\"1\" class=\"dataframe\">\n",
       "  <thead>\n",
       "    <tr style=\"text-align: right;\">\n",
       "      <th></th>\n",
       "      <th></th>\n",
       "      <th>family</th>\n",
       "      <th>link</th>\n",
       "      <th>regularization</th>\n",
       "      <th>number_of_predictors_total</th>\n",
       "      <th>number_of_active_predictors</th>\n",
       "      <th>number_of_iterations</th>\n",
       "      <th>training_frame</th>\n",
       "    </tr>\n",
       "  </thead>\n",
       "  <tbody>\n",
       "    <tr>\n",
       "      <th>0</th>\n",
       "      <td></td>\n",
       "      <td>gamma</td>\n",
       "      <td>log</td>\n",
       "      <td>Elastic Net (alpha = 0.5, lambda = 2.602E-4 )</td>\n",
       "      <td>21</td>\n",
       "      <td>19</td>\n",
       "      <td>3</td>\n",
       "      <td>Key_Frame__upload_b8311a55242fe66f5750530f27e34873.hex</td>\n",
       "    </tr>\n",
       "  </tbody>\n",
       "</table>\n",
       "</div>"
      ],
      "text/plain": [
       "     ...                                          training_frame\n",
       "0    ...  Key_Frame__upload_b8311a55242fe66f5750530f27e34873.hex\n",
       "\n",
       "[1 rows x 8 columns]"
      ]
     },
     "metadata": {
      "tags": []
     },
     "output_type": "display_data"
    },
    {
     "data": {
      "text/plain": []
     },
     "execution_count": 47,
     "metadata": {
      "tags": []
     },
     "output_type": "execute_result"
    }
   ],
   "source": [
    "# Параметры модели: распределение, функция связи, гиперпараметры регуляризации, количество использованных объясняющих переменных\n",
    "\n",
    "glm_gamma.summary()"
   ]
  },
  {
   "cell_type": "code",
   "execution_count": 48,
   "metadata": {
    "colab": {
     "base_uri": "https://localhost:8080/",
     "height": 297
    },
    "id": "NfRbZGBoE7vP",
    "outputId": "2f396393-0925-458d-9079-b1f10a722375"
   },
   "outputs": [
    {
     "data": {
      "text/html": [
       "<div>\n",
       "<style scoped>\n",
       "    .dataframe tbody tr th:only-of-type {\n",
       "        vertical-align: middle;\n",
       "    }\n",
       "\n",
       "    .dataframe tbody tr th {\n",
       "        vertical-align: top;\n",
       "    }\n",
       "\n",
       "    .dataframe thead th {\n",
       "        text-align: right;\n",
       "    }\n",
       "</style>\n",
       "<table border=\"1\" class=\"dataframe\">\n",
       "  <thead>\n",
       "    <tr style=\"text-align: right;\">\n",
       "      <th></th>\n",
       "      <th></th>\n",
       "      <th>mean</th>\n",
       "      <th>sd</th>\n",
       "      <th>cv_1_valid</th>\n",
       "      <th>cv_2_valid</th>\n",
       "      <th>cv_3_valid</th>\n",
       "      <th>cv_4_valid</th>\n",
       "      <th>cv_5_valid</th>\n",
       "    </tr>\n",
       "  </thead>\n",
       "  <tbody>\n",
       "    <tr>\n",
       "      <th>0</th>\n",
       "      <td>mae</td>\n",
       "      <td>1190.8392</td>\n",
       "      <td>129.51599</td>\n",
       "      <td>1208.218</td>\n",
       "      <td>1067.9434</td>\n",
       "      <td>1166.8622</td>\n",
       "      <td>1401.7589</td>\n",
       "      <td>1109.4136</td>\n",
       "    </tr>\n",
       "    <tr>\n",
       "      <th>1</th>\n",
       "      <td>mean_residual_deviance</td>\n",
       "      <td>2.1068776</td>\n",
       "      <td>0.22957285</td>\n",
       "      <td>2.1381848</td>\n",
       "      <td>1.9411021</td>\n",
       "      <td>2.02232</td>\n",
       "      <td>2.4913607</td>\n",
       "      <td>1.9414207</td>\n",
       "    </tr>\n",
       "    <tr>\n",
       "      <th>2</th>\n",
       "      <td>mse</td>\n",
       "      <td>1.5610973E7</td>\n",
       "      <td>2.3538292E7</td>\n",
       "      <td>7537069.0</td>\n",
       "      <td>2948727.8</td>\n",
       "      <td>5486113.0</td>\n",
       "      <td>5.7611864E7</td>\n",
       "      <td>4471091.5</td>\n",
       "    </tr>\n",
       "    <tr>\n",
       "      <th>3</th>\n",
       "      <td>null_deviance</td>\n",
       "      <td>3192.9414</td>\n",
       "      <td>401.5984</td>\n",
       "      <td>3302.5198</td>\n",
       "      <td>3068.492</td>\n",
       "      <td>2857.0964</td>\n",
       "      <td>3839.1165</td>\n",
       "      <td>2897.4824</td>\n",
       "    </tr>\n",
       "    <tr>\n",
       "      <th>4</th>\n",
       "      <td>r2</td>\n",
       "      <td>-0.0081882775</td>\n",
       "      <td>0.006268702</td>\n",
       "      <td>-0.008187827</td>\n",
       "      <td>-0.017583193</td>\n",
       "      <td>-0.00363329</td>\n",
       "      <td>-0.0014986525</td>\n",
       "      <td>-0.010038426</td>\n",
       "    </tr>\n",
       "    <tr>\n",
       "      <th>5</th>\n",
       "      <td>residual_deviance</td>\n",
       "      <td>3207.4905</td>\n",
       "      <td>388.34787</td>\n",
       "      <td>3363.3645</td>\n",
       "      <td>3041.7073</td>\n",
       "      <td>2889.8955</td>\n",
       "      <td>3816.7644</td>\n",
       "      <td>2925.721</td>\n",
       "    </tr>\n",
       "    <tr>\n",
       "      <th>6</th>\n",
       "      <td>rmse</td>\n",
       "      <td>3301.9094</td>\n",
       "      <td>2425.9963</td>\n",
       "      <td>2745.3723</td>\n",
       "      <td>1717.186</td>\n",
       "      <td>2342.2454</td>\n",
       "      <td>7590.248</td>\n",
       "      <td>2114.4956</td>\n",
       "    </tr>\n",
       "    <tr>\n",
       "      <th>7</th>\n",
       "      <td>rmsle</td>\n",
       "      <td>1.7663689</td>\n",
       "      <td>0.04512212</td>\n",
       "      <td>1.7516303</td>\n",
       "      <td>1.8446426</td>\n",
       "      <td>1.7590585</td>\n",
       "      <td>1.7291467</td>\n",
       "      <td>1.7473663</td>\n",
       "    </tr>\n",
       "  </tbody>\n",
       "</table>\n",
       "</div>"
      ],
      "text/plain": [
       "                                    mean  ...     cv_4_valid    cv_5_valid\n",
       "0                     mae      1190.8392  ...      1401.7589     1109.4136\n",
       "1  mean_residual_deviance      2.1068776  ...      2.4913607     1.9414207\n",
       "2                     mse    1.5610973E7  ...    5.7611864E7     4471091.5\n",
       "3           null_deviance      3192.9414  ...      3839.1165     2897.4824\n",
       "4                      r2  -0.0081882775  ...  -0.0014986525  -0.010038426\n",
       "5       residual_deviance      3207.4905  ...      3816.7644      2925.721\n",
       "6                    rmse      3301.9094  ...       7590.248     2114.4956\n",
       "7                   rmsle      1.7663689  ...      1.7291467     1.7473663\n",
       "\n",
       "[8 rows x 8 columns]"
      ]
     },
     "execution_count": 48,
     "metadata": {
      "tags": []
     },
     "output_type": "execute_result"
    }
   ],
   "source": [
    "# Метрики качества модели - по всем данным и на кросс-валидации\n",
    "\n",
    "glm_gamma.cross_validation_metrics_summary().as_data_frame()"
   ]
  },
  {
   "cell_type": "code",
   "execution_count": 49,
   "metadata": {
    "colab": {
     "base_uri": "https://localhost:8080/",
     "height": 731
    },
    "id": "uHZ93uk_E7nZ",
    "outputId": "26274020-0008-4ff9-ccfe-0f9922e237b3"
   },
   "outputs": [
    {
     "data": {
      "text/html": [
       "<div>\n",
       "<style scoped>\n",
       "    .dataframe tbody tr th:only-of-type {\n",
       "        vertical-align: middle;\n",
       "    }\n",
       "\n",
       "    .dataframe tbody tr th {\n",
       "        vertical-align: top;\n",
       "    }\n",
       "\n",
       "    .dataframe thead th {\n",
       "        text-align: right;\n",
       "    }\n",
       "</style>\n",
       "<table border=\"1\" class=\"dataframe\">\n",
       "  <thead>\n",
       "    <tr style=\"text-align: right;\">\n",
       "      <th></th>\n",
       "      <th>names</th>\n",
       "      <th>coefficients</th>\n",
       "      <th>standardized_coefficients</th>\n",
       "    </tr>\n",
       "  </thead>\n",
       "  <tbody>\n",
       "    <tr>\n",
       "      <th>0</th>\n",
       "      <td>Intercept</td>\n",
       "      <td>7.310145</td>\n",
       "      <td>7.017288</td>\n",
       "    </tr>\n",
       "    <tr>\n",
       "      <th>1</th>\n",
       "      <td>Gender</td>\n",
       "      <td>-0.314623</td>\n",
       "      <td>-0.152506</td>\n",
       "    </tr>\n",
       "    <tr>\n",
       "      <th>2</th>\n",
       "      <td>MariStat</td>\n",
       "      <td>0.299338</td>\n",
       "      <td>0.110533</td>\n",
       "    </tr>\n",
       "    <tr>\n",
       "      <th>3</th>\n",
       "      <td>HasKmLimit</td>\n",
       "      <td>-0.066859</td>\n",
       "      <td>-0.016827</td>\n",
       "    </tr>\n",
       "    <tr>\n",
       "      <th>4</th>\n",
       "      <td>BonusMalus</td>\n",
       "      <td>-0.002345</td>\n",
       "      <td>-0.039579</td>\n",
       "    </tr>\n",
       "    <tr>\n",
       "      <th>5</th>\n",
       "      <td>OutUseNb</td>\n",
       "      <td>-0.021085</td>\n",
       "      <td>-0.015749</td>\n",
       "    </tr>\n",
       "    <tr>\n",
       "      <th>6</th>\n",
       "      <td>RiskArea</td>\n",
       "      <td>0.030396</td>\n",
       "      <td>0.067861</td>\n",
       "    </tr>\n",
       "    <tr>\n",
       "      <th>7</th>\n",
       "      <td>driver_minage_m</td>\n",
       "      <td>-0.021733</td>\n",
       "      <td>-0.397791</td>\n",
       "    </tr>\n",
       "    <tr>\n",
       "      <th>8</th>\n",
       "      <td>driver_minage_f</td>\n",
       "      <td>0.012161</td>\n",
       "      <td>0.187589</td>\n",
       "    </tr>\n",
       "    <tr>\n",
       "      <th>9</th>\n",
       "      <td>driver_minage_m_2</td>\n",
       "      <td>0.000179</td>\n",
       "      <td>0.268589</td>\n",
       "    </tr>\n",
       "    <tr>\n",
       "      <th>10</th>\n",
       "      <td>driver_minage_f_2</td>\n",
       "      <td>-0.000154</td>\n",
       "      <td>-0.183893</td>\n",
       "    </tr>\n",
       "    <tr>\n",
       "      <th>11</th>\n",
       "      <td>VehUsage_Private</td>\n",
       "      <td>0.000000</td>\n",
       "      <td>0.000000</td>\n",
       "    </tr>\n",
       "    <tr>\n",
       "      <th>12</th>\n",
       "      <td>VehUsage_Private+trip to office</td>\n",
       "      <td>0.024089</td>\n",
       "      <td>0.012019</td>\n",
       "    </tr>\n",
       "    <tr>\n",
       "      <th>13</th>\n",
       "      <td>VehUsage_Professional</td>\n",
       "      <td>-0.021973</td>\n",
       "      <td>-0.008023</td>\n",
       "    </tr>\n",
       "    <tr>\n",
       "      <th>14</th>\n",
       "      <td>VehUsage_Professional run</td>\n",
       "      <td>-0.290266</td>\n",
       "      <td>-0.044476</td>\n",
       "    </tr>\n",
       "    <tr>\n",
       "      <th>15</th>\n",
       "      <td>SocioCateg_CSP1</td>\n",
       "      <td>-0.129253</td>\n",
       "      <td>-0.020325</td>\n",
       "    </tr>\n",
       "    <tr>\n",
       "      <th>16</th>\n",
       "      <td>SocioCateg_CSP2</td>\n",
       "      <td>-0.218260</td>\n",
       "      <td>-0.037997</td>\n",
       "    </tr>\n",
       "    <tr>\n",
       "      <th>17</th>\n",
       "      <td>SocioCateg_CSP3</td>\n",
       "      <td>-0.069526</td>\n",
       "      <td>-0.006869</td>\n",
       "    </tr>\n",
       "    <tr>\n",
       "      <th>18</th>\n",
       "      <td>SocioCateg_CSP4</td>\n",
       "      <td>-0.019099</td>\n",
       "      <td>-0.005290</td>\n",
       "    </tr>\n",
       "    <tr>\n",
       "      <th>19</th>\n",
       "      <td>SocioCateg_CSP5</td>\n",
       "      <td>0.000000</td>\n",
       "      <td>0.000000</td>\n",
       "    </tr>\n",
       "    <tr>\n",
       "      <th>20</th>\n",
       "      <td>SocioCateg_CSP6</td>\n",
       "      <td>0.092551</td>\n",
       "      <td>0.035955</td>\n",
       "    </tr>\n",
       "    <tr>\n",
       "      <th>21</th>\n",
       "      <td>SocioCateg_CSP7</td>\n",
       "      <td>-1.358740</td>\n",
       "      <td>-0.015578</td>\n",
       "    </tr>\n",
       "  </tbody>\n",
       "</table>\n",
       "</div>"
      ],
      "text/plain": [
       "                              names  coefficients  standardized_coefficients\n",
       "0                         Intercept      7.310145                   7.017288\n",
       "1                            Gender     -0.314623                  -0.152506\n",
       "2                          MariStat      0.299338                   0.110533\n",
       "3                        HasKmLimit     -0.066859                  -0.016827\n",
       "4                        BonusMalus     -0.002345                  -0.039579\n",
       "5                          OutUseNb     -0.021085                  -0.015749\n",
       "6                          RiskArea      0.030396                   0.067861\n",
       "7                   driver_minage_m     -0.021733                  -0.397791\n",
       "8                   driver_minage_f      0.012161                   0.187589\n",
       "9                 driver_minage_m_2      0.000179                   0.268589\n",
       "10                driver_minage_f_2     -0.000154                  -0.183893\n",
       "11                 VehUsage_Private      0.000000                   0.000000\n",
       "12  VehUsage_Private+trip to office      0.024089                   0.012019\n",
       "13            VehUsage_Professional     -0.021973                  -0.008023\n",
       "14        VehUsage_Professional run     -0.290266                  -0.044476\n",
       "15                  SocioCateg_CSP1     -0.129253                  -0.020325\n",
       "16                  SocioCateg_CSP2     -0.218260                  -0.037997\n",
       "17                  SocioCateg_CSP3     -0.069526                  -0.006869\n",
       "18                  SocioCateg_CSP4     -0.019099                  -0.005290\n",
       "19                  SocioCateg_CSP5      0.000000                   0.000000\n",
       "20                  SocioCateg_CSP6      0.092551                   0.035955\n",
       "21                  SocioCateg_CSP7     -1.358740                  -0.015578"
      ]
     },
     "execution_count": 49,
     "metadata": {
      "tags": []
     },
     "output_type": "execute_result"
    }
   ],
   "source": [
    "# Таблица коэффициентов модели (в зависимости от модели могут выводиться также стандартная ошибка, z-score и p-value)\n",
    "\n",
    "glm_gamma._model_json['output']['coefficients_table'].as_data_frame()"
   ]
  },
  {
   "cell_type": "code",
   "execution_count": 50,
   "metadata": {
    "colab": {
     "base_uri": "https://localhost:8080/",
     "height": 731
    },
    "id": "DFa-sS1ME7eq",
    "outputId": "9f12aaa2-646c-4c6c-e7bc-798f0137820a"
   },
   "outputs": [
    {
     "data": {
      "text/html": [
       "<div>\n",
       "<style scoped>\n",
       "    .dataframe tbody tr th:only-of-type {\n",
       "        vertical-align: middle;\n",
       "    }\n",
       "\n",
       "    .dataframe tbody tr th {\n",
       "        vertical-align: top;\n",
       "    }\n",
       "\n",
       "    .dataframe thead th {\n",
       "        text-align: right;\n",
       "    }\n",
       "</style>\n",
       "<table border=\"1\" class=\"dataframe\">\n",
       "  <thead>\n",
       "    <tr style=\"text-align: right;\">\n",
       "      <th></th>\n",
       "      <th>overall</th>\n",
       "      <th>0</th>\n",
       "      <th>1</th>\n",
       "      <th>2</th>\n",
       "      <th>3</th>\n",
       "      <th>4</th>\n",
       "    </tr>\n",
       "  </thead>\n",
       "  <tbody>\n",
       "    <tr>\n",
       "      <th>Intercept</th>\n",
       "      <td>1.57587</td>\n",
       "      <td>7.00818</td>\n",
       "      <td>7.06150</td>\n",
       "      <td>7.01234</td>\n",
       "      <td>6.96099</td>\n",
       "      <td>7.03166</td>\n",
       "    </tr>\n",
       "    <tr>\n",
       "      <th>driver_minage_f</th>\n",
       "      <td>0.19839</td>\n",
       "      <td>0.32266</td>\n",
       "      <td>0.15360</td>\n",
       "      <td>0.38411</td>\n",
       "      <td>0.02946</td>\n",
       "      <td>0.01831</td>\n",
       "    </tr>\n",
       "    <tr>\n",
       "      <th>BonusMalus</th>\n",
       "      <td>0.19684</td>\n",
       "      <td>-0.05882</td>\n",
       "      <td>-0.03431</td>\n",
       "      <td>-0.02534</td>\n",
       "      <td>-0.00291</td>\n",
       "      <td>-0.06073</td>\n",
       "    </tr>\n",
       "    <tr>\n",
       "      <th>HasKmLimit</th>\n",
       "      <td>0.13729</td>\n",
       "      <td>-0.01004</td>\n",
       "      <td>-0.02563</td>\n",
       "      <td>-0.01843</td>\n",
       "      <td>-0.00285</td>\n",
       "      <td>-0.02733</td>\n",
       "    </tr>\n",
       "    <tr>\n",
       "      <th>driver_minage_f_2</th>\n",
       "      <td>0.11390</td>\n",
       "      <td>-0.28853</td>\n",
       "      <td>-0.16055</td>\n",
       "      <td>-0.33636</td>\n",
       "      <td>-0.04873</td>\n",
       "      <td>-0.05839</td>\n",
       "    </tr>\n",
       "    <tr>\n",
       "      <th>VehUsage_Professional</th>\n",
       "      <td>0.10578</td>\n",
       "      <td>-0.02146</td>\n",
       "      <td>-0.00660</td>\n",
       "      <td>-0.00401</td>\n",
       "      <td>0.00700</td>\n",
       "      <td>-0.01442</td>\n",
       "    </tr>\n",
       "    <tr>\n",
       "      <th>VehUsage_Private</th>\n",
       "      <td>0.09012</td>\n",
       "      <td>0.00579</td>\n",
       "      <td>0.00000</td>\n",
       "      <td>0.00000</td>\n",
       "      <td>0.00000</td>\n",
       "      <td>0.00000</td>\n",
       "    </tr>\n",
       "    <tr>\n",
       "      <th>Gender</th>\n",
       "      <td>0.07935</td>\n",
       "      <td>-0.18162</td>\n",
       "      <td>-0.07521</td>\n",
       "      <td>-0.21324</td>\n",
       "      <td>-0.13369</td>\n",
       "      <td>-0.13396</td>\n",
       "    </tr>\n",
       "    <tr>\n",
       "      <th>VehUsage_Professional run</th>\n",
       "      <td>0.06599</td>\n",
       "      <td>-0.05256</td>\n",
       "      <td>-0.03179</td>\n",
       "      <td>-0.05861</td>\n",
       "      <td>-0.01852</td>\n",
       "      <td>-0.06048</td>\n",
       "    </tr>\n",
       "    <tr>\n",
       "      <th>OutUseNb</th>\n",
       "      <td>0.05704</td>\n",
       "      <td>-0.00673</td>\n",
       "      <td>-0.03025</td>\n",
       "      <td>-0.02598</td>\n",
       "      <td>-0.00152</td>\n",
       "      <td>-0.00884</td>\n",
       "    </tr>\n",
       "    <tr>\n",
       "      <th>MariStat</th>\n",
       "      <td>0.04125</td>\n",
       "      <td>0.15885</td>\n",
       "      <td>0.12113</td>\n",
       "      <td>0.11887</td>\n",
       "      <td>0.01556</td>\n",
       "      <td>0.12285</td>\n",
       "    </tr>\n",
       "    <tr>\n",
       "      <th>SocioCateg_CSP2</th>\n",
       "      <td>0.03421</td>\n",
       "      <td>-0.02288</td>\n",
       "      <td>-0.04761</td>\n",
       "      <td>-0.06743</td>\n",
       "      <td>-0.01048</td>\n",
       "      <td>-0.03718</td>\n",
       "    </tr>\n",
       "    <tr>\n",
       "      <th>SocioCateg_CSP3</th>\n",
       "      <td>0.02518</td>\n",
       "      <td>-0.00171</td>\n",
       "      <td>-0.01717</td>\n",
       "      <td>0.00359</td>\n",
       "      <td>-0.00322</td>\n",
       "      <td>-0.01757</td>\n",
       "    </tr>\n",
       "    <tr>\n",
       "      <th>SocioCateg_CSP6</th>\n",
       "      <td>0.02482</td>\n",
       "      <td>0.03659</td>\n",
       "      <td>0.04066</td>\n",
       "      <td>0.04549</td>\n",
       "      <td>0.01609</td>\n",
       "      <td>0.03498</td>\n",
       "    </tr>\n",
       "    <tr>\n",
       "      <th>RiskArea</th>\n",
       "      <td>0.02242</td>\n",
       "      <td>0.06585</td>\n",
       "      <td>0.05937</td>\n",
       "      <td>0.06339</td>\n",
       "      <td>0.07691</td>\n",
       "      <td>0.07561</td>\n",
       "    </tr>\n",
       "    <tr>\n",
       "      <th>SocioCateg_CSP4</th>\n",
       "      <td>0.01270</td>\n",
       "      <td>-0.00123</td>\n",
       "      <td>0.00000</td>\n",
       "      <td>-0.01008</td>\n",
       "      <td>-0.00663</td>\n",
       "      <td>-0.01253</td>\n",
       "    </tr>\n",
       "    <tr>\n",
       "      <th>SocioCateg_CSP1</th>\n",
       "      <td>0.01200</td>\n",
       "      <td>-0.02202</td>\n",
       "      <td>-0.02923</td>\n",
       "      <td>-0.01401</td>\n",
       "      <td>-0.02527</td>\n",
       "      <td>-0.00998</td>\n",
       "    </tr>\n",
       "    <tr>\n",
       "      <th>SocioCateg_CSP7</th>\n",
       "      <td>0.00524</td>\n",
       "      <td>-0.01673</td>\n",
       "      <td>-0.01813</td>\n",
       "      <td>-0.01562</td>\n",
       "      <td>0.00000</td>\n",
       "      <td>-0.01720</td>\n",
       "    </tr>\n",
       "    <tr>\n",
       "      <th>driver_minage_m</th>\n",
       "      <td>0.00393</td>\n",
       "      <td>-0.31051</td>\n",
       "      <td>-0.16324</td>\n",
       "      <td>-0.36530</td>\n",
       "      <td>-0.70644</td>\n",
       "      <td>-0.41179</td>\n",
       "    </tr>\n",
       "    <tr>\n",
       "      <th>SocioCateg_CSP5</th>\n",
       "      <td>0.00177</td>\n",
       "      <td>0.00000</td>\n",
       "      <td>0.00000</td>\n",
       "      <td>0.00000</td>\n",
       "      <td>0.00000</td>\n",
       "      <td>0.00000</td>\n",
       "    </tr>\n",
       "    <tr>\n",
       "      <th>driver_minage_m_2</th>\n",
       "      <td>0.00000</td>\n",
       "      <td>0.20112</td>\n",
       "      <td>0.08674</td>\n",
       "      <td>0.23560</td>\n",
       "      <td>0.55929</td>\n",
       "      <td>0.24652</td>\n",
       "    </tr>\n",
       "    <tr>\n",
       "      <th>VehUsage_Private+trip to office</th>\n",
       "      <td>0.00000</td>\n",
       "      <td>0.00000</td>\n",
       "      <td>0.02089</td>\n",
       "      <td>0.03541</td>\n",
       "      <td>0.00000</td>\n",
       "      <td>0.00227</td>\n",
       "    </tr>\n",
       "  </tbody>\n",
       "</table>\n",
       "</div>"
      ],
      "text/plain": [
       "                                 overall        0  ...        3        4\n",
       "Intercept                        1.57587  7.00818  ...  6.96099  7.03166\n",
       "driver_minage_f                  0.19839  0.32266  ...  0.02946  0.01831\n",
       "BonusMalus                       0.19684 -0.05882  ... -0.00291 -0.06073\n",
       "HasKmLimit                       0.13729 -0.01004  ... -0.00285 -0.02733\n",
       "driver_minage_f_2                0.11390 -0.28853  ... -0.04873 -0.05839\n",
       "VehUsage_Professional            0.10578 -0.02146  ...  0.00700 -0.01442\n",
       "VehUsage_Private                 0.09012  0.00579  ...  0.00000  0.00000\n",
       "Gender                           0.07935 -0.18162  ... -0.13369 -0.13396\n",
       "VehUsage_Professional run        0.06599 -0.05256  ... -0.01852 -0.06048\n",
       "OutUseNb                         0.05704 -0.00673  ... -0.00152 -0.00884\n",
       "MariStat                         0.04125  0.15885  ...  0.01556  0.12285\n",
       "SocioCateg_CSP2                  0.03421 -0.02288  ... -0.01048 -0.03718\n",
       "SocioCateg_CSP3                  0.02518 -0.00171  ... -0.00322 -0.01757\n",
       "SocioCateg_CSP6                  0.02482  0.03659  ...  0.01609  0.03498\n",
       "RiskArea                         0.02242  0.06585  ...  0.07691  0.07561\n",
       "SocioCateg_CSP4                  0.01270 -0.00123  ... -0.00663 -0.01253\n",
       "SocioCateg_CSP1                  0.01200 -0.02202  ... -0.02527 -0.00998\n",
       "SocioCateg_CSP7                  0.00524 -0.01673  ...  0.00000 -0.01720\n",
       "driver_minage_m                  0.00393 -0.31051  ... -0.70644 -0.41179\n",
       "SocioCateg_CSP5                  0.00177  0.00000  ...  0.00000  0.00000\n",
       "driver_minage_m_2                0.00000  0.20112  ...  0.55929  0.24652\n",
       "VehUsage_Private+trip to office  0.00000  0.00000  ...  0.00000  0.00227\n",
       "\n",
       "[22 rows x 6 columns]"
      ]
     },
     "execution_count": 50,
     "metadata": {
      "tags": []
     },
     "output_type": "execute_result"
    }
   ],
   "source": [
    "# Таблица нормированных коэффициентов по всем данным и на кросс-валидации\n",
    "\n",
    "pmodels = {}\n",
    "pmodels['overall'] = glm_gamma.coef_norm()\n",
    "for x in range(len(glm_gamma.cross_validation_models())):\n",
    "    pmodels[x] = glm_gamma.cross_validation_models()[x].coef_norm()\n",
    "coef_ac = pd.DataFrame.from_dict(pmodels).round(5)\n",
    "coef_ac['overall'] = abs(coef['overall'])\n",
    "coef_ac.sort_values('overall',ascending=False)"
   ]
  },
  {
   "cell_type": "code",
   "execution_count": 51,
   "metadata": {
    "colab": {
     "base_uri": "https://localhost:8080/"
    },
    "id": "CoBse4X5_no7",
    "outputId": "e5bb6dee-118a-4e15-e7aa-8b85c663c2a1"
   },
   "outputs": [
    {
     "name": "stdout",
     "output_type": "stream",
     "text": [
      "glm prediction progress: |████████████████████████████████████████████████| 100%\n",
      "glm prediction progress: |████████████████████████████████████████████████| 100%\n",
      "glm prediction progress: |████████████████████████████████████████████████| 100%\n"
     ]
    }
   ],
   "source": [
    "# Построение прогнозных значений для обучающей, валидационной и тестовой выборок\n",
    "\n",
    "ac_train_pred = glm_gamma.predict(h2o_train_ac).as_data_frame()\n",
    "ac_valid_pred = glm_gamma.predict(h2o_valid_ac).as_data_frame()\n",
    "ac_test_pred = glm_gamma.predict(h2o_test_ac).as_data_frame()"
   ]
  },
  {
   "cell_type": "code",
   "execution_count": 54,
   "metadata": {
    "id": "3Brr0O0zUKKW"
   },
   "outputs": [],
   "source": [
    "# Сохранение обученной модели\n",
    "\n",
    "model_glm_gamma = h2o.save_model(model=glm_gamma, path=PATH, force=True)"
   ]
  },
  {
   "cell_type": "code",
   "execution_count": 55,
   "metadata": {
    "colab": {
     "base_uri": "https://localhost:8080/",
     "height": 35
    },
    "id": "VouX3Z7FUKIN",
    "outputId": "2a90da1c-ad1b-456f-d81c-fa1b0cee01f2"
   },
   "outputs": [
    {
     "data": {
      "application/vnd.google.colaboratory.intrinsic+json": {
       "type": "string"
      },
      "text/plain": [
       "'/content/drive/My Drive/мои временные ряды/GLM_model_python_1605533644962_2'"
      ]
     },
     "execution_count": 55,
     "metadata": {
      "tags": []
     },
     "output_type": "execute_result"
    }
   ],
   "source": [
    "model_glm_gamma"
   ]
  },
  {
   "cell_type": "markdown",
   "metadata": {
    "id": "A84l-r2aIxfK"
   },
   "source": [
    "## Использование GLM моделей"
   ]
  },
  {
   "cell_type": "code",
   "execution_count": 56,
   "metadata": {
    "colab": {
     "base_uri": "https://localhost:8080/"
    },
    "id": "-bkMpTD6Gcra",
    "outputId": "4fdc98bb-3030-4d03-b927-76616d4edba4"
   },
   "outputs": [
    {
     "name": "stdout",
     "output_type": "stream",
     "text": [
      "Parse progress: |█████████████████████████████████████████████████████████| 100%\n"
     ]
    }
   ],
   "source": [
    "h2o_df = h2o.H2OFrame(df_freq[col_features])"
   ]
  },
  {
   "cell_type": "code",
   "execution_count": 57,
   "metadata": {
    "colab": {
     "base_uri": "https://localhost:8080/"
    },
    "id": "meqzcQNpI6JJ",
    "outputId": "10d51683-06af-44e9-a300-bec3dfd9082c"
   },
   "outputs": [
    {
     "name": "stdout",
     "output_type": "stream",
     "text": [
      "glm prediction progress: |████████████████████████████████████████████████| 100%\n",
      "glm prediction progress: |████████████████████████████████████████████████| 100%\n"
     ]
    }
   ],
   "source": [
    "df['CountPredicted'] = glm_poisson.predict(h2o_df).as_data_frame()\n",
    "df['AvgClaimPredicted'] = glm_gamma.predict(h2o_df).as_data_frame()"
   ]
  },
  {
   "cell_type": "code",
   "execution_count": 58,
   "metadata": {
    "colab": {
     "base_uri": "https://localhost:8080/",
     "height": 204
    },
    "id": "gjK52WywJdHk",
    "outputId": "1c3be39b-3181-49d9-f9b2-1f66b1ba3c55"
   },
   "outputs": [
    {
     "data": {
      "text/html": [
       "<div>\n",
       "<style scoped>\n",
       "    .dataframe tbody tr th:only-of-type {\n",
       "        vertical-align: middle;\n",
       "    }\n",
       "\n",
       "    .dataframe tbody tr th {\n",
       "        vertical-align: top;\n",
       "    }\n",
       "\n",
       "    .dataframe thead th {\n",
       "        text-align: right;\n",
       "    }\n",
       "</style>\n",
       "<table border=\"1\" class=\"dataframe\">\n",
       "  <thead>\n",
       "    <tr style=\"text-align: right;\">\n",
       "      <th></th>\n",
       "      <th>CountPredicted</th>\n",
       "      <th>AvgClaimPredicted</th>\n",
       "      <th>BurningCost</th>\n",
       "    </tr>\n",
       "  </thead>\n",
       "  <tbody>\n",
       "    <tr>\n",
       "      <th>0</th>\n",
       "      <td>0.268689</td>\n",
       "      <td>1087.936414</td>\n",
       "      <td>292.316704</td>\n",
       "    </tr>\n",
       "    <tr>\n",
       "      <th>1</th>\n",
       "      <td>0.268689</td>\n",
       "      <td>1087.936414</td>\n",
       "      <td>292.316704</td>\n",
       "    </tr>\n",
       "    <tr>\n",
       "      <th>2</th>\n",
       "      <td>0.240122</td>\n",
       "      <td>1146.063987</td>\n",
       "      <td>275.195142</td>\n",
       "    </tr>\n",
       "    <tr>\n",
       "      <th>3</th>\n",
       "      <td>0.200097</td>\n",
       "      <td>1127.364931</td>\n",
       "      <td>225.582287</td>\n",
       "    </tr>\n",
       "    <tr>\n",
       "      <th>4</th>\n",
       "      <td>0.168869</td>\n",
       "      <td>1106.883916</td>\n",
       "      <td>186.918109</td>\n",
       "    </tr>\n",
       "  </tbody>\n",
       "</table>\n",
       "</div>"
      ],
      "text/plain": [
       "   CountPredicted  AvgClaimPredicted  BurningCost\n",
       "0        0.268689        1087.936414   292.316704\n",
       "1        0.268689        1087.936414   292.316704\n",
       "2        0.240122        1146.063987   275.195142\n",
       "3        0.200097        1127.364931   225.582287\n",
       "4        0.168869        1106.883916   186.918109"
      ]
     },
     "execution_count": 58,
     "metadata": {
      "tags": []
     },
     "output_type": "execute_result"
    }
   ],
   "source": [
    "df['BurningCost'] = df.CountPredicted * df.AvgClaimPredicted\n",
    "df[['CountPredicted', 'AvgClaimPredicted', 'BurningCost']].head()"
   ]
  },
  {
   "cell_type": "markdown",
   "metadata": {
    "id": "Xljx8j0-_jXR"
   },
   "source": [
    "# * Домашнее задание: GLM для прогнозирования наступления страхового случая"
   ]
  },
  {
   "cell_type": "code",
   "execution_count": 59,
   "metadata": {
    "id": "EgD9hvYAIury"
   },
   "outputs": [],
   "source": [
    "# Разбиение датасета на train/val/test\n",
    "\n",
    "df_ind = data.get_pd(col_features+['ClaimInd'])\n",
    "\n",
    "x_train_ind, x_test_ind, y_train_ind, y_test_ind = train_test_split(df_ind[col_features], df_ind.ClaimInd, test_size=0.3, random_state=1)\n",
    "x_valid_ind, x_test_ind, y_valid_ind, y_test_ind = train_test_split(x_test_ind, y_test_ind, test_size=0.5, random_state=1)"
   ]
  },
  {
   "cell_type": "code",
   "execution_count": 60,
   "metadata": {
    "colab": {
     "base_uri": "https://localhost:8080/",
     "height": 35
    },
    "id": "Bt_i4clofGFR",
    "outputId": "91376985-5b41-447b-a092-4c913664f303"
   },
   "outputs": [
    {
     "data": {
      "application/vnd.google.colaboratory.intrinsic+json": {
       "type": "string"
      },
      "text/plain": [
       "'<Ваш код здесь>'"
      ]
     },
     "execution_count": 60,
     "metadata": {
      "tags": []
     },
     "output_type": "execute_result"
    }
   ],
   "source": [
    "# Преобразование в H2O-Frame\n",
    "\n",
    "'<Ваш код здесь>'"
   ]
  },
  {
   "cell_type": "code",
   "execution_count": null,
   "metadata": {
    "colab": {
     "base_uri": "https://localhost:8080/",
     "height": 34
    },
    "id": "5ETBVckIjIRC",
    "outputId": "06a3a2de-37d1-4c13-d49c-bd797f299665"
   },
   "outputs": [
    {
     "data": {
      "text/plain": [
       "'<Ваш код здесь>'"
      ]
     },
     "execution_count": 52,
     "metadata": {
      "tags": []
     },
     "output_type": "execute_result"
    }
   ],
   "source": [
    "# Преобразуем целевую переменную ClaimInd в категориальную при помощи метода asfactor во всех наборах данных\n",
    "\n",
    "'<Ваш код здесь>'"
   ]
  },
  {
   "cell_type": "code",
   "execution_count": null,
   "metadata": {
    "colab": {
     "base_uri": "https://localhost:8080/",
     "height": 34
    },
    "id": "xoT7OG9ljwKY",
    "outputId": "b5ef07d3-af7d-467f-c1a6-3e085b9b62c2"
   },
   "outputs": [
    {
     "data": {
      "text/plain": [
       "'<Ваш код здесь>'"
      ]
     },
     "execution_count": 53,
     "metadata": {
      "tags": []
     },
     "output_type": "execute_result"
    }
   ],
   "source": [
    "# Инициализируем и обучим GLM модель c кросс-валидацией\n",
    "\n",
    "'<Ваш код здесь>'"
   ]
  },
  {
   "cell_type": "code",
   "execution_count": null,
   "metadata": {
    "colab": {
     "base_uri": "https://localhost:8080/",
     "height": 34
    },
    "id": "WXbmbcSDoOXs",
    "outputId": "80740811-29e4-4462-ccc4-425d1037b2de"
   },
   "outputs": [
    {
     "data": {
      "text/plain": [
       "'<Ваш код здесь>'"
      ]
     },
     "execution_count": 54,
     "metadata": {
      "tags": []
     },
     "output_type": "execute_result"
    }
   ],
   "source": [
    "# Параметры модели: распределение, функция связи, гиперпараметры регуляризации, количество использованных объясняющих переменных\n",
    "\n",
    "'<Ваш код здесь>'"
   ]
  },
  {
   "cell_type": "code",
   "execution_count": null,
   "metadata": {
    "colab": {
     "base_uri": "https://localhost:8080/",
     "height": 34
    },
    "id": "mUvoWpAkoRir",
    "outputId": "1a762703-2b1d-4cde-ee57-cfdd16a28a72"
   },
   "outputs": [
    {
     "data": {
      "text/plain": [
       "'<Ваш код здесь>'"
      ]
     },
     "execution_count": 55,
     "metadata": {
      "tags": []
     },
     "output_type": "execute_result"
    }
   ],
   "source": [
    "# Метрики качества модели - по всем данным и на кросс-валидации\n",
    "\n",
    "'<Ваш код здесь>'"
   ]
  },
  {
   "cell_type": "code",
   "execution_count": null,
   "metadata": {
    "colab": {
     "base_uri": "https://localhost:8080/",
     "height": 34
    },
    "id": "D8USRdSmoYy_",
    "outputId": "df4cec07-ec56-4620-d3b8-82d506d9562c"
   },
   "outputs": [
    {
     "data": {
      "text/plain": [
       "'<Ваш код здесь>'"
      ]
     },
     "execution_count": 56,
     "metadata": {
      "tags": []
     },
     "output_type": "execute_result"
    }
   ],
   "source": [
    "# Таблица коэффициентов модели (в зависимости от модели могут выводиться также стандартная ошибка, z-score и p-value)\n",
    "\n",
    "'<Ваш код здесь>'"
   ]
  },
  {
   "cell_type": "code",
   "execution_count": null,
   "metadata": {
    "colab": {
     "base_uri": "https://localhost:8080/",
     "height": 34
    },
    "id": "KZ_XqTchoiYX",
    "outputId": "e3c87bcb-28cb-4e93-d265-a04ca7db176b"
   },
   "outputs": [
    {
     "data": {
      "text/plain": [
       "'<Ваш код здесь>'"
      ]
     },
     "execution_count": 57,
     "metadata": {
      "tags": []
     },
     "output_type": "execute_result"
    }
   ],
   "source": [
    "# Таблица нормированных коэффициентов по всем данным и на кросс-валидации\n",
    "\n",
    "'<Ваш код здесь>'"
   ]
  },
  {
   "cell_type": "code",
   "execution_count": null,
   "metadata": {
    "colab": {
     "base_uri": "https://localhost:8080/",
     "height": 34
    },
    "id": "T9I59UXGpYlh",
    "outputId": "05fd5a65-cba0-4ab3-83d6-d06fcaf2e8bf"
   },
   "outputs": [
    {
     "data": {
      "text/plain": [
       "'<Ваш код здесь>'"
      ]
     },
     "execution_count": 58,
     "metadata": {
      "tags": []
     },
     "output_type": "execute_result"
    }
   ],
   "source": [
    "# Построение прогнозных значений для обучающей, валидационной и тестовой выборок\n",
    "\n",
    "'<Ваш код здесь>'"
   ]
  },
  {
   "cell_type": "code",
   "execution_count": null,
   "metadata": {
    "id": "g00U1gQBp_Wq"
   },
   "outputs": [],
   "source": [
    "from sklearn.metrics import accuracy_score, f1_score, confusion_matrix"
   ]
  },
  {
   "cell_type": "code",
   "execution_count": null,
   "metadata": {
    "colab": {
     "base_uri": "https://localhost:8080/",
     "height": 34
    },
    "id": "oVwiMaWlqRCz",
    "outputId": "7939a9ac-afc3-4249-912f-5b55548a1170"
   },
   "outputs": [
    {
     "data": {
      "text/plain": [
       "'<Ваш код здесь>'"
      ]
     },
     "execution_count": 60,
     "metadata": {
      "tags": []
     },
     "output_type": "execute_result"
    }
   ],
   "source": [
    "# Выведем импортированные выше метрики классификации для обучающей, валидационной и тестовой выборок\n",
    "\n",
    "'<Ваш код здесь>'"
   ]
  },
  {
   "cell_type": "markdown",
   "metadata": {
    "id": "2TNOSiKDs-U6"
   },
   "source": [
    "Какие проблемы вы здесь видите? Как можно улучшить данный результат?"
   ]
  }
 ],
 "metadata": {
  "colab": {
   "collapsed_sections": [
    "7dox3dTJN5JP",
    "oR02DxanOGDk",
    "VpYxkXdrLD01",
    "6qEMtZhcy0nZ",
    "rXdxE61XFNXd",
    "g556ItOFqrlt",
    "idUKi7_RqxHA",
    "hUUC9Vmhf5aB",
    "fKCG1lssMNA7",
    "YttnrY4wMqu3",
    "8nmnj56EM9gK",
    "A84l-r2aIxfK",
    "Xljx8j0-_jXR"
   ],
   "name": "GB Lesson 2 praсtic.ipynb",
   "provenance": []
  },
  "kernelspec": {
   "display_name": "Python 3",
   "language": "python",
   "name": "python3"
  },
  "language_info": {
   "codemirror_mode": {
    "name": "ipython",
    "version": 3
   },
   "file_extension": ".py",
   "mimetype": "text/x-python",
   "name": "python",
   "nbconvert_exporter": "python",
   "pygments_lexer": "ipython3",
   "version": "3.7.6"
  }
 },
 "nbformat": 4,
 "nbformat_minor": 1
}
