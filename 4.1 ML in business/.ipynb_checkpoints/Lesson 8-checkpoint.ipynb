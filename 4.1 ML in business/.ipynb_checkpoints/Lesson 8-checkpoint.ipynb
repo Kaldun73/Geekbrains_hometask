{
 "cells": [
  {
   "cell_type": "code",
   "execution_count": 1,
   "metadata": {
    "id": "5_kh5pdFZ_bn"
   },
   "outputs": [],
   "source": [
    "import pandas as pd\n",
    "import numpy as np\n",
    "import xgboost as xgb\n",
    "import matplotlib.pyplot as plt\n",
    "from sklearn.model_selection import train_test_split\n",
    "from sklearn.metrics import f1_score, accuracy_score, confusion_matrix\n",
    "from hyperopt import hp, tpe, space_eval, fmin\n",
    "\n",
    "import warnings\n",
    "warnings.filterwarnings('ignore')"
   ]
  },
  {
   "cell_type": "markdown",
   "metadata": {
    "id": "Xljx8j0-_jXR"
   },
   "source": [
    "### * Домашнее задание: Многоклассовая классификация"
   ]
  },
  {
   "cell_type": "markdown",
   "metadata": {
    "id": "bVx_WNaKwibO"
   },
   "source": [
    "В текущем домашнем задание предлагается взглянуть на задачу моделирования количества страховых случаев как на задачу многоклассовой классификации."
   ]
  },
  {
   "cell_type": "code",
   "execution_count": 2,
   "metadata": {
    "id": "cdgTw4I-7GdC"
   },
   "outputs": [],
   "source": [
    "df = pd.read_csv('freMPL-R.csv', low_memory=False)"
   ]
  },
  {
   "cell_type": "code",
   "execution_count": 3,
   "metadata": {
    "colab": {
     "base_uri": "https://localhost:8080/"
    },
    "id": "ydyEnF3VCbXO",
    "outputId": "74dd5a64-3a04-4666-dad3-a5ec7e33fa8e"
   },
   "outputs": [
    {
     "name": "stdout",
     "output_type": "stream",
     "text": [
      "<class 'pandas.core.frame.DataFrame'>\n",
      "RangeIndex: 115155 entries, 0 to 115154\n",
      "Data columns (total 20 columns):\n",
      " #   Column             Non-Null Count   Dtype  \n",
      "---  ------             --------------   -----  \n",
      " 0   Exposure           115155 non-null  float64\n",
      " 1   LicAge             115155 non-null  int64  \n",
      " 2   RecordBeg          115155 non-null  object \n",
      " 3   RecordEnd          59455 non-null   object \n",
      " 4   Gender             115155 non-null  object \n",
      " 5   MariStat           115155 non-null  object \n",
      " 6   SocioCateg         115155 non-null  object \n",
      " 7   VehUsage           115155 non-null  object \n",
      " 8   DrivAge            115155 non-null  int64  \n",
      " 9   HasKmLimit         115155 non-null  int64  \n",
      " 10  BonusMalus         115155 non-null  int64  \n",
      " 11  ClaimAmount        115155 non-null  float64\n",
      " 12  ClaimInd           115155 non-null  int64  \n",
      " 13  ClaimNbResp        115155 non-null  float64\n",
      " 14  ClaimNbNonResp     115155 non-null  float64\n",
      " 15  ClaimNbParking     115155 non-null  float64\n",
      " 16  ClaimNbFireTheft   115155 non-null  float64\n",
      " 17  ClaimNbWindscreen  115155 non-null  float64\n",
      " 18  OutUseNb           115155 non-null  float64\n",
      " 19  RiskArea           115155 non-null  float64\n",
      "dtypes: float64(9), int64(5), object(6)\n",
      "memory usage: 17.6+ MB\n"
     ]
    }
   ],
   "source": [
    "df = df.loc[df.Dataset.isin([5, 6, 7, 8, 9])]\n",
    "df.drop('Dataset', axis=1, inplace=True)\n",
    "df.dropna(axis=1, how='all', inplace=True)\n",
    "df.drop_duplicates(inplace=True)\n",
    "df.reset_index(drop=True, inplace=True)\n",
    "df.info()"
   ]
  },
  {
   "cell_type": "markdown",
   "metadata": {
    "id": "r9dMlMh5QcXt"
   },
   "source": [
    "Предобработайте данные"
   ]
  },
  {
   "cell_type": "code",
   "execution_count": 4,
   "metadata": {
    "colab": {
     "base_uri": "https://localhost:8080/",
     "height": 35
    },
    "id": "WdtY7qDp8veM",
    "outputId": "22346cba-7d10-41da-c3ca-b61c8536b46e"
   },
   "outputs": [],
   "source": [
    "df['ClaimsCount'] = df['ClaimInd'] + df['ClaimNbResp'] + df['ClaimNbNonResp'] + df['ClaimNbParking'] + df['ClaimNbFireTheft'] + df['ClaimNbWindscreen']\n",
    "df.loc[df.ClaimAmount == 0, 'ClaimsCount'] = 0\n",
    "df.drop([\"ClaimNbResp\", \"ClaimNbNonResp\", \"ClaimNbParking\", \"ClaimNbFireTheft\", \n",
    "         \"ClaimNbWindscreen\", 'RecordBeg', 'RecordEnd', 'SocioCateg'], axis=1, inplace=True)\n",
    "\n",
    "NegClaimAmount = df.loc[df.ClaimAmount < 0, ['ClaimAmount','ClaimInd']]\n",
    "df.loc[df.ClaimAmount < 0, 'ClaimAmount'] = 0\n",
    "df.loc[df['ClaimsCount'] > 0, 'AvgClaim'] = df['ClaimAmount']/df['ClaimsCount']\n",
    "\n",
    "df['Gender'] = df['Gender'].map({'Male':1, 'Female':2})\n",
    "df['MariStat'] = df['MariStat'].map({'Other':1, 'Alone':2})\n",
    "df['VehUsage'] = df['VehUsage'].map({'Professional':1, 'Private+trip to office':2, 'Private':3, 'Professional run':4})\n"
   ]
  },
  {
   "cell_type": "code",
   "execution_count": 5,
   "metadata": {
    "colab": {
     "base_uri": "https://localhost:8080/"
    },
    "id": "S4g1U0-rdIZq",
    "outputId": "68bbc21c-b80c-4d49-8233-0745b98d5866"
   },
   "outputs": [
    {
     "name": "stdout",
     "output_type": "stream",
     "text": [
      "<class 'pandas.core.frame.DataFrame'>\n",
      "RangeIndex: 115155 entries, 0 to 115154\n",
      "Data columns (total 14 columns):\n",
      " #   Column       Non-Null Count   Dtype  \n",
      "---  ------       --------------   -----  \n",
      " 0   Exposure     115155 non-null  float64\n",
      " 1   LicAge       115155 non-null  int64  \n",
      " 2   Gender       115155 non-null  int64  \n",
      " 3   MariStat     115155 non-null  int64  \n",
      " 4   VehUsage     115155 non-null  int64  \n",
      " 5   DrivAge      115155 non-null  int64  \n",
      " 6   HasKmLimit   115155 non-null  int64  \n",
      " 7   BonusMalus   115155 non-null  int64  \n",
      " 8   ClaimAmount  115155 non-null  float64\n",
      " 9   ClaimInd     115155 non-null  int64  \n",
      " 10  OutUseNb     115155 non-null  float64\n",
      " 11  RiskArea     115155 non-null  float64\n",
      " 12  ClaimsCount  115155 non-null  float64\n",
      " 13  AvgClaim     11546 non-null   float64\n",
      "dtypes: float64(6), int64(8)\n",
      "memory usage: 12.3 MB\n"
     ]
    }
   ],
   "source": [
    "df.info()"
   ]
  },
  {
   "cell_type": "markdown",
   "metadata": {
    "id": "2m1bibe9nMKp"
   },
   "source": [
    "XGBoost для многоклассовой классификации принимает на вход значения меток классов в виде `[0, num_classes]`. Заменим значение 11 на 10."
   ]
  },
  {
   "cell_type": "code",
   "execution_count": 6,
   "metadata": {
    "colab": {
     "base_uri": "https://localhost:8080/"
    },
    "id": "ehf8mHX5tVNG",
    "outputId": "49c837c4-0a6d-40de-bc5b-0334451fe38c"
   },
   "outputs": [
    {
     "data": {
      "text/plain": [
       "0.0     103609\n",
       "2.0       3725\n",
       "1.0       3675\n",
       "3.0       2402\n",
       "4.0       1140\n",
       "5.0        441\n",
       "6.0        128\n",
       "7.0         26\n",
       "8.0          6\n",
       "9.0          2\n",
       "11.0         1\n",
       "Name: ClaimsCount, dtype: int64"
      ]
     },
     "execution_count": 6,
     "metadata": {},
     "output_type": "execute_result"
    }
   ],
   "source": [
    "df.ClaimsCount.value_counts()"
   ]
  },
  {
   "cell_type": "code",
   "execution_count": 7,
   "metadata": {
    "id": "2TR4a8TrPQyR"
   },
   "outputs": [],
   "source": [
    "df.loc[(df.ClaimsCount == 11),'ClaimsCount'] = 10"
   ]
  },
  {
   "cell_type": "markdown",
   "metadata": {
    "id": "ypsKd_4xWit1"
   },
   "source": [
    "Примеров с меткой 10,9, 8, 7, 6 - экстремально мала - размножим их просто дописав по тексту n раз "
   ]
  },
  {
   "cell_type": "code",
   "execution_count": 8,
   "metadata": {
    "id": "93Hl8PF5TCZI"
   },
   "outputs": [
    {
     "data": {
      "text/plain": [
       "0.0     103609\n",
       "2.0       3725\n",
       "1.0       3675\n",
       "3.0       2402\n",
       "4.0       1140\n",
       "5.0        441\n",
       "7.0        286\n",
       "6.0        128\n",
       "8.0         66\n",
       "9.0         22\n",
       "10.0        11\n",
       "Name: ClaimsCount, dtype: int64"
      ]
     },
     "execution_count": 8,
     "metadata": {},
     "output_type": "execute_result"
    }
   ],
   "source": [
    "ff = df.loc[(df.ClaimsCount == 10)|(df.ClaimsCount == 9)|(df.ClaimsCount == 8)|(df.ClaimsCount == 7),:] \n",
    "n = 10\n",
    "for i in range(n):\n",
    "  df = pd.concat([df,ff])\n",
    "df.ClaimsCount.value_counts() "
   ]
  },
  {
   "cell_type": "markdown",
   "metadata": {
    "id": "SxBnLpGIW4_x"
   },
   "source": [
    " и еще разок только для  6,10,9, 8 при n=5"
   ]
  },
  {
   "cell_type": "code",
   "execution_count": 9,
   "metadata": {
    "colab": {
     "base_uri": "https://localhost:8080/"
    },
    "id": "wbcwND5KLNeA",
    "outputId": "3f406556-9257-4fa3-bace-72320d3c7772"
   },
   "outputs": [
    {
     "data": {
      "text/plain": [
       "0.0     103609\n",
       "2.0       3725\n",
       "1.0       3675\n",
       "3.0       2402\n",
       "4.0       1140\n",
       "6.0        768\n",
       "5.0        441\n",
       "8.0        396\n",
       "7.0        286\n",
       "9.0        132\n",
       "10.0        66\n",
       "Name: ClaimsCount, dtype: int64"
      ]
     },
     "execution_count": 9,
     "metadata": {},
     "output_type": "execute_result"
    }
   ],
   "source": [
    "ff = df.loc[(df.ClaimsCount == 6)|(df.ClaimsCount == 10)|(df.ClaimsCount == 9)|(df.ClaimsCount == 8),:] \n",
    "n = 5\n",
    "for i in range(n):\n",
    "  df = pd.concat([df,ff])\n",
    "df.ClaimsCount.value_counts()  "
   ]
  },
  {
   "cell_type": "markdown",
   "metadata": {
    "id": "YmW9vysXXHAg"
   },
   "source": [
    "Собираем алгоритм классификатора"
   ]
  },
  {
   "cell_type": "code",
   "execution_count": 10,
   "metadata": {
    "id": "8y9pDOfDBJyp"
   },
   "outputs": [],
   "source": [
    "import xgboost as xgb\n",
    "from sklearn.model_selection import train_test_split\n",
    "from sklearn.preprocessing import LabelEncoder \n",
    "from xgboost import XGBClassifier\n",
    "from sklearn.metrics import accuracy_score\n",
    "\n",
    "\n",
    "\n",
    "\n",
    "x_train_cl, x_test_cl, y_train_cl, y_test_cl = train_test_split(df.iloc[-10000:,:2], df.ClaimsCount.values[-10000:] , test_size=0.3, random_state=1)\n",
    "x_valid_cl, x_test_cl, y_valid_cl, y_test_cl = train_test_split(x_test_cl, y_test_cl, test_size=0.5, random_state=1)\n"
   ]
  },
  {
   "cell_type": "markdown",
   "metadata": {
    "id": "zPVcolUqXMGY"
   },
   "source": [
    "фрейм данных для обучения, валидации и тестов"
   ]
  },
  {
   "cell_type": "code",
   "execution_count": 11,
   "metadata": {
    "id": "AibuscugHmgY"
   },
   "outputs": [],
   "source": [
    "train_cl = xgb.DMatrix(x_train_cl, y_train_cl)\n",
    "valid_cl = xgb.DMatrix(x_valid_cl, y_valid_cl)\n",
    "test_cl = xgb.DMatrix(x_test_cl, y_test_cl)"
   ]
  },
  {
   "cell_type": "markdown",
   "metadata": {
    "id": "cuT4w3HCXS0y"
   },
   "source": [
    "Убедимся , что все метки есть во всех пакетах"
   ]
  },
  {
   "cell_type": "code",
   "execution_count": 12,
   "metadata": {
    "colab": {
     "base_uri": "https://localhost:8080/"
    },
    "id": "BWloO6ehMY-D",
    "outputId": "906fe106-8818-4ff2-b6db-c854ee35f134"
   },
   "outputs": [
    {
     "name": "stdout",
     "output_type": "stream",
     "text": [
      "[ 0.  1.  2.  3.  4.  5.  6.  7.  8.  9. 10.]\n",
      "[ 0.  1.  2.  3.  4.  5.  6.  7.  8.  9. 10.]\n",
      "[ 0.  1.  2.  3.  4.  5.  6.  7.  8.  9. 10.]\n"
     ]
    }
   ],
   "source": [
    "print(np.unique(train_cl.get_label()))\n",
    "print(np.unique(test_cl.get_label()))\n",
    "print(np.unique(valid_cl.get_label()))"
   ]
  },
  {
   "cell_type": "markdown",
   "metadata": {
    "id": "fYiGS3vCXZgi"
   },
   "source": [
    "Параметры для генерации модели"
   ]
  },
  {
   "cell_type": "code",
   "execution_count": 13,
   "metadata": {
    "colab": {
     "base_uri": "https://localhost:8080/"
    },
    "id": "Obvf8tgLHIdD",
    "outputId": "4d09a2b7-3d3f-473d-81c7-90a5b089e062"
   },
   "outputs": [
    {
     "name": "stdout",
     "output_type": "stream",
     "text": [
      "[21:52:07] WARNING: C:\\Users\\Administrator\\workspace\\xgboost-win64_release_1.2.0\\src\\learner.cc:516: \n",
      "Parameters: { silent } might not be used.\n",
      "\n",
      "  This may not be accurate due to some parameters are only used in language bindings but\n",
      "  passed down to XGBoost core.  Or some parameters are not used but slip through this\n",
      "  verification. Please open an issue if you find above cases.\n",
      "\n",
      "\n",
      "[0]\ttrain-merror:0.18814\tvalid-merror:0.18333\n",
      "Multiple eval metrics have been passed: 'valid-merror' will be used for early stopping.\n",
      "\n",
      "Will train until valid-merror hasn't improved in 10 rounds.\n",
      "[1]\ttrain-merror:0.18057\tvalid-merror:0.17733\n",
      "[2]\ttrain-merror:0.17271\tvalid-merror:0.16933\n",
      "[3]\ttrain-merror:0.16657\tvalid-merror:0.16200\n",
      "[4]\ttrain-merror:0.16657\tvalid-merror:0.16200\n",
      "[5]\ttrain-merror:0.16700\tvalid-merror:0.16267\n",
      "[6]\ttrain-merror:0.16786\tvalid-merror:0.16133\n",
      "[7]\ttrain-merror:0.16914\tvalid-merror:0.16067\n",
      "[8]\ttrain-merror:0.16314\tvalid-merror:0.15267\n",
      "[9]\ttrain-merror:0.15629\tvalid-merror:0.14267\n"
     ]
    }
   ],
   "source": [
    "params_cl ={\n",
    "            'max_depth': 3,  # глубина дерева\n",
    "            'eta': 0.3,  # шаг обучения\n",
    "            'num_class': 11,  # число классов\n",
    "      \n",
    "            'objective': 'multi:softmax',  # выход модели (фактически строим 11 моделей, но перевзвесили по софтмаксу)\n",
    "            'silent':1 # молча, без логов \n",
    "            }\n",
    "\n",
    "train_params_cl = {'num_boost_round': 300,\n",
    "\n",
    "                'maximize': False,\n",
    "                'verbose_eval': False}\n",
    "\n",
    "\n",
    "progress_cl = dict()\n",
    "xgb_cl = xgb.train(params=params_cl, dtrain=train_cl, early_stopping_rounds=10,\n",
    "                     evals=[(train_cl, \"train\"), (valid_cl, \"valid\")])"
   ]
  },
  {
   "cell_type": "markdown",
   "metadata": {
    "id": "etntd4RLYPkx"
   },
   "source": [
    "Предсказываем и проверяем на аккуратность"
   ]
  },
  {
   "cell_type": "code",
   "execution_count": 14,
   "metadata": {
    "colab": {
     "base_uri": "https://localhost:8080/"
    },
    "id": "XNbL7JnpCRd_",
    "outputId": "825765ac-70b3-4443-f44d-b949491de59e"
   },
   "outputs": [
    {
     "name": "stdout",
     "output_type": "stream",
     "text": [
      "0.8736968449931413\n"
     ]
    }
   ],
   "source": [
    "\n",
    "y_pred = xgb_cl.predict(xgb.DMatrix(df.iloc[:,:2])) \n",
    "\n",
    "\n",
    "accuracy = accuracy_score(df.ClaimsCount, y_pred) \n",
    "print(accuracy)\n",
    "\n",
    "\n"
   ]
  },
  {
   "cell_type": "markdown",
   "metadata": {
    "id": "L5-TNR1EYWvH"
   },
   "source": [
    "И рисуночек"
   ]
  },
  {
   "cell_type": "code",
   "execution_count": 15,
   "metadata": {
    "colab": {
     "base_uri": "https://localhost:8080/",
     "height": 265
    },
    "id": "z7hMqwoPDCEU",
    "outputId": "2c6ce2a2-d4e6-45f8-d8a5-ce557f1feb89"
   },
   "outputs": [
    {
     "data": {
      "image/png": "[encoded data removed]",
      "text/plain": [
       "<Figure size 432x288 with 1 Axes>"
      ]
     },
     "metadata": {
      "needs_background": "light"
     },
     "output_type": "display_data"
    }
   ],
   "source": [
    "plt.plot(df.ClaimsCount[:300])\n",
    "plt.plot(y_pred[:300])\n",
    "plt.show()\n"
   ]
  },
  {
   "cell_type": "markdown",
   "metadata": {
    "id": "Nqre5rvZxL-N"
   },
   "source": [
    "Посмотрим, сколько полисов соответствуют каждому из значений `ClaimsCount`, используя метод `groupby`. Для полученных значений также посчитаем нормированную частоту."
   ]
  },
  {
   "cell_type": "code",
   "execution_count": 16,
   "metadata": {
    "id": "nHgg3kZJu8tX"
   },
   "outputs": [
    {
     "data": {
      "text/plain": [
       "0.0     113103\n",
       "6.0       2187\n",
       "8.0        713\n",
       "9.0        421\n",
       "10.0       214\n",
       "7.0          2\n",
       "Name: Count, dtype: int64"
      ]
     },
     "execution_count": 16,
     "metadata": {},
     "output_type": "execute_result"
    }
   ],
   "source": [
    "FreqCount = pd.DataFrame(y_pred, columns=['Count'])\n",
    "FreqCount['Count'].value_counts()"
   ]
  },
  {
   "cell_type": "code",
   "execution_count": 17,
   "metadata": {
    "id": "4Gy10AzjXsT9"
   },
   "outputs": [
    {
     "data": {
      "text/html": [
       "<div>\n",
       "<style scoped>\n",
       "    .dataframe tbody tr th:only-of-type {\n",
       "        vertical-align: middle;\n",
       "    }\n",
       "\n",
       "    .dataframe tbody tr th {\n",
       "        vertical-align: top;\n",
       "    }\n",
       "\n",
       "    .dataframe thead th {\n",
       "        text-align: right;\n",
       "    }\n",
       "</style>\n",
       "<table border=\"1\" class=\"dataframe\">\n",
       "  <thead>\n",
       "    <tr style=\"text-align: right;\">\n",
       "      <th></th>\n",
       "      <th>Count</th>\n",
       "    </tr>\n",
       "  </thead>\n",
       "  <tbody>\n",
       "    <tr>\n",
       "      <th>0</th>\n",
       "      <td>0.0</td>\n",
       "    </tr>\n",
       "    <tr>\n",
       "      <th>1</th>\n",
       "      <td>0.0</td>\n",
       "    </tr>\n",
       "    <tr>\n",
       "      <th>2</th>\n",
       "      <td>0.0</td>\n",
       "    </tr>\n",
       "    <tr>\n",
       "      <th>3</th>\n",
       "      <td>0.0</td>\n",
       "    </tr>\n",
       "    <tr>\n",
       "      <th>4</th>\n",
       "      <td>0.0</td>\n",
       "    </tr>\n",
       "    <tr>\n",
       "      <th>...</th>\n",
       "      <td>...</td>\n",
       "    </tr>\n",
       "    <tr>\n",
       "      <th>116635</th>\n",
       "      <td>8.0</td>\n",
       "    </tr>\n",
       "    <tr>\n",
       "      <th>116636</th>\n",
       "      <td>9.0</td>\n",
       "    </tr>\n",
       "    <tr>\n",
       "      <th>116637</th>\n",
       "      <td>8.0</td>\n",
       "    </tr>\n",
       "    <tr>\n",
       "      <th>116638</th>\n",
       "      <td>8.0</td>\n",
       "    </tr>\n",
       "    <tr>\n",
       "      <th>116639</th>\n",
       "      <td>10.0</td>\n",
       "    </tr>\n",
       "  </tbody>\n",
       "</table>\n",
       "<p>116640 rows × 1 columns</p>\n",
       "</div>"
      ],
      "text/plain": [
       "        Count\n",
       "0         0.0\n",
       "1         0.0\n",
       "2         0.0\n",
       "3         0.0\n",
       "4         0.0\n",
       "...       ...\n",
       "116635    8.0\n",
       "116636    9.0\n",
       "116637    8.0\n",
       "116638    8.0\n",
       "116639   10.0\n",
       "\n",
       "[116640 rows x 1 columns]"
      ]
     },
     "execution_count": 17,
     "metadata": {},
     "output_type": "execute_result"
    }
   ],
   "source": [
    "FreqCount"
   ]
  },
  {
   "cell_type": "markdown",
   "metadata": {
    "id": "BzM1998TZDPm"
   },
   "source": [
    "Заметим, что в данном случае присутствует проблема несбалансированности классов. Поэтому, для того, чтобы по возможности избежать ее, воспользуемся взвешиванием наблюдений для обучения модели. Для этого в исходном наборе данных создадим столбец `weight`. Присвоим ему некоторые значения, например, можно задать `0.05` для значений `ClaimsCount` 0, а для остальных - 1 (Для этого можем использовать функцию `np.where`). Также можно попробовать какой-либо другой способ задания весов, приведенный пример не гарантирует хороших результатов."
   ]
  },
  {
   "cell_type": "code",
   "execution_count": 18,
   "metadata": {
    "id": "dnL5LOi0i2oq"
   },
   "outputs": [],
   "source": [
    "df['weight'] = 1\n",
    "df.loc[df['ClaimsCount'] == 0.0, 'weight'] = 0.05"
   ]
  },
  {
   "cell_type": "markdown",
   "metadata": {
    "id": "sAlGTL0hBpNv"
   },
   "source": [
    "Разобьем имеющийся набор данных на обучающую, валидационную и тестовую выборки в отношениях 70%/15%/15% соответственно. Зададим зерно для случайного разбиения равным 10."
   ]
  },
  {
   "cell_type": "code",
   "execution_count": 19,
   "metadata": {
    "id": "0u45ocam8HCn"
   },
   "outputs": [],
   "source": [
    "target = 'ClaimsCount'\n",
    "\n",
    "X = df.drop(target, axis=1)\n",
    "y = df[target]\n",
    "\n",
    "X_train, X_test, y_train, y_test = train_test_split(X, y, test_size=0.3, random_state=10)\n",
    "X_valid, X_test, y_valid, y_test = train_test_split(X_test, y_test, test_size=0.5, random_state=10)"
   ]
  },
  {
   "cell_type": "markdown",
   "metadata": {
    "id": "PCySK2zQKsUI"
   },
   "source": [
    "Далее, создадим объекты `DMatrix` для обучающей, валидационной и тестовой выборок. Для обучающей выборки также укажем параметр `weight` равным полученному ранее столбцу весов. Данный столбец также нужно исключить из объекта передаваемого в параметр `data`."
   ]
  },
  {
   "cell_type": "code",
   "execution_count": 20,
   "metadata": {
    "id": "_67FrNffDNu-"
   },
   "outputs": [],
   "source": [
    "xgb_train = xgb.DMatrix(X_train, y_train, weight=X_train['weight'])\n",
    "xgb_valid = xgb.DMatrix(X_valid, y_valid)\n",
    "xgb_test = xgb.DMatrix(X_test, y_test)"
   ]
  },
  {
   "cell_type": "markdown",
   "metadata": {
    "id": "N__wZRJLaMfs"
   },
   "source": [
    "Для оптимизации гиперпараметров можно воспользоваться различными методами."
   ]
  },
  {
   "cell_type": "code",
   "execution_count": 22,
   "metadata": {
    "id": "-CaHsl3sDPdx"
   },
   "outputs": [],
   "source": [
    "params ={\n",
    "    'max_depth': 3, \n",
    "    'eta': 0.3,  \n",
    "    'num_class': 11,   \n",
    "}\n",
    "\n",
    "train_params = {\n",
    "    'num_boost_round': 300,\n",
    "    'maximize': False,\n",
    "    'verbose_eval': False   \n",
    "}"
   ]
  },
  {
   "cell_type": "markdown",
   "metadata": {
    "id": "_3bTqctcR84Z"
   },
   "source": [
    "Далее обучим нашу модель с оптимальными параметрами"
   ]
  },
  {
   "cell_type": "code",
   "execution_count": 24,
   "metadata": {
    "id": "I-m6Ihq6hNJF"
   },
   "outputs": [
    {
     "name": "stdout",
     "output_type": "stream",
     "text": [
      "[0]\ttrain-merror:0.37624\tvalid-merror:0.05933\n",
      "Multiple eval metrics have been passed: 'valid-merror' will be used for early stopping.\n",
      "\n",
      "Will train until valid-merror hasn't improved in 10 rounds.\n",
      "[1]\ttrain-merror:0.34000\tvalid-merror:0.05401\n",
      "[2]\ttrain-merror:0.31693\tvalid-merror:0.05007\n",
      "[3]\ttrain-merror:0.28458\tvalid-merror:0.04538\n",
      "[4]\ttrain-merror:0.26805\tvalid-merror:0.04298\n",
      "[5]\ttrain-merror:0.26571\tvalid-merror:0.04361\n",
      "[6]\ttrain-merror:0.25309\tvalid-merror:0.04121\n",
      "[7]\ttrain-merror:0.23204\tvalid-merror:0.03858\n",
      "[8]\ttrain-merror:0.21053\tvalid-merror:0.03555\n",
      "[9]\ttrain-merror:0.19759\tvalid-merror:0.03355\n"
     ]
    }
   ],
   "source": [
    "xgb = xgb.train(params=params, dtrain=xgb_train, early_stopping_rounds=10,\n",
    "                evals=[(xgb_train, \"train\"), (xgb_valid, \"valid\")])"
   ]
  },
  {
   "cell_type": "markdown",
   "metadata": {
    "id": "x9151AtiSRtD"
   },
   "source": [
    "Посчитаем метрики accuracy и f1 на наших наборах данных, также можем визуализировать confusion matrix, например, с помощью `plt.imshow()`. Можно использовать предложенный ниже код."
   ]
  },
  {
   "cell_type": "code",
   "execution_count": 27,
   "metadata": {
    "id": "A6ByYuqwD27P"
   },
   "outputs": [
    {
     "name": "stdout",
     "output_type": "stream",
     "text": [
      "F1 Score on train: 0.9689520870076426\n",
      "F1 Score on valid: 0.9664494741655235\n",
      "F1 Score on test: 0.9667924096936443\n"
     ]
    }
   ],
   "source": [
    "dfsets = [{'set': 'train', 'dmat': xgb_train, 'target': y_train},\n",
    "          {'set': 'valid', 'dmat': xgb_valid, 'target': y_valid},\n",
    "          {'set': 'test', 'dmat': xgb_test, 'target': y_test}]\n",
    "for dfset in dfsets:\n",
    "    class_preds = xgb.predict(dfset['dmat']) # Посчитаем предсказанные значения\n",
    "    print('F1 Score on ' + str(dfset['set'])+':', f1_score(dfset['target'], class_preds, average='micro')) # Посчитаем F1 Score"
   ]
  },
  {
   "cell_type": "code",
   "execution_count": 29,
   "metadata": {
    "id": "36_p091I8Www"
   },
   "outputs": [
    {
     "data": {
      "image/png": "[encoded data removed]",
      "text/plain": [
       "<Figure size 1080x216 with 6 Axes>"
      ]
     },
     "metadata": {
      "needs_background": "light"
     },
     "output_type": "display_data"
    }
   ],
   "source": [
    "plt.subplots(1,3, figsize=(15,3))\n",
    "for i in range(len(dfsets)):\n",
    "    confmatrix = confusion_matrix(dfsets[i]['target'], xgb.predict(dfsets[i]['dmat']))\n",
    "    plt.subplot(1,3,i+1)\n",
    "    plt.imshow(confmatrix, cmap='Greys')\n",
    "    plt.colorbar()\n",
    "    plt.ylabel('True')\n",
    "    plt.xlabel('Predicted')\n",
    "plt.show()"
   ]
  }
 ],
 "metadata": {
  "colab": {
   "collapsed_sections": [],
   "name": "GB Lesson 3 new.ipynb",
   "provenance": []
  },
  "kernelspec": {
   "display_name": "Python 3",
   "language": "python",
   "name": "python3"
  },
  "language_info": {
   "codemirror_mode": {
    "name": "ipython",
    "version": 3
   },
   "file_extension": ".py",
   "mimetype": "text/x-python",
   "name": "python",
   "nbconvert_exporter": "python",
   "pygments_lexer": "ipython3",
   "version": "3.7.6"
  }
 },
 "nbformat": 4,
 "nbformat_minor": 1
}
