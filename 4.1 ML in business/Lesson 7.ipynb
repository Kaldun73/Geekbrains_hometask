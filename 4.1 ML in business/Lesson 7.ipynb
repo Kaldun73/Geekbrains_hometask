{
 "cells": [
  {
   "cell_type": "markdown",
   "metadata": {
    "id": "HrxZEq_-FHNq"
   },
   "source": [
    "# Предобработка данных"
   ]
  },
  {
   "cell_type": "code",
   "execution_count": 1,
   "metadata": {
    "id": "Fj2E6mVkFR10"
   },
   "outputs": [],
   "source": [
    "import numpy as np\n",
    "import pandas as pd\n",
    "pd.options.display.max_columns = 100\n",
    "import matplotlib.pyplot as plt\n",
    "%matplotlib inline\n",
    "import seaborn as sns\n",
    "import plotly.express as px\n",
    "import plotly.graph_objects as go\n",
    "\n",
    "import warnings\n",
    "warnings.simplefilter(\"ignore\")\n",
    "from sklearn.model_selection import train_test_split\n",
    "from sklearn.metrics import accuracy_score, f1_score, confusion_matrix"
   ]
  },
  {
   "cell_type": "markdown",
   "metadata": {
    "id": "7dox3dTJN5JP"
   },
   "source": [
    "## Специфические преобразования"
   ]
  },
  {
   "cell_type": "code",
   "execution_count": 2,
   "metadata": {
    "id": "_Vs8YR9eFgvy"
   },
   "outputs": [],
   "source": [
    "# Загрузим набор данных\n",
    "\n",
    "df = pd.read_csv('freMPL-R.csv', low_memory=False)\n",
    "df = df.loc[df.Dataset.isin([5, 6, 7, 8, 9])]\n",
    "df.drop('Dataset', axis=1, inplace=True)\n",
    "df.dropna(axis=1, how='all', inplace=True)\n",
    "df.drop_duplicates(inplace=True)\n",
    "df.reset_index(drop=True, inplace=True)"
   ]
  },
  {
   "cell_type": "markdown",
   "metadata": {
    "id": "AtfDb_BWWXqQ"
   },
   "source": [
    "В предыдущем уроке мы заметили отрицательную величину убытка для некоторых наблюдений. Заметим, что для всех таких полисов переменная \"ClaimInd\" принимает только значение 0. Поэтому заменим все соответствующие значения \"ClaimAmount\" нулями."
   ]
  },
  {
   "cell_type": "code",
   "execution_count": 3,
   "metadata": {
    "colab": {
     "base_uri": "https://localhost:8080/",
     "height": 221
    },
    "id": "AklwJWsoWnAV",
    "outputId": "5a57e9ec-f0ab-4857-d66b-58227c1fda2b"
   },
   "outputs": [
    {
     "name": "stdout",
     "output_type": "stream",
     "text": [
      "Unique values of ClaimInd: [0]\n"
     ]
    },
    {
     "data": {
      "text/html": [
       "<div>\n",
       "<style scoped>\n",
       "    .dataframe tbody tr th:only-of-type {\n",
       "        vertical-align: middle;\n",
       "    }\n",
       "\n",
       "    .dataframe tbody tr th {\n",
       "        vertical-align: top;\n",
       "    }\n",
       "\n",
       "    .dataframe thead th {\n",
       "        text-align: right;\n",
       "    }\n",
       "</style>\n",
       "<table border=\"1\" class=\"dataframe\">\n",
       "  <thead>\n",
       "    <tr style=\"text-align: right;\">\n",
       "      <th></th>\n",
       "      <th>ClaimAmount</th>\n",
       "      <th>ClaimInd</th>\n",
       "    </tr>\n",
       "  </thead>\n",
       "  <tbody>\n",
       "    <tr>\n",
       "      <th>82</th>\n",
       "      <td>-74.206042</td>\n",
       "      <td>0</td>\n",
       "    </tr>\n",
       "    <tr>\n",
       "      <th>175</th>\n",
       "      <td>-1222.585196</td>\n",
       "      <td>0</td>\n",
       "    </tr>\n",
       "    <tr>\n",
       "      <th>177</th>\n",
       "      <td>-316.288822</td>\n",
       "      <td>0</td>\n",
       "    </tr>\n",
       "    <tr>\n",
       "      <th>363</th>\n",
       "      <td>-666.758610</td>\n",
       "      <td>0</td>\n",
       "    </tr>\n",
       "    <tr>\n",
       "      <th>375</th>\n",
       "      <td>-1201.600604</td>\n",
       "      <td>0</td>\n",
       "    </tr>\n",
       "  </tbody>\n",
       "</table>\n",
       "</div>"
      ],
      "text/plain": [
       "     ClaimAmount  ClaimInd\n",
       "82    -74.206042         0\n",
       "175 -1222.585196         0\n",
       "177  -316.288822         0\n",
       "363  -666.758610         0\n",
       "375 -1201.600604         0"
      ]
     },
     "execution_count": 3,
     "metadata": {},
     "output_type": "execute_result"
    }
   ],
   "source": [
    "NegClaimAmount = df.loc[df.ClaimAmount < 0, ['ClaimAmount','ClaimInd']]\n",
    "print('Unique values of ClaimInd:', NegClaimAmount.ClaimInd.unique())\n",
    "NegClaimAmount.head()"
   ]
  },
  {
   "cell_type": "code",
   "execution_count": 4,
   "metadata": {
    "id": "R7laRWoCYF4V"
   },
   "outputs": [],
   "source": [
    "df.loc[df.ClaimAmount < 0, 'ClaimAmount'] = 0"
   ]
  },
  {
   "cell_type": "markdown",
   "metadata": {
    "id": "XE_3dSsW3J3X"
   },
   "source": [
    "Для моделирования частоты убытков сгенерируем показатель как сумму индикатора того, что убыток произошел (\"ClaimInd\") и количества заявленных убытков по различным видам ущерба за 4 предшествующих года (\"ClaimNbResp\", \"ClaimNbNonResp\", \"ClaimNbParking\", \"ClaimNbFireTheft\", \"ClaimNbWindscreen\").\n",
    "\n",
    "В случаях, если соответствующая величина убытка равняется нулю, сгенерированную частоту также обнулим."
   ]
  },
  {
   "cell_type": "code",
   "execution_count": 5,
   "metadata": {
    "id": "R6rz5Oko3rbr"
   },
   "outputs": [],
   "source": [
    "df['ClaimsCount'] = df.ClaimInd + df.ClaimNbResp + df.ClaimNbNonResp + df.ClaimNbParking + df.ClaimNbFireTheft + df.ClaimNbWindscreen\n",
    "df.loc[df.ClaimAmount == 0, 'ClaimsCount'] = 0\n",
    "df.drop([\"ClaimNbResp\", \"ClaimNbNonResp\", \"ClaimNbParking\", \"ClaimNbFireTheft\", \"ClaimNbWindscreen\"], axis=1, inplace=True)"
   ]
  },
  {
   "cell_type": "code",
   "execution_count": 6,
   "metadata": {
    "colab": {
     "base_uri": "https://localhost:8080/",
     "height": 390
    },
    "id": "cJ5_aqnx4FcZ",
    "outputId": "734f2234-3112-40d2-e980-f50fd64816cd"
   },
   "outputs": [
    {
     "data": {
      "text/html": [
       "<div>\n",
       "<style scoped>\n",
       "    .dataframe tbody tr th:only-of-type {\n",
       "        vertical-align: middle;\n",
       "    }\n",
       "\n",
       "    .dataframe tbody tr th {\n",
       "        vertical-align: top;\n",
       "    }\n",
       "\n",
       "    .dataframe thead th {\n",
       "        text-align: right;\n",
       "    }\n",
       "</style>\n",
       "<table border=\"1\" class=\"dataframe\">\n",
       "  <thead>\n",
       "    <tr style=\"text-align: right;\">\n",
       "      <th></th>\n",
       "      <th>Policies</th>\n",
       "    </tr>\n",
       "  </thead>\n",
       "  <tbody>\n",
       "    <tr>\n",
       "      <th>0.0</th>\n",
       "      <td>104286</td>\n",
       "    </tr>\n",
       "    <tr>\n",
       "      <th>2.0</th>\n",
       "      <td>3529</td>\n",
       "    </tr>\n",
       "    <tr>\n",
       "      <th>1.0</th>\n",
       "      <td>3339</td>\n",
       "    </tr>\n",
       "    <tr>\n",
       "      <th>3.0</th>\n",
       "      <td>2310</td>\n",
       "    </tr>\n",
       "    <tr>\n",
       "      <th>4.0</th>\n",
       "      <td>1101</td>\n",
       "    </tr>\n",
       "    <tr>\n",
       "      <th>5.0</th>\n",
       "      <td>428</td>\n",
       "    </tr>\n",
       "    <tr>\n",
       "      <th>6.0</th>\n",
       "      <td>127</td>\n",
       "    </tr>\n",
       "    <tr>\n",
       "      <th>7.0</th>\n",
       "      <td>26</td>\n",
       "    </tr>\n",
       "    <tr>\n",
       "      <th>8.0</th>\n",
       "      <td>6</td>\n",
       "    </tr>\n",
       "    <tr>\n",
       "      <th>9.0</th>\n",
       "      <td>2</td>\n",
       "    </tr>\n",
       "    <tr>\n",
       "      <th>11.0</th>\n",
       "      <td>1</td>\n",
       "    </tr>\n",
       "  </tbody>\n",
       "</table>\n",
       "</div>"
      ],
      "text/plain": [
       "      Policies\n",
       "0.0     104286\n",
       "2.0       3529\n",
       "1.0       3339\n",
       "3.0       2310\n",
       "4.0       1101\n",
       "5.0        428\n",
       "6.0        127\n",
       "7.0         26\n",
       "8.0          6\n",
       "9.0          2\n",
       "11.0         1"
      ]
     },
     "execution_count": 6,
     "metadata": {},
     "output_type": "execute_result"
    }
   ],
   "source": [
    "pd.DataFrame(df.ClaimsCount.value_counts()).rename({'ClaimsCount': 'Policies'}, axis=1)"
   ]
  },
  {
   "cell_type": "code",
   "execution_count": 7,
   "metadata": {
    "colab": {
     "base_uri": "https://localhost:8080/",
     "height": 281
    },
    "id": "A0zvYuoZ4gcH",
    "outputId": "d7e7d71d-e700-4bfa-d6a4-9c4160ae20b7"
   },
   "outputs": [
    {
     "data": {
      "image/png": "[encoded data removed]",
      "text/plain": [
       "<Figure size 432x288 with 1 Axes>"
      ]
     },
     "metadata": {
      "needs_background": "light"
     },
     "output_type": "display_data"
    }
   ],
   "source": [
    "\n",
    "import seaborn as sns\n",
    "plt.plot(df['ClaimsCount'],df['ClaimAmount'], '.r')\n",
    "plt.title('Зависимость между частотой и величиной убытков')\n",
    "plt.show()"
   ]
  },
  {
   "cell_type": "markdown",
   "metadata": {
    "id": "iCZAeoll6xac"
   },
   "source": [
    "Для моделирования среднего убытка можем рассчитать его как отношение величины убытков к их частоте."
   ]
  },
  {
   "cell_type": "code",
   "execution_count": 8,
   "metadata": {
    "id": "y9AKwYtU6x1i"
   },
   "outputs": [],
   "source": [
    "df.loc[df.ClaimsCount > 0, 'AvgClaim'] = df['ClaimAmount']/df['ClaimsCount']"
   ]
  },
  {
   "cell_type": "markdown",
   "metadata": {
    "id": "oR02DxanOGDk"
   },
   "source": [
    "## Общие преобразования"
   ]
  },
  {
   "cell_type": "markdown",
   "metadata": {
    "id": "JbIX5hsRR2qA"
   },
   "source": [
    "Класс для общих случаев"
   ]
  },
  {
   "cell_type": "code",
   "execution_count": 9,
   "metadata": {
    "id": "Yam47yC5KkWF"
   },
   "outputs": [],
   "source": [
    "class InsDataFrame:\n",
    "\n",
    "\n",
    "    ''' Load data method '''\n",
    "\n",
    "    def load_pd(self, pd_dataframe):\n",
    "        self._df = pd_dataframe\n",
    "\n",
    "\n",
    "    ''' Columns match method '''\n",
    "\n",
    "    def columns_match(self, match_from_to):\n",
    "        self._df.rename(columns=match_from_to, inplace=True)\n",
    "\n",
    "\n",
    "    ''' Person data methods '''\n",
    "\n",
    "    # Gender\n",
    "    _gender_dict = {'Male':0, 'Female':1}\n",
    "\n",
    "    def transform_gender(self):\n",
    "        self._df['Gender'] = self._df['Gender'].map(self._gender_dict)\n",
    "\n",
    "        \n",
    "\n",
    "    # Age\n",
    "    @staticmethod\n",
    "    def _age(age, age_max):\n",
    "        if pd.isnull(age):\n",
    "            age = None\n",
    "        elif age < 18:\n",
    "            age = None\n",
    "        elif age > age_max:\n",
    "            age = age_max\n",
    "        return age\n",
    "      \n",
    "    def transform_age(self, age_max=70):\n",
    "        self._df['driver_minage'] = self._df['driver_minage'].apply(self._age, args=(age_max,))\n",
    "\n",
    "    # Age M/F\n",
    "    @staticmethod\n",
    "    def _age_gender(age_gender):\n",
    "        _age = age_gender[0]\n",
    "        _gender = age_gender[1]\n",
    "        if _gender == 0: #Male\n",
    "            _driver_minage_m = _age\n",
    "            _driver_minage_f = 18\n",
    "        elif _gender == 1: #Female\n",
    "            _driver_minage_m = 18\n",
    "            _driver_minage_f = _age\n",
    "        else:\n",
    "            _driver_minage_m = 18\n",
    "            _driver_minage_f = 18\n",
    "        return [_driver_minage_m, _driver_minage_f]\n",
    "    \n",
    "    def transform_age_gender(self):\n",
    "        self._df['driver_minage_m'],self._df['driver_minage_f'] = zip(*self._df[['driver_minage','Gender']].apply(self._age_gender, axis=1).to_frame()[0])\n",
    "\n",
    "    # Experience\n",
    "    @staticmethod\n",
    "    def _exp(exp, exp_max):\n",
    "        if pd.isnull(exp):\n",
    "            exp = None\n",
    "        elif exp < 0:\n",
    "            exp = None\n",
    "        elif exp > exp_max:\n",
    "            exp = exp_max\n",
    "        return exp\n",
    "\n",
    "    def transform_exp(self, exp_max=52):\n",
    "        self._df['driver_minexp'] = self._df['driver_minexp'].apply(self._exp, args=(exp_max,))\n",
    "\n",
    "\n",
    "    ''' Other data methods '''\n",
    "\n",
    "    def polynomizer(self, column, n=2):\n",
    "        if column in list(self._df.columns):\n",
    "            for i in range(2,n+1):\n",
    "                self._df[column+'_'+str(i)] = self._df[column]**i\n",
    "\n",
    "    def get_dummies(self, columns):\n",
    "        self._df = pd.get_dummies(self._df, columns=columns)\n",
    "\n",
    "\n",
    "    ''' General methods '''\n",
    "\n",
    "    def info(self):\n",
    "        return self._df.info()\n",
    "\n",
    "    def head(self, columns, n=5):\n",
    "        return self._df.head(n)\n",
    "\n",
    "    def len(self):\n",
    "        return len(self._df)\n",
    "\n",
    "    def get_pd(self, columns):\n",
    "        return self._df[columns]"
   ]
  },
  {
   "cell_type": "markdown",
   "metadata": {
    "id": "4kCFRjwRR7fR"
   },
   "source": [
    "Создаем класс-наследник, в котором переопределяем некоторые методы, специфические для конкретной ситуации, и создаем новые"
   ]
  },
  {
   "cell_type": "markdown",
   "metadata": {
    "id": "vSlx8FxWH9P2"
   },
   "source": [
    "- В данных стаж \"LicAge\" измеряется в неделях.\n",
    "- Фактор \"SocioCateg\" содержит информацию о социальной категории в виде кодов классификации CSP. Агрегируем имеющиеся коды до 1 знака, а затем закодируем их с помощью one-hot encoding.\n",
    "\n",
    "[Wiki](https://fr.wikipedia.org/wiki/Professions_et_cat%C3%A9gories_socioprofessionnelles_en_France#Cr%C3%A9ation_de_la_nomenclature_des_PCS)\n",
    "\n",
    "[Более подробный классификатор](https://www.ast74.fr/upload/administratif/liste-des-codes-csp-copie.pdf)"
   ]
  },
  {
   "cell_type": "code",
   "execution_count": 10,
   "metadata": {
    "id": "iIaUlNP9Kkaa"
   },
   "outputs": [],
   "source": [
    "class InsDataFrame_Fr(InsDataFrame):\n",
    "\n",
    "    # Experience (weeks to years)\n",
    "    @staticmethod\n",
    "    def _exp(exp, exp_max):\n",
    "        if pd.isnull(exp):\n",
    "            exp = None\n",
    "        elif exp < 0:\n",
    "            exp = None\n",
    "        else:\n",
    "            exp * 7 // 365\n",
    "        if exp > exp_max:\n",
    "            exp = exp_max\n",
    "        return exp\n",
    "\n",
    "    # Marital status\n",
    "    _MariStat_dict = {'Other':0, 'Alone':1}\n",
    "\n",
    "    def transform_MariStat(self):\n",
    "        self._df['MariStat'] = self._df['MariStat'].map(self._MariStat_dict)\n",
    "    \n",
    "    # Social category\n",
    "    def transform_SocioCateg(self):\n",
    "        self._df['SocioCateg'] = self._df['SocioCateg'].str.slice(0,4)"
   ]
  },
  {
   "cell_type": "markdown",
   "metadata": {
    "id": "vitxWSSBTafg"
   },
   "source": [
    "Подгружаем данные"
   ]
  },
  {
   "cell_type": "code",
   "execution_count": 11,
   "metadata": {
    "id": "EChIUi3CKkdP"
   },
   "outputs": [],
   "source": [
    "data = InsDataFrame_Fr()"
   ]
  },
  {
   "cell_type": "code",
   "execution_count": 12,
   "metadata": {
    "id": "rrDsfQK8KkhM"
   },
   "outputs": [],
   "source": [
    "data.load_pd(df)"
   ]
  },
  {
   "cell_type": "code",
   "execution_count": 13,
   "metadata": {
    "colab": {
     "base_uri": "https://localhost:8080/"
    },
    "id": "T9A3J4AZUc79",
    "outputId": "a032847a-0723-419b-c2fa-6d28ddd3fa2c"
   },
   "outputs": [
    {
     "name": "stdout",
     "output_type": "stream",
     "text": [
      "<class 'pandas.core.frame.DataFrame'>\n",
      "RangeIndex: 115155 entries, 0 to 115154\n",
      "Data columns (total 17 columns):\n",
      " #   Column       Non-Null Count   Dtype  \n",
      "---  ------       --------------   -----  \n",
      " 0   Exposure     115155 non-null  float64\n",
      " 1   LicAge       115155 non-null  int64  \n",
      " 2   RecordBeg    115155 non-null  object \n",
      " 3   RecordEnd    59455 non-null   object \n",
      " 4   Gender       115155 non-null  object \n",
      " 5   MariStat     115155 non-null  object \n",
      " 6   SocioCateg   115155 non-null  object \n",
      " 7   VehUsage     115155 non-null  object \n",
      " 8   DrivAge      115155 non-null  int64  \n",
      " 9   HasKmLimit   115155 non-null  int64  \n",
      " 10  BonusMalus   115155 non-null  int64  \n",
      " 11  ClaimAmount  115155 non-null  float64\n",
      " 12  ClaimInd     115155 non-null  int64  \n",
      " 13  OutUseNb     115155 non-null  float64\n",
      " 14  RiskArea     115155 non-null  float64\n",
      " 15  ClaimsCount  115155 non-null  float64\n",
      " 16  AvgClaim     10869 non-null   float64\n",
      "dtypes: float64(6), int64(5), object(6)\n",
      "memory usage: 14.9+ MB\n"
     ]
    }
   ],
   "source": [
    "data.info()"
   ]
  },
  {
   "cell_type": "markdown",
   "metadata": {
    "id": "QoRagZL0V2gJ"
   },
   "source": [
    "Преобразовываем параметры"
   ]
  },
  {
   "cell_type": "code",
   "execution_count": 14,
   "metadata": {
    "id": "95FE5f2rWG7e"
   },
   "outputs": [],
   "source": [
    "# Переименовываем\n",
    "data.columns_match({'DrivAge':'driver_minage','LicAge':'driver_minexp'})"
   ]
  },
  {
   "cell_type": "code",
   "execution_count": 15,
   "metadata": {
    "id": "EJLDDNW_Uc99"
   },
   "outputs": [],
   "source": [
    "# Преобразовываем\n",
    "data.transform_age()\n",
    "data.transform_exp()\n",
    "data.transform_gender()\n",
    "data.transform_MariStat()\n",
    "data.transform_SocioCateg()"
   ]
  },
  {
   "cell_type": "code",
   "execution_count": 16,
   "metadata": {
    "id": "7ZoN-JXZUdCZ"
   },
   "outputs": [],
   "source": [
    "# Пересечение пола и возраста, их квадраты\n",
    "data.transform_age_gender()\n",
    "data.polynomizer('driver_minage_m')\n",
    "data.polynomizer('driver_minage_f')"
   ]
  },
  {
   "cell_type": "markdown",
   "metadata": {
    "id": "ZdTe9JpiGvt9"
   },
   "source": [
    "Для переменных, содержащих более 2 значений:\n",
    "- либо упорядочиваем значения,\n",
    "- либо используем фиктивные переменные (one-hot encoding).\n",
    "\n",
    "**NB**: В H2O не рекомендуется использовать one-hot encoding. Тем не менее, используем здесь фиктивные переменные, чтобы в дальнейшем сохранить возможность сравнения результатов построенных моделей."
   ]
  },
  {
   "cell_type": "code",
   "execution_count": 17,
   "metadata": {
    "id": "eKCHRXxwUc6j"
   },
   "outputs": [],
   "source": [
    "# Onehot encoding\n",
    "data.get_dummies(['VehUsage','SocioCateg'])"
   ]
  },
  {
   "cell_type": "code",
   "execution_count": 18,
   "metadata": {
    "colab": {
     "base_uri": "https://localhost:8080/"
    },
    "id": "s675sGQtKkYq",
    "outputId": "fa91a96c-7be3-49b1-a415-1ef3d1766c45"
   },
   "outputs": [
    {
     "name": "stdout",
     "output_type": "stream",
     "text": [
      "<class 'pandas.core.frame.DataFrame'>\n",
      "RangeIndex: 115155 entries, 0 to 115154\n",
      "Data columns (total 30 columns):\n",
      " #   Column                           Non-Null Count   Dtype  \n",
      "---  ------                           --------------   -----  \n",
      " 0   Exposure                         115155 non-null  float64\n",
      " 1   driver_minexp                    115155 non-null  int64  \n",
      " 2   RecordBeg                        115155 non-null  object \n",
      " 3   RecordEnd                        59455 non-null   object \n",
      " 4   Gender                           115155 non-null  int64  \n",
      " 5   MariStat                         115155 non-null  int64  \n",
      " 6   driver_minage                    115155 non-null  int64  \n",
      " 7   HasKmLimit                       115155 non-null  int64  \n",
      " 8   BonusMalus                       115155 non-null  int64  \n",
      " 9   ClaimAmount                      115155 non-null  float64\n",
      " 10  ClaimInd                         115155 non-null  int64  \n",
      " 11  OutUseNb                         115155 non-null  float64\n",
      " 12  RiskArea                         115155 non-null  float64\n",
      " 13  ClaimsCount                      115155 non-null  float64\n",
      " 14  AvgClaim                         10869 non-null   float64\n",
      " 15  driver_minage_m                  115155 non-null  int64  \n",
      " 16  driver_minage_f                  115155 non-null  int64  \n",
      " 17  driver_minage_m_2                115155 non-null  int64  \n",
      " 18  driver_minage_f_2                115155 non-null  int64  \n",
      " 19  VehUsage_Private                 115155 non-null  uint8  \n",
      " 20  VehUsage_Private+trip to office  115155 non-null  uint8  \n",
      " 21  VehUsage_Professional            115155 non-null  uint8  \n",
      " 22  VehUsage_Professional run        115155 non-null  uint8  \n",
      " 23  SocioCateg_CSP1                  115155 non-null  uint8  \n",
      " 24  SocioCateg_CSP2                  115155 non-null  uint8  \n",
      " 25  SocioCateg_CSP3                  115155 non-null  uint8  \n",
      " 26  SocioCateg_CSP4                  115155 non-null  uint8  \n",
      " 27  SocioCateg_CSP5                  115155 non-null  uint8  \n",
      " 28  SocioCateg_CSP6                  115155 non-null  uint8  \n",
      " 29  SocioCateg_CSP7                  115155 non-null  uint8  \n",
      "dtypes: float64(6), int64(11), object(2), uint8(11)\n",
      "memory usage: 17.9+ MB\n"
     ]
    }
   ],
   "source": [
    "data.info()"
   ]
  },
  {
   "cell_type": "code",
   "execution_count": 19,
   "metadata": {
    "id": "2GplOpk-ZwKo"
   },
   "outputs": [],
   "source": [
    "col_features = [\n",
    "                'driver_minexp',\n",
    "                'Gender',\n",
    "                'MariStat',\n",
    "                'HasKmLimit',\n",
    "                'BonusMalus',\n",
    "                'OutUseNb',\n",
    "                'RiskArea',\n",
    "                'driver_minage_m',\n",
    "                'driver_minage_f',\n",
    "                'driver_minage_m_2',\n",
    "                'driver_minage_f_2',\n",
    "                'VehUsage_Private',\n",
    "                'VehUsage_Private+trip to office',\n",
    "                'VehUsage_Professional',\n",
    "                'VehUsage_Professional run',\n",
    "                'SocioCateg_CSP1',\n",
    "                'SocioCateg_CSP2',\n",
    "                'SocioCateg_CSP3',\n",
    "                'SocioCateg_CSP4',\n",
    "                'SocioCateg_CSP5',\n",
    "                'SocioCateg_CSP6',\n",
    "                'SocioCateg_CSP7'  \n",
    "]"
   ]
  },
  {
   "cell_type": "code",
   "execution_count": 20,
   "metadata": {
    "id": "T6bKm8RBcC1v"
   },
   "outputs": [],
   "source": [
    "col_target = ['ClaimAmount', 'ClaimsCount', 'AvgClaim']"
   ]
  },
  {
   "cell_type": "code",
   "execution_count": 21,
   "metadata": {
    "id": "60BxEUC6dqtO"
   },
   "outputs": [],
   "source": [
    "df_freq = data.get_pd(col_features+col_target)"
   ]
  },
  {
   "cell_type": "code",
   "execution_count": 22,
   "metadata": {
    "id": "G9u4U7-Bd-ob"
   },
   "outputs": [],
   "source": [
    "df_ac = df_freq[df_freq['ClaimsCount'] > 0].reset_index().copy()"
   ]
  },
  {
   "cell_type": "markdown",
   "metadata": {
    "id": "VpYxkXdrLD01"
   },
   "source": [
    "## Разделение набора данных на обучающую, валидационную и тестовую выборки"
   ]
  },
  {
   "cell_type": "code",
   "execution_count": 23,
   "metadata": {
    "id": "piO1n8o2LFAJ"
   },
   "outputs": [],
   "source": [
    "from sklearn.model_selection import train_test_split"
   ]
  },
  {
   "cell_type": "code",
   "execution_count": 24,
   "metadata": {
    "id": "dGvhYDXdLFoR"
   },
   "outputs": [],
   "source": [
    "# Разбиение датасета для частоты на train/val/test\n",
    "\n",
    "x_train_c, x_test_c, y_train_c, y_test_c = train_test_split(df_freq[col_features], df_freq.ClaimsCount, test_size=0.3, random_state=1)\n",
    "x_valid_c, x_test_c, y_valid_c, y_test_c = train_test_split(x_test_c, y_test_c, test_size=0.5, random_state=1)"
   ]
  },
  {
   "cell_type": "code",
   "execution_count": 25,
   "metadata": {
    "id": "XBBJ06RA96Xk"
   },
   "outputs": [],
   "source": [
    "# Разбиение датасета для среднего убытка на train/val/test \n",
    "\n",
    "x_train_ac, x_test_ac, y_train_ac, y_test_ac = train_test_split(df_ac[col_features], df_ac.AvgClaim, test_size=0.3, random_state=1)\n",
    "x_valid_ac, x_test_ac, y_valid_ac, y_test_ac = train_test_split(x_test_ac, y_test_ac, test_size=0.5, random_state=1)"
   ]
  },
  {
   "cell_type": "markdown",
   "metadata": {
    "id": "HvHOPcoEfira"
   },
   "source": [
    "Ссылки на H2O\n",
    "\n",
    "https://deeplearningrussia.wordpress.com/2019/10/12/intro-to-h2o-ai/\n",
    "\n",
    "\n",
    "https://docs.h2o.ai/h2o/latest-stable/h2o-docs/data-science/glm.html"
   ]
  },
  {
   "cell_type": "markdown",
   "metadata": {
    "id": "fKCG1lssMNA7"
   },
   "source": [
    "## Установка H2O и инициализация"
   ]
  },
  {
   "cell_type": "code",
   "execution_count": 27,
   "metadata": {
    "colab": {
     "base_uri": "https://localhost:8080/",
     "height": 545
    },
    "id": "KSdsMa-agl-6",
    "outputId": "fb471c36-8de5-4b87-b407-3ec789923e1a"
   },
   "outputs": [
    {
     "name": "stdout",
     "output_type": "stream",
     "text": [
      "Checking whether there is an H2O instance running at http://localhost:54321 ..... not found.\n",
      "Attempting to start a local H2O server...\n",
      "; Java HotSpot(TM) 64-Bit Server VM (build 25.271-b09, mixed mode)\n",
      "  Starting server from C:\\Users\\vladi\\anaconda3\\lib\\site-packages\\h2o\\backend\\bin\\h2o.jar\n",
      "  Ice root: C:\\Users\\vladi\\AppData\\Local\\Temp\\tmp3c2gheon\n",
      "  JVM stdout: C:\\Users\\vladi\\AppData\\Local\\Temp\\tmp3c2gheon\\h2o_vladi_started_from_python.out\n",
      "  JVM stderr: C:\\Users\\vladi\\AppData\\Local\\Temp\\tmp3c2gheon\\h2o_vladi_started_from_python.err\n",
      "  Server is running at http://127.0.0.1:54321\n",
      "Connecting to H2O server at http://127.0.0.1:54321 ... successful.\n"
     ]
    },
    {
     "data": {
      "text/html": [
       "<div style=\"overflow:auto\"><table style=\"width:50%\"><tr><td>H2O_cluster_uptime:</td>\n",
       "<td>02 secs</td></tr>\n",
       "<tr><td>H2O_cluster_timezone:</td>\n",
       "<td>Europe/Moscow</td></tr>\n",
       "<tr><td>H2O_data_parsing_timezone:</td>\n",
       "<td>UTC</td></tr>\n",
       "<tr><td>H2O_cluster_version:</td>\n",
       "<td>3.30.1.3</td></tr>\n",
       "<tr><td>H2O_cluster_version_age:</td>\n",
       "<td>1 month and 24 days </td></tr>\n",
       "<tr><td>H2O_cluster_name:</td>\n",
       "<td>H2O_from_python_vladi_ps876d</td></tr>\n",
       "<tr><td>H2O_cluster_total_nodes:</td>\n",
       "<td>1</td></tr>\n",
       "<tr><td>H2O_cluster_free_memory:</td>\n",
       "<td>1.747 Gb</td></tr>\n",
       "<tr><td>H2O_cluster_total_cores:</td>\n",
       "<td>12</td></tr>\n",
       "<tr><td>H2O_cluster_allowed_cores:</td>\n",
       "<td>12</td></tr>\n",
       "<tr><td>H2O_cluster_status:</td>\n",
       "<td>accepting new members, healthy</td></tr>\n",
       "<tr><td>H2O_connection_url:</td>\n",
       "<td>http://127.0.0.1:54321</td></tr>\n",
       "<tr><td>H2O_connection_proxy:</td>\n",
       "<td>{\"http\": null, \"https\": null}</td></tr>\n",
       "<tr><td>H2O_internal_security:</td>\n",
       "<td>False</td></tr>\n",
       "<tr><td>H2O_API_Extensions:</td>\n",
       "<td>Amazon S3, Algos, AutoML, Core V3, TargetEncoder, Core V4</td></tr>\n",
       "<tr><td>Python_version:</td>\n",
       "<td>3.7.6 final</td></tr></table></div>"
      ],
      "text/plain": [
       "--------------------------  ---------------------------------------------------------\n",
       "H2O_cluster_uptime:         02 secs\n",
       "H2O_cluster_timezone:       Europe/Moscow\n",
       "H2O_data_parsing_timezone:  UTC\n",
       "H2O_cluster_version:        3.30.1.3\n",
       "H2O_cluster_version_age:    1 month and 24 days\n",
       "H2O_cluster_name:           H2O_from_python_vladi_ps876d\n",
       "H2O_cluster_total_nodes:    1\n",
       "H2O_cluster_free_memory:    1.747 Gb\n",
       "H2O_cluster_total_cores:    12\n",
       "H2O_cluster_allowed_cores:  12\n",
       "H2O_cluster_status:         accepting new members, healthy\n",
       "H2O_connection_url:         http://127.0.0.1:54321\n",
       "H2O_connection_proxy:       {\"http\": null, \"https\": null}\n",
       "H2O_internal_security:      False\n",
       "H2O_API_Extensions:         Amazon S3, Algos, AutoML, Core V3, TargetEncoder, Core V4\n",
       "Python_version:             3.7.6 final\n",
       "--------------------------  ---------------------------------------------------------"
      ]
     },
     "metadata": {},
     "output_type": "display_data"
    }
   ],
   "source": [
    "import h2o\n",
    "from h2o.estimators.glm import H2OGeneralizedLinearEstimator\n",
    "h2o.init()"
   ]
  },
  {
   "cell_type": "markdown",
   "metadata": {
    "id": "YttnrY4wMqu3"
   },
   "source": [
    "## Построение GLM для частоты страховых случаев"
   ]
  },
  {
   "cell_type": "code",
   "execution_count": 28,
   "metadata": {
    "colab": {
     "base_uri": "https://localhost:8080/"
    },
    "id": "r-BqsBNx_zIH",
    "outputId": "841035f1-3312-4872-ae45-6c882df82b87"
   },
   "outputs": [
    {
     "name": "stdout",
     "output_type": "stream",
     "text": [
      "Parse progress: |█████████████████████████████████████████████████████████| 100%\n",
      "Parse progress: |█████████████████████████████████████████████████████████| 100%\n",
      "Parse progress: |█████████████████████████████████████████████████████████| 100%\n"
     ]
    }
   ],
   "source": [
    "# Преобразование в H2O-Frame\n",
    "\n",
    "h2o_train_c = h2o.H2OFrame(pd.concat([x_train_c, y_train_c], axis=1))\n",
    "h2o_valid_c = h2o.H2OFrame(pd.concat([x_valid_c, y_valid_c], axis=1))\n",
    "h2o_test_c = h2o.H2OFrame(pd.concat([x_test_c, y_test_c], axis=1))"
   ]
  },
  {
   "cell_type": "code",
   "execution_count": 29,
   "metadata": {
    "colab": {
     "base_uri": "https://localhost:8080/"
    },
    "id": "GarP9wfMgmiP",
    "outputId": "9293432e-1a88-463a-aba1-222a02945eb4"
   },
   "outputs": [
    {
     "name": "stdout",
     "output_type": "stream",
     "text": [
      "glm Model Build progress: |███████████████████████████████████████████████| 100%\n"
     ]
    }
   ],
   "source": [
    "# Инициализируем и обучим GLM модель c кросс-валидацией\n",
    "\n",
    "glm_poisson = H2OGeneralizedLinearEstimator(family = \"poisson\", link = \"Log\", nfolds=5)\n",
    "glm_poisson.train(y=\"ClaimsCount\", x = h2o_train_c.names[1:-1], training_frame = h2o_train_c, validation_frame = h2o_valid_c)"
   ]
  },
  {
   "cell_type": "code",
   "execution_count": 30,
   "metadata": {
    "colab": {
     "base_uri": "https://localhost:8080/",
     "height": 185
    },
    "id": "10JsIABsBwxq",
    "outputId": "b90b097b-17e7-4e45-f688-830013e9af60"
   },
   "outputs": [
    {
     "name": "stdout",
     "output_type": "stream",
     "text": [
      "\n",
      "GLM Model: summary\n"
     ]
    },
    {
     "data": {
      "text/html": [
       "<div>\n",
       "<style scoped>\n",
       "    .dataframe tbody tr th:only-of-type {\n",
       "        vertical-align: middle;\n",
       "    }\n",
       "\n",
       "    .dataframe tbody tr th {\n",
       "        vertical-align: top;\n",
       "    }\n",
       "\n",
       "    .dataframe thead th {\n",
       "        text-align: right;\n",
       "    }\n",
       "</style>\n",
       "<table border=\"1\" class=\"dataframe\">\n",
       "  <thead>\n",
       "    <tr style=\"text-align: right;\">\n",
       "      <th></th>\n",
       "      <th></th>\n",
       "      <th>family</th>\n",
       "      <th>link</th>\n",
       "      <th>regularization</th>\n",
       "      <th>number_of_predictors_total</th>\n",
       "      <th>number_of_active_predictors</th>\n",
       "      <th>number_of_iterations</th>\n",
       "      <th>training_frame</th>\n",
       "    </tr>\n",
       "  </thead>\n",
       "  <tbody>\n",
       "    <tr>\n",
       "      <th>0</th>\n",
       "      <td></td>\n",
       "      <td>poisson</td>\n",
       "      <td>log</td>\n",
       "      <td>Elastic Net (alpha = 0.5, lambda = 9.667E-5 )</td>\n",
       "      <td>21</td>\n",
       "      <td>19</td>\n",
       "      <td>3</td>\n",
       "      <td>Key_Frame__upload_bf5e3c4e96c48cb0dfaa844f33e74284.hex</td>\n",
       "    </tr>\n",
       "  </tbody>\n",
       "</table>\n",
       "</div>"
      ],
      "text/plain": [
       "      family link                                 regularization  \\\n",
       "0    poisson  log  Elastic Net (alpha = 0.5, lambda = 9.667E-5 )   \n",
       "\n",
       "   number_of_predictors_total number_of_active_predictors  \\\n",
       "0                          21                          19   \n",
       "\n",
       "   number_of_iterations  \\\n",
       "0                     3   \n",
       "\n",
       "                                           training_frame  \n",
       "0  Key_Frame__upload_bf5e3c4e96c48cb0dfaa844f33e74284.hex  "
      ]
     },
     "metadata": {},
     "output_type": "display_data"
    },
    {
     "data": {
      "text/plain": []
     },
     "execution_count": 30,
     "metadata": {},
     "output_type": "execute_result"
    }
   ],
   "source": [
    "# Параметры модели: распределение, функция связи, гиперпараметры регуляризации, количество использованных объясняющих переменных\n",
    "\n",
    "glm_poisson.summary()"
   ]
  },
  {
   "cell_type": "code",
   "execution_count": 31,
   "metadata": {
    "colab": {
     "base_uri": "https://localhost:8080/",
     "height": 297
    },
    "id": "tKL0w-LECQ2G",
    "outputId": "ac16866e-2717-4ae1-bfa1-c9939093078d"
   },
   "outputs": [
    {
     "data": {
      "text/html": [
       "<div>\n",
       "<style scoped>\n",
       "    .dataframe tbody tr th:only-of-type {\n",
       "        vertical-align: middle;\n",
       "    }\n",
       "\n",
       "    .dataframe tbody tr th {\n",
       "        vertical-align: top;\n",
       "    }\n",
       "\n",
       "    .dataframe thead th {\n",
       "        text-align: right;\n",
       "    }\n",
       "</style>\n",
       "<table border=\"1\" class=\"dataframe\">\n",
       "  <thead>\n",
       "    <tr style=\"text-align: right;\">\n",
       "      <th></th>\n",
       "      <th></th>\n",
       "      <th>mean</th>\n",
       "      <th>sd</th>\n",
       "      <th>cv_1_valid</th>\n",
       "      <th>cv_2_valid</th>\n",
       "      <th>cv_3_valid</th>\n",
       "      <th>cv_4_valid</th>\n",
       "      <th>cv_5_valid</th>\n",
       "    </tr>\n",
       "  </thead>\n",
       "  <tbody>\n",
       "    <tr>\n",
       "      <th>0</th>\n",
       "      <td>mae</td>\n",
       "      <td>0.39099985</td>\n",
       "      <td>0.002399475</td>\n",
       "      <td>0.3872579</td>\n",
       "      <td>0.39349487</td>\n",
       "      <td>0.39023706</td>\n",
       "      <td>0.3916874</td>\n",
       "      <td>0.39232197</td>\n",
       "    </tr>\n",
       "    <tr>\n",
       "      <th>1</th>\n",
       "      <td>mean_residual_deviance</td>\n",
       "      <td>1.0610955</td>\n",
       "      <td>0.01080222</td>\n",
       "      <td>1.046003</td>\n",
       "      <td>1.0741142</td>\n",
       "      <td>1.0550807</td>\n",
       "      <td>1.0656834</td>\n",
       "      <td>1.0645963</td>\n",
       "    </tr>\n",
       "    <tr>\n",
       "      <th>2</th>\n",
       "      <td>mse</td>\n",
       "      <td>0.58851594</td>\n",
       "      <td>0.013290723</td>\n",
       "      <td>0.57597727</td>\n",
       "      <td>0.6064065</td>\n",
       "      <td>0.5756597</td>\n",
       "      <td>0.59650135</td>\n",
       "      <td>0.588035</td>\n",
       "    </tr>\n",
       "    <tr>\n",
       "      <th>3</th>\n",
       "      <td>null_deviance</td>\n",
       "      <td>17457.629</td>\n",
       "      <td>178.97072</td>\n",
       "      <td>17547.22</td>\n",
       "      <td>17559.68</td>\n",
       "      <td>17139.574</td>\n",
       "      <td>17537.139</td>\n",
       "      <td>17504.533</td>\n",
       "    </tr>\n",
       "    <tr>\n",
       "      <th>4</th>\n",
       "      <td>r2</td>\n",
       "      <td>0.008332745</td>\n",
       "      <td>0.0016402575</td>\n",
       "      <td>0.008164193</td>\n",
       "      <td>0.010739292</td>\n",
       "      <td>0.007962018</td>\n",
       "      <td>0.008636271</td>\n",
       "      <td>0.006161954</td>\n",
       "    </tr>\n",
       "    <tr>\n",
       "      <th>5</th>\n",
       "      <td>residual_deviance</td>\n",
       "      <td>17105.473</td>\n",
       "      <td>164.88603</td>\n",
       "      <td>17184.783</td>\n",
       "      <td>17150.38</td>\n",
       "      <td>16812.709</td>\n",
       "      <td>17173.486</td>\n",
       "      <td>17206.006</td>\n",
       "    </tr>\n",
       "    <tr>\n",
       "      <th>6</th>\n",
       "      <td>rmse</td>\n",
       "      <td>0.7671089</td>\n",
       "      <td>0.008652038</td>\n",
       "      <td>0.75893164</td>\n",
       "      <td>0.7787211</td>\n",
       "      <td>0.75872236</td>\n",
       "      <td>0.772335</td>\n",
       "      <td>0.7668344</td>\n",
       "    </tr>\n",
       "    <tr>\n",
       "      <th>7</th>\n",
       "      <td>rmsle</td>\n",
       "      <td>0.35898465</td>\n",
       "      <td>0.0017976797</td>\n",
       "      <td>0.35619196</td>\n",
       "      <td>0.36085123</td>\n",
       "      <td>0.35837477</td>\n",
       "      <td>0.3595386</td>\n",
       "      <td>0.35996675</td>\n",
       "    </tr>\n",
       "  </tbody>\n",
       "</table>\n",
       "</div>"
      ],
      "text/plain": [
       "                                  mean            sd   cv_1_valid  \\\n",
       "0                     mae   0.39099985   0.002399475    0.3872579   \n",
       "1  mean_residual_deviance    1.0610955    0.01080222     1.046003   \n",
       "2                     mse   0.58851594   0.013290723   0.57597727   \n",
       "3           null_deviance    17457.629     178.97072     17547.22   \n",
       "4                      r2  0.008332745  0.0016402575  0.008164193   \n",
       "5       residual_deviance    17105.473     164.88603    17184.783   \n",
       "6                    rmse    0.7671089   0.008652038   0.75893164   \n",
       "7                   rmsle   0.35898465  0.0017976797   0.35619196   \n",
       "\n",
       "    cv_2_valid   cv_3_valid   cv_4_valid   cv_5_valid  \n",
       "0   0.39349487   0.39023706    0.3916874   0.39232197  \n",
       "1    1.0741142    1.0550807    1.0656834    1.0645963  \n",
       "2    0.6064065    0.5756597   0.59650135     0.588035  \n",
       "3     17559.68    17139.574    17537.139    17504.533  \n",
       "4  0.010739292  0.007962018  0.008636271  0.006161954  \n",
       "5     17150.38    16812.709    17173.486    17206.006  \n",
       "6    0.7787211   0.75872236     0.772335    0.7668344  \n",
       "7   0.36085123   0.35837477    0.3595386   0.35996675  "
      ]
     },
     "execution_count": 31,
     "metadata": {},
     "output_type": "execute_result"
    }
   ],
   "source": [
    "# Метрики качества модели - по всем данным и на кросс-валидации\n",
    "\n",
    "glm_poisson.cross_validation_metrics_summary().as_data_frame()"
   ]
  },
  {
   "cell_type": "code",
   "execution_count": 32,
   "metadata": {
    "colab": {
     "base_uri": "https://localhost:8080/",
     "height": 731
    },
    "id": "vImto5eTCmzi",
    "outputId": "a307a924-e361-4468-afd5-fef7f31984f2"
   },
   "outputs": [
    {
     "data": {
      "text/html": [
       "<div>\n",
       "<style scoped>\n",
       "    .dataframe tbody tr th:only-of-type {\n",
       "        vertical-align: middle;\n",
       "    }\n",
       "\n",
       "    .dataframe tbody tr th {\n",
       "        vertical-align: top;\n",
       "    }\n",
       "\n",
       "    .dataframe thead th {\n",
       "        text-align: right;\n",
       "    }\n",
       "</style>\n",
       "<table border=\"1\" class=\"dataframe\">\n",
       "  <thead>\n",
       "    <tr style=\"text-align: right;\">\n",
       "      <th></th>\n",
       "      <th>names</th>\n",
       "      <th>coefficients</th>\n",
       "      <th>standardized_coefficients</th>\n",
       "    </tr>\n",
       "  </thead>\n",
       "  <tbody>\n",
       "    <tr>\n",
       "      <th>0</th>\n",
       "      <td>Intercept</td>\n",
       "      <td>-2.565659</td>\n",
       "      <td>-1.575867</td>\n",
       "    </tr>\n",
       "    <tr>\n",
       "      <th>1</th>\n",
       "      <td>Gender</td>\n",
       "      <td>-0.163708</td>\n",
       "      <td>-0.079349</td>\n",
       "    </tr>\n",
       "    <tr>\n",
       "      <th>2</th>\n",
       "      <td>MariStat</td>\n",
       "      <td>-0.114494</td>\n",
       "      <td>-0.041245</td>\n",
       "    </tr>\n",
       "    <tr>\n",
       "      <th>3</th>\n",
       "      <td>HasKmLimit</td>\n",
       "      <td>-0.439625</td>\n",
       "      <td>-0.137290</td>\n",
       "    </tr>\n",
       "    <tr>\n",
       "      <th>4</th>\n",
       "      <td>BonusMalus</td>\n",
       "      <td>0.012823</td>\n",
       "      <td>0.196838</td>\n",
       "    </tr>\n",
       "    <tr>\n",
       "      <th>5</th>\n",
       "      <td>OutUseNb</td>\n",
       "      <td>0.081984</td>\n",
       "      <td>0.057037</td>\n",
       "    </tr>\n",
       "    <tr>\n",
       "      <th>6</th>\n",
       "      <td>RiskArea</td>\n",
       "      <td>0.010119</td>\n",
       "      <td>0.022421</td>\n",
       "    </tr>\n",
       "    <tr>\n",
       "      <th>7</th>\n",
       "      <td>driver_minage_m</td>\n",
       "      <td>0.000209</td>\n",
       "      <td>0.003928</td>\n",
       "    </tr>\n",
       "    <tr>\n",
       "      <th>8</th>\n",
       "      <td>driver_minage_f</td>\n",
       "      <td>0.012369</td>\n",
       "      <td>0.198390</td>\n",
       "    </tr>\n",
       "    <tr>\n",
       "      <th>9</th>\n",
       "      <td>driver_minage_m_2</td>\n",
       "      <td>0.000000</td>\n",
       "      <td>0.000000</td>\n",
       "    </tr>\n",
       "    <tr>\n",
       "      <th>10</th>\n",
       "      <td>driver_minage_f_2</td>\n",
       "      <td>-0.000091</td>\n",
       "      <td>-0.113901</td>\n",
       "    </tr>\n",
       "    <tr>\n",
       "      <th>11</th>\n",
       "      <td>VehUsage_Private</td>\n",
       "      <td>-0.190581</td>\n",
       "      <td>-0.090123</td>\n",
       "    </tr>\n",
       "    <tr>\n",
       "      <th>12</th>\n",
       "      <td>VehUsage_Private+trip to office</td>\n",
       "      <td>0.000000</td>\n",
       "      <td>0.000000</td>\n",
       "    </tr>\n",
       "    <tr>\n",
       "      <th>13</th>\n",
       "      <td>VehUsage_Professional</td>\n",
       "      <td>0.320065</td>\n",
       "      <td>0.105780</td>\n",
       "    </tr>\n",
       "    <tr>\n",
       "      <th>14</th>\n",
       "      <td>VehUsage_Professional run</td>\n",
       "      <td>0.491840</td>\n",
       "      <td>0.065987</td>\n",
       "    </tr>\n",
       "    <tr>\n",
       "      <th>15</th>\n",
       "      <td>SocioCateg_CSP1</td>\n",
       "      <td>-0.079219</td>\n",
       "      <td>-0.012003</td>\n",
       "    </tr>\n",
       "    <tr>\n",
       "      <th>16</th>\n",
       "      <td>SocioCateg_CSP2</td>\n",
       "      <td>-0.205329</td>\n",
       "      <td>-0.034207</td>\n",
       "    </tr>\n",
       "    <tr>\n",
       "      <th>17</th>\n",
       "      <td>SocioCateg_CSP3</td>\n",
       "      <td>0.242698</td>\n",
       "      <td>0.025177</td>\n",
       "    </tr>\n",
       "    <tr>\n",
       "      <th>18</th>\n",
       "      <td>SocioCateg_CSP4</td>\n",
       "      <td>0.050770</td>\n",
       "      <td>0.012696</td>\n",
       "    </tr>\n",
       "    <tr>\n",
       "      <th>19</th>\n",
       "      <td>SocioCateg_CSP5</td>\n",
       "      <td>-0.003721</td>\n",
       "      <td>-0.001769</td>\n",
       "    </tr>\n",
       "    <tr>\n",
       "      <th>20</th>\n",
       "      <td>SocioCateg_CSP6</td>\n",
       "      <td>0.060435</td>\n",
       "      <td>0.024822</td>\n",
       "    </tr>\n",
       "    <tr>\n",
       "      <th>21</th>\n",
       "      <td>SocioCateg_CSP7</td>\n",
       "      <td>-0.495631</td>\n",
       "      <td>-0.005237</td>\n",
       "    </tr>\n",
       "  </tbody>\n",
       "</table>\n",
       "</div>"
      ],
      "text/plain": [
       "                              names  coefficients  standardized_coefficients\n",
       "0                         Intercept     -2.565659                  -1.575867\n",
       "1                            Gender     -0.163708                  -0.079349\n",
       "2                          MariStat     -0.114494                  -0.041245\n",
       "3                        HasKmLimit     -0.439625                  -0.137290\n",
       "4                        BonusMalus      0.012823                   0.196838\n",
       "5                          OutUseNb      0.081984                   0.057037\n",
       "6                          RiskArea      0.010119                   0.022421\n",
       "7                   driver_minage_m      0.000209                   0.003928\n",
       "8                   driver_minage_f      0.012369                   0.198390\n",
       "9                 driver_minage_m_2      0.000000                   0.000000\n",
       "10                driver_minage_f_2     -0.000091                  -0.113901\n",
       "11                 VehUsage_Private     -0.190581                  -0.090123\n",
       "12  VehUsage_Private+trip to office      0.000000                   0.000000\n",
       "13            VehUsage_Professional      0.320065                   0.105780\n",
       "14        VehUsage_Professional run      0.491840                   0.065987\n",
       "15                  SocioCateg_CSP1     -0.079219                  -0.012003\n",
       "16                  SocioCateg_CSP2     -0.205329                  -0.034207\n",
       "17                  SocioCateg_CSP3      0.242698                   0.025177\n",
       "18                  SocioCateg_CSP4      0.050770                   0.012696\n",
       "19                  SocioCateg_CSP5     -0.003721                  -0.001769\n",
       "20                  SocioCateg_CSP6      0.060435                   0.024822\n",
       "21                  SocioCateg_CSP7     -0.495631                  -0.005237"
      ]
     },
     "execution_count": 32,
     "metadata": {},
     "output_type": "execute_result"
    }
   ],
   "source": [
    "# Таблица коэффициентов модели (в зависимости от модели могут выводиться также стандартная ошибка, z-score и p-value)\n",
    "\n",
    "glm_poisson._model_json['output']['coefficients_table'].as_data_frame()"
   ]
  },
  {
   "cell_type": "code",
   "execution_count": 33,
   "metadata": {
    "colab": {
     "base_uri": "https://localhost:8080/",
     "height": 731
    },
    "id": "Z6CZpc6WAx-d",
    "outputId": "95b3d6d2-4759-4eae-b832-3c3d66cc21cf"
   },
   "outputs": [
    {
     "data": {
      "text/html": [
       "<div>\n",
       "<style scoped>\n",
       "    .dataframe tbody tr th:only-of-type {\n",
       "        vertical-align: middle;\n",
       "    }\n",
       "\n",
       "    .dataframe tbody tr th {\n",
       "        vertical-align: top;\n",
       "    }\n",
       "\n",
       "    .dataframe thead th {\n",
       "        text-align: right;\n",
       "    }\n",
       "</style>\n",
       "<table border=\"1\" class=\"dataframe\">\n",
       "  <thead>\n",
       "    <tr style=\"text-align: right;\">\n",
       "      <th></th>\n",
       "      <th>overall</th>\n",
       "      <th>0</th>\n",
       "      <th>1</th>\n",
       "      <th>2</th>\n",
       "      <th>3</th>\n",
       "      <th>4</th>\n",
       "    </tr>\n",
       "  </thead>\n",
       "  <tbody>\n",
       "    <tr>\n",
       "      <th>Intercept</th>\n",
       "      <td>1.57587</td>\n",
       "      <td>-1.57045</td>\n",
       "      <td>-1.57950</td>\n",
       "      <td>-1.57523</td>\n",
       "      <td>-1.57675</td>\n",
       "      <td>-1.57840</td>\n",
       "    </tr>\n",
       "    <tr>\n",
       "      <th>driver_minage_f</th>\n",
       "      <td>0.19839</td>\n",
       "      <td>0.17042</td>\n",
       "      <td>0.14594</td>\n",
       "      <td>0.10530</td>\n",
       "      <td>0.08310</td>\n",
       "      <td>0.10799</td>\n",
       "    </tr>\n",
       "    <tr>\n",
       "      <th>BonusMalus</th>\n",
       "      <td>0.19684</td>\n",
       "      <td>0.18828</td>\n",
       "      <td>0.19628</td>\n",
       "      <td>0.19839</td>\n",
       "      <td>0.19168</td>\n",
       "      <td>0.20487</td>\n",
       "    </tr>\n",
       "    <tr>\n",
       "      <th>HasKmLimit</th>\n",
       "      <td>0.13729</td>\n",
       "      <td>-0.13906</td>\n",
       "      <td>-0.12404</td>\n",
       "      <td>-0.13817</td>\n",
       "      <td>-0.15326</td>\n",
       "      <td>-0.13331</td>\n",
       "    </tr>\n",
       "    <tr>\n",
       "      <th>driver_minage_f_2</th>\n",
       "      <td>0.11390</td>\n",
       "      <td>-0.09152</td>\n",
       "      <td>-0.07429</td>\n",
       "      <td>-0.02614</td>\n",
       "      <td>-0.01500</td>\n",
       "      <td>-0.04361</td>\n",
       "    </tr>\n",
       "    <tr>\n",
       "      <th>VehUsage_Professional</th>\n",
       "      <td>0.10578</td>\n",
       "      <td>0.09801</td>\n",
       "      <td>0.10260</td>\n",
       "      <td>0.09828</td>\n",
       "      <td>0.10738</td>\n",
       "      <td>0.11102</td>\n",
       "    </tr>\n",
       "    <tr>\n",
       "      <th>VehUsage_Private</th>\n",
       "      <td>0.09012</td>\n",
       "      <td>-0.09919</td>\n",
       "      <td>-0.09712</td>\n",
       "      <td>-0.09485</td>\n",
       "      <td>-0.09452</td>\n",
       "      <td>-0.08342</td>\n",
       "    </tr>\n",
       "    <tr>\n",
       "      <th>Gender</th>\n",
       "      <td>0.07935</td>\n",
       "      <td>-0.08210</td>\n",
       "      <td>-0.06714</td>\n",
       "      <td>-0.06472</td>\n",
       "      <td>-0.05694</td>\n",
       "      <td>-0.04252</td>\n",
       "    </tr>\n",
       "    <tr>\n",
       "      <th>VehUsage_Professional run</th>\n",
       "      <td>0.06599</td>\n",
       "      <td>0.06746</td>\n",
       "      <td>0.06233</td>\n",
       "      <td>0.06057</td>\n",
       "      <td>0.06550</td>\n",
       "      <td>0.06946</td>\n",
       "    </tr>\n",
       "    <tr>\n",
       "      <th>OutUseNb</th>\n",
       "      <td>0.05704</td>\n",
       "      <td>0.05799</td>\n",
       "      <td>0.06011</td>\n",
       "      <td>0.05309</td>\n",
       "      <td>0.05693</td>\n",
       "      <td>0.05770</td>\n",
       "    </tr>\n",
       "    <tr>\n",
       "      <th>MariStat</th>\n",
       "      <td>0.04125</td>\n",
       "      <td>-0.04319</td>\n",
       "      <td>-0.04326</td>\n",
       "      <td>-0.03516</td>\n",
       "      <td>-0.04831</td>\n",
       "      <td>-0.03903</td>\n",
       "    </tr>\n",
       "    <tr>\n",
       "      <th>SocioCateg_CSP2</th>\n",
       "      <td>0.03421</td>\n",
       "      <td>-0.02903</td>\n",
       "      <td>-0.03522</td>\n",
       "      <td>-0.03564</td>\n",
       "      <td>-0.03304</td>\n",
       "      <td>-0.04724</td>\n",
       "    </tr>\n",
       "    <tr>\n",
       "      <th>SocioCateg_CSP3</th>\n",
       "      <td>0.02518</td>\n",
       "      <td>0.02229</td>\n",
       "      <td>0.02782</td>\n",
       "      <td>0.02648</td>\n",
       "      <td>0.01729</td>\n",
       "      <td>0.02876</td>\n",
       "    </tr>\n",
       "    <tr>\n",
       "      <th>SocioCateg_CSP6</th>\n",
       "      <td>0.02482</td>\n",
       "      <td>0.01338</td>\n",
       "      <td>0.03541</td>\n",
       "      <td>0.02046</td>\n",
       "      <td>0.02583</td>\n",
       "      <td>0.00548</td>\n",
       "    </tr>\n",
       "    <tr>\n",
       "      <th>RiskArea</th>\n",
       "      <td>0.02242</td>\n",
       "      <td>0.02640</td>\n",
       "      <td>0.01514</td>\n",
       "      <td>0.02838</td>\n",
       "      <td>0.02324</td>\n",
       "      <td>0.01882</td>\n",
       "    </tr>\n",
       "    <tr>\n",
       "      <th>SocioCateg_CSP4</th>\n",
       "      <td>0.01270</td>\n",
       "      <td>0.01548</td>\n",
       "      <td>0.01329</td>\n",
       "      <td>0.02217</td>\n",
       "      <td>0.00119</td>\n",
       "      <td>0.00178</td>\n",
       "    </tr>\n",
       "    <tr>\n",
       "      <th>SocioCateg_CSP1</th>\n",
       "      <td>0.01200</td>\n",
       "      <td>-0.01432</td>\n",
       "      <td>-0.00604</td>\n",
       "      <td>-0.01208</td>\n",
       "      <td>-0.01667</td>\n",
       "      <td>-0.01534</td>\n",
       "    </tr>\n",
       "    <tr>\n",
       "      <th>SocioCateg_CSP7</th>\n",
       "      <td>0.00524</td>\n",
       "      <td>-0.00199</td>\n",
       "      <td>-0.00541</td>\n",
       "      <td>-0.03564</td>\n",
       "      <td>-0.00209</td>\n",
       "      <td>-0.00110</td>\n",
       "    </tr>\n",
       "    <tr>\n",
       "      <th>driver_minage_m</th>\n",
       "      <td>0.00393</td>\n",
       "      <td>0.00408</td>\n",
       "      <td>-0.00560</td>\n",
       "      <td>0.00712</td>\n",
       "      <td>0.00128</td>\n",
       "      <td>0.02161</td>\n",
       "    </tr>\n",
       "    <tr>\n",
       "      <th>SocioCateg_CSP5</th>\n",
       "      <td>0.00177</td>\n",
       "      <td>-0.00201</td>\n",
       "      <td>-0.00225</td>\n",
       "      <td>-0.00549</td>\n",
       "      <td>-0.01385</td>\n",
       "      <td>0.00000</td>\n",
       "    </tr>\n",
       "    <tr>\n",
       "      <th>driver_minage_m_2</th>\n",
       "      <td>0.00000</td>\n",
       "      <td>0.00000</td>\n",
       "      <td>0.00000</td>\n",
       "      <td>-0.00167</td>\n",
       "      <td>0.00000</td>\n",
       "      <td>0.00000</td>\n",
       "    </tr>\n",
       "    <tr>\n",
       "      <th>VehUsage_Private+trip to office</th>\n",
       "      <td>0.00000</td>\n",
       "      <td>0.00000</td>\n",
       "      <td>0.00000</td>\n",
       "      <td>-0.01845</td>\n",
       "      <td>0.00000</td>\n",
       "      <td>0.00000</td>\n",
       "    </tr>\n",
       "  </tbody>\n",
       "</table>\n",
       "</div>"
      ],
      "text/plain": [
       "                                 overall        0        1        2        3  \\\n",
       "Intercept                        1.57587 -1.57045 -1.57950 -1.57523 -1.57675   \n",
       "driver_minage_f                  0.19839  0.17042  0.14594  0.10530  0.08310   \n",
       "BonusMalus                       0.19684  0.18828  0.19628  0.19839  0.19168   \n",
       "HasKmLimit                       0.13729 -0.13906 -0.12404 -0.13817 -0.15326   \n",
       "driver_minage_f_2                0.11390 -0.09152 -0.07429 -0.02614 -0.01500   \n",
       "VehUsage_Professional            0.10578  0.09801  0.10260  0.09828  0.10738   \n",
       "VehUsage_Private                 0.09012 -0.09919 -0.09712 -0.09485 -0.09452   \n",
       "Gender                           0.07935 -0.08210 -0.06714 -0.06472 -0.05694   \n",
       "VehUsage_Professional run        0.06599  0.06746  0.06233  0.06057  0.06550   \n",
       "OutUseNb                         0.05704  0.05799  0.06011  0.05309  0.05693   \n",
       "MariStat                         0.04125 -0.04319 -0.04326 -0.03516 -0.04831   \n",
       "SocioCateg_CSP2                  0.03421 -0.02903 -0.03522 -0.03564 -0.03304   \n",
       "SocioCateg_CSP3                  0.02518  0.02229  0.02782  0.02648  0.01729   \n",
       "SocioCateg_CSP6                  0.02482  0.01338  0.03541  0.02046  0.02583   \n",
       "RiskArea                         0.02242  0.02640  0.01514  0.02838  0.02324   \n",
       "SocioCateg_CSP4                  0.01270  0.01548  0.01329  0.02217  0.00119   \n",
       "SocioCateg_CSP1                  0.01200 -0.01432 -0.00604 -0.01208 -0.01667   \n",
       "SocioCateg_CSP7                  0.00524 -0.00199 -0.00541 -0.03564 -0.00209   \n",
       "driver_minage_m                  0.00393  0.00408 -0.00560  0.00712  0.00128   \n",
       "SocioCateg_CSP5                  0.00177 -0.00201 -0.00225 -0.00549 -0.01385   \n",
       "driver_minage_m_2                0.00000  0.00000  0.00000 -0.00167  0.00000   \n",
       "VehUsage_Private+trip to office  0.00000  0.00000  0.00000 -0.01845  0.00000   \n",
       "\n",
       "                                       4  \n",
       "Intercept                       -1.57840  \n",
       "driver_minage_f                  0.10799  \n",
       "BonusMalus                       0.20487  \n",
       "HasKmLimit                      -0.13331  \n",
       "driver_minage_f_2               -0.04361  \n",
       "VehUsage_Professional            0.11102  \n",
       "VehUsage_Private                -0.08342  \n",
       "Gender                          -0.04252  \n",
       "VehUsage_Professional run        0.06946  \n",
       "OutUseNb                         0.05770  \n",
       "MariStat                        -0.03903  \n",
       "SocioCateg_CSP2                 -0.04724  \n",
       "SocioCateg_CSP3                  0.02876  \n",
       "SocioCateg_CSP6                  0.00548  \n",
       "RiskArea                         0.01882  \n",
       "SocioCateg_CSP4                  0.00178  \n",
       "SocioCateg_CSP1                 -0.01534  \n",
       "SocioCateg_CSP7                 -0.00110  \n",
       "driver_minage_m                  0.02161  \n",
       "SocioCateg_CSP5                  0.00000  \n",
       "driver_minage_m_2                0.00000  \n",
       "VehUsage_Private+trip to office  0.00000  "
      ]
     },
     "execution_count": 33,
     "metadata": {},
     "output_type": "execute_result"
    }
   ],
   "source": [
    "# Таблица нормированных коэффициентов по всем данным и на кросс-валидации\n",
    "\n",
    "pmodels = {}\n",
    "pmodels['overall'] = glm_poisson.coef_norm()\n",
    "for x in range(len(glm_poisson.cross_validation_models())):\n",
    "    pmodels[x] = glm_poisson.cross_validation_models()[x].coef_norm()\n",
    "coef = pd.DataFrame.from_dict(pmodels).round(5)\n",
    "coef['overall'] = abs(coef['overall'])\n",
    "coef.sort_values('overall',ascending=False)"
   ]
  },
  {
   "cell_type": "code",
   "execution_count": 34,
   "metadata": {
    "colab": {
     "base_uri": "https://localhost:8080/"
    },
    "id": "RiHV0aTKHjdK",
    "outputId": "5b7e444e-0f3f-47cc-e3ff-6420a544b671"
   },
   "outputs": [
    {
     "name": "stdout",
     "output_type": "stream",
     "text": [
      "glm prediction progress: |████████████████████████████████████████████████| 100%\n",
      "glm prediction progress: |████████████████████████████████████████████████| 100%\n",
      "glm prediction progress: |████████████████████████████████████████████████| 100%\n"
     ]
    }
   ],
   "source": [
    "# Построение прогнозных значений для обучающей, валидационной и тестовой выборок\n",
    "\n",
    "c_train_pred = glm_poisson.predict(h2o_train_c).as_data_frame()\n",
    "c_valid_pred = glm_poisson.predict(h2o_valid_c).as_data_frame()\n",
    "c_test_pred = glm_poisson.predict(h2o_test_c).as_data_frame()"
   ]
  },
  {
   "cell_type": "code",
   "execution_count": 36,
   "metadata": {
    "id": "BL8JJbnVTrY5"
   },
   "outputs": [],
   "source": [
    "# Сохранение обученной модели\n",
    "\n",
    "model_glm_poisson = h2o.save_model(model=glm_poisson, force=True)"
   ]
  },
  {
   "cell_type": "code",
   "execution_count": 37,
   "metadata": {
    "colab": {
     "base_uri": "https://localhost:8080/",
     "height": 35
    },
    "id": "bsXU4eF4T5cX",
    "outputId": "953d9085-33cc-4542-8855-972335c2b308"
   },
   "outputs": [
    {
     "data": {
      "text/plain": [
       "'C:\\\\Users\\\\vladi\\\\Desktop\\\\Geekbrains\\\\4.1 ML in business\\\\GLM_model_python_1605962095409_1'"
      ]
     },
     "execution_count": 37,
     "metadata": {},
     "output_type": "execute_result"
    }
   ],
   "source": [
    "model_glm_poisson"
   ]
  },
  {
   "cell_type": "markdown",
   "metadata": {
    "id": "8nmnj56EM9gK"
   },
   "source": [
    "## Построение GLM для среднего убытка"
   ]
  },
  {
   "cell_type": "code",
   "execution_count": 38,
   "metadata": {
    "colab": {
     "base_uri": "https://localhost:8080/"
    },
    "id": "9u4TIE54NAeo",
    "outputId": "7b552995-a8a6-4cef-cce0-8ca41ff23895"
   },
   "outputs": [
    {
     "name": "stdout",
     "output_type": "stream",
     "text": [
      "Parse progress: |█████████████████████████████████████████████████████████| 100%\n",
      "Parse progress: |█████████████████████████████████████████████████████████| 100%\n",
      "Parse progress: |█████████████████████████████████████████████████████████| 100%\n"
     ]
    }
   ],
   "source": [
    "# Преобразование в H2O-Frame\n",
    "\n",
    "h2o_train_ac = h2o.H2OFrame(pd.concat([x_train_ac, y_train_ac], axis=1))\n",
    "h2o_valid_ac = h2o.H2OFrame(pd.concat([x_valid_ac, y_valid_ac], axis=1))\n",
    "h2o_test_ac = h2o.H2OFrame(pd.concat([x_test_ac, y_test_ac], axis=1))"
   ]
  },
  {
   "cell_type": "code",
   "execution_count": 39,
   "metadata": {
    "colab": {
     "base_uri": "https://localhost:8080/"
    },
    "id": "O4ZJ3o25EKnP",
    "outputId": "e722c63c-63b3-407c-d77a-1f15cc29e88f"
   },
   "outputs": [
    {
     "name": "stdout",
     "output_type": "stream",
     "text": [
      "glm Model Build progress: |███████████████████████████████████████████████| 100%\n"
     ]
    }
   ],
   "source": [
    "# Инициализируем и обучим GLM модель c кросс-валидацией\n",
    "\n",
    "glm_gamma = H2OGeneralizedLinearEstimator(family = \"gamma\", link = \"Log\", nfolds=5)\n",
    "glm_gamma.train(y=\"AvgClaim\", x = h2o_train_ac.names[1:-1], training_frame = h2o_train_ac, validation_frame = h2o_valid_ac)"
   ]
  },
  {
   "cell_type": "code",
   "execution_count": 40,
   "metadata": {
    "colab": {
     "base_uri": "https://localhost:8080/",
     "height": 185
    },
    "id": "tAC4dIdJEKXl",
    "outputId": "8e32669f-e7ff-4c44-937e-2ded757848ee"
   },
   "outputs": [
    {
     "name": "stdout",
     "output_type": "stream",
     "text": [
      "\n",
      "GLM Model: summary\n"
     ]
    },
    {
     "data": {
      "text/html": [
       "<div>\n",
       "<style scoped>\n",
       "    .dataframe tbody tr th:only-of-type {\n",
       "        vertical-align: middle;\n",
       "    }\n",
       "\n",
       "    .dataframe tbody tr th {\n",
       "        vertical-align: top;\n",
       "    }\n",
       "\n",
       "    .dataframe thead th {\n",
       "        text-align: right;\n",
       "    }\n",
       "</style>\n",
       "<table border=\"1\" class=\"dataframe\">\n",
       "  <thead>\n",
       "    <tr style=\"text-align: right;\">\n",
       "      <th></th>\n",
       "      <th></th>\n",
       "      <th>family</th>\n",
       "      <th>link</th>\n",
       "      <th>regularization</th>\n",
       "      <th>number_of_predictors_total</th>\n",
       "      <th>number_of_active_predictors</th>\n",
       "      <th>number_of_iterations</th>\n",
       "      <th>training_frame</th>\n",
       "    </tr>\n",
       "  </thead>\n",
       "  <tbody>\n",
       "    <tr>\n",
       "      <th>0</th>\n",
       "      <td></td>\n",
       "      <td>gamma</td>\n",
       "      <td>log</td>\n",
       "      <td>Elastic Net (alpha = 0.5, lambda = 2.602E-4 )</td>\n",
       "      <td>21</td>\n",
       "      <td>19</td>\n",
       "      <td>3</td>\n",
       "      <td>Key_Frame__upload_a5577be429058a72183b50ad614344fa.hex</td>\n",
       "    </tr>\n",
       "  </tbody>\n",
       "</table>\n",
       "</div>"
      ],
      "text/plain": [
       "    family link                                 regularization  \\\n",
       "0    gamma  log  Elastic Net (alpha = 0.5, lambda = 2.602E-4 )   \n",
       "\n",
       "   number_of_predictors_total number_of_active_predictors  \\\n",
       "0                          21                          19   \n",
       "\n",
       "   number_of_iterations  \\\n",
       "0                     3   \n",
       "\n",
       "                                           training_frame  \n",
       "0  Key_Frame__upload_a5577be429058a72183b50ad614344fa.hex  "
      ]
     },
     "metadata": {},
     "output_type": "display_data"
    },
    {
     "data": {
      "text/plain": []
     },
     "execution_count": 40,
     "metadata": {},
     "output_type": "execute_result"
    }
   ],
   "source": [
    "# Параметры модели: распределение, функция связи, гиперпараметры регуляризации, количество использованных объясняющих переменных\n",
    "\n",
    "glm_gamma.summary()"
   ]
  },
  {
   "cell_type": "code",
   "execution_count": 41,
   "metadata": {
    "colab": {
     "base_uri": "https://localhost:8080/",
     "height": 297
    },
    "id": "NfRbZGBoE7vP",
    "outputId": "2f396393-0925-458d-9079-b1f10a722375"
   },
   "outputs": [
    {
     "data": {
      "text/html": [
       "<div>\n",
       "<style scoped>\n",
       "    .dataframe tbody tr th:only-of-type {\n",
       "        vertical-align: middle;\n",
       "    }\n",
       "\n",
       "    .dataframe tbody tr th {\n",
       "        vertical-align: top;\n",
       "    }\n",
       "\n",
       "    .dataframe thead th {\n",
       "        text-align: right;\n",
       "    }\n",
       "</style>\n",
       "<table border=\"1\" class=\"dataframe\">\n",
       "  <thead>\n",
       "    <tr style=\"text-align: right;\">\n",
       "      <th></th>\n",
       "      <th></th>\n",
       "      <th>mean</th>\n",
       "      <th>sd</th>\n",
       "      <th>cv_1_valid</th>\n",
       "      <th>cv_2_valid</th>\n",
       "      <th>cv_3_valid</th>\n",
       "      <th>cv_4_valid</th>\n",
       "      <th>cv_5_valid</th>\n",
       "    </tr>\n",
       "  </thead>\n",
       "  <tbody>\n",
       "    <tr>\n",
       "      <th>0</th>\n",
       "      <td>mae</td>\n",
       "      <td>1190.9075</td>\n",
       "      <td>103.30257</td>\n",
       "      <td>1086.7637</td>\n",
       "      <td>1098.9558</td>\n",
       "      <td>1333.6611</td>\n",
       "      <td>1189.4413</td>\n",
       "      <td>1245.7152</td>\n",
       "    </tr>\n",
       "    <tr>\n",
       "      <th>1</th>\n",
       "      <td>mean_residual_deviance</td>\n",
       "      <td>2.0986362</td>\n",
       "      <td>0.21317013</td>\n",
       "      <td>1.8644456</td>\n",
       "      <td>1.9490963</td>\n",
       "      <td>2.4094837</td>\n",
       "      <td>2.0837142</td>\n",
       "      <td>2.1864414</td>\n",
       "    </tr>\n",
       "    <tr>\n",
       "      <th>2</th>\n",
       "      <td>mse</td>\n",
       "      <td>1.5798792E7</td>\n",
       "      <td>2.0974886E7</td>\n",
       "      <td>3637775.0</td>\n",
       "      <td>3975424.5</td>\n",
       "      <td>5.2887296E7</td>\n",
       "      <td>6935378.5</td>\n",
       "      <td>1.1558086E7</td>\n",
       "    </tr>\n",
       "    <tr>\n",
       "      <th>3</th>\n",
       "      <td>null_deviance</td>\n",
       "      <td>3181.8591</td>\n",
       "      <td>309.81586</td>\n",
       "      <td>2861.9275</td>\n",
       "      <td>2896.7593</td>\n",
       "      <td>3609.2349</td>\n",
       "      <td>3240.0747</td>\n",
       "      <td>3301.2998</td>\n",
       "    </tr>\n",
       "    <tr>\n",
       "      <th>4</th>\n",
       "      <td>r2</td>\n",
       "      <td>-0.005422907</td>\n",
       "      <td>0.009073598</td>\n",
       "      <td>-0.008612559</td>\n",
       "      <td>-0.019865114</td>\n",
       "      <td>-7.502941E-4</td>\n",
       "      <td>-4.8683985E-4</td>\n",
       "      <td>0.0026002727</td>\n",
       "    </tr>\n",
       "    <tr>\n",
       "      <th>5</th>\n",
       "      <td>residual_deviance</td>\n",
       "      <td>3191.0564</td>\n",
       "      <td>299.73022</td>\n",
       "      <td>2880.5684</td>\n",
       "      <td>2931.441</td>\n",
       "      <td>3621.454</td>\n",
       "      <td>3244.343</td>\n",
       "      <td>3277.4756</td>\n",
       "    </tr>\n",
       "    <tr>\n",
       "      <th>6</th>\n",
       "      <td>rmse</td>\n",
       "      <td>3441.3472</td>\n",
       "      <td>2223.7134</td>\n",
       "      <td>1907.2953</td>\n",
       "      <td>1993.8467</td>\n",
       "      <td>7272.365</td>\n",
       "      <td>2633.5107</td>\n",
       "      <td>3399.7185</td>\n",
       "    </tr>\n",
       "    <tr>\n",
       "      <th>7</th>\n",
       "      <td>rmsle</td>\n",
       "      <td>1.7665124</td>\n",
       "      <td>0.023959609</td>\n",
       "      <td>1.7273706</td>\n",
       "      <td>1.792985</td>\n",
       "      <td>1.7732837</td>\n",
       "      <td>1.7692027</td>\n",
       "      <td>1.7697201</td>\n",
       "    </tr>\n",
       "  </tbody>\n",
       "</table>\n",
       "</div>"
      ],
      "text/plain": [
       "                                   mean           sd    cv_1_valid  \\\n",
       "0                     mae     1190.9075    103.30257     1086.7637   \n",
       "1  mean_residual_deviance     2.0986362   0.21317013     1.8644456   \n",
       "2                     mse   1.5798792E7  2.0974886E7     3637775.0   \n",
       "3           null_deviance     3181.8591    309.81586     2861.9275   \n",
       "4                      r2  -0.005422907  0.009073598  -0.008612559   \n",
       "5       residual_deviance     3191.0564    299.73022     2880.5684   \n",
       "6                    rmse     3441.3472    2223.7134     1907.2953   \n",
       "7                   rmsle     1.7665124  0.023959609     1.7273706   \n",
       "\n",
       "     cv_2_valid    cv_3_valid     cv_4_valid    cv_5_valid  \n",
       "0     1098.9558     1333.6611      1189.4413     1245.7152  \n",
       "1     1.9490963     2.4094837      2.0837142     2.1864414  \n",
       "2     3975424.5   5.2887296E7      6935378.5   1.1558086E7  \n",
       "3     2896.7593     3609.2349      3240.0747     3301.2998  \n",
       "4  -0.019865114  -7.502941E-4  -4.8683985E-4  0.0026002727  \n",
       "5      2931.441      3621.454       3244.343     3277.4756  \n",
       "6     1993.8467      7272.365      2633.5107     3399.7185  \n",
       "7      1.792985     1.7732837      1.7692027     1.7697201  "
      ]
     },
     "execution_count": 41,
     "metadata": {},
     "output_type": "execute_result"
    }
   ],
   "source": [
    "# Метрики качества модели - по всем данным и на кросс-валидации\n",
    "\n",
    "glm_gamma.cross_validation_metrics_summary().as_data_frame()"
   ]
  },
  {
   "cell_type": "code",
   "execution_count": 42,
   "metadata": {
    "colab": {
     "base_uri": "https://localhost:8080/",
     "height": 731
    },
    "id": "uHZ93uk_E7nZ",
    "outputId": "26274020-0008-4ff9-ccfe-0f9922e237b3"
   },
   "outputs": [
    {
     "data": {
      "text/html": [
       "<div>\n",
       "<style scoped>\n",
       "    .dataframe tbody tr th:only-of-type {\n",
       "        vertical-align: middle;\n",
       "    }\n",
       "\n",
       "    .dataframe tbody tr th {\n",
       "        vertical-align: top;\n",
       "    }\n",
       "\n",
       "    .dataframe thead th {\n",
       "        text-align: right;\n",
       "    }\n",
       "</style>\n",
       "<table border=\"1\" class=\"dataframe\">\n",
       "  <thead>\n",
       "    <tr style=\"text-align: right;\">\n",
       "      <th></th>\n",
       "      <th>names</th>\n",
       "      <th>coefficients</th>\n",
       "      <th>standardized_coefficients</th>\n",
       "    </tr>\n",
       "  </thead>\n",
       "  <tbody>\n",
       "    <tr>\n",
       "      <th>0</th>\n",
       "      <td>Intercept</td>\n",
       "      <td>7.310145</td>\n",
       "      <td>7.017288</td>\n",
       "    </tr>\n",
       "    <tr>\n",
       "      <th>1</th>\n",
       "      <td>Gender</td>\n",
       "      <td>-0.314623</td>\n",
       "      <td>-0.152506</td>\n",
       "    </tr>\n",
       "    <tr>\n",
       "      <th>2</th>\n",
       "      <td>MariStat</td>\n",
       "      <td>0.299338</td>\n",
       "      <td>0.110533</td>\n",
       "    </tr>\n",
       "    <tr>\n",
       "      <th>3</th>\n",
       "      <td>HasKmLimit</td>\n",
       "      <td>-0.066859</td>\n",
       "      <td>-0.016827</td>\n",
       "    </tr>\n",
       "    <tr>\n",
       "      <th>4</th>\n",
       "      <td>BonusMalus</td>\n",
       "      <td>-0.002345</td>\n",
       "      <td>-0.039579</td>\n",
       "    </tr>\n",
       "    <tr>\n",
       "      <th>5</th>\n",
       "      <td>OutUseNb</td>\n",
       "      <td>-0.021085</td>\n",
       "      <td>-0.015749</td>\n",
       "    </tr>\n",
       "    <tr>\n",
       "      <th>6</th>\n",
       "      <td>RiskArea</td>\n",
       "      <td>0.030396</td>\n",
       "      <td>0.067861</td>\n",
       "    </tr>\n",
       "    <tr>\n",
       "      <th>7</th>\n",
       "      <td>driver_minage_m</td>\n",
       "      <td>-0.021733</td>\n",
       "      <td>-0.397791</td>\n",
       "    </tr>\n",
       "    <tr>\n",
       "      <th>8</th>\n",
       "      <td>driver_minage_f</td>\n",
       "      <td>0.012161</td>\n",
       "      <td>0.187589</td>\n",
       "    </tr>\n",
       "    <tr>\n",
       "      <th>9</th>\n",
       "      <td>driver_minage_m_2</td>\n",
       "      <td>0.000179</td>\n",
       "      <td>0.268589</td>\n",
       "    </tr>\n",
       "    <tr>\n",
       "      <th>10</th>\n",
       "      <td>driver_minage_f_2</td>\n",
       "      <td>-0.000154</td>\n",
       "      <td>-0.183893</td>\n",
       "    </tr>\n",
       "    <tr>\n",
       "      <th>11</th>\n",
       "      <td>VehUsage_Private</td>\n",
       "      <td>0.000000</td>\n",
       "      <td>0.000000</td>\n",
       "    </tr>\n",
       "    <tr>\n",
       "      <th>12</th>\n",
       "      <td>VehUsage_Private+trip to office</td>\n",
       "      <td>0.024089</td>\n",
       "      <td>0.012019</td>\n",
       "    </tr>\n",
       "    <tr>\n",
       "      <th>13</th>\n",
       "      <td>VehUsage_Professional</td>\n",
       "      <td>-0.021973</td>\n",
       "      <td>-0.008023</td>\n",
       "    </tr>\n",
       "    <tr>\n",
       "      <th>14</th>\n",
       "      <td>VehUsage_Professional run</td>\n",
       "      <td>-0.290266</td>\n",
       "      <td>-0.044476</td>\n",
       "    </tr>\n",
       "    <tr>\n",
       "      <th>15</th>\n",
       "      <td>SocioCateg_CSP1</td>\n",
       "      <td>-0.129253</td>\n",
       "      <td>-0.020325</td>\n",
       "    </tr>\n",
       "    <tr>\n",
       "      <th>16</th>\n",
       "      <td>SocioCateg_CSP2</td>\n",
       "      <td>-0.218260</td>\n",
       "      <td>-0.037997</td>\n",
       "    </tr>\n",
       "    <tr>\n",
       "      <th>17</th>\n",
       "      <td>SocioCateg_CSP3</td>\n",
       "      <td>-0.069526</td>\n",
       "      <td>-0.006869</td>\n",
       "    </tr>\n",
       "    <tr>\n",
       "      <th>18</th>\n",
       "      <td>SocioCateg_CSP4</td>\n",
       "      <td>-0.019099</td>\n",
       "      <td>-0.005290</td>\n",
       "    </tr>\n",
       "    <tr>\n",
       "      <th>19</th>\n",
       "      <td>SocioCateg_CSP5</td>\n",
       "      <td>0.000000</td>\n",
       "      <td>0.000000</td>\n",
       "    </tr>\n",
       "    <tr>\n",
       "      <th>20</th>\n",
       "      <td>SocioCateg_CSP6</td>\n",
       "      <td>0.092551</td>\n",
       "      <td>0.035955</td>\n",
       "    </tr>\n",
       "    <tr>\n",
       "      <th>21</th>\n",
       "      <td>SocioCateg_CSP7</td>\n",
       "      <td>-1.358740</td>\n",
       "      <td>-0.015578</td>\n",
       "    </tr>\n",
       "  </tbody>\n",
       "</table>\n",
       "</div>"
      ],
      "text/plain": [
       "                              names  coefficients  standardized_coefficients\n",
       "0                         Intercept      7.310145                   7.017288\n",
       "1                            Gender     -0.314623                  -0.152506\n",
       "2                          MariStat      0.299338                   0.110533\n",
       "3                        HasKmLimit     -0.066859                  -0.016827\n",
       "4                        BonusMalus     -0.002345                  -0.039579\n",
       "5                          OutUseNb     -0.021085                  -0.015749\n",
       "6                          RiskArea      0.030396                   0.067861\n",
       "7                   driver_minage_m     -0.021733                  -0.397791\n",
       "8                   driver_minage_f      0.012161                   0.187589\n",
       "9                 driver_minage_m_2      0.000179                   0.268589\n",
       "10                driver_minage_f_2     -0.000154                  -0.183893\n",
       "11                 VehUsage_Private      0.000000                   0.000000\n",
       "12  VehUsage_Private+trip to office      0.024089                   0.012019\n",
       "13            VehUsage_Professional     -0.021973                  -0.008023\n",
       "14        VehUsage_Professional run     -0.290266                  -0.044476\n",
       "15                  SocioCateg_CSP1     -0.129253                  -0.020325\n",
       "16                  SocioCateg_CSP2     -0.218260                  -0.037997\n",
       "17                  SocioCateg_CSP3     -0.069526                  -0.006869\n",
       "18                  SocioCateg_CSP4     -0.019099                  -0.005290\n",
       "19                  SocioCateg_CSP5      0.000000                   0.000000\n",
       "20                  SocioCateg_CSP6      0.092551                   0.035955\n",
       "21                  SocioCateg_CSP7     -1.358740                  -0.015578"
      ]
     },
     "execution_count": 42,
     "metadata": {},
     "output_type": "execute_result"
    }
   ],
   "source": [
    "# Таблица коэффициентов модели (в зависимости от модели могут выводиться также стандартная ошибка, z-score и p-value)\n",
    "\n",
    "glm_gamma._model_json['output']['coefficients_table'].as_data_frame()"
   ]
  },
  {
   "cell_type": "code",
   "execution_count": 43,
   "metadata": {
    "colab": {
     "base_uri": "https://localhost:8080/",
     "height": 731
    },
    "id": "DFa-sS1ME7eq",
    "outputId": "9f12aaa2-646c-4c6c-e7bc-798f0137820a"
   },
   "outputs": [
    {
     "data": {
      "text/html": [
       "<div>\n",
       "<style scoped>\n",
       "    .dataframe tbody tr th:only-of-type {\n",
       "        vertical-align: middle;\n",
       "    }\n",
       "\n",
       "    .dataframe tbody tr th {\n",
       "        vertical-align: top;\n",
       "    }\n",
       "\n",
       "    .dataframe thead th {\n",
       "        text-align: right;\n",
       "    }\n",
       "</style>\n",
       "<table border=\"1\" class=\"dataframe\">\n",
       "  <thead>\n",
       "    <tr style=\"text-align: right;\">\n",
       "      <th></th>\n",
       "      <th>overall</th>\n",
       "      <th>0</th>\n",
       "      <th>1</th>\n",
       "      <th>2</th>\n",
       "      <th>3</th>\n",
       "      <th>4</th>\n",
       "    </tr>\n",
       "  </thead>\n",
       "  <tbody>\n",
       "    <tr>\n",
       "      <th>Intercept</th>\n",
       "      <td>1.57587</td>\n",
       "      <td>7.03393</td>\n",
       "      <td>7.03951</td>\n",
       "      <td>6.98962</td>\n",
       "      <td>7.01434</td>\n",
       "      <td>6.99977</td>\n",
       "    </tr>\n",
       "    <tr>\n",
       "      <th>driver_minage_f</th>\n",
       "      <td>0.19839</td>\n",
       "      <td>0.09069</td>\n",
       "      <td>0.31187</td>\n",
       "      <td>0.07533</td>\n",
       "      <td>0.13121</td>\n",
       "      <td>0.23695</td>\n",
       "    </tr>\n",
       "    <tr>\n",
       "      <th>BonusMalus</th>\n",
       "      <td>0.19684</td>\n",
       "      <td>-0.05963</td>\n",
       "      <td>-0.03368</td>\n",
       "      <td>-0.01106</td>\n",
       "      <td>-0.01876</td>\n",
       "      <td>-0.06747</td>\n",
       "    </tr>\n",
       "    <tr>\n",
       "      <th>HasKmLimit</th>\n",
       "      <td>0.13729</td>\n",
       "      <td>-0.03074</td>\n",
       "      <td>-0.02861</td>\n",
       "      <td>-0.01291</td>\n",
       "      <td>-0.00231</td>\n",
       "      <td>-0.00715</td>\n",
       "    </tr>\n",
       "    <tr>\n",
       "      <th>driver_minage_f_2</th>\n",
       "      <td>0.11390</td>\n",
       "      <td>-0.10115</td>\n",
       "      <td>-0.26283</td>\n",
       "      <td>-0.08610</td>\n",
       "      <td>-0.15174</td>\n",
       "      <td>-0.24023</td>\n",
       "    </tr>\n",
       "    <tr>\n",
       "      <th>VehUsage_Professional</th>\n",
       "      <td>0.10578</td>\n",
       "      <td>-0.00648</td>\n",
       "      <td>-0.01484</td>\n",
       "      <td>-0.00498</td>\n",
       "      <td>0.00000</td>\n",
       "      <td>-0.01609</td>\n",
       "    </tr>\n",
       "    <tr>\n",
       "      <th>VehUsage_Private</th>\n",
       "      <td>0.09012</td>\n",
       "      <td>0.00000</td>\n",
       "      <td>0.00000</td>\n",
       "      <td>0.00000</td>\n",
       "      <td>-0.00153</td>\n",
       "      <td>0.00000</td>\n",
       "    </tr>\n",
       "    <tr>\n",
       "      <th>Gender</th>\n",
       "      <td>0.07935</td>\n",
       "      <td>-0.11372</td>\n",
       "      <td>-0.23587</td>\n",
       "      <td>-0.21351</td>\n",
       "      <td>-0.06218</td>\n",
       "      <td>-0.10857</td>\n",
       "    </tr>\n",
       "    <tr>\n",
       "      <th>VehUsage_Professional run</th>\n",
       "      <td>0.06599</td>\n",
       "      <td>-0.06592</td>\n",
       "      <td>-0.04264</td>\n",
       "      <td>-0.02678</td>\n",
       "      <td>-0.05259</td>\n",
       "      <td>-0.03471</td>\n",
       "    </tr>\n",
       "    <tr>\n",
       "      <th>OutUseNb</th>\n",
       "      <td>0.05704</td>\n",
       "      <td>-0.01074</td>\n",
       "      <td>-0.01694</td>\n",
       "      <td>-0.01202</td>\n",
       "      <td>-0.02295</td>\n",
       "      <td>-0.01281</td>\n",
       "    </tr>\n",
       "    <tr>\n",
       "      <th>MariStat</th>\n",
       "      <td>0.04125</td>\n",
       "      <td>0.12086</td>\n",
       "      <td>0.12378</td>\n",
       "      <td>0.03515</td>\n",
       "      <td>0.13273</td>\n",
       "      <td>0.12561</td>\n",
       "    </tr>\n",
       "    <tr>\n",
       "      <th>SocioCateg_CSP2</th>\n",
       "      <td>0.03421</td>\n",
       "      <td>-0.03402</td>\n",
       "      <td>-0.04495</td>\n",
       "      <td>-0.04356</td>\n",
       "      <td>-0.04598</td>\n",
       "      <td>-0.02087</td>\n",
       "    </tr>\n",
       "    <tr>\n",
       "      <th>SocioCateg_CSP3</th>\n",
       "      <td>0.02518</td>\n",
       "      <td>-0.00046</td>\n",
       "      <td>-0.02682</td>\n",
       "      <td>-0.00560</td>\n",
       "      <td>-0.00053</td>\n",
       "      <td>-0.00181</td>\n",
       "    </tr>\n",
       "    <tr>\n",
       "      <th>SocioCateg_CSP6</th>\n",
       "      <td>0.02482</td>\n",
       "      <td>0.03173</td>\n",
       "      <td>0.05738</td>\n",
       "      <td>0.00956</td>\n",
       "      <td>0.01478</td>\n",
       "      <td>0.06344</td>\n",
       "    </tr>\n",
       "    <tr>\n",
       "      <th>RiskArea</th>\n",
       "      <td>0.02242</td>\n",
       "      <td>0.06903</td>\n",
       "      <td>0.05467</td>\n",
       "      <td>0.09943</td>\n",
       "      <td>0.06129</td>\n",
       "      <td>0.05646</td>\n",
       "    </tr>\n",
       "    <tr>\n",
       "      <th>SocioCateg_CSP4</th>\n",
       "      <td>0.01270</td>\n",
       "      <td>0.00616</td>\n",
       "      <td>-0.00496</td>\n",
       "      <td>-0.00846</td>\n",
       "      <td>-0.00728</td>\n",
       "      <td>-0.01212</td>\n",
       "    </tr>\n",
       "    <tr>\n",
       "      <th>SocioCateg_CSP1</th>\n",
       "      <td>0.01200</td>\n",
       "      <td>-0.04582</td>\n",
       "      <td>-0.02364</td>\n",
       "      <td>-0.02049</td>\n",
       "      <td>-0.00595</td>\n",
       "      <td>-0.00375</td>\n",
       "    </tr>\n",
       "    <tr>\n",
       "      <th>SocioCateg_CSP7</th>\n",
       "      <td>0.00524</td>\n",
       "      <td>-0.01585</td>\n",
       "      <td>-0.01852</td>\n",
       "      <td>0.00000</td>\n",
       "      <td>-0.01620</td>\n",
       "      <td>-0.01763</td>\n",
       "    </tr>\n",
       "    <tr>\n",
       "      <th>driver_minage_m</th>\n",
       "      <td>0.00393</td>\n",
       "      <td>-0.30897</td>\n",
       "      <td>-0.39733</td>\n",
       "      <td>-0.90336</td>\n",
       "      <td>-0.07795</td>\n",
       "      <td>-0.28952</td>\n",
       "    </tr>\n",
       "    <tr>\n",
       "      <th>SocioCateg_CSP5</th>\n",
       "      <td>0.00177</td>\n",
       "      <td>0.00000</td>\n",
       "      <td>0.00000</td>\n",
       "      <td>0.00000</td>\n",
       "      <td>0.00000</td>\n",
       "      <td>0.00000</td>\n",
       "    </tr>\n",
       "    <tr>\n",
       "      <th>driver_minage_m_2</th>\n",
       "      <td>0.00000</td>\n",
       "      <td>0.18391</td>\n",
       "      <td>0.22304</td>\n",
       "      <td>0.71183</td>\n",
       "      <td>0.03093</td>\n",
       "      <td>0.18901</td>\n",
       "    </tr>\n",
       "    <tr>\n",
       "      <th>VehUsage_Private+trip to office</th>\n",
       "      <td>0.00000</td>\n",
       "      <td>0.02702</td>\n",
       "      <td>0.01178</td>\n",
       "      <td>0.00339</td>\n",
       "      <td>0.00510</td>\n",
       "      <td>0.01089</td>\n",
       "    </tr>\n",
       "  </tbody>\n",
       "</table>\n",
       "</div>"
      ],
      "text/plain": [
       "                                 overall        0        1        2        3  \\\n",
       "Intercept                        1.57587  7.03393  7.03951  6.98962  7.01434   \n",
       "driver_minage_f                  0.19839  0.09069  0.31187  0.07533  0.13121   \n",
       "BonusMalus                       0.19684 -0.05963 -0.03368 -0.01106 -0.01876   \n",
       "HasKmLimit                       0.13729 -0.03074 -0.02861 -0.01291 -0.00231   \n",
       "driver_minage_f_2                0.11390 -0.10115 -0.26283 -0.08610 -0.15174   \n",
       "VehUsage_Professional            0.10578 -0.00648 -0.01484 -0.00498  0.00000   \n",
       "VehUsage_Private                 0.09012  0.00000  0.00000  0.00000 -0.00153   \n",
       "Gender                           0.07935 -0.11372 -0.23587 -0.21351 -0.06218   \n",
       "VehUsage_Professional run        0.06599 -0.06592 -0.04264 -0.02678 -0.05259   \n",
       "OutUseNb                         0.05704 -0.01074 -0.01694 -0.01202 -0.02295   \n",
       "MariStat                         0.04125  0.12086  0.12378  0.03515  0.13273   \n",
       "SocioCateg_CSP2                  0.03421 -0.03402 -0.04495 -0.04356 -0.04598   \n",
       "SocioCateg_CSP3                  0.02518 -0.00046 -0.02682 -0.00560 -0.00053   \n",
       "SocioCateg_CSP6                  0.02482  0.03173  0.05738  0.00956  0.01478   \n",
       "RiskArea                         0.02242  0.06903  0.05467  0.09943  0.06129   \n",
       "SocioCateg_CSP4                  0.01270  0.00616 -0.00496 -0.00846 -0.00728   \n",
       "SocioCateg_CSP1                  0.01200 -0.04582 -0.02364 -0.02049 -0.00595   \n",
       "SocioCateg_CSP7                  0.00524 -0.01585 -0.01852  0.00000 -0.01620   \n",
       "driver_minage_m                  0.00393 -0.30897 -0.39733 -0.90336 -0.07795   \n",
       "SocioCateg_CSP5                  0.00177  0.00000  0.00000  0.00000  0.00000   \n",
       "driver_minage_m_2                0.00000  0.18391  0.22304  0.71183  0.03093   \n",
       "VehUsage_Private+trip to office  0.00000  0.02702  0.01178  0.00339  0.00510   \n",
       "\n",
       "                                       4  \n",
       "Intercept                        6.99977  \n",
       "driver_minage_f                  0.23695  \n",
       "BonusMalus                      -0.06747  \n",
       "HasKmLimit                      -0.00715  \n",
       "driver_minage_f_2               -0.24023  \n",
       "VehUsage_Professional           -0.01609  \n",
       "VehUsage_Private                 0.00000  \n",
       "Gender                          -0.10857  \n",
       "VehUsage_Professional run       -0.03471  \n",
       "OutUseNb                        -0.01281  \n",
       "MariStat                         0.12561  \n",
       "SocioCateg_CSP2                 -0.02087  \n",
       "SocioCateg_CSP3                 -0.00181  \n",
       "SocioCateg_CSP6                  0.06344  \n",
       "RiskArea                         0.05646  \n",
       "SocioCateg_CSP4                 -0.01212  \n",
       "SocioCateg_CSP1                 -0.00375  \n",
       "SocioCateg_CSP7                 -0.01763  \n",
       "driver_minage_m                 -0.28952  \n",
       "SocioCateg_CSP5                  0.00000  \n",
       "driver_minage_m_2                0.18901  \n",
       "VehUsage_Private+trip to office  0.01089  "
      ]
     },
     "execution_count": 43,
     "metadata": {},
     "output_type": "execute_result"
    }
   ],
   "source": [
    "# Таблица нормированных коэффициентов по всем данным и на кросс-валидации\n",
    "\n",
    "pmodels = {}\n",
    "pmodels['overall'] = glm_gamma.coef_norm()\n",
    "for x in range(len(glm_gamma.cross_validation_models())):\n",
    "    pmodels[x] = glm_gamma.cross_validation_models()[x].coef_norm()\n",
    "coef_ac = pd.DataFrame.from_dict(pmodels).round(5)\n",
    "coef_ac['overall'] = abs(coef['overall'])\n",
    "coef_ac.sort_values('overall',ascending=False)"
   ]
  },
  {
   "cell_type": "code",
   "execution_count": 44,
   "metadata": {
    "colab": {
     "base_uri": "https://localhost:8080/"
    },
    "id": "CoBse4X5_no7",
    "outputId": "e5bb6dee-118a-4e15-e7aa-8b85c663c2a1"
   },
   "outputs": [
    {
     "name": "stdout",
     "output_type": "stream",
     "text": [
      "glm prediction progress: |████████████████████████████████████████████████| 100%\n",
      "glm prediction progress: |████████████████████████████████████████████████| 100%\n",
      "glm prediction progress: |████████████████████████████████████████████████| 100%\n"
     ]
    }
   ],
   "source": [
    "# Построение прогнозных значений для обучающей, валидационной и тестовой выборок\n",
    "\n",
    "ac_train_pred = glm_gamma.predict(h2o_train_ac).as_data_frame()\n",
    "ac_valid_pred = glm_gamma.predict(h2o_valid_ac).as_data_frame()\n",
    "ac_test_pred = glm_gamma.predict(h2o_test_ac).as_data_frame()"
   ]
  },
  {
   "cell_type": "code",
   "execution_count": 46,
   "metadata": {
    "id": "3Brr0O0zUKKW"
   },
   "outputs": [],
   "source": [
    "# Сохранение обученной модели\n",
    "\n",
    "model_glm_gamma = h2o.save_model(model=glm_gamma, force=True)"
   ]
  },
  {
   "cell_type": "code",
   "execution_count": 47,
   "metadata": {
    "colab": {
     "base_uri": "https://localhost:8080/",
     "height": 35
    },
    "id": "VouX3Z7FUKIN",
    "outputId": "2a90da1c-ad1b-456f-d81c-fa1b0cee01f2"
   },
   "outputs": [
    {
     "data": {
      "text/plain": [
       "'C:\\\\Users\\\\vladi\\\\Desktop\\\\Geekbrains\\\\4.1 ML in business\\\\GLM_model_python_1605962095409_2'"
      ]
     },
     "execution_count": 47,
     "metadata": {},
     "output_type": "execute_result"
    }
   ],
   "source": [
    "model_glm_gamma"
   ]
  },
  {
   "cell_type": "markdown",
   "metadata": {
    "id": "A84l-r2aIxfK"
   },
   "source": [
    "## Использование GLM моделей"
   ]
  },
  {
   "cell_type": "code",
   "execution_count": 48,
   "metadata": {
    "colab": {
     "base_uri": "https://localhost:8080/"
    },
    "id": "-bkMpTD6Gcra",
    "outputId": "4fdc98bb-3030-4d03-b927-76616d4edba4"
   },
   "outputs": [
    {
     "name": "stdout",
     "output_type": "stream",
     "text": [
      "Parse progress: |█████████████████████████████████████████████████████████| 100%\n"
     ]
    }
   ],
   "source": [
    "h2o_df = h2o.H2OFrame(df_freq[col_features])"
   ]
  },
  {
   "cell_type": "code",
   "execution_count": 49,
   "metadata": {
    "colab": {
     "base_uri": "https://localhost:8080/"
    },
    "id": "meqzcQNpI6JJ",
    "outputId": "10d51683-06af-44e9-a300-bec3dfd9082c"
   },
   "outputs": [
    {
     "name": "stdout",
     "output_type": "stream",
     "text": [
      "glm prediction progress: |████████████████████████████████████████████████| 100%\n",
      "glm prediction progress: |████████████████████████████████████████████████| 100%\n"
     ]
    }
   ],
   "source": [
    "df['CountPredicted'] = glm_poisson.predict(h2o_df).as_data_frame()\n",
    "df['AvgClaimPredicted'] = glm_gamma.predict(h2o_df).as_data_frame()"
   ]
  },
  {
   "cell_type": "code",
   "execution_count": 50,
   "metadata": {
    "colab": {
     "base_uri": "https://localhost:8080/",
     "height": 204
    },
    "id": "gjK52WywJdHk",
    "outputId": "1c3be39b-3181-49d9-f9b2-1f66b1ba3c55"
   },
   "outputs": [
    {
     "data": {
      "text/html": [
       "<div>\n",
       "<style scoped>\n",
       "    .dataframe tbody tr th:only-of-type {\n",
       "        vertical-align: middle;\n",
       "    }\n",
       "\n",
       "    .dataframe tbody tr th {\n",
       "        vertical-align: top;\n",
       "    }\n",
       "\n",
       "    .dataframe thead th {\n",
       "        text-align: right;\n",
       "    }\n",
       "</style>\n",
       "<table border=\"1\" class=\"dataframe\">\n",
       "  <thead>\n",
       "    <tr style=\"text-align: right;\">\n",
       "      <th></th>\n",
       "      <th>CountPredicted</th>\n",
       "      <th>AvgClaimPredicted</th>\n",
       "      <th>BurningCost</th>\n",
       "    </tr>\n",
       "  </thead>\n",
       "  <tbody>\n",
       "    <tr>\n",
       "      <th>0</th>\n",
       "      <td>0.268689</td>\n",
       "      <td>1087.936414</td>\n",
       "      <td>292.316704</td>\n",
       "    </tr>\n",
       "    <tr>\n",
       "      <th>1</th>\n",
       "      <td>0.268689</td>\n",
       "      <td>1087.936414</td>\n",
       "      <td>292.316704</td>\n",
       "    </tr>\n",
       "    <tr>\n",
       "      <th>2</th>\n",
       "      <td>0.240122</td>\n",
       "      <td>1146.063987</td>\n",
       "      <td>275.195142</td>\n",
       "    </tr>\n",
       "    <tr>\n",
       "      <th>3</th>\n",
       "      <td>0.200097</td>\n",
       "      <td>1127.364931</td>\n",
       "      <td>225.582287</td>\n",
       "    </tr>\n",
       "    <tr>\n",
       "      <th>4</th>\n",
       "      <td>0.168869</td>\n",
       "      <td>1106.883916</td>\n",
       "      <td>186.918109</td>\n",
       "    </tr>\n",
       "  </tbody>\n",
       "</table>\n",
       "</div>"
      ],
      "text/plain": [
       "   CountPredicted  AvgClaimPredicted  BurningCost\n",
       "0        0.268689        1087.936414   292.316704\n",
       "1        0.268689        1087.936414   292.316704\n",
       "2        0.240122        1146.063987   275.195142\n",
       "3        0.200097        1127.364931   225.582287\n",
       "4        0.168869        1106.883916   186.918109"
      ]
     },
     "execution_count": 50,
     "metadata": {},
     "output_type": "execute_result"
    }
   ],
   "source": [
    "df['BurningCost'] = df.CountPredicted * df.AvgClaimPredicted\n",
    "df[['CountPredicted', 'AvgClaimPredicted', 'BurningCost']].head()"
   ]
  },
  {
   "cell_type": "markdown",
   "metadata": {
    "id": "Xljx8j0-_jXR"
   },
   "source": [
    "# * Домашнее задание: GLM для прогнозирования наступления страхового случая"
   ]
  },
  {
   "cell_type": "code",
   "execution_count": 51,
   "metadata": {
    "id": "EgD9hvYAIury"
   },
   "outputs": [],
   "source": [
    "# Разбиение датасета на train/val/test\n",
    "\n",
    "df_ind = data.get_pd(col_features+['ClaimInd'])\n",
    "\n",
    "x_train_ind, x_test_ind, y_train_ind, y_test_ind = train_test_split(df_ind[col_features], df_ind.ClaimInd, test_size=0.3, random_state=1)\n",
    "x_valid_ind, x_test_ind, y_valid_ind, y_test_ind = train_test_split(x_test_ind, y_test_ind, test_size=0.5, random_state=1)"
   ]
  },
  {
   "cell_type": "code",
   "execution_count": 58,
   "metadata": {
    "colab": {
     "base_uri": "https://localhost:8080/",
     "height": 35
    },
    "id": "Bt_i4clofGFR",
    "outputId": "91376985-5b41-447b-a092-4c913664f303"
   },
   "outputs": [
    {
     "name": "stdout",
     "output_type": "stream",
     "text": [
      "Parse progress: |█████████████████████████████████████████████████████████| 100%\n",
      "Parse progress: |█████████████████████████████████████████████████████████| 100%\n",
      "Parse progress: |█████████████████████████████████████████████████████████| 100%\n"
     ]
    }
   ],
   "source": [
    "# Преобразование в H2O-Frame\n",
    "\n",
    "h2o_train_ind = h2o.H2OFrame(pd.concat([x_train_ind, y_train_ind], axis=1))\n",
    "h2o_valid_ind = h2o.H2OFrame(pd.concat([x_valid_ind, y_valid_ind], axis=1))\n",
    "h2o_test_ind = h2o.H2OFrame(pd.concat([x_test_ind, y_test_ind], axis=1))"
   ]
  },
  {
   "cell_type": "code",
   "execution_count": 59,
   "metadata": {
    "colab": {
     "base_uri": "https://localhost:8080/",
     "height": 34
    },
    "id": "5ETBVckIjIRC",
    "outputId": "06a3a2de-37d1-4c13-d49c-bd797f299665"
   },
   "outputs": [],
   "source": [
    "# Преобразуем целевую переменную ClaimInd в категориальную при помощи метода asfactor во всех наборах данных\n",
    "\n",
    "h2o_train_ind['ClaimInd'] = h2o_train_ind['ClaimInd'].asfactor()\n",
    "h2o_valid_ind['ClaimInd'] = h2o_valid_ind['ClaimInd'].asfactor()\n",
    "h2o_test_ind['ClaimInd'] = h2o_test_ind['ClaimInd'].asfactor()"
   ]
  },
  {
   "cell_type": "code",
   "execution_count": 60,
   "metadata": {
    "colab": {
     "base_uri": "https://localhost:8080/",
     "height": 34
    },
    "id": "xoT7OG9ljwKY",
    "outputId": "b5ef07d3-af7d-467f-c1a6-3e085b9b62c2"
   },
   "outputs": [
    {
     "name": "stdout",
     "output_type": "stream",
     "text": [
      "glm Model Build progress: |███████████████████████████████████████████████| 100%\n"
     ]
    }
   ],
   "source": [
    "# Инициализируем и обучим GLM модель c кросс-валидацией\n",
    "glm_binomial = H2OGeneralizedLinearEstimator(family = \"binomial\", link = \"logit\", nfolds=5, balance_classes=True)\n",
    "glm_binomial.train(y = \"ClaimInd\", x = h2o_train_ind.names[1:-2], training_frame = h2o_train_ind, validation_frame = h2o_valid_ind)"
   ]
  },
  {
   "cell_type": "code",
   "execution_count": 61,
   "metadata": {
    "colab": {
     "base_uri": "https://localhost:8080/",
     "height": 34
    },
    "id": "WXbmbcSDoOXs",
    "outputId": "80740811-29e4-4462-ccc4-425d1037b2de"
   },
   "outputs": [
    {
     "name": "stdout",
     "output_type": "stream",
     "text": [
      "\n",
      "GLM Model: summary\n"
     ]
    },
    {
     "data": {
      "text/html": [
       "<div>\n",
       "<style scoped>\n",
       "    .dataframe tbody tr th:only-of-type {\n",
       "        vertical-align: middle;\n",
       "    }\n",
       "\n",
       "    .dataframe tbody tr th {\n",
       "        vertical-align: top;\n",
       "    }\n",
       "\n",
       "    .dataframe thead th {\n",
       "        text-align: right;\n",
       "    }\n",
       "</style>\n",
       "<table border=\"1\" class=\"dataframe\">\n",
       "  <thead>\n",
       "    <tr style=\"text-align: right;\">\n",
       "      <th></th>\n",
       "      <th></th>\n",
       "      <th>family</th>\n",
       "      <th>link</th>\n",
       "      <th>regularization</th>\n",
       "      <th>number_of_predictors_total</th>\n",
       "      <th>number_of_active_predictors</th>\n",
       "      <th>number_of_iterations</th>\n",
       "      <th>training_frame</th>\n",
       "    </tr>\n",
       "  </thead>\n",
       "  <tbody>\n",
       "    <tr>\n",
       "      <th>0</th>\n",
       "      <td></td>\n",
       "      <td>binomial</td>\n",
       "      <td>logit</td>\n",
       "      <td>Elastic Net (alpha = 0.5, lambda = 2.368E-5 )</td>\n",
       "      <td>20</td>\n",
       "      <td>20</td>\n",
       "      <td>3</td>\n",
       "      <td>py_4_sid_ac04</td>\n",
       "    </tr>\n",
       "  </tbody>\n",
       "</table>\n",
       "</div>"
      ],
      "text/plain": [
       "       family   link                                 regularization  \\\n",
       "0    binomial  logit  Elastic Net (alpha = 0.5, lambda = 2.368E-5 )   \n",
       "\n",
       "   number_of_predictors_total number_of_active_predictors  \\\n",
       "0                          20                          20   \n",
       "\n",
       "   number_of_iterations training_frame  \n",
       "0                     3  py_4_sid_ac04  "
      ]
     },
     "metadata": {},
     "output_type": "display_data"
    },
    {
     "data": {
      "text/plain": []
     },
     "execution_count": 61,
     "metadata": {},
     "output_type": "execute_result"
    }
   ],
   "source": [
    "# Параметры модели: распределение, функция связи, гиперпараметры регуляризации, количество использованных объясняющих переменных\n",
    "\n",
    "glm_binomial.summary()"
   ]
  },
  {
   "cell_type": "code",
   "execution_count": 62,
   "metadata": {
    "colab": {
     "base_uri": "https://localhost:8080/",
     "height": 34
    },
    "id": "mUvoWpAkoRir",
    "outputId": "1a762703-2b1d-4cde-ee57-cfdd16a28a72"
   },
   "outputs": [
    {
     "data": {
      "text/html": [
       "<div>\n",
       "<style scoped>\n",
       "    .dataframe tbody tr th:only-of-type {\n",
       "        vertical-align: middle;\n",
       "    }\n",
       "\n",
       "    .dataframe tbody tr th {\n",
       "        vertical-align: top;\n",
       "    }\n",
       "\n",
       "    .dataframe thead th {\n",
       "        text-align: right;\n",
       "    }\n",
       "</style>\n",
       "<table border=\"1\" class=\"dataframe\">\n",
       "  <thead>\n",
       "    <tr style=\"text-align: right;\">\n",
       "      <th></th>\n",
       "      <th></th>\n",
       "      <th>mean</th>\n",
       "      <th>sd</th>\n",
       "      <th>cv_1_valid</th>\n",
       "      <th>cv_2_valid</th>\n",
       "      <th>cv_3_valid</th>\n",
       "      <th>cv_4_valid</th>\n",
       "      <th>cv_5_valid</th>\n",
       "    </tr>\n",
       "  </thead>\n",
       "  <tbody>\n",
       "    <tr>\n",
       "      <th>0</th>\n",
       "      <td>accuracy</td>\n",
       "      <td>0.539703</td>\n",
       "      <td>0.09318284</td>\n",
       "      <td>0.37696174</td>\n",
       "      <td>0.59381855</td>\n",
       "      <td>0.5860676</td>\n",
       "      <td>0.54602396</td>\n",
       "      <td>0.5956433</td>\n",
       "    </tr>\n",
       "    <tr>\n",
       "      <th>1</th>\n",
       "      <td>auc</td>\n",
       "      <td>0.56370056</td>\n",
       "      <td>0.0038693382</td>\n",
       "      <td>0.5619261</td>\n",
       "      <td>0.5596224</td>\n",
       "      <td>0.5613024</td>\n",
       "      <td>0.56822497</td>\n",
       "      <td>0.567427</td>\n",
       "    </tr>\n",
       "    <tr>\n",
       "      <th>2</th>\n",
       "      <td>aucpr</td>\n",
       "      <td>0.11415534</td>\n",
       "      <td>0.004321573</td>\n",
       "      <td>0.11532845</td>\n",
       "      <td>0.10689713</td>\n",
       "      <td>0.11403271</td>\n",
       "      <td>0.11808481</td>\n",
       "      <td>0.116433576</td>\n",
       "    </tr>\n",
       "    <tr>\n",
       "      <th>3</th>\n",
       "      <td>err</td>\n",
       "      <td>0.46029696</td>\n",
       "      <td>0.09318284</td>\n",
       "      <td>0.6230383</td>\n",
       "      <td>0.40618142</td>\n",
       "      <td>0.41393238</td>\n",
       "      <td>0.45397606</td>\n",
       "      <td>0.40435672</td>\n",
       "    </tr>\n",
       "    <tr>\n",
       "      <th>4</th>\n",
       "      <td>err_count</td>\n",
       "      <td>7422.2</td>\n",
       "      <td>1511.0128</td>\n",
       "      <td>10044.0</td>\n",
       "      <td>6479.0</td>\n",
       "      <td>6661.0</td>\n",
       "      <td>7393.0</td>\n",
       "      <td>6534.0</td>\n",
       "    </tr>\n",
       "    <tr>\n",
       "      <th>5</th>\n",
       "      <td>f0point5</td>\n",
       "      <td>0.13404533</td>\n",
       "      <td>0.0036130806</td>\n",
       "      <td>0.12972093</td>\n",
       "      <td>0.13067098</td>\n",
       "      <td>0.13625866</td>\n",
       "      <td>0.13574234</td>\n",
       "      <td>0.13783373</td>\n",
       "    </tr>\n",
       "    <tr>\n",
       "      <th>6</th>\n",
       "      <td>f1</td>\n",
       "      <td>0.18679787</td>\n",
       "      <td>0.0038045894</td>\n",
       "      <td>0.18803556</td>\n",
       "      <td>0.18018474</td>\n",
       "      <td>0.18718731</td>\n",
       "      <td>0.18945292</td>\n",
       "      <td>0.18912882</td>\n",
       "    </tr>\n",
       "    <tr>\n",
       "      <th>7</th>\n",
       "      <td>f2</td>\n",
       "      <td>0.30907032</td>\n",
       "      <td>0.020009669</td>\n",
       "      <td>0.34159666</td>\n",
       "      <td>0.2901149</td>\n",
       "      <td>0.2989088</td>\n",
       "      <td>0.3134978</td>\n",
       "      <td>0.3012334</td>\n",
       "    </tr>\n",
       "    <tr>\n",
       "      <th>8</th>\n",
       "      <td>lift_top_group</td>\n",
       "      <td>1.4746834</td>\n",
       "      <td>0.36750907</td>\n",
       "      <td>1.5398428</td>\n",
       "      <td>1.3694197</td>\n",
       "      <td>0.9703914</td>\n",
       "      <td>1.9942995</td>\n",
       "      <td>1.4994634</td>\n",
       "    </tr>\n",
       "    <tr>\n",
       "      <th>9</th>\n",
       "      <td>logloss</td>\n",
       "      <td>0.3111519</td>\n",
       "      <td>0.0042998246</td>\n",
       "      <td>0.31460938</td>\n",
       "      <td>0.30398238</td>\n",
       "      <td>0.31425253</td>\n",
       "      <td>0.3120889</td>\n",
       "      <td>0.31082627</td>\n",
       "    </tr>\n",
       "    <tr>\n",
       "      <th>10</th>\n",
       "      <td>max_per_class_error</td>\n",
       "      <td>0.526861</td>\n",
       "      <td>0.079105236</td>\n",
       "      <td>0.66273165</td>\n",
       "      <td>0.510989</td>\n",
       "      <td>0.5035599</td>\n",
       "      <td>0.45506382</td>\n",
       "      <td>0.5019608</td>\n",
       "    </tr>\n",
       "    <tr>\n",
       "      <th>11</th>\n",
       "      <td>mcc</td>\n",
       "      <td>0.05723058</td>\n",
       "      <td>0.003378596</td>\n",
       "      <td>0.05467341</td>\n",
       "      <td>0.054790605</td>\n",
       "      <td>0.055058286</td>\n",
       "      <td>0.05964319</td>\n",
       "      <td>0.06198742</td>\n",
       "    </tr>\n",
       "    <tr>\n",
       "      <th>12</th>\n",
       "      <td>mean_per_class_accuracy</td>\n",
       "      <td>0.5477661</td>\n",
       "      <td>0.0034540244</td>\n",
       "      <td>0.5435536</td>\n",
       "      <td>0.54667866</td>\n",
       "      <td>0.5460134</td>\n",
       "      <td>0.5506394</td>\n",
       "      <td>0.5519453</td>\n",
       "    </tr>\n",
       "    <tr>\n",
       "      <th>13</th>\n",
       "      <td>mean_per_class_error</td>\n",
       "      <td>0.45223394</td>\n",
       "      <td>0.0034540244</td>\n",
       "      <td>0.4564464</td>\n",
       "      <td>0.45332134</td>\n",
       "      <td>0.4539866</td>\n",
       "      <td>0.4493606</td>\n",
       "      <td>0.4480547</td>\n",
       "    </tr>\n",
       "    <tr>\n",
       "      <th>14</th>\n",
       "      <td>mse</td>\n",
       "      <td>0.08538576</td>\n",
       "      <td>0.0015731037</td>\n",
       "      <td>0.086604476</td>\n",
       "      <td>0.08273059</td>\n",
       "      <td>0.08646877</td>\n",
       "      <td>0.08581553</td>\n",
       "      <td>0.08530944</td>\n",
       "    </tr>\n",
       "    <tr>\n",
       "      <th>15</th>\n",
       "      <td>null_deviance</td>\n",
       "      <td>10102.739</td>\n",
       "      <td>203.22722</td>\n",
       "      <td>10210.874</td>\n",
       "      <td>9749.124</td>\n",
       "      <td>10177.955</td>\n",
       "      <td>10252.352</td>\n",
       "      <td>10123.393</td>\n",
       "    </tr>\n",
       "    <tr>\n",
       "      <th>16</th>\n",
       "      <td>pr_auc</td>\n",
       "      <td>0.11415534</td>\n",
       "      <td>0.004321573</td>\n",
       "      <td>0.11532845</td>\n",
       "      <td>0.10689713</td>\n",
       "      <td>0.11403271</td>\n",
       "      <td>0.11808481</td>\n",
       "      <td>0.116433576</td>\n",
       "    </tr>\n",
       "    <tr>\n",
       "      <th>17</th>\n",
       "      <td>precision</td>\n",
       "      <td>0.11283325</td>\n",
       "      <td>0.0037893108</td>\n",
       "      <td>0.107496075</td>\n",
       "      <td>0.110438965</td>\n",
       "      <td>0.11533835</td>\n",
       "      <td>0.114164904</td>\n",
       "      <td>0.11672794</td>\n",
       "    </tr>\n",
       "    <tr>\n",
       "      <th>18</th>\n",
       "      <td>r2</td>\n",
       "      <td>0.0040802048</td>\n",
       "      <td>0.0010194764</td>\n",
       "      <td>0.0040146876</td>\n",
       "      <td>0.002616071</td>\n",
       "      <td>0.0037291753</td>\n",
       "      <td>0.0052630813</td>\n",
       "      <td>0.0047780084</td>\n",
       "    </tr>\n",
       "    <tr>\n",
       "      <th>19</th>\n",
       "      <td>recall</td>\n",
       "      <td>0.55793434</td>\n",
       "      <td>0.11062239</td>\n",
       "      <td>0.7498388</td>\n",
       "      <td>0.489011</td>\n",
       "      <td>0.49644014</td>\n",
       "      <td>0.55634254</td>\n",
       "      <td>0.49803922</td>\n",
       "    </tr>\n",
       "    <tr>\n",
       "      <th>20</th>\n",
       "      <td>residual_deviance</td>\n",
       "      <td>10033.041</td>\n",
       "      <td>192.84254</td>\n",
       "      <td>10143.636</td>\n",
       "      <td>9697.646</td>\n",
       "      <td>10113.903</td>\n",
       "      <td>10164.735</td>\n",
       "      <td>10045.284</td>\n",
       "    </tr>\n",
       "    <tr>\n",
       "      <th>21</th>\n",
       "      <td>rmse</td>\n",
       "      <td>0.29219842</td>\n",
       "      <td>0.0027044015</td>\n",
       "      <td>0.29428637</td>\n",
       "      <td>0.28762925</td>\n",
       "      <td>0.29405573</td>\n",
       "      <td>0.29294288</td>\n",
       "      <td>0.29207778</td>\n",
       "    </tr>\n",
       "    <tr>\n",
       "      <th>22</th>\n",
       "      <td>specificity</td>\n",
       "      <td>0.5375978</td>\n",
       "      <td>0.114741415</td>\n",
       "      <td>0.33726835</td>\n",
       "      <td>0.60434633</td>\n",
       "      <td>0.5955867</td>\n",
       "      <td>0.5449362</td>\n",
       "      <td>0.6058514</td>\n",
       "    </tr>\n",
       "  </tbody>\n",
       "</table>\n",
       "</div>"
      ],
      "text/plain": [
       "                                     mean            sd    cv_1_valid  \\\n",
       "0                  accuracy      0.539703    0.09318284    0.37696174   \n",
       "1                       auc    0.56370056  0.0038693382     0.5619261   \n",
       "2                     aucpr    0.11415534   0.004321573    0.11532845   \n",
       "3                       err    0.46029696    0.09318284     0.6230383   \n",
       "4                 err_count        7422.2     1511.0128       10044.0   \n",
       "5                  f0point5    0.13404533  0.0036130806    0.12972093   \n",
       "6                        f1    0.18679787  0.0038045894    0.18803556   \n",
       "7                        f2    0.30907032   0.020009669    0.34159666   \n",
       "8            lift_top_group     1.4746834    0.36750907     1.5398428   \n",
       "9                   logloss     0.3111519  0.0042998246    0.31460938   \n",
       "10      max_per_class_error      0.526861   0.079105236    0.66273165   \n",
       "11                      mcc    0.05723058   0.003378596    0.05467341   \n",
       "12  mean_per_class_accuracy     0.5477661  0.0034540244     0.5435536   \n",
       "13     mean_per_class_error    0.45223394  0.0034540244     0.4564464   \n",
       "14                      mse    0.08538576  0.0015731037   0.086604476   \n",
       "15            null_deviance     10102.739     203.22722     10210.874   \n",
       "16                   pr_auc    0.11415534   0.004321573    0.11532845   \n",
       "17                precision    0.11283325  0.0037893108   0.107496075   \n",
       "18                       r2  0.0040802048  0.0010194764  0.0040146876   \n",
       "19                   recall    0.55793434    0.11062239     0.7498388   \n",
       "20        residual_deviance     10033.041     192.84254     10143.636   \n",
       "21                     rmse    0.29219842  0.0027044015    0.29428637   \n",
       "22              specificity     0.5375978   0.114741415    0.33726835   \n",
       "\n",
       "     cv_2_valid    cv_3_valid    cv_4_valid    cv_5_valid  \n",
       "0    0.59381855     0.5860676    0.54602396     0.5956433  \n",
       "1     0.5596224     0.5613024    0.56822497      0.567427  \n",
       "2    0.10689713    0.11403271    0.11808481   0.116433576  \n",
       "3    0.40618142    0.41393238    0.45397606    0.40435672  \n",
       "4        6479.0        6661.0        7393.0        6534.0  \n",
       "5    0.13067098    0.13625866    0.13574234    0.13783373  \n",
       "6    0.18018474    0.18718731    0.18945292    0.18912882  \n",
       "7     0.2901149     0.2989088     0.3134978     0.3012334  \n",
       "8     1.3694197     0.9703914     1.9942995     1.4994634  \n",
       "9    0.30398238    0.31425253     0.3120889    0.31082627  \n",
       "10     0.510989     0.5035599    0.45506382     0.5019608  \n",
       "11  0.054790605   0.055058286    0.05964319    0.06198742  \n",
       "12   0.54667866     0.5460134     0.5506394     0.5519453  \n",
       "13   0.45332134     0.4539866     0.4493606     0.4480547  \n",
       "14   0.08273059    0.08646877    0.08581553    0.08530944  \n",
       "15     9749.124     10177.955     10252.352     10123.393  \n",
       "16   0.10689713    0.11403271    0.11808481   0.116433576  \n",
       "17  0.110438965    0.11533835   0.114164904    0.11672794  \n",
       "18  0.002616071  0.0037291753  0.0052630813  0.0047780084  \n",
       "19     0.489011    0.49644014    0.55634254    0.49803922  \n",
       "20     9697.646     10113.903     10164.735     10045.284  \n",
       "21   0.28762925    0.29405573    0.29294288    0.29207778  \n",
       "22   0.60434633     0.5955867     0.5449362     0.6058514  "
      ]
     },
     "execution_count": 62,
     "metadata": {},
     "output_type": "execute_result"
    }
   ],
   "source": [
    "# Метрики качества модели - по всем данным и на кросс-валидации\n",
    "\n",
    "glm_binomial.cross_validation_metrics_summary().as_data_frame()"
   ]
  },
  {
   "cell_type": "code",
   "execution_count": 63,
   "metadata": {
    "colab": {
     "base_uri": "https://localhost:8080/",
     "height": 34
    },
    "id": "D8USRdSmoYy_",
    "outputId": "df4cec07-ec56-4620-d3b8-82d506d9562c"
   },
   "outputs": [
    {
     "data": {
      "text/html": [
       "<div>\n",
       "<style scoped>\n",
       "    .dataframe tbody tr th:only-of-type {\n",
       "        vertical-align: middle;\n",
       "    }\n",
       "\n",
       "    .dataframe tbody tr th {\n",
       "        vertical-align: top;\n",
       "    }\n",
       "\n",
       "    .dataframe thead th {\n",
       "        text-align: right;\n",
       "    }\n",
       "</style>\n",
       "<table border=\"1\" class=\"dataframe\">\n",
       "  <thead>\n",
       "    <tr style=\"text-align: right;\">\n",
       "      <th></th>\n",
       "      <th>names</th>\n",
       "      <th>coefficients</th>\n",
       "      <th>standardized_coefficients</th>\n",
       "    </tr>\n",
       "  </thead>\n",
       "  <tbody>\n",
       "    <tr>\n",
       "      <th>0</th>\n",
       "      <td>Intercept</td>\n",
       "      <td>-2.475904e+00</td>\n",
       "      <td>-2.279636</td>\n",
       "    </tr>\n",
       "    <tr>\n",
       "      <th>1</th>\n",
       "      <td>Gender</td>\n",
       "      <td>-6.412230e-02</td>\n",
       "      <td>-0.031080</td>\n",
       "    </tr>\n",
       "    <tr>\n",
       "      <th>2</th>\n",
       "      <td>MariStat</td>\n",
       "      <td>-6.469010e-02</td>\n",
       "      <td>-0.023304</td>\n",
       "    </tr>\n",
       "    <tr>\n",
       "      <th>3</th>\n",
       "      <td>HasKmLimit</td>\n",
       "      <td>-3.698690e-01</td>\n",
       "      <td>-0.115506</td>\n",
       "    </tr>\n",
       "    <tr>\n",
       "      <th>4</th>\n",
       "      <td>BonusMalus</td>\n",
       "      <td>6.792700e-03</td>\n",
       "      <td>0.104270</td>\n",
       "    </tr>\n",
       "    <tr>\n",
       "      <th>5</th>\n",
       "      <td>OutUseNb</td>\n",
       "      <td>6.140907e-02</td>\n",
       "      <td>0.042723</td>\n",
       "    </tr>\n",
       "    <tr>\n",
       "      <th>6</th>\n",
       "      <td>RiskArea</td>\n",
       "      <td>9.237981e-03</td>\n",
       "      <td>0.020468</td>\n",
       "    </tr>\n",
       "    <tr>\n",
       "      <th>7</th>\n",
       "      <td>driver_minage_m</td>\n",
       "      <td>-3.724896e-03</td>\n",
       "      <td>-0.070142</td>\n",
       "    </tr>\n",
       "    <tr>\n",
       "      <th>8</th>\n",
       "      <td>driver_minage_f</td>\n",
       "      <td>-1.167387e-03</td>\n",
       "      <td>-0.018724</td>\n",
       "    </tr>\n",
       "    <tr>\n",
       "      <th>9</th>\n",
       "      <td>driver_minage_m_2</td>\n",
       "      <td>-6.162300e-06</td>\n",
       "      <td>-0.009621</td>\n",
       "    </tr>\n",
       "    <tr>\n",
       "      <th>10</th>\n",
       "      <td>driver_minage_f_2</td>\n",
       "      <td>-1.040740e-07</td>\n",
       "      <td>-0.000131</td>\n",
       "    </tr>\n",
       "    <tr>\n",
       "      <th>11</th>\n",
       "      <td>VehUsage_Private</td>\n",
       "      <td>-1.436352e-01</td>\n",
       "      <td>-0.067923</td>\n",
       "    </tr>\n",
       "    <tr>\n",
       "      <th>12</th>\n",
       "      <td>VehUsage_Private+trip to office</td>\n",
       "      <td>-1.652625e-02</td>\n",
       "      <td>-0.008257</td>\n",
       "    </tr>\n",
       "    <tr>\n",
       "      <th>13</th>\n",
       "      <td>VehUsage_Professional</td>\n",
       "      <td>2.260116e-01</td>\n",
       "      <td>0.074696</td>\n",
       "    </tr>\n",
       "    <tr>\n",
       "      <th>14</th>\n",
       "      <td>VehUsage_Professional run</td>\n",
       "      <td>2.954791e-01</td>\n",
       "      <td>0.039642</td>\n",
       "    </tr>\n",
       "    <tr>\n",
       "      <th>15</th>\n",
       "      <td>SocioCateg_CSP1</td>\n",
       "      <td>-1.068416e-01</td>\n",
       "      <td>-0.016188</td>\n",
       "    </tr>\n",
       "    <tr>\n",
       "      <th>16</th>\n",
       "      <td>SocioCateg_CSP2</td>\n",
       "      <td>-1.458385e-01</td>\n",
       "      <td>-0.024296</td>\n",
       "    </tr>\n",
       "    <tr>\n",
       "      <th>17</th>\n",
       "      <td>SocioCateg_CSP3</td>\n",
       "      <td>1.033284e-01</td>\n",
       "      <td>0.010719</td>\n",
       "    </tr>\n",
       "    <tr>\n",
       "      <th>18</th>\n",
       "      <td>SocioCateg_CSP4</td>\n",
       "      <td>3.042854e-02</td>\n",
       "      <td>0.007609</td>\n",
       "    </tr>\n",
       "    <tr>\n",
       "      <th>19</th>\n",
       "      <td>SocioCateg_CSP5</td>\n",
       "      <td>-2.760245e-02</td>\n",
       "      <td>-0.013121</td>\n",
       "    </tr>\n",
       "    <tr>\n",
       "      <th>20</th>\n",
       "      <td>SocioCateg_CSP6</td>\n",
       "      <td>4.890265e-02</td>\n",
       "      <td>0.020085</td>\n",
       "    </tr>\n",
       "  </tbody>\n",
       "</table>\n",
       "</div>"
      ],
      "text/plain": [
       "                              names  coefficients  standardized_coefficients\n",
       "0                         Intercept -2.475904e+00                  -2.279636\n",
       "1                            Gender -6.412230e-02                  -0.031080\n",
       "2                          MariStat -6.469010e-02                  -0.023304\n",
       "3                        HasKmLimit -3.698690e-01                  -0.115506\n",
       "4                        BonusMalus  6.792700e-03                   0.104270\n",
       "5                          OutUseNb  6.140907e-02                   0.042723\n",
       "6                          RiskArea  9.237981e-03                   0.020468\n",
       "7                   driver_minage_m -3.724896e-03                  -0.070142\n",
       "8                   driver_minage_f -1.167387e-03                  -0.018724\n",
       "9                 driver_minage_m_2 -6.162300e-06                  -0.009621\n",
       "10                driver_minage_f_2 -1.040740e-07                  -0.000131\n",
       "11                 VehUsage_Private -1.436352e-01                  -0.067923\n",
       "12  VehUsage_Private+trip to office -1.652625e-02                  -0.008257\n",
       "13            VehUsage_Professional  2.260116e-01                   0.074696\n",
       "14        VehUsage_Professional run  2.954791e-01                   0.039642\n",
       "15                  SocioCateg_CSP1 -1.068416e-01                  -0.016188\n",
       "16                  SocioCateg_CSP2 -1.458385e-01                  -0.024296\n",
       "17                  SocioCateg_CSP3  1.033284e-01                   0.010719\n",
       "18                  SocioCateg_CSP4  3.042854e-02                   0.007609\n",
       "19                  SocioCateg_CSP5 -2.760245e-02                  -0.013121\n",
       "20                  SocioCateg_CSP6  4.890265e-02                   0.020085"
      ]
     },
     "execution_count": 63,
     "metadata": {},
     "output_type": "execute_result"
    }
   ],
   "source": [
    "# Таблица коэффициентов модели (в зависимости от модели могут выводиться также стандартная ошибка, z-score и p-value)\n",
    "\n",
    "glm_binomial._model_json['output']['coefficients_table'].as_data_frame()"
   ]
  },
  {
   "cell_type": "code",
   "execution_count": 64,
   "metadata": {
    "colab": {
     "base_uri": "https://localhost:8080/",
     "height": 34
    },
    "id": "KZ_XqTchoiYX",
    "outputId": "e3c87bcb-28cb-4e93-d265-a04ca7db176b"
   },
   "outputs": [
    {
     "data": {
      "text/html": [
       "<div>\n",
       "<style scoped>\n",
       "    .dataframe tbody tr th:only-of-type {\n",
       "        vertical-align: middle;\n",
       "    }\n",
       "\n",
       "    .dataframe tbody tr th {\n",
       "        vertical-align: top;\n",
       "    }\n",
       "\n",
       "    .dataframe thead th {\n",
       "        text-align: right;\n",
       "    }\n",
       "</style>\n",
       "<table border=\"1\" class=\"dataframe\">\n",
       "  <thead>\n",
       "    <tr style=\"text-align: right;\">\n",
       "      <th></th>\n",
       "      <th>overall</th>\n",
       "      <th>0</th>\n",
       "      <th>1</th>\n",
       "      <th>2</th>\n",
       "      <th>3</th>\n",
       "      <th>4</th>\n",
       "    </tr>\n",
       "  </thead>\n",
       "  <tbody>\n",
       "    <tr>\n",
       "      <th>Intercept</th>\n",
       "      <td>1.57587</td>\n",
       "      <td>-2.28385</td>\n",
       "      <td>-2.27109</td>\n",
       "      <td>-2.28424</td>\n",
       "      <td>-2.28030</td>\n",
       "      <td>-2.27915</td>\n",
       "    </tr>\n",
       "    <tr>\n",
       "      <th>driver_minage_f</th>\n",
       "      <td>0.19839</td>\n",
       "      <td>-0.05964</td>\n",
       "      <td>-0.02263</td>\n",
       "      <td>-0.00458</td>\n",
       "      <td>-0.00550</td>\n",
       "      <td>0.00000</td>\n",
       "    </tr>\n",
       "    <tr>\n",
       "      <th>BonusMalus</th>\n",
       "      <td>0.19684</td>\n",
       "      <td>0.09729</td>\n",
       "      <td>0.11588</td>\n",
       "      <td>0.10338</td>\n",
       "      <td>0.10398</td>\n",
       "      <td>0.10010</td>\n",
       "    </tr>\n",
       "    <tr>\n",
       "      <th>HasKmLimit</th>\n",
       "      <td>0.13729</td>\n",
       "      <td>-0.11422</td>\n",
       "      <td>-0.11611</td>\n",
       "      <td>-0.11836</td>\n",
       "      <td>-0.11225</td>\n",
       "      <td>-0.11513</td>\n",
       "    </tr>\n",
       "    <tr>\n",
       "      <th>driver_minage_f_2</th>\n",
       "      <td>0.11390</td>\n",
       "      <td>0.00000</td>\n",
       "      <td>0.01134</td>\n",
       "      <td>-0.00740</td>\n",
       "      <td>-0.01909</td>\n",
       "      <td>0.01075</td>\n",
       "    </tr>\n",
       "    <tr>\n",
       "      <th>VehUsage_Professional</th>\n",
       "      <td>0.10578</td>\n",
       "      <td>0.07818</td>\n",
       "      <td>0.07835</td>\n",
       "      <td>0.07545</td>\n",
       "      <td>0.06968</td>\n",
       "      <td>0.07830</td>\n",
       "    </tr>\n",
       "    <tr>\n",
       "      <th>VehUsage_Private</th>\n",
       "      <td>0.09012</td>\n",
       "      <td>-0.06879</td>\n",
       "      <td>-0.06790</td>\n",
       "      <td>-0.06551</td>\n",
       "      <td>-0.05513</td>\n",
       "      <td>-0.07385</td>\n",
       "    </tr>\n",
       "    <tr>\n",
       "      <th>Gender</th>\n",
       "      <td>0.07935</td>\n",
       "      <td>-0.01030</td>\n",
       "      <td>-0.04833</td>\n",
       "      <td>-0.02988</td>\n",
       "      <td>-0.02860</td>\n",
       "      <td>-0.04200</td>\n",
       "    </tr>\n",
       "    <tr>\n",
       "      <th>VehUsage_Professional run</th>\n",
       "      <td>0.06599</td>\n",
       "      <td>0.04285</td>\n",
       "      <td>0.03188</td>\n",
       "      <td>0.03579</td>\n",
       "      <td>0.04264</td>\n",
       "      <td>0.04736</td>\n",
       "    </tr>\n",
       "    <tr>\n",
       "      <th>OutUseNb</th>\n",
       "      <td>0.05704</td>\n",
       "      <td>0.03356</td>\n",
       "      <td>0.04364</td>\n",
       "      <td>0.04887</td>\n",
       "      <td>0.04324</td>\n",
       "      <td>0.04405</td>\n",
       "    </tr>\n",
       "    <tr>\n",
       "      <th>MariStat</th>\n",
       "      <td>0.04125</td>\n",
       "      <td>-0.02356</td>\n",
       "      <td>-0.02685</td>\n",
       "      <td>-0.01845</td>\n",
       "      <td>-0.03247</td>\n",
       "      <td>-0.01520</td>\n",
       "    </tr>\n",
       "    <tr>\n",
       "      <th>SocioCateg_CSP2</th>\n",
       "      <td>0.03421</td>\n",
       "      <td>-0.02542</td>\n",
       "      <td>-0.02718</td>\n",
       "      <td>-0.01804</td>\n",
       "      <td>-0.01638</td>\n",
       "      <td>-0.01933</td>\n",
       "    </tr>\n",
       "    <tr>\n",
       "      <th>SocioCateg_CSP3</th>\n",
       "      <td>0.02518</td>\n",
       "      <td>0.01256</td>\n",
       "      <td>0.01301</td>\n",
       "      <td>0.01903</td>\n",
       "      <td>0.01426</td>\n",
       "      <td>0.00722</td>\n",
       "    </tr>\n",
       "    <tr>\n",
       "      <th>SocioCateg_CSP6</th>\n",
       "      <td>0.02482</td>\n",
       "      <td>0.03576</td>\n",
       "      <td>0.03581</td>\n",
       "      <td>0.01760</td>\n",
       "      <td>0.02629</td>\n",
       "      <td>0.02268</td>\n",
       "    </tr>\n",
       "    <tr>\n",
       "      <th>RiskArea</th>\n",
       "      <td>0.02242</td>\n",
       "      <td>0.01733</td>\n",
       "      <td>0.01507</td>\n",
       "      <td>0.02483</td>\n",
       "      <td>0.03163</td>\n",
       "      <td>0.01342</td>\n",
       "    </tr>\n",
       "    <tr>\n",
       "      <th>SocioCateg_CSP4</th>\n",
       "      <td>0.01270</td>\n",
       "      <td>0.01731</td>\n",
       "      <td>0.01515</td>\n",
       "      <td>0.01279</td>\n",
       "      <td>0.01510</td>\n",
       "      <td>0.00040</td>\n",
       "    </tr>\n",
       "    <tr>\n",
       "      <th>SocioCateg_CSP1</th>\n",
       "      <td>0.01200</td>\n",
       "      <td>-0.01458</td>\n",
       "      <td>-0.01192</td>\n",
       "      <td>-0.01398</td>\n",
       "      <td>-0.01532</td>\n",
       "      <td>-0.01131</td>\n",
       "    </tr>\n",
       "    <tr>\n",
       "      <th>driver_minage_m</th>\n",
       "      <td>0.00393</td>\n",
       "      <td>-0.06964</td>\n",
       "      <td>-0.10253</td>\n",
       "      <td>-0.07243</td>\n",
       "      <td>-0.06705</td>\n",
       "      <td>-0.05621</td>\n",
       "    </tr>\n",
       "    <tr>\n",
       "      <th>SocioCateg_CSP5</th>\n",
       "      <td>0.00177</td>\n",
       "      <td>0.00000</td>\n",
       "      <td>0.00000</td>\n",
       "      <td>-0.00922</td>\n",
       "      <td>-0.01262</td>\n",
       "      <td>0.00000</td>\n",
       "    </tr>\n",
       "    <tr>\n",
       "      <th>driver_minage_m_2</th>\n",
       "      <td>0.00000</td>\n",
       "      <td>-0.01334</td>\n",
       "      <td>0.01272</td>\n",
       "      <td>-0.00313</td>\n",
       "      <td>-0.01810</td>\n",
       "      <td>-0.01234</td>\n",
       "    </tr>\n",
       "    <tr>\n",
       "      <th>VehUsage_Private+trip to office</th>\n",
       "      <td>0.00000</td>\n",
       "      <td>-0.00368</td>\n",
       "      <td>0.00000</td>\n",
       "      <td>-0.00841</td>\n",
       "      <td>-0.01005</td>\n",
       "      <td>-0.00961</td>\n",
       "    </tr>\n",
       "  </tbody>\n",
       "</table>\n",
       "</div>"
      ],
      "text/plain": [
       "                                 overall        0        1        2        3  \\\n",
       "Intercept                        1.57587 -2.28385 -2.27109 -2.28424 -2.28030   \n",
       "driver_minage_f                  0.19839 -0.05964 -0.02263 -0.00458 -0.00550   \n",
       "BonusMalus                       0.19684  0.09729  0.11588  0.10338  0.10398   \n",
       "HasKmLimit                       0.13729 -0.11422 -0.11611 -0.11836 -0.11225   \n",
       "driver_minage_f_2                0.11390  0.00000  0.01134 -0.00740 -0.01909   \n",
       "VehUsage_Professional            0.10578  0.07818  0.07835  0.07545  0.06968   \n",
       "VehUsage_Private                 0.09012 -0.06879 -0.06790 -0.06551 -0.05513   \n",
       "Gender                           0.07935 -0.01030 -0.04833 -0.02988 -0.02860   \n",
       "VehUsage_Professional run        0.06599  0.04285  0.03188  0.03579  0.04264   \n",
       "OutUseNb                         0.05704  0.03356  0.04364  0.04887  0.04324   \n",
       "MariStat                         0.04125 -0.02356 -0.02685 -0.01845 -0.03247   \n",
       "SocioCateg_CSP2                  0.03421 -0.02542 -0.02718 -0.01804 -0.01638   \n",
       "SocioCateg_CSP3                  0.02518  0.01256  0.01301  0.01903  0.01426   \n",
       "SocioCateg_CSP6                  0.02482  0.03576  0.03581  0.01760  0.02629   \n",
       "RiskArea                         0.02242  0.01733  0.01507  0.02483  0.03163   \n",
       "SocioCateg_CSP4                  0.01270  0.01731  0.01515  0.01279  0.01510   \n",
       "SocioCateg_CSP1                  0.01200 -0.01458 -0.01192 -0.01398 -0.01532   \n",
       "driver_minage_m                  0.00393 -0.06964 -0.10253 -0.07243 -0.06705   \n",
       "SocioCateg_CSP5                  0.00177  0.00000  0.00000 -0.00922 -0.01262   \n",
       "driver_minage_m_2                0.00000 -0.01334  0.01272 -0.00313 -0.01810   \n",
       "VehUsage_Private+trip to office  0.00000 -0.00368  0.00000 -0.00841 -0.01005   \n",
       "\n",
       "                                       4  \n",
       "Intercept                       -2.27915  \n",
       "driver_minage_f                  0.00000  \n",
       "BonusMalus                       0.10010  \n",
       "HasKmLimit                      -0.11513  \n",
       "driver_minage_f_2                0.01075  \n",
       "VehUsage_Professional            0.07830  \n",
       "VehUsage_Private                -0.07385  \n",
       "Gender                          -0.04200  \n",
       "VehUsage_Professional run        0.04736  \n",
       "OutUseNb                         0.04405  \n",
       "MariStat                        -0.01520  \n",
       "SocioCateg_CSP2                 -0.01933  \n",
       "SocioCateg_CSP3                  0.00722  \n",
       "SocioCateg_CSP6                  0.02268  \n",
       "RiskArea                         0.01342  \n",
       "SocioCateg_CSP4                  0.00040  \n",
       "SocioCateg_CSP1                 -0.01131  \n",
       "driver_minage_m                 -0.05621  \n",
       "SocioCateg_CSP5                  0.00000  \n",
       "driver_minage_m_2               -0.01234  \n",
       "VehUsage_Private+trip to office -0.00961  "
      ]
     },
     "execution_count": 64,
     "metadata": {},
     "output_type": "execute_result"
    }
   ],
   "source": [
    "# Таблица нормированных коэффициентов по всем данным и на кросс-валидации\n",
    "\n",
    "pmodels = {}\n",
    "pmodels['overall'] = glm_binomial.coef_norm()\n",
    "for x in range(len(glm_binomial.cross_validation_models())):\n",
    "    pmodels[x] = glm_binomial.cross_validation_models()[x].coef_norm()\n",
    "coef_ac = pd.DataFrame.from_dict(pmodels).round(5)\n",
    "coef_ac['overall'] = abs(coef['overall'])\n",
    "coef_ac.sort_values('overall',ascending=False)"
   ]
  },
  {
   "cell_type": "code",
   "execution_count": 65,
   "metadata": {
    "colab": {
     "base_uri": "https://localhost:8080/",
     "height": 34
    },
    "id": "T9I59UXGpYlh",
    "outputId": "05fd5a65-cba0-4ab3-83d6-d06fcaf2e8bf"
   },
   "outputs": [
    {
     "name": "stdout",
     "output_type": "stream",
     "text": [
      "glm prediction progress: |████████████████████████████████████████████████| 100%\n",
      "glm prediction progress: |████████████████████████████████████████████████| 100%\n",
      "glm prediction progress: |████████████████████████████████████████████████| 100%\n"
     ]
    }
   ],
   "source": [
    "# Построение прогнозных значений для обучающей, валидационной и тестовой выборок\n",
    "\n",
    "ind_train_pred = glm_binomial.predict(h2o_train_ind).as_data_frame()\n",
    "ind_valid_pred = glm_binomial.predict(h2o_valid_ind).as_data_frame()\n",
    "ind_test_pred = glm_binomial.predict(h2o_test_ind).as_data_frame()"
   ]
  },
  {
   "cell_type": "code",
   "execution_count": 66,
   "metadata": {},
   "outputs": [],
   "source": [
    "# Сохранение обученной модели\n",
    "\n",
    "model_glm_binomial = h2o.save_model(model=glm_binomial, force=True)"
   ]
  },
  {
   "cell_type": "code",
   "execution_count": null,
   "metadata": {
    "id": "g00U1gQBp_Wq"
   },
   "outputs": [],
   "source": [
    "from sklearn.metrics import accuracy_score, f1_score, confusion_matrix"
   ]
  },
  {
   "cell_type": "code",
   "execution_count": 67,
   "metadata": {
    "colab": {
     "base_uri": "https://localhost:8080/",
     "height": 34
    },
    "id": "oVwiMaWlqRCz",
    "outputId": "7939a9ac-afc3-4249-912f-5b55548a1170"
   },
   "outputs": [
    {
     "name": "stdout",
     "output_type": "stream",
     "text": [
      "\n",
      "Confusion Matrix (Act/Pred) for max f1 @ threshold = 0.09516857581734652: \n"
     ]
    },
    {
     "data": {
      "text/html": [
       "<div>\n",
       "<style scoped>\n",
       "    .dataframe tbody tr th:only-of-type {\n",
       "        vertical-align: middle;\n",
       "    }\n",
       "\n",
       "    .dataframe tbody tr th {\n",
       "        vertical-align: top;\n",
       "    }\n",
       "\n",
       "    .dataframe thead th {\n",
       "        text-align: right;\n",
       "    }\n",
       "</style>\n",
       "<table border=\"1\" class=\"dataframe\">\n",
       "  <thead>\n",
       "    <tr style=\"text-align: right;\">\n",
       "      <th></th>\n",
       "      <th></th>\n",
       "      <th>0</th>\n",
       "      <th>1</th>\n",
       "      <th>Error</th>\n",
       "      <th>Rate</th>\n",
       "    </tr>\n",
       "  </thead>\n",
       "  <tbody>\n",
       "    <tr>\n",
       "      <th>0</th>\n",
       "      <td>0</td>\n",
       "      <td>43220.0</td>\n",
       "      <td>29753.0</td>\n",
       "      <td>0.4077</td>\n",
       "      <td>(29753.0/72973.0)</td>\n",
       "    </tr>\n",
       "    <tr>\n",
       "      <th>1</th>\n",
       "      <td>1</td>\n",
       "      <td>3782.0</td>\n",
       "      <td>3853.0</td>\n",
       "      <td>0.4954</td>\n",
       "      <td>(3782.0/7635.0)</td>\n",
       "    </tr>\n",
       "    <tr>\n",
       "      <th>2</th>\n",
       "      <td>Total</td>\n",
       "      <td>47002.0</td>\n",
       "      <td>33606.0</td>\n",
       "      <td>0.416</td>\n",
       "      <td>(33535.0/80608.0)</td>\n",
       "    </tr>\n",
       "  </tbody>\n",
       "</table>\n",
       "</div>"
      ],
      "text/plain": [
       "                0        1   Error                Rate\n",
       "0      0  43220.0  29753.0  0.4077   (29753.0/72973.0)\n",
       "1      1   3782.0   3853.0  0.4954     (3782.0/7635.0)\n",
       "2  Total  47002.0  33606.0   0.416   (33535.0/80608.0)"
      ]
     },
     "metadata": {},
     "output_type": "display_data"
    },
    {
     "name": "stdout",
     "output_type": "stream",
     "text": [
      "\n",
      "Confusion Matrix (Act/Pred) for max f1 @ threshold = 0.09480046143327198: \n"
     ]
    },
    {
     "data": {
      "text/html": [
       "<div>\n",
       "<style scoped>\n",
       "    .dataframe tbody tr th:only-of-type {\n",
       "        vertical-align: middle;\n",
       "    }\n",
       "\n",
       "    .dataframe tbody tr th {\n",
       "        vertical-align: top;\n",
       "    }\n",
       "\n",
       "    .dataframe thead th {\n",
       "        text-align: right;\n",
       "    }\n",
       "</style>\n",
       "<table border=\"1\" class=\"dataframe\">\n",
       "  <thead>\n",
       "    <tr style=\"text-align: right;\">\n",
       "      <th></th>\n",
       "      <th></th>\n",
       "      <th>0</th>\n",
       "      <th>1</th>\n",
       "      <th>Error</th>\n",
       "      <th>Rate</th>\n",
       "    </tr>\n",
       "  </thead>\n",
       "  <tbody>\n",
       "    <tr>\n",
       "      <th>0</th>\n",
       "      <td>0</td>\n",
       "      <td>9224.0</td>\n",
       "      <td>6440.0</td>\n",
       "      <td>0.4111</td>\n",
       "      <td>(6440.0/15664.0)</td>\n",
       "    </tr>\n",
       "    <tr>\n",
       "      <th>1</th>\n",
       "      <td>1</td>\n",
       "      <td>784.0</td>\n",
       "      <td>825.0</td>\n",
       "      <td>0.4873</td>\n",
       "      <td>(784.0/1609.0)</td>\n",
       "    </tr>\n",
       "    <tr>\n",
       "      <th>2</th>\n",
       "      <td>Total</td>\n",
       "      <td>10008.0</td>\n",
       "      <td>7265.0</td>\n",
       "      <td>0.4182</td>\n",
       "      <td>(7224.0/17273.0)</td>\n",
       "    </tr>\n",
       "  </tbody>\n",
       "</table>\n",
       "</div>"
      ],
      "text/plain": [
       "                0       1   Error               Rate\n",
       "0      0   9224.0  6440.0  0.4111   (6440.0/15664.0)\n",
       "1      1    784.0   825.0  0.4873     (784.0/1609.0)\n",
       "2  Total  10008.0  7265.0  0.4182   (7224.0/17273.0)"
      ]
     },
     "metadata": {},
     "output_type": "display_data"
    },
    {
     "data": {
      "text/plain": [
       "{'train': , 'valid': }"
      ]
     },
     "execution_count": 67,
     "metadata": {},
     "output_type": "execute_result"
    }
   ],
   "source": [
    "# Выведем импортированные выше метрики классификации для обучающей, валидационной и тестовой выборок\n",
    "\n",
    "glm_binomial.confusion_matrix(train=True, valid=True)\n"
   ]
  },
  {
   "cell_type": "code",
   "execution_count": 68,
   "metadata": {},
   "outputs": [
    {
     "data": {
      "text/plain": [
       "[[0.28556212198372344, 0.9052699483922191]]"
      ]
     },
     "execution_count": 68,
     "metadata": {},
     "output_type": "execute_result"
    }
   ],
   "source": [
    "glm_binomial.accuracy()\n"
   ]
  },
  {
   "cell_type": "code",
   "execution_count": null,
   "metadata": {},
   "outputs": [],
   "source": []
  },
  {
   "cell_type": "code",
   "execution_count": null,
   "metadata": {},
   "outputs": [],
   "source": []
  },
  {
   "cell_type": "code",
   "execution_count": null,
   "metadata": {},
   "outputs": [],
   "source": [
    "h2o.cluster().shutdown()"
   ]
  }
 ],
 "metadata": {
  "colab": {
   "collapsed_sections": [
    "7dox3dTJN5JP",
    "oR02DxanOGDk",
    "VpYxkXdrLD01",
    "6qEMtZhcy0nZ",
    "rXdxE61XFNXd",
    "g556ItOFqrlt",
    "idUKi7_RqxHA",
    "hUUC9Vmhf5aB",
    "fKCG1lssMNA7",
    "YttnrY4wMqu3",
    "8nmnj56EM9gK",
    "A84l-r2aIxfK",
    "Xljx8j0-_jXR"
   ],
   "name": "GB Lesson 2 praсtic.ipynb",
   "provenance": []
  },
  "kernelspec": {
   "display_name": "Python 3",
   "language": "python",
   "name": "python3"
  },
  "language_info": {
   "codemirror_mode": {
    "name": "ipython",
    "version": 3
   },
   "file_extension": ".py",
   "mimetype": "text/x-python",
   "name": "python",
   "nbconvert_exporter": "python",
   "pygments_lexer": "ipython3",
   "version": "3.7.6"
  }
 },
 "nbformat": 4,
 "nbformat_minor": 1
}
